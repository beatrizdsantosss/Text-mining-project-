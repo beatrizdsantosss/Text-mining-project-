{
 "cells": [
  {
   "cell_type": "code",
   "execution_count": null,
   "metadata": {},
   "outputs": [],
   "source": []
  },
  {
   "cell_type": "markdown",
   "metadata": {},
   "source": [
    "# Text Mining Project"
   ]
  },
  {
   "cell_type": "markdown",
   "metadata": {},
   "source": [
    "Text Mining project\n"
   ]
  },
  {
   "cell_type": "code",
   "execution_count": 1,
   "metadata": {},
   "outputs": [],
   "source": [
    "#pip install langdetect\n"
   ]
  },
  {
   "cell_type": "code",
   "execution_count": 1,
   "metadata": {},
   "outputs": [],
   "source": [
    "import pandas as pd\n",
    "from langdetect import detect\n",
    "import matplotlib.pyplot as plt\n",
    "import seaborn as sns\n",
    "import re"
   ]
  },
  {
   "cell_type": "code",
   "execution_count": 2,
   "metadata": {},
   "outputs": [],
   "source": [
    "\n",
    "\n",
    "train = pd.read_excel(\"train.xlsx\")\n",
    "train_reviews = pd.read_excel(\"train_reviews.xlsx\")\n",
    "test = pd.read_excel(\"test.xlsx\")\n",
    "test_reviews = pd.read_excel(\"test_reviews.xlsx\")\n",
    "\n"
   ]
  },
  {
   "cell_type": "markdown",
   "metadata": {},
   "source": [
    "## Data exploration"
   ]
  },
  {
   "cell_type": "code",
   "execution_count": 3,
   "metadata": {},
   "outputs": [
    {
     "data": {
      "text/html": [
       "<div>\n",
       "<style scoped>\n",
       "    .dataframe tbody tr th:only-of-type {\n",
       "        vertical-align: middle;\n",
       "    }\n",
       "\n",
       "    .dataframe tbody tr th {\n",
       "        vertical-align: top;\n",
       "    }\n",
       "\n",
       "    .dataframe thead th {\n",
       "        text-align: right;\n",
       "    }\n",
       "</style>\n",
       "<table border=\"1\" class=\"dataframe\">\n",
       "  <thead>\n",
       "    <tr style=\"text-align: right;\">\n",
       "      <th></th>\n",
       "      <th>index</th>\n",
       "      <th>description</th>\n",
       "      <th>host_about</th>\n",
       "      <th>unlisted</th>\n",
       "    </tr>\n",
       "  </thead>\n",
       "  <tbody>\n",
       "    <tr>\n",
       "      <th>0</th>\n",
       "      <td>1</td>\n",
       "      <td>This is a shared mixed room in our hostel, wit...</td>\n",
       "      <td>Alojamento Local Registro: 20835/AL</td>\n",
       "      <td>0</td>\n",
       "    </tr>\n",
       "    <tr>\n",
       "      <th>1</th>\n",
       "      <td>2</td>\n",
       "      <td>O meu espaço fica perto de Parque Eduardo VII,...</td>\n",
       "      <td>I am friendly host, and I will try to always b...</td>\n",
       "      <td>1</td>\n",
       "    </tr>\n",
       "    <tr>\n",
       "      <th>2</th>\n",
       "      <td>3</td>\n",
       "      <td>Trafaria’s House is a cozy and familiar villa ...</td>\n",
       "      <td>I am a social person liking to communicate, re...</td>\n",
       "      <td>1</td>\n",
       "    </tr>\n",
       "    <tr>\n",
       "      <th>3</th>\n",
       "      <td>4</td>\n",
       "      <td>Apartamento Charmoso no Chiado, Entre o Largo ...</td>\n",
       "      <td>Hello!_x000D_\\nI m Portuguese and i love to me...</td>\n",
       "      <td>0</td>\n",
       "    </tr>\n",
       "    <tr>\n",
       "      <th>4</th>\n",
       "      <td>5</td>\n",
       "      <td>Joli appartement  en bordure de mer.&lt;br /&gt; 2 m...</td>\n",
       "      <td>Nous sommes une famille avec deux enfants de 1...</td>\n",
       "      <td>0</td>\n",
       "    </tr>\n",
       "  </tbody>\n",
       "</table>\n",
       "</div>"
      ],
      "text/plain": [
       "   index                                        description  \\\n",
       "0      1  This is a shared mixed room in our hostel, wit...   \n",
       "1      2  O meu espaço fica perto de Parque Eduardo VII,...   \n",
       "2      3  Trafaria’s House is a cozy and familiar villa ...   \n",
       "3      4  Apartamento Charmoso no Chiado, Entre o Largo ...   \n",
       "4      5  Joli appartement  en bordure de mer.<br /> 2 m...   \n",
       "\n",
       "                                          host_about  unlisted  \n",
       "0                Alojamento Local Registro: 20835/AL         0  \n",
       "1  I am friendly host, and I will try to always b...         1  \n",
       "2  I am a social person liking to communicate, re...         1  \n",
       "3  Hello!_x000D_\\nI m Portuguese and i love to me...         0  \n",
       "4  Nous sommes une famille avec deux enfants de 1...         0  "
      ]
     },
     "execution_count": 3,
     "metadata": {},
     "output_type": "execute_result"
    }
   ],
   "source": [
    "train.head()"
   ]
  },
  {
   "cell_type": "code",
   "execution_count": 4,
   "metadata": {},
   "outputs": [
    {
     "data": {
      "text/html": [
       "<div>\n",
       "<style scoped>\n",
       "    .dataframe tbody tr th:only-of-type {\n",
       "        vertical-align: middle;\n",
       "    }\n",
       "\n",
       "    .dataframe tbody tr th {\n",
       "        vertical-align: top;\n",
       "    }\n",
       "\n",
       "    .dataframe thead th {\n",
       "        text-align: right;\n",
       "    }\n",
       "</style>\n",
       "<table border=\"1\" class=\"dataframe\">\n",
       "  <thead>\n",
       "    <tr style=\"text-align: right;\">\n",
       "      <th></th>\n",
       "      <th>index</th>\n",
       "      <th>comments</th>\n",
       "    </tr>\n",
       "  </thead>\n",
       "  <tbody>\n",
       "    <tr>\n",
       "      <th>0</th>\n",
       "      <td>1</td>\n",
       "      <td>this is a very cozy and comfortable house to s...</td>\n",
       "    </tr>\n",
       "    <tr>\n",
       "      <th>1</th>\n",
       "      <td>1</td>\n",
       "      <td>good&lt;br/&gt;</td>\n",
       "    </tr>\n",
       "    <tr>\n",
       "      <th>2</th>\n",
       "      <td>1</td>\n",
       "      <td>My first hostel experience, and all I have to ...</td>\n",
       "    </tr>\n",
       "    <tr>\n",
       "      <th>3</th>\n",
       "      <td>1</td>\n",
       "      <td>Das Hostel war neu und deshalb funktionierte a...</td>\n",
       "    </tr>\n",
       "    <tr>\n",
       "      <th>4</th>\n",
       "      <td>1</td>\n",
       "      <td>It was fine for a dorm, but I think for the pe...</td>\n",
       "    </tr>\n",
       "  </tbody>\n",
       "</table>\n",
       "</div>"
      ],
      "text/plain": [
       "   index                                           comments\n",
       "0      1  this is a very cozy and comfortable house to s...\n",
       "1      1                                          good<br/>\n",
       "2      1  My first hostel experience, and all I have to ...\n",
       "3      1  Das Hostel war neu und deshalb funktionierte a...\n",
       "4      1  It was fine for a dorm, but I think for the pe..."
      ]
     },
     "execution_count": 4,
     "metadata": {},
     "output_type": "execute_result"
    }
   ],
   "source": [
    "train_reviews.head()"
   ]
  },
  {
   "cell_type": "code",
   "execution_count": 5,
   "metadata": {},
   "outputs": [
    {
     "data": {
      "text/html": [
       "<div>\n",
       "<style scoped>\n",
       "    .dataframe tbody tr th:only-of-type {\n",
       "        vertical-align: middle;\n",
       "    }\n",
       "\n",
       "    .dataframe tbody tr th {\n",
       "        vertical-align: top;\n",
       "    }\n",
       "\n",
       "    .dataframe thead th {\n",
       "        text-align: right;\n",
       "    }\n",
       "</style>\n",
       "<table border=\"1\" class=\"dataframe\">\n",
       "  <thead>\n",
       "    <tr style=\"text-align: right;\">\n",
       "      <th></th>\n",
       "      <th>index</th>\n",
       "      <th>description</th>\n",
       "      <th>host_about</th>\n",
       "    </tr>\n",
       "  </thead>\n",
       "  <tbody>\n",
       "    <tr>\n",
       "      <th>0</th>\n",
       "      <td>1</td>\n",
       "      <td>&lt;b&gt;The space&lt;/b&gt;&lt;br /&gt;Apartment located in the...</td>\n",
       "      <td>Gosto de viajar, de conhecer pessoas, gosto de...</td>\n",
       "    </tr>\n",
       "    <tr>\n",
       "      <th>1</th>\n",
       "      <td>2</td>\n",
       "      <td>IMPORTANT: In response to COVID-19, this prope...</td>\n",
       "      <td>We are the be@home Team!\\n\\nYou can count on u...</td>\n",
       "    </tr>\n",
       "    <tr>\n",
       "      <th>2</th>\n",
       "      <td>3</td>\n",
       "      <td>Bright, beautiful, and spacious. This four-bed...</td>\n",
       "      <td>Hi there!\\n\\nWe're GuestReady, a professional ...</td>\n",
       "    </tr>\n",
       "    <tr>\n",
       "      <th>3</th>\n",
       "      <td>4</td>\n",
       "      <td>Charming Apartment Close to the Bay of Cascais...</td>\n",
       "      <td>:)</td>\n",
       "    </tr>\n",
       "    <tr>\n",
       "      <th>4</th>\n",
       "      <td>5</td>\n",
       "      <td>Se procura umas férias perto da praia, casino ...</td>\n",
       "      <td>Bem vindos a Portugal!_x000D_\\nAdoro o meu Paí...</td>\n",
       "    </tr>\n",
       "  </tbody>\n",
       "</table>\n",
       "</div>"
      ],
      "text/plain": [
       "   index                                        description  \\\n",
       "0      1  <b>The space</b><br />Apartment located in the...   \n",
       "1      2  IMPORTANT: In response to COVID-19, this prope...   \n",
       "2      3  Bright, beautiful, and spacious. This four-bed...   \n",
       "3      4  Charming Apartment Close to the Bay of Cascais...   \n",
       "4      5  Se procura umas férias perto da praia, casino ...   \n",
       "\n",
       "                                          host_about  \n",
       "0  Gosto de viajar, de conhecer pessoas, gosto de...  \n",
       "1  We are the be@home Team!\\n\\nYou can count on u...  \n",
       "2  Hi there!\\n\\nWe're GuestReady, a professional ...  \n",
       "3                                                 :)  \n",
       "4  Bem vindos a Portugal!_x000D_\\nAdoro o meu Paí...  "
      ]
     },
     "execution_count": 5,
     "metadata": {},
     "output_type": "execute_result"
    }
   ],
   "source": [
    "test.head()"
   ]
  },
  {
   "cell_type": "code",
   "execution_count": 6,
   "metadata": {},
   "outputs": [
    {
     "data": {
      "text/html": [
       "<div>\n",
       "<style scoped>\n",
       "    .dataframe tbody tr th:only-of-type {\n",
       "        vertical-align: middle;\n",
       "    }\n",
       "\n",
       "    .dataframe tbody tr th {\n",
       "        vertical-align: top;\n",
       "    }\n",
       "\n",
       "    .dataframe thead th {\n",
       "        text-align: right;\n",
       "    }\n",
       "</style>\n",
       "<table border=\"1\" class=\"dataframe\">\n",
       "  <thead>\n",
       "    <tr style=\"text-align: right;\">\n",
       "      <th></th>\n",
       "      <th>index</th>\n",
       "      <th>comments</th>\n",
       "    </tr>\n",
       "  </thead>\n",
       "  <tbody>\n",
       "    <tr>\n",
       "      <th>0</th>\n",
       "      <td>1</td>\n",
       "      <td>Thank you very much Antonio ! All has been per...</td>\n",
       "    </tr>\n",
       "    <tr>\n",
       "      <th>1</th>\n",
       "      <td>1</td>\n",
       "      <td>Very nice appartment in the old town of Lissab...</td>\n",
       "    </tr>\n",
       "    <tr>\n",
       "      <th>2</th>\n",
       "      <td>1</td>\n",
       "      <td>When travelling we're looking for kids friendl...</td>\n",
       "    </tr>\n",
       "    <tr>\n",
       "      <th>3</th>\n",
       "      <td>1</td>\n",
       "      <td>We've been in Lisbon in march 2013 (3 adults a...</td>\n",
       "    </tr>\n",
       "    <tr>\n",
       "      <th>4</th>\n",
       "      <td>1</td>\n",
       "      <td>Our host Antonio was very helpful with informa...</td>\n",
       "    </tr>\n",
       "  </tbody>\n",
       "</table>\n",
       "</div>"
      ],
      "text/plain": [
       "   index                                           comments\n",
       "0      1  Thank you very much Antonio ! All has been per...\n",
       "1      1  Very nice appartment in the old town of Lissab...\n",
       "2      1  When travelling we're looking for kids friendl...\n",
       "3      1  We've been in Lisbon in march 2013 (3 adults a...\n",
       "4      1  Our host Antonio was very helpful with informa..."
      ]
     },
     "execution_count": 6,
     "metadata": {},
     "output_type": "execute_result"
    }
   ],
   "source": [
    "test_reviews.head()"
   ]
  },
  {
   "cell_type": "code",
   "execution_count": 7,
   "metadata": {},
   "outputs": [
    {
     "name": "stdout",
     "output_type": "stream",
     "text": [
      "train shape: (6248, 4)\n",
      "train_reviews shape: (361281, 2)\n",
      "test shape: (695, 3)\n",
      "test_reviews shape: (41866, 2)\n"
     ]
    }
   ],
   "source": [
    "print(\"train shape:\", train.shape)\n",
    "print(\"train_reviews shape:\", train_reviews.shape)\n",
    "print(\"test shape:\", test.shape)\n",
    "print(\"test_reviews shape:\", test_reviews.shape)\n"
   ]
  },
  {
   "cell_type": "markdown",
   "metadata": {},
   "source": [
    "in DATASETS the index repeats, which may indicate that refers to a specific house. We'll change this column to house ID\n"
   ]
  },
  {
   "cell_type": "code",
   "execution_count": 8,
   "metadata": {},
   "outputs": [],
   "source": [
    "train.rename(columns={'index': 'houseID'}, inplace=True)\n",
    "train_reviews.rename(columns={'index': 'houseID'}, inplace=True)\n",
    "test.rename(columns={'index': 'houseID'}, inplace=True)\n",
    "test_reviews.rename(columns={'index': 'houseID'}, inplace=True)\n",
    "\n"
   ]
  },
  {
   "cell_type": "code",
   "execution_count": 9,
   "metadata": {},
   "outputs": [
    {
     "name": "stdout",
     "output_type": "stream",
     "text": [
      "<class 'pandas.core.frame.DataFrame'>\n",
      "RangeIndex: 6248 entries, 0 to 6247\n",
      "Data columns (total 4 columns):\n",
      " #   Column       Non-Null Count  Dtype \n",
      "---  ------       --------------  ----- \n",
      " 0   houseID      6248 non-null   int64 \n",
      " 1   description  6248 non-null   object\n",
      " 2   host_about   6248 non-null   object\n",
      " 3   unlisted     6248 non-null   int64 \n",
      "dtypes: int64(2), object(2)\n",
      "memory usage: 195.4+ KB\n"
     ]
    }
   ],
   "source": [
    "train.info()"
   ]
  },
  {
   "cell_type": "markdown",
   "metadata": {},
   "source": [
    "there's no missing values in any feature"
   ]
  },
  {
   "cell_type": "code",
   "execution_count": 10,
   "metadata": {},
   "outputs": [
    {
     "name": "stdout",
     "output_type": "stream",
     "text": [
      "<class 'pandas.core.frame.DataFrame'>\n",
      "RangeIndex: 361281 entries, 0 to 361280\n",
      "Data columns (total 2 columns):\n",
      " #   Column    Non-Null Count   Dtype \n",
      "---  ------    --------------   ----- \n",
      " 0   houseID   361281 non-null  int64 \n",
      " 1   comments  361281 non-null  object\n",
      "dtypes: int64(1), object(1)\n",
      "memory usage: 5.5+ MB\n"
     ]
    }
   ],
   "source": [
    "train_reviews.info()"
   ]
  },
  {
   "cell_type": "code",
   "execution_count": 11,
   "metadata": {},
   "outputs": [
    {
     "name": "stdout",
     "output_type": "stream",
     "text": [
      "<class 'pandas.core.frame.DataFrame'>\n",
      "RangeIndex: 695 entries, 0 to 694\n",
      "Data columns (total 3 columns):\n",
      " #   Column       Non-Null Count  Dtype \n",
      "---  ------       --------------  ----- \n",
      " 0   houseID      695 non-null    int64 \n",
      " 1   description  695 non-null    object\n",
      " 2   host_about   695 non-null    object\n",
      "dtypes: int64(1), object(2)\n",
      "memory usage: 16.4+ KB\n"
     ]
    }
   ],
   "source": [
    "test.info()"
   ]
  },
  {
   "cell_type": "code",
   "execution_count": 12,
   "metadata": {},
   "outputs": [
    {
     "name": "stdout",
     "output_type": "stream",
     "text": [
      "<class 'pandas.core.frame.DataFrame'>\n",
      "RangeIndex: 41866 entries, 0 to 41865\n",
      "Data columns (total 2 columns):\n",
      " #   Column    Non-Null Count  Dtype \n",
      "---  ------    --------------  ----- \n",
      " 0   houseID   41866 non-null  int64 \n",
      " 1   comments  41866 non-null  object\n",
      "dtypes: int64(1), object(1)\n",
      "memory usage: 654.3+ KB\n"
     ]
    }
   ],
   "source": [
    "test_reviews.info()"
   ]
  },
  {
   "cell_type": "code",
   "execution_count": 13,
   "metadata": {},
   "outputs": [
    {
     "data": {
      "text/html": [
       "<div>\n",
       "<style scoped>\n",
       "    .dataframe tbody tr th:only-of-type {\n",
       "        vertical-align: middle;\n",
       "    }\n",
       "\n",
       "    .dataframe tbody tr th {\n",
       "        vertical-align: top;\n",
       "    }\n",
       "\n",
       "    .dataframe thead th {\n",
       "        text-align: right;\n",
       "    }\n",
       "</style>\n",
       "<table border=\"1\" class=\"dataframe\">\n",
       "  <thead>\n",
       "    <tr style=\"text-align: right;\">\n",
       "      <th></th>\n",
       "      <th>houseID</th>\n",
       "      <th>description</th>\n",
       "      <th>host_about</th>\n",
       "      <th>unlisted</th>\n",
       "    </tr>\n",
       "  </thead>\n",
       "  <tbody>\n",
       "    <tr>\n",
       "      <th>0</th>\n",
       "      <td>1</td>\n",
       "      <td>This is a shared mixed room in our hostel, wit...</td>\n",
       "      <td>Alojamento Local Registro: 20835/AL</td>\n",
       "      <td>0</td>\n",
       "    </tr>\n",
       "    <tr>\n",
       "      <th>1</th>\n",
       "      <td>2</td>\n",
       "      <td>O meu espaço fica perto de Parque Eduardo VII,...</td>\n",
       "      <td>I am friendly host, and I will try to always b...</td>\n",
       "      <td>1</td>\n",
       "    </tr>\n",
       "    <tr>\n",
       "      <th>2</th>\n",
       "      <td>3</td>\n",
       "      <td>Trafaria’s House is a cozy and familiar villa ...</td>\n",
       "      <td>I am a social person liking to communicate, re...</td>\n",
       "      <td>1</td>\n",
       "    </tr>\n",
       "    <tr>\n",
       "      <th>3</th>\n",
       "      <td>4</td>\n",
       "      <td>Apartamento Charmoso no Chiado, Entre o Largo ...</td>\n",
       "      <td>Hello!_x000D_\\nI m Portuguese and i love to me...</td>\n",
       "      <td>0</td>\n",
       "    </tr>\n",
       "    <tr>\n",
       "      <th>4</th>\n",
       "      <td>5</td>\n",
       "      <td>Joli appartement  en bordure de mer.&lt;br /&gt; 2 m...</td>\n",
       "      <td>Nous sommes une famille avec deux enfants de 1...</td>\n",
       "      <td>0</td>\n",
       "    </tr>\n",
       "    <tr>\n",
       "      <th>...</th>\n",
       "      <td>...</td>\n",
       "      <td>...</td>\n",
       "      <td>...</td>\n",
       "      <td>...</td>\n",
       "    </tr>\n",
       "    <tr>\n",
       "      <th>6243</th>\n",
       "      <td>6244</td>\n",
       "      <td>Studio 15 is a new, very well decorated and co...</td>\n",
       "      <td>I'm a Brand Manager from Lisbon in Portugal bu...</td>\n",
       "      <td>0</td>\n",
       "    </tr>\n",
       "    <tr>\n",
       "      <th>6244</th>\n",
       "      <td>6245</td>\n",
       "      <td>Lisbon meets a cosmopolitan industrial one-bed...</td>\n",
       "      <td>Home is where feelings are visitors. How do we...</td>\n",
       "      <td>0</td>\n",
       "    </tr>\n",
       "    <tr>\n",
       "      <th>6245</th>\n",
       "      <td>6246</td>\n",
       "      <td>&lt;b&gt;License number&lt;/b&gt;&lt;br /&gt;Exempt</td>\n",
       "      <td>I am a travel agent passionate by cultures. \\n...</td>\n",
       "      <td>1</td>\n",
       "    </tr>\n",
       "    <tr>\n",
       "      <th>6246</th>\n",
       "      <td>6247</td>\n",
       "      <td>Campo Pequeno Prestige is a classy and top qua...</td>\n",
       "      <td>Família_x000D_\\nPortugal_x000D_\\nGavião_x000D_...</td>\n",
       "      <td>0</td>\n",
       "    </tr>\n",
       "    <tr>\n",
       "      <th>6247</th>\n",
       "      <td>6248</td>\n",
       "      <td>These apartments are very well located in a go...</td>\n",
       "      <td>A base da minha vida é a minha família e a min...</td>\n",
       "      <td>0</td>\n",
       "    </tr>\n",
       "  </tbody>\n",
       "</table>\n",
       "<p>6248 rows × 4 columns</p>\n",
       "</div>"
      ],
      "text/plain": [
       "      houseID                                        description  \\\n",
       "0           1  This is a shared mixed room in our hostel, wit...   \n",
       "1           2  O meu espaço fica perto de Parque Eduardo VII,...   \n",
       "2           3  Trafaria’s House is a cozy and familiar villa ...   \n",
       "3           4  Apartamento Charmoso no Chiado, Entre o Largo ...   \n",
       "4           5  Joli appartement  en bordure de mer.<br /> 2 m...   \n",
       "...       ...                                                ...   \n",
       "6243     6244  Studio 15 is a new, very well decorated and co...   \n",
       "6244     6245  Lisbon meets a cosmopolitan industrial one-bed...   \n",
       "6245     6246                  <b>License number</b><br />Exempt   \n",
       "6246     6247  Campo Pequeno Prestige is a classy and top qua...   \n",
       "6247     6248  These apartments are very well located in a go...   \n",
       "\n",
       "                                             host_about  unlisted  \n",
       "0                   Alojamento Local Registro: 20835/AL         0  \n",
       "1     I am friendly host, and I will try to always b...         1  \n",
       "2     I am a social person liking to communicate, re...         1  \n",
       "3     Hello!_x000D_\\nI m Portuguese and i love to me...         0  \n",
       "4     Nous sommes une famille avec deux enfants de 1...         0  \n",
       "...                                                 ...       ...  \n",
       "6243  I'm a Brand Manager from Lisbon in Portugal bu...         0  \n",
       "6244  Home is where feelings are visitors. How do we...         0  \n",
       "6245  I am a travel agent passionate by cultures. \\n...         1  \n",
       "6246  Família_x000D_\\nPortugal_x000D_\\nGavião_x000D_...         0  \n",
       "6247  A base da minha vida é a minha família e a min...         0  \n",
       "\n",
       "[6248 rows x 4 columns]"
      ]
     },
     "execution_count": 13,
     "metadata": {},
     "output_type": "execute_result"
    }
   ],
   "source": [
    "train"
   ]
  },
  {
   "cell_type": "code",
   "execution_count": 14,
   "metadata": {},
   "outputs": [
    {
     "data": {
      "text/html": [
       "<div>\n",
       "<style scoped>\n",
       "    .dataframe tbody tr th:only-of-type {\n",
       "        vertical-align: middle;\n",
       "    }\n",
       "\n",
       "    .dataframe tbody tr th {\n",
       "        vertical-align: top;\n",
       "    }\n",
       "\n",
       "    .dataframe thead th {\n",
       "        text-align: right;\n",
       "    }\n",
       "</style>\n",
       "<table border=\"1\" class=\"dataframe\">\n",
       "  <thead>\n",
       "    <tr style=\"text-align: right;\">\n",
       "      <th></th>\n",
       "      <th>houseID</th>\n",
       "      <th>comments</th>\n",
       "    </tr>\n",
       "  </thead>\n",
       "  <tbody>\n",
       "    <tr>\n",
       "      <th>0</th>\n",
       "      <td>1</td>\n",
       "      <td>this is a very cozy and comfortable house to s...</td>\n",
       "    </tr>\n",
       "    <tr>\n",
       "      <th>1</th>\n",
       "      <td>1</td>\n",
       "      <td>good&lt;br/&gt;</td>\n",
       "    </tr>\n",
       "    <tr>\n",
       "      <th>2</th>\n",
       "      <td>1</td>\n",
       "      <td>My first hostel experience, and all I have to ...</td>\n",
       "    </tr>\n",
       "    <tr>\n",
       "      <th>3</th>\n",
       "      <td>1</td>\n",
       "      <td>Das Hostel war neu und deshalb funktionierte a...</td>\n",
       "    </tr>\n",
       "    <tr>\n",
       "      <th>4</th>\n",
       "      <td>1</td>\n",
       "      <td>It was fine for a dorm, but I think for the pe...</td>\n",
       "    </tr>\n",
       "    <tr>\n",
       "      <th>...</th>\n",
       "      <td>...</td>\n",
       "      <td>...</td>\n",
       "    </tr>\n",
       "    <tr>\n",
       "      <th>361276</th>\n",
       "      <td>6248</td>\n",
       "      <td>The location was perfect. The apartment was ve...</td>\n",
       "    </tr>\n",
       "    <tr>\n",
       "      <th>361277</th>\n",
       "      <td>6248</td>\n",
       "      <td>Ana's place is exactly as described and even b...</td>\n",
       "    </tr>\n",
       "    <tr>\n",
       "      <th>361278</th>\n",
       "      <td>6248</td>\n",
       "      <td>A Ana foi muito atenciosa e preocupou se com o...</td>\n",
       "    </tr>\n",
       "    <tr>\n",
       "      <th>361279</th>\n",
       "      <td>6248</td>\n",
       "      <td>No wifi nor answer. &lt;br/&gt;The wifi can’t be con...</td>\n",
       "    </tr>\n",
       "    <tr>\n",
       "      <th>361280</th>\n",
       "      <td>6248</td>\n",
       "      <td>O espaço é ótimo, a D. Ana foi maravilhosa e f...</td>\n",
       "    </tr>\n",
       "  </tbody>\n",
       "</table>\n",
       "<p>361281 rows × 2 columns</p>\n",
       "</div>"
      ],
      "text/plain": [
       "        houseID                                           comments\n",
       "0             1  this is a very cozy and comfortable house to s...\n",
       "1             1                                          good<br/>\n",
       "2             1  My first hostel experience, and all I have to ...\n",
       "3             1  Das Hostel war neu und deshalb funktionierte a...\n",
       "4             1  It was fine for a dorm, but I think for the pe...\n",
       "...         ...                                                ...\n",
       "361276     6248  The location was perfect. The apartment was ve...\n",
       "361277     6248  Ana's place is exactly as described and even b...\n",
       "361278     6248  A Ana foi muito atenciosa e preocupou se com o...\n",
       "361279     6248  No wifi nor answer. <br/>The wifi can’t be con...\n",
       "361280     6248  O espaço é ótimo, a D. Ana foi maravilhosa e f...\n",
       "\n",
       "[361281 rows x 2 columns]"
      ]
     },
     "execution_count": 14,
     "metadata": {},
     "output_type": "execute_result"
    }
   ],
   "source": [
    "train_reviews"
   ]
  },
  {
   "cell_type": "code",
   "execution_count": 15,
   "metadata": {},
   "outputs": [],
   "source": [
    "train = train.copy()\n",
    "train_reviews = train_reviews.copy()\n",
    "test = test.copy()\n",
    "test_reviews = test_reviews.copy()"
   ]
  },
  {
   "cell_type": "code",
   "execution_count": 16,
   "metadata": {},
   "outputs": [
    {
     "data": {
      "text/plain": [
       "0"
      ]
     },
     "execution_count": 16,
     "metadata": {},
     "output_type": "execute_result"
    }
   ],
   "source": [
    "train.duplicated().sum()"
   ]
  },
  {
   "cell_type": "code",
   "execution_count": 17,
   "metadata": {},
   "outputs": [
    {
     "data": {
      "text/plain": [
       "142"
      ]
     },
     "execution_count": 17,
     "metadata": {},
     "output_type": "execute_result"
    }
   ],
   "source": [
    "train_reviews.duplicated().sum()"
   ]
  },
  {
   "cell_type": "code",
   "execution_count": 18,
   "metadata": {},
   "outputs": [
    {
     "name": "stdout",
     "output_type": "stream",
     "text": [
      "        houseID                                           comments\n",
      "3248         61                                         Excelente!\n",
      "3254         61                                         Excelente!\n",
      "4225         70                              Everything was great!\n",
      "4263         70                              Everything was great!\n",
      "6584        144  Sofia is an incredible host, and made us feel ...\n",
      "...         ...                                                ...\n",
      "353703     6106                                              Super\n",
      "358567     6182                                    Great location!\n",
      "358568     6182                                    Great location!\n",
      "359054     6202                                        Great place\n",
      "359076     6202                                        Great place\n",
      "\n",
      "[273 rows x 2 columns]\n"
     ]
    }
   ],
   "source": [
    "duplicates_train_reviews =train_reviews[train_reviews.duplicated(keep=False)]\n",
    "print(duplicates_train_reviews)\n"
   ]
  },
  {
   "cell_type": "code",
   "execution_count": 19,
   "metadata": {},
   "outputs": [
    {
     "data": {
      "text/plain": [
       "0"
      ]
     },
     "execution_count": 19,
     "metadata": {},
     "output_type": "execute_result"
    }
   ],
   "source": [
    "test.duplicated().sum()"
   ]
  },
  {
   "cell_type": "code",
   "execution_count": 20,
   "metadata": {},
   "outputs": [
    {
     "data": {
      "text/plain": [
       "15"
      ]
     },
     "execution_count": 20,
     "metadata": {},
     "output_type": "execute_result"
    }
   ],
   "source": [
    "test_reviews.duplicated().sum()"
   ]
  },
  {
   "cell_type": "code",
   "execution_count": 21,
   "metadata": {},
   "outputs": [
    {
     "name": "stdout",
     "output_type": "stream",
     "text": [
      "       houseID                                           comments\n",
      "1622        42                                        Great place\n",
      "1645        42                                        Great place\n",
      "8862       155                                               Good\n",
      "8884       155                                               Good\n",
      "11302      178                                       Great place!\n",
      "11416      178                                    Great location!\n",
      "11445      178                                    Great location!\n",
      "11454      178                                       Great place!\n",
      "11631      179                                                  .\n",
      "11829      179                                                  .\n",
      "16030      246  We had a nice stay and friendly contacts. Than...\n",
      "16031      246  We had a nice stay and friendly contacts. Than...\n",
      "16685      255                                                  .\n",
      "16783      255                                                  .\n",
      "18846      304                                                  .\n",
      "18856      304                                                  .\n",
      "23793      393                                    Great location!\n",
      "23799      393                                    Great location!\n",
      "30213      480                                                  .\n",
      "30270      480                                                  .\n",
      "32629      525                                                  .\n",
      "32650      525                                                  .\n",
      "33727      540                                    Great location!\n",
      "33823      540                                    Great location!\n",
      "34072      549                                                  A\n",
      "34116      549                                                  A\n",
      "36946      608                                                  .\n",
      "37051      608                                                  .\n",
      "41664      692                                     Great location\n",
      "41703      692                                     Great location\n"
     ]
    }
   ],
   "source": [
    "duplicates_test_reviews =test_reviews[test_reviews.duplicated(keep=False)]\n",
    "print(duplicates_test_reviews)"
   ]
  },
  {
   "cell_type": "code",
   "execution_count": 22,
   "metadata": {
    "scrolled": true
   },
   "outputs": [
    {
     "data": {
      "text/plain": [
       "houseID        0\n",
       "description    0\n",
       "host_about     0\n",
       "unlisted       0\n",
       "dtype: int64"
      ]
     },
     "execution_count": 22,
     "metadata": {},
     "output_type": "execute_result"
    }
   ],
   "source": [
    "train.isna().sum()\n"
   ]
  },
  {
   "cell_type": "code",
   "execution_count": 23,
   "metadata": {},
   "outputs": [
    {
     "data": {
      "text/plain": [
       "houseID     0\n",
       "comments    0\n",
       "dtype: int64"
      ]
     },
     "execution_count": 23,
     "metadata": {},
     "output_type": "execute_result"
    }
   ],
   "source": [
    "train_reviews.isna().sum()"
   ]
  },
  {
   "cell_type": "code",
   "execution_count": 24,
   "metadata": {},
   "outputs": [
    {
     "data": {
      "text/plain": [
       "houseID        0\n",
       "description    0\n",
       "host_about     0\n",
       "dtype: int64"
      ]
     },
     "execution_count": 24,
     "metadata": {},
     "output_type": "execute_result"
    }
   ],
   "source": [
    "test.isna().sum()"
   ]
  },
  {
   "cell_type": "code",
   "execution_count": 25,
   "metadata": {},
   "outputs": [
    {
     "data": {
      "text/plain": [
       "houseID     0\n",
       "comments    0\n",
       "dtype: int64"
      ]
     },
     "execution_count": 25,
     "metadata": {},
     "output_type": "execute_result"
    }
   ],
   "source": [
    "test_reviews.isna().sum()"
   ]
  },
  {
   "cell_type": "code",
   "execution_count": 26,
   "metadata": {},
   "outputs": [
    {
     "data": {
      "text/html": [
       "<div>\n",
       "<style scoped>\n",
       "    .dataframe tbody tr th:only-of-type {\n",
       "        vertical-align: middle;\n",
       "    }\n",
       "\n",
       "    .dataframe tbody tr th {\n",
       "        vertical-align: top;\n",
       "    }\n",
       "\n",
       "    .dataframe thead th {\n",
       "        text-align: right;\n",
       "    }\n",
       "</style>\n",
       "<table border=\"1\" class=\"dataframe\">\n",
       "  <thead>\n",
       "    <tr style=\"text-align: right;\">\n",
       "      <th></th>\n",
       "      <th>count</th>\n",
       "      <th>mean</th>\n",
       "      <th>std</th>\n",
       "      <th>min</th>\n",
       "      <th>25%</th>\n",
       "      <th>50%</th>\n",
       "      <th>75%</th>\n",
       "      <th>max</th>\n",
       "    </tr>\n",
       "  </thead>\n",
       "  <tbody>\n",
       "    <tr>\n",
       "      <th>houseID</th>\n",
       "      <td>6248.0</td>\n",
       "      <td>3124.500000</td>\n",
       "      <td>1803.786573</td>\n",
       "      <td>1.0</td>\n",
       "      <td>1562.75</td>\n",
       "      <td>3124.5</td>\n",
       "      <td>4686.25</td>\n",
       "      <td>6248.0</td>\n",
       "    </tr>\n",
       "    <tr>\n",
       "      <th>unlisted</th>\n",
       "      <td>6248.0</td>\n",
       "      <td>0.273367</td>\n",
       "      <td>0.445724</td>\n",
       "      <td>0.0</td>\n",
       "      <td>0.00</td>\n",
       "      <td>0.0</td>\n",
       "      <td>1.00</td>\n",
       "      <td>1.0</td>\n",
       "    </tr>\n",
       "  </tbody>\n",
       "</table>\n",
       "</div>"
      ],
      "text/plain": [
       "           count         mean          std  min      25%     50%      75%  \\\n",
       "houseID   6248.0  3124.500000  1803.786573  1.0  1562.75  3124.5  4686.25   \n",
       "unlisted  6248.0     0.273367     0.445724  0.0     0.00     0.0     1.00   \n",
       "\n",
       "             max  \n",
       "houseID   6248.0  \n",
       "unlisted     1.0  "
      ]
     },
     "execution_count": 26,
     "metadata": {},
     "output_type": "execute_result"
    }
   ],
   "source": [
    "train.describe().T"
   ]
  },
  {
   "cell_type": "code",
   "execution_count": 27,
   "metadata": {},
   "outputs": [
    {
     "data": {
      "text/html": [
       "<div>\n",
       "<style scoped>\n",
       "    .dataframe tbody tr th:only-of-type {\n",
       "        vertical-align: middle;\n",
       "    }\n",
       "\n",
       "    .dataframe tbody tr th {\n",
       "        vertical-align: top;\n",
       "    }\n",
       "\n",
       "    .dataframe thead th {\n",
       "        text-align: right;\n",
       "    }\n",
       "</style>\n",
       "<table border=\"1\" class=\"dataframe\">\n",
       "  <thead>\n",
       "    <tr style=\"text-align: right;\">\n",
       "      <th></th>\n",
       "      <th>houseID</th>\n",
       "      <th>description</th>\n",
       "      <th>host_about</th>\n",
       "      <th>unlisted</th>\n",
       "      <th>language</th>\n",
       "    </tr>\n",
       "  </thead>\n",
       "  <tbody>\n",
       "    <tr>\n",
       "      <th>0</th>\n",
       "      <td>1</td>\n",
       "      <td>This is a shared mixed room in our hostel, wit...</td>\n",
       "      <td>Alojamento Local Registro: 20835/AL</td>\n",
       "      <td>0</td>\n",
       "      <td>en</td>\n",
       "    </tr>\n",
       "    <tr>\n",
       "      <th>1</th>\n",
       "      <td>2</td>\n",
       "      <td>O meu espaço fica perto de Parque Eduardo VII,...</td>\n",
       "      <td>I am friendly host, and I will try to always b...</td>\n",
       "      <td>1</td>\n",
       "      <td>pt</td>\n",
       "    </tr>\n",
       "    <tr>\n",
       "      <th>2</th>\n",
       "      <td>3</td>\n",
       "      <td>Trafaria’s House is a cozy and familiar villa ...</td>\n",
       "      <td>I am a social person liking to communicate, re...</td>\n",
       "      <td>1</td>\n",
       "      <td>en</td>\n",
       "    </tr>\n",
       "    <tr>\n",
       "      <th>3</th>\n",
       "      <td>4</td>\n",
       "      <td>Apartamento Charmoso no Chiado, Entre o Largo ...</td>\n",
       "      <td>Hello!_x000D_\\nI m Portuguese and i love to me...</td>\n",
       "      <td>0</td>\n",
       "      <td>pt</td>\n",
       "    </tr>\n",
       "    <tr>\n",
       "      <th>4</th>\n",
       "      <td>5</td>\n",
       "      <td>Joli appartement  en bordure de mer.&lt;br /&gt; 2 m...</td>\n",
       "      <td>Nous sommes une famille avec deux enfants de 1...</td>\n",
       "      <td>0</td>\n",
       "      <td>fr</td>\n",
       "    </tr>\n",
       "  </tbody>\n",
       "</table>\n",
       "</div>"
      ],
      "text/plain": [
       "   houseID                                        description  \\\n",
       "0        1  This is a shared mixed room in our hostel, wit...   \n",
       "1        2  O meu espaço fica perto de Parque Eduardo VII,...   \n",
       "2        3  Trafaria’s House is a cozy and familiar villa ...   \n",
       "3        4  Apartamento Charmoso no Chiado, Entre o Largo ...   \n",
       "4        5  Joli appartement  en bordure de mer.<br /> 2 m...   \n",
       "\n",
       "                                          host_about  unlisted language  \n",
       "0                Alojamento Local Registro: 20835/AL         0       en  \n",
       "1  I am friendly host, and I will try to always b...         1       pt  \n",
       "2  I am a social person liking to communicate, re...         1       en  \n",
       "3  Hello!_x000D_\\nI m Portuguese and i love to me...         0       pt  \n",
       "4  Nous sommes une famille avec deux enfants de 1...         0       fr  "
      ]
     },
     "execution_count": 27,
     "metadata": {},
     "output_type": "execute_result"
    }
   ],
   "source": [
    "def detect_language(text):\n",
    "    try:\n",
    "        return detect(text)\n",
    "    except:\n",
    "        return \"Unknown\"\n",
    "\n",
    "train[\"language\"] = train[\"description\"].apply(detect_language)\n",
    "train.head()"
   ]
  },
  {
   "cell_type": "code",
   "execution_count": 28,
   "metadata": {},
   "outputs": [
    {
     "data": {
      "image/png": "[encoded data removed]",
      "text/plain": [
       "<Figure size 720x432 with 1 Axes>"
      ]
     },
     "metadata": {
      "needs_background": "light"
     },
     "output_type": "display_data"
    }
   ],
   "source": [
    "language_counts = train[\"language\"].value_counts()\n",
    "\n",
    "plt.figure(figsize=(10, 6))\n",
    "sns.barplot(x=language_counts.index, y=language_counts.values, palette=\"viridis\")\n",
    "plt.title(\"Language Distribution\")\n",
    "plt.xlabel(\"Language\")\n",
    "plt.ylabel(\"Count\")\n",
    "plt.xticks(rotation=45)\n",
    "plt.show()"
   ]
  },
  {
   "cell_type": "code",
   "execution_count": 29,
   "metadata": {},
   "outputs": [
    {
     "data": {
      "text/plain": [
       "array(['en', 'pt', 'fr', 'es', 'de', 'da', 'no', 'sv', 'it', 'ca',\n",
       "       'zh-cn', 'nl'], dtype=object)"
      ]
     },
     "execution_count": 29,
     "metadata": {},
     "output_type": "execute_result"
    }
   ],
   "source": [
    "train[\"language\"].unique()"
   ]
  },
  {
   "cell_type": "markdown",
   "metadata": {},
   "source": [
    "'en': English \n",
    "'pt': Portuguese\n",
    "'fr': French\n",
    "'es': Spanish\n",
    "'de': German\n",
    "'da': Danish\n",
    "'no': Norwegian\n",
    "'sv': Swedish\n",
    "'it': Italian\n",
    "'ca': Catalan\n",
    "'zh-cn': Chinese (Simplified)\n",
    "'nl': Dutch"
   ]
  },
  {
   "cell_type": "code",
   "execution_count": 30,
   "metadata": {},
   "outputs": [
    {
     "data": {
      "text/html": [
       "<div>\n",
       "<style scoped>\n",
       "    .dataframe tbody tr th:only-of-type {\n",
       "        vertical-align: middle;\n",
       "    }\n",
       "\n",
       "    .dataframe tbody tr th {\n",
       "        vertical-align: top;\n",
       "    }\n",
       "\n",
       "    .dataframe thead th {\n",
       "        text-align: right;\n",
       "    }\n",
       "</style>\n",
       "<table border=\"1\" class=\"dataframe\">\n",
       "  <thead>\n",
       "    <tr style=\"text-align: right;\">\n",
       "      <th></th>\n",
       "      <th>houseID</th>\n",
       "      <th>description</th>\n",
       "      <th>host_about</th>\n",
       "      <th>language</th>\n",
       "    </tr>\n",
       "  </thead>\n",
       "  <tbody>\n",
       "    <tr>\n",
       "      <th>0</th>\n",
       "      <td>1</td>\n",
       "      <td>&lt;b&gt;The space&lt;/b&gt;&lt;br /&gt;Apartment located in the...</td>\n",
       "      <td>Gosto de viajar, de conhecer pessoas, gosto de...</td>\n",
       "      <td>en</td>\n",
       "    </tr>\n",
       "    <tr>\n",
       "      <th>1</th>\n",
       "      <td>2</td>\n",
       "      <td>IMPORTANT: In response to COVID-19, this prope...</td>\n",
       "      <td>We are the be@home Team!\\n\\nYou can count on u...</td>\n",
       "      <td>en</td>\n",
       "    </tr>\n",
       "    <tr>\n",
       "      <th>2</th>\n",
       "      <td>3</td>\n",
       "      <td>Bright, beautiful, and spacious. This four-bed...</td>\n",
       "      <td>Hi there!\\n\\nWe're GuestReady, a professional ...</td>\n",
       "      <td>en</td>\n",
       "    </tr>\n",
       "    <tr>\n",
       "      <th>3</th>\n",
       "      <td>4</td>\n",
       "      <td>Charming Apartment Close to the Bay of Cascais...</td>\n",
       "      <td>:)</td>\n",
       "      <td>en</td>\n",
       "    </tr>\n",
       "    <tr>\n",
       "      <th>4</th>\n",
       "      <td>5</td>\n",
       "      <td>Se procura umas férias perto da praia, casino ...</td>\n",
       "      <td>Bem vindos a Portugal!_x000D_\\nAdoro o meu Paí...</td>\n",
       "      <td>pt</td>\n",
       "    </tr>\n",
       "  </tbody>\n",
       "</table>\n",
       "</div>"
      ],
      "text/plain": [
       "   houseID                                        description  \\\n",
       "0        1  <b>The space</b><br />Apartment located in the...   \n",
       "1        2  IMPORTANT: In response to COVID-19, this prope...   \n",
       "2        3  Bright, beautiful, and spacious. This four-bed...   \n",
       "3        4  Charming Apartment Close to the Bay of Cascais...   \n",
       "4        5  Se procura umas férias perto da praia, casino ...   \n",
       "\n",
       "                                          host_about language  \n",
       "0  Gosto de viajar, de conhecer pessoas, gosto de...       en  \n",
       "1  We are the be@home Team!\\n\\nYou can count on u...       en  \n",
       "2  Hi there!\\n\\nWe're GuestReady, a professional ...       en  \n",
       "3                                                 :)       en  \n",
       "4  Bem vindos a Portugal!_x000D_\\nAdoro o meu Paí...       pt  "
      ]
     },
     "execution_count": 30,
     "metadata": {},
     "output_type": "execute_result"
    }
   ],
   "source": [
    "def detect_language(text):\n",
    "    try:\n",
    "        return detect(text)\n",
    "    except:\n",
    "        return \"Unknown\"\n",
    "\n",
    "test[\"language\"] = test[\"description\"].apply(detect_language)\n",
    "test.head()"
   ]
  },
  {
   "cell_type": "code",
   "execution_count": 31,
   "metadata": {},
   "outputs": [
    {
     "data": {
      "image/png": "[encoded data removed]",
      "text/plain": [
       "<Figure size 720x432 with 1 Axes>"
      ]
     },
     "metadata": {
      "needs_background": "light"
     },
     "output_type": "display_data"
    }
   ],
   "source": [
    "language_counts_test = test[\"language\"].value_counts()\n",
    "\n",
    "plt.figure(figsize=(10, 6))\n",
    "sns.barplot(x=language_counts_test.index, y=language_counts_test.values, palette=\"viridis\")\n",
    "plt.title(\"Language Distribution\")\n",
    "plt.xlabel(\"Language\")\n",
    "plt.ylabel(\"Count\")\n",
    "plt.xticks(rotation=45)\n",
    "plt.show()"
   ]
  },
  {
   "cell_type": "code",
   "execution_count": 32,
   "metadata": {},
   "outputs": [
    {
     "data": {
      "text/plain": [
       "array(['en', 'pt', 'fr', 'de', 'da', 'es', 'no', 'ca'], dtype=object)"
      ]
     },
     "execution_count": 32,
     "metadata": {},
     "output_type": "execute_result"
    }
   ],
   "source": [
    "test[\"language\"].unique()"
   ]
  },
  {
   "cell_type": "code",
   "execution_count": 33,
   "metadata": {},
   "outputs": [
    {
     "data": {
      "image/png": "[encoded data removed]",
      "text/plain": [
       "<Figure size 576x576 with 1 Axes>"
      ]
     },
     "metadata": {},
     "output_type": "display_data"
    }
   ],
   "source": [
    "unlisted_counts = train['unlisted'].value_counts()\n",
    "\n",
    "# Plotting the pie chart for the 'unlisted' column\n",
    "plt.figure(figsize=(8, 8))\n",
    "plt.pie(unlisted_counts, labels=unlisted_counts.index, autopct='%1.1f%%', startangle=140, colors=['skyblue', 'lightcoral'])\n",
    "plt.title('Distribution of Listed vs. Unlisted')\n",
    "plt.axis('equal')  \n",
    "plt.show()"
   ]
  },
  {
   "cell_type": "code",
   "execution_count": 34,
   "metadata": {},
   "outputs": [
    {
     "ename": "ValueError",
     "evalue": "Only supported for TrueType fonts",
     "output_type": "error",
     "traceback": [
      "\u001b[1;31m---------------------------------------------------------------------------\u001b[0m",
      "\u001b[1;31mValueError\u001b[0m                                Traceback (most recent call last)",
      "\u001b[1;32m~\\AppData\\Local\\Temp/ipykernel_21212/520859173.py\u001b[0m in \u001b[0;36m<module>\u001b[1;34m\u001b[0m\n\u001b[0;32m      7\u001b[0m \u001b[1;33m\u001b[0m\u001b[0m\n\u001b[0;32m      8\u001b[0m \u001b[1;31m# Create WordCloud object\u001b[0m\u001b[1;33m\u001b[0m\u001b[1;33m\u001b[0m\u001b[0m\n\u001b[1;32m----> 9\u001b[1;33m \u001b[0mwordcloud\u001b[0m \u001b[1;33m=\u001b[0m \u001b[0mWordCloud\u001b[0m\u001b[1;33m(\u001b[0m\u001b[0mwidth\u001b[0m\u001b[1;33m=\u001b[0m\u001b[1;36m800\u001b[0m\u001b[1;33m,\u001b[0m \u001b[0mheight\u001b[0m\u001b[1;33m=\u001b[0m\u001b[1;36m400\u001b[0m\u001b[1;33m,\u001b[0m \u001b[0mbackground_color\u001b[0m\u001b[1;33m=\u001b[0m\u001b[1;34m\"white\"\u001b[0m\u001b[1;33m)\u001b[0m\u001b[1;33m.\u001b[0m\u001b[0mgenerate\u001b[0m\u001b[1;33m(\u001b[0m\u001b[0mall_reviews\u001b[0m\u001b[1;33m)\u001b[0m\u001b[1;33m\u001b[0m\u001b[1;33m\u001b[0m\u001b[0m\n\u001b[0m\u001b[0;32m     10\u001b[0m \u001b[1;33m\u001b[0m\u001b[0m\n\u001b[0;32m     11\u001b[0m \u001b[1;31m# Plotting the word cloud\u001b[0m\u001b[1;33m\u001b[0m\u001b[1;33m\u001b[0m\u001b[0m\n",
      "\u001b[1;32m~\\anaconda3\\lib\\site-packages\\wordcloud\\wordcloud.py\u001b[0m in \u001b[0;36mgenerate\u001b[1;34m(self, text)\u001b[0m\n\u001b[0;32m    640\u001b[0m         \u001b[0mself\u001b[0m\u001b[1;33m\u001b[0m\u001b[1;33m\u001b[0m\u001b[0m\n\u001b[0;32m    641\u001b[0m         \"\"\"\n\u001b[1;32m--> 642\u001b[1;33m         \u001b[1;32mreturn\u001b[0m \u001b[0mself\u001b[0m\u001b[1;33m.\u001b[0m\u001b[0mgenerate_from_text\u001b[0m\u001b[1;33m(\u001b[0m\u001b[0mtext\u001b[0m\u001b[1;33m)\u001b[0m\u001b[1;33m\u001b[0m\u001b[1;33m\u001b[0m\u001b[0m\n\u001b[0m\u001b[0;32m    643\u001b[0m \u001b[1;33m\u001b[0m\u001b[0m\n\u001b[0;32m    644\u001b[0m     \u001b[1;32mdef\u001b[0m \u001b[0m_check_generated\u001b[0m\u001b[1;33m(\u001b[0m\u001b[0mself\u001b[0m\u001b[1;33m)\u001b[0m\u001b[1;33m:\u001b[0m\u001b[1;33m\u001b[0m\u001b[1;33m\u001b[0m\u001b[0m\n",
      "\u001b[1;32m~\\anaconda3\\lib\\site-packages\\wordcloud\\wordcloud.py\u001b[0m in \u001b[0;36mgenerate_from_text\u001b[1;34m(self, text)\u001b[0m\n\u001b[0;32m    622\u001b[0m         \"\"\"\n\u001b[0;32m    623\u001b[0m         \u001b[0mwords\u001b[0m \u001b[1;33m=\u001b[0m \u001b[0mself\u001b[0m\u001b[1;33m.\u001b[0m\u001b[0mprocess_text\u001b[0m\u001b[1;33m(\u001b[0m\u001b[0mtext\u001b[0m\u001b[1;33m)\u001b[0m\u001b[1;33m\u001b[0m\u001b[1;33m\u001b[0m\u001b[0m\n\u001b[1;32m--> 624\u001b[1;33m         \u001b[0mself\u001b[0m\u001b[1;33m.\u001b[0m\u001b[0mgenerate_from_frequencies\u001b[0m\u001b[1;33m(\u001b[0m\u001b[0mwords\u001b[0m\u001b[1;33m)\u001b[0m\u001b[1;33m\u001b[0m\u001b[1;33m\u001b[0m\u001b[0m\n\u001b[0m\u001b[0;32m    625\u001b[0m         \u001b[1;32mreturn\u001b[0m \u001b[0mself\u001b[0m\u001b[1;33m\u001b[0m\u001b[1;33m\u001b[0m\u001b[0m\n\u001b[0;32m    626\u001b[0m \u001b[1;33m\u001b[0m\u001b[0m\n",
      "\u001b[1;32m~\\anaconda3\\lib\\site-packages\\wordcloud\\wordcloud.py\u001b[0m in \u001b[0;36mgenerate_from_frequencies\u001b[1;34m(self, frequencies, max_font_size)\u001b[0m\n\u001b[0;32m    451\u001b[0m                 \u001b[0mfont_size\u001b[0m \u001b[1;33m=\u001b[0m \u001b[0mself\u001b[0m\u001b[1;33m.\u001b[0m\u001b[0mheight\u001b[0m\u001b[1;33m\u001b[0m\u001b[1;33m\u001b[0m\u001b[0m\n\u001b[0;32m    452\u001b[0m             \u001b[1;32melse\u001b[0m\u001b[1;33m:\u001b[0m\u001b[1;33m\u001b[0m\u001b[1;33m\u001b[0m\u001b[0m\n\u001b[1;32m--> 453\u001b[1;33m                 self.generate_from_frequencies(dict(frequencies[:2]),\n\u001b[0m\u001b[0;32m    454\u001b[0m                                                max_font_size=self.height)\n\u001b[0;32m    455\u001b[0m                 \u001b[1;31m# find font sizes\u001b[0m\u001b[1;33m\u001b[0m\u001b[1;33m\u001b[0m\u001b[0m\n",
      "\u001b[1;32m~\\anaconda3\\lib\\site-packages\\wordcloud\\wordcloud.py\u001b[0m in \u001b[0;36mgenerate_from_frequencies\u001b[1;34m(self, frequencies, max_font_size)\u001b[0m\n\u001b[0;32m    509\u001b[0m                     font, orientation=orientation)\n\u001b[0;32m    510\u001b[0m                 \u001b[1;31m# get size of resulting text\u001b[0m\u001b[1;33m\u001b[0m\u001b[1;33m\u001b[0m\u001b[0m\n\u001b[1;32m--> 511\u001b[1;33m                 \u001b[0mbox_size\u001b[0m \u001b[1;33m=\u001b[0m \u001b[0mdraw\u001b[0m\u001b[1;33m.\u001b[0m\u001b[0mtextbbox\u001b[0m\u001b[1;33m(\u001b[0m\u001b[1;33m(\u001b[0m\u001b[1;36m0\u001b[0m\u001b[1;33m,\u001b[0m \u001b[1;36m0\u001b[0m\u001b[1;33m)\u001b[0m\u001b[1;33m,\u001b[0m \u001b[0mword\u001b[0m\u001b[1;33m,\u001b[0m \u001b[0mfont\u001b[0m\u001b[1;33m=\u001b[0m\u001b[0mtransposed_font\u001b[0m\u001b[1;33m,\u001b[0m \u001b[0manchor\u001b[0m\u001b[1;33m=\u001b[0m\u001b[1;34m\"lt\"\u001b[0m\u001b[1;33m)\u001b[0m\u001b[1;33m\u001b[0m\u001b[1;33m\u001b[0m\u001b[0m\n\u001b[0m\u001b[0;32m    512\u001b[0m                 \u001b[1;31m# find possible places using integral image:\u001b[0m\u001b[1;33m\u001b[0m\u001b[1;33m\u001b[0m\u001b[0m\n\u001b[0;32m    513\u001b[0m                 result = occupancy.sample_position(box_size[3] + self.margin,\n",
      "\u001b[1;32m~\\anaconda3\\lib\\site-packages\\PIL\\ImageDraw.py\u001b[0m in \u001b[0;36mtextbbox\u001b[1;34m(self, xy, text, font, anchor, spacing, align, direction, features, language, stroke_width, embedded_color)\u001b[0m\n\u001b[0;32m    649\u001b[0m             \u001b[0mfont\u001b[0m \u001b[1;33m=\u001b[0m \u001b[0mself\u001b[0m\u001b[1;33m.\u001b[0m\u001b[0mgetfont\u001b[0m\u001b[1;33m(\u001b[0m\u001b[1;33m)\u001b[0m\u001b[1;33m\u001b[0m\u001b[1;33m\u001b[0m\u001b[0m\n\u001b[0;32m    650\u001b[0m         \u001b[1;32mif\u001b[0m \u001b[1;32mnot\u001b[0m \u001b[0misinstance\u001b[0m\u001b[1;33m(\u001b[0m\u001b[0mfont\u001b[0m\u001b[1;33m,\u001b[0m \u001b[0mImageFont\u001b[0m\u001b[1;33m.\u001b[0m\u001b[0mFreeTypeFont\u001b[0m\u001b[1;33m)\u001b[0m\u001b[1;33m:\u001b[0m\u001b[1;33m\u001b[0m\u001b[1;33m\u001b[0m\u001b[0m\n\u001b[1;32m--> 651\u001b[1;33m             \u001b[1;32mraise\u001b[0m \u001b[0mValueError\u001b[0m\u001b[1;33m(\u001b[0m\u001b[1;34m\"Only supported for TrueType fonts\"\u001b[0m\u001b[1;33m)\u001b[0m\u001b[1;33m\u001b[0m\u001b[1;33m\u001b[0m\u001b[0m\n\u001b[0m\u001b[0;32m    652\u001b[0m         \u001b[0mmode\u001b[0m \u001b[1;33m=\u001b[0m \u001b[1;34m\"RGBA\"\u001b[0m \u001b[1;32mif\u001b[0m \u001b[0membedded_color\u001b[0m \u001b[1;32melse\u001b[0m \u001b[0mself\u001b[0m\u001b[1;33m.\u001b[0m\u001b[0mfontmode\u001b[0m\u001b[1;33m\u001b[0m\u001b[1;33m\u001b[0m\u001b[0m\n\u001b[0;32m    653\u001b[0m         bbox = font.getbbox(\n",
      "\u001b[1;31mValueError\u001b[0m: Only supported for TrueType fonts"
     ]
    }
   ],
   "source": [
    "from wordcloud import WordCloud\n",
    "import matplotlib.pyplot as plt\n",
    "import pandas as pd\n",
    "\n",
    "# Joining all the reviews into a single string, replacing NaNs with empty strings\n",
    "all_reviews = ' '.join(str(comment) for comment in train_reviews['comments'] if pd.notna(comment))\n",
    "\n",
    "# Create WordCloud object\n",
    "wordcloud = WordCloud(width=800, height=400, background_color=\"white\").generate(all_reviews)\n",
    "\n",
    "# Plotting the word cloud\n",
    "plt.figure(figsize=(10, 5))\n",
    "plt.imshow(wordcloud, interpolation='bilinear')\n",
    "plt.axis(\"off\")\n",
    "plt.title('Word Cloud')\n",
    "plt.show()\n"
   ]
  },
  {
   "cell_type": "code",
   "execution_count": 35,
   "metadata": {
    "scrolled": false
   },
   "outputs": [
    {
     "data": {
      "image/png": "[encoded data removed]",
      "text/plain": [
       "<Figure size 864x432 with 2 Axes>"
      ]
     },
     "metadata": {
      "needs_background": "light"
     },
     "output_type": "display_data"
    }
   ],
   "source": [
    "def count_words(text):\n",
    "    return len(text.split())\n",
    "\n",
    "# Apply word count function to each column\n",
    "train['description_word_count'] = train['description'].apply(count_words)\n",
    "train['host_about_word_count'] = train['host_about'].apply(count_words)\n",
    "\n",
    "# Plot histograms\n",
    "plt.figure(figsize=(12, 6))\n",
    "\n",
    "# Histogram for description word count\n",
    "plt.subplot(1, 2, 1)\n",
    "plt.hist(train['description_word_count'], bins=10, color='skyblue', edgecolor='black')\n",
    "plt.title('Word Count in Description')\n",
    "plt.xlabel('Number of Words')\n",
    "plt.ylabel('Frequency')\n",
    "\n",
    "# Histogram for host_about word count\n",
    "plt.subplot(1, 2, 2)\n",
    "plt.hist(train['host_about_word_count'], bins=10, color='lightgreen', edgecolor='black')\n",
    "plt.title('Word Count in Host About')\n",
    "plt.xlabel('Number of Words')\n",
    "plt.ylabel('Frequency')\n",
    "\n",
    "plt.tight_layout()\n",
    "plt.show()"
   ]
  },
  {
   "cell_type": "code",
   "execution_count": 36,
   "metadata": {},
   "outputs": [
    {
     "data": {
      "image/png": "[encoded data removed]",
      "text/plain": [
       "<Figure size 1152x432 with 2 Axes>"
      ]
     },
     "metadata": {
      "needs_background": "light"
     },
     "output_type": "display_data"
    }
   ],
   "source": [
    "from collections import Counter\n",
    "from wordcloud import STOPWORDS\n",
    "\n",
    "def count_word_frequencies(text_column, num_words=10):\n",
    "    # Join all text from the specified column into a single string\n",
    "    all_text = ' '.join(text_column)\n",
    "\n",
    "    # Convert text to lowercase and split into words\n",
    "    words = all_text.lower().split()\n",
    "\n",
    "    # Filter out common stop words\n",
    "    words = [word for word in words if word not in STOPWORDS]\n",
    "\n",
    "    # Count word frequencies\n",
    "    word_counts = Counter(words)\n",
    "\n",
    "    # Get the most common words and their frequencies\n",
    "    top_words = word_counts.most_common(num_words)\n",
    "\n",
    "    return dict(top_words)\n",
    "\n",
    "# Count word frequencies from the 'description' and 'host_about' columns\n",
    "top_words_description = count_word_frequencies(train['description'])\n",
    "top_words_host_about = count_word_frequencies(train['host_about'])\n",
    "\n",
    "# Plotting the histograms of most frequent words for both columns\n",
    "fig, axes = plt.subplots(1, 2, figsize=(16, 6))\n",
    "\n",
    "# Plot for 'description' column\n",
    "axes[0].bar(top_words_description.keys(), top_words_description.values(), color='skyblue')\n",
    "axes[0].set_title('Top 10 Most Frequent Words in Descriptions')\n",
    "axes[0].set_xlabel('Words')\n",
    "axes[0].set_ylabel('Frequency')\n",
    "axes[0].tick_params(axis='x', rotation=45)  # Rotate x-axis labels for better readability\n",
    "\n",
    "# Plot for 'host_about' column\n",
    "axes[1].bar(top_words_host_about.keys(), top_words_host_about.values(), color='lightgreen')\n",
    "axes[1].set_title('Top 10 Most Frequent Words in host_bout')\n",
    "axes[1].set_xlabel('Words')\n",
    "axes[1].set_ylabel('Frequency')\n",
    "axes[1].tick_params(axis='x', rotation=45)  # Rotate x-axis labels for better readability\n",
    "\n",
    "# Adjust layout and display plots\n",
    "plt.tight_layout()\n",
    "plt.show()"
   ]
  },
  {
   "cell_type": "code",
   "execution_count": 37,
   "metadata": {},
   "outputs": [
    {
     "data": {
      "image/png": "[encoded data removed]",
      "text/plain": [
       "<Figure size 720x432 with 1 Axes>"
      ]
     },
     "metadata": {
      "needs_background": "light"
     },
     "output_type": "display_data"
    }
   ],
   "source": [
    "from collections import Counter\n",
    "import matplotlib.pyplot as plt\n",
    "from wordcloud import STOPWORDS\n",
    "\n",
    "def count_word_frequencies(text_column, num_words=10):\n",
    "    # Convert each comment to a string and concatenate them into a single text\n",
    "    words = ' '.join(str(comment) for comment in text_column if pd.notna(comment)).lower().split()\n",
    "\n",
    "    # Filter out common stop words\n",
    "    words = [word for word in words if word not in STOPWORDS]\n",
    "\n",
    "    # Count word frequencies\n",
    "    word_counts = Counter(words)\n",
    "\n",
    "    # Get the most common words and their frequencies\n",
    "    top_words = word_counts.most_common(num_words)\n",
    "\n",
    "    return dict(top_words)\n",
    "\n",
    "# Count word frequencies from the 'comments' column\n",
    "top_words_comments = count_word_frequencies(train_reviews['comments'])\n",
    "\n",
    "# Plotting the histogram of most frequent words in 'comments' column\n",
    "plt.figure(figsize=(10, 6))\n",
    "plt.bar(top_words_comments.keys(), top_words_comments.values(), color='orange')\n",
    "plt.title('Top 10 Most Frequent Words in Comments')\n",
    "plt.xlabel('Words')\n",
    "plt.ylabel('Frequency')\n",
    "plt.xticks(rotation=45)  # Rotate x-axis labels for better readability\n",
    "plt.show()\n"
   ]
  },
  {
   "cell_type": "code",
   "execution_count": 38,
   "metadata": {},
   "outputs": [
    {
     "data": {
      "image/png": "[encoded data removed]",
      "text/plain": [
       "<Figure size 864x432 with 1 Axes>"
      ]
     },
     "metadata": {
      "needs_background": "light"
     },
     "output_type": "display_data"
    }
   ],
   "source": [
    "def count_words(text):\n",
    "    # Convert text to string if it is not and handle NaN values\n",
    "    if pd.isna(text):\n",
    "        return 0\n",
    "    return len(str(text).split())\n",
    "\n",
    "# Apply word count function to the 'comments' column\n",
    "train_reviews['comments_word_count'] = train_reviews['comments'].apply(count_words)\n",
    "\n",
    "# Plot histogram\n",
    "plt.figure(figsize=(12, 6))\n",
    "plt.hist(train_reviews['comments_word_count'], bins=10, color='skyblue', edgecolor='black')\n",
    "plt.title('Word Count in Comments')\n",
    "plt.xlabel('Number of Words')\n",
    "plt.ylabel('Frequency')\n",
    "plt.show()\n"
   ]
  },
  {
   "cell_type": "code",
   "execution_count": 39,
   "metadata": {},
   "outputs": [
    {
     "name": "stdout",
     "output_type": "stream",
     "text": [
      "Unique small words and punctuation marks:\n",
      "['🤨', '안나', '마저', 'ré', '05', '잇어', 'Ç', '응대', '쿠쿵', 'oä', '높고', '딸린', 'Ts', 'ô', 'nt', 'Ca', '탈', '장난', '햬욥', '🤪', 'oF', '07', 'G', '밤에', '쏙', '택시', '）', 'ㅜㅜ', 'Mø', '2y', 'ми', '锅铲', '비운', '乾淨', 'uz', 'är', '잃게', 'Ty', 'üç', 'ÁL', '놀고', '할게', 'QG', '🖒', '📞', 'qq', '할수', '근방', '상', '나온', 'Ut', '58', '돈을', '你好', '👍', 'Us', 'AZ', '떠나', 'A5', '19', 'kg', '98', '와서', 'Ay', '분도', 'ni', '저를', 'R', 'Ф', '♂', '언능', '💚', '원체', '없이', '거림', 've', '设施', '몸이', '못감', 'Gb', 'να', 'oh', '루소', '오심', 'או', '7m', '뿔꽃', 'Но', 'ő', '4ᵉ', '当然', 'VH', 'Qf', '많이', 'Ap', '갔을', '역도', '고급', 'L6', 'Wg', '편리', '받진', '✊', '될', 'ᴗ', '\\U000e0062', 'LC', 'E6', '남을', '짐작', 'αν', '탈수', '에그', 'ud', '살고', '알토', 'TM', '때가', '2o', '安全', 'הצ', '켤', '잠만', '₽', '이면', 'و', '것', '🥶', 'ды', '타도', '할인', 'ст', '봐서', '57', '딥이', '살지', '나옴', '오후', '雨棚', 'ad', 'Ur', 'F', 'út', 'S', 'W', 'Т', 'BH', '묵고', 'Su', '체크', 'id', '이나', 'Pa', '整齐', '熱情', '망치', '매직', 'RE', '실고', '같음', '🤝', '곳과', '🧼', 'ch', '넘는', '장을', '방도', '비가', '영상', '하진', '烤箱', 'Су', 'Yu', '폭이', '감수', '납븐', '🍹', '드릴', '🙄', 'C', '짱짱', '쬲나', '싶고', '걸을', '죠큼', '파두', 'b4', 'sn', '법과', 'By', 'Bu', 'BD', '오게', 'lo', 'ya', 'Må', 'За', '얼마', 'ā', 'Tt', 'З', 'Om', 'Zb', '빵읺', '3e', '갖다', '줄까', '속에', '수도', 'ø', '말도', '真的', '추울', 'כל', '2C', '}', '훼요', '앞에', '暖气', 'be', 'EU', 'ей', '남자', '전반', '하하', '당시', '죠음', 'BP', '23', '휴지', '제공', 'me', '지하', '치', 'Ac', '지장', '또', '풍경', '🍒', 'Do', '83', 'pk', 'T2', '中超', '세서', '얕은', '알기', 'Du', '몫을', 'én', 'MV', 'Ah', '6층', '전혀', '힘들', 't4', 'งท', '치안', '긴', '😁', 'Pb', '๑', 'Él', '끝', '아예', '走路', 'ี', '벽도', '주차', 'E', 'Mo', '깔린', '넚뭆', '성이', '세고', 'DA', 'öV', '전과', '춥춥', '없뀨', '42', '🙌', '뷰를', 'It', '8e', '번호', 'JC', '제외', 'Za', 'ip', '지미', '없는', '9e', '남길', 'vb', '각오', '타면', '온수', 'ny', '🌺', '어디', '좋아', 'GH', '점도', '양념', '提示', '스텝', '2k', '~', '宽厰', 'MO', '따로', 'Df', '줘뉸', '그곳', 'MK', '위에', '딱', 'cq', '끝에', '챙겨', '방에', 'kw', '들려', '평일', '조', 'fy', '주는', 'X', 'mm', 'Из', '옆', '말모', 'JK', '今後', '단점', 'oÄ', 'EN', '풀', '날짜', 'Dl', '🍀', '약한', 'סי', 'sé', 'Zs', '훌륭', 'ta', 'aż', '동', '94', '7j', '🚶', '3A', '여쟈', 'ys', '야깐', '궁전', '싱관', '39', 'DJ', '8u', '🏼', '거실', '굴뚝', '소금', '나지', 'דה', '4', 'Ja', 'EC', 'Io', '우뿨', '늣께', '수준', 'dó', '놀다', '5c', 'ás', '🥲', 'ut', 'UL', '좋지', 'Į', 'м', '啤酒', '나를', 'с', 'Dû', '🥂', 'פי', 'זו', 'mr', '빰엣', '얻고', '綠茶', '보는', '맡아', 'γη', '난방', 'Bo', '🥳', 'SÅ', 'AC', '걷는', '틀고', '공기', 'så', '사이', '（', '햄', 'Им', '남은', '환영', 'GO', '중요', '다들', '맞을', '﹏', '안부', '생긴', '뭐가', '당일', '🦜', 'té', 'De', '가서', '🚎', 'ду', '집은', '桌子', '저고', '감고', '같고', '蛋挞', '때면', '잼과', '선택', 'må', 'wh', '4일', 'Er', '가량', '끄는', 'LR', 'Ya', 'If', '점과', '아주', '급한', '가고', '열림', '가죽', '곳이', '그린', 'gs', 'Re', 'ём', '便宜', 'SA', '뭔', '편의', '에게', '{', 'Ça', '2박', '😓', '와', 'LG', '맏길', '멀고', '3è', '‼', '6', '씻는', '영어', 'ė', '😗', 'Ea', '—', 'sì', 'TY', 'ุ', '고민', '최종', '\\u2060', 'ua', 'ΟΙ', '기계', '계신', 'xD', '걸', 'ั', '혼좌', '구럼', 'J', 'où', '해야', '트랩', '舒服', '엄청', '길은', '方便', 'ช', '넓은', 'те', 'A', 'як', '불편', '葡文', 'lg', 'Ie', '혹시', 'tm', '씻기', '客厅', '35', '30', '찾을', 'RA', '명소', 'Их', '예쁜', '가득', '그리', 'mo', '여긴', '드실', 'pp', '점점', '·', 'ни', '산', '쪽을', 'iI', '👉', 'Mª', '전용', '작고', '6E', '은', '2D', 'at', '다녀', '超棒', '9h', '38', '3a', '동동', '어쩔', '문들', '׳', '해줄', '암툰', 'DL', '당긴', '분리', '가요', '가야', '꼽을', '단어', '2è', 'b', 'NB', '🌅', '입에', 'До', 'će', 'o', '넣어', '맛이', '휴', 'Ba', '가시', 'Ο', '裝潢', '참', '역대', '틀린', '있단', '문화', 'wf', '영깅', 'KG', '단지', '버스', '되게', '☔', '뮨을', 'ID', '건조', 'ıt', '자리', '줄', '；', '병도', 'by', '⛰', '🙂', '5b', '🧁', '🙃', '🎀', '팬은', '주', '3박', 'kb', 'PH', 'Ту', '확인', '강추', 'ZB', '소스', '사갈', '찾고', '너무', '없을', '8m', 'JS', 'dr', 'Sò', 'רב', '것을', 'Så', 'gr', '훔', 'Mb', '눈뜸', '：', 'T1', 'bq', 'ㅔ', 'Zo', '날이', '새', '@', '매일', '조끔', '팔고', '책', 'см', '21', '可是', '곳만', '🐈', '일부', 'gh', '보다', '대로', '쬰나', '딸', '👞', '🌍', '같긴', '하고', 'JF', 'th', '뱔찐', 'nº', 'к', '🤩', '받는', 'ES', 'IC', '읬는', 'Lu', 'PL', 'με', 'it', '멀긴', '치즈', 'oo', 'HG', '손을', '땩', 'บ', 'dì', 'OM', 'kl', '벌레', '»', '🧻', '방음', '바닥', 'bv', 'Pt', 'pd', '뗄', 'uh', '그것', 'Sr', '찾던', '존재', '수퍼', '보임', '춥긴', '출발', '되어', '밥', 'bn', '芝士', 'Ns', '걸로', '여서', '정량', '데가', 'rá', '🇨', '전에', '한껏', '역을', '트램', 'Qu', '인상', 'Th', '해욤', '카페', 'EG', '2p', '데', '놀기', 'ο', '、', '내고', 'fő', '긜고', 'zn', 'x2', '비해', '해요', '치약', '很冷', '😀', '적은', '✅', 'JG', '물과', '𖤐', '책도', 'de', 'ต', '위햔', '해', 'šo', '・', '온', 'Vo', 'Nn', '🙈', 'Or', '🙁', '김치', '저랑', '여성', '2е', '3개', '사악', '역과', '후회', '자정', '#', 'lf', '😆', '올까', '돌로', '선에', '시', '쪼매', 'sm', 'ze', '나쁜', '🤫', '미로', 'ึ', 'T4', 'D', '찾이', '四楼', '쫙', '비행', '좋다', '걍', '많지', '喜欢', 'Zè', '💖', '안애', '생겨', '오른', '담에', '높굥', '열자', '화상', '酒吧', '들른', 'kā', '🚋', '들고', '되지', '하', '위촉', '.', '04', '잤을', '🤢', '죽는', '옆인', 'Sè', '3일', 'ту', '3E', '电车', 'sí', 'ג', 'לא', '특히', '보통', '열차', '5è', '餐馆', '번에', '키가', 'SP', '즐길', 'pe', '통해', '쉬운', 'ЖД', '함정', '4d', 'lb', '쿠키', '답이', '들러', '̴', '거의', '곳을', '심한', '졂교', 'já', '않고', '앉는', 'DR', '‘', 'OF', '⚠', 'σ', 'ㅓ', '좍은', '쬬쿪', '하구', 'AT', '없기', '밟꾜', '즉각', 'Cz', '층인', 'ee', '철제', 'FX', '그가', 'é', 'Di', '🪴', 'aa', '내로', '뙤면', 'nB', '아차', '받을', '가든', 'CC', '겸', '好像', '글고', '06', '😢', '완전', 'св', 'bt', '곳들', '쩡쩐', '결국', '優格', 'MI', '배려', '매번', '친구', '很棒', '수가', '2분', '못해', 'HI', '😸', '잊지', 'sF', '부담', '락이', 'Ia', '나간', 'à', '근데', '음', '화가', '!', '공간', 'Km', '三层', '더', '43', 'е', '안은', 'B3', 'sC', '골프', '高度', '모드', '전', '앉아', '🇮', 'パン', '내', 'ir', '🐕', '팁도', 'ㅠㅠ', '시간', '문이', '،', 'Wu', '아무', '💫', 'DU', '문제', '보고', '|', '火腿', '금방', '힙한', '推', '⋯', 'NH', '벽이', '많은', 'św', '13', '언떡', '\\U0001fae7', '5a', 'hr', 'Lo', 'แต', '몇번', '줘서', '쉬던', '🌻', '곳', '舒适', 'DE', '優點', '📲', 'кг', '기대', 'RU', '奶酪', 'yn', '도라', '4º', 'Ee', '먹은', 'no', 'уж', '키고', '์', 'N', '차로', '🎉', 'bf', '문도', 'по', '지역', '💤', 'eb', '타기', '제가', '갈거', '짐', '…', 'nå', '적극', 'ow', '접시', '누노', 'Cç', '<', 'er', 'io', '무슨', '묽이', 'Ms', 'JP', '뷰로', '이것', '아닌', '噢', '높지', '냄비', 'On', '負責', '굿', '💙', 'CP', '빼곤', 'VI', '14', '둘다', '½', '오실', '6х', '😬', 'יש', 'ts', '💃', '사기', 'č', '넘어', '葡', '세탁', '히팅', '¡', 'yö', '취소', '거듭', '새섥', 'tb', '👀', 'JB', 'Sé', '잠궈', 'Tô', '역이', '🚌', '8H', '☼', 'nC', '엄', '로컬', 'Yo', 'ab', '3y', '터라', 'dª', 'чи', '차', '알게', '3x', '제발', '학', 'To', '깨끗', '5개', '이번', '남겨', '보기', '마리', 'BS', 'HD', '한시', '단순', '켜면', '55', '4m', 'ks', 'et', '켜도', '고세', '거임', '화장', '벽을', 'DG', '선물', 'да', 'jó', 'งม', '벌', '밤', '7h', '무릎', '열릴', 'øl', '̈', '5y', '～', '§', '점심', '？', 'º', '커버', 'À', 'яв', '들어', '🏠', 'ㅎ', 'N1', 'cf', '핸드', '8n', 'ob', 'في', 'La', 'NY', '열고', '치기', '열어', 'my', '便利', '나니', 'tt', 'ä', '처럼', 'u', 'Τα', '게', '뼐류', '생각', 'hã', '사서', '됐고', 'YA', '불이', 'a2', '유럽', '폼발', 'yp', '3ο', '🙆', '服务', 'Ps', '야경', '샴푸', '눈', '열을', 'En', 'WG', 'BC', '장소', 'RF', 'ND', '🏄', '부터', '죨라', 'าร', '윗집', '酸奶', '🪨', '맨날', '약간', '하루', '여자', '주긴', '등등', '발', '🗻', '明亮', '그를', 'ㅂ', '눼시', '머리', '9a', '맥주', '존똑', '눠무', '쓰면', 'l', '🤯', '보실', 'Eu', '비롯', 'ci', '받은', 'Oz', '물건', '장', 'NW', 'Si', '$', '부실', 'hé', 'др', '1º', '수법', '세제', '！', '구진', 'OS', '가진', '끈뎨', 'Św', '힘이', '차단', 'את', '오븐', 'S2', '드린', 'Wi', '번쩍', 'Ed', 'Με', '🍕', '오줌', 'MJ', '음료', '安静', '안고', '상시', '부스', '만나', 'це', '찻길', 'IP', 'fm', '묻고', '정땡', '줌', '그날', 'Oh', 'qü', '细心', '8h', '」', '감이', '铁轨', 'sû', '에서', '흑흑', 'Ar', '整洁', 'Me', '나긴', 'nd', '의사', 'ão', 'Vh', '水果', '6e', '충분', 'oí', 'iv', '饼干', '🔐', '대비', '💪', '되는', 'Li', '나을', '위의', 'Cd', '區內', '만든', '저', '5B', 'ph', '답장', '어딜', 'oD', 'CI', '🍴', '신발', '물또', 'NS', '🧽', '😴', '이쪽', '\\u200b', '쫌', '집이', 'ti', 'bd', 'UG', '자주', '2s', 'BB', 'п', '나는', '88', 'dà', '1d', '가능', '오지', '있음', 'Dc', 'Hs', '편을', '너', '안된', '할', '感谢', 'i', '🏰', 'MC', '아닝', '1a', '암튼', 'OG', '뒤에', '많아', '없다', '옷', '✈', '2A', 'Lá', 'ko', 'Po', '팬이', 'FM', '문은', '과자', '소형', '温馨', '5u', '😱', '첫', 'Ä', '구경', 'λ', '≤', '방2', '각종', '길만', '묵는', '細心', 'ez', '🍞', '9H', '因此', 'si', 'ان', '95', '😷', '싸서', '아니', 'ή', 'Td', '건', '❣', '이건', '아마', '뚸', '6o', '마켓', 'Ad', 'Só', 'AS', 'не', '가격', 'Ни', 'Ki', 'TC', 'ra', '66', '싣고', 'xo', 'Tx', '대화', '💟', '🥐', 'ㅔ가', '오픈', '못한', '이전', '공사', '자고', '괜히', '⁍', 'US', '공용', '답게', 'pm', '키를', 'dj', '4e', 'qm', 'cc', '및', 'де', '5층', '지금', '심할', '분과', 'Hy', '평이', 'あと', 'ㅈ', '고', '61', '함께', '하는', 'Ga', '3g', 'OK', '구운', 'פה', '미리', '청', 'אם', 'JM', '5E', '🤸', '🍃', '야는', 'ot', 'SC', '달리', 't', '그에', '진쫘', '6m', '부분', '관해', '구분', '🥰', 'dB', '02', '약을', '나갈', '够热', '油', 'Um', 'DC', '✝', '7A', 'É', 'Д', '물로', 'MM', '보면', 'ją', '🛍', 'od', 'Öl', 'wr', 'H3', 'Αν', '물은', '짱', '티켓', '간이', 'Tú', '주신', '״', '¤', 'ri', '주소', '옷을', '很美', 'P', '어느', 'ᴥ', 'A1', 'ㅁ', '9y', '한병', ':', 'Of', '빛이', '덥지', '내가', '마니', 'ิ', 'ín', '4y', 'I', '늘', '1B', '중의', 'со', 'мы', '№', 'GB', '방엔', '1', 'dk', '여느', '이', '춥고', 'ㅣ', '🤞', '걱정', '7º', 'O', '휴식', '단독', '꺝귄', '뭐든', '분만', 'TI', 'zw', '돌길', 'sa', 'HE', '90', '2일', '알려', '겁나', 'το', 'ld', 'אש', 'n2', 'pc', '交通', '잔뜩', '때를', 'pf', '상가', '도보', 'ia', '수왑', 'גם', 'ТВ', '춰요', 'VF', '안에', 'об', '36', '축구', '3', '윗층', '타올', 'Ru', 'hf', '늦고', '노점', 'OY', '평졈', '것이', '샤워', 'Al', 'bz', '무릐', '열쇄', '🤟', '정말', '측은', 'Во', '유용', '85', 'ed', '\"', 'T', '믿을', 'SU', '美', '환기', 'UP', '나고', 'hu', 'AH', 'do', '🎁', '업씀', '설탕', '믿음', '계획', 'zb', 'ею', '68', '초큼', '推荐', '2인', '1r', '4ª', '맛난', '펍은', 'up', '2c', '손에', '景點', 'II', '45', '9', '도시', '드솔', 'DK', '2명', '고고', 'BT', 'pl', '🥣', '무료', 'JN', 'Ne', 'dx', '😮', '\\U000e0073', '쬬찌', '뮬을', '인생', 'GT', '5m', 'CE', '밖이', '있을', '여기', '친한', 'Ir', '2H', 'dê', '않자', '🤙', 'd', 'jb', '끊고', '🤦', '⁶', 'gå', '개단', '宽敞', '답만', '뷰가', 'Ab', '치신', 'as', 'Là', '와도', '돌수', 'XX', '지도', '另外', 'ці', '듯한', 'ho', '절대', '쫄라', '편한', '워낙', 'ий', '고빵', 'cá', '钱包', '것은', '앞집', 'im', 'Há', '먜우', '16', '우린', '모습', 'kt', '깊은', '다소', 'AA', '좋게', 'Ob', '차다', '날', 'än', '🤎', '챙ㄱ', 'ev', '춥진', '겂낭', 'sr', '톤에', '4м', 'nä', '달이', '謝謝', '։', 'ㅋㅋ', 'ár', 'oû', '대해', '에코', '50', '등이', 'ً', '불은', '�', '저것', 'о', '하기', '💭', 'bó', '방만', 'OR', 'iz', '笑', '🌳', 'NZ', 'бы', 'yg', '다신', '광장', '댜', '이집', '🍳', '9u', '느께', '추가', 'Gd', '첫날', '다한', '93', '등과', 'Gx', 'cé', '꼐쑉', '대체', '눈치', '연인', 'ah', '2층', '넘흣', '다룸', '공개', 'аж', '😚', '2º', '쎄서', '可爱', '👨', '이틀', '훨씬', '🥮', '꿀', '취한', 'tú', '후추', '쓰기', '💻', 'ih', 'Ô', '갖게', '많음', '열때', '새똥', '🇦', 'Я', 'Vi', '수만', 'on', '8', '🐭', '과', '빵빵', 'IN', '면도', 'Sa', 'Ну', 'eE', 'LP', '7u', '이루', '구글', '물', '이뻐', 'VR', '언덕', 'אך', '말고', '열기', '떠날', '1층', '기차', '⚡', '해결', '광좡', 'הם', '2ª', '2h', 'll', 'tą', '🖤', '1F', '뷰나', '더울', 'им', '귀에', '4C', '곧', 'ㅠ', '但是', '유유', '해도', '❤', '£', '헌집', '머', '쉽지', 'g', '강이', '우리', '이내', 'lì', '전차', '확정', '바쁜', '🇹', 'UM', '먹고', 'x6', '키로', '아에', '쪼금', '缺点', '할땐', '짐을', 'Üç', '봐도', '관리', '好评', 'r', 'á', 'لـ', 'FR', '그점', '🇧', '숙소', '🔊', '🐶', '🎶', '불러', '집들', '37', 'zé', '忘记', '맵에', '으자', 'se', '4p', '쪽은', '남', '해서', '🎤', '둘이', 'Gr', '버터', '역에', '4g', 'dé', '끌꾸', 'TV', '¿', '오를', '약해', '키면', '목욕', '💥', 'ry', 'UN', '펍이', '약꺈', '따만', 'סה', '💐', '노란', '주말', '는', '💓', 'С', 'dI', 'tr', '엽서', 'пл', '🎨', '방을', '앞을', 'ㅏ', '찾기', '👏', '뿐만', 'в', '위해', 'Зв', '🤍', '방해', '들면', '7세', 'un', '56', '맞게', '층과', 'עם', '바와', '周到', '집안', '생김', 'Eh', 'ã', '됡짉', '원할', '과일', 'Id', 'GG', 's', 'של', '닫고', '때', 'em', '🧐', 'DO', 'Ik', '콸콸', '제일', '내내', 'רך', '숨', '크게', '물의', '락', '하핳', '창도', 'ї', '정리', 'NC', 'D2', '걷고', '닦고', 'jn', '鸡蛋', 'bg', '배수', '찧긴', '41', '쉬다', '종료', '잊게', '창만', '깨긴', '것들', '상징', '有2', '실내', '很大', '😒', '่', '길이', '地铁', 'ty', 'לצ', '착한', '입력', '맡겨', '로망', '건물', '👐', '길게', '약', '번', '하러', '복도', '😞', '겪지', '줄이', '💦', '🌉', 'Aa', 'A4', '?', 'ㅐ비', '밥도', '늦게', '채광', 'ER', 'її', '계속', '34', 'LX', '1인', '낮고', '앞이', '전화', '틈이', 'Y', 'bu', '33', 'כך', 'fã', 'то', '근교', 'AM', '싸진', '안심', 'ét', '그의', 'Az', '없고', '모토', '00', '거리', '크지', 'Rd', 'HP', '3х', '친절', '입고', 'Pq', '맨', 'cè', '15', '63', '있던', 'zH', '물씬', 'ae', '📱', '못지', '내어', '쉐시', '새로', '짜진', '동시', 'тд', '👠', 'YO', '덮고', 'rb', '올라', '🚬', '찍고', 'MS', '절댃', '것두', '꼐딴', '짧은', '̧', '볕이', 'ו', '오짐', '設施', '튀어', '묵게', '같을', '바리', '로', 'ó', '쥔쨔', 'т', 'vó', '👊', '순간', '쇼파', 'π', 'añ', 'C4', 'ca', '5h', '옆에', '부디', '핑고', '놉고', '한달', '편할', 'لا', '잘수', 'es', 'ты', '08', 'nó', '🧿', 'pû', 'тк', 'בה', '6분', 'ds', 'км', 'HA', '데를', 'we', 'Vu', '개', '에어', '🏆', '빼면', '🤜', '옆집', '끈대', 'tn', 'Fa', '들림', '🙋', 'Xx', '전망', '톨', '상상', '走5', '96', '돌릴', '자서', '내릴', '한층', '물만', 'её', '캡슐', 'yr', '우선', 'L', '😑', '4H', '이유', '2х', '욕을', '갃장', '果酱', '숫자', '무지', '물론', '👆', '골목', '多的', '이곳', '🚃', 'RI', '牛奶', '당연', '쟘이', '소오', 'ZU', '성당', '5g', 'У', '맞춰', '믿고', 'Es', '머문', 'жд', 'fa', '조금', '없어', 'バー', '🌈', 'ม', '받죠', '날뻔', '차가', 'Mí', 'nl', '말로', '🍽', '쉽게', '개가', '쉽진', '방은', 'vé', '이상', 'xq', '묵어', 'át', '一般', '나가', '하나', ',', '현지', '빵을', 'A8', '완벽', '마신', '춥지', 'Pd', 'Jp', '보낸', 'sh', '룸', 'Σε', 'ax', '잇긴', 'JT', '대힌', '우비', 'Pr', '렌트', 'öl', '젥갃', '99', '대형', 'Em', '1도', '2d', 'WM', '인', 'О', '面吧', '小', 'EY', '不過', 'ew', '놔요', 'AU', 'כ', '跟', '큰짐', '🏻', '빵에', '강', '타월', '朝阳', '1f', '2t', 'נח', '„', '3분', '악취', '보여', 'lā', '고루', '겹칠', '2a', '48', '낮에', '4h', '나의', '哦', 'He', 'bé', '2O', 'mv', '첨에', '차를', 'Lg', 'PF', '열지', '药店', '힘듦', '들릴', 'Mq', '🤷', 'ly', '뒷', 'עד', '더욱', '공동', 'rv', '도심', 'եք', '놈모', '잠깐', '크고', '자기', 'ㅡ', 'ka', 'ET', 'cu', 'Fe', '아님', 'wk', '감상', 'tó', '너뮤', 'ro', '앞인', '👫', 'PC', '6p', '기본', '보호', '멀진', '\\\\', 'Js', '절', '올릴', 'Î', '피는', '🧘', '고생', '말한', '뭣한', '적', '주변', '꾕짱', '다님', '느낌', 'ló', 'HQ', '남음', '묺동', '바다', 'WI', '비키', 'לי', '방문', '알던', 'Où', '돼야', '다리', '건식', '마계', '1p', 'CU', '4G', 'Sb', 'ss', '🍰', '(', '비누', 'No', '길로', 'NI', '자는', 'θα', '5º', '일몰', '돼요', '고정', 'TD', '끌기', '차지', 'ms', 'ее', 'ux', '🕊', '记住', 'Nl', '상태', '飲食', '거', '🤓', 'KY', '🤗', '다음', '4인', '져', '딸랑', '외엔', 'CB', '주지', '절반', 'F1', '😊', '했던', 'По', 'sy', '🐝', '집과', 'סך', 'PJ', 'pò', '멈', '답', '香皂', 'ba', '않음', '[', '개미', 'vc', 'ый', '연락', 'Не', 'Ei', 'ln', '않을', '65', '不錯', 'jà', '작지', 'ke', '따많', 'pP', 'zo', '地鉄', '블랙', 'Ae', 'Ti', '따라', '뺄쁘', '조븐', '💔', '숙박', '낯선', 'At', '창', 'np', '46', '软', '건데', '성과', '−', '3주', '팁', '😕', '^', 'oy', '🚿', 'ин', 'su', 'CV', '싶어', '좁지', '现代', 'Mc', 'sj', 'al', 'È', 'jm', '탓에', '모든', 'wd', 'ht', '큰거', '밥을', '제거', '얼른', 'ig', '노선', 'อย', '썩', '전체', '침실', '못', '과거', '7M', '보던', '79', 'NL', 'w', 'ej', 'Ló', '방이', '있는', '씻을', '코인', '두고', 'sq', '으', '아슙', '않다', '방향', 'sl', '요소', 'ha', 'rt', '购物', 'wa', '창은', 'он', 'τ', '그닥', '쏘리', '된다', '사과', '중', '주요', '넘나', '느낄', '열', '美甲', '쇼핑', '말을', 'C5', '위취', 'U', '길에', 'Wc', '다만', '역은', '가길', '개를', '요청', '변기', 'ê', '타실', '며칠', 'Bc', 'Pl', 'fé', 'Ее', '若有', '好', '비단', 'IR', '잡기', '8p', '🚉', '‑', '4시', '메고', '다를', '👋', '3G', '필수', '일러', '사항', '【', '그럼', '신경', '커요', '오르', 'Yr', '잘해', '8E', '71', 'ㄷ', '넓고', '날에', 'ne', '빵집', '징짱', '두개', '◡', 'yy', '쯤', '6a', '외에', 'Eb', '층에', '한건', '74', 'WP', 'Mó', '醋', '에나', 'ไม', '싶은', '4개', '술', '잡은', '이어', '环境', '이를', 'tá', '단', '묵다', 'Jb', 'Tb', '일찍', '♥', '🎄', '이라', '감안', 'Já', 'là', \"'\", 'ED', '후에', '말할', '않게', '10', '웰컴', 'Au', 'lz', '짐만', '집기', 'ír', 'um', '할까', '🌊', 'xu', '무난', 'm', '💜', 'y', '다른', '요리', 'Tg', '/', 'hs', '편히', '하며', '타고', '린스', '🔆', 'IH', '하니', 'oq', '히터', '작동', '옆방', '자도', '쪽문', '짧고', '82', '돈에', '“', 'dm', '뭔가', '☆', '되요', '별로', '돈', '》', 'ù', '간게', '춪움', '곳도', '热情', 'ΤΑ', 'ei', '방식', '제꺼', '3d', '예상', 'v', '🇪', '동눼', 'ST', 'E4', '64', '점을', 'rh', 'Og', 'L3', '높교', 'г', '×', 'Ha', '🇰', 'Pç', '시내', 'LU', '일쩡', '세요', '果汁', '총', '직전', '추억', '房间', '가던', '서서', '🎷', '묵은', '해준', 'Zi', 'SO', '●', '도착', '구비', 'JR', 'z', 'Té', 'ij', 'lá', '환경', 'То', 'Це', '일이', 'Dá', '😔', 'fr', '밤을', '쿠', '6Y', 'pq', 'Af', '먹음', '92', '2E', '양호', '쬭꿈', 'gi', '정오', 'Go', '칼도', '모여', 'We', 'хв', '🚀', '저와', '✨', '́', '턕띠', 'EM', '넓지', 'но', '일출', '준비', '복층', '웅벌', 'ท', 'fx', 'Fi', '추운', '🦁', 'cç', 'Fr', '법을', '쬐끔', '쯤에', '3⁰', '층은', '순', '좀더', '真好', '뷰', '포함', 'Rs', '늦은', '•', 'lp', '🛏', '돠', '4D', '🍿', 'XI', 'ce', '포국', 'А', '군데', 'El', '빨', '할때', 'Nº', 'RB', 'BG', '아빠', '5박', '쓰고', 'Od', 'uf', '봐닥', '파란', '날은', '–', '져녂', 'él', 'tu', '\\u200f', '위층', '것과', '좋진', 'нв', '♡', 'Σ', '☮', '🎒', '문의', 'eg', '💝', 'sè', '몹시', 'εν', '중에', '쵸쿰', 'uy', '💍', 'Ó', 'år', '이쁜', '🐟', '아침', 'LA', '생활', '이랑', '별', '😅', '🥵', 'né', 'ק', '얼음', '🌲', 'ок', '마치', 'tô', 'Oi', '갖춰', 'að', '신대', '문잇', 'os', 'גן', '뭃이', '😭', 'jo', 'cN', '도달', '76', '其次', 'MA', '隨和', 'hv', '찾은', '층간', '옷이', '巴士', '얼리', '이른', 'Pé', '운전', '다시', '厨房', '가면', 'ou', '싼게', 'KO', '눈에', 'an', 'és', 'Ще', '😂', '주려', 'Tv', '感謝', '현재', '보지', '많을', 'EL', '새벽', '창이', 'ти', 'XD', '귀를', 'Va', '씻고', 'Sá', '%', 'Се', '도구', '饭厅', '💞', 'Je', '티와', '점만', '🍾', '낼', '다락', '등을', '듬', '푸른', '🌴', '밝고', '꼭', '때와', '주위', '쓰던', 'та', '갈래', '점', '엄마', '75', '💘', 'És', 'yo', '🤣', '오직', 'WA', '병', 'Fé', 'az', 'få', '춥게', 'MG', '超好', '반', '침구', 'зв', 'DS', 'Ez', '목재', '시설', '꽃을', 'pu', 'St', 'OV', '🇺', '毛巾', 'ma', '주인', '펍에', '별도', '무려', 'că', 'ps', '거기', 'T5', '차랑', '일은', '그는', 'N0', '모른', '⛔', '그외', '강력', '32', '예약', '観光', '만날', 'EV', '의향', 'An', '3번', '몇', '8월', '먼것', '소리', '72', '5L', '🧗', '찾는', '3o', '산타', '갔덙', '5H', 'nu', 'ω', 'pa', '✌', '洗衣', '빽운', 'OA', '첨엔', '잠글', '2x', '쉬러', '준', '가게', '막', 'ÖV', '가도', '挺近', '응답', '부족', 'Еs', '안이', '먼가', '렌지', '앞', '😍', '大连', '드', '켜서', '짤', '､', '빙', '🤔', '분', '줘요', '\\ufeff', 'SR', '찌끔', '40', 'B', '식빵', '3H', '9시', '기타', '안되', '수는', '한참', 'K', 'ОН', 'ㅋ', 'TE', '9m', '큰', 'На', '한복', '올수', '창을', '맺음', 'ㅏ격', 'מה', 'Na', 'IO', '2j', '1x', 'QR', '훨', '카드', 'je', '바', 'ie', '청경', 'co', 'К', 'Jo', '잡고', ')', '쓰긴', 'xk', '멀면', '잘못', '👃', 'عن', 'Q', '당만', '🥞', '여행', '쌓인', 'YT', 'a', 'ik', 'tv', '5x', '저녁', 'pè', 'N8', '방의', '인듯', '치울', '오래', 'Та', 'us', 'ще', '大爱', 'ΤΙ', '올때', '01', '밤새', '0r', '곳은', '마다', '날끈', '80', '주고', 'tl', '신고', '다면', '쉴수', 'IM', '혹은', '입구', 'ná', '并且', '☹', '행', '따순', 'YU', '끌고', '착함', '5p', 'VE', '헤맬', '￼', 'Qc', '冰箱', 'hm', 'Jó', '정도', 'Un', '五星', '마음', 'ㅕ', '몸을', 'Co', '둘', 'Á', '🥴', '달린', '바가', 'τα', '굳', '7층', '있어', '🔥', '찰나', '않은', '키', '6y', '역시', '여러', 'Mr', '밤이', 'Ws', 'dû', 'IT', '받지', 'ME', '쪽씩', 'PS', '먼지', '인해', '加油', '예쁨', 'KR', '넘게', '권고', '높다', 'Bé', 'jM', '늣게', 'у', 'jp', '꼭꼭', '🔑', '🌸', '펼쳐', 'Fx', '물려', '내부', 'hd', 'От', 'že', 'ak', '일딴', '끄꺼', '도', '🧳', '놓고', '1h', '📢', '담요', '잠시', '홀홀', '흑', '두어', 'lu', '이게', '🚗', '앞의', '1m', '无', '洗漱', '창밖', 'Se', 'мм', 'c', '기분', 'за', 'まず', 'ΜΕ', '것에', '비추', '중간', 'Et', '거고', 'på', '아츄', '餐廳', '】', '팡팡', 'BY', '심', '그냥', '분임', '퇴실', 'hè', '말', '22', 'Ми', '만한', 'ZÉ', '맏아', '묶을', '봤음', '것도', '뚫는', '🍮', '1k', '84', '추움', 'ㅅ', '갸진', 'ㅎㅎ', 'ls', 'E1', '공원', '을', '집도', '냐욤', 'ну', '그게', '팁을', 'au', '일단', '8a', 'Да', '됐다', 'el', 'また', '℅', 'ㅇ', '우편', '쾌적', '，', 'Об', '됨안', '든', '가족', '라는', '就是', '계실', 'τι', '일정', '나무', '치고', 'ไว', 'CG', 'dz', '73', '찐짜', '뛰고', 'FA', '될듯', '오면', 'є', '℃', '묵기', '제게', '요구', '뜬', '하지', '되면', '일반', '😝', 'in', 'eu', '픽업', '싹', 'Bv', 'JE', 'q', '아래', 'ㅐ', '싸고', '％', '쫀냐', '0층', 'ู', '餐具', '후기', '덕에', '4분', '😺', '즉시', 'от', 'a5', '다쳐', 'QB', '방법', '1차', '햬또', 'są', 'iż', 'en', '좁은', '🌱', '뮬론', '어린', '안', '서핑', 'D7', '뽜똭', 'Z', '핫한', 'aI', '벨렝', '28', '__', 'lå', '답잉', 'Sd', '먹는', '빰에', '좋', '조곰', '🎈', '진', 'ç', '싱글', '연랅', '구해', 'й', '🏿', '딱임', 'Am', 'vo', '🌞', '분은', '종종', '삼일', '🐬', '커서', '住所', '편함', 'oú', 'A2', '문에', 'Η', '💕', 'bc', '집에', '54', '살', 'Jm', '닿지', '리에', 'Вы', '✔', 'va', 'fu', '烟草', '点赞', 'Mu', 'wo', '보수', '-', '스윗', '⁎', 'yı', '중형', 'İt', '🍦', '열면', '지낸', '집을', '停车', 'Są', 'Fè', '한', '超市', '그거', '외', '셀프', 'br', 'Hè', '马桶', 'wy', '데도', '87', '🏝', '쭉', '물품', '아직', '집인', 'BO', '6h', '마트', 'TO', '3h', '담빼', '일체', '′', '그건', 'ft', '그걸', '조지', '써야', 'Ce', 'İ', '그', '높은', '장점', '💋', 'AD', '2개', 'Im', '3º', '쥬볂', '듣고', 'nè', '짐도', 'As', 'VS', 'IK', '장판', '하면', 'Sí', '집앞', '1H', '쑴', '44', 'dc', 'tj', 'fe', '2m', '位置', '인지', '갔던', 'n', '곳에', '=', '◉', 'bb', 'nn', 'GE', '비번', 'pt', 'BZ', '🤤', '전철', '낄이', '오일', 'BQ', '점은', '후', 'Ai', '청결', '편이', '인데', '51', '餐饮', 'į', '세상', '★', 'и', 'з', '\\uf04a', '바로', '碗筷', '미친', 'і', '혹', '다닐', '⭐', '만큼', '맞아', 'VW', 'Со', '1A', '앙투', '자꾸', '올만', 'Wo', 'Tl', '오전', '잠', 'Zu', '만약', '하긴', '후드', '머물', '잠이', '리타', 'Ct', '有厅', '놀', 'PK', '27', '17', 'μά', 'NE', 'LV', '붙여', '사는', 'Cá', '9o', '시냐', '갈수', 'má', 'во', 'η', 'XL', 'qe', '분을', '89', '쉽고', 'Ta', 'ws', '빵', 'T3', '왜', '신속', '타서', '베임', '부엌', 'że', 'go', 'vá', '옷장', 'Vc', 'cm', 'uk', '🏴', '앉게', '욕조', '편에', '눈이', 'lV', '다', '5일', '눈을', '\\u200c', '체감', '집잉', '餐厅', '比如', '😜', '\\U0001faf1', '和', '🚇', '되며', '바깥', '☺', '욘락', 'vy', '뽴희', '진짜', 'тп', '소음', 'δε', '5s', '음식', '닭맑', '집', '😇', 'Qq', '그옆', '성인', 'bo', '47', '났고', '교통', 'mí', '찾아', '주로', 'Uh', '가본', '하실', 'nr', '굳이', '했음', '일행', '👎', '써도', '😨', '🕉', '97', '식기', 'κ', '💩', 'åt', '잠은', '뜨면', '돼서', '맡길', 'iе', '옆이', '️', '창문', 'Cu', 'pi', '6L', '어떤', 'tä', '가니', '갖고', 'ı', '있다', '위험', '面包', 'בן', '🍊', 'Sė', '2b', '반층', '¢', 'mw', 'în', 'f', '미팅', 'le', '메인', 'В', 'so', '가기', '😻', '혼자', 'ただ', 'Nu', 'lê', 'vs', '좁긴', 'ol', '뒤', 'צר', '넘', '답도', 'ух', '무링', '까진', '미니', '가지', '높이', 'Pe', '很赞', 'zó', 'ví', '법도', 'SW', '오갈', 'Ő', 'vd', '핸들', 'ª', '해가', '손님', 'h', '경우', '몇개', '컵반', '서고', '겁이', 'qu', '11', 'ㄱ', '맞나', 'Ni', '우유', '끈덹', '녀뮤', 'ñ', 'só', '많고', '갑', 'що', '友善', 'FB', '밑', '꺼', 'Ho', '🦟', '사진', '저희', '라고', '3층', 'TA', '커피', '관련', '맛집', 'NA', 'CM', '麵包', '차서', '기억', '4й', '뒤쪽', '거라', '놓을', '올', '싫은', '밥과', '운', 'zu', '잊을', 'ii', 'Ή', '分鐘', '원룸', '😋', '♀', 'ex', 'qd', 'зі', 'RJ', '´', 'vh', '나방', '뷰와', 'x3', '꽝', 'די', 'vi', 'eT', '했고', '경험', '껏', '🚊', '레알', 'ní', '🔝', '따서', '치면', '€', '코앞', 'p', '隔音', '🍄', '4E', '20', 'Tu', '쪼꿈', '⛵', '버뜨', '當然', 'bi', 'MN', 'tI', '대한', '있게', '허위', '컷', 'AP', '안돼', '제', 'pé', '>', 'על', '예를', '해당', '나타', 'Hi', '🕺', '4명', '짧게', 'PA', '不错', '마중', '9欧', '그릇', '매우', 'da', 'HM', '자칫', '한국', '漂亮', '보낼', '모두', 'НО', '两层', '검색', 'NJ', '잼', '쎄개', '🇭', '로비', '쪽에', '말이', '오기', '⛱', 'רק', '바디', '🍋', 'őt', '위뤈', 'zB', '중심', '동네', '팁이', '많기', '운이', '소품', '땐', 'צ', 'ò', '낡은', '🎻', 'Ze', '음악', '됨', '주의', '아', '넒묾', '차에', '12', '밖에', 'Dr', 'tí', '십분', 'до', '词典', '넒은', '1l', '4x', '개선', 'ㅏ란', '격의', 'ㄴ', '볼때', 'VC', 'iT', 'za', 'Hu', '家', 'ki', '🥖', '샴프', 'mb', 'tę', 'dn', '흑인', '쉰내', '🌶', '잘', '69', '코를', '＋', '열뀨', '天哪', 'Sq', '꽉', '빠름', 'ea', '줜나', '성', '날도', '🤕', '¨', '쌀', 'Má', 'AR', 'Св', '밤엔', '🤌', '🐱', '잠을', 'CA', '谢谢', '超赞', '♾', '잼만', '걸린', '예', '비용', '1D', 'Le', '좁아', '酒', 'il', '쪽', '글을', '오는', '오고', 'Το', 'Ot', '차곤', '完美', '와인', '&', '̀', 'ÀS', '펍도', '졸금', 'Îl', 'm2', 'is', 'uw', '나름', '🌟', '적긴', '1일', 'כי', 'vr', '키는', 'Da', 'ga', '3楼', 'AL', 'Ju', '不大', 'eo', '사다', '열쇠', '잡을', 'du', '데뷔', 'iw', '가끔', 'Cs', 'ye', '넓어', '̃', '위한', '추첢', '때는', '싫게', '3M', '끈떼', 'OJ', '뜍뚀', 'ja', '층', '채', '1y', '《', 'ar', '😩', '하여', '씨가', '공항', 'à4', 'td', 'há', '저곳', 'CO', '5D', '삐걱', '1C', '🏡', '’', '위로', 'эл', '물이', '💯', '티비', '저두', 'H', '관광', '잘은', 'בו', '拖鞋', '总之', 'Is', '힘듬', '🐐', '견뮬', '작은', '59', 'Hh', '빨리', '비록', 'Kg', '❌', '캔', '옷에', 'lx', '묶고', '整齊', 'TB', 'LB', '날씨', '마뉘', '🧡', '4j', 'dd', '듀변', '살짝', '주진', '花园', '평균', 'BR', '참고', '할거', '지낼', '싸면', '*', 'På', '사용', 'Op', '😘', '대충', 'e', 'jr', '3j', '묵을', 'pó', '앉에', '5G', 'yu', '있고', 'כ5', 'ㆍ', 'Às', '줠라', '🦠', '힘든', 'Os', '🗺', 'гр', '사람', '🍷', '➕', '몽트', '깁께', 'Te', '만족', 'Qs', '\\u200d', '용이', 'ov', '밖', '그때', 'oa', 'fl', '청소', 'FI', '26', 'è', 'は', ';', 'fo', 'LD', 'WE', '보러', '빠른', '😄', '때도', '실은', '\\U000e0077', '☕', '멀지', '있기', '먼', 'Uk', '신축', 'jq', '09', '새서', 'rr', '최소', '갈까', '분이', '좀', 'MB', '숙쏘', '유료', '밪도', 'ía', '다가', 'fi', '했기', '습한', '😃', '까지', '🇩', '쥬고', 'Ok', 'if', 'Cc', '52', '60', '等', '있지', 'PM', '민망', 'Ww', 'mn', 'of', 'VP', '맘', '이고', 'pb', '멀리', '좋고', '±', '잡힘', 'ao', '이불', '좔', '밝은', '5j', '것만', 'TL', 'Up', '🌹', 'WZ', 'VO', '옛', '슬슬', 'bl', '개인', 'fà', '잠뀌', 'wg', 'èn', '세', '깔끔', '좁을', '신식', '세번', '→', 'ч', '즉', '조명', '나', '잠귀', 'я', '명동', 'Zé', '약속', '엘베', '싶게', '방롱', '강과', 'PV', '이런', '哈哈', 'ON', 'mt', '두명', 'Ár', '˜', '마약', '讚讚', 'PD', '\\U0001faf2', 'aj', '미쳐', 'dá', 'då', '눈물', '3m', '🏾', '살기', '항상', '쫆', '뺄때', '최고', '꼴딱', '뭘', '강의', '饭店', '옆엔', 'cn', 'DN', '소파', '옥상', '얻기', 'tk', '有红', '단호', 'la', 'ΝΑ', '보니', '面膜', 'ко', '정돈', 'Â', 'Vê', '소요', '4k', '24', '。', 'às', '🉐', '또는', 'Θα', 'شي', 'BF', '싶을', '최대', '단위', '큼', '욕실', '있쒀', '갓', '되고', '🌷', '온갖', '만의', '여태', '높아', '드는', '푹', 'xx', '지나', '젥곩', 'Wr', '수', '술집', '문', 'dh', '아페', '된', '03', '❗', 'V', 'вы', '房东', '꽤나', 'te', 'BE', '대', '满意', 'го', '계단', 'Dª', 'вв', 'PQ', 'oü', '추위', '저도', '칼', '같아', '끼고', '☀', '실제', '나서', 'DW', '감기', '씬', '1o', '우', '함깨', '느낀', '뷰도', '있긴', 'SI', '吵', 'LZ', 'Ou', '푸드', '고장', '2B', '寬敞', '😖', '지난', '쓸', '옷도', 'IL', '또한', '를', '쫠', 'Tá', '🍪', '쉬고', 'DI', 'â', '≥', '駅', '층이', '쪼끔', '면과', '층을', '좋은', '5e', '명', '내려', 'KM', '벗고', '无敌', 're', '감히', '듯', '다망', '찾지', 'קר', '오니', 'ở', '방과', '갖춘', '갈때', 'M6', '각', '🔴', '내색', 'hi', 'Οι', '전부', '집의', '̛', '잉는', 'gd', '49', '길도', '평소', '취해', '별점', 'Iv', 'și', 'ok', '틀면', '길', '각각', 'Br', '갈뻔', 'ww', '방울', '쵸큼', '티도', 'Kl', '발을', '절때', '흠', 'їх', '맘에', '낀', '라면', 'ay', '4층', '잠들', '싫어', 'Aí', '법', '1s', '여는', 'či', '안씀', '분들', 'на', '근처', '서로', 'lé', 'Nd', '楼梯', 'LE', '타러', '더블', '알고', '🎂', '정할', '츕고', 'ff', '벽에', 'DM', 'а', '18', '할것', '절댕', '优点', '麥片', '식당', 'Gh', '애를', 'My', 'om', 'ので', 'í', 'tè', '🇫', 'to', '4박', 'д', '總之', 'po', '직접', '하필', 'k', '않는', '소란', '따륜', '기와', 'Uw', 'Fá', '．', '개에', '잘때', '⬛', '먼저', '족금', '감성', '🚻', '오든', 'uo', '수건', '31', 'gl', '처음', 'ně', 'av', 'TP', 'AN', '넝뭉', 'ΤΟ', '橙汁', '긍데', '🏖', '점에', '움직', '💎', '읽고', '「', '首先', '뷰는', '식사', '한번', '\\U000e0067', '推薦', '잘한', '🎇', '역사', 'LL', '빨래', '°', 'Он', 'б', '볼', '3F', '🦫', 'Оч', '뒈쉰', '엄쳥', '53', '겨우', '되서', '86', 'js', 'qr', 'oK', '모기', '만두', 'àl', 'RD', '올해', '갔고', '나올', '🤭', '벨렘', '이동', '고른', '자쥬', '지상', 'AV', '아쉽', '뚀', 'Lx', 'mu', 'ns', '휴기', 'PR', '문을', 'AB', 'ju', '만난', '코', '할쑤', '옵션', '조식', '주심', '가는', '걸어', '🪳', '잘땐', 'זה', '들도', '한적', 'Gå', '물잉', '볼수', '🚂', 'km', '뽱은', 'Kh', 'Mt', '저는', '7', '🤮', '였고', '中文', '꽉찬', 'rd', '저의', '통한', 'จ', '뜨지', 'او', '냠쟈', '팀의', 'xa', '으로', 'T0', '🚵', '버정', 'nb', 'Ma', '赞', 'Xo', '🥧', 'sI', 'vz', '쯩', '+', '쓰지', '멋짐', '감동', '쫍은', '넊묶', '갈지', 'Bs', 'Pi', '立地', '않아', '😡', '🙏', '수압', 'ли', 'bp', '장기', '빌려', 'å', '가긴', '😛', 'aí', 'LO', '만남', 'HS', '최신', '남짓', '지구', 'li', '廚房', 'mì', 'op', '«', 'Мы', 'си', 'Ü', '⁃', '있구', '원래', '됐음', '내에', 'ФК', '😏', '딱히', '1e', '🤘', '안내', 'VU', 'же', '점이', '잔', '측에', '위생', 'ΘΑ', '짐이', '🙇', '룸도', '而且', '출구', 'Є', '갈아', '우버', '購物', 'E3', 'sp', '8C', '최근', 'RV', '타는', '쉬울', '4o', '나와', 'iy', '67', '들', 'wc', '이걸', '주방', '싶다', '두', '추천', 'GS', '총평', ']', '뜨는', 'σε', 'už', 'LM', '25', '전기', '여튼', '없음', '져는', '간접', '😥', '났던', '대신', '풀고', 'ac', '물을', '술에', '포크', '옮길', '한쪽', 'בצ', 'he', 'm²', '써서', 'ку', 'Lé', 'х', '참을', 'τη', '옛날', '물도', '🇵', '`', '나요', '1G', '멋도', '종점', '역', '도마', '对了', 'JJ', 'אז', '뭐', 'ж', '💛', '벨을', '일', 'Fl', '전날', '될것', 'WC', '🛴', 'Uy', 'Uf', '그룹', '길을', '돼고', '모듀', '노래', '👩', '7e', '등', '당장', '좋을', '도로', '폭도', 'M', '수납', '\\xad', 'Be', '퇴근', 'af', '열린', '사실', '마실', '일도', '클럽', '很好', 'tp', 'BA', '💗', 'tê', '환불', '变', 'or', '🦋', 'RS', '덜', '้', 'ml', '这', '했을', 'eh', '외부', '위', 'wt', '6x', '없게', '에', '좁음', '등은', '투어', 'Xi', '밑에', 'Ds', 'kö', '몇장', '💑', '요', '어요', '못할', '💨', '所以', '단연', 'Il', '간', '밟을', '유명', '야간', '불', '77', '먹을', 'SE', '적합', '그런', 'Ev', '끊김', '거랑', '_', '5o', '1개', '美丽', '전통', '불을', 'pg', '함', 'x', 'Nb', '🏽', '뒈신', '수록', '룸에', '潮湿', '🎥', '냄새', 'xl', 'HU', '같이', '본', 'D1', 'их', '91', 'ㄹ', '🌼', '답은', '했다', '방', 'MY', '🍻', 'gf', 'Av', 'çà', 'IE', '쉴', 'NO', '같은', 'ΣΕ', '👯', 'Ci', '이후', 'ai', '0', 'vu', '횐풍', 'UK', '괜츈', '가', '과연', '1O', '🤛', '데에', '번째', 'SF', '😳', '62', 'st', '\\U000e007f', '만', '😉', 'Sh', '5분', '추정', '등의', '무', '끓구', '큰커', '타야', 'di', 'j', '힘듐', '가구', '2e', '2⁰', '테니', 'fb', '차량', '짧지', '7분', '干净', '쬐금', '와는', 'öt', '내는', '78', '슈퍼', '낮', 'И', '술을', 'Wé', 'ge', 'SN', '등도', '작성', '\\U0001faf6', '편도', '멋진', '진심', 'mi', '너머', 'Qd', '적이', '천년', '🇬', 'PT', 'IS', '들지', 'ça', '‚', '2G', '另', 'Dé', '편은', '81', '설명', '우측', '파티', '等等', '😎', 'IF', '돠만', '1분', 'ом', '잘된', 'CD', '3k', 'OH', '迅速', '좁고', '히히', 'ur', 'Ve', 'Bb', 'Mi', '지붕', '툼이', '쓰는', 'бо', '👌', 'og', '갈', '棒', 'եմ', '̂', '내의', '뿐', '동안', 'na', 'тв', '糖', 'JL', 'Ex', '👻', 'Pó', '한데', '구지', '2', 'So', 'am', '쪼꼼', 'RC', '침대', '말지', '넘후', 'wi', 'се', 'AO', '빼고', '일어', 'gb', '외진', '내외', '🌄', 'Ao', 'vê', '\\U000e006c', '1박', 'Hé', '强推', '4K', '탄', '돈이', 'IV', 'rs', '이용', '빵들', '천장', '갈곳', 'gg', 'CH', '70', '사간', 'γι', 'Vs', '29', '정', '5l', '🍺', '8시', 'DT', '외출', '저런', 'Nr', '호텔', 'IG', '잊고', '🇷', '무척', 'из', 'pr', 'GF', 'Jr', '真是', '이쌍', '早饭', '정이', '식탁', '땨른', '자면', '위치', '😌', '아웃', '耐心', '금', '”', '盐', '저흰', 'Ко', '담긴', 'cd', '가장', '끄고', '3r', 'ย', '꽤', '쓴', '넘넘', '쥔짜', '2월', '很累', 'Ov', 'ap', '알찬', '5', '환상', 'bè', '든다', '밋진', '廁所', 'In', 'οι', '두면', '의', '쏘', '으늠', 't2', '필', '3D', 'lt', '온듯', '구조', 'qi', '좋음', 'až', 'Eg', 'bs', '🧚']\n"
     ]
    }
   ],
   "source": [
    "def find_unique_matches(data, column):\n",
    "    # Convert column data to string type (handle NaN values gracefully)\n",
    "    column_data = data[column].astype(str)\n",
    "    \n",
    "    # Concatenate all comments into a single string\n",
    "    all_comments = ' '.join(column_data)\n",
    "    \n",
    "    # Define a regular expression pattern to match small words and punctuation marks\n",
    "    pattern = r'\\b\\w{1,2}\\b|[^\\w\\s]'\n",
    "    \n",
    "    # Find all matches of the pattern in the concatenated string\n",
    "    matches = re.findall(pattern, all_comments)\n",
    "    \n",
    "    # Return unique matches using a set comprehension\n",
    "    return set(matches)\n",
    "\n",
    "\n",
    "unique_matches = find_unique_matches(train_reviews, 'comments')\n",
    "\n",
    "# Print the unique small words and punctuation marks\n",
    "print(\"Unique small words and punctuation marks:\")\n",
    "print(list(unique_matches))\n"
   ]
  },
  {
   "cell_type": "markdown",
   "metadata": {},
   "source": [
    "lots of emojis and small words\n"
   ]
  },
  {
   "cell_type": "code",
   "execution_count": 40,
   "metadata": {},
   "outputs": [],
   "source": [
    "merged_data = pd.merge(train, train_reviews,  on='houseID', how='left')\n",
    "\n"
   ]
  },
  {
   "cell_type": "code",
   "execution_count": 41,
   "metadata": {},
   "outputs": [],
   "source": [
    "test_merged_data = pd.merge(test, test_reviews,  on='houseID', how='left')\n"
   ]
  },
  {
   "cell_type": "code",
   "execution_count": 42,
   "metadata": {},
   "outputs": [],
   "source": [
    "merged_data.drop([\"description_word_count\", \"host_about_word_count\", \"comments_word_count\"], axis=1, inplace=True)\n"
   ]
  },
  {
   "cell_type": "code",
   "execution_count": 43,
   "metadata": {},
   "outputs": [
    {
     "data": {
      "text/html": [
       "<div>\n",
       "<style scoped>\n",
       "    .dataframe tbody tr th:only-of-type {\n",
       "        vertical-align: middle;\n",
       "    }\n",
       "\n",
       "    .dataframe tbody tr th {\n",
       "        vertical-align: top;\n",
       "    }\n",
       "\n",
       "    .dataframe thead th {\n",
       "        text-align: right;\n",
       "    }\n",
       "</style>\n",
       "<table border=\"1\" class=\"dataframe\">\n",
       "  <thead>\n",
       "    <tr style=\"text-align: right;\">\n",
       "      <th></th>\n",
       "      <th>houseID</th>\n",
       "      <th>description</th>\n",
       "      <th>host_about</th>\n",
       "      <th>unlisted</th>\n",
       "      <th>language</th>\n",
       "      <th>comments</th>\n",
       "    </tr>\n",
       "  </thead>\n",
       "  <tbody>\n",
       "    <tr>\n",
       "      <th>0</th>\n",
       "      <td>1</td>\n",
       "      <td>This is a shared mixed room in our hostel, wit...</td>\n",
       "      <td>Alojamento Local Registro: 20835/AL</td>\n",
       "      <td>0</td>\n",
       "      <td>en</td>\n",
       "      <td>this is a very cozy and comfortable house to s...</td>\n",
       "    </tr>\n",
       "    <tr>\n",
       "      <th>1</th>\n",
       "      <td>1</td>\n",
       "      <td>This is a shared mixed room in our hostel, wit...</td>\n",
       "      <td>Alojamento Local Registro: 20835/AL</td>\n",
       "      <td>0</td>\n",
       "      <td>en</td>\n",
       "      <td>good&lt;br/&gt;</td>\n",
       "    </tr>\n",
       "    <tr>\n",
       "      <th>2</th>\n",
       "      <td>1</td>\n",
       "      <td>This is a shared mixed room in our hostel, wit...</td>\n",
       "      <td>Alojamento Local Registro: 20835/AL</td>\n",
       "      <td>0</td>\n",
       "      <td>en</td>\n",
       "      <td>My first hostel experience, and all I have to ...</td>\n",
       "    </tr>\n",
       "    <tr>\n",
       "      <th>3</th>\n",
       "      <td>1</td>\n",
       "      <td>This is a shared mixed room in our hostel, wit...</td>\n",
       "      <td>Alojamento Local Registro: 20835/AL</td>\n",
       "      <td>0</td>\n",
       "      <td>en</td>\n",
       "      <td>Das Hostel war neu und deshalb funktionierte a...</td>\n",
       "    </tr>\n",
       "    <tr>\n",
       "      <th>4</th>\n",
       "      <td>1</td>\n",
       "      <td>This is a shared mixed room in our hostel, wit...</td>\n",
       "      <td>Alojamento Local Registro: 20835/AL</td>\n",
       "      <td>0</td>\n",
       "      <td>en</td>\n",
       "      <td>It was fine for a dorm, but I think for the pe...</td>\n",
       "    </tr>\n",
       "    <tr>\n",
       "      <th>...</th>\n",
       "      <td>...</td>\n",
       "      <td>...</td>\n",
       "      <td>...</td>\n",
       "      <td>...</td>\n",
       "      <td>...</td>\n",
       "      <td>...</td>\n",
       "    </tr>\n",
       "    <tr>\n",
       "      <th>363279</th>\n",
       "      <td>6248</td>\n",
       "      <td>These apartments are very well located in a go...</td>\n",
       "      <td>A base da minha vida é a minha família e a min...</td>\n",
       "      <td>0</td>\n",
       "      <td>en</td>\n",
       "      <td>The location was perfect. The apartment was ve...</td>\n",
       "    </tr>\n",
       "    <tr>\n",
       "      <th>363280</th>\n",
       "      <td>6248</td>\n",
       "      <td>These apartments are very well located in a go...</td>\n",
       "      <td>A base da minha vida é a minha família e a min...</td>\n",
       "      <td>0</td>\n",
       "      <td>en</td>\n",
       "      <td>Ana's place is exactly as described and even b...</td>\n",
       "    </tr>\n",
       "    <tr>\n",
       "      <th>363281</th>\n",
       "      <td>6248</td>\n",
       "      <td>These apartments are very well located in a go...</td>\n",
       "      <td>A base da minha vida é a minha família e a min...</td>\n",
       "      <td>0</td>\n",
       "      <td>en</td>\n",
       "      <td>A Ana foi muito atenciosa e preocupou se com o...</td>\n",
       "    </tr>\n",
       "    <tr>\n",
       "      <th>363282</th>\n",
       "      <td>6248</td>\n",
       "      <td>These apartments are very well located in a go...</td>\n",
       "      <td>A base da minha vida é a minha família e a min...</td>\n",
       "      <td>0</td>\n",
       "      <td>en</td>\n",
       "      <td>No wifi nor answer. &lt;br/&gt;The wifi can’t be con...</td>\n",
       "    </tr>\n",
       "    <tr>\n",
       "      <th>363283</th>\n",
       "      <td>6248</td>\n",
       "      <td>These apartments are very well located in a go...</td>\n",
       "      <td>A base da minha vida é a minha família e a min...</td>\n",
       "      <td>0</td>\n",
       "      <td>en</td>\n",
       "      <td>O espaço é ótimo, a D. Ana foi maravilhosa e f...</td>\n",
       "    </tr>\n",
       "  </tbody>\n",
       "</table>\n",
       "<p>363284 rows × 6 columns</p>\n",
       "</div>"
      ],
      "text/plain": [
       "        houseID                                        description  \\\n",
       "0             1  This is a shared mixed room in our hostel, wit...   \n",
       "1             1  This is a shared mixed room in our hostel, wit...   \n",
       "2             1  This is a shared mixed room in our hostel, wit...   \n",
       "3             1  This is a shared mixed room in our hostel, wit...   \n",
       "4             1  This is a shared mixed room in our hostel, wit...   \n",
       "...         ...                                                ...   \n",
       "363279     6248  These apartments are very well located in a go...   \n",
       "363280     6248  These apartments are very well located in a go...   \n",
       "363281     6248  These apartments are very well located in a go...   \n",
       "363282     6248  These apartments are very well located in a go...   \n",
       "363283     6248  These apartments are very well located in a go...   \n",
       "\n",
       "                                               host_about  unlisted language  \\\n",
       "0                     Alojamento Local Registro: 20835/AL         0       en   \n",
       "1                     Alojamento Local Registro: 20835/AL         0       en   \n",
       "2                     Alojamento Local Registro: 20835/AL         0       en   \n",
       "3                     Alojamento Local Registro: 20835/AL         0       en   \n",
       "4                     Alojamento Local Registro: 20835/AL         0       en   \n",
       "...                                                   ...       ...      ...   \n",
       "363279  A base da minha vida é a minha família e a min...         0       en   \n",
       "363280  A base da minha vida é a minha família e a min...         0       en   \n",
       "363281  A base da minha vida é a minha família e a min...         0       en   \n",
       "363282  A base da minha vida é a minha família e a min...         0       en   \n",
       "363283  A base da minha vida é a minha família e a min...         0       en   \n",
       "\n",
       "                                                 comments  \n",
       "0       this is a very cozy and comfortable house to s...  \n",
       "1                                               good<br/>  \n",
       "2       My first hostel experience, and all I have to ...  \n",
       "3       Das Hostel war neu und deshalb funktionierte a...  \n",
       "4       It was fine for a dorm, but I think for the pe...  \n",
       "...                                                   ...  \n",
       "363279  The location was perfect. The apartment was ve...  \n",
       "363280  Ana's place is exactly as described and even b...  \n",
       "363281  A Ana foi muito atenciosa e preocupou se com o...  \n",
       "363282  No wifi nor answer. <br/>The wifi can’t be con...  \n",
       "363283  O espaço é ótimo, a D. Ana foi maravilhosa e f...  \n",
       "\n",
       "[363284 rows x 6 columns]"
      ]
     },
     "execution_count": 43,
     "metadata": {},
     "output_type": "execute_result"
    }
   ],
   "source": [
    "merged_data"
   ]
  },
  {
   "cell_type": "code",
   "execution_count": 44,
   "metadata": {},
   "outputs": [
    {
     "data": {
      "text/html": [
       "<div>\n",
       "<style scoped>\n",
       "    .dataframe tbody tr th:only-of-type {\n",
       "        vertical-align: middle;\n",
       "    }\n",
       "\n",
       "    .dataframe tbody tr th {\n",
       "        vertical-align: top;\n",
       "    }\n",
       "\n",
       "    .dataframe thead th {\n",
       "        text-align: right;\n",
       "    }\n",
       "</style>\n",
       "<table border=\"1\" class=\"dataframe\">\n",
       "  <thead>\n",
       "    <tr style=\"text-align: right;\">\n",
       "      <th></th>\n",
       "      <th>houseID</th>\n",
       "      <th>description</th>\n",
       "      <th>host_about</th>\n",
       "      <th>language</th>\n",
       "      <th>comments</th>\n",
       "    </tr>\n",
       "  </thead>\n",
       "  <tbody>\n",
       "    <tr>\n",
       "      <th>0</th>\n",
       "      <td>1</td>\n",
       "      <td>&lt;b&gt;The space&lt;/b&gt;&lt;br /&gt;Apartment located in the...</td>\n",
       "      <td>Gosto de viajar, de conhecer pessoas, gosto de...</td>\n",
       "      <td>en</td>\n",
       "      <td>Thank you very much Antonio ! All has been per...</td>\n",
       "    </tr>\n",
       "    <tr>\n",
       "      <th>1</th>\n",
       "      <td>1</td>\n",
       "      <td>&lt;b&gt;The space&lt;/b&gt;&lt;br /&gt;Apartment located in the...</td>\n",
       "      <td>Gosto de viajar, de conhecer pessoas, gosto de...</td>\n",
       "      <td>en</td>\n",
       "      <td>Very nice appartment in the old town of Lissab...</td>\n",
       "    </tr>\n",
       "    <tr>\n",
       "      <th>2</th>\n",
       "      <td>1</td>\n",
       "      <td>&lt;b&gt;The space&lt;/b&gt;&lt;br /&gt;Apartment located in the...</td>\n",
       "      <td>Gosto de viajar, de conhecer pessoas, gosto de...</td>\n",
       "      <td>en</td>\n",
       "      <td>When travelling we're looking for kids friendl...</td>\n",
       "    </tr>\n",
       "    <tr>\n",
       "      <th>3</th>\n",
       "      <td>1</td>\n",
       "      <td>&lt;b&gt;The space&lt;/b&gt;&lt;br /&gt;Apartment located in the...</td>\n",
       "      <td>Gosto de viajar, de conhecer pessoas, gosto de...</td>\n",
       "      <td>en</td>\n",
       "      <td>We've been in Lisbon in march 2013 (3 adults a...</td>\n",
       "    </tr>\n",
       "    <tr>\n",
       "      <th>4</th>\n",
       "      <td>1</td>\n",
       "      <td>&lt;b&gt;The space&lt;/b&gt;&lt;br /&gt;Apartment located in the...</td>\n",
       "      <td>Gosto de viajar, de conhecer pessoas, gosto de...</td>\n",
       "      <td>en</td>\n",
       "      <td>Our host Antonio was very helpful with informa...</td>\n",
       "    </tr>\n",
       "    <tr>\n",
       "      <th>...</th>\n",
       "      <td>...</td>\n",
       "      <td>...</td>\n",
       "      <td>...</td>\n",
       "      <td>...</td>\n",
       "      <td>...</td>\n",
       "    </tr>\n",
       "    <tr>\n",
       "      <th>42081</th>\n",
       "      <td>695</td>\n",
       "      <td>Apartment with terrace located in the heart of...</td>\n",
       "      <td>Founded by travel enthusiasts (just like you) ...</td>\n",
       "      <td>en</td>\n",
       "      <td>Everything was fine!</td>\n",
       "    </tr>\n",
       "    <tr>\n",
       "      <th>42082</th>\n",
       "      <td>695</td>\n",
       "      <td>Apartment with terrace located in the heart of...</td>\n",
       "      <td>Founded by travel enthusiasts (just like you) ...</td>\n",
       "      <td>en</td>\n",
       "      <td>Very good located</td>\n",
       "    </tr>\n",
       "    <tr>\n",
       "      <th>42083</th>\n",
       "      <td>695</td>\n",
       "      <td>Apartment with terrace located in the heart of...</td>\n",
       "      <td>Founded by travel enthusiasts (just like you) ...</td>\n",
       "      <td>en</td>\n",
       "      <td>Appartement confortable conforme aux photos bi...</td>\n",
       "    </tr>\n",
       "    <tr>\n",
       "      <th>42084</th>\n",
       "      <td>695</td>\n",
       "      <td>Apartment with terrace located in the heart of...</td>\n",
       "      <td>Founded by travel enthusiasts (just like you) ...</td>\n",
       "      <td>en</td>\n",
       "      <td>Très bon logement pour un week-end prolongé à ...</td>\n",
       "    </tr>\n",
       "    <tr>\n",
       "      <th>42085</th>\n",
       "      <td>695</td>\n",
       "      <td>Apartment with terrace located in the heart of...</td>\n",
       "      <td>Founded by travel enthusiasts (just like you) ...</td>\n",
       "      <td>en</td>\n",
       "      <td>The location for this apartment is great. You'...</td>\n",
       "    </tr>\n",
       "  </tbody>\n",
       "</table>\n",
       "<p>42086 rows × 5 columns</p>\n",
       "</div>"
      ],
      "text/plain": [
       "       houseID                                        description  \\\n",
       "0            1  <b>The space</b><br />Apartment located in the...   \n",
       "1            1  <b>The space</b><br />Apartment located in the...   \n",
       "2            1  <b>The space</b><br />Apartment located in the...   \n",
       "3            1  <b>The space</b><br />Apartment located in the...   \n",
       "4            1  <b>The space</b><br />Apartment located in the...   \n",
       "...        ...                                                ...   \n",
       "42081      695  Apartment with terrace located in the heart of...   \n",
       "42082      695  Apartment with terrace located in the heart of...   \n",
       "42083      695  Apartment with terrace located in the heart of...   \n",
       "42084      695  Apartment with terrace located in the heart of...   \n",
       "42085      695  Apartment with terrace located in the heart of...   \n",
       "\n",
       "                                              host_about language  \\\n",
       "0      Gosto de viajar, de conhecer pessoas, gosto de...       en   \n",
       "1      Gosto de viajar, de conhecer pessoas, gosto de...       en   \n",
       "2      Gosto de viajar, de conhecer pessoas, gosto de...       en   \n",
       "3      Gosto de viajar, de conhecer pessoas, gosto de...       en   \n",
       "4      Gosto de viajar, de conhecer pessoas, gosto de...       en   \n",
       "...                                                  ...      ...   \n",
       "42081  Founded by travel enthusiasts (just like you) ...       en   \n",
       "42082  Founded by travel enthusiasts (just like you) ...       en   \n",
       "42083  Founded by travel enthusiasts (just like you) ...       en   \n",
       "42084  Founded by travel enthusiasts (just like you) ...       en   \n",
       "42085  Founded by travel enthusiasts (just like you) ...       en   \n",
       "\n",
       "                                                comments  \n",
       "0      Thank you very much Antonio ! All has been per...  \n",
       "1      Very nice appartment in the old town of Lissab...  \n",
       "2      When travelling we're looking for kids friendl...  \n",
       "3      We've been in Lisbon in march 2013 (3 adults a...  \n",
       "4      Our host Antonio was very helpful with informa...  \n",
       "...                                                  ...  \n",
       "42081                               Everything was fine!  \n",
       "42082                                  Very good located  \n",
       "42083  Appartement confortable conforme aux photos bi...  \n",
       "42084  Très bon logement pour un week-end prolongé à ...  \n",
       "42085  The location for this apartment is great. You'...  \n",
       "\n",
       "[42086 rows x 5 columns]"
      ]
     },
     "execution_count": 44,
     "metadata": {},
     "output_type": "execute_result"
    }
   ],
   "source": [
    "test_merged_data"
   ]
  },
  {
   "cell_type": "code",
   "execution_count": 45,
   "metadata": {},
   "outputs": [
    {
     "data": {
      "text/plain": [
       "houseID           0\n",
       "description       0\n",
       "host_about        0\n",
       "unlisted          0\n",
       "language          0\n",
       "comments       2003\n",
       "dtype: int64"
      ]
     },
     "execution_count": 45,
     "metadata": {},
     "output_type": "execute_result"
    }
   ],
   "source": [
    "merged_data.isna().sum()"
   ]
  },
  {
   "cell_type": "code",
   "execution_count": 46,
   "metadata": {},
   "outputs": [
    {
     "data": {
      "text/plain": [
       "houseID          0\n",
       "description      0\n",
       "host_about       0\n",
       "language         0\n",
       "comments       220\n",
       "dtype: int64"
      ]
     },
     "execution_count": 46,
     "metadata": {},
     "output_type": "execute_result"
    }
   ],
   "source": [
    "test_merged_data.isna().sum()"
   ]
  },
  {
   "cell_type": "markdown",
   "metadata": {},
   "source": [
    " For predicting whether an Airbnb listing is unlisted (0) or not (1), missing comments might indeed carry valuable information. The absence of comments could be an important feature in itself, potentially indicating something about the listing's status. Removing could lose some valuable info for predicting. \n",
    " Different approaches : \n",
    " \n",
    "\n",
    "- Create a binary feature indicating whether a comment is missing (NaN) or not. This helps the model understand that the absence of a comment itself might be significant.\n",
    "Fill Missing Comments with a Placeholder:\n",
    "\n",
    "- Replace NaN values in the comments column with a placeholder text (e.g., \"no_comment\"). This ensures that all entries are treated as valid strings.\n",
    "\n",
    "- both"
   ]
  },
  {
   "cell_type": "code",
   "execution_count": 47,
   "metadata": {},
   "outputs": [],
   "source": [
    "merged_data['comments'].fillna('no_review', inplace=True)\n",
    "test_merged_data['comments'].fillna('no_review', inplace=True)\n"
   ]
  },
  {
   "cell_type": "code",
   "execution_count": 48,
   "metadata": {},
   "outputs": [
    {
     "data": {
      "text/plain": [
       "houseID        0\n",
       "description    0\n",
       "host_about     0\n",
       "unlisted       0\n",
       "language       0\n",
       "comments       0\n",
       "dtype: int64"
      ]
     },
     "execution_count": 48,
     "metadata": {},
     "output_type": "execute_result"
    }
   ],
   "source": [
    "merged_data.isna().sum()"
   ]
  },
  {
   "cell_type": "markdown",
   "metadata": {},
   "source": [
    "### emojis treatment\n"
   ]
  },
  {
   "cell_type": "markdown",
   "metadata": {},
   "source": [
    "The demojize() function takes a string as input and returns the string with the Unicode characters replaced by their corresponding emoji names. For example, if you pass the string “😀” to the demojize() function, it will return the string “smiley face”.\n",
    "https://codeforgeek.com/python-emoji-module/ emoji for python\n",
    "By default, the language is English (language='en') but also supported languages are:\n",
    "\n",
    "Spanish ('es')\n",
    "\n",
    "Portuguese ('pt')\n",
    "\n",
    "Italian ('it')\n",
    "\n",
    "French ('fr')\n",
    "\n",
    "German ('de')\n",
    "\n",
    "Farsi/Persian ('fa')\n",
    "\n",
    "Indonesian ('id')\n",
    "\n",
    "Simplified Chinese ('zh')\n",
    "\n",
    "Japanese ('ja')\n",
    "\n",
    "Korean ('ko')\n",
    "\n",
    "Russian ('ru')\n",
    "\n",
    "Arabic ('ar')\n",
    "\n",
    "Turkish ('tr')"
   ]
  },
  {
   "cell_type": "code",
   "execution_count": 49,
   "metadata": {},
   "outputs": [],
   "source": [
    "import emoji\n",
    "# Function to check for emojis\n",
    "def has_emojis(text):\n",
    "    if pd.isnull(text):\n",
    "        return False\n",
    "    return emoji.emoji_count(str(text)) > 0\n",
    "\n",
    "# Function to convert emojis to text\n",
    "def convert_emojis_to_text(dataframe, column_text, column_language):\n",
    "    dataframe_copy = dataframe.copy()\n",
    "\n",
    "    def convert_text(text, language):\n",
    "        if has_emojis(text):\n",
    "            try:\n",
    "                return emoji.demojize(text, language=language)\n",
    "            except:\n",
    "                return emoji.demojize(text, language='en')\n",
    "        else:\n",
    "            return text\n",
    "\n",
    "    # Apply the conversion to each row\n",
    "    dataframe_copy[column_text] = dataframe_copy.apply(\n",
    "        lambda row: convert_text(row[column_text], row[column_language]), axis=1\n",
    "    )\n",
    "    \n",
    "    return dataframe_copy\n",
    "\n",
    "\n",
    "\n"
   ]
  },
  {
   "cell_type": "code",
   "execution_count": 50,
   "metadata": {},
   "outputs": [],
   "source": [
    "# Convert emojis to text for training data\n",
    "merged_data_demojized = convert_emojis_to_text(merged_data, 'comments', 'language')"
   ]
  },
  {
   "cell_type": "code",
   "execution_count": 51,
   "metadata": {},
   "outputs": [],
   "source": [
    "test_merged_data_demojized = convert_emojis_to_text(test_merged_data, 'comments', 'language')\n"
   ]
  },
  {
   "cell_type": "markdown",
   "metadata": {},
   "source": [
    "checking if there's still emojis"
   ]
  },
  {
   "cell_type": "code",
   "execution_count": 52,
   "metadata": {},
   "outputs": [
    {
     "name": "stdout",
     "output_type": "stream",
     "text": [
      "Comments with emojis after processing:\n",
      "Index 14728: Wow, the employees, the room, the location, the garden and the coffee where all high class!<br/><br/>We loved it❤️\n",
      "Index 66611: Good stay in Sintra. They keep my bag before and after check out. Thanks a lot🙂🙂\n",
      "Index 86480: appartement très agréable , super bien situé. Anna été disponible. <br/>Seuls bémols la literie... et le voisin dus dessus qui semble frustré d'avoir un airbnb en dessous.... 🤭\n",
      "Index 86507: Ana is very helpful and accommodating host. It was easy to communicate and it was quick replies.<br/><br/>The apartment location is great, it is one step away from Alfama and city center. Also, even though it is a small apartment, it has all you need for your stay.<br/><br/>The only thing I would recommend to keep in mind - its on the third floor, steep stairs and no elevator. ☺️ But we kind of knew where we are going so it was expected.\n",
      "Index 86515: Hyper bien situé ! La communication A+… Je recommande chaudement l’appartement… Vous repartirez de votre séjour avec des cuisses musclées 💪🏽\n",
      "Index 102501: Maravilhoso apartamento, localização, tem tudo, completo, alem da decoração perfeita! O Staff sempre muito solícito e gentil! Minha segunda casa! Home sweet home! ❤️🥰\n",
      "Index 104180: Kind host, you always Can reach. I enjoyed living in a clean apartment with everything you need. Thank you for your kindness👍\n",
      "Index 104182: Izumi and Francis, are very nice and helpful, it’s a perfect apartment to spend all the days that you want, it has all the conditions for you to be comfortable and have a good time! 5 ⭐ staying, I recommend it to everybody!\n",
      "Index 104205: A perfectly situated apartment right in the Tourist area with plenty of space to relax after a busy days sightseeing. Good local food nearby.😊👌\n",
      "Index 104240: We throughly enjoyed our stay in the spacious, well equipped and comfortable appartment - we will definitely be returning 👍\n",
      "Index 142596: HaiTao est une hôte parfaite!<br/>Très avenante et accueillante, elle est restée disponible au besoin.<br/>L'appartement est très joli! Une déco soignée, une très bonne literie, une cuisine toute équipée,...<br/>Situé au rez de chaussée d'un petit immeuble, l'appartement peut convenir a tout type de voyageur (couple, famille, amis... )<br/>L'emplacement est idéal, proche des bars et restaurants, des commerces et de la plage. (Boulangerie juste en face, très bons restau a 50m)<br/>Nous avons passé un superbe séjour a Cascais !<br/>Vous pouvez y allez les yeux fermés ! 👍🏻<br/>Merci HaiTao!\n",
      "Index 142598: Haitao foi maravilhosa !!!! <br/>apartamento todo remodelado com tudo que  se precisa para passar dias confortáveis.<br/>Camas extremamente confortáveis. Toalhas e jogos de cama de qualidade. 5 estrelas. Apartamento muito central, maravilhoso!!! Perto de mercado, farmácia, comboio. Atravessando a rua uma boa Panificadora. muitos restaurantes e bares. a Equipe posso dizer que todos eles foram muito atenciosos ,respondiam rapidamente  quando precisavamos saber algo. Irei voltar com certeza!!! <br/>Muito obrigada Haitao 😘\n",
      "Index 164587: Muy recomendable,route es muy amable su apartamento es tal cual se describe en fotografías,gracias por tu hospitalidad y todas las recomendaciones!un abrazo 🤗 \n",
      "Index 164684: Super accueil, très bonne emplacement se fu un plaisir de séjourner chez Rute...😉😘\n",
      "Index 164718: Rute was extremely reactive from the moment we booked her apartment and answered all of our questions rapidly. She was extremely thoughtful and left a wonderful little welcome gift. The apartment is just perfect and we felt very at home, with all that we needed at our disposal. I totally recommend her place to anyone going to Lisbon. It is extremely clean (and I am VERY meticulous about this) and the beds are very comfortable. The apartment is walking distance from the center without being noisy at night. After very long days of visiting and walking around Lisbon, we looked forward to coming 'home' in the evenings as the apartment is very cosy and comfortable. Rute really is a 'super' host. Thank you 😊\n",
      "Index 211453: Antonio was such a great host. He waited for with keys ready and even extended my check out because my flight was later in the day and I had a child with me. Obrigado😊\n",
      "Index 225761: We had an amazing time both in the flat and in Lisboa😄 João is a cool dude, everything was easy. We specially loved the balcony for some morning Coffee ☕\n",
      "Index 225837: Appartement très cool, très propre et au niveau de l’accueille l’hôte a été très méticuleux rien à dire je vous le conseille vivement et puis la literie est très confortable 😜\n",
      "Index 225841: After travelling the world, so many countries and so many different Air&BnBs. This one without doubt was the best place I have ever stayed in, the property itself was incredible and had everything needed to work remote but not only that, João the landlord was an absolute gentleman from day one, from the first month we thought were going to be annoying him with the outlandish requests we had (regular cleaner, dishwasher, new toaster etc the list goes on)  but nothing was too much trouble for him. He is one of the best landlords I have ever met and I only wish the property was available in 2021 when we return ☹️ After meeting and experiencing one of João’s properties I’m not surprised it’s booked up. Thank you so much João.  Gentleman 👌\n",
      "Index 225883: The Airbnb location is fantastic, really near all the viewpoints and not far from city center. The place is also spacious and very cozy! Joao is very helpful and reply in time. We had a great time 😊😊\n",
      "Index 225906: The apartment is very nice, we liked being there a lot. Very clean,  a lot of space, everything you need in the kitchen including dishwasher and washing machine. Few times there was a smell from the shower but it was not all the time. Beds are super comfortable, fantastic view😍. Also<br/>there is a coffee machine. Good restaurants, great location! 👍 <br/>The lock in the front door was really tricky for us but we were lucky to meet a neighbor who showed us specific position of the key so we could open the door. We liked the apartment so much! 👍\n",
      "Index 252739: Ana is a very welcoming host and the apartment is lovely, I’ll come back 🙂\n",
      "Index 256175: If you want the perfectly located and lovely flat, you found it: flat 10/10! Communication with Mafalda 10/10, kindness and helpfulness 10/10, overall, you can guess, 10/10 😃 thanks again Mafalda!\n",
      "Index 325358: 👍\n",
      "Index 325374: Really nice experience for our first 4 nights in Portugal! Really nicely located to explore cascais, sintra and Lisbon. After a stressful experience at the airport, Diogo was kind enough to bring us a beer ! 😜 They also made sure we had everything needed for our baby. There is no cooking  included such as salt, pepper or dish soap and minimal quantity of toilet paper so you may have to buy some of those stuff :)\n"
     ]
    }
   ],
   "source": [
    "def print_comments_with_emojis(dataframe, column_text):\n",
    "    with_emojis = dataframe[dataframe[column_text].apply(has_emojis)]\n",
    "    print(\"Comments with emojis after processing:\")\n",
    "    for index, row in with_emojis.iterrows():\n",
    "        print(f\"Index {index}: {row[column_text]}\")\n",
    "\n",
    "print_comments_with_emojis(merged_data_demojized, 'comments')"
   ]
  },
  {
   "cell_type": "code",
   "execution_count": 53,
   "metadata": {},
   "outputs": [
    {
     "name": "stdout",
     "output_type": "stream",
     "text": [
      "Comments with emojis after processing:\n",
      "Index 13450: Fiquei encantada com o espaço! Super acolhedor, cómodo e cheio de estilo! <br/><br/>Com proximidade a todos os concelhos, tanto estamos na praia como na serra 😊 <br/><br/>Super atenciosos e cuidados os anfitriões! <br/>Gostei muito,<br/> obrigada\n",
      "Index 13480: Very good - local amenities good - train station if you want to venture further - nothing negative to say 😎\n",
      "Index 13485: We spent 11 night in this place, and got used to it very much, so light, clean and cozy🤗. Also, we really appreciated its location — easy to get, easy to leave👌 The communication with the host also was very pleasant!👍\n",
      "Index 13487: Clean and location are great 👍\n",
      "Index 39134: Apparement top, emplacement geniale!<br/>Vous pouvez y aller les yeux fermés 👍🏼.<br/>Merci\n"
     ]
    }
   ],
   "source": [
    "print_comments_with_emojis(test_merged_data_demojized, 'comments')"
   ]
  },
  {
   "cell_type": "markdown",
   "metadata": {},
   "source": [
    "We still have a very small percentage of emojis remaining after running the conversion function, it might be due to several factors such as unsupported emojis, non-standard emoji representations, or limitations in the emoji library. In our to prevent data leakage our decisions will be based on training data, and the test data is processed using the same rules established from the training data.\n",
    "\n"
   ]
  },
  {
   "cell_type": "markdown",
   "metadata": {},
   "source": [
    "Based on the training set, we created a dictionary mapping emojis to their textual representations. Any emoji not found in the custom dictionary will be replaced with a generic placeholder :emoji:\n",
    "\n",
    "textual representations can be found here: https://www.w3schools.com/charsets/ref_emoji_smileys.asp\n",
    "\n",
    "https://www.geeksforgeeks.org/convert-emoji-into-text-in-python/"
   ]
  },
  {
   "cell_type": "code",
   "execution_count": 54,
   "metadata": {},
   "outputs": [],
   "source": [
    "remaining_emoji_dict = {\n",
    "    '💥': ':collision:',\n",
    "    '🤭': ':face_with_hand_over_mouth:',\n",
    "    '☺️': ':white_smiling_face:',\n",
    "    '💪🏽': ':flexed_biceps_dark_skin_tone:',\n",
    "    '👍': ':thumbs_up:',\n",
    "    '⭐': ':star:',\n",
    "    '😊': ':smiling_face_with_smiling_eyes:',\n",
    "    '👌': ':ok_hand:',\n",
    "    '👍🏻': ':thumbs_up_light_skin_tone:',\n",
    "    '😘': ':face_blowing_a_kiss:',\n",
    "    '🤗': ':hugging_face:',\n",
    "    '😉': ':winking_face:',\n",
    "    '🌟': ':glowing_star:',\n",
    "    '🙂': ':slightly_smiling_face:',\n",
    "    '😱': ':face_screaming_in_fear:',\n",
    "    '😃': ':grinning_face_with_big_eyes:',\n",
    "    '❤️': ':heart:',\n",
    "    '🥰': ':smiling_face_with_hearts:',\n",
    "}"
   ]
  },
  {
   "cell_type": "code",
   "execution_count": 55,
   "metadata": {},
   "outputs": [],
   "source": [
    "import emoji\n",
    "\n",
    "\n",
    "import emoji\n",
    "\n",
    "# Define a function to check if a text contains any emojis\n",
    "def has_emojis(text):\n",
    "    return any(emoji.is_emoji(char) for char in text)\n",
    "\n",
    "# Define a function to replace the remaining emojis using a custom dictionary\n",
    "def custom_replace_remaining_emojis(text, emoji_dict):\n",
    "    for emj, desc in emoji_dict.items():\n",
    "        text = text.replace(emj, desc)\n",
    "    return text\n",
    "\n",
    "# Define a function to replace any unknown emojis with a placeholder\n",
    "def replace_unknown_emojis(text):\n",
    "    return emoji.replace_emoji(text, replace=\":emoji:\")\n",
    "\n",
    "# Define a function to process remaining emojis in the dataframe\n",
    "def process_remaining_emojis(dataframe, column_text, emoji_dict):\n",
    "    dataframe_copy = dataframe.copy()\n",
    "\n",
    "    def convert_text_with_remaining_dict(text):\n",
    "        if has_emojis(text):\n",
    "            text = custom_replace_remaining_emojis(text, emoji_dict)\n",
    "            text = replace_unknown_emojis(text)\n",
    "            return text\n",
    "        else:\n",
    "            return text\n",
    "\n",
    "    dataframe_copy[column_text] = dataframe_copy[column_text].apply(convert_text_with_remaining_dict)\n",
    "    return dataframe_copy\n",
    "\n",
    "\n",
    "\n",
    "\n"
   ]
  },
  {
   "cell_type": "code",
   "execution_count": 56,
   "metadata": {},
   "outputs": [],
   "source": [
    "merged_data_demojized = process_remaining_emojis(merged_data_demojized, 'comments', remaining_emoji_dict)\n",
    "test_merged_data_demojized = process_remaining_emojis(test_merged_data_demojized, 'comments', remaining_emoji_dict)\n",
    "\n",
    "\n",
    "\n"
   ]
  },
  {
   "cell_type": "code",
   "execution_count": 57,
   "metadata": {},
   "outputs": [
    {
     "name": "stdout",
     "output_type": "stream",
     "text": [
      "Comments with emojis after processing:\n",
      "Comments with emojis after processing:\n"
     ]
    }
   ],
   "source": [
    "def print_comments_with_emojis(dataframe, column_text):\n",
    "    with_emojis = dataframe[dataframe[column_text].apply(has_emojis)]\n",
    "    print(\"Comments with emojis after processing:\")\n",
    "    for index, row in with_emojis.iterrows():\n",
    "        print(f\"Index {index}: {row[column_text]}\")\n",
    "\n",
    "print_comments_with_emojis(merged_data_demojized, 'comments')\n",
    "print_comments_with_emojis(test_merged_data_demojized, 'comments')"
   ]
  },
  {
   "cell_type": "markdown",
   "metadata": {},
   "source": [
    "# Train- test- Split"
   ]
  },
  {
   "cell_type": "code",
   "execution_count": 138,
   "metadata": {},
   "outputs": [],
   "source": [
    "from sklearn.model_selection import train_test_split\n",
    "\n",
    "X_train, X_val, y_train, y_val = train_test_split(merged_data[['description', 'host_about', 'language', 'comments']], merged_data_demojized[['unlisted', 'houseID']], test_size=0.2, random_state=42)\n",
    "\n",
    "\n",
    "\n"
   ]
  },
  {
   "cell_type": "code",
   "execution_count": 139,
   "metadata": {},
   "outputs": [],
   "source": [
    "# Create copies of the split data\n",
    "X_train_copy = X_train.copy()\n",
    "X_val_copy = X_val.copy()\n",
    "y_train_copy = y_train.copy()\n",
    "y_val_copy = y_val.copy()\n"
   ]
  },
  {
   "cell_type": "markdown",
   "metadata": {},
   "source": [
    "# Pre-Processing"
   ]
  },
  {
   "cell_type": "markdown",
   "metadata": {},
   "source": [
    "### Cleaning Language"
   ]
  },
  {
   "cell_type": "code",
   "execution_count": 140,
   "metadata": {},
   "outputs": [
    {
     "name": "stdout",
     "output_type": "stream",
     "text": [
      "\n",
      "Language Percentages:\n",
      "en       90.110692\n",
      "pt        8.105923\n",
      "fr        0.876725\n",
      "da        0.396384\n",
      "es        0.258751\n",
      "de        0.228127\n",
      "zh-cn     0.019613\n",
      "no        0.001376\n",
      "ca        0.001032\n",
      "it        0.000688\n",
      "nl        0.000688\n",
      "Name: language, dtype: float64\n"
     ]
    }
   ],
   "source": [
    "language_counts = X_train['language'].value_counts()\n",
    "\n",
    "total_entries = len(X_train)\n",
    "language_percentages = (language_counts / total_entries) * 100\n",
    "\n",
    "print(\"\\nLanguage Percentages:\")\n",
    "print(language_percentages)"
   ]
  },
  {
   "cell_type": "markdown",
   "metadata": {},
   "source": [
    "Como ingles e portugues representam 98% eu acho que podiamos apagar as restantes linguas até porque testamos com o translate e não funcionada muito bem e era demorado"
   ]
  },
  {
   "cell_type": "code",
   "execution_count": 141,
   "metadata": {},
   "outputs": [],
   "source": [
    "desired_languages = ['en', 'pt']\n",
    "X_train = X_train[X_train['language'].isin(desired_languages)]"
   ]
  },
  {
   "cell_type": "markdown",
   "metadata": {},
   "source": [
    "### Cleaning data (stopwords, lemmanize, lowering, stemming)"
   ]
  },
  {
   "cell_type": "markdown",
   "metadata": {},
   "source": [
    "# NÃO SEI SE ESTÁ BEM FEITO I NEED HELP"
   ]
  },
  {
   "cell_type": "code",
   "execution_count": 71,
   "metadata": {},
   "outputs": [
    {
     "name": "stdout",
     "output_type": "stream",
     "text": [
      "DataFrame before cleaning:\n",
      "                                               description  \\\n",
      "296776  This apartment is the best choice for those wh...   \n",
      "97872   \"Bijou, cute, amazing, lovers' retreat, honeym...   \n",
      "306410  Bairro Alto is one of the liveliest and younge...   \n",
      "35677   Located in one of the most traditional distric...   \n",
      "230579  Central location, ideal for exploring Lisbon. ...   \n",
      "...                                                   ...   \n",
      "119879  The Mouraria Duplex Apartment is located on th...   \n",
      "259178  Amazing Modern one bedroom apartment near Merc...   \n",
      "131932  A Fantastic Comfy 1 Bed Apartment with finely ...   \n",
      "146867  Bed in a 4 mixed dorm shared wc<br /><br /><b>...   \n",
      "121958  Ideal para  2 pessoas pode acomoda até 4 pesso...   \n",
      "\n",
      "                                               host_about language  \\\n",
      "296776  Hi, my name is David and I'm renting out sever...       en   \n",
      "97872   I am english, living in Sintra, and my husband...       en   \n",
      "306410                     Bairro Alto, fun & rock & roll       en   \n",
      "35677   Hometown Experience Lisbon is a company specia...       en   \n",
      "230579   I worked as a Deck Officer in the Portuguese ...       en   \n",
      "...                                                   ...      ...   \n",
      "119879           I am from Portugal and I love traveling        en   \n",
      "259178  We are Feels Like Home Holiday Rentals.\\nA com...       en   \n",
      "131932  Hello,\\nI´m from Tomar, used to live in London...       en   \n",
      "146867  If you’re looking for a fun, fresh and friendl...       en   \n",
      "121958                           Tenho paixão pelo tango.       pt   \n",
      "\n",
      "                                                 comments  \n",
      "296776  Very good stay and trip to Lisbon!!_x000D_<br/...  \n",
      "97872   Beautiful spot. Incredible setting and view. L...  \n",
      "306410  המקום היה מעל לכל צפייה.<br/>המאחר היה אכפתי ו...  \n",
      "35677   Thank you for making us feel very welcome Char...  \n",
      "230579  Que des compliments. Très bon accueil, appart ...  \n",
      "...                                                   ...  \n",
      "119879  Logement conforme à la description, vraiment t...  \n",
      "259178  Great location! Stylish apartment with many am...  \n",
      "131932  We had a great time at William's flat. He was ...  \n",
      "146867                    I Highly recommend this hostel.  \n",
      "121958  Das Apartment war einfach super schön und auch...  \n",
      "\n",
      "[285444 rows x 4 columns]\n"
     ]
    },
    {
     "name": "stderr",
     "output_type": "stream",
     "text": [
      "100%|████████████████████████████████| 285444/285444 [02:11<00:00, 2170.04it/s]"
     ]
    },
    {
     "name": "stdout",
     "output_type": "stream",
     "text": [
      "                                              description  \\\n",
      "296776  This apartment is the best choice for those wh...   \n",
      "97872   \"Bijou, cute, amazing, lovers' retreat, honeym...   \n",
      "306410  Bairro Alto is one of the liveliest and younge...   \n",
      "35677   Located in one of the most traditional distric...   \n",
      "230579  Central location, ideal for exploring Lisbon. ...   \n",
      "...                                                   ...   \n",
      "119879  The Mouraria Duplex Apartment is located on th...   \n",
      "259178  Amazing Modern one bedroom apartment near Merc...   \n",
      "131932  A Fantastic Comfy 1 Bed Apartment with finely ...   \n",
      "146867  Bed in a 4 mixed dorm shared wc<br /><br /><b>...   \n",
      "121958  Ideal para  2 pessoas pode acomoda até 4 pesso...   \n",
      "\n",
      "                                               host_about language  \\\n",
      "296776  Hi, my name is David and I'm renting out sever...       en   \n",
      "97872   I am english, living in Sintra, and my husband...       en   \n",
      "306410                     Bairro Alto, fun & rock & roll       en   \n",
      "35677   Hometown Experience Lisbon is a company specia...       en   \n",
      "230579   I worked as a Deck Officer in the Portuguese ...       en   \n",
      "...                                                   ...      ...   \n",
      "119879           I am from Portugal and I love traveling        en   \n",
      "259178  We are Feels Like Home Holiday Rentals.\\nA com...       en   \n",
      "131932  Hello,\\nI´m from Tomar, used to live in London...       en   \n",
      "146867  If you’re looking for a fun, fresh and friendl...       en   \n",
      "121958                           Tenho paixão pelo tango.       pt   \n",
      "\n",
      "                                                 comments  \\\n",
      "296776  Very good stay and trip to Lisbon!!_x000D_<br/...   \n",
      "97872   Beautiful spot. Incredible setting and view. L...   \n",
      "306410  המקום היה מעל לכל צפייה.<br/>המאחר היה אכפתי ו...   \n",
      "35677   Thank you for making us feel very welcome Char...   \n",
      "230579  Que des compliments. Très bon accueil, appart ...   \n",
      "...                                                   ...   \n",
      "119879  Logement conforme à la description, vraiment t...   \n",
      "259178  Great location! Stylish apartment with many am...   \n",
      "131932  We had a great time at William's flat. He was ...   \n",
      "146867                    I Highly recommend this hostel.   \n",
      "121958  Das Apartment war einfach super schön und auch...   \n",
      "\n",
      "                                           clean_comments  \n",
      "296776  good stay trip lisbon x br apart ident photo q...  \n",
      "97872   beauti spot incred set view love breakfast hel...  \n",
      "306410                br br br br br br br br br br br br  \n",
      "35677   thank make u feel welcom charli patricia alex ...  \n",
      "230579  que de compliment tr bon accueil appart ultra ...  \n",
      "...                                                   ...  \n",
      "119879  logement conform la descript vraiment tr bien ...  \n",
      "259178  great locat stylish apart mani amen felt like ...  \n",
      "131932  great time william flat welcom ask x br place ...  \n",
      "146867                              high recommend hostel  \n",
      "121958  apartment war einfach sup sch n und auch sehr ...  \n",
      "\n",
      "[285444 rows x 5 columns]\n"
     ]
    },
    {
     "name": "stderr",
     "output_type": "stream",
     "text": [
      "\n"
     ]
    }
   ],
   "source": [
    "import re\n",
    "from tqdm import tqdm\n",
    "import pandas as pd\n",
    "from nltk.corpus import stopwords\n",
    "from nltk.stem import SnowballStemmer, WordNetLemmatizer\n",
    "\n",
    "stopwords_en = set(stopwords.words('english'))\n",
    "stopwords_pt = set(stopwords.words('portuguese'))\n",
    "stemmer_en = SnowballStemmer('english')\n",
    "stemmer_pt = SnowballStemmer('portuguese')\n",
    "lemma = WordNetLemmatizer()  \n",
    "\n",
    "def clean_text(text, language='en', use_lemmatizer=True, use_stemmer=True):\n",
    "    text = text.lower()\n",
    "    \n",
    "    text = re.sub(\"<br />\", \"\", text)\n",
    "    text = re.sub(\"[^a-zA-Z]\", \" \", text)\n",
    "    \n",
    "    if language in ['english', 'en']:\n",
    "        stop = stopwords_en\n",
    "        stemmer = stemmer_en\n",
    "    elif language in ['portuguese', 'pt']:\n",
    "        stop = stopwords_pt\n",
    "        stemmer = stemmer_pt\n",
    "    else:\n",
    "        raise ValueError(\"Unsupported language: \" + language)\n",
    "    \n",
    "    text = \" \".join([word for word in text.split() if word not in stop])\n",
    "    \n",
    "    if use_lemmatizer and language in ['english', 'en']:\n",
    "        text = \" \".join(lemma.lemmatize(word) for word in text.split())\n",
    "    \n",
    "    if use_stemmer:\n",
    "        text = \" \".join(stemmer.stem(word) for word in text.split())\n",
    "        \n",
    "    return text\n",
    "\n",
    "def clean_comments(df):\n",
    "    tqdm.pandas()  \n",
    "    df = df[df['language'].isin(['english', 'portuguese', 'en', 'pt'])]\n",
    "    print(\"DataFrame before cleaning:\\n\", df)\n",
    "    df['clean_comments'] = df.progress_apply(lambda row: clean_text(row['comments'], row['language']), axis=1)\n",
    "    return df\n",
    "\n",
    "X_train = clean_comments(X_train)\n",
    "\n",
    "print(X_train)\n"
   ]
  },
  {
   "cell_type": "markdown",
   "metadata": {},
   "source": [
    "### Removing Punctuation"
   ]
  },
  {
   "cell_type": "code",
   "execution_count": 142,
   "metadata": {},
   "outputs": [],
   "source": [
    "def remove_punctuation(text):\n",
    "    punctuation_set = set(string.punctuation)\n",
    "    \n",
    "    text_no_punctuation = ''.join([char for char in text if char not in punctuation_set])\n",
    "    \n",
    "    return text_no_punctuation\n",
    "\n",
    "X_train[\"comments\"] = X_train[\"comments\"].apply(remove_punctuation)\n"
   ]
  },
  {
   "cell_type": "markdown",
   "metadata": {},
   "source": [
    "### Removing accents "
   ]
  },
  {
   "cell_type": "code",
   "execution_count": 144,
   "metadata": {},
   "outputs": [],
   "source": [
    "from unidecode import unidecode\n",
    "import unicodedata\n",
    "import re\n",
    "\n",
    "accent_mapping = {\n",
    "    'à': 'a', 'á': 'a', 'â': 'a', 'ã': 'a', 'ä': 'a', 'å': 'a', 'æ': 'ae', 'ā': 'a',\n",
    "    'è': 'e', 'é': 'e', 'ê': 'e', 'ë': 'e', 'ē': 'e',\n",
    "    'ì': 'i', 'í': 'i', 'î': 'i', 'ï': 'i',\n",
    "    'ò': 'o', 'ó': 'o', 'ô': 'o', 'õ': 'o', 'ö': 'o', 'ø': 'o', 'œ': 'oe',\n",
    "    'ù': 'u', 'ú': 'u', 'û': 'u', 'ü': 'u', 'ū': 'u', 'ů': 'u',\n",
    "    'ç': 'c',\n",
    "    'ñ': 'n',\n",
    "    'ś': 's', 'š': 's', 'ß': 'ss',\n",
    "    'ź': 'z', 'ż': 'z', 'ž': 'z'\n",
    "}\n",
    "\n",
    "def remove_accents(text):\n",
    "    for char in accent_mapping:\n",
    "        text = text.replace(char, accent_mapping[char])\n",
    "    return text\n",
    "\n",
    "X_train[\"comments\"] = X_train[\"comments\"].apply(remove_accents)\n"
   ]
  },
  {
   "cell_type": "markdown",
   "metadata": {},
   "source": [
    "### Tokenization"
   ]
  },
  {
   "cell_type": "code",
   "execution_count": 146,
   "metadata": {},
   "outputs": [
    {
     "name": "stderr",
     "output_type": "stream",
     "text": [
      "[nltk_data] Downloading package punkt to\n",
      "[nltk_data]     C:\\Users\\barbara\\AppData\\Roaming\\nltk_data...\n",
      "[nltk_data]   Package punkt is already up-to-date!\n",
      "[nltk_data] Downloading package stopwords to\n",
      "[nltk_data]     C:\\Users\\barbara\\AppData\\Roaming\\nltk_data...\n",
      "[nltk_data]   Package stopwords is already up-to-date!\n",
      "[nltk_data] Downloading package wordnet to\n",
      "[nltk_data]     C:\\Users\\barbara\\AppData\\Roaming\\nltk_data...\n",
      "[nltk_data]   Package wordnet is already up-to-date!\n"
     ]
    },
    {
     "data": {
      "text/plain": [
       "True"
      ]
     },
     "execution_count": 146,
     "metadata": {},
     "output_type": "execute_result"
    }
   ],
   "source": [
    "import nltk\n",
    "from nltk.tokenize import word_tokenize\n",
    "import nltk\n",
    "nltk.download('punkt')\n",
    "nltk.download('stopwords')  \n",
    "nltk.download('wordnet')"
   ]
  },
  {
   "cell_type": "code",
   "execution_count": 147,
   "metadata": {},
   "outputs": [],
   "source": [
    "X_train[\"comments\"] = X_train['comments'].apply(word_tokenize)"
   ]
  }
 ],
 "metadata": {
  "kernelspec": {
   "display_name": "Python 3 (ipykernel)",
   "language": "python",
   "name": "python3"
  },
  "language_info": {
   "codemirror_mode": {
    "name": "ipython",
    "version": 3
   },
   "file_extension": ".py",
   "mimetype": "text/x-python",
   "name": "python",
   "nbconvert_exporter": "python",
   "pygments_lexer": "ipython3",
   "version": "3.9.7"
  }
 },
 "nbformat": 4,
 "nbformat_minor": 2
}
