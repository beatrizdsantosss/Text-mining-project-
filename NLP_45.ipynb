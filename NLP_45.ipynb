{
 "cells": [
  {
   "cell_type": "code",
   "execution_count": 1,
   "metadata": {},
   "outputs": [],
   "source": [
    "#OLÁAAA"
   ]
  },
  {
   "cell_type": "markdown",
   "metadata": {},
   "source": [
    "# Text Mining Project"
   ]
  },
  {
   "cell_type": "markdown",
   "metadata": {},
   "source": [
    "Text Mining project\n"
   ]
  },
  {
   "cell_type": "code",
   "execution_count": 2,
   "metadata": {},
   "outputs": [],
   "source": [
    "#pip install langdetect\n"
   ]
  },
  {
   "cell_type": "code",
   "execution_count": 3,
   "metadata": {},
   "outputs": [],
   "source": [
    "import pandas as pd\n",
    "from langdetect import detect\n",
    "import matplotlib.pyplot as plt\n",
    "import seaborn as sns\n",
    "import re\n",
    "import numpy as np"
   ]
  },
  {
   "cell_type": "code",
   "execution_count": 4,
   "metadata": {},
   "outputs": [],
   "source": [
    "\n",
    "\n",
    "train = pd.read_excel(\"train.xlsx\")\n",
    "train_reviews = pd.read_excel(\"train_reviews.xlsx\")\n",
    "test = pd.read_excel(\"test.xlsx\")\n",
    "test_reviews = pd.read_excel(\"test_reviews.xlsx\")\n",
    "\n"
   ]
  },
  {
   "cell_type": "markdown",
   "metadata": {},
   "source": [
    "## Data exploration"
   ]
  },
  {
   "cell_type": "code",
   "execution_count": 5,
   "metadata": {},
   "outputs": [
    {
     "data": {
      "text/html": [
       "<div>\n",
       "<style scoped>\n",
       "    .dataframe tbody tr th:only-of-type {\n",
       "        vertical-align: middle;\n",
       "    }\n",
       "\n",
       "    .dataframe tbody tr th {\n",
       "        vertical-align: top;\n",
       "    }\n",
       "\n",
       "    .dataframe thead th {\n",
       "        text-align: right;\n",
       "    }\n",
       "</style>\n",
       "<table border=\"1\" class=\"dataframe\">\n",
       "  <thead>\n",
       "    <tr style=\"text-align: right;\">\n",
       "      <th></th>\n",
       "      <th>index</th>\n",
       "      <th>description</th>\n",
       "      <th>host_about</th>\n",
       "      <th>unlisted</th>\n",
       "    </tr>\n",
       "  </thead>\n",
       "  <tbody>\n",
       "    <tr>\n",
       "      <th>0</th>\n",
       "      <td>1</td>\n",
       "      <td>This is a shared mixed room in our hostel, wit...</td>\n",
       "      <td>Alojamento Local Registro: 20835/AL</td>\n",
       "      <td>0</td>\n",
       "    </tr>\n",
       "    <tr>\n",
       "      <th>1</th>\n",
       "      <td>2</td>\n",
       "      <td>O meu espaço fica perto de Parque Eduardo VII,...</td>\n",
       "      <td>I am friendly host, and I will try to always b...</td>\n",
       "      <td>1</td>\n",
       "    </tr>\n",
       "    <tr>\n",
       "      <th>2</th>\n",
       "      <td>3</td>\n",
       "      <td>Trafaria’s House is a cozy and familiar villa ...</td>\n",
       "      <td>I am a social person liking to communicate, re...</td>\n",
       "      <td>1</td>\n",
       "    </tr>\n",
       "    <tr>\n",
       "      <th>3</th>\n",
       "      <td>4</td>\n",
       "      <td>Apartamento Charmoso no Chiado, Entre o Largo ...</td>\n",
       "      <td>Hello!_x000D_\\nI m Portuguese and i love to me...</td>\n",
       "      <td>0</td>\n",
       "    </tr>\n",
       "    <tr>\n",
       "      <th>4</th>\n",
       "      <td>5</td>\n",
       "      <td>Joli appartement  en bordure de mer.&lt;br /&gt; 2 m...</td>\n",
       "      <td>Nous sommes une famille avec deux enfants de 1...</td>\n",
       "      <td>0</td>\n",
       "    </tr>\n",
       "  </tbody>\n",
       "</table>\n",
       "</div>"
      ],
      "text/plain": [
       "   index                                        description  \\\n",
       "0      1  This is a shared mixed room in our hostel, wit...   \n",
       "1      2  O meu espaço fica perto de Parque Eduardo VII,...   \n",
       "2      3  Trafaria’s House is a cozy and familiar villa ...   \n",
       "3      4  Apartamento Charmoso no Chiado, Entre o Largo ...   \n",
       "4      5  Joli appartement  en bordure de mer.<br /> 2 m...   \n",
       "\n",
       "                                          host_about  unlisted  \n",
       "0                Alojamento Local Registro: 20835/AL         0  \n",
       "1  I am friendly host, and I will try to always b...         1  \n",
       "2  I am a social person liking to communicate, re...         1  \n",
       "3  Hello!_x000D_\\nI m Portuguese and i love to me...         0  \n",
       "4  Nous sommes une famille avec deux enfants de 1...         0  "
      ]
     },
     "execution_count": 5,
     "metadata": {},
     "output_type": "execute_result"
    }
   ],
   "source": [
    "train.head()"
   ]
  },
  {
   "cell_type": "code",
   "execution_count": 6,
   "metadata": {},
   "outputs": [
    {
     "data": {
      "text/html": [
       "<div>\n",
       "<style scoped>\n",
       "    .dataframe tbody tr th:only-of-type {\n",
       "        vertical-align: middle;\n",
       "    }\n",
       "\n",
       "    .dataframe tbody tr th {\n",
       "        vertical-align: top;\n",
       "    }\n",
       "\n",
       "    .dataframe thead th {\n",
       "        text-align: right;\n",
       "    }\n",
       "</style>\n",
       "<table border=\"1\" class=\"dataframe\">\n",
       "  <thead>\n",
       "    <tr style=\"text-align: right;\">\n",
       "      <th></th>\n",
       "      <th>index</th>\n",
       "      <th>comments</th>\n",
       "    </tr>\n",
       "  </thead>\n",
       "  <tbody>\n",
       "    <tr>\n",
       "      <th>0</th>\n",
       "      <td>1</td>\n",
       "      <td>this is a very cozy and comfortable house to s...</td>\n",
       "    </tr>\n",
       "    <tr>\n",
       "      <th>1</th>\n",
       "      <td>1</td>\n",
       "      <td>good&lt;br/&gt;</td>\n",
       "    </tr>\n",
       "    <tr>\n",
       "      <th>2</th>\n",
       "      <td>1</td>\n",
       "      <td>My first hostel experience, and all I have to ...</td>\n",
       "    </tr>\n",
       "    <tr>\n",
       "      <th>3</th>\n",
       "      <td>1</td>\n",
       "      <td>Das Hostel war neu und deshalb funktionierte a...</td>\n",
       "    </tr>\n",
       "    <tr>\n",
       "      <th>4</th>\n",
       "      <td>1</td>\n",
       "      <td>It was fine for a dorm, but I think for the pe...</td>\n",
       "    </tr>\n",
       "  </tbody>\n",
       "</table>\n",
       "</div>"
      ],
      "text/plain": [
       "   index                                           comments\n",
       "0      1  this is a very cozy and comfortable house to s...\n",
       "1      1                                          good<br/>\n",
       "2      1  My first hostel experience, and all I have to ...\n",
       "3      1  Das Hostel war neu und deshalb funktionierte a...\n",
       "4      1  It was fine for a dorm, but I think for the pe..."
      ]
     },
     "execution_count": 6,
     "metadata": {},
     "output_type": "execute_result"
    }
   ],
   "source": [
    "train_reviews.head()"
   ]
  },
  {
   "cell_type": "code",
   "execution_count": 7,
   "metadata": {},
   "outputs": [
    {
     "data": {
      "text/html": [
       "<div>\n",
       "<style scoped>\n",
       "    .dataframe tbody tr th:only-of-type {\n",
       "        vertical-align: middle;\n",
       "    }\n",
       "\n",
       "    .dataframe tbody tr th {\n",
       "        vertical-align: top;\n",
       "    }\n",
       "\n",
       "    .dataframe thead th {\n",
       "        text-align: right;\n",
       "    }\n",
       "</style>\n",
       "<table border=\"1\" class=\"dataframe\">\n",
       "  <thead>\n",
       "    <tr style=\"text-align: right;\">\n",
       "      <th></th>\n",
       "      <th>index</th>\n",
       "      <th>description</th>\n",
       "      <th>host_about</th>\n",
       "    </tr>\n",
       "  </thead>\n",
       "  <tbody>\n",
       "    <tr>\n",
       "      <th>0</th>\n",
       "      <td>1</td>\n",
       "      <td>&lt;b&gt;The space&lt;/b&gt;&lt;br /&gt;Apartment located in the...</td>\n",
       "      <td>Gosto de viajar, de conhecer pessoas, gosto de...</td>\n",
       "    </tr>\n",
       "    <tr>\n",
       "      <th>1</th>\n",
       "      <td>2</td>\n",
       "      <td>IMPORTANT: In response to COVID-19, this prope...</td>\n",
       "      <td>We are the be@home Team!\\n\\nYou can count on u...</td>\n",
       "    </tr>\n",
       "    <tr>\n",
       "      <th>2</th>\n",
       "      <td>3</td>\n",
       "      <td>Bright, beautiful, and spacious. This four-bed...</td>\n",
       "      <td>Hi there!\\n\\nWe're GuestReady, a professional ...</td>\n",
       "    </tr>\n",
       "    <tr>\n",
       "      <th>3</th>\n",
       "      <td>4</td>\n",
       "      <td>Charming Apartment Close to the Bay of Cascais...</td>\n",
       "      <td>:)</td>\n",
       "    </tr>\n",
       "    <tr>\n",
       "      <th>4</th>\n",
       "      <td>5</td>\n",
       "      <td>Se procura umas férias perto da praia, casino ...</td>\n",
       "      <td>Bem vindos a Portugal!_x000D_\\nAdoro o meu Paí...</td>\n",
       "    </tr>\n",
       "  </tbody>\n",
       "</table>\n",
       "</div>"
      ],
      "text/plain": [
       "   index                                        description  \\\n",
       "0      1  <b>The space</b><br />Apartment located in the...   \n",
       "1      2  IMPORTANT: In response to COVID-19, this prope...   \n",
       "2      3  Bright, beautiful, and spacious. This four-bed...   \n",
       "3      4  Charming Apartment Close to the Bay of Cascais...   \n",
       "4      5  Se procura umas férias perto da praia, casino ...   \n",
       "\n",
       "                                          host_about  \n",
       "0  Gosto de viajar, de conhecer pessoas, gosto de...  \n",
       "1  We are the be@home Team!\\n\\nYou can count on u...  \n",
       "2  Hi there!\\n\\nWe're GuestReady, a professional ...  \n",
       "3                                                 :)  \n",
       "4  Bem vindos a Portugal!_x000D_\\nAdoro o meu Paí...  "
      ]
     },
     "execution_count": 7,
     "metadata": {},
     "output_type": "execute_result"
    }
   ],
   "source": [
    "test.head()"
   ]
  },
  {
   "cell_type": "code",
   "execution_count": 8,
   "metadata": {},
   "outputs": [
    {
     "data": {
      "text/html": [
       "<div>\n",
       "<style scoped>\n",
       "    .dataframe tbody tr th:only-of-type {\n",
       "        vertical-align: middle;\n",
       "    }\n",
       "\n",
       "    .dataframe tbody tr th {\n",
       "        vertical-align: top;\n",
       "    }\n",
       "\n",
       "    .dataframe thead th {\n",
       "        text-align: right;\n",
       "    }\n",
       "</style>\n",
       "<table border=\"1\" class=\"dataframe\">\n",
       "  <thead>\n",
       "    <tr style=\"text-align: right;\">\n",
       "      <th></th>\n",
       "      <th>index</th>\n",
       "      <th>comments</th>\n",
       "    </tr>\n",
       "  </thead>\n",
       "  <tbody>\n",
       "    <tr>\n",
       "      <th>0</th>\n",
       "      <td>1</td>\n",
       "      <td>Thank you very much Antonio ! All has been per...</td>\n",
       "    </tr>\n",
       "    <tr>\n",
       "      <th>1</th>\n",
       "      <td>1</td>\n",
       "      <td>Very nice appartment in the old town of Lissab...</td>\n",
       "    </tr>\n",
       "    <tr>\n",
       "      <th>2</th>\n",
       "      <td>1</td>\n",
       "      <td>When travelling we're looking for kids friendl...</td>\n",
       "    </tr>\n",
       "    <tr>\n",
       "      <th>3</th>\n",
       "      <td>1</td>\n",
       "      <td>We've been in Lisbon in march 2013 (3 adults a...</td>\n",
       "    </tr>\n",
       "    <tr>\n",
       "      <th>4</th>\n",
       "      <td>1</td>\n",
       "      <td>Our host Antonio was very helpful with informa...</td>\n",
       "    </tr>\n",
       "  </tbody>\n",
       "</table>\n",
       "</div>"
      ],
      "text/plain": [
       "   index                                           comments\n",
       "0      1  Thank you very much Antonio ! All has been per...\n",
       "1      1  Very nice appartment in the old town of Lissab...\n",
       "2      1  When travelling we're looking for kids friendl...\n",
       "3      1  We've been in Lisbon in march 2013 (3 adults a...\n",
       "4      1  Our host Antonio was very helpful with informa..."
      ]
     },
     "execution_count": 8,
     "metadata": {},
     "output_type": "execute_result"
    }
   ],
   "source": [
    "test_reviews.head()"
   ]
  },
  {
   "cell_type": "code",
   "execution_count": 9,
   "metadata": {},
   "outputs": [
    {
     "name": "stdout",
     "output_type": "stream",
     "text": [
      "train shape: (6248, 4)\n",
      "train_reviews shape: (361281, 2)\n",
      "test shape: (695, 3)\n",
      "test_reviews shape: (41866, 2)\n"
     ]
    }
   ],
   "source": [
    "print(\"train shape:\", train.shape)\n",
    "print(\"train_reviews shape:\", train_reviews.shape)\n",
    "print(\"test shape:\", test.shape)\n",
    "print(\"test_reviews shape:\", test_reviews.shape)\n"
   ]
  },
  {
   "cell_type": "markdown",
   "metadata": {},
   "source": [
    "in DATASETS the index repeats, which may indicate that refers to a specific house. We'll change this column to house ID\n"
   ]
  },
  {
   "cell_type": "code",
   "execution_count": 10,
   "metadata": {},
   "outputs": [],
   "source": [
    "train.rename(columns={'index': 'houseID'}, inplace=True)\n",
    "train_reviews.rename(columns={'index': 'houseID'}, inplace=True)\n",
    "test.rename(columns={'index': 'houseID'}, inplace=True)\n",
    "test_reviews.rename(columns={'index': 'houseID'}, inplace=True)\n",
    "\n"
   ]
  },
  {
   "cell_type": "code",
   "execution_count": 11,
   "metadata": {},
   "outputs": [
    {
     "name": "stdout",
     "output_type": "stream",
     "text": [
      "<class 'pandas.core.frame.DataFrame'>\n",
      "RangeIndex: 6248 entries, 0 to 6247\n",
      "Data columns (total 4 columns):\n",
      " #   Column       Non-Null Count  Dtype \n",
      "---  ------       --------------  ----- \n",
      " 0   houseID      6248 non-null   int64 \n",
      " 1   description  6248 non-null   object\n",
      " 2   host_about   6248 non-null   object\n",
      " 3   unlisted     6248 non-null   int64 \n",
      "dtypes: int64(2), object(2)\n",
      "memory usage: 195.4+ KB\n"
     ]
    }
   ],
   "source": [
    "train.info()"
   ]
  },
  {
   "cell_type": "markdown",
   "metadata": {},
   "source": [
    "there's no missing values in any feature"
   ]
  },
  {
   "cell_type": "code",
   "execution_count": 12,
   "metadata": {},
   "outputs": [
    {
     "name": "stdout",
     "output_type": "stream",
     "text": [
      "<class 'pandas.core.frame.DataFrame'>\n",
      "RangeIndex: 361281 entries, 0 to 361280\n",
      "Data columns (total 2 columns):\n",
      " #   Column    Non-Null Count   Dtype \n",
      "---  ------    --------------   ----- \n",
      " 0   houseID   361281 non-null  int64 \n",
      " 1   comments  361281 non-null  object\n",
      "dtypes: int64(1), object(1)\n",
      "memory usage: 5.5+ MB\n"
     ]
    }
   ],
   "source": [
    "train_reviews.info()"
   ]
  },
  {
   "cell_type": "code",
   "execution_count": 13,
   "metadata": {},
   "outputs": [
    {
     "name": "stdout",
     "output_type": "stream",
     "text": [
      "<class 'pandas.core.frame.DataFrame'>\n",
      "RangeIndex: 695 entries, 0 to 694\n",
      "Data columns (total 3 columns):\n",
      " #   Column       Non-Null Count  Dtype \n",
      "---  ------       --------------  ----- \n",
      " 0   houseID      695 non-null    int64 \n",
      " 1   description  695 non-null    object\n",
      " 2   host_about   695 non-null    object\n",
      "dtypes: int64(1), object(2)\n",
      "memory usage: 16.4+ KB\n"
     ]
    }
   ],
   "source": [
    "test.info()"
   ]
  },
  {
   "cell_type": "code",
   "execution_count": 14,
   "metadata": {},
   "outputs": [
    {
     "name": "stdout",
     "output_type": "stream",
     "text": [
      "<class 'pandas.core.frame.DataFrame'>\n",
      "RangeIndex: 41866 entries, 0 to 41865\n",
      "Data columns (total 2 columns):\n",
      " #   Column    Non-Null Count  Dtype \n",
      "---  ------    --------------  ----- \n",
      " 0   houseID   41866 non-null  int64 \n",
      " 1   comments  41866 non-null  object\n",
      "dtypes: int64(1), object(1)\n",
      "memory usage: 654.3+ KB\n"
     ]
    }
   ],
   "source": [
    "test_reviews.info()"
   ]
  },
  {
   "cell_type": "code",
   "execution_count": 15,
   "metadata": {},
   "outputs": [
    {
     "data": {
      "text/html": [
       "<div>\n",
       "<style scoped>\n",
       "    .dataframe tbody tr th:only-of-type {\n",
       "        vertical-align: middle;\n",
       "    }\n",
       "\n",
       "    .dataframe tbody tr th {\n",
       "        vertical-align: top;\n",
       "    }\n",
       "\n",
       "    .dataframe thead th {\n",
       "        text-align: right;\n",
       "    }\n",
       "</style>\n",
       "<table border=\"1\" class=\"dataframe\">\n",
       "  <thead>\n",
       "    <tr style=\"text-align: right;\">\n",
       "      <th></th>\n",
       "      <th>houseID</th>\n",
       "      <th>description</th>\n",
       "      <th>host_about</th>\n",
       "      <th>unlisted</th>\n",
       "    </tr>\n",
       "  </thead>\n",
       "  <tbody>\n",
       "    <tr>\n",
       "      <th>0</th>\n",
       "      <td>1</td>\n",
       "      <td>This is a shared mixed room in our hostel, wit...</td>\n",
       "      <td>Alojamento Local Registro: 20835/AL</td>\n",
       "      <td>0</td>\n",
       "    </tr>\n",
       "    <tr>\n",
       "      <th>1</th>\n",
       "      <td>2</td>\n",
       "      <td>O meu espaço fica perto de Parque Eduardo VII,...</td>\n",
       "      <td>I am friendly host, and I will try to always b...</td>\n",
       "      <td>1</td>\n",
       "    </tr>\n",
       "    <tr>\n",
       "      <th>2</th>\n",
       "      <td>3</td>\n",
       "      <td>Trafaria’s House is a cozy and familiar villa ...</td>\n",
       "      <td>I am a social person liking to communicate, re...</td>\n",
       "      <td>1</td>\n",
       "    </tr>\n",
       "    <tr>\n",
       "      <th>3</th>\n",
       "      <td>4</td>\n",
       "      <td>Apartamento Charmoso no Chiado, Entre o Largo ...</td>\n",
       "      <td>Hello!_x000D_\\nI m Portuguese and i love to me...</td>\n",
       "      <td>0</td>\n",
       "    </tr>\n",
       "    <tr>\n",
       "      <th>4</th>\n",
       "      <td>5</td>\n",
       "      <td>Joli appartement  en bordure de mer.&lt;br /&gt; 2 m...</td>\n",
       "      <td>Nous sommes une famille avec deux enfants de 1...</td>\n",
       "      <td>0</td>\n",
       "    </tr>\n",
       "    <tr>\n",
       "      <th>...</th>\n",
       "      <td>...</td>\n",
       "      <td>...</td>\n",
       "      <td>...</td>\n",
       "      <td>...</td>\n",
       "    </tr>\n",
       "    <tr>\n",
       "      <th>6243</th>\n",
       "      <td>6244</td>\n",
       "      <td>Studio 15 is a new, very well decorated and co...</td>\n",
       "      <td>I'm a Brand Manager from Lisbon in Portugal bu...</td>\n",
       "      <td>0</td>\n",
       "    </tr>\n",
       "    <tr>\n",
       "      <th>6244</th>\n",
       "      <td>6245</td>\n",
       "      <td>Lisbon meets a cosmopolitan industrial one-bed...</td>\n",
       "      <td>Home is where feelings are visitors. How do we...</td>\n",
       "      <td>0</td>\n",
       "    </tr>\n",
       "    <tr>\n",
       "      <th>6245</th>\n",
       "      <td>6246</td>\n",
       "      <td>&lt;b&gt;License number&lt;/b&gt;&lt;br /&gt;Exempt</td>\n",
       "      <td>I am a travel agent passionate by cultures. \\n...</td>\n",
       "      <td>1</td>\n",
       "    </tr>\n",
       "    <tr>\n",
       "      <th>6246</th>\n",
       "      <td>6247</td>\n",
       "      <td>Campo Pequeno Prestige is a classy and top qua...</td>\n",
       "      <td>Família_x000D_\\nPortugal_x000D_\\nGavião_x000D_...</td>\n",
       "      <td>0</td>\n",
       "    </tr>\n",
       "    <tr>\n",
       "      <th>6247</th>\n",
       "      <td>6248</td>\n",
       "      <td>These apartments are very well located in a go...</td>\n",
       "      <td>A base da minha vida é a minha família e a min...</td>\n",
       "      <td>0</td>\n",
       "    </tr>\n",
       "  </tbody>\n",
       "</table>\n",
       "<p>6248 rows × 4 columns</p>\n",
       "</div>"
      ],
      "text/plain": [
       "      houseID                                        description  \\\n",
       "0           1  This is a shared mixed room in our hostel, wit...   \n",
       "1           2  O meu espaço fica perto de Parque Eduardo VII,...   \n",
       "2           3  Trafaria’s House is a cozy and familiar villa ...   \n",
       "3           4  Apartamento Charmoso no Chiado, Entre o Largo ...   \n",
       "4           5  Joli appartement  en bordure de mer.<br /> 2 m...   \n",
       "...       ...                                                ...   \n",
       "6243     6244  Studio 15 is a new, very well decorated and co...   \n",
       "6244     6245  Lisbon meets a cosmopolitan industrial one-bed...   \n",
       "6245     6246                  <b>License number</b><br />Exempt   \n",
       "6246     6247  Campo Pequeno Prestige is a classy and top qua...   \n",
       "6247     6248  These apartments are very well located in a go...   \n",
       "\n",
       "                                             host_about  unlisted  \n",
       "0                   Alojamento Local Registro: 20835/AL         0  \n",
       "1     I am friendly host, and I will try to always b...         1  \n",
       "2     I am a social person liking to communicate, re...         1  \n",
       "3     Hello!_x000D_\\nI m Portuguese and i love to me...         0  \n",
       "4     Nous sommes une famille avec deux enfants de 1...         0  \n",
       "...                                                 ...       ...  \n",
       "6243  I'm a Brand Manager from Lisbon in Portugal bu...         0  \n",
       "6244  Home is where feelings are visitors. How do we...         0  \n",
       "6245  I am a travel agent passionate by cultures. \\n...         1  \n",
       "6246  Família_x000D_\\nPortugal_x000D_\\nGavião_x000D_...         0  \n",
       "6247  A base da minha vida é a minha família e a min...         0  \n",
       "\n",
       "[6248 rows x 4 columns]"
      ]
     },
     "execution_count": 15,
     "metadata": {},
     "output_type": "execute_result"
    }
   ],
   "source": [
    "train"
   ]
  },
  {
   "cell_type": "code",
   "execution_count": 16,
   "metadata": {},
   "outputs": [
    {
     "data": {
      "text/html": [
       "<div>\n",
       "<style scoped>\n",
       "    .dataframe tbody tr th:only-of-type {\n",
       "        vertical-align: middle;\n",
       "    }\n",
       "\n",
       "    .dataframe tbody tr th {\n",
       "        vertical-align: top;\n",
       "    }\n",
       "\n",
       "    .dataframe thead th {\n",
       "        text-align: right;\n",
       "    }\n",
       "</style>\n",
       "<table border=\"1\" class=\"dataframe\">\n",
       "  <thead>\n",
       "    <tr style=\"text-align: right;\">\n",
       "      <th></th>\n",
       "      <th>houseID</th>\n",
       "      <th>comments</th>\n",
       "    </tr>\n",
       "  </thead>\n",
       "  <tbody>\n",
       "    <tr>\n",
       "      <th>0</th>\n",
       "      <td>1</td>\n",
       "      <td>this is a very cozy and comfortable house to s...</td>\n",
       "    </tr>\n",
       "    <tr>\n",
       "      <th>1</th>\n",
       "      <td>1</td>\n",
       "      <td>good&lt;br/&gt;</td>\n",
       "    </tr>\n",
       "    <tr>\n",
       "      <th>2</th>\n",
       "      <td>1</td>\n",
       "      <td>My first hostel experience, and all I have to ...</td>\n",
       "    </tr>\n",
       "    <tr>\n",
       "      <th>3</th>\n",
       "      <td>1</td>\n",
       "      <td>Das Hostel war neu und deshalb funktionierte a...</td>\n",
       "    </tr>\n",
       "    <tr>\n",
       "      <th>4</th>\n",
       "      <td>1</td>\n",
       "      <td>It was fine for a dorm, but I think for the pe...</td>\n",
       "    </tr>\n",
       "    <tr>\n",
       "      <th>...</th>\n",
       "      <td>...</td>\n",
       "      <td>...</td>\n",
       "    </tr>\n",
       "    <tr>\n",
       "      <th>361276</th>\n",
       "      <td>6248</td>\n",
       "      <td>The location was perfect. The apartment was ve...</td>\n",
       "    </tr>\n",
       "    <tr>\n",
       "      <th>361277</th>\n",
       "      <td>6248</td>\n",
       "      <td>Ana's place is exactly as described and even b...</td>\n",
       "    </tr>\n",
       "    <tr>\n",
       "      <th>361278</th>\n",
       "      <td>6248</td>\n",
       "      <td>A Ana foi muito atenciosa e preocupou se com o...</td>\n",
       "    </tr>\n",
       "    <tr>\n",
       "      <th>361279</th>\n",
       "      <td>6248</td>\n",
       "      <td>No wifi nor answer. &lt;br/&gt;The wifi can’t be con...</td>\n",
       "    </tr>\n",
       "    <tr>\n",
       "      <th>361280</th>\n",
       "      <td>6248</td>\n",
       "      <td>O espaço é ótimo, a D. Ana foi maravilhosa e f...</td>\n",
       "    </tr>\n",
       "  </tbody>\n",
       "</table>\n",
       "<p>361281 rows × 2 columns</p>\n",
       "</div>"
      ],
      "text/plain": [
       "        houseID                                           comments\n",
       "0             1  this is a very cozy and comfortable house to s...\n",
       "1             1                                          good<br/>\n",
       "2             1  My first hostel experience, and all I have to ...\n",
       "3             1  Das Hostel war neu und deshalb funktionierte a...\n",
       "4             1  It was fine for a dorm, but I think for the pe...\n",
       "...         ...                                                ...\n",
       "361276     6248  The location was perfect. The apartment was ve...\n",
       "361277     6248  Ana's place is exactly as described and even b...\n",
       "361278     6248  A Ana foi muito atenciosa e preocupou se com o...\n",
       "361279     6248  No wifi nor answer. <br/>The wifi can’t be con...\n",
       "361280     6248  O espaço é ótimo, a D. Ana foi maravilhosa e f...\n",
       "\n",
       "[361281 rows x 2 columns]"
      ]
     },
     "execution_count": 16,
     "metadata": {},
     "output_type": "execute_result"
    }
   ],
   "source": [
    "train_reviews"
   ]
  },
  {
   "cell_type": "code",
   "execution_count": 17,
   "metadata": {},
   "outputs": [],
   "source": [
    "train = train.copy()\n",
    "train_reviews = train_reviews.copy()\n",
    "test = test.copy()\n",
    "test_reviews = test_reviews.copy()"
   ]
  },
  {
   "cell_type": "code",
   "execution_count": 18,
   "metadata": {},
   "outputs": [
    {
     "data": {
      "text/plain": [
       "0"
      ]
     },
     "execution_count": 18,
     "metadata": {},
     "output_type": "execute_result"
    }
   ],
   "source": [
    "train.duplicated().sum()"
   ]
  },
  {
   "cell_type": "code",
   "execution_count": 19,
   "metadata": {},
   "outputs": [
    {
     "data": {
      "text/plain": [
       "142"
      ]
     },
     "execution_count": 19,
     "metadata": {},
     "output_type": "execute_result"
    }
   ],
   "source": [
    "train_reviews.duplicated().sum()"
   ]
  },
  {
   "cell_type": "code",
   "execution_count": 20,
   "metadata": {},
   "outputs": [
    {
     "name": "stdout",
     "output_type": "stream",
     "text": [
      "        houseID                                           comments\n",
      "3248         61                                         Excelente!\n",
      "3254         61                                         Excelente!\n",
      "4225         70                              Everything was great!\n",
      "4263         70                              Everything was great!\n",
      "6584        144  Sofia is an incredible host, and made us feel ...\n",
      "...         ...                                                ...\n",
      "353703     6106                                              Super\n",
      "358567     6182                                    Great location!\n",
      "358568     6182                                    Great location!\n",
      "359054     6202                                        Great place\n",
      "359076     6202                                        Great place\n",
      "\n",
      "[273 rows x 2 columns]\n"
     ]
    }
   ],
   "source": [
    "duplicates_train_reviews =train_reviews[train_reviews.duplicated(keep=False)]\n",
    "print(duplicates_train_reviews)\n"
   ]
  },
  {
   "cell_type": "code",
   "execution_count": 21,
   "metadata": {},
   "outputs": [
    {
     "data": {
      "text/plain": [
       "0"
      ]
     },
     "execution_count": 21,
     "metadata": {},
     "output_type": "execute_result"
    }
   ],
   "source": [
    "test.duplicated().sum()"
   ]
  },
  {
   "cell_type": "code",
   "execution_count": 22,
   "metadata": {},
   "outputs": [
    {
     "data": {
      "text/plain": [
       "15"
      ]
     },
     "execution_count": 22,
     "metadata": {},
     "output_type": "execute_result"
    }
   ],
   "source": [
    "test_reviews.duplicated().sum()"
   ]
  },
  {
   "cell_type": "code",
   "execution_count": 23,
   "metadata": {},
   "outputs": [
    {
     "name": "stdout",
     "output_type": "stream",
     "text": [
      "       houseID                                           comments\n",
      "1622        42                                        Great place\n",
      "1645        42                                        Great place\n",
      "8862       155                                               Good\n",
      "8884       155                                               Good\n",
      "11302      178                                       Great place!\n",
      "11416      178                                    Great location!\n",
      "11445      178                                    Great location!\n",
      "11454      178                                       Great place!\n",
      "11631      179                                                  .\n",
      "11829      179                                                  .\n",
      "16030      246  We had a nice stay and friendly contacts. Than...\n",
      "16031      246  We had a nice stay and friendly contacts. Than...\n",
      "16685      255                                                  .\n",
      "16783      255                                                  .\n",
      "18846      304                                                  .\n",
      "18856      304                                                  .\n",
      "23793      393                                    Great location!\n",
      "23799      393                                    Great location!\n",
      "30213      480                                                  .\n",
      "30270      480                                                  .\n",
      "32629      525                                                  .\n",
      "32650      525                                                  .\n",
      "33727      540                                    Great location!\n",
      "33823      540                                    Great location!\n",
      "34072      549                                                  A\n",
      "34116      549                                                  A\n",
      "36946      608                                                  .\n",
      "37051      608                                                  .\n",
      "41664      692                                     Great location\n",
      "41703      692                                     Great location\n"
     ]
    }
   ],
   "source": [
    "duplicates_test_reviews =test_reviews[test_reviews.duplicated(keep=False)]\n",
    "print(duplicates_test_reviews)"
   ]
  },
  {
   "cell_type": "code",
   "execution_count": 24,
   "metadata": {
    "scrolled": true
   },
   "outputs": [
    {
     "data": {
      "text/plain": [
       "houseID        0\n",
       "description    0\n",
       "host_about     0\n",
       "unlisted       0\n",
       "dtype: int64"
      ]
     },
     "execution_count": 24,
     "metadata": {},
     "output_type": "execute_result"
    }
   ],
   "source": [
    "train.isna().sum()\n"
   ]
  },
  {
   "cell_type": "code",
   "execution_count": 25,
   "metadata": {},
   "outputs": [
    {
     "data": {
      "text/plain": [
       "houseID     0\n",
       "comments    0\n",
       "dtype: int64"
      ]
     },
     "execution_count": 25,
     "metadata": {},
     "output_type": "execute_result"
    }
   ],
   "source": [
    "train_reviews.isna().sum()"
   ]
  },
  {
   "cell_type": "code",
   "execution_count": 26,
   "metadata": {},
   "outputs": [
    {
     "data": {
      "text/plain": [
       "houseID        0\n",
       "description    0\n",
       "host_about     0\n",
       "dtype: int64"
      ]
     },
     "execution_count": 26,
     "metadata": {},
     "output_type": "execute_result"
    }
   ],
   "source": [
    "test.isna().sum()"
   ]
  },
  {
   "cell_type": "code",
   "execution_count": 27,
   "metadata": {},
   "outputs": [
    {
     "data": {
      "text/plain": [
       "houseID     0\n",
       "comments    0\n",
       "dtype: int64"
      ]
     },
     "execution_count": 27,
     "metadata": {},
     "output_type": "execute_result"
    }
   ],
   "source": [
    "test_reviews.isna().sum()"
   ]
  },
  {
   "cell_type": "code",
   "execution_count": 28,
   "metadata": {},
   "outputs": [
    {
     "data": {
      "text/html": [
       "<div>\n",
       "<style scoped>\n",
       "    .dataframe tbody tr th:only-of-type {\n",
       "        vertical-align: middle;\n",
       "    }\n",
       "\n",
       "    .dataframe tbody tr th {\n",
       "        vertical-align: top;\n",
       "    }\n",
       "\n",
       "    .dataframe thead th {\n",
       "        text-align: right;\n",
       "    }\n",
       "</style>\n",
       "<table border=\"1\" class=\"dataframe\">\n",
       "  <thead>\n",
       "    <tr style=\"text-align: right;\">\n",
       "      <th></th>\n",
       "      <th>count</th>\n",
       "      <th>mean</th>\n",
       "      <th>std</th>\n",
       "      <th>min</th>\n",
       "      <th>25%</th>\n",
       "      <th>50%</th>\n",
       "      <th>75%</th>\n",
       "      <th>max</th>\n",
       "    </tr>\n",
       "  </thead>\n",
       "  <tbody>\n",
       "    <tr>\n",
       "      <th>houseID</th>\n",
       "      <td>6248.0</td>\n",
       "      <td>3124.500000</td>\n",
       "      <td>1803.786573</td>\n",
       "      <td>1.0</td>\n",
       "      <td>1562.75</td>\n",
       "      <td>3124.5</td>\n",
       "      <td>4686.25</td>\n",
       "      <td>6248.0</td>\n",
       "    </tr>\n",
       "    <tr>\n",
       "      <th>unlisted</th>\n",
       "      <td>6248.0</td>\n",
       "      <td>0.273367</td>\n",
       "      <td>0.445724</td>\n",
       "      <td>0.0</td>\n",
       "      <td>0.00</td>\n",
       "      <td>0.0</td>\n",
       "      <td>1.00</td>\n",
       "      <td>1.0</td>\n",
       "    </tr>\n",
       "  </tbody>\n",
       "</table>\n",
       "</div>"
      ],
      "text/plain": [
       "           count         mean          std  min      25%     50%      75%  \\\n",
       "houseID   6248.0  3124.500000  1803.786573  1.0  1562.75  3124.5  4686.25   \n",
       "unlisted  6248.0     0.273367     0.445724  0.0     0.00     0.0     1.00   \n",
       "\n",
       "             max  \n",
       "houseID   6248.0  \n",
       "unlisted     1.0  "
      ]
     },
     "execution_count": 28,
     "metadata": {},
     "output_type": "execute_result"
    }
   ],
   "source": [
    "train.describe().T"
   ]
  },
  {
   "cell_type": "code",
   "execution_count": 29,
   "metadata": {},
   "outputs": [],
   "source": [
    "def detect_language(text):\n",
    "    try:\n",
    "        return detect(text)\n",
    "    except:\n",
    "        return \"Unknown\"\n",
    "\n",
    "train[\"description_language\"] = train[\"description\"].apply(detect_language)\n",
    "train.head()\n",
    "train_reviews[\"comment_language\"] = train_reviews[\"comments\"].apply(detect_language)"
   ]
  },
  {
   "cell_type": "code",
   "execution_count": 30,
   "metadata": {},
   "outputs": [
    {
     "data": {
      "text/plain": [
       "en         232355\n",
       "fr          53264\n",
       "pt          22427\n",
       "es          19239\n",
       "de          14209\n",
       "it           5679\n",
       "nl           3567\n",
       "ru           1501\n",
       "ko           1467\n",
       "zh-cn        1037\n",
       "Unknown       918\n",
       "ro            817\n",
       "pl            603\n",
       "ca            588\n",
       "da            455\n",
       "sv            374\n",
       "af            331\n",
       "no            308\n",
       "so            285\n",
       "cs            211\n",
       "fi            204\n",
       "id            166\n",
       "tl            155\n",
       "hu            132\n",
       "cy            114\n",
       "ja            109\n",
       "zh-tw          91\n",
       "he             90\n",
       "sk             72\n",
       "hr             70\n",
       "sw             68\n",
       "tr             65\n",
       "lt             56\n",
       "el             49\n",
       "vi             48\n",
       "uk             45\n",
       "sl             38\n",
       "et             25\n",
       "bg             15\n",
       "lv             12\n",
       "sq             10\n",
       "ar              9\n",
       "mk              2\n",
       "ur              1\n",
       "Name: comment_language, dtype: int64"
      ]
     },
     "execution_count": 30,
     "metadata": {},
     "output_type": "execute_result"
    }
   ],
   "source": [
    "train_reviews[\"comment_language\"].value_counts()"
   ]
  },
  {
   "cell_type": "code",
   "execution_count": 31,
   "metadata": {},
   "outputs": [
    {
     "data": {
      "text/plain": [
       "en       5119\n",
       "pt        903\n",
       "fr         84\n",
       "da         54\n",
       "de         45\n",
       "es         28\n",
       "no          4\n",
       "ca          3\n",
       "zh-cn       3\n",
       "it          2\n",
       "nl          2\n",
       "sv          1\n",
       "Name: description_language, dtype: int64"
      ]
     },
     "execution_count": 31,
     "metadata": {},
     "output_type": "execute_result"
    }
   ],
   "source": [
    "train[\"description_language\"].value_counts()"
   ]
  },
  {
   "cell_type": "code",
   "execution_count": 32,
   "metadata": {},
   "outputs": [
    {
     "data": {
      "image/png": "[encoded data removed]",
      "text/plain": [
       "<Figure size 720x432 with 1 Axes>"
      ]
     },
     "metadata": {
      "needs_background": "light"
     },
     "output_type": "display_data"
    }
   ],
   "source": [
    "language_counts = train[\"description_language\"].value_counts()\n",
    "\n",
    "plt.figure(figsize=(10, 6))\n",
    "sns.barplot(x=language_counts.index, y=language_counts.values, palette=\"viridis\")\n",
    "plt.title(\"Description Language Distribution\")\n",
    "plt.xlabel(\"Language\")\n",
    "plt.ylabel(\"Count\")\n",
    "plt.xticks(rotation=45)\n",
    "plt.show()"
   ]
  },
  {
   "cell_type": "code",
   "execution_count": 33,
   "metadata": {},
   "outputs": [
    {
     "data": {
      "image/png": "[encoded data removed]",
      "text/plain": [
       "<Figure size 720x432 with 1 Axes>"
      ]
     },
     "metadata": {
      "needs_background": "light"
     },
     "output_type": "display_data"
    }
   ],
   "source": [
    "language_counts = train_reviews[\"comment_language\"].value_counts()\n",
    "\n",
    "plt.figure(figsize=(10, 6))\n",
    "sns.barplot(x=language_counts.index, y=language_counts.values, palette=\"viridis\")\n",
    "plt.title(\"Comment Language Distribution\")\n",
    "plt.xlabel(\"Language\")\n",
    "plt.ylabel(\"Count\")\n",
    "plt.xticks(rotation=45)\n",
    "plt.show()"
   ]
  },
  {
   "cell_type": "markdown",
   "metadata": {},
   "source": [
    "'en': English \n",
    "'pt': Portuguese\n",
    "'fr': French\n",
    "'es': Spanish\n",
    "'de': German\n",
    "'da': Danish\n",
    "'no': Norwegian\n",
    "'sv': Swedish\n",
    "'it': Italian\n",
    "'ca': Catalan\n",
    "'zh-cn': Chinese (Simplified)\n",
    "'nl': Dutch"
   ]
  },
  {
   "cell_type": "code",
   "execution_count": 34,
   "metadata": {},
   "outputs": [],
   "source": [
    "def detect_language(text):\n",
    "    try:\n",
    "        return detect(text)\n",
    "    except:\n",
    "        return \"Unknown\"\n",
    "\n",
    "test[\"description_language\"] = test[\"description\"].apply(detect_language)\n",
    "test.head()\n",
    "test_reviews[\"comment_language\"] = test_reviews[\"comments\"].apply(detect_language)"
   ]
  },
  {
   "cell_type": "code",
   "execution_count": 35,
   "metadata": {},
   "outputs": [
    {
     "data": {
      "image/png": "[encoded data removed]",
      "text/plain": [
       "<Figure size 720x432 with 1 Axes>"
      ]
     },
     "metadata": {
      "needs_background": "light"
     },
     "output_type": "display_data"
    }
   ],
   "source": [
    "language_counts_test = test[\"description_language\"].value_counts()\n",
    "\n",
    "plt.figure(figsize=(10, 6))\n",
    "sns.barplot(x=language_counts_test.index, y=language_counts_test.values, palette=\"viridis\")\n",
    "plt.title(\" Description Language Distribution\")\n",
    "plt.xlabel(\"Language\")\n",
    "plt.ylabel(\"Count\")\n",
    "plt.xticks(rotation=45)\n",
    "plt.show()"
   ]
  },
  {
   "cell_type": "code",
   "execution_count": 36,
   "metadata": {},
   "outputs": [
    {
     "data": {
      "text/plain": [
       "en    577\n",
       "pt     95\n",
       "da     11\n",
       "fr      6\n",
       "de      2\n",
       "es      2\n",
       "no      1\n",
       "ca      1\n",
       "Name: description_language, dtype: int64"
      ]
     },
     "execution_count": 36,
     "metadata": {},
     "output_type": "execute_result"
    }
   ],
   "source": [
    "test[\"description_language\"].value_counts()"
   ]
  },
  {
   "cell_type": "code",
   "execution_count": 37,
   "metadata": {},
   "outputs": [
    {
     "data": {
      "text/plain": [
       "en         27591\n",
       "fr          5928\n",
       "pt          2186\n",
       "es          2170\n",
       "de          1749\n",
       "it           628\n",
       "nl           431\n",
       "ko           191\n",
       "ru           151\n",
       "Unknown      125\n",
       "zh-cn        114\n",
       "ro            72\n",
       "pl            62\n",
       "ca            59\n",
       "sv            46\n",
       "da            42\n",
       "af            34\n",
       "fi            30\n",
       "no            29\n",
       "so            26\n",
       "hu            22\n",
       "cs            20\n",
       "cy            19\n",
       "ja            19\n",
       "id            19\n",
       "zh-tw         18\n",
       "tl            15\n",
       "he            13\n",
       "lt            10\n",
       "el             9\n",
       "hr             8\n",
       "tr             8\n",
       "sk             5\n",
       "vi             4\n",
       "bg             3\n",
       "sw             3\n",
       "ar             2\n",
       "uk             2\n",
       "mk             1\n",
       "kn             1\n",
       "lv             1\n",
       "Name: comment_language, dtype: int64"
      ]
     },
     "execution_count": 37,
     "metadata": {},
     "output_type": "execute_result"
    }
   ],
   "source": [
    "test_reviews[\"comment_language\"].value_counts()"
   ]
  },
  {
   "cell_type": "code",
   "execution_count": 38,
   "metadata": {},
   "outputs": [
    {
     "data": {
      "image/png": "[encoded data removed]",
      "text/plain": [
       "<Figure size 720x432 with 1 Axes>"
      ]
     },
     "metadata": {
      "needs_background": "light"
     },
     "output_type": "display_data"
    }
   ],
   "source": [
    "language_counts_test_2 = test_reviews[\"comment_language\"].value_counts()\n",
    "plt.figure(figsize=(10, 6))\n",
    "sns.barplot(x=language_counts_test_2.index, y=language_counts_test_2.values, palette=\"viridis\")\n",
    "plt.title(\" Comment Language Distribution\")\n",
    "plt.xlabel(\"Language\")\n",
    "plt.ylabel(\"Count\")\n",
    "plt.xticks(rotation=45)\n",
    "plt.show()\n"
   ]
  },
  {
   "cell_type": "code",
   "execution_count": 39,
   "metadata": {},
   "outputs": [
    {
     "data": {
      "text/html": [
       "<div>\n",
       "<style scoped>\n",
       "    .dataframe tbody tr th:only-of-type {\n",
       "        vertical-align: middle;\n",
       "    }\n",
       "\n",
       "    .dataframe tbody tr th {\n",
       "        vertical-align: top;\n",
       "    }\n",
       "\n",
       "    .dataframe thead th {\n",
       "        text-align: right;\n",
       "    }\n",
       "</style>\n",
       "<table border=\"1\" class=\"dataframe\">\n",
       "  <thead>\n",
       "    <tr style=\"text-align: right;\">\n",
       "      <th></th>\n",
       "      <th>houseID</th>\n",
       "      <th>comments</th>\n",
       "      <th>comment_language</th>\n",
       "    </tr>\n",
       "  </thead>\n",
       "  <tbody>\n",
       "    <tr>\n",
       "      <th>0</th>\n",
       "      <td>1</td>\n",
       "      <td>this is a very cozy and comfortable house to s...</td>\n",
       "      <td>en</td>\n",
       "    </tr>\n",
       "    <tr>\n",
       "      <th>1</th>\n",
       "      <td>1</td>\n",
       "      <td>good&lt;br/&gt;</td>\n",
       "      <td>cy</td>\n",
       "    </tr>\n",
       "    <tr>\n",
       "      <th>2</th>\n",
       "      <td>1</td>\n",
       "      <td>My first hostel experience, and all I have to ...</td>\n",
       "      <td>en</td>\n",
       "    </tr>\n",
       "    <tr>\n",
       "      <th>3</th>\n",
       "      <td>1</td>\n",
       "      <td>Das Hostel war neu und deshalb funktionierte a...</td>\n",
       "      <td>de</td>\n",
       "    </tr>\n",
       "    <tr>\n",
       "      <th>4</th>\n",
       "      <td>1</td>\n",
       "      <td>It was fine for a dorm, but I think for the pe...</td>\n",
       "      <td>en</td>\n",
       "    </tr>\n",
       "    <tr>\n",
       "      <th>...</th>\n",
       "      <td>...</td>\n",
       "      <td>...</td>\n",
       "      <td>...</td>\n",
       "    </tr>\n",
       "    <tr>\n",
       "      <th>361276</th>\n",
       "      <td>6248</td>\n",
       "      <td>The location was perfect. The apartment was ve...</td>\n",
       "      <td>en</td>\n",
       "    </tr>\n",
       "    <tr>\n",
       "      <th>361277</th>\n",
       "      <td>6248</td>\n",
       "      <td>Ana's place is exactly as described and even b...</td>\n",
       "      <td>en</td>\n",
       "    </tr>\n",
       "    <tr>\n",
       "      <th>361278</th>\n",
       "      <td>6248</td>\n",
       "      <td>A Ana foi muito atenciosa e preocupou se com o...</td>\n",
       "      <td>pt</td>\n",
       "    </tr>\n",
       "    <tr>\n",
       "      <th>361279</th>\n",
       "      <td>6248</td>\n",
       "      <td>No wifi nor answer. &lt;br/&gt;The wifi can’t be con...</td>\n",
       "      <td>en</td>\n",
       "    </tr>\n",
       "    <tr>\n",
       "      <th>361280</th>\n",
       "      <td>6248</td>\n",
       "      <td>O espaço é ótimo, a D. Ana foi maravilhosa e f...</td>\n",
       "      <td>pt</td>\n",
       "    </tr>\n",
       "  </tbody>\n",
       "</table>\n",
       "<p>361281 rows × 3 columns</p>\n",
       "</div>"
      ],
      "text/plain": [
       "        houseID                                           comments  \\\n",
       "0             1  this is a very cozy and comfortable house to s...   \n",
       "1             1                                          good<br/>   \n",
       "2             1  My first hostel experience, and all I have to ...   \n",
       "3             1  Das Hostel war neu und deshalb funktionierte a...   \n",
       "4             1  It was fine for a dorm, but I think for the pe...   \n",
       "...         ...                                                ...   \n",
       "361276     6248  The location was perfect. The apartment was ve...   \n",
       "361277     6248  Ana's place is exactly as described and even b...   \n",
       "361278     6248  A Ana foi muito atenciosa e preocupou se com o...   \n",
       "361279     6248  No wifi nor answer. <br/>The wifi can’t be con...   \n",
       "361280     6248  O espaço é ótimo, a D. Ana foi maravilhosa e f...   \n",
       "\n",
       "       comment_language  \n",
       "0                    en  \n",
       "1                    cy  \n",
       "2                    en  \n",
       "3                    de  \n",
       "4                    en  \n",
       "...                 ...  \n",
       "361276               en  \n",
       "361277               en  \n",
       "361278               pt  \n",
       "361279               en  \n",
       "361280               pt  \n",
       "\n",
       "[361281 rows x 3 columns]"
      ]
     },
     "execution_count": 39,
     "metadata": {},
     "output_type": "execute_result"
    }
   ],
   "source": [
    "train_reviews\n"
   ]
  },
  {
   "cell_type": "code",
   "execution_count": 40,
   "metadata": {},
   "outputs": [
    {
     "data": {
      "text/html": [
       "<div>\n",
       "<style scoped>\n",
       "    .dataframe tbody tr th:only-of-type {\n",
       "        vertical-align: middle;\n",
       "    }\n",
       "\n",
       "    .dataframe tbody tr th {\n",
       "        vertical-align: top;\n",
       "    }\n",
       "\n",
       "    .dataframe thead th {\n",
       "        text-align: right;\n",
       "    }\n",
       "</style>\n",
       "<table border=\"1\" class=\"dataframe\">\n",
       "  <thead>\n",
       "    <tr style=\"text-align: right;\">\n",
       "      <th></th>\n",
       "      <th>houseID</th>\n",
       "      <th>description</th>\n",
       "      <th>host_about</th>\n",
       "      <th>unlisted</th>\n",
       "      <th>description_language</th>\n",
       "    </tr>\n",
       "  </thead>\n",
       "  <tbody>\n",
       "    <tr>\n",
       "      <th>0</th>\n",
       "      <td>1</td>\n",
       "      <td>This is a shared mixed room in our hostel, wit...</td>\n",
       "      <td>Alojamento Local Registro: 20835/AL</td>\n",
       "      <td>0</td>\n",
       "      <td>en</td>\n",
       "    </tr>\n",
       "    <tr>\n",
       "      <th>1</th>\n",
       "      <td>2</td>\n",
       "      <td>O meu espaço fica perto de Parque Eduardo VII,...</td>\n",
       "      <td>I am friendly host, and I will try to always b...</td>\n",
       "      <td>1</td>\n",
       "      <td>pt</td>\n",
       "    </tr>\n",
       "    <tr>\n",
       "      <th>2</th>\n",
       "      <td>3</td>\n",
       "      <td>Trafaria’s House is a cozy and familiar villa ...</td>\n",
       "      <td>I am a social person liking to communicate, re...</td>\n",
       "      <td>1</td>\n",
       "      <td>en</td>\n",
       "    </tr>\n",
       "    <tr>\n",
       "      <th>3</th>\n",
       "      <td>4</td>\n",
       "      <td>Apartamento Charmoso no Chiado, Entre o Largo ...</td>\n",
       "      <td>Hello!_x000D_\\nI m Portuguese and i love to me...</td>\n",
       "      <td>0</td>\n",
       "      <td>pt</td>\n",
       "    </tr>\n",
       "    <tr>\n",
       "      <th>4</th>\n",
       "      <td>5</td>\n",
       "      <td>Joli appartement  en bordure de mer.&lt;br /&gt; 2 m...</td>\n",
       "      <td>Nous sommes une famille avec deux enfants de 1...</td>\n",
       "      <td>0</td>\n",
       "      <td>fr</td>\n",
       "    </tr>\n",
       "    <tr>\n",
       "      <th>...</th>\n",
       "      <td>...</td>\n",
       "      <td>...</td>\n",
       "      <td>...</td>\n",
       "      <td>...</td>\n",
       "      <td>...</td>\n",
       "    </tr>\n",
       "    <tr>\n",
       "      <th>6243</th>\n",
       "      <td>6244</td>\n",
       "      <td>Studio 15 is a new, very well decorated and co...</td>\n",
       "      <td>I'm a Brand Manager from Lisbon in Portugal bu...</td>\n",
       "      <td>0</td>\n",
       "      <td>en</td>\n",
       "    </tr>\n",
       "    <tr>\n",
       "      <th>6244</th>\n",
       "      <td>6245</td>\n",
       "      <td>Lisbon meets a cosmopolitan industrial one-bed...</td>\n",
       "      <td>Home is where feelings are visitors. How do we...</td>\n",
       "      <td>0</td>\n",
       "      <td>en</td>\n",
       "    </tr>\n",
       "    <tr>\n",
       "      <th>6245</th>\n",
       "      <td>6246</td>\n",
       "      <td>&lt;b&gt;License number&lt;/b&gt;&lt;br /&gt;Exempt</td>\n",
       "      <td>I am a travel agent passionate by cultures. \\n...</td>\n",
       "      <td>1</td>\n",
       "      <td>en</td>\n",
       "    </tr>\n",
       "    <tr>\n",
       "      <th>6246</th>\n",
       "      <td>6247</td>\n",
       "      <td>Campo Pequeno Prestige is a classy and top qua...</td>\n",
       "      <td>Família_x000D_\\nPortugal_x000D_\\nGavião_x000D_...</td>\n",
       "      <td>0</td>\n",
       "      <td>en</td>\n",
       "    </tr>\n",
       "    <tr>\n",
       "      <th>6247</th>\n",
       "      <td>6248</td>\n",
       "      <td>These apartments are very well located in a go...</td>\n",
       "      <td>A base da minha vida é a minha família e a min...</td>\n",
       "      <td>0</td>\n",
       "      <td>en</td>\n",
       "    </tr>\n",
       "  </tbody>\n",
       "</table>\n",
       "<p>6248 rows × 5 columns</p>\n",
       "</div>"
      ],
      "text/plain": [
       "      houseID                                        description  \\\n",
       "0           1  This is a shared mixed room in our hostel, wit...   \n",
       "1           2  O meu espaço fica perto de Parque Eduardo VII,...   \n",
       "2           3  Trafaria’s House is a cozy and familiar villa ...   \n",
       "3           4  Apartamento Charmoso no Chiado, Entre o Largo ...   \n",
       "4           5  Joli appartement  en bordure de mer.<br /> 2 m...   \n",
       "...       ...                                                ...   \n",
       "6243     6244  Studio 15 is a new, very well decorated and co...   \n",
       "6244     6245  Lisbon meets a cosmopolitan industrial one-bed...   \n",
       "6245     6246                  <b>License number</b><br />Exempt   \n",
       "6246     6247  Campo Pequeno Prestige is a classy and top qua...   \n",
       "6247     6248  These apartments are very well located in a go...   \n",
       "\n",
       "                                             host_about  unlisted  \\\n",
       "0                   Alojamento Local Registro: 20835/AL         0   \n",
       "1     I am friendly host, and I will try to always b...         1   \n",
       "2     I am a social person liking to communicate, re...         1   \n",
       "3     Hello!_x000D_\\nI m Portuguese and i love to me...         0   \n",
       "4     Nous sommes une famille avec deux enfants de 1...         0   \n",
       "...                                                 ...       ...   \n",
       "6243  I'm a Brand Manager from Lisbon in Portugal bu...         0   \n",
       "6244  Home is where feelings are visitors. How do we...         0   \n",
       "6245  I am a travel agent passionate by cultures. \\n...         1   \n",
       "6246  Família_x000D_\\nPortugal_x000D_\\nGavião_x000D_...         0   \n",
       "6247  A base da minha vida é a minha família e a min...         0   \n",
       "\n",
       "     description_language  \n",
       "0                      en  \n",
       "1                      pt  \n",
       "2                      en  \n",
       "3                      pt  \n",
       "4                      fr  \n",
       "...                   ...  \n",
       "6243                   en  \n",
       "6244                   en  \n",
       "6245                   en  \n",
       "6246                   en  \n",
       "6247                   en  \n",
       "\n",
       "[6248 rows x 5 columns]"
      ]
     },
     "execution_count": 40,
     "metadata": {},
     "output_type": "execute_result"
    }
   ],
   "source": [
    "train"
   ]
  },
  {
   "cell_type": "code",
   "execution_count": 41,
   "metadata": {},
   "outputs": [
    {
     "data": {
      "image/png": "[encoded data removed]",
      "text/plain": [
       "<Figure size 576x576 with 1 Axes>"
      ]
     },
     "metadata": {},
     "output_type": "display_data"
    }
   ],
   "source": [
    "unlisted_counts = train['unlisted'].value_counts()\n",
    "\n",
    "# Plotting the pie chart for the 'unlisted' column\n",
    "plt.figure(figsize=(8, 8))\n",
    "plt.pie(unlisted_counts, labels=unlisted_counts.index, autopct='%1.1f%%', startangle=140, colors=['skyblue', 'lightcoral'])\n",
    "plt.title('Distribution of Listed vs. Unlisted')\n",
    "plt.axis('equal')  \n",
    "plt.show()"
   ]
  },
  {
   "cell_type": "code",
   "execution_count": 42,
   "metadata": {},
   "outputs": [
    {
     "ename": "ValueError",
     "evalue": "Only supported for TrueType fonts",
     "output_type": "error",
     "traceback": [
      "\u001b[1;31m---------------------------------------------------------------------------\u001b[0m",
      "\u001b[1;31mValueError\u001b[0m                                Traceback (most recent call last)",
      "\u001b[1;32m~\\AppData\\Local\\Temp/ipykernel_11860/520859173.py\u001b[0m in \u001b[0;36m<module>\u001b[1;34m\u001b[0m\n\u001b[0;32m      7\u001b[0m \u001b[1;33m\u001b[0m\u001b[0m\n\u001b[0;32m      8\u001b[0m \u001b[1;31m# Create WordCloud object\u001b[0m\u001b[1;33m\u001b[0m\u001b[1;33m\u001b[0m\u001b[0m\n\u001b[1;32m----> 9\u001b[1;33m \u001b[0mwordcloud\u001b[0m \u001b[1;33m=\u001b[0m \u001b[0mWordCloud\u001b[0m\u001b[1;33m(\u001b[0m\u001b[0mwidth\u001b[0m\u001b[1;33m=\u001b[0m\u001b[1;36m800\u001b[0m\u001b[1;33m,\u001b[0m \u001b[0mheight\u001b[0m\u001b[1;33m=\u001b[0m\u001b[1;36m400\u001b[0m\u001b[1;33m,\u001b[0m \u001b[0mbackground_color\u001b[0m\u001b[1;33m=\u001b[0m\u001b[1;34m\"white\"\u001b[0m\u001b[1;33m)\u001b[0m\u001b[1;33m.\u001b[0m\u001b[0mgenerate\u001b[0m\u001b[1;33m(\u001b[0m\u001b[0mall_reviews\u001b[0m\u001b[1;33m)\u001b[0m\u001b[1;33m\u001b[0m\u001b[1;33m\u001b[0m\u001b[0m\n\u001b[0m\u001b[0;32m     10\u001b[0m \u001b[1;33m\u001b[0m\u001b[0m\n\u001b[0;32m     11\u001b[0m \u001b[1;31m# Plotting the word cloud\u001b[0m\u001b[1;33m\u001b[0m\u001b[1;33m\u001b[0m\u001b[0m\n",
      "\u001b[1;32m~\\anaconda3\\lib\\site-packages\\wordcloud\\wordcloud.py\u001b[0m in \u001b[0;36mgenerate\u001b[1;34m(self, text)\u001b[0m\n\u001b[0;32m    640\u001b[0m         \u001b[0mself\u001b[0m\u001b[1;33m\u001b[0m\u001b[1;33m\u001b[0m\u001b[0m\n\u001b[0;32m    641\u001b[0m         \"\"\"\n\u001b[1;32m--> 642\u001b[1;33m         \u001b[1;32mreturn\u001b[0m \u001b[0mself\u001b[0m\u001b[1;33m.\u001b[0m\u001b[0mgenerate_from_text\u001b[0m\u001b[1;33m(\u001b[0m\u001b[0mtext\u001b[0m\u001b[1;33m)\u001b[0m\u001b[1;33m\u001b[0m\u001b[1;33m\u001b[0m\u001b[0m\n\u001b[0m\u001b[0;32m    643\u001b[0m \u001b[1;33m\u001b[0m\u001b[0m\n\u001b[0;32m    644\u001b[0m     \u001b[1;32mdef\u001b[0m \u001b[0m_check_generated\u001b[0m\u001b[1;33m(\u001b[0m\u001b[0mself\u001b[0m\u001b[1;33m)\u001b[0m\u001b[1;33m:\u001b[0m\u001b[1;33m\u001b[0m\u001b[1;33m\u001b[0m\u001b[0m\n",
      "\u001b[1;32m~\\anaconda3\\lib\\site-packages\\wordcloud\\wordcloud.py\u001b[0m in \u001b[0;36mgenerate_from_text\u001b[1;34m(self, text)\u001b[0m\n\u001b[0;32m    622\u001b[0m         \"\"\"\n\u001b[0;32m    623\u001b[0m         \u001b[0mwords\u001b[0m \u001b[1;33m=\u001b[0m \u001b[0mself\u001b[0m\u001b[1;33m.\u001b[0m\u001b[0mprocess_text\u001b[0m\u001b[1;33m(\u001b[0m\u001b[0mtext\u001b[0m\u001b[1;33m)\u001b[0m\u001b[1;33m\u001b[0m\u001b[1;33m\u001b[0m\u001b[0m\n\u001b[1;32m--> 624\u001b[1;33m         \u001b[0mself\u001b[0m\u001b[1;33m.\u001b[0m\u001b[0mgenerate_from_frequencies\u001b[0m\u001b[1;33m(\u001b[0m\u001b[0mwords\u001b[0m\u001b[1;33m)\u001b[0m\u001b[1;33m\u001b[0m\u001b[1;33m\u001b[0m\u001b[0m\n\u001b[0m\u001b[0;32m    625\u001b[0m         \u001b[1;32mreturn\u001b[0m \u001b[0mself\u001b[0m\u001b[1;33m\u001b[0m\u001b[1;33m\u001b[0m\u001b[0m\n\u001b[0;32m    626\u001b[0m \u001b[1;33m\u001b[0m\u001b[0m\n",
      "\u001b[1;32m~\\anaconda3\\lib\\site-packages\\wordcloud\\wordcloud.py\u001b[0m in \u001b[0;36mgenerate_from_frequencies\u001b[1;34m(self, frequencies, max_font_size)\u001b[0m\n\u001b[0;32m    451\u001b[0m                 \u001b[0mfont_size\u001b[0m \u001b[1;33m=\u001b[0m \u001b[0mself\u001b[0m\u001b[1;33m.\u001b[0m\u001b[0mheight\u001b[0m\u001b[1;33m\u001b[0m\u001b[1;33m\u001b[0m\u001b[0m\n\u001b[0;32m    452\u001b[0m             \u001b[1;32melse\u001b[0m\u001b[1;33m:\u001b[0m\u001b[1;33m\u001b[0m\u001b[1;33m\u001b[0m\u001b[0m\n\u001b[1;32m--> 453\u001b[1;33m                 self.generate_from_frequencies(dict(frequencies[:2]),\n\u001b[0m\u001b[0;32m    454\u001b[0m                                                max_font_size=self.height)\n\u001b[0;32m    455\u001b[0m                 \u001b[1;31m# find font sizes\u001b[0m\u001b[1;33m\u001b[0m\u001b[1;33m\u001b[0m\u001b[0m\n",
      "\u001b[1;32m~\\anaconda3\\lib\\site-packages\\wordcloud\\wordcloud.py\u001b[0m in \u001b[0;36mgenerate_from_frequencies\u001b[1;34m(self, frequencies, max_font_size)\u001b[0m\n\u001b[0;32m    509\u001b[0m                     font, orientation=orientation)\n\u001b[0;32m    510\u001b[0m                 \u001b[1;31m# get size of resulting text\u001b[0m\u001b[1;33m\u001b[0m\u001b[1;33m\u001b[0m\u001b[0m\n\u001b[1;32m--> 511\u001b[1;33m                 \u001b[0mbox_size\u001b[0m \u001b[1;33m=\u001b[0m \u001b[0mdraw\u001b[0m\u001b[1;33m.\u001b[0m\u001b[0mtextbbox\u001b[0m\u001b[1;33m(\u001b[0m\u001b[1;33m(\u001b[0m\u001b[1;36m0\u001b[0m\u001b[1;33m,\u001b[0m \u001b[1;36m0\u001b[0m\u001b[1;33m)\u001b[0m\u001b[1;33m,\u001b[0m \u001b[0mword\u001b[0m\u001b[1;33m,\u001b[0m \u001b[0mfont\u001b[0m\u001b[1;33m=\u001b[0m\u001b[0mtransposed_font\u001b[0m\u001b[1;33m,\u001b[0m \u001b[0manchor\u001b[0m\u001b[1;33m=\u001b[0m\u001b[1;34m\"lt\"\u001b[0m\u001b[1;33m)\u001b[0m\u001b[1;33m\u001b[0m\u001b[1;33m\u001b[0m\u001b[0m\n\u001b[0m\u001b[0;32m    512\u001b[0m                 \u001b[1;31m# find possible places using integral image:\u001b[0m\u001b[1;33m\u001b[0m\u001b[1;33m\u001b[0m\u001b[0m\n\u001b[0;32m    513\u001b[0m                 result = occupancy.sample_position(box_size[3] + self.margin,\n",
      "\u001b[1;32m~\\anaconda3\\lib\\site-packages\\PIL\\ImageDraw.py\u001b[0m in \u001b[0;36mtextbbox\u001b[1;34m(self, xy, text, font, anchor, spacing, align, direction, features, language, stroke_width, embedded_color)\u001b[0m\n\u001b[0;32m    649\u001b[0m             \u001b[0mfont\u001b[0m \u001b[1;33m=\u001b[0m \u001b[0mself\u001b[0m\u001b[1;33m.\u001b[0m\u001b[0mgetfont\u001b[0m\u001b[1;33m(\u001b[0m\u001b[1;33m)\u001b[0m\u001b[1;33m\u001b[0m\u001b[1;33m\u001b[0m\u001b[0m\n\u001b[0;32m    650\u001b[0m         \u001b[1;32mif\u001b[0m \u001b[1;32mnot\u001b[0m \u001b[0misinstance\u001b[0m\u001b[1;33m(\u001b[0m\u001b[0mfont\u001b[0m\u001b[1;33m,\u001b[0m \u001b[0mImageFont\u001b[0m\u001b[1;33m.\u001b[0m\u001b[0mFreeTypeFont\u001b[0m\u001b[1;33m)\u001b[0m\u001b[1;33m:\u001b[0m\u001b[1;33m\u001b[0m\u001b[1;33m\u001b[0m\u001b[0m\n\u001b[1;32m--> 651\u001b[1;33m             \u001b[1;32mraise\u001b[0m \u001b[0mValueError\u001b[0m\u001b[1;33m(\u001b[0m\u001b[1;34m\"Only supported for TrueType fonts\"\u001b[0m\u001b[1;33m)\u001b[0m\u001b[1;33m\u001b[0m\u001b[1;33m\u001b[0m\u001b[0m\n\u001b[0m\u001b[0;32m    652\u001b[0m         \u001b[0mmode\u001b[0m \u001b[1;33m=\u001b[0m \u001b[1;34m\"RGBA\"\u001b[0m \u001b[1;32mif\u001b[0m \u001b[0membedded_color\u001b[0m \u001b[1;32melse\u001b[0m \u001b[0mself\u001b[0m\u001b[1;33m.\u001b[0m\u001b[0mfontmode\u001b[0m\u001b[1;33m\u001b[0m\u001b[1;33m\u001b[0m\u001b[0m\n\u001b[0;32m    653\u001b[0m         bbox = font.getbbox(\n",
      "\u001b[1;31mValueError\u001b[0m: Only supported for TrueType fonts"
     ]
    }
   ],
   "source": [
    "from wordcloud import WordCloud\n",
    "import matplotlib.pyplot as plt\n",
    "import pandas as pd\n",
    "\n",
    "# Joining all the reviews into a single string, replacing NaNs with empty strings\n",
    "all_reviews = ' '.join(str(comment) for comment in train_reviews['comments'] if pd.notna(comment))\n",
    "\n",
    "# Create WordCloud object\n",
    "wordcloud = WordCloud(width=800, height=400, background_color=\"white\").generate(all_reviews)\n",
    "\n",
    "# Plotting the word cloud\n",
    "plt.figure(figsize=(10, 5))\n",
    "plt.imshow(wordcloud, interpolation='bilinear')\n",
    "plt.axis(\"off\")\n",
    "plt.title('Word Cloud')\n",
    "plt.show()\n"
   ]
  },
  {
   "cell_type": "code",
   "execution_count": 43,
   "metadata": {
    "scrolled": false
   },
   "outputs": [
    {
     "data": {
      "image/png": "[encoded data removed]",
      "text/plain": [
       "<Figure size 864x432 with 2 Axes>"
      ]
     },
     "metadata": {
      "needs_background": "light"
     },
     "output_type": "display_data"
    }
   ],
   "source": [
    "def count_words(text):\n",
    "    return len(text.split())\n",
    "\n",
    "# Apply word count function to each column\n",
    "train['description_word_count'] = train['description'].apply(count_words)\n",
    "train['host_about_word_count'] = train['host_about'].apply(count_words)\n",
    "\n",
    "# Plot histograms\n",
    "plt.figure(figsize=(12, 6))\n",
    "\n",
    "# Histogram for description word count\n",
    "plt.subplot(1, 2, 1)\n",
    "plt.hist(train['description_word_count'], bins=10, color='skyblue', edgecolor='black')\n",
    "plt.title('Word Count in Description')\n",
    "plt.xlabel('Number of Words')\n",
    "plt.ylabel('Frequency')\n",
    "\n",
    "# Histogram for host_about word count\n",
    "plt.subplot(1, 2, 2)\n",
    "plt.hist(train['host_about_word_count'], bins=10, color='lightgreen', edgecolor='black')\n",
    "plt.title('Word Count in Host About')\n",
    "plt.xlabel('Number of Words')\n",
    "plt.ylabel('Frequency')\n",
    "\n",
    "plt.tight_layout()\n",
    "plt.show()"
   ]
  },
  {
   "cell_type": "code",
   "execution_count": 44,
   "metadata": {},
   "outputs": [
    {
     "data": {
      "image/png": "[encoded data removed]",
      "text/plain": [
       "<Figure size 1152x432 with 2 Axes>"
      ]
     },
     "metadata": {
      "needs_background": "light"
     },
     "output_type": "display_data"
    }
   ],
   "source": [
    "from collections import Counter\n",
    "from wordcloud import STOPWORDS\n",
    "\n",
    "def count_word_frequencies(text_column, num_words=10):\n",
    "    # Join all text from the specified column into a single string\n",
    "    all_text = ' '.join(text_column)\n",
    "\n",
    "    # Convert text to lowercase and split into words\n",
    "    words = all_text.lower().split()\n",
    "\n",
    "    # Filter out common stop words\n",
    "    words = [word for word in words if word not in STOPWORDS]\n",
    "\n",
    "    # Count word frequencies\n",
    "    word_counts = Counter(words)\n",
    "\n",
    "    # Get the most common words and their frequencies\n",
    "    top_words = word_counts.most_common(num_words)\n",
    "\n",
    "    return dict(top_words)\n",
    "\n",
    "# Count word frequencies from the 'description' and 'host_about' columns\n",
    "top_words_description = count_word_frequencies(train['description'])\n",
    "top_words_host_about = count_word_frequencies(train['host_about'])\n",
    "\n",
    "# Plotting the histograms of most frequent words for both columns\n",
    "fig, axes = plt.subplots(1, 2, figsize=(16, 6))\n",
    "\n",
    "# Plot for 'description' column\n",
    "axes[0].bar(top_words_description.keys(), top_words_description.values(), color='skyblue')\n",
    "axes[0].set_title('Top 10 Most Frequent Words in Descriptions')\n",
    "axes[0].set_xlabel('Words')\n",
    "axes[0].set_ylabel('Frequency')\n",
    "axes[0].tick_params(axis='x', rotation=45)  # Rotate x-axis labels for better readability\n",
    "\n",
    "# Plot for 'host_about' column\n",
    "axes[1].bar(top_words_host_about.keys(), top_words_host_about.values(), color='lightgreen')\n",
    "axes[1].set_title('Top 10 Most Frequent Words in host_bout')\n",
    "axes[1].set_xlabel('Words')\n",
    "axes[1].set_ylabel('Frequency')\n",
    "axes[1].tick_params(axis='x', rotation=45)  # Rotate x-axis labels for better readability\n",
    "\n",
    "# Adjust layout and display plots\n",
    "plt.tight_layout()\n",
    "plt.show()"
   ]
  },
  {
   "cell_type": "code",
   "execution_count": 45,
   "metadata": {},
   "outputs": [
    {
     "data": {
      "image/png": "[encoded data removed]",
      "text/plain": [
       "<Figure size 720x432 with 1 Axes>"
      ]
     },
     "metadata": {
      "needs_background": "light"
     },
     "output_type": "display_data"
    }
   ],
   "source": [
    "from collections import Counter\n",
    "import matplotlib.pyplot as plt\n",
    "from wordcloud import STOPWORDS\n",
    "\n",
    "def count_word_frequencies(text_column, num_words=10):\n",
    "    # Convert each comment to a string and concatenate them into a single text\n",
    "    words = ' '.join(str(comment) for comment in text_column if pd.notna(comment)).lower().split()\n",
    "\n",
    "    # Filter out common stop words\n",
    "    words = [word for word in words if word not in STOPWORDS]\n",
    "\n",
    "    # Count word frequencies\n",
    "    word_counts = Counter(words)\n",
    "\n",
    "    # Get the most common words and their frequencies\n",
    "    top_words = word_counts.most_common(num_words)\n",
    "\n",
    "    return dict(top_words)\n",
    "\n",
    "# Count word frequencies from the 'comments' column\n",
    "top_words_comments = count_word_frequencies(train_reviews['comments'])\n",
    "\n",
    "# Plotting the histogram of most frequent words in 'comments' column\n",
    "plt.figure(figsize=(10, 6))\n",
    "plt.bar(top_words_comments.keys(), top_words_comments.values(), color='orange')\n",
    "plt.title('Top 10 Most Frequent Words in Comments')\n",
    "plt.xlabel('Words')\n",
    "plt.ylabel('Frequency')\n",
    "plt.xticks(rotation=45)  # Rotate x-axis labels for better readability\n",
    "plt.show()\n"
   ]
  },
  {
   "cell_type": "code",
   "execution_count": 46,
   "metadata": {},
   "outputs": [
    {
     "data": {
      "image/png": "[encoded data removed]",
      "text/plain": [
       "<Figure size 864x432 with 1 Axes>"
      ]
     },
     "metadata": {
      "needs_background": "light"
     },
     "output_type": "display_data"
    }
   ],
   "source": [
    "def count_words(text):\n",
    "    # Convert text to string if it is not and handle NaN values\n",
    "    if pd.isna(text):\n",
    "        return 0\n",
    "    return len(str(text).split())\n",
    "\n",
    "# Apply word count function to the 'comments' column\n",
    "train_reviews['comments_word_count'] = train_reviews['comments'].apply(count_words)\n",
    "\n",
    "# Plot histogram\n",
    "plt.figure(figsize=(12, 6))\n",
    "plt.hist(train_reviews['comments_word_count'], bins=10, color='skyblue', edgecolor='black')\n",
    "plt.title('Word Count in Comments')\n",
    "plt.xlabel('Number of Words')\n",
    "plt.ylabel('Frequency')\n",
    "plt.show()\n"
   ]
  },
  {
   "cell_type": "code",
   "execution_count": 47,
   "metadata": {},
   "outputs": [
    {
     "name": "stdout",
     "output_type": "stream",
     "text": [
      "Unique small words and punctuation marks:\n",
      "['팁', 'gg', 'רך', 'RS', 'Ce', 'wa', '5x', 'oK', '❗', 'ND', 'tv', '진심', '3e', '조명', '43', 'כי', '죠큼', '芝士', 'oo', '오른', '̂', 'ő', '당만', 'és', '별', 'oí', '🖒', '잡힘', '힘듬', '哦', '편에', '각종', '층이', '짐이', '미친', '다면', '거기', '밥과', 'Rd', '씬', 'NC', '3k', 'эл', '\\u200b', '기억', '훨씬', '🌺', '맡겨', '5G', '뒤에', 'Pe', 'ну', '온듯', '좋게', 'çà', '엘베', '饼干', 'uw', '예쁨', '🔑', 'ду', 'CV', '차에', '마계', '기계', '주요', '보다', '늦게', '위생', 'Ну', '만난', '켜서', '따로', '잔', 'TE', 'CP', '🏆', '果酱', '좁지', '🍄', '거실', '새서', '잊지', '종종', '욕을', '완벽', '있게', '숨', 'Mq', '있을', 'pó', 'pr', '가니', '즉각', '또한', '7분', '🙃', 'rv', 'of', 't2', '춥고', 'bl', 'od', 'św', '分鐘', '해서', '◡', '멀고', '♡', '할수', 'E', 'oú', '크고', '담빼', '3j', '엽서', '🙆', '饭厅', '강의', '̴', '걸을', '아페', '葡', '작성', '지미', '한참', '모드', '층간', 'Sa', 'ww', '●', '궁전', '뭃이', 'cq', '묵는', '분과', '38', '№', '이라', '방해', '하면', '길게', '해요', '묶고', '등을', '졂교', '흑', '지장', '손님', '입력', 'tó', '🇵', '그런', 'q', '잘못', 'RV', 'PQ', 'ro', 'nn', '근교', '잘수', '했음', '무척', '그걸', '만남', 'او', '오짐', 'x3', 'vi', '웅벌', '2층', '입고', 'm', '묵기', '✌', 'vé', '×', '＋', '소스', '드', '실제', '그에', '보기', '공항', '׳', '남자', '착함', 'TA', '즉', '또', '씨가', '제일', '이쁜', 'F1', '🤔', 'DG', '뜨지', 'אם', '되는', '🗺', '건식', 'J', '만두', '친한', '입에', 'de', '잡기', '탓에', '美', '🔆', '3g', 'Ни', 'du', 'Ex', 'Qf', '힙한', 'Да', '껏', '49', '일이', '일어', '쯩', '계단', '되며', '밥도', '7j', '광장', '짜진', '휴지', '❣', '냠쟈', 'ок', '후회', 'JB', '·', 'á', 'wg', 'få', '좋진', 'bf', 'Ga', '这', '笑', '쉬운', '남', 'Ok', '8h', 'ÁL', '물과', '비해', '역대', 'Но', 'ㅐ', '있던', '신축', 'dê', '쓰고', '한데', '뚀', 'Το', 'ba', '소품', 'и', 'ㅏ란', 'a5', '되면', '뛰고', '不錯', 'Th', '可爱', 'ET', 'PM', 'ZB', '뺄쁘', 'דה', 'כל', 'со', 'Om', 'kl', '棒', '56', 'OJ', '🤕', '절때', 'Ie', '묺동', '정량', '전용', 'yg', '点赞', '돌로', '🤷', '安静', ']', '갑', 'Со', 'th', 'pi', '딸린', '켤', 'f', 'τα', '컵반', '\\xad', '멋짐', '있구', '💜', '맞을', '나를', 'TI', 'öV', '약해', '☆', '걸', 'sp', '창문', '주신', '못', '위치', '꽉찬', '가든', '푸드', 'τη', '답도', '정땡', 'ㅈ', '🦋', '挺近', '빰엣', '생긴', '조', '◉', '廚房', '가능', '2y', '가족', '집들', 'Zé', 'Xx', '高度', '้', 'bd', 'bó', '🧐', '학', 'ns', 've', '준비', 'sj', '‚', 'ax', '🇨', 'BH', '쟘이', 'Hs', '차단', '일출', 'rd', '방에', '쪼꼼', '7h', '洗衣', '크지', '됐다', 'π', '설탕', 'qd', 'OR', '40', '쿠쿵', 'hi', 'RE', '체크', '비롯', 'wd', '2G', 'O', '쉐시', '대해', 'om', 'Kg', 'ei', 'Xo', '구럼', '줌', '오갈', '6m', 'my', '싸고', 'CG', '데를', '1', '오고', 'ja', '가길', '쎄개', 'Be', '야깐', '머리', 'Po', '우유', 'LE', '고루', '창만', '외진', '보러', 'CO', '않음', 'Ad', '🍴', 'lé', '정', '별점', '세제', '이쪽', '놓고', '餐馆', 'ra', '돈을', 'Os', '🤤', 'ks', 'tt', '없뀨', 'Kl', '58', '곳을', '75', '나무', 'Θα', '말이', '툼이', '기와', 'OF', '42', '낀', 'ò', '3o', '자주', '알기', '금방', '싶어', 'եք', '분만', '볼때', 'D', '（', '°', 'על', 'bb', '땨른', '并且', 'к', 'SW', '써도', '옛', '82', '2х', '역은', 'xa', 'yı', 'Üç', '_', '麵包', '평졈', '대화', '물론', '혹시', '옆방', '답잉', 'će', '1f', '핸들', '포함', '자기', 'bi', 'Eb', '🦠', '번째', '26', 'IN', '치기', '앞인', '🙈', '기대', '2b', '선택', '딸', '야간', '상가', '엄', '헤맬', '넘넘', 'lx', 'ㅔ가', '취한', '‼', 'ту', '금', '멋진', 'aI', '7세', '정할', '데에', 'å', '💯', '其次', '팔고', 'Bé', '방', 'AN', '멀리', 'Op', 'GE', 'B', '즉시', '낮', '2개', 'a', '됐음', '댜', '몹시', 'В', '경우', '🌳', 'й', '될것', '해줄', '늦고', '🌊', '됡짉', 'Mb', 'Vu', '같이', '’', 'an', '점심', 'sy', '29', 'Η', 'Br', '도마', 'тд', '่', '편한', '환불', 'Оч', '땩', 'dà', 'BG', 'ld', 'של', 'От', '먼지', '열고', '춪움', '💗', '때가', 'MY', 'Où', '있쒀', '사과', '말고', 'sI', '꽉', '맡길', 'gs', '공개', '€', '일도', '점이', '여서', 'ok', '찾던', '인데', 'MM', '5층', 'Mt', '만', '싶고', 'pc', 'Ár', '과', 'ys', '두', 'NJ', 'aj', 'SC', 'ㆍ', 'Pr', '전날', '주는', '칼도', '很累', '8m', '다님', 'Á', '서로', '찾이', '🌲', 'CU', '방은', 'GT', 'եմ', '정이', '응답', '2t', '\\U0001faf2', '시간', '알려', '전부', '3º', '좀', '개인', 'ná', 'Bv', '시내', 'lā', '나고', '싱관', '미니', '들지', 'We', 'ni', 'Cs', '타러', '景點', '잠뀌', '욘락', 'BY', '비록', '순간', '것', '85', 'bn', '되요', '宽敞', '내는', '3x', '\\U000e007f', '여자', '…', '6L', 'TB', '안내', '원체', 'vz', 'GB', 'ще', '검색', '요청', '마뉘', 'ea', '첨에', '명동', '뭐가', '차서', '내릴', 'на', '5개', '🤗', '몇번', 'Na', '잼', 'Zs', 'LD', '내에', '티도', 'פי', 'עד', '1e', '하지', '막', '존똑', '자정', '먹을', 'if', '있음', 'CD', '평소', '점도', '两层', 'vb', '細心', '*', '구조', 'eg', '될', '😌', '나니', '이', '스텝', '사서', '34', 'iw', '여쟈', '수법', '그는', '같음', '처음', 'д', '負責', '즐길', '술에', 'li', '84', 'UG', '사는', '말한', '≥', '冰箱', '배려', 'HG', '장기', 'b', 'Pa', '💞', 'až', '美甲', '저는', 'ml', '간이', 'ho', '밋진', '🚎', 'sq', 'kg', '곳에', '🍀', '열', 'że', '버터', 'nC', '들려', 'us', '해당', '可是', 'RU', '98', 'Σε', '수압', '믿고', '물잉', 'סי', '😭', '厨房', '못한', 'си', '덥지', 'RA', '창밖', 'są', '걸린', 'ù', '8a', 'Dû', '더욱', '존재', '간접', '가구', '특히', 'af', '🚌', '词典', 'dó', '另', 'jm', '비단', 'Bc', '햬욥', 'το', '감고', '很大', '정리', 'ОН', '맞춰', 'об', '물건', '초큼', 'xo', '너', 'Fé', '﹏', '5l', '몸이', 'Vê', 'JN', 'בה', 'уж', '와는', 'Cc', 'z', '통해', 'E3', '이어', '쉽고', '맺음', 'DA', 'gr', '치울', '붙여', 'ΣΕ', 're', '🏼', 'αν', 'ij', '보호', 'Î', '2D', '개', 'ii', '8C', '양호', 'JR', '단독', 'Ac', '언떡', '变', '간', '만약', '글고', '9y', 'ně', 'Rs', '모기', '오르', '거라', 'il', 'от', '等', 'pl', 'uz', 'T3', '할인', '벽이', '끌꾸', 'da', '제가', '중간', '🐬', '제게', 'MK', '등의', '공동', 'TO', '편의', 'eh', 'pe', '8H', 'a2', 'ah', '도착', 'ı', '넘', '윗층', '그가', '고민', 'TD', '4ᵉ', '지도', '너무', 'As', 'VP', '🧗', 'Jm', 'M6', 'må', '바리', 'ㅂ', '🤢', '믿음', '딱임', '혹', 'la', '한층', '뷰도', '앞이', 'ét', '그를', '때도', '법과', 'IS', 'IC', '루소', 'll', '몇', 'bs', 'zB', '편할', '거임', '🙋', '아웃', 'ми', 'σε', '😝', '싶을', '다들', '오줌', 'dª', '제거', 'Cz', '먹고', '것만', '단호', '2⁰', 'Aa', '예', '비행', '겹칠', '79', '구경', 'A2', 'яв', '전에', '공원', 'às', '5', 'Οι', '🇫', 'dI', '근처', '잘', 'Es', 'zu', '올때', 'E1', '훔', '해야', 'ID', '#', 'YO', 'ÀS', '잡을', 'Jó', '−', '！', '사다', '도보', '좁고', 'Gb', '🥶', '̀', '술을', '글을', '̛', '동네', '나름', 'NZ', 'oh', 'Or', 'ä', 'ig', 'ré', 'EY', '충분', '노선', '5p', '8n', 'Pç', '☺', '탈수', '묵을', '정도', '4분', 'ั', '문은', '<', '짤', 'Qc', '타서', 'ma', '청', '갈지', '拖鞋', 'PL', '7층', 'ap', '날씨', 'SN', 'ED', '4K', '烤箱', '몽트', '들릴', '끌고', '갸진', '5박', '묵게', '8시', '줘서', '방문', '타고', 'Jr', '가기', '늦은', '싼게', 'ce', 'va', '좁긴', '벌레', 'én', '고급', '못감', '묽이', '남겨', '자리', '🚬', 'Ar', 'um', '🎨', 'mn', '들림', '뭣한', 'FM', 'm2', '장난', '바깥', '一般', '👏', 'XD', '맥주', 'PJ', '밟꾜', 'าร', 'CC', 'ur', '💖', '그것', 'ไม', '편리', 'Si', '해준', '없어', 'wt', '근방', '어느', '때와', '치', '🏄', '휴기', '할까', '찰나', 'Į', '購物', '벌', 'ES', 'MJ', '👐', '마저', '4C', '쓰는', 'je', '집을', '나올', 'xu', '캔', '맛난', 'su', '개에', 'fa', '8p', '쪽에', '돈이', 'WG', '🧼', '편도', '같긴', '中超', '낮에', '않고', '꽤', 'fl', '눼시', '面吧', '길만', 'ge', 'งม', '쉴수', 'añ', '🥞', '뷰', '점에', '차를', 'ka', '꿀', '역을', '터라', '식빵', '👍', '🥣', '믿을', '4일', '97', '햬또', '3분', 'по', 'wc', 'רב', '옥상', 'AH', '개가', '이걸', 'it', 'Im', '끌기', '착한', 'อย', 'nä', '겨우', '제외', '🎈', '잠글', '0', 'הם', '뜍뚀', '좋은', '화가', '차곤', '⛵', 'ты', 'AB', 'EN', '推荐', '펍에', '비누', '코인', '무료', '🤙', '참고', '없기', 'în', 'D7', '느께', 'Og', '구지', '했다', '喜欢', '・', '줄까', '산', 'sû', 'NY', 'dû', '치약', 'dh', 'т', 'ją', 'cd', 'D1', '법도', 'ow', '갈때', '거림', 'ух', '키가', '加油', 'Jb', 'גן', '보니', '깨긴', '赞', '.', '에그', '음료', '7º', '강추', '4e', '않다', '주소', '채광', '9m', 'Ee', 'б', 'we', '💃', '모른', '쫆', '저곳', 'Zu', '32', 'Uy', '문을', '💦', '점과', '🥂', 'ли', '있는', '환영', '하여', 'W', 'té', '돠', '따순', '밤을', '🇪', '날짜', '없다', '신발', '세탁', '미로', '👩', '뭐든', '대힌', '방이', '走路', '차', '🏴', '1O', '담긴', '길로', '2o', '쿠키', '되서', 'Sq', '얼음', '당긴', '🍾', 'fe', '🥲', '여긴', '약을', 'zo', '牛奶', '🇺', '꽤나', '꺝귄', 'tj', 'İ', 'ls', '났고', '침구', '果汁', '가량', 'In', '남짓', 'yy', '빰에', '6x', '软', '모습', '메인', '들어', '좋', 'די', 'lz', 'ç', '4x', 'nº', 'cn', '문의', 'sé', '물로', 'He', '뭐', '쉬던', '룸', '이곳', 'fã', '끝에', '밑', '🏻', '오일', '중의', '방도', '87', 'Y', 'я', 'é', '33', 'ο', '2H', '알던', '🤍', '안되', '샤워', 'WZ', '쉬러', 'ต', 'DI', 'Tá', '치신', '채', 'RC', '치즈', '숙쏘', '저두', '옷에', '통한', '안애', '으로', '„', 'Nr', '45', 'På', 'Oz', '🇭', '雨棚', '턕띠', '약', '무릐', 'あと', '🎻', '다음', 'BF', '곳과', '여성', '1a', 'Ça', '문도', '폭이', '차로', '줘뉸', 'Az', '🎉', '🤣', '뮬을', '일단', '>', '바로', 'Vs', '부족', '🌼', '차랑', '⁶', '安全', '좁아', '않아', '예를', '찧긴', 'jn', '39', '먼', '수록', '2A', '담에', '끄꺼', 'en', '철제', '위', 't4', '옆집', '파티', '잇어', '🐝', '🧳', '역시', '🔐', '자도', 'Св', '짧지', '고빵', '이랑', 'no', 'Су', '위햔', '날뻔', '사항', 'SO', '옆인', '문화', '옛날', '키로', '비용', 'ΟΙ', '챙겨', '무링', '동시', '🌅', '위로', '🎶', '빨래', '듬', '👎', 'Ay', '16', '🍺', 'DC', '\\U000e0077', 'Bb', '不過', 'Ob', 'DR', '😔', '쬬쿪', '집앞', 'До', '3G', '힘이', '真好', '절', 'vr', '한번', '쪽', '쬰나', 'ので', 'vu', '운', 'Ő', '整齐', '1일', '🤯', '잠들', 'or', '水果', '과일', '50', '쏘', '딥이', '젥갃', '많고', '✈', '우뿨', '함깨', '먼저', '干净', '25', '춰요', '´', 'öl', '먹는', '7e', '4й', 'P', '오후', '¢', '당연', 'Зв', 'Df', '💛', '관광', '묻고', 'By', 'Hu', '제꺼', 'у', 'их', '⁃', '60', 'to', '아닝', '수가', '기타', '가게', '받진', '했을', 'åt', '뒈신', '쪼금', '隔音', '葡文', '28', '살기', '餐具', 'Ez', '틀고', '6E', 'jp', 'šo', '주려', 'nó', '닭맑', '餐厅', 'τ', '9u', '🤪', '면도', 'd', '쓰면', '투어', '🇰', '마치', '52', '2인', '아무', '와도', '올라', '🌻', '장을', '아에', '풀고', '틀면', '쪽문', '대신', 'Pé', '5h', '🚂', '커버', '갃장', '사악', '쭉', 'xk', '🐭', 'כך', '안된', 'Wr', 'ㅜㅜ', '환상', 'MC', '區內', 'fb', 'lV', '목욕', '3楼', 'NI', '짐만', '부실', '🎇', '거의', 'GH', '바닥', '쬐끔', 'BR', '😗', '때를', '2k', '🚃', '의', '밖에', '팁을', '🏰', '빼고', '핑고', 'kt', 'na', 'ZÉ', 'LL', '나요', '64', 'bc', '날', '6o', '😛', 'ko', 'br', '귀를', '、', '주방', 'οι', 'cè', '停车', '벨을', 'ch', '넘후', '🚇', '소형', 'во', '감상', 'nt', '빨리', '나온', '🥴', '큰거', '8u', 'My', '구해', 'qu', 'Sr', '|', 'Od', '군데', '쇼파', '창을', '✔', '😮', '보임', '방향', '팡팡', '😆', '마약', 'Pó', 'do', '큰짐', '지낸', '나지', '천년', 'oD', 'Ns', 'бы', 'KR', '번호', 'BD', '멀지', '도시', '쥬고', '저', '저흰', '남음', '😊', '싶다', 'HQ', '전과', '방과', '술', 'Tb', '환경', '번쩍', '자칫', 'mv', 'hé', '비운', 'rb', 'Gå', 'км', '00', '샴푸', '推薦', '홀홀', '가장', '🎤', '하는', '이틀', '노점', '🛏', '乾淨', 'لـ', '택시', '장소', 'ts', 'ㅋㅋ', 'Mr', '곳', 'sè', '것도', '키를', '2', '올', '성이', '며칠', 'is', 'oû', '속에', 'za', '🏡', 'Oh', 'Sb', '것을', '씻기', 'Cd', 'ga', 'Hé', '優點', '분이', '날도', '실은', '감동', '5u', 'on', '엄쳥', '`', '👆', '「', 'FI', 'iy', 'Lá', 'е', '올만', '튀어', '\\U000e006c', '뒤쪽', '”', 'IO', '대로', '차다', '타실', '§', 'Об', '갖다', '4인', '것두', '🇩', 'Pq', '켜면', 'ª', '역이', '소음', '도구', '청결', '힘든', 'Oi', '약속', '뭘', '돈', '훨', 'iv', '13', '락', 'No', '길도', '뽴희', '평균', '🏽', 'тп', '옆이', 'Ia', '整洁', '편함', '/', ':', '모든', '🍞', '72', '6p', '발', '따만', '침실', 'мы', '함께', 'Et', '🪳', '잠시', '간게', 'се', 'LO', 'EG', 'x6', '漂亮', '⁎', '이상', '뒷', '말지', 'rr', 'Fr', '드실', '노란', '줄', 'fé', '2E', '주말', '별로', '불러', '잡고', 'SF', '연인', '현재', '춥진', '일딴', '가끔', 'ON', '빵', '【', '3a', '感谢', '81', '5j', '🍻', '또는', 'as', 'St', '地铁', '옵션', '병', 'та', '외에', 'Mc', 'L6', 'JE', '좀더', '걸로', 'gd', '🙄', 'NA', '에어', '잠은', 'זו', '물씬', 'Há', '보고', '춥긴', '🤎', 'Mo', 'bu', 'ā', '08', '뽜똭', '만나', 'Yu', 'x2', '🧁', '계속', '를', 'ac', '그리', '레알', '很好', '아마', '수는', '없고', '이나', '感謝', '넝뭉', '🖤', '절반', 'vo', 'Um', 'É', 'Ô', 'č', 'DT', '전화', '가득', '윗집', '일반', '5B', '무난', '혹은', 'ci', 'ė', '끈떼', '잘은', 'Vo', '고생', 'Is', '자면', '죽는', '어요', '찾기', '좋을', '중심', '베임', 'TL', 'و', '酒吧', 'Up', '일은', 'SU', '좋다', 'ї', 'ём', '큰커', '받지', 'bt', '생활', '앞', 'tí', '🤘', 'ut', 'אז', 'NB', '걸어', '3F', '진', 'T2', '잠', 'Ко', '9a', 'GO', '별도', '들', '👀', '美丽', '?', '싫은', '钱包', '￼', '당시', 'An', '😁', '쫙', '전기', '好', '어떤', '所以', '楼梯', '오픈', '에', '병도', 'ий', '과자', '개선', '걍', '풀', '쪽씩', '18', '트램', 'jó', 'jq', '2월', '有红', 'LZ', '쥬볂', '立地', '써서', '단순', '법을', 'Lé', 'Er', '4H', '쉽지', '내로', 'öt', '好评', '눈이', 'CM', 'まず', '毛巾', '뜨는', '🤌', 'Sò', 'Σ', 'ㅏ', '1F', '❤', 'Km', '끄는', 'wk', '3ο', 'tb', '약간', '+', '봐닥', '6', '식탁', '싶은', '공사', 'co', 'vc', '됨안', '듀변', '게', '🤝', '이고', '신속', '먹은', '주고', '소오', 'SE', '분들', '☀', '비추', '6y', '개미', '감히', '💑', 'Ä', 'JK', 'G', 'О', '대형', '💭', '🌹', 'Bu', 'ME', 'нв', 'ม', '곳이', '열면', 'En', '7u', 'se', 'Mø', '다른', '인지', '상상', '줜나', 'jb', 'не', 'AA', '갈뻔', '裝潢', 'gb', 'N', 'JM', '열릴', '접시', 'др', 'IL', 'KY', '위촉', 'T4', 'Ws', 'tp', '1H', '길', 'Им', '갈래', '🙁', '36', '후에', '한껏', '갔던', '개를', 'τι', '내색', '많아', 'את', '열때', 'Є', 'yp', 'λ', '본', 'HU', 'él', 'ça', '방을', 'Sé', '5b', '耐心', '픽업', '사실', 'ol', '쏙', '폼발', '답만', '동동', '흠', '쉽진', 'pk', 'mw', 'PH', 'لا', '버스', '🙌', 'TV', '창은', '很棒', '과연', '요소', '짧고', 'VW', '데도', '안고', '17', '상', '넘흣', 'её', '✅', '5o', '작고', 'ws', 'IG', '돼서', '쫠', '측은', '[', '有2', 'h', '__', 'ás', '각오', '℃', 'vó', 'yu', 'La', '便利', '일정', '처럼', 'ê', 'wi', '되고', 'ק', 'Ur', 'BA', '새로', 'c', '😡', '뙤면', 'ย', '없음', 'eE', 'S2', '앉아', '굴뚝', '일찍', '컷', 'av', '빵빵', 'סך', '앞에', 'ir', '클럽', 'ER', 'al', 'oq', 'IP', 'Nn', '무슨', '🚀', '5분', '그날', '11', 'ㄱ', 'Ot', '69', '5일', '하니', 'í', '틀린', '죠음', '분', 'Qu', 'EL', '같은', '-', '~', '길은', '88', 'Ev', '4k', '3개', 'ad', 'QR', 'B3', '37', 'ã', '언능', 'lg', '큰', '好像', 'im', 'Sè', 'Ww', '뚸', 'ω', 'xx', '،', '차량', '조식', '저와', '쯤', 'VO', 'Jp', '씻을', '빼곤', '바쁜', '린스', 'ss', '고정', '얼른', 'u', '안부', '사용', '단연', '周到', 'ez', '2d', 'TP', '비키', '🍊', '낮고', '🇬', '이른', '20', '주의', 'Of', 'Ba', 'Au', '🥐', 'wo', '해가', '뮨을', '챙ㄱ', 'ew', 'DJ', 'El', '조븐', '도로', 'им', '점', '4m', 'זה', '구글', '이후', '15', '\"', 'Eg', '48', 'WE', 'ไว', '분을', '1B', '🏾', '3', '적은', '할땐', '쓴', 'Re', 'MA', '\\U0001faf6', 'lp', '0층', '観光', '같고', 'ג', '숙박', 'ี', 'er', '뒤', '짐도', 'Fi', '이런', '맨', 'Он', '🍋', '뗄', '걱정', 'le', 'un', '오는', '새똥', 'ㅏ격', '🇷', '쫍은', 'Só', '지나', 'ua', '完美', '칼', 'Fá', 'oF', 'qi', '̃', '데', 'ิ', '물또', '좍은', '1층', '한병', '½', 'Am', '사기', '27', 'Tl', 'up', '내', '사진', '건', 'iz', 'SA', '눈에', 'Tt', '높고', 'να', '암튼', 'Wé', '사간', '여튼', '자꾸', '다망', '35', '행', '잃게', 'Из', '찾고', 'до', '저를', '지난', '내고', '오면', '세서', '19', '순', '룸에', 'oü', '힘듐', '9H', '되게', '现代', '밝은', '싱글', '🎄', 'WP', '️', 'sr', '앞집', '무지', '답은', 'ею', 'κ', 'bo', '남을', 'mt', '가본', '흑흑', '2박', '🦫', 'eu', '나', 'T0', '옆에', '갈까', '优点', '중형', '—', '위취', '🗻', '듯한', '방울', 'ha', '舒服', '가던', '휴식', 'Ló', '한국', '🚿', '집의', '3è', 'Не', 'ко', 'Ps', '😳', 'jr', '🐐', 'ФК', 'èn', 'Us', '🚊', '🥵', 'он', 'nå', '답장', '迅速', '망치', 'Sd', 'PF', '켜도', '당장', '격의', '십분', 'XL', '분도', '넊묶', 'жд', '⬛', '알게', '寬敞', '찾는', 'AS', '위해', 'Yo', '좁을', 'T', '벽에', 'zb', 'MN', '제공', 'Ca', 'uy', '움직', '99', '早饭', 'so', 'fu', '내가', 'ㅡ', '쉽게', 'x', 'ZU', 'Ty', '기분', '뿐만', '바', '很冷', '첫', '09', 'IR', '강', '′', '🌟', 'nr', '멋도', 'Ei', 'ч', '찾아', '그거', 'gh', '절댕', 'BP', 'bq', 'DS', 'Pt', 'бо', '‘', '93', 'wy', 'Di', 'Hh', 'Se', '넘는', 'Sá', '❌', 'E6', 'що', '완전', '곧', '끓구', '가도', '오전', '그럼', '받는', '等等', 'пл', '🍰', 'XI', '\\u200f', '역', '💍', 'Qs', '아빠', 'TC', '🥳', 'IT', '하며', 'o', 'Tu', '잘된', '」', '五星', '트랩', '식기', 'ST', '말을', '집은', '设施', '지금', '건물', '👯', 'cf', '🌸', '두어', '을', '앉에', '암툰', 'Av', '현지', '애를', '눠무', '나옴', 'PC', '나갈', '오실', 'Д', '혼자', 'WA', '놉고', '하진', '돌수', '영어', '😨', '어린', 'dc', '여러', '덜', '확정', '신식', '인해', '😕', 'kö', '갈거', '76', '가요', 'BZ', '놀다', '렌트', 'Às', '후드', '그릇', '안', '碗筷', 'SI', 'oä', 'ึ', '티켓', 'НО', '안돼', '눈을', '그린', 'eT', '있다', 'UK', 'tm', '열쇄', '단위', '운이', '桌子', 'ze', '95', '🌈', '데가', '적', '67', '헌집', 'QG', '거리', 'ou', 'b4', 'zó', '곳만', '밖', '첫날', '超市', 'То', '용이', '넒은', '🌶', 's', 'pb', 'BQ', 'Go', '์', '2j', '짧은', '싸면', '키는', 'že', 'EU', 'tą', '못지', 'тк', '蛋挞', '돠만', '키', '오직', '성당', 'мм', 'LB', '78', '하기', 'uf', '👨', '🌍', '타도', '쑴', '하루', '옆', '3A', '9e', '건데', '70', 'ㅋ', '🤟', '손을', '서핑', 'Kh', '小', '\\u200d', '가진', '💻', '맞아', '2c', '최고', '총평', '3박', '엄마', '當然', '😎', 'Ni', '따라', '했고', '3일', '먜우', 'VF', 'IE', '̈', '57', '수도', '갖춘', '모토', 'mi', '쉬다', '🍪', 'ці', 'AU', '의사', '골목', '핫한', '하러', 'zw', '👻', 'UN', '🚉', '🥰', 'e', '층', 'øl', '🏝', '마신', 'μά', '다한', '1D', '우리', '수퍼', '없이', 'Це', '친구', '다룸', 'op', '세요', '첨엔', 'Aí', '짐', '当然', '인', '맏길', '슬슬', 'vê', '2C', '절댃', '되지', '2명', '하핳', 'tê', '보는', '가는', '침대', '쪼매', 'Eu', '쪽을', 'či', 'ТВ', '걷는', 'г', 'JF', '단', '4명', 'зі', 'Uk', '🤓', '3d', '길을', '포크', '허위', '쓰던', 'AT', '된다', 'Mu', '1G', '忘记', '읬는', 'Là', '대비', '는', '우버', '것은', 'Św', 'Ah', '날에', 'că', '&', 'Öl', '4E', '위층', '记住', '？', 'A4', '옆엔', 'y', '😀', '그', '✨', '떠날', 'pm', 'iT', '나긴', '주위', '˜', '각각', '🥖', '⚡', '역사', '받은', '\\u2060', '새', '원래', '빵에', '드릴', '哈哈', 'hf', '에나', '적이', 'bz', '해도', '더울', '잠이', 'ст', '때는', '버뜨', '온', '。', '£', '느낌', 'Bo', 'mu', '분리', '싶게', '아침', '카페', 'JJ', '공간', '답게', 'DE', '마니', 'fx', '다를', '다시', 'g', 'au', 'º', 'Ab', 'і', '3m', '뚫는', '̧', '티비', 'ot', '客厅', '춥게', 'FB', '3H', '열린', '으', '톨', '조지', '2B', '잠만', 'L', '环境', '일쩡', '어디', '구운', '머', 'yo', '☕', 'xq', '햄', '짐을', '벨렘', 'Gr', '렌지', 'ᴗ', '2x', '만큼', 'Ο', 'Hè', '봤음', 'го', '👞', 'Uf', 'R', '세번', '실내', '안씀', '\\ufeff', '얻고', '酸奶', '그닥', '👫', 'DL', '🚗', '타면', '와', '날이', 'PR', 'bé', '@', '많은', '́', '겁나', 'fő', 'JP', 'už', '파란', '맡아', 'Gx', '몫을', 'az', '59', '호텔', '반', '🎀', '밖이', '02', '부터', '96', '점만', '세고', '싹', '영깅', 'hm', '밤새', '넓어', '🥮', '벽을', '쎄서', '지구', '만날', '💤', '모여', 'mr', 'pò', 'jM', 'vh', '벗고', '6층', 'og', '목재', 'qr', '동', '하구', '\\\\', '것과', '횐풍', '넒묾', '无', '{', 'CE', 'Já', '지낼', 'ds', 'VC', 'H3', 'Do', 'HS', 'pd', 'зв', '맘에', 'Dr', '벨렝', 'ov', '💓', '🤮', '없는', '집이', '5y', 'så', '2è', '유용', '역도', '놀', '⛔', '빵들', 'ex', '쓰지', '不大', '잠귀', 'kb', '9o', 'Ao', 'Em', '🤫', 'є', '위에', '얼마', 'но', '😃', '8E', '있기', '하필', '盐', '天哪', '술집', '1k', 'à', '하나', '문', '도심', 'ph', '꽃을', 'À', '외출', '두개', '很美', 'cç', 'YU', 'Lu', 'iе', '전망', 'Id', '줄이', '운전', '단지', '1인', '영상', 'hu', '관리', '매직', '77', 'פה', '얻기', '쓸', 'dj', '地鉄', 'sh', 'DM', 'MI', '겪지', '안은', '외', 'Ç', '져는', 'DK', '맛집', 'RB', 'tú', '5E', '💪', '71', 'ㄷ', '할쑤', '🔝', '좋고', '05', '이건', 'bg', '🐱', 'Td', '소파', 'Nu', '이내', '맏아', 'Fl', 'sC', 'HD', 'OS', '감안', 'OM', '🚋', 'Cu', '방만', '부엌', 'ed', '쉬고', 'qm', '😘', 'aa', '😑', '餐饮', '겂낭', 'uk', '🦜', '熱情', '多的', '¡', 'Me', '공기', '갖게', '😅', '😺', '환기', '얕은', 'ㅎ', '몸을', 'N1', '1º', '열기', '謝謝', '해욤', '너뮤', '😖', 'Ea', 'LU', 'HP', '습한', '세', '법', '높은', '펍도', 'ft', 'те', '했기', '餐廳', '건조', 'rt', '뿔꽃', '🍃', '🙂', 'ar', 'wh', '잠을', 'Él', 'Ru', '三层', '신대', 'WC', '밤엔', 'RF', '😬', '옷을', '수만', 'IK', '우', '🍮', 'Un', '끄고', 'pP', '마중', '46', '둘이', 'sl', '😱', 'ó', 'A', '⚠', 'VR', 'Ze', '데뷔', '볼수', '주', '🧽', '항상', '각', '가지', '🎥', '펼쳐', '춥춥', '🕉', '춥지', '4p', '쥔짜', '🧡', '로망', '할게', 'ee', '빼면', 'r', '문제', 'צ', '𖤐', 'gå', '에서', 'me', 'kw', '집도', 'Zo', '여태', '3h', 'só', 'ne', '놀기', '끝', 'LX', '🤸', '5L', '예상', '\\U000e0067', '신경', 'Ki', 'It', 'ЖД', 'eo', '소요', 'И', 'με', '적극', 'Ti', '超棒', '友善', '받을', 'Nd', '⭐', '쉴', 'OV', '너머', '같을', '마켓', 'ye', '쫀냐', '\\u200c', 'aí', '동눼', 'Вы', 'ej', '작동', 'dd', '洗漱', '세상', '때면', '악취', '方便', '생김', '綠茶', '히히', '빵읺', '바디', '할때', '🎂', '🕊', '巴士', '5a', '아니', '몇장', '놓을', '지역', '감성', '심할', '够热', '셀프', '％', '🤞', '📲', '고장', '꼭', 'ár', '생각', 'he', 'ev', 'ды', 'è', 'Sh', '해', '뮬론', 'BC', '내의', '열차', '갈아', '식당', 'Co', '61', 'Ou', '조끔', '편히', '4', '진쫘', '이쌍', '집과', 'Ov', 'C', 'bv', '😚', '창도', '계획', 'тв', '감수', 'gi', '팬은', 'YA', 'De', '그냥', '괜히', '였고', 'На', '날은', '새섥', 'また', 'pf', '급한', '자쥬', '对了', '있어', '힘들', 'UL', 'At', 'zH', '남은', 'δε', '오게', '났던', 'ao', '연랅', '7', 'rh', '추울', '전철', '담요', '그외', '이뻐', 'fi', '보수', '층을', '의향', 'їх', '내부', 'Та', 'Fx', 'TM', '무', 'at', 'מה', 'by', '잔뜩', '큼', '라면', '🍿', '짱짱', '인생', '4м', '시설', 'mì', '94', 'üç', 'Lx', 'PS', 'sí', '가시', '높아', '겸', '돼고', '캡슐', 'yö', '주심', '5D', '😴', '소란', '4j', '뷰나', '8e', '이불', '짐작', 'pé', 'İt', 'Z', '밥을', '2h', '좋지', '%', '갖고', '마음', '细心', '鸡蛋', '매우', '🍳', 'm²', 'VE', '나타', 'Ir', '되어', '깊은', 'jà', '쿠', '設施', '소금', '모두', 'Mi', '≤', '강이', '수건', 'AD', 'п', '💋', 'ux', 'vd', '추정', '휴', '7A', '등은', '=', '明亮', 'Je', '나가', '저고', 'GG', '만한', '😥', '제발', '주로', '약한', 'cm', 'ở', '구진', 'Ts', 'х', '매일', '제', 'JL', '9欧', '쵸큼', '아차', '두명', '대충', 'Zi', 'sm', '🤩', 'ู', '분임', 'gl', '21', '14', '(', 'BT', '찍고', '최신', '醋', '인듯', '두면', '커서', 'γη', '2e', '집', '2º', '갔덙', '便宜', '스윗', '쓰긴', '℅', 'Te', '직접', '다소', 'ob', '저희', '유료', '후기', 'Va', '🎁', '추첢', 'US', '🎷', '같아', '그곳', '6a', 'On', 'yr', '🌱', 'хв', '위뤈', 'If', '면과', '내내', '总之', '》', 'Ne', '더', 'tè', '열을', '불이', '아직', '지상', 'Ja', '늘', 'чи', 'FX', '틈이', '5g', '산타', '교통', '우편', '1박', '花园', '장', '30', 'บ', '뷰를', '봐서', 'ㅠㅠ', 'Fè', 'È', '타월', '03', '열쇠', '交通', '3r', 'Wi', 'Ta', '할것', 'Qq', 'LG', '马桶', 'vá', '힘듦', '🧻', '살짝', '번에', '热情', '和', 'צר', 'Dª', '마실', 'fà', '드는', '최대', 'ㅇ', 'في', '종점', 'ㅕ', '골프', 'lo', '곳들', 't', '噢', 'IM', '아츄', '54', '욕조', '🤦', '★', '선에', '둘다', 'Al', '사갈', 'Il', '總之', 'з', '집안', '밪도', '서고', 'จ', '부스', '잇긴', 'HA', '삼일', '혼좌', 'Lo', '머물', '포국', '추움', 'עם', 'Té', '느낀', '기차', '훌륭', '아쉽', '🤭', '많기', '로', '잠궈', 'η', 'io', '4º', 'np', '奶酪', 'A5', '🇹', 'Се', 'Pd', '62', 'xl', 'MS', '감이', '맨날', '整齊', '야경', '길이', '“', '±', '권고', '적긴', '못해', '살', 'po', '״', '좋음', '함정', 'MV', '긍데', 'св', 'i', '친절', 'Uw', '광좡', 'ただ', '주인', '줠라', '끊고', '몇개', 'in', 'H', '4층', '할', 'Во', '높굥', '말할', '냄비', '저랑', '묵다', 'né', '讚讚', '눈뜸', '왜', '근데', '🧘', 'ท', '여기', 'fm', '짱', '수왑', '편이', '꽝', '부분', 'lê', '야는', '티와', '나쁜', 'Tx', 'PA', '8월', 'AR', '고', 'sF', 'el', '치안', 'RI', '묶을', 'ti', 'dz', 'T1', '입구', '샴프', '저것', 'ㅔ', '타올', '냐욤', '코앞', 'عن', '많을', 'IV', '🌷', '就是', 'mí', '吵', '🔊', '츕고', '물을', '비가', '끈덹', '팀의', '밟을', 'Sė', 'nè', '멀면', '빵을', 'ht', '超赞', '，', '🌞', 'zn', '달린', '않자', '추운', '신고', '상징', 'st', '높이', 'ㅎㅎ', '자서', '올해', 'AO', 'ÖV', '볕이', '블랙', '🧚', 'IH', 'Gh', '많음', '무릎', 'lf', '–', '₽', 'ıt', '이유', '4시', '푸른', 'شي', '으늠', 'și', '눈치', '2е', '쬬찌', '코', '물려', '饭店', '油', '거', '정돈', 'Ми', '전', '\\U000e0062', '잉는', '👃', 'Nº', 'Q', 'há', '관련', '강력', 'PT', 'dk', '준', '더블', '온수', '9', 'ΘΑ', '않게', '💘', '하실', '3번', '과거', 'Wo', 'tä', '예약', '사이', '6h', '내외', '갈', 'ً', 'n2', 'או', 'Με', '체감', '민망', '최소', 'ΤΑ', '에코', 'Iv', '아님', 'NS', '내려', 'PV', 'Gd', '기본', '눈', '나방', '히터', '很赞', '물', 'id', 'BO', 'Ще', '😒', 'lá', 'Vc', '이번', '절대', 'งท', '🕺', '드솔', '\\U0001faf1', '작지', '）', 'ca', '우선', 'Ik', '에게', '일러', '쌀', '갈곳', '깁께', 'pg', 'à4', '외엔', '✊', '쪽은', 'tô', '빵집', '먼것', '물은', '💚', 'cN', '층인', 'CH', '이집', '1p', '2s', '냄새', '⋯', 'FR', 'n', '우비', 'És', 'Αν', '집기', 'Wc', 'Vh', '낯선', '단점', 'KG', '말모', '74', '일', 'MG', '무려', 'C4', '등', '잠깐', '듣고', '💫', '쌓인', '방식', '굳', 'nu', '닦고', '앉는', 'ff', '89', '跟', '🉐', '봐도', '；', '물이', 'Vi', '안심', '쫌', '대한', 'ry', '주지', '피는', '房间', '전통', '키고', '8', 'k', '바가', '열자', '넘어', '물품', '駅', '생겨', 'Så', '있지', 'ый', '리에', '7M', '끈대', 'Ve', 'w', '중', 'år', 'To', 'PD', '집인', '👊', 'ai', '룸도', '4ª', '､', 'cé', 'Xi', '廁所', 'L3', '일체', '수', 'X', 'εν', '말로', '이를', '올릴', '유유', 'ô', '거듭', '돌길', 'dx', '종료', '«', '보여', 'ps', '방음', '명소', 'nl', '한건', '팁이', 'AL', '10', '닿지', '한시', '🚶', 'Yr', 'אש', '달리', '🔥', '딸랑', '곳도', '가고', '찐짜', '업씀', '까진', 'Jo', '➕', 'ו', '알고', '미리', '주변', 'rs', '1s', 'dá', 'l', '낡은', 'DU', '들도', '쏘리', '까지', '출구', '등이', '높교', '자고', '2ª', '그건', 'FA', '💩', 'MB', '걷고', 'בצ', '열지', '만족', '퇴근', '저녁', '필', 'JS', '2p', 'כ5', '4d', '다가', 'pa', '4G', 'Tg', 'VU', '열어', '받죠', '탈', '손에', 'Я', '65', 'SR', '강과', '다', '🎒', '변기', 'vs', 'MO', '히팅', '역과', 'Îl', '빙', '등등', 'як', '•', 'ΤΙ', '♀', '😏', 'из', '않은', '될듯', '책도', 'Są', '화장', '🔴', 'ΤΟ', 'ти', '차지', 'Ci', '🏖', '물도', '결국', 'Ds', 'בו', 'аж', '나간', 'tu', '😋', 'sì', 'os', 'Du', 'än', '타는', 'UM', '보던', '쉬울', '꼐쑉', '♂', '아', '묵고', '있단', '요', '않는', 'Ed', '들른', 'hs', 'Ó', '이게', '밤이', 'D2', 'Sí', '^', 'це', '천장', 'lì', '1A', 'lu', 'ny', 'Zè', '줘요', '맞나', 'où', '3х', '뿐', '낼', '좔', '코를', '🍽', '强推', '아예', '방법', 'qq', 'OG', 'fo', 'uo', '화상', 'ie', 'dì', '계실', 'Wg', '폭도', '🌉', '넘나', '😞', 'dm', 'zé', '빽운', '你好', '뱔찐', 'VH', '커요', '쥔쨔', 'nB', 'Ms', '👋', '맵에', '떠나', '점점', '💎', '찌끔', '양념', '깨끗', 'בן', '😩', '말도', '♥', '밤에', 'кг', 'ab', '가야', 'Nb', 'ุ', '뽱은', 'S', '팬이', '추천', '}', '됐고', '92', 'לא', 'Т', '긜고', '오를', 'Fa', '4D', '정말', '꼐딴', '만의', '져녂', '하하', '3주', '2일', '갔고', '든다', '미쳐', 'הצ', '大爱', 'hr', '살고', '1m', 'JG', '역에', 'За', '하고', '일몰', '누노', '놔요', 'ж', 'oy', '1C', '🍦', '욕실', 'gf', '드린', '😄', '모듀', '유럽', '앙투', '잘해', 'Io', '곳은', '☹', '메고', '많지', '라는', '자는', '温馨', 'fr', '싸진', '4박', '73', 'ke', 'að', 'I', '있고', '없을', 'wr', '위의', '超好', '우측', '쪼꿈', '뼐류', '뜬', ';', 'hv', '져', '房东', 'qü', '문잇', '여느', '4y', '와인', '설명', '55', 'Má', '음', '։', '온갖', 'So', '푹', 'àl', 'pû', 'NE', '풍경', '넚뭆', '펍이', 'Qd', 'dé', 'Еs', '나서', '음식', 'NW', '들러', '火腿', '숙소', '44', '90', 'Su', 'Af', '1o', '심한', 'Ju', '51', '나는', '살지', '3층', '6х', 'là', '😍', '오든', '2O', 'kā', 'j', '당일', '책', '：', 'ин', 'A1', 'ㅁ', 'її', '지붕', '家', '뷰로', 'Pl', '01', 'AP', 'WM', '뭔', '쩡쩐', '멈', 'OA', 'Ai', '☔', '굿', '돌릴', '잼과', '싣고', 'Nl', '느낄', '집잉', '마트', 'Cç', '마다', '🇦', '카드', '📱', 'У', '위한', '찾은', '여는', '저도', '5m', '隨和', 'гр', 'EM', '🌄', 'ri', 'sn', '낄이', '잘한', '2a', 'ΜΕ', '평일', '🚻', 'ΝΑ', 'Lg', '발을', 'ㅣ', 'vy', '숫자', '시냐', '싫게', 'C5', '안에', '김치', '�', '뜨면', '확인', '나와', '6Y', '넣어', '방의', '잤을', 'Pb', 'ak', '빌려', '🌴', '날끈', 'rá', '타기', 'По', 'Eh', '복도', '옮길', '앞의', 'а', '리타', 'パン', 'יש', '거고', 'OH', '중요', 'Tô', '빨', '→', '먼가', '들고', '적합', 'őt', '반층', 'nd', 'dr', '등도', 'θα', '많이', '😜', 'dn', 'Ap', 'ή', 'td', '상태', 'eb', '朝阳', '인상', '구분', '여행', '¨', 'cu', '갓', 'dB', 'DN', 'F', '딱', '80', 'Za', 'är', 'Hi', '4h', '점을', '일부', '싸서', '요리', '올까', 'pp', 'А', 'Ae', '앉게', 'AV', '눈물', '않을', '🇧', '불을', '오심', 'AM', '갈수', '»', '견뮬', '워낙', '번', '4o', '宽厰', 'į', '✝', 'вы', '다신', '구비', '물만', '내어', 'о', '놀고', '창이', '47', 'BE', '而且', '어쩔', '성과', 'ان', '앞을', '31', '12', '빛이', 'RJ', '锅铲', 'ln', '暖气', '납븐', 'já', 'jo', 'ae', '키면', '💥', '1r', '한달', '舒适', 'N8', 'DO', '🛴', '잊고', '짧게', 'NH', '대체', '길에', '찾지', 'Ή', 'Τα', 'OK', '🪴', '꼴딱', '할거', '굳이', '86', '7m', '🧿', '大连', 'Ha', 'LR', '집에', '오지', '파두', '아주', '😓', 'Må', '크게', '씻고', '🤨', '推', '뷰는', '방2', '커피', '긴', '따서', '전차', 'ía', 'sa', '맘', '바다', '따많', '잘땐', 'ta', '😻', '한적', '今後', '덕에', '함', '탄', '🍹', '겁이', '유명', '응대', 'be', '노래', '주진', '♾', '2m', 'Ut', '매번', '🤛', '!', 'II', '😷', 'PK', 'ly', '멀진', 'es', '쪼끔', '1h', '🏠', '0r', '락이', '청경', 'QB', 'di', '고세', 'Dc', ',', '3M', '《', '높다', '예쁜', 'за', 'Ya', '쬐금', '中文', '이것', '🛍', '💙', 'де', '고른', 'ki', '가면', '훼요', 'â', 'ø', '알토', '1차', '물의', '오래', '썩', '쓰기', 'KM', 'RD', 'σ', '뭔가', 'hè', 'ㅓ', 'nb', 'NO', '🍕', '문이', 'С', 'LM', '6e', '22', '밤', 'bè', '보낼', '땐', '😂', '쫄라', 'แต', '원룸', '직전', '삐걱', '☼', '5H', 'バー', '등과', '퇴실', '딱히', '층에', '9h', '아닌', '콸콸', 'si', 'Ct', '언덕', '축구', '香皂', '참을', '옷도', '다리', '끊김', 'hã', '无敌', '둘', 'tk', '갖춰', '식사', '☮', 'aż', '성', '추가', '🪨', '밑에', 'Мы', 'át', 'IF', '¿', '후', '药店', '로비', '보통', '오니', '그때', '젥곩', 'Mí', '🤜', '시', 'ay', 'LP', 'לצ', 'KO', '조곰', '2분', '四楼', '일행', '요구', '닫고', '뷰와', '불은', 'ik', '뺄때', '족금', '총', 'вв', '酒', 'ом', '⁍', 'js', 'má', '首先', '부디', '동안', 'XX', 'et', 'Pi', '走5', 'γι', 'tr', '넓고', 'Tv', 'ní', '든', '말', '비번', '🇮', 'hd', 'am', '라고', '슈퍼', 'с', '1x', 'GF', '읽고', '보낸', '먹음', 'Wu', 'ya', '🐈', '진짜', 'U', 'HM', '💔', '07', '고고', 'ей', '💐', '넓지', '실고', 'LA', 'p', 'ㅅ', '갔을', '5º', 'ни', '묵은', '있긴', 'К', 'см', 'pt', '추위', '바와', '1분', '타야', 'EC', '😢', 'TY', '1l', '취해', '63', '안나', '도라', '쾌적', 'xD', '테니', 'út', '명', '것에', '🙇', '4개', '😉', '41', '된', '💟', '엄청', '다만', '但是', '성인', 'ㄴ', 'oÄ', '선물', 'E4', '답이', 'VI', 'ty', 'גם', 'A8', 'LV', '그옆', '1도', '찾을', 'OY', 'Hy', 'M', 'då', 'Zb', '찻길', 'ud', '멀긴', '도', '취소', '만든', 'Ma', 'ia', '달이', '끼고', '것이', '맛이', '그룹', '꼽을', '상시', '깔린', 'JT', '출발', '優格', '거랑', '～', '83', '사람', '팁도', 'pè', '없게', '보면', '👌', '不错', 'SP', 'EV', '이면', 'em', '수납', '소리', '로컬', '외부', 'tá', '도달', '📞', '끈뎨', '돼요', '청소', '경험', '购物', 'BB', '옷', '은', '묵어', '전체', '덮고', 'BS', '옷이', 'oa', '톤에', '정오', 'Â', '심', '웰컴', 'ช', '23', '面膜', '방엔', '꾕짱', 'iż', 'pq', '쬭꿈', 'HI', 'tn', 'go', 'Ü', 'Js', '으자', 'lb', '평이', '추억', '난방', '분은', '真是', 'Их', '⛰', '🐕', '우린', '가서', 'Tú', '4g', '🙏', 'cá', '빠른', 'Mó', 'cc', '불편', '볼', '후추', \"'\", '녀뮤', 'wf', 'ᴥ', '⛱', 'же', '했던', '맞게', '다녀', '9시', '$', 'CA', '\\U0001fae7', '1개', '面包', '하긴', '麥片', '미팅', 'Ее', 'ví', '잘때', '전반', '가죽', '6분', '씻는', '해결', 'YT', 'V', '부담', '펍은', 'Dé', '飲食', '때', '열림', 'CI', 'לי', '๑', 'ñ', '꼭꼭', '潮湿', '최종', '계신', '편은', '提示', '👉', 'LC', '1y', '若有', '지하', '서서', 'på', '\\U000e0073', 'ку', '조금', '쵸쿰', '뷰가', '층은', '가', '연락', '68', '올수', '】', '그게', '啤酒', 'אך', '대', 'tę', '이용', 'km', '옷장', '📢', '관해', '다닐', '작은', 'Dá', 'ír', 'Dl', '장판', '공용', '한복', '따륜', 'uh', '편을', '늣께', 'WI', '아래', 'Ho', 'bp', 'да', 'ее', '보실', '잊게', 'ㅐ비', '졸금', '06', '3⁰', 'yn', '3E', '뒈쉰', '다락', '缺点', '53', 'ms', '원할', '됨', '나의', '그점', '단어', '어딜', '1d', '比如', 'DW', '💝', '위험', 'כ', 'AC', '有厅', '좋아', '깔끔', '가격', '91', 'ㄹ', '알찬', '🦁', '얼리', '오기', '잼만', 'Ф', '답', '남길', '5è', 'tI', '3y', 'Le', '써야', 'pu', '배수', 'mo', '🥧', 'N0', 'AZ', '복층', 'mm', 'ju', '최근', 'З', '橙汁', '🐶', '귀에', '못할', 'fy', '04', 'ão', '돼야', 'GS', '넓은', '🍷', '감기', '높지', 'Mª', '👠', '이루', '位置', '铁轨', 'ip', 'Cá', '놈모', 'Da', 'iI', ')', '차가', 'קר', 'Ту', '보지', '24', '듯', '좁음', '🐟', '服务', '🚵', '쬲나', '불', '창', '주차', '谢谢', '치면', '마리', '그의', '약꺈', 'K', '열뀨', '새벽', '음악', '¤', '장점', 'lå', 'mb', '버정', '이동', '넘게', '주긴', '필수', '因此', 'то', '😇', '糖', '5e', '한쪽', 'Fe', '밥', 'ㅠ', '잡은', 'qe', '들면', '측에', 'נח', 'T5', '满意', 'Bs', '머문', 'סה', '늣게', 'רק', '및', '오븐', '66', '쯤에', '．', '와서', '문들', '흑인', '수준', 'v', 'Uh', '밝고', '징짱', '나을', 'CB', 'м', 'は', '🦟', '것들', 'tl', 'ih', '🏿', '벽도', '참', '빠름', '\\uf04a', 'HE', '이전', '치고', '두고', '住所', '방롱', '싫어', '😸', '중에', 'lt', 'te', '좁은', '烟草', '죨라', '저런', '하', '另外', '전혀', 'JC', '한', '💕', '‑', '5s', 'UP', '电车', 'ín', '안이', 'VS', 'Li', '真的', '꺼', '가긴', '5c', '아슙', '괜츈', '3D', '다쳐', 'в', '문에', 'SÅ', '저의', '🍒', '핸드', 'NL', '쇼핑', '💨', '돈에', 'ló', '잊을', '점은', '개단', '층과', '쉰내']\n"
     ]
    }
   ],
   "source": [
    "def find_unique_matches(data, column):\n",
    "    # Convert column data to string type (handle NaN values gracefully)\n",
    "    column_data = data[column].astype(str)\n",
    "    \n",
    "    # Concatenate all comments into a single string\n",
    "    all_comments = ' '.join(column_data)\n",
    "    \n",
    "    # Define a regular expression pattern to match small words and punctuation marks\n",
    "    pattern = r'\\b\\w{1,2}\\b|[^\\w\\s]'\n",
    "    \n",
    "    # Find all matches of the pattern in the concatenated string\n",
    "    matches = re.findall(pattern, all_comments)\n",
    "    \n",
    "    # Return unique matches using a set comprehension\n",
    "    return set(matches)\n",
    "\n",
    "\n",
    "unique_matches = find_unique_matches(train_reviews, 'comments')\n",
    "\n",
    "# Print the unique small words and punctuation marks\n",
    "print(\"Unique small words and punctuation marks:\")\n",
    "print(list(unique_matches))\n"
   ]
  },
  {
   "cell_type": "markdown",
   "metadata": {},
   "source": [
    "lots of emojis and small words\n"
   ]
  },
  {
   "cell_type": "code",
   "execution_count": 48,
   "metadata": {},
   "outputs": [],
   "source": [
    "merged_data = pd.merge(train, train_reviews,  on='houseID', how='left')\n",
    "\n"
   ]
  },
  {
   "cell_type": "code",
   "execution_count": 49,
   "metadata": {},
   "outputs": [],
   "source": [
    "test_merged_data = pd.merge(test, test_reviews,  on='houseID', how='left')\n"
   ]
  },
  {
   "cell_type": "code",
   "execution_count": 50,
   "metadata": {},
   "outputs": [],
   "source": [
    "merged_data.drop([\"description_word_count\", \"host_about_word_count\", \"comments_word_count\"], axis=1, inplace=True)\n"
   ]
  },
  {
   "cell_type": "code",
   "execution_count": 51,
   "metadata": {},
   "outputs": [
    {
     "data": {
      "text/html": [
       "<div>\n",
       "<style scoped>\n",
       "    .dataframe tbody tr th:only-of-type {\n",
       "        vertical-align: middle;\n",
       "    }\n",
       "\n",
       "    .dataframe tbody tr th {\n",
       "        vertical-align: top;\n",
       "    }\n",
       "\n",
       "    .dataframe thead th {\n",
       "        text-align: right;\n",
       "    }\n",
       "</style>\n",
       "<table border=\"1\" class=\"dataframe\">\n",
       "  <thead>\n",
       "    <tr style=\"text-align: right;\">\n",
       "      <th></th>\n",
       "      <th>houseID</th>\n",
       "      <th>description</th>\n",
       "      <th>host_about</th>\n",
       "      <th>unlisted</th>\n",
       "      <th>description_language</th>\n",
       "      <th>comments</th>\n",
       "      <th>comment_language</th>\n",
       "    </tr>\n",
       "  </thead>\n",
       "  <tbody>\n",
       "    <tr>\n",
       "      <th>0</th>\n",
       "      <td>1</td>\n",
       "      <td>This is a shared mixed room in our hostel, wit...</td>\n",
       "      <td>Alojamento Local Registro: 20835/AL</td>\n",
       "      <td>0</td>\n",
       "      <td>en</td>\n",
       "      <td>this is a very cozy and comfortable house to s...</td>\n",
       "      <td>en</td>\n",
       "    </tr>\n",
       "    <tr>\n",
       "      <th>1</th>\n",
       "      <td>1</td>\n",
       "      <td>This is a shared mixed room in our hostel, wit...</td>\n",
       "      <td>Alojamento Local Registro: 20835/AL</td>\n",
       "      <td>0</td>\n",
       "      <td>en</td>\n",
       "      <td>good&lt;br/&gt;</td>\n",
       "      <td>cy</td>\n",
       "    </tr>\n",
       "    <tr>\n",
       "      <th>2</th>\n",
       "      <td>1</td>\n",
       "      <td>This is a shared mixed room in our hostel, wit...</td>\n",
       "      <td>Alojamento Local Registro: 20835/AL</td>\n",
       "      <td>0</td>\n",
       "      <td>en</td>\n",
       "      <td>My first hostel experience, and all I have to ...</td>\n",
       "      <td>en</td>\n",
       "    </tr>\n",
       "    <tr>\n",
       "      <th>3</th>\n",
       "      <td>1</td>\n",
       "      <td>This is a shared mixed room in our hostel, wit...</td>\n",
       "      <td>Alojamento Local Registro: 20835/AL</td>\n",
       "      <td>0</td>\n",
       "      <td>en</td>\n",
       "      <td>Das Hostel war neu und deshalb funktionierte a...</td>\n",
       "      <td>de</td>\n",
       "    </tr>\n",
       "    <tr>\n",
       "      <th>4</th>\n",
       "      <td>1</td>\n",
       "      <td>This is a shared mixed room in our hostel, wit...</td>\n",
       "      <td>Alojamento Local Registro: 20835/AL</td>\n",
       "      <td>0</td>\n",
       "      <td>en</td>\n",
       "      <td>It was fine for a dorm, but I think for the pe...</td>\n",
       "      <td>en</td>\n",
       "    </tr>\n",
       "    <tr>\n",
       "      <th>...</th>\n",
       "      <td>...</td>\n",
       "      <td>...</td>\n",
       "      <td>...</td>\n",
       "      <td>...</td>\n",
       "      <td>...</td>\n",
       "      <td>...</td>\n",
       "      <td>...</td>\n",
       "    </tr>\n",
       "    <tr>\n",
       "      <th>363279</th>\n",
       "      <td>6248</td>\n",
       "      <td>These apartments are very well located in a go...</td>\n",
       "      <td>A base da minha vida é a minha família e a min...</td>\n",
       "      <td>0</td>\n",
       "      <td>en</td>\n",
       "      <td>The location was perfect. The apartment was ve...</td>\n",
       "      <td>en</td>\n",
       "    </tr>\n",
       "    <tr>\n",
       "      <th>363280</th>\n",
       "      <td>6248</td>\n",
       "      <td>These apartments are very well located in a go...</td>\n",
       "      <td>A base da minha vida é a minha família e a min...</td>\n",
       "      <td>0</td>\n",
       "      <td>en</td>\n",
       "      <td>Ana's place is exactly as described and even b...</td>\n",
       "      <td>en</td>\n",
       "    </tr>\n",
       "    <tr>\n",
       "      <th>363281</th>\n",
       "      <td>6248</td>\n",
       "      <td>These apartments are very well located in a go...</td>\n",
       "      <td>A base da minha vida é a minha família e a min...</td>\n",
       "      <td>0</td>\n",
       "      <td>en</td>\n",
       "      <td>A Ana foi muito atenciosa e preocupou se com o...</td>\n",
       "      <td>pt</td>\n",
       "    </tr>\n",
       "    <tr>\n",
       "      <th>363282</th>\n",
       "      <td>6248</td>\n",
       "      <td>These apartments are very well located in a go...</td>\n",
       "      <td>A base da minha vida é a minha família e a min...</td>\n",
       "      <td>0</td>\n",
       "      <td>en</td>\n",
       "      <td>No wifi nor answer. &lt;br/&gt;The wifi can’t be con...</td>\n",
       "      <td>en</td>\n",
       "    </tr>\n",
       "    <tr>\n",
       "      <th>363283</th>\n",
       "      <td>6248</td>\n",
       "      <td>These apartments are very well located in a go...</td>\n",
       "      <td>A base da minha vida é a minha família e a min...</td>\n",
       "      <td>0</td>\n",
       "      <td>en</td>\n",
       "      <td>O espaço é ótimo, a D. Ana foi maravilhosa e f...</td>\n",
       "      <td>pt</td>\n",
       "    </tr>\n",
       "  </tbody>\n",
       "</table>\n",
       "<p>363284 rows × 7 columns</p>\n",
       "</div>"
      ],
      "text/plain": [
       "        houseID                                        description  \\\n",
       "0             1  This is a shared mixed room in our hostel, wit...   \n",
       "1             1  This is a shared mixed room in our hostel, wit...   \n",
       "2             1  This is a shared mixed room in our hostel, wit...   \n",
       "3             1  This is a shared mixed room in our hostel, wit...   \n",
       "4             1  This is a shared mixed room in our hostel, wit...   \n",
       "...         ...                                                ...   \n",
       "363279     6248  These apartments are very well located in a go...   \n",
       "363280     6248  These apartments are very well located in a go...   \n",
       "363281     6248  These apartments are very well located in a go...   \n",
       "363282     6248  These apartments are very well located in a go...   \n",
       "363283     6248  These apartments are very well located in a go...   \n",
       "\n",
       "                                               host_about  unlisted  \\\n",
       "0                     Alojamento Local Registro: 20835/AL         0   \n",
       "1                     Alojamento Local Registro: 20835/AL         0   \n",
       "2                     Alojamento Local Registro: 20835/AL         0   \n",
       "3                     Alojamento Local Registro: 20835/AL         0   \n",
       "4                     Alojamento Local Registro: 20835/AL         0   \n",
       "...                                                   ...       ...   \n",
       "363279  A base da minha vida é a minha família e a min...         0   \n",
       "363280  A base da minha vida é a minha família e a min...         0   \n",
       "363281  A base da minha vida é a minha família e a min...         0   \n",
       "363282  A base da minha vida é a minha família e a min...         0   \n",
       "363283  A base da minha vida é a minha família e a min...         0   \n",
       "\n",
       "       description_language  \\\n",
       "0                        en   \n",
       "1                        en   \n",
       "2                        en   \n",
       "3                        en   \n",
       "4                        en   \n",
       "...                     ...   \n",
       "363279                   en   \n",
       "363280                   en   \n",
       "363281                   en   \n",
       "363282                   en   \n",
       "363283                   en   \n",
       "\n",
       "                                                 comments comment_language  \n",
       "0       this is a very cozy and comfortable house to s...               en  \n",
       "1                                               good<br/>               cy  \n",
       "2       My first hostel experience, and all I have to ...               en  \n",
       "3       Das Hostel war neu und deshalb funktionierte a...               de  \n",
       "4       It was fine for a dorm, but I think for the pe...               en  \n",
       "...                                                   ...              ...  \n",
       "363279  The location was perfect. The apartment was ve...               en  \n",
       "363280  Ana's place is exactly as described and even b...               en  \n",
       "363281  A Ana foi muito atenciosa e preocupou se com o...               pt  \n",
       "363282  No wifi nor answer. <br/>The wifi can’t be con...               en  \n",
       "363283  O espaço é ótimo, a D. Ana foi maravilhosa e f...               pt  \n",
       "\n",
       "[363284 rows x 7 columns]"
      ]
     },
     "execution_count": 51,
     "metadata": {},
     "output_type": "execute_result"
    }
   ],
   "source": [
    "merged_data"
   ]
  },
  {
   "cell_type": "code",
   "execution_count": 52,
   "metadata": {},
   "outputs": [
    {
     "data": {
      "text/html": [
       "<div>\n",
       "<style scoped>\n",
       "    .dataframe tbody tr th:only-of-type {\n",
       "        vertical-align: middle;\n",
       "    }\n",
       "\n",
       "    .dataframe tbody tr th {\n",
       "        vertical-align: top;\n",
       "    }\n",
       "\n",
       "    .dataframe thead th {\n",
       "        text-align: right;\n",
       "    }\n",
       "</style>\n",
       "<table border=\"1\" class=\"dataframe\">\n",
       "  <thead>\n",
       "    <tr style=\"text-align: right;\">\n",
       "      <th></th>\n",
       "      <th>houseID</th>\n",
       "      <th>description</th>\n",
       "      <th>host_about</th>\n",
       "      <th>description_language</th>\n",
       "      <th>comments</th>\n",
       "      <th>comment_language</th>\n",
       "    </tr>\n",
       "  </thead>\n",
       "  <tbody>\n",
       "    <tr>\n",
       "      <th>0</th>\n",
       "      <td>1</td>\n",
       "      <td>&lt;b&gt;The space&lt;/b&gt;&lt;br /&gt;Apartment located in the...</td>\n",
       "      <td>Gosto de viajar, de conhecer pessoas, gosto de...</td>\n",
       "      <td>en</td>\n",
       "      <td>Thank you very much Antonio ! All has been per...</td>\n",
       "      <td>en</td>\n",
       "    </tr>\n",
       "    <tr>\n",
       "      <th>1</th>\n",
       "      <td>1</td>\n",
       "      <td>&lt;b&gt;The space&lt;/b&gt;&lt;br /&gt;Apartment located in the...</td>\n",
       "      <td>Gosto de viajar, de conhecer pessoas, gosto de...</td>\n",
       "      <td>en</td>\n",
       "      <td>Very nice appartment in the old town of Lissab...</td>\n",
       "      <td>en</td>\n",
       "    </tr>\n",
       "    <tr>\n",
       "      <th>2</th>\n",
       "      <td>1</td>\n",
       "      <td>&lt;b&gt;The space&lt;/b&gt;&lt;br /&gt;Apartment located in the...</td>\n",
       "      <td>Gosto de viajar, de conhecer pessoas, gosto de...</td>\n",
       "      <td>en</td>\n",
       "      <td>When travelling we're looking for kids friendl...</td>\n",
       "      <td>en</td>\n",
       "    </tr>\n",
       "    <tr>\n",
       "      <th>3</th>\n",
       "      <td>1</td>\n",
       "      <td>&lt;b&gt;The space&lt;/b&gt;&lt;br /&gt;Apartment located in the...</td>\n",
       "      <td>Gosto de viajar, de conhecer pessoas, gosto de...</td>\n",
       "      <td>en</td>\n",
       "      <td>We've been in Lisbon in march 2013 (3 adults a...</td>\n",
       "      <td>en</td>\n",
       "    </tr>\n",
       "    <tr>\n",
       "      <th>4</th>\n",
       "      <td>1</td>\n",
       "      <td>&lt;b&gt;The space&lt;/b&gt;&lt;br /&gt;Apartment located in the...</td>\n",
       "      <td>Gosto de viajar, de conhecer pessoas, gosto de...</td>\n",
       "      <td>en</td>\n",
       "      <td>Our host Antonio was very helpful with informa...</td>\n",
       "      <td>en</td>\n",
       "    </tr>\n",
       "    <tr>\n",
       "      <th>...</th>\n",
       "      <td>...</td>\n",
       "      <td>...</td>\n",
       "      <td>...</td>\n",
       "      <td>...</td>\n",
       "      <td>...</td>\n",
       "      <td>...</td>\n",
       "    </tr>\n",
       "    <tr>\n",
       "      <th>42081</th>\n",
       "      <td>695</td>\n",
       "      <td>Apartment with terrace located in the heart of...</td>\n",
       "      <td>Founded by travel enthusiasts (just like you) ...</td>\n",
       "      <td>en</td>\n",
       "      <td>Everything was fine!</td>\n",
       "      <td>en</td>\n",
       "    </tr>\n",
       "    <tr>\n",
       "      <th>42082</th>\n",
       "      <td>695</td>\n",
       "      <td>Apartment with terrace located in the heart of...</td>\n",
       "      <td>Founded by travel enthusiasts (just like you) ...</td>\n",
       "      <td>en</td>\n",
       "      <td>Very good located</td>\n",
       "      <td>en</td>\n",
       "    </tr>\n",
       "    <tr>\n",
       "      <th>42083</th>\n",
       "      <td>695</td>\n",
       "      <td>Apartment with terrace located in the heart of...</td>\n",
       "      <td>Founded by travel enthusiasts (just like you) ...</td>\n",
       "      <td>en</td>\n",
       "      <td>Appartement confortable conforme aux photos bi...</td>\n",
       "      <td>fr</td>\n",
       "    </tr>\n",
       "    <tr>\n",
       "      <th>42084</th>\n",
       "      <td>695</td>\n",
       "      <td>Apartment with terrace located in the heart of...</td>\n",
       "      <td>Founded by travel enthusiasts (just like you) ...</td>\n",
       "      <td>en</td>\n",
       "      <td>Très bon logement pour un week-end prolongé à ...</td>\n",
       "      <td>fr</td>\n",
       "    </tr>\n",
       "    <tr>\n",
       "      <th>42085</th>\n",
       "      <td>695</td>\n",
       "      <td>Apartment with terrace located in the heart of...</td>\n",
       "      <td>Founded by travel enthusiasts (just like you) ...</td>\n",
       "      <td>en</td>\n",
       "      <td>The location for this apartment is great. You'...</td>\n",
       "      <td>en</td>\n",
       "    </tr>\n",
       "  </tbody>\n",
       "</table>\n",
       "<p>42086 rows × 6 columns</p>\n",
       "</div>"
      ],
      "text/plain": [
       "       houseID                                        description  \\\n",
       "0            1  <b>The space</b><br />Apartment located in the...   \n",
       "1            1  <b>The space</b><br />Apartment located in the...   \n",
       "2            1  <b>The space</b><br />Apartment located in the...   \n",
       "3            1  <b>The space</b><br />Apartment located in the...   \n",
       "4            1  <b>The space</b><br />Apartment located in the...   \n",
       "...        ...                                                ...   \n",
       "42081      695  Apartment with terrace located in the heart of...   \n",
       "42082      695  Apartment with terrace located in the heart of...   \n",
       "42083      695  Apartment with terrace located in the heart of...   \n",
       "42084      695  Apartment with terrace located in the heart of...   \n",
       "42085      695  Apartment with terrace located in the heart of...   \n",
       "\n",
       "                                              host_about description_language  \\\n",
       "0      Gosto de viajar, de conhecer pessoas, gosto de...                   en   \n",
       "1      Gosto de viajar, de conhecer pessoas, gosto de...                   en   \n",
       "2      Gosto de viajar, de conhecer pessoas, gosto de...                   en   \n",
       "3      Gosto de viajar, de conhecer pessoas, gosto de...                   en   \n",
       "4      Gosto de viajar, de conhecer pessoas, gosto de...                   en   \n",
       "...                                                  ...                  ...   \n",
       "42081  Founded by travel enthusiasts (just like you) ...                   en   \n",
       "42082  Founded by travel enthusiasts (just like you) ...                   en   \n",
       "42083  Founded by travel enthusiasts (just like you) ...                   en   \n",
       "42084  Founded by travel enthusiasts (just like you) ...                   en   \n",
       "42085  Founded by travel enthusiasts (just like you) ...                   en   \n",
       "\n",
       "                                                comments comment_language  \n",
       "0      Thank you very much Antonio ! All has been per...               en  \n",
       "1      Very nice appartment in the old town of Lissab...               en  \n",
       "2      When travelling we're looking for kids friendl...               en  \n",
       "3      We've been in Lisbon in march 2013 (3 adults a...               en  \n",
       "4      Our host Antonio was very helpful with informa...               en  \n",
       "...                                                  ...              ...  \n",
       "42081                               Everything was fine!               en  \n",
       "42082                                  Very good located               en  \n",
       "42083  Appartement confortable conforme aux photos bi...               fr  \n",
       "42084  Très bon logement pour un week-end prolongé à ...               fr  \n",
       "42085  The location for this apartment is great. You'...               en  \n",
       "\n",
       "[42086 rows x 6 columns]"
      ]
     },
     "execution_count": 52,
     "metadata": {},
     "output_type": "execute_result"
    }
   ],
   "source": [
    "test_merged_data"
   ]
  },
  {
   "cell_type": "code",
   "execution_count": 53,
   "metadata": {},
   "outputs": [
    {
     "data": {
      "text/plain": [
       "houseID                    0\n",
       "description                0\n",
       "host_about                 0\n",
       "unlisted                   0\n",
       "description_language       0\n",
       "comments                2003\n",
       "comment_language        2003\n",
       "dtype: int64"
      ]
     },
     "execution_count": 53,
     "metadata": {},
     "output_type": "execute_result"
    }
   ],
   "source": [
    "merged_data.isna().sum()"
   ]
  },
  {
   "cell_type": "code",
   "execution_count": 54,
   "metadata": {},
   "outputs": [
    {
     "data": {
      "text/plain": [
       "houseID                   0\n",
       "description               0\n",
       "host_about                0\n",
       "description_language      0\n",
       "comments                220\n",
       "comment_language        220\n",
       "dtype: int64"
      ]
     },
     "execution_count": 54,
     "metadata": {},
     "output_type": "execute_result"
    }
   ],
   "source": [
    "test_merged_data.isna().sum()"
   ]
  },
  {
   "cell_type": "markdown",
   "metadata": {},
   "source": [
    " For predicting whether an Airbnb listing is unlisted (0) or not (1), missing comments might indeed carry valuable information. The absence of comments could be an important feature in itself, potentially indicating something about the listing's status. Removing could lose some valuable info for predicting. \n",
    " Different approaches : \n",
    " \n",
    "\n",
    "- Create a binary feature indicating whether a comment is missing (NaN) or not. This helps the model understand that the absence of a comment itself might be significant.\n",
    "Fill Missing Comments with a Placeholder:\n",
    "\n",
    "- Replace NaN values in the comments column with a placeholder text (e.g., \"no_comment\"). This ensures that all entries are treated as valid strings.\n",
    "\n",
    "- both"
   ]
  },
  {
   "cell_type": "code",
   "execution_count": 55,
   "metadata": {},
   "outputs": [],
   "source": [
    "merged_data['comments'].fillna('no_review', inplace=True)\n",
    "test_merged_data['comments'].fillna('no_review', inplace=True)\n"
   ]
  },
  {
   "cell_type": "code",
   "execution_count": 56,
   "metadata": {},
   "outputs": [
    {
     "data": {
      "text/plain": [
       "houseID                    0\n",
       "description                0\n",
       "host_about                 0\n",
       "unlisted                   0\n",
       "description_language       0\n",
       "comments                   0\n",
       "comment_language        2003\n",
       "dtype: int64"
      ]
     },
     "execution_count": 56,
     "metadata": {},
     "output_type": "execute_result"
    }
   ],
   "source": [
    "merged_data.isna().sum()"
   ]
  },
  {
   "cell_type": "code",
   "execution_count": 57,
   "metadata": {},
   "outputs": [
    {
     "data": {
      "text/plain": [
       "houseID                   0\n",
       "description               0\n",
       "host_about                0\n",
       "description_language      0\n",
       "comments                  0\n",
       "comment_language        220\n",
       "dtype: int64"
      ]
     },
     "execution_count": 57,
     "metadata": {},
     "output_type": "execute_result"
    }
   ],
   "source": [
    "test_merged_data.isna().sum()"
   ]
  },
  {
   "cell_type": "code",
   "execution_count": 58,
   "metadata": {},
   "outputs": [],
   "source": [
    "merged_data['comment_language'].fillna('None', inplace=True)\n",
    "test_merged_data['comment_language'].fillna('None', inplace=True)\n"
   ]
  },
  {
   "cell_type": "markdown",
   "metadata": {},
   "source": [
    "### emojis treatment\n"
   ]
  },
  {
   "cell_type": "markdown",
   "metadata": {},
   "source": [
    "The demojize() function takes a string as input and returns the string with the Unicode characters replaced by their corresponding emoji names. For example, if you pass the string “😀” to the demojize() function, it will return the string “smiley face”.\n",
    "https://codeforgeek.com/python-emoji-module/ emoji for python\n",
    "By default, the language is English (language='en') but also supported languages are:\n",
    "\n",
    "Spanish ('es')\n",
    "\n",
    "Portuguese ('pt')\n",
    "\n",
    "Italian ('it')\n",
    "\n",
    "French ('fr')\n",
    "\n",
    "German ('de')\n",
    "\n",
    "Farsi/Persian ('fa')\n",
    "\n",
    "Indonesian ('id')\n",
    "\n",
    "Simplified Chinese ('zh')\n",
    "\n",
    "Japanese ('ja')\n",
    "\n",
    "Korean ('ko')\n",
    "\n",
    "Russian ('ru')\n",
    "\n",
    "Arabic ('ar')\n",
    "\n",
    "Turkish ('tr')"
   ]
  },
  {
   "cell_type": "code",
   "execution_count": 59,
   "metadata": {},
   "outputs": [],
   "source": [
    "import emoji\n",
    "import pandas as pd\n",
    "\n",
    "# Function to check for emojis\n",
    "def has_emojis(text):\n",
    "    if pd.isnull(text):\n",
    "        return False\n",
    "    return emoji.emoji_count(str(text)) > 0\n",
    "\n",
    "# Function to convert emojis to text\n",
    "def convert_emojis_to_text(dataframe, column_text, column_language):\n",
    "    dataframe_copy = dataframe.copy()\n",
    "\n",
    "    def convert_text(text, language):\n",
    "        if has_emojis(text):\n",
    "            try:\n",
    "                return emoji.demojize(text, language=language)\n",
    "            except:\n",
    "                return emoji.demojize(text, language='en')\n",
    "        else:\n",
    "            return text\n",
    "\n",
    "    # Apply the conversion to each row\n",
    "    dataframe_copy[column_text] = dataframe_copy.apply(\n",
    "        lambda row: convert_text(row[column_text], row[column_language]), axis=1\n",
    "    )\n",
    "    \n",
    "    return dataframe_copy\n",
    "\n",
    "\n",
    "\n",
    "\n"
   ]
  },
  {
   "cell_type": "code",
   "execution_count": 60,
   "metadata": {},
   "outputs": [],
   "source": [
    "merged_data_demojized = convert_emojis_to_text(merged_data, 'comments', 'comment_language')\n",
    "\n"
   ]
  },
  {
   "cell_type": "code",
   "execution_count": 61,
   "metadata": {},
   "outputs": [],
   "source": [
    "merged_data_demojized= convert_emojis_to_text(merged_data_demojized, 'description', 'description_language')"
   ]
  },
  {
   "cell_type": "code",
   "execution_count": 62,
   "metadata": {},
   "outputs": [],
   "source": [
    "test_merged_data_demojized = convert_emojis_to_text(test_merged_data, 'comments', 'comment_language')\n",
    "test_merged_data_demojized = convert_emojis_to_text(test_merged_data_demojized, 'description', 'description_language')\n",
    "\n"
   ]
  },
  {
   "cell_type": "markdown",
   "metadata": {},
   "source": [
    "checking if there's still emojis"
   ]
  },
  {
   "cell_type": "code",
   "execution_count": 63,
   "metadata": {},
   "outputs": [
    {
     "name": "stdout",
     "output_type": "stream",
     "text": [
      "Comments with emojis after processing:\n",
      "Index 437: 👍\n",
      "Index 831: 👍\n",
      "Index 1044: Wspaniałe miejsce! <br/><br/>Gospodarz, który nas obsługiwał był niezwykle uprzejmy i pomocny. Gdy potrzebowaliśmy pomocy w nocy od razu się z nami skontaktował i pomógł nam natychmiast. Mieszkanie jest nowe, czyste, schludne, a okolica urokliwa i autentyczna. Do Lizbony centralnej jest dosłownie 30 minut spacerem. Jeśli planujesz urlop w Lizbonie, koniecznie rozważ tę ofertę, bo odpoczniesz i poczujesz się zaopiekowany. <br/><br/>Dziękujemy jeszcze raz za gościnę! 🥰\n",
      "Index 2384: Good👌\n",
      "Index 3135: Amazing 10/10😇\n",
      "Index 5309: ♥️\n",
      "Index 6095: 💚\n",
      "Index 6178: 👍\n",
      "Index 7108: Bardzo komfortowe mieszkanie . Ładne pokoje , komfortowe łazienki . Zlokalizowane  w cichej okolicy , blisko sklepiki lokalne .<br/>Bezproblemowe zameldowanie.  Do  centrum  kilka kroków, kilka schodków i jesteś na placu Rossio i na placu Martim Monitz  z którego rusza  słynny tramwaj 28!! Niedaleko Elevador da Lavra który  pomoże  zmęczonym dostać sie na wzgórze . Mieszkanie komfortowe, kuchnia super wyposażona . Można nawet  usmażyć  ryby i zrobić obiad jeżeli ktoś wyjeżdża budżetowo .Bardzo czysto . Pokoje 1 i 2 ze wspólnym tarasem , piękny widok !!   Dodatkowym atutem jest jacuzzi !!   Będę wracała ❤️\n",
      "Index 7113: We hebben een prettig verblijf gehad van enkele dagen als onderdeel van een langere reis. <br/><br/>Schone privé kamer, degelijk ingericht, met airco. Toegang tot gedeelde ruimtes waaromder een bubbelbad.<br/><br/>Als je slecht te been bent niet de handigste optie wellicht omdat je de trap opmoet om naar de kamers te komen. Als dat gen probleem voor je is, een prima locatie! 👌🏼.\n",
      "Index 7448: 🤙🏼\n",
      "Index 7840: 👍🏼\n",
      "Index 7934: 👍\n",
      "Index 10617: 👏👏👏👏👏👏\n",
      "Index 10731: 😊\n",
      "Index 11709: 👌\n",
      "Index 11992: 👍\n",
      "Index 14351: Very tasty vegetable pancakes in breakfast 🤗\n",
      "Index 14475: 👍\n",
      "Index 15277: 我幫我爸和他的朋友們訂的房，他們一共有9人，這間公寓讓他們每個人都能住的很舒服，離市區也不遠，就在自由大道旁邊。Daniela是非常好的房東，總是快速回覆訊息，而且因為我無法親自跟他碰面，他很貼心地替我爸安排了最容易取得鑰匙的方式。推薦給多人的團體喔😁\n",
      "Index 16934: 👍🏼👍🏼\n",
      "Index 17953: 👍\n",
      "Index 19397: 🙂\n",
      "Index 19519: 👍\n",
      "Index 21621: Werkelijk een top locatie!<br/>Super host!<br/>Heel schoon en mooi appartement, praktisch ingericht en alles wat je nodig hebt.<br/>Bij aankomst en vertrek een leuk presentje, een fles wijn & gebak en chocola.<br/>Kon niet beter👌🏾\n",
      "Index 22137: 🔝\n",
      "Index 22167: 👍\n",
      "Index 22540: 👍🏻\n",
      "Index 24275: ❤️\n",
      "Index 24540: 位置无敌！我们还找出名的28有轨电车呢，结果发现楼下就是！侧面的街还是个景点..😂打开窗户时我一脸懵逼，好多人在那拍照，后来才知道，这是欧洲最小的电车超mini！楼下还有超市很齐全。房子干净卫生，采光极好！住着不想走，出门走5～10分钟就到商业区，位置在老城内，能感受到葡萄牙人生活的氛围，晚上也很安全，去哪都方便！唯一大家要注意的是房子在二楼，因为是老城没有电梯，稍微搬一点箱子，可以接受不太高。在就是洗澡的时候热水别放太大，我们4个人开始不知道，洗俩后面就没热水了，最好分开洗澡，洗快点，尽量节省热水。选这吧，绝对没错！还要感谢下房东，我们临走时把箱子寄存在他那，晚上才拿走，十分感谢！\n",
      "Index 27793: 🇵🇹\n",
      "Index 27805: 👍🏻👍🏻👍🏻👍🏻👍🏻\n",
      "Index 28303: 👍🏻\n",
      "Index 31577: 地址在Lisbon老城中 ，只因为非常方便，也有很多餐厅吃饭。房东人很好👌🏼给我们介绍了周围的交通，入住之前还通过电子邮件发送给我Lisbon的旅游景点攻略。房子住起来也非常有感觉。很愉快\n",
      "Index 31630: 👍\n",
      "Index 33415: 😍😍😍\n",
      "Index 33648: 👌\n",
      "Index 34176: nice apartment ✨\n",
      "Index 34402: 🙏🏻\n",
      "Index 35120: 这个房子地理位置不错，特别是到一家大超市三分钟步行，里面有一个店员非常象奥巴马。<br/>房间内装修简洁干净很实用。<br/>女主人非常好，热情无比，让人有回到家的感觉😊\n",
      "Index 36396: 👌👌👌\n",
      "Index 36743: En trevlig lägenhet, fräsch och mysig. <br/>Nära till allt, härlig puls på kvällarna. Väldigt bra fönster som stängde ute nästan allt ljud. <br/>Ligger 2 vån upp med höga trappor det var det ända negativa. Men man fick gå lugnt och försiktigt. Supertrevligt i helhet ⭐⭐⭐⭐⭐\n",
      "Index 39171: ⭐ ⭐ ⭐ ⭐ ⭐\n",
      "Index 39453: 👍🏻\n",
      "Index 42539: 👍🏼👍🏼\n",
      "Index 44220: 👍\n",
      "Index 44259: 👍🏻\n",
      "Index 44434: 👍👍👍\n",
      "Index 45938: 👍👍👍👍👍\n",
      "Index 46746: ⭐⭐⭐\n",
      "Index 46756: Molt recomanable! 😁\n",
      "Index 46845: 👍\n",
      "Index 47161: 有关这个民宿最深刻的回忆不是它的卫生安静，也不是美味可口的早餐，更不是门口那两条可爱的大狗狗(😏)而是当我看到世界地图的时候，发现上面的图钉里有一颗来自我的家乡(大连)。旅行就是这么奇妙的东西，连接我们生活中的美好，感谢房东的热情，愿大家旅途愉快。\n",
      "Index 48138: ⭐⭐⭐⭐⭐\n",
      "Index 48939: Virkelig en sød og opmærksom værtinde, en lille lejlighed med have, i kælderen, men absolut hyggelig, og med de ting der skal være 👍\n",
      "Index 51247: ⭐⭐⭐⭐⭐\n",
      "Index 51861: 👌\n",
      "Index 55295: 👍👍\n",
      "Index 55389: Tout nickel merci 😊\n",
      "Index 57537: Excelente ✨\n",
      "Index 57855: 👌🏻👌🏻\n",
      "Index 58050: Alles war perfekt 😍\n",
      "Index 58793: Meget charmerende lejlighed med en meget charmerende have. Vi var fem piger, som tilbragte 5 dage i Lissabon og lejligheden passede perfekt til vores behov. Dejligt med to badeværelser, når fem piger skal ud af døren 😉 dog kunne vi kun finde ud af at tage varme bade på det ene. Alt i alt var vi mere end tilfredse med opholdet!\n",
      "Index 59022: 👍🏻👍🏻👍🏻👍🏻\n",
      "Index 59096: Very good 😎\n",
      "Index 60758: 🔝\n",
      "Index 63790: 👍 👍 👍\n",
      "Index 64898: Hele leuke wijk en een heerlijk appartementje. Alles goed aan te lopen vanaf hier. Paulo doet het super! Altijd bereid om je te helpen en vol met goede tips om de stad te verkennen! Enige nadeel is dat het een oud huis is, dus soms wat gehorigheid van de buren! Maar heerlijk geslapen daar 👌🤗\n",
      "Index 66271: perfect 👌🏻\n",
      "Index 68717: 😎😎😎😎\n",
      "Index 70601: Lieliska mājvieta,it viss pastaigas attālumā,jebkurš transports pieejams.Saimnieks-ļoti,ļoti laipns sajutu,kā senu draugu.Visas telpas tīras,interjers patīkams.Noteikti nākošreiz esot Lisabonā ,izvēlēšos šo mājvietu.Paldies par visu😊!Iesaku!\n",
      "Index 70602: 😉\n",
      "Index 70884: Verena is een vriendelijke host met een super mooi en fijn appartement om te verblijven in Lissabon! Ook op een goede locatie om Lissabon te voet te verkennen. Wij hebben zelden in zo’n mooi appartement gezeten☺️\n",
      "Index 71591: 👍\n",
      "Index 74342: 👍🏼\n",
      "Index 75350: Beautiful place 😊\n",
      "Index 76273: 🇵🇹\n",
      "Index 76531: 👌🏼👌🏼\n",
      "Index 79070: eu amei! 🖤 que lugar incrível :)\n",
      "Index 79342: 👌⭐⭐⭐⭐⭐\n",
      "Index 79364: 房间如图所示，住得很舒服😌地理位置也很好，一切方便\n",
      "Index 80556: ...perfekt!!!🎈🎈🎈\n",
      "Index 81477: 👍🏼\n",
      "Index 81923: Exzellent 👌🏻\n",
      "Index 82193: 👍🏻\n",
      "Index 82921: superb location.superb host....superb cat 🐈!!\n",
      "Index 83234: 👍🏻\n",
      "Index 85807: Als Digital Nomads hebben we hier een goed verblijf gehad! Isabel reageerde snel en was erg vriendelijk. Alles in de keuken was ook heel fijn. Je appartement zit boven een straatje waar veel gezelligheid heerst (rond 23:00 is dit afgelopen) maar de balkondeuren zijn heel goed dus daar hoor je niks meer van, als je dat niet wilt. Wat we wel soms naar vonden is dat het een smal straatje is, dus je kijkt ook zo bij eventueel andere mensen in huis, dus echt een mooi uitzicht is er niet 😜<br/><br/>De bovenbuurman is wel wat gehorig met tv en voetstappen, maar dit was misschien 6x van een hele maand en als je op het plafond klopt, stopt hij 🙏🏻\n",
      "Index 86126: 😀😀😀😀😀😀\n",
      "Index 86631: Lina haar appartement was super schoon en verzorgd! <br/>Ze laat je gelijk thuisvoelen door haar oog voor detail en haar gastvrijheid.<br/><br/>Met een korte wandeling zit je binnen enkele ogenblikken aan zee en loop je in een half uurtje over de boulevard naar het centrum van Cascais, waar je heerlijk kan eten en drinken.<br/><br/>De omgeving is prachtig en alles ligt binnen handbereik.<br/><br/>Alles was super fijn, het enige wat als minder fijn ervaren zou kunnen worden is het geluid van de trein in de ochtend.<br/><br/>Dit heeft voor ons het verblijf niet minder aangenaam gemaakt. <br/>Lina, nogmaals bedankt 👍🏻\n",
      "Index 86682: Pomocna , przemiła , gościnna, wesoła 💕\n",
      "Index 87461: Superbra läge, nära till allt och jätterent. Smidig incheckning och mycket plats i lägenheten. Enda minuset var att det var ganska kallt, proppen gick om man hade igång två plattor i köket samtidigt, vattnet tog lång tid innan det blev varmt i duschen och att det var lite kalt inrett. Rekommenderar stället och hade bokat igen👍\n",
      "Index 90491: ⭐⭐⭐⭐⭐\n",
      "Index 90951: Adorei ♥️\n",
      "Index 90985: 🔝🔝🔝\n",
      "Index 91209: Merci ! Top 🚀🌞\n",
      "Index 92945: Elsa is een super lieve  enthousiaste gastvrouw <br/>Warm welkom en veel tips  wat de doen <br/>Communicatie  👍<br/>Eerder inchecken en later uitchecken geen probleem <br/>Appartement  is netjes verzorgd en schoon <br/>Fijne bedden en heerlijke douche <br/>Appartement ligt in een rustige wijk perfecte ligging <br/>Heel dicht bij metro station indendente  <br/>Dit appertement is een mooie aanrader voor een stedentrip naar Lissabon <br/>Elsa dank je wel nog voor gastvrijheid en lieve zorgen <br/>Semplicia , Mary , Genie ,Marion\n",
      "Index 93198: 房间干净整洁，阳台能看到美丽的景色，后院能看到柠檬树🍋，G&M还准备了红酒和水，非常惊喜！房子位置离观景台非常近，每天都可以看日落。唯一一点是回复消息不是特别快速，但是能够理解，总体而言还是很好的一次住宿体验，非常推荐！！P.S.钥匙要伸长才能开门，小纽的位置在钥匙偏下的位置！\n",
      "Index 94389: 👍\n",
      "Index 96077: Top 👍\n",
      "Index 96353: 👌🏾\n",
      "Index 97702: Enkratno stanovanje, top lokacija. <br/>Hvala 😊😊😊😊\n",
      "Index 99789: Super cozy apartment!!! 😍\n",
      "Index 100872: 不错的房子，一切都很方便，要是有洗衣机和烘干机就更完美了！感谢给我的假期留下美好回忆！plus：房东送的饼干很好吃😋\n",
      "Index 101682: Super gospodarz, szybko, sprawnie, czysto, niczego się nie bójcie tylko wybierzcie ten apartament 😀😀😀\n",
      "Index 102984: Goed appartement in het centrum van Bairro Alto in Lissabon, leuke wijk met veel bars en restaurant om de hoek. Konden onze spullen vroeg in het appartement droppen, ook al moest er nog schoon gemaakt worden. Goed service! Heldere communicatie, niks op aan te merken! 🌟\n",
      "Index 103549: 房东是个勤劳🐝……会把家收拾干净！人也特好，给予我们很多的帮助！<br/>住的地方离地铁站和火车站近，有电梯，洗衣机，微波炉很方便！<br/>推荐推荐他家！\n",
      "Index 104525: Cudowne mieszkanie, bardzo duża przestrzeń, klimatycznie urządzone.  Lokalizacja strzał w dziesiątkę😉 wszędzie blisko. Z mieszkania piękny widok na miasto! Magnom jest przesympatyczny i bardzo pomocny, wspaniałe nas ugościł :) Zdecydowanie polecam to mieszkanko. Najlepszy wybór, można poczuć klimat Lizbony! 😊\n",
      "Index 105081: Bästa stället jag bokat! Så vackert och bra atmosfär. Suveränt helt enkelt, jag kan varmt rekommendera det till två personer som vill besöka Lissabon några dagar! Det är rent, charmigt, personligt och ligger på gångavstånd från både sevärdheter och buss, tunnelbana eller spårvagn. Älskade stället ❤️\n",
      "Index 105139: good 😌👌\n",
      "Index 106950: All good 👍\n",
      "Index 107484: We hebben genoten in Ericeira. De woning ligt heerlijk centraal en is voorzien van alle gemakken. Twee balkons met uitzicht op de zee en het gedeelde zwembad. We hebben hier voor het eerst gesurfd. Cursus van 2 uur. was leuk om te doen. <br/>In de keuken was een waterfilter apparaat die er voor zorgde dat het water beter smaakte. Er is een koffieapparaat waar Deltacups in gaat. Als het gebruikte cupje er niet meteen uitvalt...even wachten en dan nog een keer de hendel naar boven en beneden doen. Woning heeft geen airco maar is niet nodig. De wind vanaf de zee is voldoende. Auto parkeren is geen probleem. Er is een kleine lift. Makkelijk voor je koffers en boodschappen😉.<br/>Wij kunnen dit huis zeker aanbevelen. <br/>Desiree Schuman\n",
      "Index 107593: 👍🏻👍🏻👍🏻\n",
      "Index 110135: 👍🏼\n",
      "Index 110467: 👍👍👍\n",
      "Index 111151: 👍🏼\n",
      "Index 111403: 👍\n",
      "Index 112096: Wszystko zgodnie z opisem 😊 Czysto i pachnąco 😍 jedynie prysznic do małej naprawy 😉 polecamy serdecznie 😊\n",
      "Index 112213: Super Nice 💯\n",
      "Index 112388: Dette var helt kanon! Mye for pengene! Kan virkelig anbefales for andre som vil oppleve Lisboa! 😄😄\n",
      "Index 113375: ⭐⭐⭐⭐⭐\n",
      "Index 113546: 🎇🎇🎇🎇🎇\n",
      "Index 114088: 👍\n",
      "Index 114992: Vi havde et godt ophold i lejligheden, som har en meget central placering.<br/><br/>Udsigten ud over byen er god og man fornemmer klart byens puls.<br/><br/>Ha’ lige et par gode gummisko klar til byens mange bakker ☺️<br/><br/>Vi anbefaler klart den her lejlighed til andre 👌🏾\n",
      "Index 115531: 👍\n",
      "Index 117279: Ruim appartement met een groot terras. Vlakbij de metro. Pedro is erg vriendelijk,gastvrij en gepassioneerd door zijn stad! Rustige buurt maar wel jammer dat er af en toe veel honden blaffen. Alles is voorzien voor een comfortabel verblijf. Thanks,Pedro! Highly recommanded!😎    <br/><br/><br/><br/><br/><br/><br/><br/><br/><br/><br/><br/><br/><br/>\n",
      "Index 118424: Fijne plek in het hart van Lissabon. <br/>Plek is wel op bovenste etage/ geen lift.<br/>Ziet er uit zoals op foto’s. Heb genoten van deze kennismaking met Lissabon.😊👍\n",
      "Index 118698: 非常非常满意的一次住房体验.房间干净整洁,全新装修,位置绝佳!周边餐厅,购物非常方便.超赞!👍\n",
      "Index 118710: 房东回复非常及时，位置无敌，景观也很不错，唯一就是没有电梯，但据说里斯本大部分房子都这样😂\n",
      "Index 119193: 👍👍👍👍👍\n",
      "Index 120399: 👍👍\n",
      "Index 120476: 这是我们十八天的民宿中最快找到房子所在的。刚开始还有点烦，老是问我到的时间。因为开车自由行，很随意，没办法准确给时间，所以下次还是建议找自助入住的。房东因为还在上学，让我们找他朋友拿的钥匙🔑，他朋友就在住宿附近唯一的小超市，英语沟通都无障碍。整条街只要有位置就可以免费停车。房子在一楼，打开门你会惊讶它的干净和简欧风格装修，很舒服，绝对物超所值。\n",
      "Index 120837: 👍🏻\n",
      "Index 122231: ✌️🪨\n",
      "Index 123811: Awseome view ❤️\n",
      "Index 125029: 🙏\n",
      "Index 125630: 🌟🌟🌟🌟🌟\n",
      "Index 126168: PERFECTION!  ❤️\n",
      "Index 129307: 👍🏻\n",
      "Index 129635: 👍🏼\n",
      "Index 129663: 😂😂 😂😄😄\n",
      "Index 129915: 5🌟\n",
      "Index 134334: 👍🏻\n",
      "Index 134692: דירה יפייפיה באזור התיירותי. מאוד נקייה ומרווחת. נהנינו מהשהות פה ונשמח לחזור שוב😊\n",
      "Index 135320: 👌🏾\n",
      "Index 135335: 👌👌👌\n",
      "Index 135472: Dejligt sted 😀\n",
      "Index 136087: 👍🏻\n",
      "Index 137903: ✔️\n",
      "Index 138507: 民宿位置很方便，离升降机、名店街都可以步行。房子本身比较老，木地板走路会咯吱响，其中一个厕所的门是不能关的，因为里外都没有把手，撞上门就反锁了。<br/>三室一厅三卫（其中两个卧室带私人卫生间）满足了我们7个人的住宿，厨房没有烤箱不太方便，还有就是电磁炉灶台和取暖器都是靠电，做饭的话在取暖设备都得关的前提下只能用两个灶眼，不然就掉闸。<br/>楼下有白线停车位，但是不好等，需要碰运气，最近的停车楼走路10分钟。<br/>房子够宽敞，还有阳台，总体还不错👍\n",
      "Index 138716: Swietny Apartamrnt dla wiekszej liczby osob. Pokoje przygotowe z dbałoscia o szczegoły. Apartament polozony w samym centrum Lizbony. Bardzo mily i pomocny gospodarz. Polecam to miejsce w 100% na fajne chwile ze znajomymi lub rodzinną 😀😀\n",
      "Index 138834: Bylo to super! Velmi milé přivítání,<br/>nádherný apartmán a skvělá lokalita😊\n",
      "Index 138977: 👍 best place we ever rented\n",
      "Index 139280: 👍👍👍👍\n",
      "Index 139687: 👍\n",
      "Index 140099: Alles 👌 perfekt\n",
      "Index 140401:   👌🏻\n",
      "Index 141545: 👌\n",
      "Index 141569: 😘\n",
      "Index 142896: Ok😊\n",
      "Index 143349: 1.房间真的挺好的 朝阳, 然后设施都很现代化很方便.<br/>2.位置 离地铁站 离市商业街 离海边 离火车站 都还挺近的 15到20分钟 走路. <br/>3. 房东英语很好，一进去给我们很多信息 , 和建议 . 为人很好👍<br/>4. 房东给我们准备了很多好吃的 水果 牛奶 面吧 酒 . 棒棒哒 以后有机会来里斯本 还会再去他家🉐\n",
      "Index 144334: 非常好的民房间 本来还想多住两天的 但是没有空缺 房东很好 👍很喜欢 非常感谢房东提供的帮助\n",
      "Index 145130: 地理位置非常棒👍方便坐车也方便步行去景点，附近也有很多好餐厅可供选择。房间卫生舒适，五分钟就走到了超市，如有需要了解的信息房东会很快回复！\n",
      "Index 145211: 👍👍👍👍\n",
      "Index 145459: 5⭐\n",
      "Index 145792: Midden in het Bairro alto een uniek appartement. Buiten is het redelijk luidruchtig, maar binnen us het heerlijk stil. Tip: train thuis van te voren je kuitspieren🤪, die heb je nodig om zonder spierpijn te kunnen genieten van lissabon.\n",
      "Index 145847: 像合租公寓，但还算安静，房间有阳台。总体不错👌\n",
      "Index 147178: 👍👍👍👍\n",
      "Index 147658: 😊\n",
      "Index 149950: 👌🏻\n",
      "Index 150594: Een super appartement op een super lokatie! Persoonlijk ontvangst met insight tips, oa over slim gebruik van liften om de steile klim naar deze kasteelwijk te vereenvoudigen. Je voelt je tijdens verblijf een beetje een echte local als alle toeristen de poort van het<br/>kasteel uitlopen en jij naar binnengaat 😃!\n",
      "Index 151530: Rilassante❤️\n",
      "Index 153663: Had a nice time in Ericeira 👍🏾\n",
      "Index 153988: Fantastisk sted, ligger meget centralt, flot lejlighed, mangler ingen ting, indkøbsmuligheder lige under lejligheden. Meget nemt med to børn. <br/>Udsigten til min morgenmad 😍 Den kommer jeg til at savne.\n",
      "Index 154531: Når vi ankom leiligheten ble vi møtt av særdeles hyggelige og imøtekommende Gustavo. Vi hadde tre overnattinger i den fantastiske til Lala, men hadde gjerne blitt noen dager til. Leiligheten fremstår som enda bedre enn i annonse, og er et fantastisk utgangspunkt for ferie i Lisboa. Leiligheten har et personlig preg, som er smakfullt og praktisk. Store, hyggelige rom med moderne kjøkken og bad. En deilig liten frokost balking toppet det hele. Beliggenheten er også helt topp. I et autentisk nabolag, med hyggelige barer, cafeer og restauranter rett utenfor.  Med gåavstand til det meste, passer denne leiligheten perfekt for inntil 4 personer. Vi kommer tilbake😊\n",
      "Index 155018: 🙌🏻\n",
      "Index 155876: Very nice place ❤️\n",
      "Index 155909: 👍🏼\n",
      "Index 155944: 👍🏻\n",
      "Index 156566: 👌🏻\n",
      "Index 157865: Smidig incheckning. Rymligt och bra boende, stort välutrustat kök. Om ni inte vill laga eget kan rekommendera Restaurante Monte's Bistro (400 meter bort). Vi kom på två motorcyklar och det var inga problem med parkering precis utanför grinden på gatan. 👍\n",
      "Index 158337: +++👍\n",
      "Index 158716: 👍🏻\n",
      "Index 158796: 非常好的体验，虽然有小插曲，但是房东迅速的解决了。非常满意的住宿。我们一家三口在这度过了一个愉快的假期。民宿的位置很好👌到主要景点只需要步行。免费停车很方便。只是停车场太考验技术。房东非常热情，我们入住时一直在门口等我们，还亲自带我们去停车。总之非常喜欢。\n",
      "Index 159026: 👍\n",
      "Index 159713: ✨\n",
      "Index 160088: 🙌🏾\n",
      "Index 160137: Wat een fijn appartement om te verblijven in Lissabon! In een hele leuke, levendige wijk, Graça. Het appartement zelf ligt rustig, is fijn ingericht, schoon en een prima bed. Wij kwamen met de trein aan op Entre Campos en zijn met de metro naar Santa Apolonia gegaan. Van daaruit kun je met bus 734 verder, uitstappen halte Graça (scheelt een stukje berg op lopen😉) Ernest is een behulpzame host die snel reageert. Wil je naar Lissabon dan zit je hier prima!\n",
      "Index 163286: ❤️🔝 🔝🔝🔝🔝🔝🔝❤️\n",
      "Index 166296: 👌🏻\n",
      "Index 166754: 👍🏻\n",
      "Index 167866: 👍🏻\n",
      "Index 168039: 👍\n",
      "Index 168240: 👌👌👌\n",
      "Index 168981: 😀\n",
      "Index 169694: Supernet apartement. Van alle gemakken voorzien behalve vaatwasser. Wifi en bedden top. Locatie ook top in Alfama. Niet echt handig voor mensen die slecht ter been zijn ivm met veel steile hellingen maar dit geldt eigenlijk voor heel Lissabon. We hebben niet persoonlijk contact gehad maar incheck op afstand ging prima. We hadden helaas erg slecht weer maar daar kan Patricia ook niks aan doen ☔☔☔\n",
      "Index 170626: 😊\n",
      "Index 170749: Et dejligt sted, hvor værterne havde hjertet med ❤️ og hvor man møder mange andre rejsende i alle aldre og nationaliteter.\n",
      "Index 173397: 👍\n",
      "Index 173512: Excellent 👌🏻\n",
      "Index 174767: Wyjątkowo miły gospodarz. Paula dostarczyła nam wielu cennych wskazówek związanych z transferem z lotniska i pobytem w Lizbonie. Mieszkanie bardzo klimatyczne i jednocześnie czyste i zadbane. Dodatkowo nie było problemu z późniejszym opuszczeniem domu ze względu na późny lot powrotny. Polecamy z czystym sumieniem❤️.\n",
      "Index 174817: Dit is een Airbnb-ervaring die er met kop en schouders bovenuit steekt. Zowel het appartement als Paula verdienen vijf sterren en zijn klein maar gezellig 😄. <br/>Al wat je nodig hebt, en meer, is aanwezig. Bovendien is het huis heel goed gelegen, net buiten de toeristische en dus drukkere kern van Alfama en toch overal dichtbij.<br/>Wij hebben nog niet alles gezien van Lissabon, maar zelfs als we de andere wijken willen bezoeken zullen we terug bij Paula logeren want dat is ‘ons familiehuis’ in Lissabon!\n",
      "Index 175621: Labai patogi ir gera vieta jei esate su automobiliu, gražus vaizdas. Apartamentai nera nauji, lovos patogios, virtuve gerai irengta, yra skalbimo mašina, lauko grilius. Didziausias trūkumas , butas nera sandarus, o vietove labai vejuota todel vakarais kai pakyla vejas, labai stipriai ūžia ir pučia pro visus tarpus, ypač pro iejimo duris, todel kas jautresnis uzmigti bus sunku. Taciau yra ir vejo privalumas, vasara nera karsta miegot😊\n",
      "Index 176722: 👍👌\n",
      "Index 178820: 💗\n",
      "Index 181104: 5 ⭐\n",
      "Index 183080: 🤗\n",
      "Index 184311: A l'apartament del David hi hem estat genial. Es tracta d'un apartament tipus suite amb opció a cuina i lavabo (sempre nets i ordenats) i amb un balcó preciós típic de Portugal. El David ens va deixar fer el check-in una mica abans perquè veníem molt cansats del viatge i sempre s'ha mostrat molt servicial i amable ajudant-nos amb el que podíem necessitar. L'únic handicap de l'apartament és la ubicació que sí que és cèntrica però estar al centre també inclou el desavantatge del soroll de la gent del carrer. L'experiència ha sigut curta perquè només hi hem estat 3 dies però ha sigut excel·lent!!! Tornaríem segur.🥰\n",
      "Index 184851: 房东小姐姐人很好，帮我们搬行李，还帮我们推荐景点、餐馆和超市，我们房间任何东西少了都会帮我们补过来。以后来这里住的，基本都会是这个漂亮小姐姐接待，大家抓紧😁\n",
      "Index 187397: Zeer goed geholpen door Rafa , op ieder moment bereikbaar via telefoon . Super vriendelijk als we hem even in persoon ontmoeten op straat 👌 topkerel.  <br/><br/>Eva en Joris <br/>Uit België 🇧🇪\n",
      "Index 188608: Beautiful spot 😊\n",
      "Index 188976: 非常干净和现代化的装修！虽然只在一楼，但是有电梯仍然非常方便。隔音很好，但是偶尔可以听到楼下大车开过的声音。餐具很多，方便在家吃早餐和晚餐。房东甚至提供了洗衣液和洗碗机的清洁胶囊。浴室也非常舒服，唯一缺点就是带厕所的房间的卫生间门离床太近😂如果不是睡眠很好的人，可能会被吵醒。非常推荐！\n",
      "Index 189048: Hem estat molt tranquils i còmodes. És un lloc molt tranquil i el pis està molt ben decorat. Ens han donat tovalloles netes i l’habitació i llençols estàven molt nets. Ens ha fallat no haver pogut utilitzar la rentadora i sapiquer que es trobava a un 4rt pis sense ascensor. Per lo demés molt bé! 😊\n",
      "Index 189138: U Gustavo i jego puchatego kotka Budda czujesz się od pierwszego wejścia jak u najlepszego przyjaciela :) klimat mieszkania jest wspaniały, jest wszystko czego potrzebujesz w cudownej atmosferze 🙂\n",
      "Index 189257: Gustavo jest bardzo dobrym gospodarzem 👏. Przez cały czas mieliśmy z nim kontakt 📞. Pokój spełnił nasze oczekiwania. Było cudownie ❤️. Rada dla następnych gości - przygotujcie się na ostre wejście pod górę 🗻. Blisko Lidl oraz komunikacja miejska do centrum 🚎. Zdecydowanie polecamy to miejsce oraz Gustavo jako gospodarza.\n",
      "Index 189830: 👌🏽\n",
      "Index 190596: Top!👍\n",
      "Index 191169: 👍🏻\n",
      "Index 193046: Amazing! 🙂 Does not need more words\n",
      "Index 193424: 👍🏽\n",
      "Index 193909: ☹️👎🏽\n",
      "Index 196240: 👍🏻\n",
      "Index 196278: 這裡的環境超棒，房東人很好😊\n",
      "Index 197061: 房间很好！周围有很多酒吧所以晚上楼下的人流量会比较多，如果想体验葡萄牙夜生活订这个房间没错了。不过休息的比较早的话需要考虑一下😂。总体来讲很不错和预期的体验一样！\n",
      "Index 197649: Gastvrij, mooie plek!<br/>Genoten🌞😉👌\n",
      "Index 197890: 👍\n",
      "Index 198528: 🤨\n",
      "Index 199013: Nuno to świetny gospodarz, bardzo pomocny i miły człowiek!! Lokalizacja jest korzystna, swietnie skomunikowana z Centrum. W pobliżu potrzebne sklepy i doskonałe śniadania 🙂 Odwiedzimy w przyszłości ponownie. Polecam z czystym sumieniem ☺\n",
      "Index 200247: Kiva paikka aivan lentokentän vieressä. 🌞\n",
      "Index 201618: Very enjoyable 😃🙏🏻🙏🏻😃\n",
      "Index 202057: 👌👌\n",
      "Index 202585: 第一次用爱彼迎，就遇到了这样的房主，真是😭\n",
      "Index 202966: ⭐⭐⭐⭐⭐\n",
      "Index 204023: Rafael to super człowiek! Niesamowicie towarzyski, dobrze wychowany, pomocny. Mieszkanie jest super i sprzyja poznawaniu nowych osób. Okolica przyjazna, blisko atrakcji. To była prawdziwa przyjemność poznać Rafaela i zatrzymać się w jego pięknym mieszkaniu. Polecam każdemu! ❤️\n",
      "Index 205171: 👌\n",
      "Index 205175: Fantastic! 😁\n",
      "Index 206220: 👍🏼👏🏼\n",
      "Index 206416: 👍\n",
      "Index 209720: Top 😎😎😎\n",
      "Index 210603: Een woord; geweldig 🌸🌸🌸\n",
      "Index 212801: 5✨\n",
      "Index 212808: agradável👏\n",
      "Index 214312: 👍\n",
      "Index 215017: Een geweldig appartement op een geweldige lokatie. Joana is uiterst behulpzaam. Het appartement was super schoon en zag er net zo uit als op de foto's. Een aanrader 👍🏻\n",
      "Index 215437: ❤️\n",
      "Index 215655: 👍🏾\n",
      "Index 216580: המיקום מדהיים! בעיר העתיקה, צמוד לטירה היסטורית יפייפיה, יש בית קפה מקסים מתחת לדירה, הדירה הייתה אפילו יותר יפה מבתמונות, פטריסיה הייתה מאוד חמודה והשאירה לנו הפתעות קטנות בדירה, הדירה נקיה ויש בה ריח מדהים בכל אזור, כולל המצעים, גם בבניין היה כל הזמן ריח טוב. אנחנו הגענו ביולי ויש מזגן בדירה שממש היה הכרחי. למי שמטייל לראשונה בפורטוגל אנחנו ממליצים ממש, השכונה שקטה והיא במרחק הליכה לכל אזורי הבילוי והקניות. ללא ספק זוהי מציאה! ממליצים ממש בחום!!❤️\n",
      "Index 219139: 😊\n",
      "Index 223942: Excelente 😃\n",
      "Index 225954: 👌🏼\n",
      "Index 226475: 很好的位置，女主人也十分熱情😆\n",
      "Index 226667: Imperdible, anfitriones muy amables. UBICACIÓN ⭐⭐⭐⭐⭐\n",
      "Index 228078: Asunto on hienolla paikalla. Ericeira on vain lyhyen ajomatkan päässä kaikkine palveluineen, samoin upeat ja hyvin hoidetut rannat. Asunnossa on kaikki, mitä tarvitaan pesukonetta myöten. Kahvinkonetta emme osanneet käyttää, se vaihdettiin toiseen jonka käyttö sujui meiltäkin😊 Kaikista upeinta oli uima-allas alueineen. Oikea lomailijan unelma. Ovien takaa paljastui hyvin hoidettu puutarha. Grillialue oli myös. Tulemme ehdottomasti uudestaan, täällä tunsi olevansa lomalla. Raija ja Henrikki Suomesta🇫🇮. Beautiful place where is everything you need. Beautiful pool and its area. We can recommend🤗😍\n",
      "Index 228837: 👌👍\n",
      "Index 229146: 👍🏽👍🏽❤️\n",
      "Index 229493: 👍👍\n",
      "Index 231706: 😊\n",
      "Index 232236: Klein maar gezellig appartement. De verhuurders waren zeer vriendelijk en geven veel nuttige tips. Wij hebben genoten van ons verblijf. Zeker een aanrader 😉\n",
      "Index 234316: super 👍\n",
      "Index 235505: 房东人很好，热情好客。<br/>屋子干净整洁，装修好看，跟图片一样～设施齐全😆\n",
      "Index 238021: Rose先生迎接并且非常热情慷慨的招待了我们，周围的交通非常方便，房子住起来也非常舒适，正如描述的那样。第一次入住AURBNB的体验棒极了👍！\n",
      "Index 238752: Super apartment, great😉\n",
      "Index 239958: Helt fantastisk oplevelse at bo i denne skønne lejlighed, udsigten tager virkelig pusten fra en, værten var meget sød og utrolig hjælpsom hvilket gjorde oplevelsen af byen fantastisk, vil helt sikkert prøve det igen ☺️\n",
      "Index 240118: 房子视野非常棒<br/>Joana人很好 帮助我们介绍了周围的超市餐厅等等<br/>但房子在山上 搬运行李有所不便 也没有电梯 房间在四层 不适合带大件行李的女生<br/>另外房子的吹风机坏了 🙈\n",
      "Index 240699: Nagyon jó helyen van,csodálatos kis romantikus lakás két ember részére,tiszta,a házigazda mindenben segítségre van. Csak ajánlani tudom mindenkinek 🙂 <br/>Heni,Budapest\n",
      "Index 241108: Tökéletes,szép, tiszta volt a lakás,szuper helyen☺️Nagyon jól felszerelt,a közelbe éttermek,boltok,villamos,busz,metró.Szívből ajánlom mindenkinek.A házigazda nagyon segítőkész.\n",
      "Index 241292: 👍👍👍\n",
      "Index 241302: Een heel fijn plekje gecreeërd door hele lieve mensen. Het appartement heeft een prachtige tuin waarin je even kan relaxen na een dag sightseeing. Daarnast beschikt het appartement over alles wat je nodig hebt en is het lekker ruim. De ligging is ook top! Als je wat verder uit de stad wilt, kan je voor max 7 euro overal heen met een Uber. Thanks Andreia en Tuty! ❤️\n",
      "Index 242876: 👍\n",
      "Index 246524: 👍🏻🤟🏻\n",
      "Index 246769: Vi havde en skøn tid i Joana's lejlighed. Perfekt beliggenhed og skøn udsigt. Det var bare at vandre ud af døren og rund i hele i Lissabon. Joans var utrolig gæstfri og havde rigtig mange gode forslag til hvor vi kunne spise. Vi vil til enhver tid anbefale lejligheden og Joana, of håber at komme igen en dag 😀\n",
      "Index 246902: 👍🏼👍🏼\n",
      "Index 247342: Excelente 💪🏽\n",
      "Index 249098: Mooi appartement niet ver van het centrum vandaan. De afstand naar het centrum is best te lopen of met ubers te bereiken, wat ook bijna niks kost.<br/>De instructies om het appartement binnen te komen waren ook heel duidelijk en makkelijk op te volgen. Bij binnenkomst stond er een fles wijn voor ons op tafel. Op de hoek van de straat zit een klein winkeltje, waar je brood, drinken, beleg, fruit/groente en van alles en nog wat kunt kopen. Het zit echt 1 min. Lopen van het appartement vandaan, altijd handig. <br/>Ik was er met nog 3 andere vrienden. Er zijn 2 apparte slaapkamers, 1 slaapkamer zit een wc en ligbad/douche. Bij de andere slaapkamer zit de badkamer apart op de gang. Alles was netjes en schoon. De balkon aan de voorkant(bij de keuken) is groot genoeg om met zn 4e te zitten. Enkel de trap naar het appartement is even wennen. Voor de rest alleen maar positief 👍\n",
      "Index 249450: 👌\n",
      "Index 250959: 🙂\n",
      "Index 251063: 👍🏻\n",
      "Index 251440: D best 👍🏽🤙top\n",
      "Index 251636: 👏🏻\n",
      "Index 252088: 房東人很好👍🏻\n",
      "Index 253794: Appartement met fraai uitzicht waar je een paar trappen voor omhoog moet, maar wel heel mooie want het is een oud pand. De slaapkamer is groot, het bed voor Hollandse maatstaven klein, twijfelaar van 1.40 m voor 2 personen 🤪<br/>Ideaal is het dat de badkamer tegenover de slaapkamer ligt en de keuken er naast.<br/>Er is een mogelijkheid om te koken, maar wij aten het liefst op een zonnig terras in de stad.<br/>Goed wifi contact en ladekast voor je kleren. En vooral een opgeruimd en schoon app.\n",
      "Index 254099: Lejligheden svarer til fotos, den er meget smagfuld og praktisk. Der er hvad du behøver på et kort ophold. Lejligheden ligger i et område hvor der er mange stejle gader. Trappen op til lejligheden på 2 sal, er også stejl og meget smal. Sporvognen kører lige udenfor døren, hele tiden. Det kan høres og mærkes, men er også meget fascinerende at se fra den lille altan. Lejligheden er en af flere lejligheder som Elsa og Rui udlejer, så der er ingen personlig kontakt med dem i forbindelse med opholdet. Det fungerede dog fint alligevel. Der er en mappe med alle oplysninger. Lejligheden er velholdt, så kun få ting kan ske. Den eneste ting vi gerne ville have vidst var, at nr 2 dobbeltseng (med eget badeværelse) står i åben forbindelse med køkkenet. Der er dog en glas dør som kan lukkes ind til stuen. Lejligheden er bedst egnet til 4 personer, som kender hinanden godt. 6 personer er muligt, men så er der ikke noget plads tilbage at ophold sig på. Men det er en flot dejlig lejlighed midt i Alfama. Jeg tænker at vi vender tilbage igen 🌹\n",
      "Index 254116: Super lokalizacja na wszelkie wypady. czysciutko. spokojnie.sklepik pod drzwiami 😃 naprawdę polecam!!\n",
      "Index 254865: 👍👍👍👍👍👍\n",
      "Index 255631: 交通相當方便，離車站很近！機場接送服務很貼心～住宿環境佳，廚房設備完整，床鋪也非常舒服！非常推薦！！！！！🙂\n",
      "Index 255681: Apartament położony w bardzo dobrej lokalizacji. Świetny dla 2 rodzin ( nas było 7 osób)  Wszędzie było blisko, restauracje, metro, tramwaje oraz wspaniałe zabytki w zasięgu ręki. W tym miejscu czuliśmy się bezpiecznie 😀 Gospodarze zapewnili ogrzewanie i gorąca wodę (pobyt 29.01.2020 do 2.02.2020) Bardzo dziękujemy Rui & Elsie😀😀<br/>,\n",
      "Index 255791: 位置优越，离庞巴尔广场走路3分钟。民宿新，干净整洁，工作人员友善，响应速度快！点赞👍\n",
      "Index 256083: 房子真的超级棒，很大，很干净，一应俱全，还有露台，风景很赞，能看到海，旁边就是圣乔治教堂，门口就有公交车，出行很方便，离超市也很近，一切都很完美！唯有不足就是入住的时候，钥匙的密码箱居然不在房子里面，提醒以后入住的小伙伴事先确认清楚，还有就是因为房子比较古朴，用的钥匙也很有年代感，切记钥匙上有一个极小的小圆点，需要按住把钥匙变长才能开门，建议房东以后能在入住指示里面更清楚的表达这一点就更完美了！此次还是住的很愉悦的，推荐！👍\n",
      "Index 256119: 👍\n",
      "Index 256869: 👍\n",
      "Index 258697: ⭐⭐⭐⭐⭐\n",
      "Index 259037: Always again 👌🏽\n",
      "Index 259167: 👍\n",
      "Index 259738: 太喜欢😍这个房间了！房东阿姨人也特别好！还送了瓶红酒给我们！交通方便，很安全，房间布置我也特别喜欢！旅途很开心！感谢！we love ❤️ thanks a lot of!\n",
      "Index 260106: 👍\n",
      "Index 261213: 👍🏾\n",
      "Index 261384: En upplevelse att bo vattnet. Guppade lite så inget för den som är sjösjuk 😜 Nytt och mycket fräscht. Ett boende för max 2 personer eller skulle nog säga 1 person 😁 Bo här när det är fint väder och solen skiner 🌞 Supertrevlig och hjälpsam tjej som tog imot oss ❤️\n",
      "Index 261396: leuke verblijfplaats, zeer orginieel<br/>s'avonds zeer gezellig en mooi om te zitten of om de dijk af te gaan en terrasjes te doen<br/>zeer behulpzaam en vriendelijk personeel!<br/>zeker een aanrader, <br/>om lissabon te bezoeken aangeraden de tram te nemen<br/>niet duur en dichtbij 👍\n",
      "Index 261449: 5⭐\n",
      "Index 261552: 👍\n",
      "Index 261597: 👍\n",
      "Index 261706: 非常好👍离市中心不是很近，不过打车很方便，物价低，四欧五欧就到市中心，需要十几分钟。更适合2个人住吧，我们是2个住大床，2个住沙发床。\n",
      "Index 262128: 👍\n",
      "Index 262170: 👌🏽\n",
      "Index 262421: Fin lejlighed for 2 par/ familie. Gården det bedste opholdssted - meget hyggelig og skyggefuld - sommetider for megen skygge.<br/>Beliggenheden fantastisk 👍👍👍\n",
      "Index 262737: 👍🏼👍🏼👍🏼\n",
      "Index 262805: 位置方便，房主很热情，房间很私密，阁楼窗户可以看星星⭐\n",
      "Index 266742: 👍👍\n",
      "Index 266987: Mycket bra boende med en fantastisk takterrass. Allt var mycket rent och snyggt, vi kan verkligen rekommendera det här boende👍👌👏\n",
      "Index 267167: 👍\n",
      "Index 268120: 👍🏻\n",
      "Index 268450: 🔥🔥🔥🐐🐐🤝🤝\n",
      "Index 268683: 👍\n",
      "Index 269577: 👍\n",
      "Index 270322: ⭐⭐⭐⭐⭐\n",
      "Index 271063: Increíble ❤️\n",
      "Index 271919: Жили 4 ночі, все сподобалось! Дуже багато простору, все необхідне є, господарі дуже привітливі, все розкажуть і порадять, якщо запитати. Дуже чисто і світло, простір надихає, я рада, що дила тут 🥰\n",
      "Index 276084: 房東非常溫暖熱情，順道帶著我們介紹了許多景點，房子很乾淨溫馨，設備也非常齊全，一開家門就是迷人的老城區景色，很棒的住宿經驗❤️\n",
      "Index 276333: 👍🏼\n",
      "Index 276816: 👌\n",
      "Index 276875: 😉👌\n",
      "Index 277923: 💚\n",
      "Index 277954: ☹️\n",
      "Index 280271: 🤟👍\n",
      "Index 280701: 房子乾淨，離地鐵站也近，非常好👍\n",
      "Index 280819: 🎷🦫\n",
      "Index 281229: Superb apartment ❣️\n",
      "Index 281772: 房间挺宽敞的，装修的很好，也很干净<br/>房东态度很好，回复也很快，<br/>房子在一个教堂附近，景色还算不错，交通也算便利，附近可以坐公交或电车等，离地铁，步行大约5，6分钟<br/>总之，很好👍\n",
      "Index 283536: 👍\n",
      "Index 285748: 👍\n",
      "Index 285964: 👍\n",
      "Index 286547: 在贝伦区，离教堂，贝伦塔和航海纪念碑都很近，对面就是著名的蛋挞鼻祖，每天都可以买几个吃，哈哈哈哈。就是离市中心有点远，坐车大概快一个小时，所以如果几天的游玩都住在这的话，需要规划好出发时间。离机场也是一个小时的路程。房间很好，设备也很齐全，同住的人比较多，不过外国人都喜欢早上洗澡，所以晚上九点左右回去，没人跟你抢洗澡时间😊。总的来说很不错，性价比很高，住的也很舒服，谢谢招待啦~！\n",
      "Index 286715: Het was een prettig verblijf, aangename host & het appartement was dik in orde 👍🏻\n",
      "Index 287706: 👌🏽👌🏽👌🏽👌🏽\n",
      "Index 288163: Smuk og lys lejlighed beliggende meget centralt.<br/>Lejlighedens køkken er veludstyret. <br/>Guidemapper for h.h.v Cascais og omkringliggende områder.<br/>Venlig, imødekommende og hjælpsom vært.<br/>Kan varmt anbefales😊\n",
      "Index 290890: 👍\n",
      "Index 291992: ❤️\n",
      "Index 293084: Obłędnie komunikatywny gospodarz, dzięki wskazówką Antonia pobyty był znacznie ciekawszy, świetna lokalizacja, bardzo czysto. Poleciłbym przyjacielowi😀<br/><br/>Insanely cominicative host, due to Antonio’s tips and directions, our trip to Lisbon was great. Fancy location, very clean. I would recommend it to friend😀\n",
      "Index 294738: Very good 👍\n",
      "Index 294957: Mooi appartement met alles wat je nodig hebt op en super locatie👌👌  goed bed. Trammetje op de hoek maar ip. Alles op loopafstand.<br/>Goed ontvangst en we kregen nog allerlei tips👍👍🌞\n",
      "Index 295204: 👌\n",
      "Index 296065: Teresa var så trevlig trots att vi kom sent. Lägenheten ligger nära flygplatsen vilket vi tyckte var bra då vi skulle hämta en bil där dagen efter. Lägenheten var jätte fin och ren. Teresa hade också dukat upp frukost åt oss till mogonen där på, så trevligt och enkelt. Återvänder gärna 😊\n",
      "Index 296437: ⭐⭐⭐⭐⭐\n",
      "Index 296880: 👍🏽\n",
      "Index 298985: 5 ⭐\n",
      "Index 299500: 👍🏼\n",
      "Index 299518: 5/5 👌🏿\n",
      "Index 299520: ⭐⭐⭐⭐⭐\n",
      "Index 299523: ⭐⭐⭐⭐⭐\n",
      "Index 299949: 👍🏻\n",
      "Index 300268: 非常棒！唯独没有电梯，我搬行李箱腰都要搬断了。。哈哈😄\n",
      "Index 301706: Great value 🌱\n",
      "Index 301844: מיקום מעולה. נקי ממש. מפנק בהרבה רמות. <br/>חוץ מזה שהבית מחולק לשלוש קומות… כשבחדרי השינה ובסלון אין חלונות החוצה…. רק במרפסת…<br/>לצערנו גם המזגן בקומת הקרקע לא עבד…🙁\n",
      "Index 303329: 👍\n",
      "Index 303509: Magnífico🙏🙏🙏\n",
      "Index 304336: 👍🏼\n",
      "Index 306315: Wij waren met ons gezin afgereisd naar Lissabon,  wat een prachtige stad!!! En wat  een fantastisch klimaat🌞 voor het eerst een appartement geboekt via airbnb, en wat is dat goed bevallen zeg! Dit appartement is heerlijk, en (ook) voor jonge volwassen mensen ligt het in een fantastisch deel vd stad,. De inrichting is supergezellig en het is voorzien van alle gemakken! Het is schoon en heeft een gezellig dakterras.  Communicatie is perfect Zita en Paula reageren heel snel en geven duidelijke antwoorden! Als wij nog een keer naar deze fantastisch stad gaan twijfelen we geen seconde!\n",
      "Index 306635: Lejligheden er som beskrevet. Vi boede her i 10 dage og Alfarma er et skønt sted, når først har vænnet sig til at det altid går enten op eller ned 🙂<br/>Jeg ved ikke om det kun er mig, men jeg havde forventet at der havde været minimum 2 badehåndklæder pr person når man booker ophold på 10 dage. Derudover blev det lovet at de 250€ som skulle stilles i depositium  kun var reserveret på vores konto, men jeg opdagede hurtigt at pengene blev trukket på kontoen og blev ikke tilbagebetalt før jeg rykkede for dem efter ferien. Kommunikation med udlejer foregik uden problemer, de svarer hurtigt på mail. Men man er ikke i tvivl om at det er et firma man lejer igennem og ikke en privat udlejer. Feks. Måtte vi ved ankomsten vente udenfor lejligheden i 30 minutter inden vi blev lukket ind fordi ”værten” samtidig havde en anden lejlighed der skulle afleveres.\n",
      "Index 306732: 👌\n",
      "Index 307149: 非常愉快的入住体验，我们很晚才到达公寓，房东一直等着我们，向我们耐心的讲解。房间虽小，但是设备齐全，我们还洗了一波衣服呢。房间打扫的干干净净，离大多数景点都不远，很开心😃\n",
      "Index 307660: Heerlijk plekje in hartje bairro alto zonder de drukte van het uitgaansleven. Wel snachts wat huiswaartse passanten maar dat mag geen naam hebben. <br/>Airbnb is goed toegerust. Goede bedden (ben zelf een hard matras gewend, deze zijn iets zachter). Complimenten voor de goede föhn 😉. <br/>Geen contact met tomás zelf gehad. Het contact met zijn waarnemers was prima. Dank aan Mrs Lourdes voor de uitgebreide tips mbt eten. Waren waardevol. <br/>Beveel de airbnb van harte aan.\n",
      "Index 309366: Apartamento super giro e confortável! Voltava a repetir sem qualquer problema ☺️\n",
      "Index 310054: ☺️\n",
      "Index 310144: Muy 🔝\n",
      "Index 310236: “Ample views” is an understatement 😌\n",
      "Index 310529: 👍🏽👍🏽\n",
      "Index 310845: Dům je na klidném strategickém místě v centru Cascais. Nabízí soukromý všem hostům i s příjemnou terasou ve vnitrobloku na večerní sklenku piva. V domě je připraveno vše, co člověk potřebuje, spoustu vybavení v kuchyni i malých drobností, které hostům zpříjemní pobyt. <br/>S Rosariou i její dcerou byla super komunikace, obě mají krásný osobní přístup. <br/><br/>Tento útulný dům stoprocentně doporučujeme! 🙂✌️\n",
      "Index 311329: 🙏\n",
      "Index 311431: 👌\n",
      "Index 311450: 👍🏻👍🏻👍🏻\n",
      "Index 311980: 👍🏼👍🏼👍🏼👍🏼\n",
      "Index 312076: 👌\n",
      "Index 312642: Muszę napisać po polsku , ponieważ mój angielski jest zbyt słaby, żeby to opisać. <br/>Mavilde to cudowna I gościnna osoba, nie było najmniejszych problemów z komunikacją, mimo późniejszego przyjazdu. Mieszkanie przestronne , w pełni wyposażone, czyściutkie i zadbane. <br/>W mieszkaniu jest świetny folder , w którym są umieszczone najpiękniejsze i najcenniejsze miejsca w Lizbonie - to cudowna rzecz dla kogoś kto nie zdążył zaplanować podróży. Bardzo dziękujemy za gościnę i polecamy wszystkim mieszkanie Mavilde. ❤\n",
      "Index 313202: 🙂\n",
      "Index 314004: All good 😌\n",
      "Index 314937: 😊,地點很好，去那都方便。離地鐵站、火車站近。Hugo 提供的當地攻略也很實用。推薦\n",
      "Index 318404: 地段非常好 处在市中心 外出很方便 里斯本大部分景点都在行走的范围之内 房东Maria非常热情 也乐于助人 给我们在里斯本的行程和用餐提供了很好的建议 临走时太太再三关照要给房东五星级的评定 😊😊Thank you very much Maria\n",
      "Index 320684: Vše bylo v pořádku. Mužů doporučit 👍\n",
      "Index 321056: 👍👍\n",
      "Index 322327: Totalmente recomendable😊😊 si vuelvo a Lisboa repetiré!\n",
      "Index 323743: 👍\n",
      "Index 323977: Fantastiskt boende och värd 😃\n",
      "Index 324996: 👍\n",
      "Index 325358: 👍\n",
      "Index 326583: 👍🏼👍🏼👍🏼\n",
      "Index 326643: 👍👍\n",
      "Index 327424: Lissabon was prima, de wijk Alfama vonden wij super, niet echt schoon in vergelijking met de rest van Lissabon, maar ok.<br/>Het appartement was goed, trappen lopen na een dag Lissabon was zwaar🤣<br/>Openbaar vervoer in de buurt, aardige mensen goed eten en drinken en goedkoop.\n",
      "Index 333481: 👍\n",
      "Index 333826: 👌\n",
      "Index 335095: Bardzo przyjemny pobyt, mieszkanie jest nowocześnie i gustownie urządzone ☺️ Polecam!\n",
      "Index 335938: Super locatie.<br/>Fijne verhuurders. Beschikbaar voor als het nodig blijkt.<br/>Gezellig appartement, met alle nodige voorzieningen.<br/>Aanrader 😀\n",
      "Index 336054: Flott og romslig leilighet med sentral beliggenhet😊 Anbefales!\n",
      "Index 336407: 👍🏼\n",
      "Index 336773: We hebben het heerlijk gehad in dit appartement. Ontzettend leuk ingericht, waardoor je je meteen thuisvoelt. Voldoende ruimte om samen met twee pubers in te verblijven, die heel blij waren met de mogelijkheid om Netflix te kijken 😊. Locatie was perfect, vanuit deze locatie kan je allerlei leuke wandelingen maken naar verschillende delen van de stad. Tip: huur een fiets en maak een tochtje langs de Taag.\n",
      "Index 336803: 👍\n",
      "Index 336872: Nice apartment 😍\n",
      "Index 338313: 位置真的真的很好，出行方便，房东很热情，送了红酒，还给了很好的旅行建议，房间的确小巧，但一应俱全，离超市也不远，对了，房子要经过一段上坡路，注意你的行李，不要太重哦。😁\n",
      "Index 338750: nice 👍🏻😊\n",
      "Index 339891: 👍👍👍👍👍\n",
      "Index 339917: 👍\n",
      "Index 340025: 👌\n",
      "Index 340374: 👍👍👍\n",
      "Index 343415: 👍🏻\n",
      "Index 343598: 🇵🇹 Obrigada!\n",
      "Index 346030: Very nice 👌\n",
      "Index 346128: Topp♥️\n",
      "Index 347151: Genial 👌🏼\n",
      "Index 348167: Fremragende bolig <br/>Meget centralt og fedt med altaner😄Skøn bolig\n",
      "Index 348395: Lejligheden var super, den havde en fin størrelse og lå fantastisk midt i Alfama, tæt på seværdigheder. <br/>Vi nød virkelig området og de dejlige aftner ved udsigtspunktet ved kirken nord for lejligheden.  <br/>Et sted vi varmt kan anbefale, og gerne selv vil vende tilbage til en anden gang 👍 <br/>Mange hilsner familien Kloster fra Herning, Danmark.\n",
      "Index 350925: 👍👍👍\n",
      "Index 351837: Fantastisk ophold og området er rigtig godt når man skal opleve Lissabon  - Skøn lejlighed - Håber vi kan komme der igen🌞❤️🇩🇰\n",
      "Index 353448: 👍\n",
      "Index 354827: Beautiful location. Very peaceful 💚\n",
      "Index 355672: Det är en fin lägenhet, rymlig och bra smak interiörmässigt. Ett stort plus för terassen där man kan sitta och se ut över takåsarna och ner till bron och Jesus på berget. I köket finns allt, som skandinav saknade vi bara kaffebryggare. Sängarna hade helt klart kunnat vara bättre, men de byts troligen ut snart 😉 Nära till mataffär- vi lagade mat och myste hemna flera kvällar. Vi tycker boendet är prisvärt och Leonor verkar trevlig!\n",
      "Index 356866: Perfekt 😃\n",
      "Index 357021: Отлично 👍\n",
      "Index 357693: Хороші апартаменти. Приємний господар🤗<br/>Гарно обставлена квартира, з дуже чудовим видом. Шум океану можна слухати з вечора до ранку. 🥰<br/><br/>Не вистачає пральної машини. <br/>Безкоштовний вуличний паркінг. У час пік, особливо у ввечері чи на вихідних -  важко знайти парковочне місце. <br/><br/><br/>Good apartment.  Nice host🤗<br/> Beautifully furnished apartment with a very nice view.  The sound of the ocean can be listened to from evening to morning.  🥰<br/><br/> There is not enough washing machine.<br/> Free street parking.  During rush hour, especially in the evening or on weekends - it is difficult to find a parking space.\n",
      "Index 359116: ⭐ ⭐ ⭐⭐⭐\n",
      "Index 359125: 5 Stars. 👍\n",
      "Index 359405: All was good 👍\n",
      "Index 360762: It’s okay ✅\n",
      "Index 360805: 👍\n",
      "Index 360991: 👏\n",
      "Index 361208: 👌\n",
      "Index 362323: Mieszkanie położone w pobliżu centrum, blisko sklepy, kawiarnie i bardzo dużo miejsca na spacery. Niedaleko dwa punkty widokowe. Mieszkanie bardzo stylowe, wygodne, z pełnym wyposażeniem i zadbane. Kontakt z gospodarzem bardzo sprawny i szybki. Polecam wszystkim na pobyt w Lizbonie. Sama chętnie tam wrócę 😊\n"
     ]
    }
   ],
   "source": [
    "def print_comments_with_emojis(dataframe, column_text):\n",
    "    with_emojis = dataframe[dataframe[column_text].apply(has_emojis)]\n",
    "    print(\"Comments with emojis after processing:\")\n",
    "    for index, row in with_emojis.iterrows():\n",
    "        print(f\"Index {index}: {row[column_text]}\")\n",
    "\n",
    "print_comments_with_emojis(merged_data_demojized, 'comments')"
   ]
  },
  {
   "cell_type": "code",
   "execution_count": 64,
   "metadata": {},
   "outputs": [
    {
     "name": "stdout",
     "output_type": "stream",
     "text": [
      "Comments with emojis after processing:\n",
      "Index 176748: 这是位于葡萄牙里斯本辛特拉的独栋私人别墅，位于著名度假胜地辛特拉高尔夫酒店的正对面，拥有里斯本最大的球场，5分钟即可到达沙滩🏖️<br /><br /><b>License number</b><br />Exempt\n"
     ]
    }
   ],
   "source": [
    "print_comments_with_emojis(merged_data_demojized, 'description')"
   ]
  },
  {
   "cell_type": "code",
   "execution_count": 65,
   "metadata": {},
   "outputs": [
    {
     "name": "stdout",
     "output_type": "stream",
     "text": [
      "Comments with emojis after processing:\n",
      "Index 109: Communicatie was super ! We kregen altijd onmiddellijk antwoord op onze vragen en Maria stuurde ons een lange lijst met veel informatie en leuke dingen om te doen in de stad ! Toen we vertrokken heeft ze ook de taxi geregeld die ons voor de deur heeft opgepikt 👌🏻 het appartement is ideaal gelegen , rustige buurt maar vlak bij veel leuke restaurantjes en cafés. Het appartement heeft veel charme maar voelt een beetje verouderd aan. De keuken is oud en ruikt wat muf. Badkamer en slaapkamers waren wel proper ! De koer was ideaal maar ook een beetje verwilderd. Al bij al hebben we enorm genoten van ons verblijf !\n",
      "Index 1445: Dit appartement is een topper! Diego heeft ons heel goed ontvangen. Het appartement heeft een hele goeie locatie. Midden in een winkelstraat en maar een minuutje stappen van de metro 😉.\n",
      "Index 1570: Amazing 🌊\n",
      "Index 3007: 😁\n",
      "Index 4838: Very nice place !!❤️\n",
      "Index 7134: Een echte aanrader! Super goede communicatie met de host. <br/>En wanneer je dan boven komt…dat uitzicht 😍<br/>Er is echt aan alles gedacht! Zelfs douchegel, voor als je die zelf vergeten bent…<br/><br/>Schoon, gezellig ingericht en midden in het gezellige Alfama. Vanuit het appartement kun je alle bezienswaardigheden in Lissabon op loopafstand bezoeken. <br/>Ook de tips die Mariana ons gegeven heeft, waren heel fijn!\n",
      "Index 7826: ⭐⭐⭐⭐⭐ Przestrzenne, wygodnie i elegancko urządzone wnętrze. Doskonała lokalizacja.\n",
      "Index 8424: Takk for noen fantastiske dager i Lisboa. Vi leide begge leilighetene, da vi var to familier på tur. Perfekt. Kjempefine leiligheter, flott plassering og hyggelige verter. Anbefales på det varmeste☀️\n",
      "Index 8473: 👍\n",
      "Index 8891: 👌\n",
      "Index 9513: En lejlighed der ligger rigtig godt. Det du ser på billederne er også det du får i virkeligheden, og udsigten er helt fantastisk. Det er en rigtig god vært og hun svarer hurtigt på ens spørgsmål og er i øvrigt hjælpsom, hvis der opstå ting undervejs. Kan klart anbefales 👌\n",
      "Index 10372: 很容易找到的地點，地方很漂亮很舒適，屋主也很好人👍十分推薦有機會會再來👍\n",
      "Index 10489: 这么多次Airbnb体验中最棒的一次了！入住时已经晚上十一点，Alexandra一见到我们便是一个温暖的hug，她讲法语 我们用Google愉快地聊天   房子超级干净  装修体现了很多葡萄牙元素  各种生活设施不能更齐全了  床品 浴巾都很舒适 味道香香的  就像是回家般的安心 。Alexandra还准备了一本里斯本攻略  包含了所有的热门地点及交通路线  以及好吃的餐厅。这是一次完美的体验  舍不得离开❤️\n",
      "Index 11438: Doskonała lokalizacja w przystępnej cenie. Jakieś 200 m od stacji metra i przystanków autobusowych. W bezpośrednim sąsiedztwie restauracje,kawiarnie i doskonała Ginja😉 Śniadanie płatne dodatkowo 9€. Zdecydowanie polecam👍\n",
      "Index 11649: ❤️\n",
      "Index 13842: We hebben 5 dagen in Helena haar appartement vertoeft en het was zeker zijn geld waard! De slaapkamers zijn ruim genoeg met genoeg opbergruimte. De badkamers zijn zeker geschikt voor grote mensen (de douchekop hangt hoog) alleen is het wel wat kleiner dus als je gewend bent om veel te bewegen, opgepast. Maar ideaal voor 3 personen, dikke aanrader!<br/><br/>Helena is ook een superhost. Ze is super behulpzaam en kijkt wat voor iedereen het aangenaamste is. Ze is ook goed bereikbaar, dikke plus!<br/><br/>De buurt is ook een pluspunt: dicht bij alles en het voelt ook lokaal aan. Alleen ‘s avonds opletten in sommige straten, maar dat heb je snel door 😉\n",
      "Index 14783: 还👌\n",
      "Index 14909: 👍\n",
      "Index 15506: 👍\n",
      "Index 16877: 👍\n",
      "Index 17442: 😊\n",
      "Index 18797: 👍\n",
      "Index 19941: 👍\n",
      "Index 20715: 😕\n",
      "Index 22785: 😘\n",
      "Index 23294: 👍\n",
      "Index 23652: 非常愉快的一次旅行，一切都很完美，公寓位于山顶可以欣赏绝佳的里斯本夜景，下山至市区只要十几分钟路程，房间干净整洁，设施完善，房东热心的回答了我们所有的问题，里斯本出租很便宜所以不用担心交通，强烈推荐😀\n",
      "Index 24748: ⭐⭐⭐⭐⭐\n",
      "Index 24794: 👌\n",
      "Index 25990: 🙂\n",
      "Index 27533: 👍😊\n",
      "Index 28812: Η τοποθεσία εξαιρετική. Στην καρδιά του κέντρου ❤️Η Καταρινα ευγενέστατη και πρόθυμη να απαντήσει σε όλες τις ερωτήσεις που είχαμε και μας έδωσε πολλές χρήσιμες πληροφορίες.Το διαμέρισμα δεν έχει καθόλου ηχομόνωση γιατί η πολυκατοικία είναι πολύ παλιά.Ο παραμικρος θόρυβος ακούγονταν και είχε πολύ φασαρία τα βραδια.\n",
      "Index 29920: Ο χώρος ήταν πενταβρωμικος, υπήρχαν παντού τρίχες, σκόνη και λεκέδες. Με το που μπήκαμε στο σπιτι συνειδητοποιήσαμε οτι δεν είχε καθαριστεί απο τους προηγούμενους ενοίκους. Τα σεντόνια ήταν τσαλακωμένα με τρίχες, στην ντουλάπα υπήρχαν σκουπίδια, το πάτωμα δεν ειχε σκουπιστεί ούτε σφουγγαριστεί και μαζέψαμε ενα φαράσι τρίχες και σκόνη. Το μπάνιο ειχε τρίχες στο σιφόνι, σοβάδες πεσμένους στο πάτωμα, μούχλα στα πλακάκια και υγρασία. Οταν κάναμε μπάνιο είδαμε οτι η αποχέτευση ειναι βουλωμένη και τα νερά ανέβαιναν προς τα πανω. Οταν ζητήσαμε να μας καθαριστεί το δωματιο μας ειπαν οτι μπήκαν αλλα τελικα επιστρέψαμε και δεν ειχε αλλάξει τιποτα. Η περιοχή ειχε πολυ θόρυβο, ακουγόντουσαν τα παντα απο το πανω σπιτι. Γενικά μείναμε πολυ δυσαρεστημένες και δεν θα το συνιστούσαμε σε κανεναν 😒\n",
      "Index 30269: Wij hebben een geweldige week gehad in dit appartement in Lisboa. De ruimte voldeed en het was er schoon.<br/>Op een mooie locatie, dichtbij het centrum. Bedankt, Luis, Ana en Hugo👍👌\n",
      "Index 31040: 🏴‍☠️\n",
      "Index 32016: 👌🏼\n",
      "Index 32714: 👍\n",
      "Index 33719: Et fantastisk sted som overgår det meste😊👍\n",
      "Index 35754: Impeccable 😊\n",
      "Index 36446: Het was heerlijk rustig en een fijne tuin. Dichtbij het strand waar je lekker kan wandelen en veel terrasjes op de boulevard 👍\n",
      "Index 36477: 👍🏼\n",
      "Index 37950: All five stars!! 🌟🌟🌟🌟🌟\n",
      "Index 38388: ❤️👍🇵🇹\n",
      "Index 40359: 🙂\n",
      "Index 41266: 👍\n",
      "Index 41605: 一切都非常好👍！特别是沟通和服务态度👍！谢谢。\n"
     ]
    }
   ],
   "source": [
    "print_comments_with_emojis(test_merged_data_demojized, 'comments')"
   ]
  },
  {
   "cell_type": "markdown",
   "metadata": {},
   "source": [
    "We still have a very small percentage of emojis remaining after running the conversion function, it might be due to several factors such as unsupported emojis, non-standard emoji representations, or limitations in the emoji library. In our to prevent data leakage our decisions will be based on training data, and the test data is processed using the same rules established from the training data.\n",
    "\n"
   ]
  },
  {
   "cell_type": "markdown",
   "metadata": {},
   "source": [
    "Based on the training set, we created a dictionary mapping emojis to their textual representations. Any emoji not found in the custom dictionary will be replaced with a generic placeholder :emoji:\n",
    "\n",
    "textual representations can be found here: https://www.w3schools.com/charsets/ref_emoji_smileys.asp\n",
    "\n",
    "https://www.geeksforgeeks.org/convert-emoji-into-text-in-python/"
   ]
  },
  {
   "cell_type": "code",
   "execution_count": 66,
   "metadata": {},
   "outputs": [],
   "source": [
    "remaining_emoji_dict = {\n",
    "    '💥': ':collision:',\n",
    "    '🤭': ':face_with_hand_over_mouth:',\n",
    "    '☺️': ':white_smiling_face:',\n",
    "    '🤩': ':star-struck:',\n",
    "    '💪🏽': ':flexed_biceps_dark_skin_tone:',\n",
    "    '👍': ':thumbs_up:',\n",
    "    '⭐': ':star:',\n",
    "    '😊': ':smiling_face_with_smiling_eyes:',\n",
    "    '👌': ':ok_hand:',\n",
    "    '👌🏼': ':ok_hand::light_skin_tone:',\n",
    "    '👍🏻': ':thumbs_up_light_skin_tone:',\n",
    "    '👍🏽': ':thumbs_up_medium-dark_skin_tone:',\n",
    "    '😘': ':face_blowing_a_kiss:',\n",
    "    '🤗': ':hugging_face:',\n",
    "    '😉': ':winking_face:',\n",
    "    '🌟': ':glowing_star:',\n",
    "    '🙂': ':slightly_smiling_face:',\n",
    "    '😱': ':face_screaming_in_fear:',\n",
    "    '😃': ':grinning_face_with_big_eyes:',\n",
    "    '❤️': ':heart:',\n",
    "    '🥰': ':smiling_face_with_hearts:',\n",
    "    '😇':'smiling_face_with_halo:',\n",
    "    '🤙🏼': \":call_me_hand_medium-light_skin_tone:\",\n",
    "    '🤙': \":call_me_hand:\",\n",
    "    '👏': ':clapping_hands:',\n",
    "    '👏🏼': ':clapping_hands::light_skin_tone:',\n",
    "    '💚': ':green_heart:',\n",
    "    '🙂': ':slightly_smiling_face:',\n",
    "    '🔝': ':top_arrow:',\n",
    "    '👌🏽': ':ok_hand::medium_skin_tone:',\n",
    "    '😁': ':beaming_face_with_smiling_eyes:',\n",
    "    '😂': ':face_with_tears_of_joy:',\n",
    "    '🇵🇹': ':flag_Portugal:',\n",
    "    '😍': ':smiling_face_with_heart-eyes:',\n",
    "    '✨': ':sparkles:',\n",
    "    '🙏🏻': ':folded_hands::light_skin_tone:',\n",
    "    '⭐': ':star:',\n",
    "    '😏': ':smirking_face:',\n",
    "    '😋': ':face_savoring_food:',\n",
    "    '🐝': ':honeybee:',\n",
    "    '😎': ':smiling_face_with_sunglasses:',\n",
    "    '💯': ':hundred_points:',\n",
    "    '🎇': ':sparkler:',\n",
    "    '🖤': ':black_heart:',\n",
    "    '😌': ':relieved_face:',\n",
    "    '🐈': ':cat:',\n",
    "    '🎈': ':balons:',\n",
    "    '💕': ':two_hearts:',\n",
    "    '🚀': ':rocket:',\n",
    "    '🌞': ':sun_with_face:',\n",
    "    '🍋': ':lemon:',\n",
    "    '😜':':stuck_out_tongue_winking_eye:',\n",
    "    '🪨': ':rock:',\n",
    "    '✌️': ':victory_hand:',\n",
    "    '🔑': ':key:',\n",
    "    '😃': ':grinning_face_with_big_eyes:',\n",
    "    '😀':':grinning_face:',\n",
    "    '✔️':':check_mark:',\n",
    "    '🉐':':Japanese_acceptable_button:',\n",
    "    '🤪':':zany_face:',\n",
    "    '😆': ':grinning_squinting_face:',\n",
    "    '🌅': ':sunrise:',\n",
    "    '🌸': ':cherry_blossom:',\n",
    "    '🦫': ':beaver:',\n",
    "    '🎷': ':saxophone:',\n",
    "    '🔥':':fire:',\n",
    "    '🐐':':goat:',\n",
    "    '🤝':':handshake:',\n",
    "    '☹️':':frowning_face:',\n",
    "    '☀️':':sun:',\n",
    "    '🌱': ':seedling:',\n",
    "    '✅': ':white_heavy_check_mark:',\n",
    "    '🌹': ':rose:',\n",
    "    '🙈': ':see-no-evil_monkey:',\n",
    "    '💗': ':growing_heart:',\n",
    "    '🏖️': ':beach:',\n",
    "    '👌🏾': ':ok_hand::medium-dark_skin_tone:',\n",
    "    '♥️': ':heart_suit:',\n",
    "    '❤️': ':red_heart:',\n",
    "    '🙌🏻':':raising_hands::light_skin_tone:',\n",
    "    '🙌🏾':':raising_hands::medium-dark_skin_tone:',\n",
    "    '☔':':umbrella_with_rain_drops:',\n",
    "    '🇧🇪':':flag_Belgium:',\n",
    "    '👎🏽':':thumbs_down::medium_skin_tone:',\n",
    "    '👍🏼':':thumbs_up::medium-light_skin_tone:',\n",
    "    '🤨':':face_with_raised_eyebrow:',\n",
    "    '😭':':loudly_crying_face:',\n",
    "    '👍🏾':':thumbs_up::medium-dark_skin_tone:',\n",
    "    '🤟🏻':':love-you_gesture::light_skin_tone:',\n",
    "    '🙁':':slightly_frowning_face:',\n",
    "    '🤣':':rolling_on_the_floor_laughing:',\n",
    "    '👌🏿':':ok_hand::dark_skin_tone:',\n",
    "    '🇩🇰':':flag_Denmark:',\n",
    "    '❣️':':heavy_heart_exclamation_mark_ornament:',\n",
    "    \n",
    "    \n",
    "    \n",
    "    \n",
    "}\n",
    "\n"
   ]
  },
  {
   "cell_type": "code",
   "execution_count": 67,
   "metadata": {},
   "outputs": [],
   "source": [
    "import emoji\n",
    "\n",
    "\n",
    "import emoji\n",
    "\n",
    "# Define a function to check if a text contains any emojis\n",
    "def has_emojis(text):\n",
    "    return any(emoji.is_emoji(char) for char in text)\n",
    "\n",
    "# Define a function to replace the remaining emojis using a custom dictionary\n",
    "def custom_replace_remaining_emojis(text, emoji_dict):\n",
    "    for emj, desc in emoji_dict.items():\n",
    "        text = text.replace(emj, desc)\n",
    "    return text\n",
    "\n",
    "# Define a function to replace any unknown emojis with a placeholder\n",
    "def replace_unknown_emojis(text):\n",
    "    return emoji.replace_emoji(text, replace=\":emoji:\")\n",
    "\n",
    "# Define a function to process remaining emojis in the dataframe\n",
    "def process_remaining_emojis(dataframe, column_text, emoji_dict):\n",
    "    dataframe_copy = dataframe.copy()\n",
    "\n",
    "    def convert_text_with_remaining_dict(text):\n",
    "        if has_emojis(text):\n",
    "            text = custom_replace_remaining_emojis(text, emoji_dict)\n",
    "            text = replace_unknown_emojis(text)\n",
    "            return text\n",
    "        else:\n",
    "            return text\n",
    "\n",
    "    dataframe_copy[column_text] = dataframe_copy[column_text].apply(convert_text_with_remaining_dict)\n",
    "    return dataframe_copy\n",
    "\n",
    "\n",
    "\n",
    "\n"
   ]
  },
  {
   "cell_type": "code",
   "execution_count": 68,
   "metadata": {},
   "outputs": [],
   "source": [
    "merged_data_demojized = process_remaining_emojis(merged_data_demojized, 'comments', remaining_emoji_dict)\n",
    "merged_data_demojized = process_remaining_emojis(merged_data_demojized, 'description', remaining_emoji_dict)\n",
    "test_merged_data_demojized = process_remaining_emojis(test_merged_data_demojized, 'description', remaining_emoji_dict)\n",
    "test_merged_data_demojized = process_remaining_emojis(test_merged_data_demojized, 'comments', remaining_emoji_dict)\n",
    "\n",
    "\n",
    "\n",
    "\n"
   ]
  },
  {
   "cell_type": "code",
   "execution_count": 69,
   "metadata": {},
   "outputs": [
    {
     "name": "stdout",
     "output_type": "stream",
     "text": [
      "Comments with emojis after processing:\n",
      "Comments with emojis after processing:\n",
      "Comments with emojis after processing:\n",
      "Comments with emojis after processing:\n"
     ]
    }
   ],
   "source": [
    "def print_comments_with_emojis(dataframe, column_text):\n",
    "    with_emojis = dataframe[dataframe[column_text].apply(has_emojis)]\n",
    "    print(\"Comments with emojis after processing:\")\n",
    "    for index, row in with_emojis.iterrows():\n",
    "        print(f\"Index {index}: {row[column_text]}\")\n",
    "\n",
    "print_comments_with_emojis(merged_data_demojized, 'comments')\n",
    "print_comments_with_emojis(test_merged_data_demojized, 'comments')\n",
    "print_comments_with_emojis(merged_data_demojized, 'description')\n",
    "print_comments_with_emojis(test_merged_data_demojized, 'description')"
   ]
  },
  {
   "cell_type": "markdown",
   "metadata": {},
   "source": [
    "# Train- test- Split"
   ]
  },
  {
   "cell_type": "code",
   "execution_count": 70,
   "metadata": {},
   "outputs": [
    {
     "data": {
      "text/html": [
       "<div>\n",
       "<style scoped>\n",
       "    .dataframe tbody tr th:only-of-type {\n",
       "        vertical-align: middle;\n",
       "    }\n",
       "\n",
       "    .dataframe tbody tr th {\n",
       "        vertical-align: top;\n",
       "    }\n",
       "\n",
       "    .dataframe thead th {\n",
       "        text-align: right;\n",
       "    }\n",
       "</style>\n",
       "<table border=\"1\" class=\"dataframe\">\n",
       "  <thead>\n",
       "    <tr style=\"text-align: right;\">\n",
       "      <th></th>\n",
       "      <th>houseID</th>\n",
       "      <th>description</th>\n",
       "      <th>host_about</th>\n",
       "      <th>unlisted</th>\n",
       "      <th>description_language</th>\n",
       "      <th>comments</th>\n",
       "      <th>comment_language</th>\n",
       "    </tr>\n",
       "  </thead>\n",
       "  <tbody>\n",
       "    <tr>\n",
       "      <th>0</th>\n",
       "      <td>1</td>\n",
       "      <td>This is a shared mixed room in our hostel, wit...</td>\n",
       "      <td>Alojamento Local Registro: 20835/AL</td>\n",
       "      <td>0</td>\n",
       "      <td>en</td>\n",
       "      <td>this is a very cozy and comfortable house to s...</td>\n",
       "      <td>en</td>\n",
       "    </tr>\n",
       "    <tr>\n",
       "      <th>1</th>\n",
       "      <td>1</td>\n",
       "      <td>This is a shared mixed room in our hostel, wit...</td>\n",
       "      <td>Alojamento Local Registro: 20835/AL</td>\n",
       "      <td>0</td>\n",
       "      <td>en</td>\n",
       "      <td>good&lt;br/&gt;</td>\n",
       "      <td>cy</td>\n",
       "    </tr>\n",
       "    <tr>\n",
       "      <th>2</th>\n",
       "      <td>1</td>\n",
       "      <td>This is a shared mixed room in our hostel, wit...</td>\n",
       "      <td>Alojamento Local Registro: 20835/AL</td>\n",
       "      <td>0</td>\n",
       "      <td>en</td>\n",
       "      <td>My first hostel experience, and all I have to ...</td>\n",
       "      <td>en</td>\n",
       "    </tr>\n",
       "    <tr>\n",
       "      <th>3</th>\n",
       "      <td>1</td>\n",
       "      <td>This is a shared mixed room in our hostel, wit...</td>\n",
       "      <td>Alojamento Local Registro: 20835/AL</td>\n",
       "      <td>0</td>\n",
       "      <td>en</td>\n",
       "      <td>Das Hostel war neu und deshalb funktionierte a...</td>\n",
       "      <td>de</td>\n",
       "    </tr>\n",
       "    <tr>\n",
       "      <th>4</th>\n",
       "      <td>1</td>\n",
       "      <td>This is a shared mixed room in our hostel, wit...</td>\n",
       "      <td>Alojamento Local Registro: 20835/AL</td>\n",
       "      <td>0</td>\n",
       "      <td>en</td>\n",
       "      <td>It was fine for a dorm, but I think for the pe...</td>\n",
       "      <td>en</td>\n",
       "    </tr>\n",
       "    <tr>\n",
       "      <th>...</th>\n",
       "      <td>...</td>\n",
       "      <td>...</td>\n",
       "      <td>...</td>\n",
       "      <td>...</td>\n",
       "      <td>...</td>\n",
       "      <td>...</td>\n",
       "      <td>...</td>\n",
       "    </tr>\n",
       "    <tr>\n",
       "      <th>363279</th>\n",
       "      <td>6248</td>\n",
       "      <td>These apartments are very well located in a go...</td>\n",
       "      <td>A base da minha vida é a minha família e a min...</td>\n",
       "      <td>0</td>\n",
       "      <td>en</td>\n",
       "      <td>The location was perfect. The apartment was ve...</td>\n",
       "      <td>en</td>\n",
       "    </tr>\n",
       "    <tr>\n",
       "      <th>363280</th>\n",
       "      <td>6248</td>\n",
       "      <td>These apartments are very well located in a go...</td>\n",
       "      <td>A base da minha vida é a minha família e a min...</td>\n",
       "      <td>0</td>\n",
       "      <td>en</td>\n",
       "      <td>Ana's place is exactly as described and even b...</td>\n",
       "      <td>en</td>\n",
       "    </tr>\n",
       "    <tr>\n",
       "      <th>363281</th>\n",
       "      <td>6248</td>\n",
       "      <td>These apartments are very well located in a go...</td>\n",
       "      <td>A base da minha vida é a minha família e a min...</td>\n",
       "      <td>0</td>\n",
       "      <td>en</td>\n",
       "      <td>A Ana foi muito atenciosa e preocupou se com o...</td>\n",
       "      <td>pt</td>\n",
       "    </tr>\n",
       "    <tr>\n",
       "      <th>363282</th>\n",
       "      <td>6248</td>\n",
       "      <td>These apartments are very well located in a go...</td>\n",
       "      <td>A base da minha vida é a minha família e a min...</td>\n",
       "      <td>0</td>\n",
       "      <td>en</td>\n",
       "      <td>No wifi nor answer. &lt;br/&gt;The wifi can’t be con...</td>\n",
       "      <td>en</td>\n",
       "    </tr>\n",
       "    <tr>\n",
       "      <th>363283</th>\n",
       "      <td>6248</td>\n",
       "      <td>These apartments are very well located in a go...</td>\n",
       "      <td>A base da minha vida é a minha família e a min...</td>\n",
       "      <td>0</td>\n",
       "      <td>en</td>\n",
       "      <td>O espaço é ótimo, a D. Ana foi maravilhosa e f...</td>\n",
       "      <td>pt</td>\n",
       "    </tr>\n",
       "  </tbody>\n",
       "</table>\n",
       "<p>363284 rows × 7 columns</p>\n",
       "</div>"
      ],
      "text/plain": [
       "        houseID                                        description  \\\n",
       "0             1  This is a shared mixed room in our hostel, wit...   \n",
       "1             1  This is a shared mixed room in our hostel, wit...   \n",
       "2             1  This is a shared mixed room in our hostel, wit...   \n",
       "3             1  This is a shared mixed room in our hostel, wit...   \n",
       "4             1  This is a shared mixed room in our hostel, wit...   \n",
       "...         ...                                                ...   \n",
       "363279     6248  These apartments are very well located in a go...   \n",
       "363280     6248  These apartments are very well located in a go...   \n",
       "363281     6248  These apartments are very well located in a go...   \n",
       "363282     6248  These apartments are very well located in a go...   \n",
       "363283     6248  These apartments are very well located in a go...   \n",
       "\n",
       "                                               host_about  unlisted  \\\n",
       "0                     Alojamento Local Registro: 20835/AL         0   \n",
       "1                     Alojamento Local Registro: 20835/AL         0   \n",
       "2                     Alojamento Local Registro: 20835/AL         0   \n",
       "3                     Alojamento Local Registro: 20835/AL         0   \n",
       "4                     Alojamento Local Registro: 20835/AL         0   \n",
       "...                                                   ...       ...   \n",
       "363279  A base da minha vida é a minha família e a min...         0   \n",
       "363280  A base da minha vida é a minha família e a min...         0   \n",
       "363281  A base da minha vida é a minha família e a min...         0   \n",
       "363282  A base da minha vida é a minha família e a min...         0   \n",
       "363283  A base da minha vida é a minha família e a min...         0   \n",
       "\n",
       "       description_language  \\\n",
       "0                        en   \n",
       "1                        en   \n",
       "2                        en   \n",
       "3                        en   \n",
       "4                        en   \n",
       "...                     ...   \n",
       "363279                   en   \n",
       "363280                   en   \n",
       "363281                   en   \n",
       "363282                   en   \n",
       "363283                   en   \n",
       "\n",
       "                                                 comments comment_language  \n",
       "0       this is a very cozy and comfortable house to s...               en  \n",
       "1                                               good<br/>               cy  \n",
       "2       My first hostel experience, and all I have to ...               en  \n",
       "3       Das Hostel war neu und deshalb funktionierte a...               de  \n",
       "4       It was fine for a dorm, but I think for the pe...               en  \n",
       "...                                                   ...              ...  \n",
       "363279  The location was perfect. The apartment was ve...               en  \n",
       "363280  Ana's place is exactly as described and even b...               en  \n",
       "363281  A Ana foi muito atenciosa e preocupou se com o...               pt  \n",
       "363282  No wifi nor answer. <br/>The wifi can’t be con...               en  \n",
       "363283  O espaço é ótimo, a D. Ana foi maravilhosa e f...               pt  \n",
       "\n",
       "[363284 rows x 7 columns]"
      ]
     },
     "execution_count": 70,
     "metadata": {},
     "output_type": "execute_result"
    }
   ],
   "source": [
    "merged_data_demojized"
   ]
  },
  {
   "cell_type": "code",
   "execution_count": 71,
   "metadata": {},
   "outputs": [
    {
     "data": {
      "text/html": [
       "<div>\n",
       "<style scoped>\n",
       "    .dataframe tbody tr th:only-of-type {\n",
       "        vertical-align: middle;\n",
       "    }\n",
       "\n",
       "    .dataframe tbody tr th {\n",
       "        vertical-align: top;\n",
       "    }\n",
       "\n",
       "    .dataframe thead th {\n",
       "        text-align: right;\n",
       "    }\n",
       "</style>\n",
       "<table border=\"1\" class=\"dataframe\">\n",
       "  <thead>\n",
       "    <tr style=\"text-align: right;\">\n",
       "      <th></th>\n",
       "      <th>houseID</th>\n",
       "      <th>description</th>\n",
       "      <th>host_about</th>\n",
       "      <th>description_language</th>\n",
       "      <th>comments</th>\n",
       "      <th>comment_language</th>\n",
       "    </tr>\n",
       "  </thead>\n",
       "  <tbody>\n",
       "    <tr>\n",
       "      <th>0</th>\n",
       "      <td>1</td>\n",
       "      <td>&lt;b&gt;The space&lt;/b&gt;&lt;br /&gt;Apartment located in the...</td>\n",
       "      <td>Gosto de viajar, de conhecer pessoas, gosto de...</td>\n",
       "      <td>en</td>\n",
       "      <td>Thank you very much Antonio ! All has been per...</td>\n",
       "      <td>en</td>\n",
       "    </tr>\n",
       "    <tr>\n",
       "      <th>1</th>\n",
       "      <td>1</td>\n",
       "      <td>&lt;b&gt;The space&lt;/b&gt;&lt;br /&gt;Apartment located in the...</td>\n",
       "      <td>Gosto de viajar, de conhecer pessoas, gosto de...</td>\n",
       "      <td>en</td>\n",
       "      <td>Very nice appartment in the old town of Lissab...</td>\n",
       "      <td>en</td>\n",
       "    </tr>\n",
       "    <tr>\n",
       "      <th>2</th>\n",
       "      <td>1</td>\n",
       "      <td>&lt;b&gt;The space&lt;/b&gt;&lt;br /&gt;Apartment located in the...</td>\n",
       "      <td>Gosto de viajar, de conhecer pessoas, gosto de...</td>\n",
       "      <td>en</td>\n",
       "      <td>When travelling we're looking for kids friendl...</td>\n",
       "      <td>en</td>\n",
       "    </tr>\n",
       "    <tr>\n",
       "      <th>3</th>\n",
       "      <td>1</td>\n",
       "      <td>&lt;b&gt;The space&lt;/b&gt;&lt;br /&gt;Apartment located in the...</td>\n",
       "      <td>Gosto de viajar, de conhecer pessoas, gosto de...</td>\n",
       "      <td>en</td>\n",
       "      <td>We've been in Lisbon in march 2013 (3 adults a...</td>\n",
       "      <td>en</td>\n",
       "    </tr>\n",
       "    <tr>\n",
       "      <th>4</th>\n",
       "      <td>1</td>\n",
       "      <td>&lt;b&gt;The space&lt;/b&gt;&lt;br /&gt;Apartment located in the...</td>\n",
       "      <td>Gosto de viajar, de conhecer pessoas, gosto de...</td>\n",
       "      <td>en</td>\n",
       "      <td>Our host Antonio was very helpful with informa...</td>\n",
       "      <td>en</td>\n",
       "    </tr>\n",
       "    <tr>\n",
       "      <th>...</th>\n",
       "      <td>...</td>\n",
       "      <td>...</td>\n",
       "      <td>...</td>\n",
       "      <td>...</td>\n",
       "      <td>...</td>\n",
       "      <td>...</td>\n",
       "    </tr>\n",
       "    <tr>\n",
       "      <th>42081</th>\n",
       "      <td>695</td>\n",
       "      <td>Apartment with terrace located in the heart of...</td>\n",
       "      <td>Founded by travel enthusiasts (just like you) ...</td>\n",
       "      <td>en</td>\n",
       "      <td>Everything was fine!</td>\n",
       "      <td>en</td>\n",
       "    </tr>\n",
       "    <tr>\n",
       "      <th>42082</th>\n",
       "      <td>695</td>\n",
       "      <td>Apartment with terrace located in the heart of...</td>\n",
       "      <td>Founded by travel enthusiasts (just like you) ...</td>\n",
       "      <td>en</td>\n",
       "      <td>Very good located</td>\n",
       "      <td>en</td>\n",
       "    </tr>\n",
       "    <tr>\n",
       "      <th>42083</th>\n",
       "      <td>695</td>\n",
       "      <td>Apartment with terrace located in the heart of...</td>\n",
       "      <td>Founded by travel enthusiasts (just like you) ...</td>\n",
       "      <td>en</td>\n",
       "      <td>Appartement confortable conforme aux photos bi...</td>\n",
       "      <td>fr</td>\n",
       "    </tr>\n",
       "    <tr>\n",
       "      <th>42084</th>\n",
       "      <td>695</td>\n",
       "      <td>Apartment with terrace located in the heart of...</td>\n",
       "      <td>Founded by travel enthusiasts (just like you) ...</td>\n",
       "      <td>en</td>\n",
       "      <td>Très bon logement pour un week-end prolongé à ...</td>\n",
       "      <td>fr</td>\n",
       "    </tr>\n",
       "    <tr>\n",
       "      <th>42085</th>\n",
       "      <td>695</td>\n",
       "      <td>Apartment with terrace located in the heart of...</td>\n",
       "      <td>Founded by travel enthusiasts (just like you) ...</td>\n",
       "      <td>en</td>\n",
       "      <td>The location for this apartment is great. You'...</td>\n",
       "      <td>en</td>\n",
       "    </tr>\n",
       "  </tbody>\n",
       "</table>\n",
       "<p>42086 rows × 6 columns</p>\n",
       "</div>"
      ],
      "text/plain": [
       "       houseID                                        description  \\\n",
       "0            1  <b>The space</b><br />Apartment located in the...   \n",
       "1            1  <b>The space</b><br />Apartment located in the...   \n",
       "2            1  <b>The space</b><br />Apartment located in the...   \n",
       "3            1  <b>The space</b><br />Apartment located in the...   \n",
       "4            1  <b>The space</b><br />Apartment located in the...   \n",
       "...        ...                                                ...   \n",
       "42081      695  Apartment with terrace located in the heart of...   \n",
       "42082      695  Apartment with terrace located in the heart of...   \n",
       "42083      695  Apartment with terrace located in the heart of...   \n",
       "42084      695  Apartment with terrace located in the heart of...   \n",
       "42085      695  Apartment with terrace located in the heart of...   \n",
       "\n",
       "                                              host_about description_language  \\\n",
       "0      Gosto de viajar, de conhecer pessoas, gosto de...                   en   \n",
       "1      Gosto de viajar, de conhecer pessoas, gosto de...                   en   \n",
       "2      Gosto de viajar, de conhecer pessoas, gosto de...                   en   \n",
       "3      Gosto de viajar, de conhecer pessoas, gosto de...                   en   \n",
       "4      Gosto de viajar, de conhecer pessoas, gosto de...                   en   \n",
       "...                                                  ...                  ...   \n",
       "42081  Founded by travel enthusiasts (just like you) ...                   en   \n",
       "42082  Founded by travel enthusiasts (just like you) ...                   en   \n",
       "42083  Founded by travel enthusiasts (just like you) ...                   en   \n",
       "42084  Founded by travel enthusiasts (just like you) ...                   en   \n",
       "42085  Founded by travel enthusiasts (just like you) ...                   en   \n",
       "\n",
       "                                                comments comment_language  \n",
       "0      Thank you very much Antonio ! All has been per...               en  \n",
       "1      Very nice appartment in the old town of Lissab...               en  \n",
       "2      When travelling we're looking for kids friendl...               en  \n",
       "3      We've been in Lisbon in march 2013 (3 adults a...               en  \n",
       "4      Our host Antonio was very helpful with informa...               en  \n",
       "...                                                  ...              ...  \n",
       "42081                               Everything was fine!               en  \n",
       "42082                                  Very good located               en  \n",
       "42083  Appartement confortable conforme aux photos bi...               fr  \n",
       "42084  Très bon logement pour un week-end prolongé à ...               fr  \n",
       "42085  The location for this apartment is great. You'...               en  \n",
       "\n",
       "[42086 rows x 6 columns]"
      ]
     },
     "execution_count": 71,
     "metadata": {},
     "output_type": "execute_result"
    }
   ],
   "source": [
    "test_merged_data_demojized"
   ]
  },
  {
   "cell_type": "code",
   "execution_count": 223,
   "metadata": {},
   "outputs": [],
   "source": [
    "from sklearn.model_selection import train_test_split\n",
    "\n",
    "X_train, X_val, y_train, y_val = train_test_split(merged_data_demojized[['description', 'host_about', 'description_language', 'comments', 'comment_language']], merged_data_demojized[['unlisted', 'houseID']], test_size=0.2, random_state=42)\n",
    "\n",
    "\n",
    "\n"
   ]
  },
  {
   "cell_type": "code",
   "execution_count": null,
   "metadata": {},
   "outputs": [],
   "source": []
  },
  {
   "cell_type": "code",
   "execution_count": 224,
   "metadata": {},
   "outputs": [],
   "source": [
    "# Create copies of the split data\n",
    "X_train_copy = X_train.copy()\n",
    "X_val_copy = X_val.copy()\n",
    "y_train_copy = y_train.copy()\n",
    "y_val_copy = y_val.copy()\n"
   ]
  },
  {
   "cell_type": "code",
   "execution_count": 225,
   "metadata": {},
   "outputs": [
    {
     "name": "stdout",
     "output_type": "stream",
     "text": [
      "<class 'pandas.core.frame.DataFrame'>\n",
      "Int64Index: 290627 entries, 296776 to 121958\n",
      "Data columns (total 5 columns):\n",
      " #   Column                Non-Null Count   Dtype \n",
      "---  ------                --------------   ----- \n",
      " 0   description           290627 non-null  object\n",
      " 1   host_about            290627 non-null  object\n",
      " 2   description_language  290627 non-null  object\n",
      " 3   comments              290627 non-null  object\n",
      " 4   comment_language      290627 non-null  object\n",
      "dtypes: object(5)\n",
      "memory usage: 13.3+ MB\n"
     ]
    }
   ],
   "source": [
    "X_train.info()"
   ]
  },
  {
   "cell_type": "code",
   "execution_count": 226,
   "metadata": {},
   "outputs": [
    {
     "data": {
      "text/html": [
       "<div>\n",
       "<style scoped>\n",
       "    .dataframe tbody tr th:only-of-type {\n",
       "        vertical-align: middle;\n",
       "    }\n",
       "\n",
       "    .dataframe tbody tr th {\n",
       "        vertical-align: top;\n",
       "    }\n",
       "\n",
       "    .dataframe thead th {\n",
       "        text-align: right;\n",
       "    }\n",
       "</style>\n",
       "<table border=\"1\" class=\"dataframe\">\n",
       "  <thead>\n",
       "    <tr style=\"text-align: right;\">\n",
       "      <th></th>\n",
       "      <th>description</th>\n",
       "      <th>host_about</th>\n",
       "      <th>description_language</th>\n",
       "      <th>comments</th>\n",
       "      <th>comment_language</th>\n",
       "    </tr>\n",
       "  </thead>\n",
       "  <tbody>\n",
       "    <tr>\n",
       "      <th>296776</th>\n",
       "      <td>This apartment is the best choice for those wh...</td>\n",
       "      <td>Hi, my name is David and I'm renting out sever...</td>\n",
       "      <td>en</td>\n",
       "      <td>Very good stay and trip to Lisbon!!_x000D_&lt;br/...</td>\n",
       "      <td>en</td>\n",
       "    </tr>\n",
       "    <tr>\n",
       "      <th>97872</th>\n",
       "      <td>\"Bijou, cute, amazing, lovers' retreat, honeym...</td>\n",
       "      <td>I am english, living in Sintra, and my husband...</td>\n",
       "      <td>en</td>\n",
       "      <td>Beautiful spot. Incredible setting and view. L...</td>\n",
       "      <td>en</td>\n",
       "    </tr>\n",
       "    <tr>\n",
       "      <th>306410</th>\n",
       "      <td>Bairro Alto is one of the liveliest and younge...</td>\n",
       "      <td>Bairro Alto, fun &amp; rock &amp; roll</td>\n",
       "      <td>en</td>\n",
       "      <td>המקום היה מעל לכל צפייה.&lt;br/&gt;המאחר היה אכפתי ו...</td>\n",
       "      <td>he</td>\n",
       "    </tr>\n",
       "    <tr>\n",
       "      <th>35677</th>\n",
       "      <td>Located in one of the most traditional distric...</td>\n",
       "      <td>Hometown Experience Lisbon is a company specia...</td>\n",
       "      <td>en</td>\n",
       "      <td>Thank you for making us feel very welcome Char...</td>\n",
       "      <td>en</td>\n",
       "    </tr>\n",
       "    <tr>\n",
       "      <th>230579</th>\n",
       "      <td>Central location, ideal for exploring Lisbon. ...</td>\n",
       "      <td>I worked as a Deck Officer in the Portuguese ...</td>\n",
       "      <td>en</td>\n",
       "      <td>Que des compliments. Très bon accueil, appart ...</td>\n",
       "      <td>fr</td>\n",
       "    </tr>\n",
       "    <tr>\n",
       "      <th>...</th>\n",
       "      <td>...</td>\n",
       "      <td>...</td>\n",
       "      <td>...</td>\n",
       "      <td>...</td>\n",
       "      <td>...</td>\n",
       "    </tr>\n",
       "    <tr>\n",
       "      <th>119879</th>\n",
       "      <td>The Mouraria Duplex Apartment is located on th...</td>\n",
       "      <td>I am from Portugal and I love traveling</td>\n",
       "      <td>en</td>\n",
       "      <td>Logement conforme à la description, vraiment t...</td>\n",
       "      <td>fr</td>\n",
       "    </tr>\n",
       "    <tr>\n",
       "      <th>259178</th>\n",
       "      <td>Amazing Modern one bedroom apartment near Merc...</td>\n",
       "      <td>We are Feels Like Home Holiday Rentals.\\nA com...</td>\n",
       "      <td>en</td>\n",
       "      <td>Great location! Stylish apartment with many am...</td>\n",
       "      <td>en</td>\n",
       "    </tr>\n",
       "    <tr>\n",
       "      <th>131932</th>\n",
       "      <td>A Fantastic Comfy 1 Bed Apartment with finely ...</td>\n",
       "      <td>Hello,\\nI´m from Tomar, used to live in London...</td>\n",
       "      <td>en</td>\n",
       "      <td>We had a great time at William's flat. He was ...</td>\n",
       "      <td>en</td>\n",
       "    </tr>\n",
       "    <tr>\n",
       "      <th>146867</th>\n",
       "      <td>Bed in a 4 mixed dorm shared wc&lt;br /&gt;&lt;br /&gt;&lt;b&gt;...</td>\n",
       "      <td>If you’re looking for a fun, fresh and friendl...</td>\n",
       "      <td>en</td>\n",
       "      <td>I Highly recommend this hostel.</td>\n",
       "      <td>en</td>\n",
       "    </tr>\n",
       "    <tr>\n",
       "      <th>121958</th>\n",
       "      <td>Ideal para  2 pessoas pode acomoda até 4 pesso...</td>\n",
       "      <td>Tenho paixão pelo tango.</td>\n",
       "      <td>pt</td>\n",
       "      <td>Das Apartment war einfach super schön und auch...</td>\n",
       "      <td>de</td>\n",
       "    </tr>\n",
       "  </tbody>\n",
       "</table>\n",
       "<p>290627 rows × 5 columns</p>\n",
       "</div>"
      ],
      "text/plain": [
       "                                              description  \\\n",
       "296776  This apartment is the best choice for those wh...   \n",
       "97872   \"Bijou, cute, amazing, lovers' retreat, honeym...   \n",
       "306410  Bairro Alto is one of the liveliest and younge...   \n",
       "35677   Located in one of the most traditional distric...   \n",
       "230579  Central location, ideal for exploring Lisbon. ...   \n",
       "...                                                   ...   \n",
       "119879  The Mouraria Duplex Apartment is located on th...   \n",
       "259178  Amazing Modern one bedroom apartment near Merc...   \n",
       "131932  A Fantastic Comfy 1 Bed Apartment with finely ...   \n",
       "146867  Bed in a 4 mixed dorm shared wc<br /><br /><b>...   \n",
       "121958  Ideal para  2 pessoas pode acomoda até 4 pesso...   \n",
       "\n",
       "                                               host_about  \\\n",
       "296776  Hi, my name is David and I'm renting out sever...   \n",
       "97872   I am english, living in Sintra, and my husband...   \n",
       "306410                     Bairro Alto, fun & rock & roll   \n",
       "35677   Hometown Experience Lisbon is a company specia...   \n",
       "230579   I worked as a Deck Officer in the Portuguese ...   \n",
       "...                                                   ...   \n",
       "119879           I am from Portugal and I love traveling    \n",
       "259178  We are Feels Like Home Holiday Rentals.\\nA com...   \n",
       "131932  Hello,\\nI´m from Tomar, used to live in London...   \n",
       "146867  If you’re looking for a fun, fresh and friendl...   \n",
       "121958                           Tenho paixão pelo tango.   \n",
       "\n",
       "       description_language  \\\n",
       "296776                   en   \n",
       "97872                    en   \n",
       "306410                   en   \n",
       "35677                    en   \n",
       "230579                   en   \n",
       "...                     ...   \n",
       "119879                   en   \n",
       "259178                   en   \n",
       "131932                   en   \n",
       "146867                   en   \n",
       "121958                   pt   \n",
       "\n",
       "                                                 comments comment_language  \n",
       "296776  Very good stay and trip to Lisbon!!_x000D_<br/...               en  \n",
       "97872   Beautiful spot. Incredible setting and view. L...               en  \n",
       "306410  המקום היה מעל לכל צפייה.<br/>המאחר היה אכפתי ו...               he  \n",
       "35677   Thank you for making us feel very welcome Char...               en  \n",
       "230579  Que des compliments. Très bon accueil, appart ...               fr  \n",
       "...                                                   ...              ...  \n",
       "119879  Logement conforme à la description, vraiment t...               fr  \n",
       "259178  Great location! Stylish apartment with many am...               en  \n",
       "131932  We had a great time at William's flat. He was ...               en  \n",
       "146867                    I Highly recommend this hostel.               en  \n",
       "121958  Das Apartment war einfach super schön und auch...               de  \n",
       "\n",
       "[290627 rows x 5 columns]"
      ]
     },
     "execution_count": 226,
     "metadata": {},
     "output_type": "execute_result"
    }
   ],
   "source": [
    "X_train"
   ]
  },
  {
   "cell_type": "code",
   "execution_count": 227,
   "metadata": {},
   "outputs": [
    {
     "name": "stdout",
     "output_type": "stream",
     "text": [
      "<class 'pandas.core.frame.DataFrame'>\n",
      "Int64Index: 72657 entries, 106895 to 63768\n",
      "Data columns (total 5 columns):\n",
      " #   Column                Non-Null Count  Dtype \n",
      "---  ------                --------------  ----- \n",
      " 0   description           72657 non-null  object\n",
      " 1   host_about            72657 non-null  object\n",
      " 2   description_language  72657 non-null  object\n",
      " 3   comments              72657 non-null  object\n",
      " 4   comment_language      72657 non-null  object\n",
      "dtypes: object(5)\n",
      "memory usage: 3.3+ MB\n"
     ]
    }
   ],
   "source": [
    "X_val.info()"
   ]
  },
  {
   "cell_type": "code",
   "execution_count": 228,
   "metadata": {},
   "outputs": [
    {
     "data": {
      "text/html": [
       "<div>\n",
       "<style scoped>\n",
       "    .dataframe tbody tr th:only-of-type {\n",
       "        vertical-align: middle;\n",
       "    }\n",
       "\n",
       "    .dataframe tbody tr th {\n",
       "        vertical-align: top;\n",
       "    }\n",
       "\n",
       "    .dataframe thead th {\n",
       "        text-align: right;\n",
       "    }\n",
       "</style>\n",
       "<table border=\"1\" class=\"dataframe\">\n",
       "  <thead>\n",
       "    <tr style=\"text-align: right;\">\n",
       "      <th></th>\n",
       "      <th>description</th>\n",
       "      <th>host_about</th>\n",
       "      <th>description_language</th>\n",
       "      <th>comments</th>\n",
       "      <th>comment_language</th>\n",
       "    </tr>\n",
       "  </thead>\n",
       "  <tbody>\n",
       "    <tr>\n",
       "      <th>106895</th>\n",
       "      <td>The room in Original Lisbon Guesthouse is in t...</td>\n",
       "      <td>In my later years, I have looked in the mirror...</td>\n",
       "      <td>en</td>\n",
       "      <td>Lage ist super und die Unterkunft generell auc...</td>\n",
       "      <td>de</td>\n",
       "    </tr>\n",
       "    <tr>\n",
       "      <th>242589</th>\n",
       "      <td>GREAT LOCATION!&lt;br /&gt;150 meters from Avenida d...</td>\n",
       "      <td>ANA_x000D_\\nMy name is Ana and I'm married. We...</td>\n",
       "      <td>en</td>\n",
       "      <td>Perfect location for a weekend in the city. An...</td>\n",
       "      <td>en</td>\n",
       "    </tr>\n",
       "    <tr>\n",
       "      <th>312957</th>\n",
       "      <td>Charming apartment with Pool,  Free indoor gar...</td>\n",
       "      <td>Since when i traveled from Holand to Hungary, ...</td>\n",
       "      <td>en</td>\n",
       "      <td>Very Comfortable bed and great power shower.  ...</td>\n",
       "      <td>en</td>\n",
       "    </tr>\n",
       "    <tr>\n",
       "      <th>204238</th>\n",
       "      <td>Private bedroom in a genuinely portuguese, sha...</td>\n",
       "      <td>We came to live here a few years ago and a few...</td>\n",
       "      <td>en</td>\n",
       "      <td>Ottima posizione, pulizia sia della camera che...</td>\n",
       "      <td>it</td>\n",
       "    </tr>\n",
       "    <tr>\n",
       "      <th>321562</th>\n",
       "      <td>Situated in Graça (just next to Alfama), one o...</td>\n",
       "      <td>We are Elsa and Rui, computer engineers and en...</td>\n",
       "      <td>en</td>\n",
       "      <td>una estancia agradable! nos ha gustado, hemos ...</td>\n",
       "      <td>es</td>\n",
       "    </tr>\n",
       "    <tr>\n",
       "      <th>...</th>\n",
       "      <td>...</td>\n",
       "      <td>...</td>\n",
       "      <td>...</td>\n",
       "      <td>...</td>\n",
       "      <td>...</td>\n",
       "    </tr>\n",
       "    <tr>\n",
       "      <th>18324</th>\n",
       "      <td>Hello traveler, if you are looking for the per...</td>\n",
       "      <td>Hi world, my name is João Figueira, I am 35 ye...</td>\n",
       "      <td>en</td>\n",
       "      <td>This is one of two apartments my family and I ...</td>\n",
       "      <td>en</td>\n",
       "    </tr>\n",
       "    <tr>\n",
       "      <th>134138</th>\n",
       "      <td>A compact charming apartment with a view over ...</td>\n",
       "      <td>Founded by travel enthusiasts (just like you) ...</td>\n",
       "      <td>en</td>\n",
       "      <td>Location is king here! Close to everything a c...</td>\n",
       "      <td>en</td>\n",
       "    </tr>\n",
       "    <tr>\n",
       "      <th>162770</th>\n",
       "      <td>&lt;b&gt;The space&lt;/b&gt;&lt;br /&gt;This apartment is locate...</td>\n",
       "      <td>Portuguese design and history enthusiast that ...</td>\n",
       "      <td>en</td>\n",
       "      <td>This place is perfection. An incredible apartm...</td>\n",
       "      <td>en</td>\n",
       "    </tr>\n",
       "    <tr>\n",
       "      <th>360937</th>\n",
       "      <td>A spectacular apartment in the center of the h...</td>\n",
       "      <td>Chamo-me Sónia e tenho 30 anos. _x000D_\\nNasci...</td>\n",
       "      <td>en</td>\n",
       "      <td>Beau logement très bien placé dans le centre h...</td>\n",
       "      <td>fr</td>\n",
       "    </tr>\n",
       "    <tr>\n",
       "      <th>63768</th>\n",
       "      <td>Enjoy your stay in our flat in Campo de Ouriqu...</td>\n",
       "      <td>I'm Rita, 40 years old, born and raised in Lis...</td>\n",
       "      <td>en</td>\n",
       "      <td>Rita and Jorge's place is very cosy and stylis...</td>\n",
       "      <td>en</td>\n",
       "    </tr>\n",
       "  </tbody>\n",
       "</table>\n",
       "<p>72657 rows × 5 columns</p>\n",
       "</div>"
      ],
      "text/plain": [
       "                                              description  \\\n",
       "106895  The room in Original Lisbon Guesthouse is in t...   \n",
       "242589  GREAT LOCATION!<br />150 meters from Avenida d...   \n",
       "312957  Charming apartment with Pool,  Free indoor gar...   \n",
       "204238  Private bedroom in a genuinely portuguese, sha...   \n",
       "321562  Situated in Graça (just next to Alfama), one o...   \n",
       "...                                                   ...   \n",
       "18324   Hello traveler, if you are looking for the per...   \n",
       "134138  A compact charming apartment with a view over ...   \n",
       "162770  <b>The space</b><br />This apartment is locate...   \n",
       "360937  A spectacular apartment in the center of the h...   \n",
       "63768   Enjoy your stay in our flat in Campo de Ouriqu...   \n",
       "\n",
       "                                               host_about  \\\n",
       "106895  In my later years, I have looked in the mirror...   \n",
       "242589  ANA_x000D_\\nMy name is Ana and I'm married. We...   \n",
       "312957  Since when i traveled from Holand to Hungary, ...   \n",
       "204238  We came to live here a few years ago and a few...   \n",
       "321562  We are Elsa and Rui, computer engineers and en...   \n",
       "...                                                   ...   \n",
       "18324   Hi world, my name is João Figueira, I am 35 ye...   \n",
       "134138  Founded by travel enthusiasts (just like you) ...   \n",
       "162770  Portuguese design and history enthusiast that ...   \n",
       "360937  Chamo-me Sónia e tenho 30 anos. _x000D_\\nNasci...   \n",
       "63768   I'm Rita, 40 years old, born and raised in Lis...   \n",
       "\n",
       "       description_language  \\\n",
       "106895                   en   \n",
       "242589                   en   \n",
       "312957                   en   \n",
       "204238                   en   \n",
       "321562                   en   \n",
       "...                     ...   \n",
       "18324                    en   \n",
       "134138                   en   \n",
       "162770                   en   \n",
       "360937                   en   \n",
       "63768                    en   \n",
       "\n",
       "                                                 comments comment_language  \n",
       "106895  Lage ist super und die Unterkunft generell auc...               de  \n",
       "242589  Perfect location for a weekend in the city. An...               en  \n",
       "312957  Very Comfortable bed and great power shower.  ...               en  \n",
       "204238  Ottima posizione, pulizia sia della camera che...               it  \n",
       "321562  una estancia agradable! nos ha gustado, hemos ...               es  \n",
       "...                                                   ...              ...  \n",
       "18324   This is one of two apartments my family and I ...               en  \n",
       "134138  Location is king here! Close to everything a c...               en  \n",
       "162770  This place is perfection. An incredible apartm...               en  \n",
       "360937  Beau logement très bien placé dans le centre h...               fr  \n",
       "63768   Rita and Jorge's place is very cosy and stylis...               en  \n",
       "\n",
       "[72657 rows x 5 columns]"
      ]
     },
     "execution_count": 228,
     "metadata": {},
     "output_type": "execute_result"
    }
   ],
   "source": [
    "X_val"
   ]
  },
  {
   "cell_type": "code",
   "execution_count": 229,
   "metadata": {},
   "outputs": [
    {
     "name": "stdout",
     "output_type": "stream",
     "text": [
      "<class 'pandas.core.frame.DataFrame'>\n",
      "Int64Index: 290627 entries, 296776 to 121958\n",
      "Data columns (total 2 columns):\n",
      " #   Column    Non-Null Count   Dtype\n",
      "---  ------    --------------   -----\n",
      " 0   unlisted  290627 non-null  int64\n",
      " 1   houseID   290627 non-null  int64\n",
      "dtypes: int64(2)\n",
      "memory usage: 6.7 MB\n"
     ]
    }
   ],
   "source": [
    "y_train.info()  "
   ]
  },
  {
   "cell_type": "code",
   "execution_count": 230,
   "metadata": {},
   "outputs": [
    {
     "data": {
      "text/html": [
       "<div>\n",
       "<style scoped>\n",
       "    .dataframe tbody tr th:only-of-type {\n",
       "        vertical-align: middle;\n",
       "    }\n",
       "\n",
       "    .dataframe tbody tr th {\n",
       "        vertical-align: top;\n",
       "    }\n",
       "\n",
       "    .dataframe thead th {\n",
       "        text-align: right;\n",
       "    }\n",
       "</style>\n",
       "<table border=\"1\" class=\"dataframe\">\n",
       "  <thead>\n",
       "    <tr style=\"text-align: right;\">\n",
       "      <th></th>\n",
       "      <th>unlisted</th>\n",
       "      <th>houseID</th>\n",
       "    </tr>\n",
       "  </thead>\n",
       "  <tbody>\n",
       "    <tr>\n",
       "      <th>296776</th>\n",
       "      <td>0</td>\n",
       "      <td>5085</td>\n",
       "    </tr>\n",
       "    <tr>\n",
       "      <th>97872</th>\n",
       "      <td>0</td>\n",
       "      <td>1646</td>\n",
       "    </tr>\n",
       "    <tr>\n",
       "      <th>306410</th>\n",
       "      <td>0</td>\n",
       "      <td>5277</td>\n",
       "    </tr>\n",
       "    <tr>\n",
       "      <th>35677</th>\n",
       "      <td>0</td>\n",
       "      <td>624</td>\n",
       "    </tr>\n",
       "    <tr>\n",
       "      <th>230579</th>\n",
       "      <td>0</td>\n",
       "      <td>3923</td>\n",
       "    </tr>\n",
       "    <tr>\n",
       "      <th>...</th>\n",
       "      <td>...</td>\n",
       "      <td>...</td>\n",
       "    </tr>\n",
       "    <tr>\n",
       "      <th>119879</th>\n",
       "      <td>0</td>\n",
       "      <td>2020</td>\n",
       "    </tr>\n",
       "    <tr>\n",
       "      <th>259178</th>\n",
       "      <td>0</td>\n",
       "      <td>4435</td>\n",
       "    </tr>\n",
       "    <tr>\n",
       "      <th>131932</th>\n",
       "      <td>0</td>\n",
       "      <td>2229</td>\n",
       "    </tr>\n",
       "    <tr>\n",
       "      <th>146867</th>\n",
       "      <td>0</td>\n",
       "      <td>2483</td>\n",
       "    </tr>\n",
       "    <tr>\n",
       "      <th>121958</th>\n",
       "      <td>0</td>\n",
       "      <td>2061</td>\n",
       "    </tr>\n",
       "  </tbody>\n",
       "</table>\n",
       "<p>290627 rows × 2 columns</p>\n",
       "</div>"
      ],
      "text/plain": [
       "        unlisted  houseID\n",
       "296776         0     5085\n",
       "97872          0     1646\n",
       "306410         0     5277\n",
       "35677          0      624\n",
       "230579         0     3923\n",
       "...          ...      ...\n",
       "119879         0     2020\n",
       "259178         0     4435\n",
       "131932         0     2229\n",
       "146867         0     2483\n",
       "121958         0     2061\n",
       "\n",
       "[290627 rows x 2 columns]"
      ]
     },
     "execution_count": 230,
     "metadata": {},
     "output_type": "execute_result"
    }
   ],
   "source": [
    "y_train"
   ]
  },
  {
   "cell_type": "code",
   "execution_count": 231,
   "metadata": {},
   "outputs": [
    {
     "data": {
      "text/html": [
       "<div>\n",
       "<style scoped>\n",
       "    .dataframe tbody tr th:only-of-type {\n",
       "        vertical-align: middle;\n",
       "    }\n",
       "\n",
       "    .dataframe tbody tr th {\n",
       "        vertical-align: top;\n",
       "    }\n",
       "\n",
       "    .dataframe thead th {\n",
       "        text-align: right;\n",
       "    }\n",
       "</style>\n",
       "<table border=\"1\" class=\"dataframe\">\n",
       "  <thead>\n",
       "    <tr style=\"text-align: right;\">\n",
       "      <th></th>\n",
       "      <th>unlisted</th>\n",
       "      <th>houseID</th>\n",
       "    </tr>\n",
       "  </thead>\n",
       "  <tbody>\n",
       "    <tr>\n",
       "      <th>106895</th>\n",
       "      <td>0</td>\n",
       "      <td>1783</td>\n",
       "    </tr>\n",
       "    <tr>\n",
       "      <th>242589</th>\n",
       "      <td>0</td>\n",
       "      <td>4140</td>\n",
       "    </tr>\n",
       "    <tr>\n",
       "      <th>312957</th>\n",
       "      <td>0</td>\n",
       "      <td>5416</td>\n",
       "    </tr>\n",
       "    <tr>\n",
       "      <th>204238</th>\n",
       "      <td>0</td>\n",
       "      <td>3449</td>\n",
       "    </tr>\n",
       "    <tr>\n",
       "      <th>321562</th>\n",
       "      <td>0</td>\n",
       "      <td>5579</td>\n",
       "    </tr>\n",
       "    <tr>\n",
       "      <th>...</th>\n",
       "      <td>...</td>\n",
       "      <td>...</td>\n",
       "    </tr>\n",
       "    <tr>\n",
       "      <th>18324</th>\n",
       "      <td>0</td>\n",
       "      <td>336</td>\n",
       "    </tr>\n",
       "    <tr>\n",
       "      <th>134138</th>\n",
       "      <td>0</td>\n",
       "      <td>2261</td>\n",
       "    </tr>\n",
       "    <tr>\n",
       "      <th>162770</th>\n",
       "      <td>0</td>\n",
       "      <td>2724</td>\n",
       "    </tr>\n",
       "    <tr>\n",
       "      <th>360937</th>\n",
       "      <td>0</td>\n",
       "      <td>6202</td>\n",
       "    </tr>\n",
       "    <tr>\n",
       "      <th>63768</th>\n",
       "      <td>0</td>\n",
       "      <td>1082</td>\n",
       "    </tr>\n",
       "  </tbody>\n",
       "</table>\n",
       "<p>72657 rows × 2 columns</p>\n",
       "</div>"
      ],
      "text/plain": [
       "        unlisted  houseID\n",
       "106895         0     1783\n",
       "242589         0     4140\n",
       "312957         0     5416\n",
       "204238         0     3449\n",
       "321562         0     5579\n",
       "...          ...      ...\n",
       "18324          0      336\n",
       "134138         0     2261\n",
       "162770         0     2724\n",
       "360937         0     6202\n",
       "63768          0     1082\n",
       "\n",
       "[72657 rows x 2 columns]"
      ]
     },
     "execution_count": 231,
     "metadata": {},
     "output_type": "execute_result"
    }
   ],
   "source": [
    "y_val"
   ]
  },
  {
   "cell_type": "code",
   "execution_count": null,
   "metadata": {},
   "outputs": [],
   "source": []
  },
  {
   "cell_type": "markdown",
   "metadata": {},
   "source": [
    "# Pre-Processing"
   ]
  },
  {
   "cell_type": "markdown",
   "metadata": {},
   "source": [
    "### Cleaning Language"
   ]
  },
  {
   "cell_type": "code",
   "execution_count": 232,
   "metadata": {},
   "outputs": [
    {
     "name": "stdout",
     "output_type": "stream",
     "text": [
      "\n",
      "Language description Percentages:\n",
      "en       90.300282\n",
      "pt        8.013364\n",
      "fr        0.876725\n",
      "da        0.299697\n",
      "es        0.258751\n",
      "de        0.228127\n",
      "zh-cn     0.019613\n",
      "no        0.001376\n",
      "ca        0.001032\n",
      "nl        0.000688\n",
      "it        0.000344\n",
      "Name: description_language, dtype: float64\n"
     ]
    }
   ],
   "source": [
    "language_counts_description = X_train['description_language'].value_counts()\n",
    "\n",
    "total_entries = len(X_train)\n",
    "language_percentages_description = (language_counts_description / total_entries) * 100\n",
    "\n",
    "print(\"\\nLanguage description Percentages:\")\n",
    "print(language_percentages_description)"
   ]
  },
  {
   "cell_type": "markdown",
   "metadata": {},
   "source": [
    "Como ingles e portugues representam 98% eu acho que podiamos apagar as restantes linguas até porque testamos com o translate e não funcionada muito bem e era demorado"
   ]
  },
  {
   "cell_type": "code",
   "execution_count": 233,
   "metadata": {
    "scrolled": false
   },
   "outputs": [
    {
     "name": "stdout",
     "output_type": "stream",
     "text": [
      "\n",
      "Language comment Percentages:\n",
      "en         63.908033\n",
      "fr         14.699942\n",
      "pt          6.178366\n",
      "es          5.300265\n",
      "de          3.906038\n",
      "it          1.559387\n",
      "nl          0.985800\n",
      "None        0.557416\n",
      "ko          0.410148\n",
      "ru          0.406707\n",
      "zh-cn       0.292471\n",
      "Unknown     0.258407\n",
      "ro          0.221590\n",
      "pl          0.166192\n",
      "ca          0.160343\n",
      "da          0.120429\n",
      "sv          0.104946\n",
      "af          0.092214\n",
      "no          0.086021\n",
      "so          0.081204\n",
      "cs          0.059526\n",
      "fi          0.050924\n",
      "id          0.044731\n",
      "tl          0.041634\n",
      "hu          0.036817\n",
      "cy          0.032688\n",
      "ja          0.030279\n",
      "zh-tw       0.027183\n",
      "he          0.026494\n",
      "sk          0.019613\n",
      "hr          0.018581\n",
      "tr          0.017892\n",
      "sw          0.017204\n",
      "el          0.013419\n",
      "lt          0.013419\n",
      "sl          0.011699\n",
      "vi          0.011699\n",
      "uk          0.010667\n",
      "et          0.005505\n",
      "bg          0.005161\n",
      "lv          0.003441\n",
      "sq          0.002409\n",
      "ar          0.002065\n",
      "mk          0.000688\n",
      "ur          0.000344\n",
      "Name: comment_language, dtype: float64\n"
     ]
    }
   ],
   "source": [
    "language_counts_comments = X_train['comment_language'].value_counts()\n",
    "\n",
    "total_entries = len(X_train)\n",
    "language_percentages_comments = (language_counts_comments / total_entries) * 100\n",
    "\n",
    "print(\"\\nLanguage comment Percentages:\")\n",
    "print(language_percentages_comments)"
   ]
  },
  {
   "cell_type": "code",
   "execution_count": 234,
   "metadata": {},
   "outputs": [
    {
     "ename": "KeyError",
     "evalue": "\"['host_about'] not found in axis\"",
     "output_type": "error",
     "traceback": [
      "\u001b[1;31m---------------------------------------------------------------------------\u001b[0m",
      "\u001b[1;31mKeyError\u001b[0m                                  Traceback (most recent call last)",
      "\u001b[1;32m~\\AppData\\Local\\Temp/ipykernel_11860/2962349479.py\u001b[0m in \u001b[0;36m<module>\u001b[1;34m\u001b[0m\n\u001b[0;32m      1\u001b[0m \u001b[0mX_train\u001b[0m\u001b[1;33m.\u001b[0m\u001b[0mdrop\u001b[0m\u001b[1;33m(\u001b[0m\u001b[1;34m'host_about'\u001b[0m\u001b[1;33m,\u001b[0m \u001b[0maxis\u001b[0m\u001b[1;33m=\u001b[0m\u001b[1;36m1\u001b[0m\u001b[1;33m,\u001b[0m \u001b[0minplace\u001b[0m\u001b[1;33m=\u001b[0m\u001b[1;32mTrue\u001b[0m\u001b[1;33m)\u001b[0m\u001b[1;33m\u001b[0m\u001b[1;33m\u001b[0m\u001b[0m\n\u001b[0;32m      2\u001b[0m \u001b[0mX_val\u001b[0m\u001b[1;33m.\u001b[0m\u001b[0mdrop\u001b[0m\u001b[1;33m(\u001b[0m\u001b[1;34m'host_about'\u001b[0m\u001b[1;33m,\u001b[0m \u001b[0maxis\u001b[0m\u001b[1;33m=\u001b[0m\u001b[1;36m1\u001b[0m\u001b[1;33m,\u001b[0m \u001b[0minplace\u001b[0m\u001b[1;33m=\u001b[0m\u001b[1;32mTrue\u001b[0m\u001b[1;33m)\u001b[0m\u001b[1;33m\u001b[0m\u001b[1;33m\u001b[0m\u001b[0m\n\u001b[1;32m----> 3\u001b[1;33m \u001b[0mtest_merged_data_demojized\u001b[0m\u001b[1;33m.\u001b[0m\u001b[0mdrop\u001b[0m\u001b[1;33m(\u001b[0m\u001b[1;34m'host_about'\u001b[0m\u001b[1;33m,\u001b[0m \u001b[0maxis\u001b[0m\u001b[1;33m=\u001b[0m\u001b[1;36m1\u001b[0m\u001b[1;33m,\u001b[0m \u001b[0minplace\u001b[0m\u001b[1;33m=\u001b[0m\u001b[1;32mTrue\u001b[0m\u001b[1;33m)\u001b[0m\u001b[1;33m\u001b[0m\u001b[1;33m\u001b[0m\u001b[0m\n\u001b[0m",
      "\u001b[1;32m~\\anaconda3\\lib\\site-packages\\pandas\\util\\_decorators.py\u001b[0m in \u001b[0;36mwrapper\u001b[1;34m(*args, **kwargs)\u001b[0m\n\u001b[0;32m    309\u001b[0m                     \u001b[0mstacklevel\u001b[0m\u001b[1;33m=\u001b[0m\u001b[0mstacklevel\u001b[0m\u001b[1;33m,\u001b[0m\u001b[1;33m\u001b[0m\u001b[1;33m\u001b[0m\u001b[0m\n\u001b[0;32m    310\u001b[0m                 )\n\u001b[1;32m--> 311\u001b[1;33m             \u001b[1;32mreturn\u001b[0m \u001b[0mfunc\u001b[0m\u001b[1;33m(\u001b[0m\u001b[1;33m*\u001b[0m\u001b[0margs\u001b[0m\u001b[1;33m,\u001b[0m \u001b[1;33m**\u001b[0m\u001b[0mkwargs\u001b[0m\u001b[1;33m)\u001b[0m\u001b[1;33m\u001b[0m\u001b[1;33m\u001b[0m\u001b[0m\n\u001b[0m\u001b[0;32m    312\u001b[0m \u001b[1;33m\u001b[0m\u001b[0m\n\u001b[0;32m    313\u001b[0m         \u001b[1;32mreturn\u001b[0m \u001b[0mwrapper\u001b[0m\u001b[1;33m\u001b[0m\u001b[1;33m\u001b[0m\u001b[0m\n",
      "\u001b[1;32m~\\anaconda3\\lib\\site-packages\\pandas\\core\\frame.py\u001b[0m in \u001b[0;36mdrop\u001b[1;34m(self, labels, axis, index, columns, level, inplace, errors)\u001b[0m\n\u001b[0;32m   4904\u001b[0m                 \u001b[0mweight\u001b[0m  \u001b[1;36m1.0\u001b[0m     \u001b[1;36m0.8\u001b[0m\u001b[1;33m\u001b[0m\u001b[1;33m\u001b[0m\u001b[0m\n\u001b[0;32m   4905\u001b[0m         \"\"\"\n\u001b[1;32m-> 4906\u001b[1;33m         return super().drop(\n\u001b[0m\u001b[0;32m   4907\u001b[0m             \u001b[0mlabels\u001b[0m\u001b[1;33m=\u001b[0m\u001b[0mlabels\u001b[0m\u001b[1;33m,\u001b[0m\u001b[1;33m\u001b[0m\u001b[1;33m\u001b[0m\u001b[0m\n\u001b[0;32m   4908\u001b[0m             \u001b[0maxis\u001b[0m\u001b[1;33m=\u001b[0m\u001b[0maxis\u001b[0m\u001b[1;33m,\u001b[0m\u001b[1;33m\u001b[0m\u001b[1;33m\u001b[0m\u001b[0m\n",
      "\u001b[1;32m~\\anaconda3\\lib\\site-packages\\pandas\\core\\generic.py\u001b[0m in \u001b[0;36mdrop\u001b[1;34m(self, labels, axis, index, columns, level, inplace, errors)\u001b[0m\n\u001b[0;32m   4148\u001b[0m         \u001b[1;32mfor\u001b[0m \u001b[0maxis\u001b[0m\u001b[1;33m,\u001b[0m \u001b[0mlabels\u001b[0m \u001b[1;32min\u001b[0m \u001b[0maxes\u001b[0m\u001b[1;33m.\u001b[0m\u001b[0mitems\u001b[0m\u001b[1;33m(\u001b[0m\u001b[1;33m)\u001b[0m\u001b[1;33m:\u001b[0m\u001b[1;33m\u001b[0m\u001b[1;33m\u001b[0m\u001b[0m\n\u001b[0;32m   4149\u001b[0m             \u001b[1;32mif\u001b[0m \u001b[0mlabels\u001b[0m \u001b[1;32mis\u001b[0m \u001b[1;32mnot\u001b[0m \u001b[1;32mNone\u001b[0m\u001b[1;33m:\u001b[0m\u001b[1;33m\u001b[0m\u001b[1;33m\u001b[0m\u001b[0m\n\u001b[1;32m-> 4150\u001b[1;33m                 \u001b[0mobj\u001b[0m \u001b[1;33m=\u001b[0m \u001b[0mobj\u001b[0m\u001b[1;33m.\u001b[0m\u001b[0m_drop_axis\u001b[0m\u001b[1;33m(\u001b[0m\u001b[0mlabels\u001b[0m\u001b[1;33m,\u001b[0m \u001b[0maxis\u001b[0m\u001b[1;33m,\u001b[0m \u001b[0mlevel\u001b[0m\u001b[1;33m=\u001b[0m\u001b[0mlevel\u001b[0m\u001b[1;33m,\u001b[0m \u001b[0merrors\u001b[0m\u001b[1;33m=\u001b[0m\u001b[0merrors\u001b[0m\u001b[1;33m)\u001b[0m\u001b[1;33m\u001b[0m\u001b[1;33m\u001b[0m\u001b[0m\n\u001b[0m\u001b[0;32m   4151\u001b[0m \u001b[1;33m\u001b[0m\u001b[0m\n\u001b[0;32m   4152\u001b[0m         \u001b[1;32mif\u001b[0m \u001b[0minplace\u001b[0m\u001b[1;33m:\u001b[0m\u001b[1;33m\u001b[0m\u001b[1;33m\u001b[0m\u001b[0m\n",
      "\u001b[1;32m~\\anaconda3\\lib\\site-packages\\pandas\\core\\generic.py\u001b[0m in \u001b[0;36m_drop_axis\u001b[1;34m(self, labels, axis, level, errors)\u001b[0m\n\u001b[0;32m   4183\u001b[0m                 \u001b[0mnew_axis\u001b[0m \u001b[1;33m=\u001b[0m \u001b[0maxis\u001b[0m\u001b[1;33m.\u001b[0m\u001b[0mdrop\u001b[0m\u001b[1;33m(\u001b[0m\u001b[0mlabels\u001b[0m\u001b[1;33m,\u001b[0m \u001b[0mlevel\u001b[0m\u001b[1;33m=\u001b[0m\u001b[0mlevel\u001b[0m\u001b[1;33m,\u001b[0m \u001b[0merrors\u001b[0m\u001b[1;33m=\u001b[0m\u001b[0merrors\u001b[0m\u001b[1;33m)\u001b[0m\u001b[1;33m\u001b[0m\u001b[1;33m\u001b[0m\u001b[0m\n\u001b[0;32m   4184\u001b[0m             \u001b[1;32melse\u001b[0m\u001b[1;33m:\u001b[0m\u001b[1;33m\u001b[0m\u001b[1;33m\u001b[0m\u001b[0m\n\u001b[1;32m-> 4185\u001b[1;33m                 \u001b[0mnew_axis\u001b[0m \u001b[1;33m=\u001b[0m \u001b[0maxis\u001b[0m\u001b[1;33m.\u001b[0m\u001b[0mdrop\u001b[0m\u001b[1;33m(\u001b[0m\u001b[0mlabels\u001b[0m\u001b[1;33m,\u001b[0m \u001b[0merrors\u001b[0m\u001b[1;33m=\u001b[0m\u001b[0merrors\u001b[0m\u001b[1;33m)\u001b[0m\u001b[1;33m\u001b[0m\u001b[1;33m\u001b[0m\u001b[0m\n\u001b[0m\u001b[0;32m   4186\u001b[0m             \u001b[0mresult\u001b[0m \u001b[1;33m=\u001b[0m \u001b[0mself\u001b[0m\u001b[1;33m.\u001b[0m\u001b[0mreindex\u001b[0m\u001b[1;33m(\u001b[0m\u001b[1;33m**\u001b[0m\u001b[1;33m{\u001b[0m\u001b[0maxis_name\u001b[0m\u001b[1;33m:\u001b[0m \u001b[0mnew_axis\u001b[0m\u001b[1;33m}\u001b[0m\u001b[1;33m)\u001b[0m\u001b[1;33m\u001b[0m\u001b[1;33m\u001b[0m\u001b[0m\n\u001b[0;32m   4187\u001b[0m \u001b[1;33m\u001b[0m\u001b[0m\n",
      "\u001b[1;32m~\\anaconda3\\lib\\site-packages\\pandas\\core\\indexes\\base.py\u001b[0m in \u001b[0;36mdrop\u001b[1;34m(self, labels, errors)\u001b[0m\n\u001b[0;32m   6015\u001b[0m         \u001b[1;32mif\u001b[0m \u001b[0mmask\u001b[0m\u001b[1;33m.\u001b[0m\u001b[0many\u001b[0m\u001b[1;33m(\u001b[0m\u001b[1;33m)\u001b[0m\u001b[1;33m:\u001b[0m\u001b[1;33m\u001b[0m\u001b[1;33m\u001b[0m\u001b[0m\n\u001b[0;32m   6016\u001b[0m             \u001b[1;32mif\u001b[0m \u001b[0merrors\u001b[0m \u001b[1;33m!=\u001b[0m \u001b[1;34m\"ignore\"\u001b[0m\u001b[1;33m:\u001b[0m\u001b[1;33m\u001b[0m\u001b[1;33m\u001b[0m\u001b[0m\n\u001b[1;32m-> 6017\u001b[1;33m                 \u001b[1;32mraise\u001b[0m \u001b[0mKeyError\u001b[0m\u001b[1;33m(\u001b[0m\u001b[1;34mf\"{labels[mask]} not found in axis\"\u001b[0m\u001b[1;33m)\u001b[0m\u001b[1;33m\u001b[0m\u001b[1;33m\u001b[0m\u001b[0m\n\u001b[0m\u001b[0;32m   6018\u001b[0m             \u001b[0mindexer\u001b[0m \u001b[1;33m=\u001b[0m \u001b[0mindexer\u001b[0m\u001b[1;33m[\u001b[0m\u001b[1;33m~\u001b[0m\u001b[0mmask\u001b[0m\u001b[1;33m]\u001b[0m\u001b[1;33m\u001b[0m\u001b[1;33m\u001b[0m\u001b[0m\n\u001b[0;32m   6019\u001b[0m         \u001b[1;32mreturn\u001b[0m \u001b[0mself\u001b[0m\u001b[1;33m.\u001b[0m\u001b[0mdelete\u001b[0m\u001b[1;33m(\u001b[0m\u001b[0mindexer\u001b[0m\u001b[1;33m)\u001b[0m\u001b[1;33m\u001b[0m\u001b[1;33m\u001b[0m\u001b[0m\n",
      "\u001b[1;31mKeyError\u001b[0m: \"['host_about'] not found in axis\""
     ]
    }
   ],
   "source": [
    "X_train.drop('host_about', axis=1, inplace=True)\n",
    "X_val.drop('host_about', axis=1, inplace=True)\n",
    "test_merged_data_demojized.drop('host_about', axis=1, inplace=True)"
   ]
  },
  {
   "cell_type": "markdown",
   "metadata": {},
   "source": [
    "To do the preprocessing steps, using NLTK package, there are only some supported languages. We'll use the one's that are supported by filtering\n"
   ]
  },
  {
   "cell_type": "code",
   "execution_count": 271,
   "metadata": {},
   "outputs": [],
   "source": [
    "supported_languages_nltk = [\n",
    "    'da', 'en', 'nl', 'fi', 'fr', 'de', 'hu', 'it', \n",
    "    'no', 'nl', 'pt', 'ro', 'es', 'sv'\n",
    "]\n",
    "\n",
    "X_train_filtered = X_train[\n",
    "    X_train['comment_language'].isin(supported_languages_nltk) &\n",
    "    X_train['description_language'].isin(supported_languages_nltk)\n",
    "]"
   ]
  },
  {
   "cell_type": "code",
   "execution_count": 272,
   "metadata": {},
   "outputs": [
    {
     "data": {
      "text/plain": [
       "en    185699\n",
       "fr     42717\n",
       "pt     17948\n",
       "es     15400\n",
       "de     11351\n",
       "it      4531\n",
       "nl      2865\n",
       "ro       644\n",
       "da       350\n",
       "sv       305\n",
       "no       250\n",
       "fi       148\n",
       "hu       107\n",
       "Name: comment_language, dtype: int64"
      ]
     },
     "execution_count": 272,
     "metadata": {},
     "output_type": "execute_result"
    }
   ],
   "source": [
    "X_train_filtered[\"comment_language\"].value_counts()"
   ]
  },
  {
   "cell_type": "code",
   "execution_count": 273,
   "metadata": {},
   "outputs": [
    {
     "name": "stdout",
     "output_type": "stream",
     "text": [
      "\n",
      "Language comment Percentages:\n",
      "en    65.777235\n",
      "fr    15.130971\n",
      "pt     6.357438\n",
      "es     5.454900\n",
      "de     4.020686\n",
      "it     1.604945\n",
      "nl     1.014824\n",
      "ro     0.228114\n",
      "da     0.123975\n",
      "sv     0.108035\n",
      "no     0.088554\n",
      "fi     0.052424\n",
      "hu     0.037901\n",
      "Name: comment_language, dtype: float64\n"
     ]
    }
   ],
   "source": [
    "language_counts_comments = X_train_filtered['comment_language'].value_counts()\n",
    "\n",
    "total_entries = len(X_train_filtered)\n",
    "language_percentages_comments = (language_counts_comments / total_entries) * 100\n",
    "\n",
    "print(\"\\nLanguage comment Percentages:\")\n",
    "print(language_percentages_comments)"
   ]
  },
  {
   "cell_type": "code",
   "execution_count": 274,
   "metadata": {},
   "outputs": [
    {
     "data": {
      "text/plain": [
       "en    255324\n",
       "pt     22346\n",
       "fr      2479\n",
       "da       827\n",
       "es       703\n",
       "de       635\n",
       "nl         1\n",
       "Name: description_language, dtype: int64"
      ]
     },
     "execution_count": 274,
     "metadata": {},
     "output_type": "execute_result"
    }
   ],
   "source": [
    "X_train_filtered[\"description_language\"].value_counts()"
   ]
  },
  {
   "cell_type": "code",
   "execution_count": 275,
   "metadata": {},
   "outputs": [],
   "source": [
    "X_train= X_train_filtered.copy()"
   ]
  },
  {
   "cell_type": "code",
   "execution_count": 276,
   "metadata": {},
   "outputs": [],
   "source": [
    "X_val_filtered = X_val[X_val['comment_language'].isin(supported_languages_nltk) & X_val['description_language'].isin(supported_languages_nltk)]\n",
    "test_merged_data_filtered = test_merged_data_demojized[test_merged_data_demojized['comment_language'].isin(supported_languages_nltk) & test_merged_data_demojized['description_language'].isin(supported_languages_nltk)]"
   ]
  },
  {
   "cell_type": "code",
   "execution_count": 277,
   "metadata": {},
   "outputs": [],
   "source": [
    "X_val= X_val_filtered.copy()\n",
    "test_merged_data_demojized  = test_merged_data_filtered.copy()"
   ]
  },
  {
   "cell_type": "code",
   "execution_count": 278,
   "metadata": {},
   "outputs": [],
   "source": [
    "y_train_filtered = y_train.loc[X_train.index]\n",
    "y_train = y_train_filtered.copy()\n",
    "\n",
    "y_val_filtered = y_val.loc[X_val.index]\n",
    "y_val = y_val_filtered.copy()\n",
    "\n"
   ]
  },
  {
   "cell_type": "code",
   "execution_count": 279,
   "metadata": {},
   "outputs": [
    {
     "data": {
      "text/plain": [
       "((282315, 4), (70654, 4), (282315, 2), (70654, 2))"
      ]
     },
     "execution_count": 279,
     "metadata": {},
     "output_type": "execute_result"
    }
   ],
   "source": [
    "X_train.shape, X_val.shape, y_train.shape, y_val.shape"
   ]
  },
  {
   "cell_type": "markdown",
   "metadata": {},
   "source": [
    "# Cleaning data "
   ]
  },
  {
   "cell_type": "code",
   "execution_count": 280,
   "metadata": {},
   "outputs": [],
   "source": [
    "import re\n",
    "from tqdm import tqdm\n",
    "import pandas as pd\n",
    "from nltk.corpus import stopwords\n",
    "from nltk.stem import SnowballStemmer, WordNetLemmatizer\n",
    "from nltk.tokenize import word_tokenize\n",
    "from unidecode import unidecode\n",
    "import nltk"
   ]
  },
  {
   "cell_type": "code",
   "execution_count": 281,
   "metadata": {},
   "outputs": [],
   "source": [
    "X_train_clean = X_train.copy()  \n",
    "X_val_clean = X_val.copy()\n",
    "test_clean = test_merged_data_demojized.copy()"
   ]
  },
  {
   "cell_type": "code",
   "execution_count": 282,
   "metadata": {},
   "outputs": [
    {
     "data": {
      "text/html": [
       "<div>\n",
       "<style scoped>\n",
       "    .dataframe tbody tr th:only-of-type {\n",
       "        vertical-align: middle;\n",
       "    }\n",
       "\n",
       "    .dataframe tbody tr th {\n",
       "        vertical-align: top;\n",
       "    }\n",
       "\n",
       "    .dataframe thead th {\n",
       "        text-align: right;\n",
       "    }\n",
       "</style>\n",
       "<table border=\"1\" class=\"dataframe\">\n",
       "  <thead>\n",
       "    <tr style=\"text-align: right;\">\n",
       "      <th></th>\n",
       "      <th>description</th>\n",
       "      <th>description_language</th>\n",
       "      <th>comments</th>\n",
       "      <th>comment_language</th>\n",
       "    </tr>\n",
       "  </thead>\n",
       "  <tbody>\n",
       "    <tr>\n",
       "      <th>296776</th>\n",
       "      <td>This apartment is the best choice for those wh...</td>\n",
       "      <td>en</td>\n",
       "      <td>Very good stay and trip to Lisbon!!_x000D_&lt;br/...</td>\n",
       "      <td>en</td>\n",
       "    </tr>\n",
       "    <tr>\n",
       "      <th>97872</th>\n",
       "      <td>\"Bijou, cute, amazing, lovers' retreat, honeym...</td>\n",
       "      <td>en</td>\n",
       "      <td>Beautiful spot. Incredible setting and view. L...</td>\n",
       "      <td>en</td>\n",
       "    </tr>\n",
       "    <tr>\n",
       "      <th>35677</th>\n",
       "      <td>Located in one of the most traditional distric...</td>\n",
       "      <td>en</td>\n",
       "      <td>Thank you for making us feel very welcome Char...</td>\n",
       "      <td>en</td>\n",
       "    </tr>\n",
       "    <tr>\n",
       "      <th>230579</th>\n",
       "      <td>Central location, ideal for exploring Lisbon. ...</td>\n",
       "      <td>en</td>\n",
       "      <td>Que des compliments. Très bon accueil, appart ...</td>\n",
       "      <td>fr</td>\n",
       "    </tr>\n",
       "    <tr>\n",
       "      <th>62848</th>\n",
       "      <td>The charming apartment \"Alfama 1\" is in the Al...</td>\n",
       "      <td>en</td>\n",
       "      <td>Great location and perfect flat for two. Teras...</td>\n",
       "      <td>en</td>\n",
       "    </tr>\n",
       "    <tr>\n",
       "      <th>...</th>\n",
       "      <td>...</td>\n",
       "      <td>...</td>\n",
       "      <td>...</td>\n",
       "      <td>...</td>\n",
       "    </tr>\n",
       "    <tr>\n",
       "      <th>119879</th>\n",
       "      <td>The Mouraria Duplex Apartment is located on th...</td>\n",
       "      <td>en</td>\n",
       "      <td>Logement conforme à la description, vraiment t...</td>\n",
       "      <td>fr</td>\n",
       "    </tr>\n",
       "    <tr>\n",
       "      <th>259178</th>\n",
       "      <td>Amazing Modern one bedroom apartment near Merc...</td>\n",
       "      <td>en</td>\n",
       "      <td>Great location! Stylish apartment with many am...</td>\n",
       "      <td>en</td>\n",
       "    </tr>\n",
       "    <tr>\n",
       "      <th>131932</th>\n",
       "      <td>A Fantastic Comfy 1 Bed Apartment with finely ...</td>\n",
       "      <td>en</td>\n",
       "      <td>We had a great time at William's flat. He was ...</td>\n",
       "      <td>en</td>\n",
       "    </tr>\n",
       "    <tr>\n",
       "      <th>146867</th>\n",
       "      <td>Bed in a 4 mixed dorm shared wc&lt;br /&gt;&lt;br /&gt;&lt;b&gt;...</td>\n",
       "      <td>en</td>\n",
       "      <td>I Highly recommend this hostel.</td>\n",
       "      <td>en</td>\n",
       "    </tr>\n",
       "    <tr>\n",
       "      <th>121958</th>\n",
       "      <td>Ideal para  2 pessoas pode acomoda até 4 pesso...</td>\n",
       "      <td>pt</td>\n",
       "      <td>Das Apartment war einfach super schön und auch...</td>\n",
       "      <td>de</td>\n",
       "    </tr>\n",
       "  </tbody>\n",
       "</table>\n",
       "<p>282315 rows × 4 columns</p>\n",
       "</div>"
      ],
      "text/plain": [
       "                                              description  \\\n",
       "296776  This apartment is the best choice for those wh...   \n",
       "97872   \"Bijou, cute, amazing, lovers' retreat, honeym...   \n",
       "35677   Located in one of the most traditional distric...   \n",
       "230579  Central location, ideal for exploring Lisbon. ...   \n",
       "62848   The charming apartment \"Alfama 1\" is in the Al...   \n",
       "...                                                   ...   \n",
       "119879  The Mouraria Duplex Apartment is located on th...   \n",
       "259178  Amazing Modern one bedroom apartment near Merc...   \n",
       "131932  A Fantastic Comfy 1 Bed Apartment with finely ...   \n",
       "146867  Bed in a 4 mixed dorm shared wc<br /><br /><b>...   \n",
       "121958  Ideal para  2 pessoas pode acomoda até 4 pesso...   \n",
       "\n",
       "       description_language  \\\n",
       "296776                   en   \n",
       "97872                    en   \n",
       "35677                    en   \n",
       "230579                   en   \n",
       "62848                    en   \n",
       "...                     ...   \n",
       "119879                   en   \n",
       "259178                   en   \n",
       "131932                   en   \n",
       "146867                   en   \n",
       "121958                   pt   \n",
       "\n",
       "                                                 comments comment_language  \n",
       "296776  Very good stay and trip to Lisbon!!_x000D_<br/...               en  \n",
       "97872   Beautiful spot. Incredible setting and view. L...               en  \n",
       "35677   Thank you for making us feel very welcome Char...               en  \n",
       "230579  Que des compliments. Très bon accueil, appart ...               fr  \n",
       "62848   Great location and perfect flat for two. Teras...               en  \n",
       "...                                                   ...              ...  \n",
       "119879  Logement conforme à la description, vraiment t...               fr  \n",
       "259178  Great location! Stylish apartment with many am...               en  \n",
       "131932  We had a great time at William's flat. He was ...               en  \n",
       "146867                    I Highly recommend this hostel.               en  \n",
       "121958  Das Apartment war einfach super schön und auch...               de  \n",
       "\n",
       "[282315 rows x 4 columns]"
      ]
     },
     "execution_count": 282,
     "metadata": {},
     "output_type": "execute_result"
    }
   ],
   "source": [
    "X_train_clean"
   ]
  },
  {
   "cell_type": "markdown",
   "metadata": {},
   "source": [
    "### Removing accents"
   ]
  },
  {
   "cell_type": "code",
   "execution_count": 283,
   "metadata": {},
   "outputs": [],
   "source": [
    "accent_mapping = {\n",
    "    'à': 'a', 'á': 'a', 'â': 'a', 'ã': 'a', 'ä': 'a', 'å': 'a', 'æ': 'ae', 'ā': 'a',\n",
    "    'è': 'e', 'é': 'e', 'ê': 'e', 'ë': 'e', 'ē': 'e',\n",
    "    'ì': 'i', 'í': 'i', 'î': 'i', 'ï': 'i',\n",
    "    'ò': 'o', 'ó': 'o', 'ô': 'o', 'õ': 'o', 'ö': 'o', 'ø': 'o', 'œ': 'oe',\n",
    "    'ù': 'u', 'ú': 'u', 'û': 'u', 'ü': 'u', 'ū': 'u', 'ů': 'u',\n",
    "    'ç': 'c',\n",
    "    'ñ': 'n',\n",
    "    'ś': 's', 'š': 's', 'ß': 'ss',\n",
    "    'ź': 'z', 'ż': 'z', 'ž': 'z'\n",
    "}"
   ]
  },
  {
   "cell_type": "code",
   "execution_count": 284,
   "metadata": {},
   "outputs": [],
   "source": [
    "def remove_accents(text, mapping):\n",
    "    return ''.join(mapping.get(char, char) for char in text)"
   ]
  },
  {
   "cell_type": "code",
   "execution_count": 285,
   "metadata": {},
   "outputs": [],
   "source": [
    "X_train_clean['clean_comments'] = X_train['comments'].apply(lambda x: remove_accents(x, accent_mapping))\n",
    "X_train_clean['clean_description'] = X_train['description'].apply(lambda x: remove_accents(x, accent_mapping))\n",
    "X_val_clean['clean_comments'] = X_val['comments'].apply(lambda x: remove_accents(x, accent_mapping))\n",
    "X_val_clean['clean_description'] = X_val['description'].apply(lambda x: remove_accents(x, accent_mapping))\n",
    "test_clean['clean_comments'] = test_clean['comments'].apply(lambda x: remove_accents(x, accent_mapping))\n",
    "test_clean['clean_description'] = test_clean['description'].apply(lambda x: remove_accents(x, accent_mapping))"
   ]
  },
  {
   "cell_type": "code",
   "execution_count": 286,
   "metadata": {},
   "outputs": [
    {
     "name": "stdout",
     "output_type": "stream",
     "text": [
      "Missing values in each column:\n",
      "description             0\n",
      "description_language    0\n",
      "comments                0\n",
      "comment_language        0\n",
      "clean_comments          0\n",
      "clean_description       0\n",
      "dtype: int64\n"
     ]
    }
   ],
   "source": [
    "missing_values = X_train_clean.isnull().sum()\n",
    "\n",
    "print(\"Missing values in each column:\")\n",
    "print(missing_values)"
   ]
  },
  {
   "cell_type": "markdown",
   "metadata": {},
   "source": [
    "### Lowering "
   ]
  },
  {
   "cell_type": "code",
   "execution_count": 287,
   "metadata": {},
   "outputs": [],
   "source": [
    "def to_lowercase(text):\n",
    "    return text.lower()"
   ]
  },
  {
   "cell_type": "code",
   "execution_count": 288,
   "metadata": {},
   "outputs": [],
   "source": [
    "X_train_clean['clean_comments'] = X_train_clean['clean_comments'].apply(to_lowercase)\n",
    "X_train_clean['clean_description'] = X_train_clean['clean_description'].apply(to_lowercase)\n",
    "X_val_clean['clean_comments'] = X_val_clean['clean_comments'].apply(to_lowercase)\n",
    "X_val_clean['clean_description'] = X_val_clean['clean_description'].apply(to_lowercase)\n",
    "test_clean['clean_comments'] = test_clean['clean_comments'].apply(to_lowercase)\n",
    "test_clean['clean_description'] = test_clean['clean_description'].apply(to_lowercase)"
   ]
  },
  {
   "cell_type": "markdown",
   "metadata": {},
   "source": [
    "### Remove HTML tags"
   ]
  },
  {
   "cell_type": "code",
   "execution_count": 289,
   "metadata": {},
   "outputs": [],
   "source": [
    "def remove_html_tags(text):\n",
    "    text = re.sub(r'<.*?>', ' ', text)\n",
    "    text = re.sub(\"<br />\", \" \", text)\n",
    "    return text"
   ]
  },
  {
   "cell_type": "code",
   "execution_count": 290,
   "metadata": {},
   "outputs": [],
   "source": [
    "X_train_clean['clean_comments'] = X_train_clean['clean_comments'].apply(remove_html_tags)\n",
    "X_train_clean['clean_description'] = X_train_clean['clean_description'].apply(remove_html_tags)\n",
    "X_val_clean['clean_comments'] = X_val_clean['clean_comments'].apply(remove_html_tags)\n",
    "X_val_clean['clean_description'] = X_val_clean['clean_description'].apply(remove_html_tags)\n",
    "test_clean['clean_comments'] = test_clean['clean_comments'].apply(remove_html_tags)\n",
    "test_clean['clean_description'] = test_clean['clean_description'].apply(remove_html_tags)"
   ]
  },
  {
   "cell_type": "markdown",
   "metadata": {},
   "source": [
    "### Numbers"
   ]
  },
  {
   "cell_type": "code",
   "execution_count": 291,
   "metadata": {},
   "outputs": [],
   "source": [
    "def replace_numbers(text):\n",
    "    number_pattern = r'\\b\\d+\\b'\n",
    "    return re.sub(number_pattern, 'NUMBER', text)"
   ]
  },
  {
   "cell_type": "code",
   "execution_count": 292,
   "metadata": {},
   "outputs": [],
   "source": [
    "X_train_clean['clean_comments'] = X_train_clean['clean_comments'].apply(replace_numbers)\n",
    "X_train_clean['clean_description'] = X_train_clean['clean_description'].apply(replace_numbers)\n",
    "X_val_clean['clean_comments'] = X_val_clean['clean_comments'].apply(replace_numbers)\n",
    "X_val_clean['clean_description'] = X_val_clean['clean_description'].apply(replace_numbers)\n",
    "test_clean['clean_comments'] = test_clean['clean_comments'].apply(replace_numbers)\n",
    "test_clean['clean_description'] = test_clean['clean_description'].apply(replace_numbers)"
   ]
  },
  {
   "cell_type": "markdown",
   "metadata": {},
   "source": [
    "### Remove non alphabetic characters "
   ]
  },
  {
   "cell_type": "code",
   "execution_count": 293,
   "metadata": {},
   "outputs": [],
   "source": [
    "def remove_non_alphabetic(text):\n",
    "    return re.sub(r'[^a-zA-Z\\s]', ' ', text)"
   ]
  },
  {
   "cell_type": "code",
   "execution_count": 294,
   "metadata": {},
   "outputs": [],
   "source": [
    "X_train_clean['clean_comments'] = X_train_clean['clean_comments'].apply(remove_non_alphabetic)\n",
    "X_train_clean['clean_description'] = X_train_clean['clean_description'].apply(remove_non_alphabetic)\n",
    "X_val_clean['clean_comments'] = X_val_clean['clean_comments'].apply(remove_non_alphabetic)\n",
    "X_val_clean['clean_description'] = X_val_clean['clean_description'].apply(remove_non_alphabetic)\n",
    "test_clean['clean_comments'] = test_clean['clean_comments'].apply(remove_non_alphabetic)\n",
    "test_clean['clean_description'] = test_clean['clean_description'].apply(remove_non_alphabetic)"
   ]
  },
  {
   "cell_type": "markdown",
   "metadata": {},
   "source": [
    "### Stopwords"
   ]
  },
  {
   "cell_type": "code",
   "execution_count": 295,
   "metadata": {},
   "outputs": [
    {
     "name": "stderr",
     "output_type": "stream",
     "text": [
      "[nltk_data] Downloading package punkt to\n",
      "[nltk_data]     C:\\Users\\barbara\\AppData\\Roaming\\nltk_data...\n",
      "[nltk_data]   Package punkt is already up-to-date!\n",
      "[nltk_data] Downloading package stopwords to\n",
      "[nltk_data]     C:\\Users\\barbara\\AppData\\Roaming\\nltk_data...\n",
      "[nltk_data]   Package stopwords is already up-to-date!\n",
      "[nltk_data] Downloading package wordnet to\n",
      "[nltk_data]     C:\\Users\\barbara\\AppData\\Roaming\\nltk_data...\n",
      "[nltk_data]   Package wordnet is already up-to-date!\n"
     ]
    }
   ],
   "source": [
    "nltk.download('punkt')\n",
    "nltk.download('stopwords')\n",
    "nltk.download('wordnet')\n",
    "\n",
    "# Supported languages by NLTK and their abbreviations\n",
    "supported_languages_nltk = {\n",
    "    'ar': 'arabic', 'da': 'danish', 'nl': 'dutch', 'en': 'english', 'fi': 'finnish', 'fr': 'french',\n",
    "    'de': 'german', 'hu': 'hungarian', 'it': 'italian', 'no': 'norwegian', 'pt': 'portuguese',\n",
    "    'ro': 'romanian', 'ru': 'russian', 'es': 'spanish', 'sv': 'swedish'\n",
    "}\n",
    "\n",
    "stopwords_dict = {abbr: set(stopwords.words(full)) for abbr, full in supported_languages_nltk.items()}"
   ]
  },
  {
   "cell_type": "code",
   "execution_count": 296,
   "metadata": {},
   "outputs": [],
   "source": [
    "def remove_stopwords(text, language='en'):\n",
    "    stop = stopwords_dict.get(supported_languages_nltk.get(language, 'english'), set())\n",
    "    words = text.split()\n",
    "    return ' '.join([word for word in words if word.lower() not in stop])"
   ]
  },
  {
   "cell_type": "code",
   "execution_count": 297,
   "metadata": {
    "scrolled": false
   },
   "outputs": [],
   "source": [
    "X_train_clean['clean_comments'] = X_train_clean['clean_comments'].apply(remove_stopwords)\n",
    "X_train_clean['clean_description'] = X_train_clean['clean_description'].apply(remove_stopwords)\n",
    "X_val_clean['clean_comments'] = X_val_clean['clean_comments'].apply(remove_stopwords)\n",
    "X_val_clean['clean_description'] = X_val_clean['clean_description'].apply(remove_stopwords)\n",
    "test_clean['clean_comments'] = test_clean['clean_comments'].apply(remove_stopwords)\n",
    "test_clean['clean_description'] = test_clean['clean_description'].apply(remove_stopwords)"
   ]
  },
  {
   "cell_type": "markdown",
   "metadata": {},
   "source": [
    "### Lemmatization"
   ]
  },
  {
   "cell_type": "code",
   "execution_count": 298,
   "metadata": {},
   "outputs": [],
   "source": [
    "lemma = WordNetLemmatizer()\n",
    "\n",
    "def lemmatize(sentence):\n",
    "    words = re.findall(r'\\b\\w+\\b', sentence)  \n",
    "    return ' '.join(lemma.lemmatize(word) for word in words)"
   ]
  },
  {
   "cell_type": "code",
   "execution_count": 299,
   "metadata": {},
   "outputs": [],
   "source": [
    "X_train_clean['clean_comments'] = X_train_clean['clean_comments'].apply(lemmatize)\n",
    "X_train_clean['clean_description'] = X_train_clean['clean_description'].apply(lemmatize)\n",
    "X_val_clean['clean_comments'] = X_val_clean['clean_comments'].apply(lemmatize)\n",
    "X_val_clean['clean_description'] = X_val_clean['clean_description'].apply(lemmatize)\n",
    "test_clean['clean_comments'] = test_clean['clean_comments'].apply(lemmatize)\n",
    "test_clean['clean_description'] = test_clean['clean_description'].apply(lemmatize)"
   ]
  },
  {
   "cell_type": "code",
   "execution_count": 300,
   "metadata": {},
   "outputs": [
    {
     "name": "stdout",
     "output_type": "stream",
     "text": [
      "Missing values in each column:\n",
      "description             0\n",
      "description_language    0\n",
      "comments                0\n",
      "comment_language        0\n",
      "clean_comments          0\n",
      "clean_description       0\n",
      "dtype: int64\n"
     ]
    }
   ],
   "source": [
    "missing_values = X_train_clean.isnull().sum()\n",
    "\n",
    "print(\"Missing values in each column:\")\n",
    "print(missing_values)"
   ]
  },
  {
   "cell_type": "code",
   "execution_count": 1,
   "metadata": {},
   "outputs": [
    {
     "ename": "NameError",
     "evalue": "name 'X_train_clean' is not defined",
     "output_type": "error",
     "traceback": [
      "\u001b[1;31m---------------------------------------------------------------------------\u001b[0m",
      "\u001b[1;31mNameError\u001b[0m                                 Traceback (most recent call last)",
      "\u001b[1;32m~\\AppData\\Local\\Temp/ipykernel_2480/520814539.py\u001b[0m in \u001b[0;36m<module>\u001b[1;34m\u001b[0m\n\u001b[1;32m----> 1\u001b[1;33m \u001b[0mX_train_clean\u001b[0m\u001b[1;33m.\u001b[0m\u001b[0mto_csv\u001b[0m\u001b[1;33m(\u001b[0m\u001b[1;34m'X_train_clean.csv'\u001b[0m\u001b[1;33m,\u001b[0m \u001b[0mindex\u001b[0m\u001b[1;33m=\u001b[0m\u001b[1;32mFalse\u001b[0m\u001b[1;33m)\u001b[0m\u001b[1;33m\u001b[0m\u001b[1;33m\u001b[0m\u001b[0m\n\u001b[0m\u001b[0;32m      2\u001b[0m \u001b[0mX_val_clean\u001b[0m\u001b[1;33m.\u001b[0m\u001b[0mto_csv\u001b[0m\u001b[1;33m(\u001b[0m\u001b[1;34m'X_val_clean.csv'\u001b[0m\u001b[1;33m,\u001b[0m \u001b[0mindex\u001b[0m\u001b[1;33m=\u001b[0m\u001b[1;32mFalse\u001b[0m\u001b[1;33m)\u001b[0m\u001b[1;33m\u001b[0m\u001b[1;33m\u001b[0m\u001b[0m\n\u001b[0;32m      3\u001b[0m \u001b[0mtest_clean\u001b[0m\u001b[1;33m.\u001b[0m\u001b[0mto_csv\u001b[0m\u001b[1;33m(\u001b[0m\u001b[1;34m'test_clean.csv'\u001b[0m\u001b[1;33m,\u001b[0m \u001b[0mindex\u001b[0m\u001b[1;33m=\u001b[0m\u001b[1;32mFalse\u001b[0m\u001b[1;33m)\u001b[0m\u001b[1;33m\u001b[0m\u001b[1;33m\u001b[0m\u001b[0m\n",
      "\u001b[1;31mNameError\u001b[0m: name 'X_train_clean' is not defined"
     ]
    }
   ],
   "source": [
    "X_train_clean.to_csv('X_train_clean.csv', index=False)\n",
    "X_val_clean.to_csv('X_val_clean.csv', index=False)\n",
    "test_clean.to_csv('test_clean.csv', index=False)"
   ]
  },
  {
   "cell_type": "markdown",
   "metadata": {},
   "source": [
    "### Re-importing the data"
   ]
  },
  {
   "cell_type": "code",
   "execution_count": 4,
   "metadata": {},
   "outputs": [],
   "source": [
    "X_train_clean = pd.read_csv('X_train_clean.csv')\n",
    "X_val_clean = pd.read_csv('X_val_clean.csv')\n",
    "test_clean = pd.read_csv('test_clean.csv')"
   ]
  },
  {
   "cell_type": "code",
   "execution_count": 3,
   "metadata": {
    "scrolled": true
   },
   "outputs": [
    {
     "name": "stdout",
     "output_type": "stream",
     "text": [
      "Missing values in each column:\n",
      "description             0\n",
      "description_language    0\n",
      "comments                0\n",
      "comment_language        0\n",
      "clean_comments          0\n",
      "clean_description       0\n",
      "dtype: int64\n"
     ]
    }
   ],
   "source": [
    "missing_values = X_train_clean.isnull().sum()\n",
    "\n",
    "print(\"Missing values in each column:\")\n",
    "print(missing_values)"
   ]
  },
  {
   "cell_type": "code",
   "execution_count": 4,
   "metadata": {},
   "outputs": [
    {
     "name": "stderr",
     "output_type": "stream",
     "text": [
      "[nltk_data] Downloading package punkt to\n",
      "[nltk_data]     C:\\Users\\barbara\\AppData\\Roaming\\nltk_data...\n",
      "[nltk_data]   Package punkt is already up-to-date!\n"
     ]
    },
    {
     "data": {
      "image/png": "[encoded data removed]",
      "text/plain": [
       "<Figure size 864x432 with 2 Axes>"
      ]
     },
     "metadata": {
      "needs_background": "light"
     },
     "output_type": "display_data"
    }
   ],
   "source": [
    "import pandas as pd\n",
    "from collections import Counter\n",
    "import matplotlib.pyplot as plt\n",
    "from nltk.tokenize import word_tokenize\n",
    "import nltk\n",
    "\n",
    "# Download NLTK data files (only needed once)\n",
    "nltk.download('punkt')\n",
    "\n",
    "# Assuming X_train_clean is your DataFrame\n",
    "\n",
    "# Tokenize the text and count the word frequencies for 'clean_comments'\n",
    "all_words_comments = word_tokenize(' '.join(X_train_clean['clean_comments'].astype(str)))\n",
    "word_freq_comments = Counter(all_words_comments)\n",
    "common_words_comments = word_freq_comments.most_common(20)\n",
    "words_comments, counts_comments = zip(*common_words_comments)\n",
    "\n",
    "# Tokenize the text and count the word frequencies for 'clean_description'\n",
    "all_words_description = word_tokenize(' '.join(X_train_clean['clean_description'].astype(str)))\n",
    "word_freq_description = Counter(all_words_description)\n",
    "common_words_description = word_freq_description.most_common(20)\n",
    "words_description, counts_description = zip(*common_words_description)\n",
    "\n",
    "# Create the bar plot for 'clean_comments'\n",
    "plt.figure(figsize=(12, 6))\n",
    "\n",
    "plt.subplot(1, 2, 1)\n",
    "plt.barh(words_comments, counts_comments, color='skyblue')\n",
    "plt.xlabel('Frequency')\n",
    "plt.ylabel('Words')\n",
    "plt.title('Top 20 Most Common Words in Clean Comments')\n",
    "plt.gca().invert_yaxis()  # Invert y-axis to have the highest frequency at the top\n",
    "\n",
    "# Create the bar plot for 'clean_description'\n",
    "plt.subplot(1, 2, 2)\n",
    "plt.barh(words_description, counts_description, color='lightgreen')\n",
    "plt.xlabel('Frequency')\n",
    "plt.ylabel('Words')\n",
    "plt.title('Top 20 Most Common Words in Clean Descriptions')\n",
    "plt.gca().invert_yaxis()  # Invert y-axis to have the highest frequency at the top\n",
    "\n",
    "plt.tight_layout()\n",
    "plt.show()\n"
   ]
  },
  {
   "cell_type": "markdown",
   "metadata": {},
   "source": [
    "# Feature Engineering "
   ]
  },
  {
   "cell_type": "markdown",
   "metadata": {},
   "source": [
    "## Bag of Words"
   ]
  },
  {
   "cell_type": "code",
   "execution_count": 5,
   "metadata": {},
   "outputs": [],
   "source": [
    "from sklearn.feature_extraction.text import CountVectorizer"
   ]
  },
  {
   "cell_type": "code",
   "execution_count": 6,
   "metadata": {},
   "outputs": [],
   "source": [
    "bow = CountVectorizer(binary=True)  "
   ]
  },
  {
   "cell_type": "code",
   "execution_count": 7,
   "metadata": {},
   "outputs": [],
   "source": [
    "X_train_bow = bow.fit_transform(X_train_clean['clean_comments'])\n",
    "X_train_bow = bow.fit_transform(X_train_clean['clean_description'])"
   ]
  },
  {
   "cell_type": "code",
   "execution_count": 8,
   "metadata": {},
   "outputs": [],
   "source": [
    "X_val_bow = bow.fit_transform(X_val_clean[\"clean_comments\"])"
   ]
  },
  {
   "cell_type": "code",
   "execution_count": 9,
   "metadata": {},
   "outputs": [
    {
     "data": {
      "text/plain": [
       "<70654x54687 sparse matrix of type '<class 'numpy.int64'>'\n",
       "\twith 2498610 stored elements in Compressed Sparse Row format>"
      ]
     },
     "execution_count": 9,
     "metadata": {},
     "output_type": "execute_result"
    }
   ],
   "source": [
    "X_val_bow"
   ]
  },
  {
   "cell_type": "markdown",
   "metadata": {},
   "source": [
    "## TF-IDF"
   ]
  },
  {
   "cell_type": "code",
   "execution_count": 10,
   "metadata": {},
   "outputs": [],
   "source": [
    "from sklearn.feature_extraction.text import TfidfVectorizer"
   ]
  },
  {
   "cell_type": "code",
   "execution_count": 11,
   "metadata": {},
   "outputs": [],
   "source": [
    "tfidf = TfidfVectorizer()"
   ]
  },
  {
   "cell_type": "code",
   "execution_count": 12,
   "metadata": {},
   "outputs": [],
   "source": [
    "X_train_tfidf = tfidf.fit_transform(X_train_clean[\"clean_comments\"])"
   ]
  },
  {
   "cell_type": "code",
   "execution_count": 13,
   "metadata": {},
   "outputs": [],
   "source": [
    "df_tfidf = pd.DataFrame(X_train_tfidf[0].T.todense(), index=tfidf.get_feature_names(), columns=[\"TF-IDF\"])\n",
    "\n",
    "df_tfidf = df_tfidf.sort_values('TF-IDF', ascending=False)"
   ]
  },
  {
   "cell_type": "code",
   "execution_count": 14,
   "metadata": {},
   "outputs": [
    {
     "data": {
      "text/html": [
       "<div>\n",
       "<style scoped>\n",
       "    .dataframe tbody tr th:only-of-type {\n",
       "        vertical-align: middle;\n",
       "    }\n",
       "\n",
       "    .dataframe tbody tr th {\n",
       "        vertical-align: top;\n",
       "    }\n",
       "\n",
       "    .dataframe thead th {\n",
       "        text-align: right;\n",
       "    }\n",
       "</style>\n",
       "<table border=\"1\" class=\"dataframe\">\n",
       "  <thead>\n",
       "    <tr style=\"text-align: right;\">\n",
       "      <th></th>\n",
       "      <th>TF-IDF</th>\n",
       "    </tr>\n",
       "  </thead>\n",
       "  <tbody>\n",
       "    <tr>\n",
       "      <th>hosters</th>\n",
       "      <td>0.322032</td>\n",
       "    </tr>\n",
       "    <tr>\n",
       "      <th>identical</th>\n",
       "      <td>0.295419</td>\n",
       "    </tr>\n",
       "    <tr>\n",
       "      <th>very</th>\n",
       "      <td>0.242714</td>\n",
       "    </tr>\n",
       "    <tr>\n",
       "      <th>thanks</th>\n",
       "      <td>0.241550</td>\n",
       "    </tr>\n",
       "    <tr>\n",
       "      <th>mum</th>\n",
       "      <td>0.241120</td>\n",
       "    </tr>\n",
       "    <tr>\n",
       "      <th>presence</th>\n",
       "      <td>0.235828</td>\n",
       "    </tr>\n",
       "    <tr>\n",
       "      <th>smile</th>\n",
       "      <td>0.221642</td>\n",
       "    </tr>\n",
       "    <tr>\n",
       "      <th>david</th>\n",
       "      <td>0.204919</td>\n",
       "    </tr>\n",
       "    <tr>\n",
       "      <th>hosting</th>\n",
       "      <td>0.200949</td>\n",
       "    </tr>\n",
       "    <tr>\n",
       "      <th>present</th>\n",
       "      <td>0.194190</td>\n",
       "    </tr>\n",
       "  </tbody>\n",
       "</table>\n",
       "</div>"
      ],
      "text/plain": [
       "             TF-IDF\n",
       "hosters    0.322032\n",
       "identical  0.295419\n",
       "very       0.242714\n",
       "thanks     0.241550\n",
       "mum        0.241120\n",
       "presence   0.235828\n",
       "smile      0.221642\n",
       "david      0.204919\n",
       "hosting    0.200949\n",
       "present    0.194190"
      ]
     },
     "execution_count": 14,
     "metadata": {},
     "output_type": "execute_result"
    }
   ],
   "source": [
    "df_tfidf.head(10)"
   ]
  },
  {
   "cell_type": "markdown",
   "metadata": {},
   "source": [
    "## GloVe Embeddings"
   ]
  },
  {
   "cell_type": "code",
   "execution_count": 22,
   "metadata": {},
   "outputs": [],
   "source": [
    "import gensim.downloader as api"
   ]
  },
  {
   "cell_type": "code",
   "execution_count": 23,
   "metadata": {},
   "outputs": [
    {
     "name": "stdout",
     "output_type": "stream",
     "text": [
      "[===-----------------------------------------------] 7.5% 28.4/376.1MB downloaded"
     ]
    },
    {
     "name": "stderr",
     "output_type": "stream",
     "text": [
      "IOPub message rate exceeded.\n",
      "The notebook server will temporarily stop sending output\n",
      "to the client in order to avoid crashing it.\n",
      "To change this limit, set the config variable\n",
      "`--NotebookApp.iopub_msg_rate_limit`.\n",
      "\n",
      "Current values:\n",
      "NotebookApp.iopub_msg_rate_limit=1000.0 (msgs/sec)\n",
      "NotebookApp.rate_limit_window=3.0 (secs)\n",
      "\n"
     ]
    },
    {
     "name": "stdout",
     "output_type": "stream",
     "text": [
      "[========------------------------------------------] 16.6% 62.3/376.1MB downloaded"
     ]
    },
    {
     "name": "stderr",
     "output_type": "stream",
     "text": [
      "IOPub message rate exceeded.\n",
      "The notebook server will temporarily stop sending output\n",
      "to the client in order to avoid crashing it.\n",
      "To change this limit, set the config variable\n",
      "`--NotebookApp.iopub_msg_rate_limit`.\n",
      "\n",
      "Current values:\n",
      "NotebookApp.iopub_msg_rate_limit=1000.0 (msgs/sec)\n",
      "NotebookApp.rate_limit_window=3.0 (secs)\n",
      "\n"
     ]
    },
    {
     "name": "stdout",
     "output_type": "stream",
     "text": [
      "[=============-------------------------------------] 26.4% 99.3/376.1MB downloaded"
     ]
    },
    {
     "name": "stderr",
     "output_type": "stream",
     "text": [
      "IOPub message rate exceeded.\n",
      "The notebook server will temporarily stop sending output\n",
      "to the client in order to avoid crashing it.\n",
      "To change this limit, set the config variable\n",
      "`--NotebookApp.iopub_msg_rate_limit`.\n",
      "\n",
      "Current values:\n",
      "NotebookApp.iopub_msg_rate_limit=1000.0 (msgs/sec)\n",
      "NotebookApp.rate_limit_window=3.0 (secs)\n",
      "\n"
     ]
    },
    {
     "name": "stdout",
     "output_type": "stream",
     "text": [
      "[=================---------------------------------] 35.6% 133.9/376.1MB downloaded"
     ]
    },
    {
     "name": "stderr",
     "output_type": "stream",
     "text": [
      "IOPub message rate exceeded.\n",
      "The notebook server will temporarily stop sending output\n",
      "to the client in order to avoid crashing it.\n",
      "To change this limit, set the config variable\n",
      "`--NotebookApp.iopub_msg_rate_limit`.\n",
      "\n",
      "Current values:\n",
      "NotebookApp.iopub_msg_rate_limit=1000.0 (msgs/sec)\n",
      "NotebookApp.rate_limit_window=3.0 (secs)\n",
      "\n"
     ]
    },
    {
     "name": "stdout",
     "output_type": "stream",
     "text": [
      "[======================----------------------------] 45.7% 171.7/376.1MB downloaded"
     ]
    },
    {
     "name": "stderr",
     "output_type": "stream",
     "text": [
      "IOPub message rate exceeded.\n",
      "The notebook server will temporarily stop sending output\n",
      "to the client in order to avoid crashing it.\n",
      "To change this limit, set the config variable\n",
      "`--NotebookApp.iopub_msg_rate_limit`.\n",
      "\n",
      "Current values:\n",
      "NotebookApp.iopub_msg_rate_limit=1000.0 (msgs/sec)\n",
      "NotebookApp.rate_limit_window=3.0 (secs)\n",
      "\n"
     ]
    },
    {
     "name": "stdout",
     "output_type": "stream",
     "text": [
      "[============================----------------------] 56.6% 212.8/376.1MB downloaded"
     ]
    },
    {
     "name": "stderr",
     "output_type": "stream",
     "text": [
      "IOPub message rate exceeded.\n",
      "The notebook server will temporarily stop sending output\n",
      "to the client in order to avoid crashing it.\n",
      "To change this limit, set the config variable\n",
      "`--NotebookApp.iopub_msg_rate_limit`.\n",
      "\n",
      "Current values:\n",
      "NotebookApp.iopub_msg_rate_limit=1000.0 (msgs/sec)\n",
      "NotebookApp.rate_limit_window=3.0 (secs)\n",
      "\n"
     ]
    },
    {
     "name": "stdout",
     "output_type": "stream",
     "text": [
      "[=================================-----------------] 67.0% 251.8/376.1MB downloaded"
     ]
    },
    {
     "name": "stderr",
     "output_type": "stream",
     "text": [
      "IOPub message rate exceeded.\n",
      "The notebook server will temporarily stop sending output\n",
      "to the client in order to avoid crashing it.\n",
      "To change this limit, set the config variable\n",
      "`--NotebookApp.iopub_msg_rate_limit`.\n",
      "\n",
      "Current values:\n",
      "NotebookApp.iopub_msg_rate_limit=1000.0 (msgs/sec)\n",
      "NotebookApp.rate_limit_window=3.0 (secs)\n",
      "\n"
     ]
    },
    {
     "name": "stdout",
     "output_type": "stream",
     "text": [
      "[======================================------------] 76.6% 288.2/376.1MB downloaded"
     ]
    },
    {
     "name": "stderr",
     "output_type": "stream",
     "text": [
      "IOPub message rate exceeded.\n",
      "The notebook server will temporarily stop sending output\n",
      "to the client in order to avoid crashing it.\n",
      "To change this limit, set the config variable\n",
      "`--NotebookApp.iopub_msg_rate_limit`.\n",
      "\n",
      "Current values:\n",
      "NotebookApp.iopub_msg_rate_limit=1000.0 (msgs/sec)\n",
      "NotebookApp.rate_limit_window=3.0 (secs)\n",
      "\n"
     ]
    },
    {
     "name": "stdout",
     "output_type": "stream",
     "text": [
      "[===========================================-------] 87.5% 329.0/376.1MB downloaded"
     ]
    },
    {
     "name": "stderr",
     "output_type": "stream",
     "text": [
      "IOPub message rate exceeded.\n",
      "The notebook server will temporarily stop sending output\n",
      "to the client in order to avoid crashing it.\n",
      "To change this limit, set the config variable\n",
      "`--NotebookApp.iopub_msg_rate_limit`.\n",
      "\n",
      "Current values:\n",
      "NotebookApp.iopub_msg_rate_limit=1000.0 (msgs/sec)\n",
      "NotebookApp.rate_limit_window=3.0 (secs)\n",
      "\n"
     ]
    },
    {
     "name": "stdout",
     "output_type": "stream",
     "text": [
      "[=================================================-] 98.2% 369.3/376.1MB downloaded"
     ]
    },
    {
     "name": "stderr",
     "output_type": "stream",
     "text": [
      "IOPub message rate exceeded.\n",
      "The notebook server will temporarily stop sending output\n",
      "to the client in order to avoid crashing it.\n",
      "To change this limit, set the config variable\n",
      "`--NotebookApp.iopub_msg_rate_limit`.\n",
      "\n",
      "Current values:\n",
      "NotebookApp.iopub_msg_rate_limit=1000.0 (msgs/sec)\n",
      "NotebookApp.rate_limit_window=3.0 (secs)\n",
      "\n"
     ]
    }
   ],
   "source": [
    "model = api.load(\"glove-wiki-gigaword-300\")"
   ]
  },
  {
   "cell_type": "code",
   "execution_count": 24,
   "metadata": {},
   "outputs": [],
   "source": [
    "def apply_glove_embeddings(text):\n",
    "    words = text.split()\n",
    "    embeddings = [model[word] if word in model else np.zeros(model.vector_size)\n",
    "                  for word in words]\n",
    "    return np.mean(embeddings, axis=0) if embeddings else np.zeros(model.vector_size)"
   ]
  },
  {
   "cell_type": "code",
   "execution_count": 25,
   "metadata": {},
   "outputs": [],
   "source": [
    "X_train_embeddings = np.array([apply_glove_embeddings(text) for text in X_train_clean])"
   ]
  },
  {
   "cell_type": "code",
   "execution_count": 27,
   "metadata": {},
   "outputs": [],
   "source": [
    "# é suposto aplicar isto ao val e ao test?"
   ]
  },
  {
   "cell_type": "markdown",
   "metadata": {},
   "source": [
    "## Word Embedding with Word2Vec"
   ]
  },
  {
   "cell_type": "code",
   "execution_count": 315,
   "metadata": {},
   "outputs": [],
   "source": [
    "#!pip install gensim nltk\n"
   ]
  },
  {
   "cell_type": "code",
   "execution_count": 316,
   "metadata": {},
   "outputs": [],
   "source": [
    "from gensim.models import Word2Vec"
   ]
  },
  {
   "cell_type": "code",
   "execution_count": 317,
   "metadata": {},
   "outputs": [],
   "source": [
    "model_word2vec = Word2Vec(sentences=X_train_clean[\"clean_comments\"], vector_size=100, window=5, min_count=0, workers=4)"
   ]
  },
  {
   "cell_type": "code",
   "execution_count": 318,
   "metadata": {},
   "outputs": [
    {
     "data": {
      "text/plain": [
       "0         very good stay and trip to lisbon x d the apar...\n",
       "1         beautiful spot incredible setting and view lov...\n",
       "2         thank you for making u feel very welcome charl...\n",
       "3         que de compliment tres bon accueil appart ultr...\n",
       "4         great location and perfect flat for two terass...\n",
       "                                ...                        \n",
       "282310    logement conforme a la description vraiment tr...\n",
       "282311    great location stylish apartment with many ame...\n",
       "282312    we had a great time at william s flat he wa ve...\n",
       "282313                       i highly recommend this hostel\n",
       "282314    da apartment war einfach super schon und auch ...\n",
       "Name: clean_comments, Length: 282315, dtype: object"
      ]
     },
     "execution_count": 318,
     "metadata": {},
     "output_type": "execute_result"
    }
   ],
   "source": [
    "X_train_clean[\"clean_comments\"]"
   ]
  },
  {
   "cell_type": "code",
   "execution_count": 319,
   "metadata": {},
   "outputs": [
    {
     "name": "stdout",
     "output_type": "stream",
     "text": [
      "dict_keys([' ', 'e', 'a', 't', 'o', 'n', 'i', 'r', 's', 'l', 'd', 'h', 'u', 'c', 'm', 'p', 'y', 'g', 'w', 'f', 'b', 'v', 'k', 'x', 'q', 'j', 'z', 'N', 'U', 'M', 'B', 'E', 'R'])\n"
     ]
    }
   ],
   "source": [
    "print(model_word2vec.wv.key_to_index.keys())"
   ]
  },
  {
   "cell_type": "code",
   "execution_count": 320,
   "metadata": {},
   "outputs": [
    {
     "ename": "KeyError",
     "evalue": "\"Key 'document' not present\"",
     "output_type": "error",
     "traceback": [
      "\u001b[1;31m---------------------------------------------------------------------------\u001b[0m",
      "\u001b[1;31mKeyError\u001b[0m                                  Traceback (most recent call last)",
      "\u001b[1;32m~\\AppData\\Local\\Temp/ipykernel_11860/2000170867.py\u001b[0m in \u001b[0;36m<module>\u001b[1;34m\u001b[0m\n\u001b[1;32m----> 1\u001b[1;33m \u001b[0mword_vector\u001b[0m \u001b[1;33m=\u001b[0m \u001b[0mmodel_word2vec\u001b[0m\u001b[1;33m.\u001b[0m\u001b[0mwv\u001b[0m\u001b[1;33m[\u001b[0m\u001b[1;34m'document'\u001b[0m\u001b[1;33m]\u001b[0m\u001b[1;33m\u001b[0m\u001b[1;33m\u001b[0m\u001b[0m\n\u001b[0m\u001b[0;32m      2\u001b[0m \u001b[0mprint\u001b[0m\u001b[1;33m(\u001b[0m\u001b[1;34m\"Vector for 'document':\"\u001b[0m\u001b[1;33m,\u001b[0m \u001b[0mword_vector\u001b[0m\u001b[1;33m)\u001b[0m\u001b[1;33m\u001b[0m\u001b[1;33m\u001b[0m\u001b[0m\n\u001b[0;32m      3\u001b[0m \u001b[1;33m\u001b[0m\u001b[0m\n\u001b[0;32m      4\u001b[0m \u001b[0msimilar_words\u001b[0m \u001b[1;33m=\u001b[0m \u001b[0mmodel_word2vec\u001b[0m\u001b[1;33m.\u001b[0m\u001b[0mwv\u001b[0m\u001b[1;33m.\u001b[0m\u001b[0mmost_similar\u001b[0m\u001b[1;33m(\u001b[0m\u001b[1;34m'document'\u001b[0m\u001b[1;33m)\u001b[0m\u001b[1;33m\u001b[0m\u001b[1;33m\u001b[0m\u001b[0m\n\u001b[0;32m      5\u001b[0m \u001b[0mprint\u001b[0m\u001b[1;33m(\u001b[0m\u001b[1;34m\"Most similar words to 'document':\"\u001b[0m\u001b[1;33m,\u001b[0m \u001b[0msimilar_words\u001b[0m\u001b[1;33m)\u001b[0m\u001b[1;33m\u001b[0m\u001b[1;33m\u001b[0m\u001b[0m\n",
      "\u001b[1;32m~\\anaconda3\\lib\\site-packages\\gensim\\models\\keyedvectors.py\u001b[0m in \u001b[0;36m__getitem__\u001b[1;34m(self, key_or_keys)\u001b[0m\n\u001b[0;32m    401\u001b[0m         \"\"\"\n\u001b[0;32m    402\u001b[0m         \u001b[1;32mif\u001b[0m \u001b[0misinstance\u001b[0m\u001b[1;33m(\u001b[0m\u001b[0mkey_or_keys\u001b[0m\u001b[1;33m,\u001b[0m \u001b[0m_KEY_TYPES\u001b[0m\u001b[1;33m)\u001b[0m\u001b[1;33m:\u001b[0m\u001b[1;33m\u001b[0m\u001b[1;33m\u001b[0m\u001b[0m\n\u001b[1;32m--> 403\u001b[1;33m             \u001b[1;32mreturn\u001b[0m \u001b[0mself\u001b[0m\u001b[1;33m.\u001b[0m\u001b[0mget_vector\u001b[0m\u001b[1;33m(\u001b[0m\u001b[0mkey_or_keys\u001b[0m\u001b[1;33m)\u001b[0m\u001b[1;33m\u001b[0m\u001b[1;33m\u001b[0m\u001b[0m\n\u001b[0m\u001b[0;32m    404\u001b[0m \u001b[1;33m\u001b[0m\u001b[0m\n\u001b[0;32m    405\u001b[0m         \u001b[1;32mreturn\u001b[0m \u001b[0mvstack\u001b[0m\u001b[1;33m(\u001b[0m\u001b[1;33m[\u001b[0m\u001b[0mself\u001b[0m\u001b[1;33m.\u001b[0m\u001b[0mget_vector\u001b[0m\u001b[1;33m(\u001b[0m\u001b[0mkey\u001b[0m\u001b[1;33m)\u001b[0m \u001b[1;32mfor\u001b[0m \u001b[0mkey\u001b[0m \u001b[1;32min\u001b[0m \u001b[0mkey_or_keys\u001b[0m\u001b[1;33m]\u001b[0m\u001b[1;33m)\u001b[0m\u001b[1;33m\u001b[0m\u001b[1;33m\u001b[0m\u001b[0m\n",
      "\u001b[1;32m~\\anaconda3\\lib\\site-packages\\gensim\\models\\keyedvectors.py\u001b[0m in \u001b[0;36mget_vector\u001b[1;34m(self, key, norm)\u001b[0m\n\u001b[0;32m    444\u001b[0m \u001b[1;33m\u001b[0m\u001b[0m\n\u001b[0;32m    445\u001b[0m         \"\"\"\n\u001b[1;32m--> 446\u001b[1;33m         \u001b[0mindex\u001b[0m \u001b[1;33m=\u001b[0m \u001b[0mself\u001b[0m\u001b[1;33m.\u001b[0m\u001b[0mget_index\u001b[0m\u001b[1;33m(\u001b[0m\u001b[0mkey\u001b[0m\u001b[1;33m)\u001b[0m\u001b[1;33m\u001b[0m\u001b[1;33m\u001b[0m\u001b[0m\n\u001b[0m\u001b[0;32m    447\u001b[0m         \u001b[1;32mif\u001b[0m \u001b[0mnorm\u001b[0m\u001b[1;33m:\u001b[0m\u001b[1;33m\u001b[0m\u001b[1;33m\u001b[0m\u001b[0m\n\u001b[0;32m    448\u001b[0m             \u001b[0mself\u001b[0m\u001b[1;33m.\u001b[0m\u001b[0mfill_norms\u001b[0m\u001b[1;33m(\u001b[0m\u001b[1;33m)\u001b[0m\u001b[1;33m\u001b[0m\u001b[1;33m\u001b[0m\u001b[0m\n",
      "\u001b[1;32m~\\anaconda3\\lib\\site-packages\\gensim\\models\\keyedvectors.py\u001b[0m in \u001b[0;36mget_index\u001b[1;34m(self, key, default)\u001b[0m\n\u001b[0;32m    418\u001b[0m             \u001b[1;32mreturn\u001b[0m \u001b[0mdefault\u001b[0m\u001b[1;33m\u001b[0m\u001b[1;33m\u001b[0m\u001b[0m\n\u001b[0;32m    419\u001b[0m         \u001b[1;32melse\u001b[0m\u001b[1;33m:\u001b[0m\u001b[1;33m\u001b[0m\u001b[1;33m\u001b[0m\u001b[0m\n\u001b[1;32m--> 420\u001b[1;33m             \u001b[1;32mraise\u001b[0m \u001b[0mKeyError\u001b[0m\u001b[1;33m(\u001b[0m\u001b[1;34mf\"Key '{key}' not present\"\u001b[0m\u001b[1;33m)\u001b[0m\u001b[1;33m\u001b[0m\u001b[1;33m\u001b[0m\u001b[0m\n\u001b[0m\u001b[0;32m    421\u001b[0m \u001b[1;33m\u001b[0m\u001b[0m\n\u001b[0;32m    422\u001b[0m     \u001b[1;32mdef\u001b[0m \u001b[0mget_vector\u001b[0m\u001b[1;33m(\u001b[0m\u001b[0mself\u001b[0m\u001b[1;33m,\u001b[0m \u001b[0mkey\u001b[0m\u001b[1;33m,\u001b[0m \u001b[0mnorm\u001b[0m\u001b[1;33m=\u001b[0m\u001b[1;32mFalse\u001b[0m\u001b[1;33m)\u001b[0m\u001b[1;33m:\u001b[0m\u001b[1;33m\u001b[0m\u001b[1;33m\u001b[0m\u001b[0m\n",
      "\u001b[1;31mKeyError\u001b[0m: \"Key 'document' not present\""
     ]
    }
   ],
   "source": [
    "word_vector = model_word2vec.wv['document']\n",
    "print(\"Vector for 'document':\", word_vector)\n",
    "\n",
    "similar_words = model_word2vec.wv.most_similar('document')\n",
    "print(\"Most similar words to 'document':\", similar_words)"
   ]
  },
  {
   "cell_type": "code",
   "execution_count": null,
   "metadata": {},
   "outputs": [],
   "source": []
  }
 ],
 "metadata": {
  "kernelspec": {
   "display_name": "Python 3 (ipykernel)",
   "language": "python",
   "name": "python3"
  },
  "language_info": {
   "codemirror_mode": {
    "name": "ipython",
    "version": 3
   },
   "file_extension": ".py",
   "mimetype": "text/x-python",
   "name": "python",
   "nbconvert_exporter": "python",
   "pygments_lexer": "ipython3",
   "version": "3.9.7"
  }
 },
 "nbformat": 4,
 "nbformat_minor": 2
}
