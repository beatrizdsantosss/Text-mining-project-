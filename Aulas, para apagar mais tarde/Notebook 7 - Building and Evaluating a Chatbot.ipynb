{
 "cells": [
  {
   "cell_type": "markdown",
   "id": "4be2f299-ec9c-43c8-bd14-c2a068094805",
   "metadata": {},
   "source": [
    "# Building and Evaluating a Chatbot\n",
    "In this notebook, we will use the BioASQ dataset to build a chatbot specialized in biomedical knowledge and then evaluate its results using the test dataset."
   ]
  },
  {
   "cell_type": "markdown",
   "id": "f5b0dda5-b648-419d-bdc1-e206eea4796b",
   "metadata": {},
   "source": [
    "## Setup"
   ]
  },
  {
   "cell_type": "code",
   "execution_count": 4,
   "id": "d9e2b222-9485-4b93-bc84-490264a40244",
   "metadata": {},
   "outputs": [],
   "source": [
    "import pandas as pd\n",
    "import os\n",
    "from openai import AzureOpenAI"
   ]
  },
  {
   "cell_type": "code",
   "execution_count": 7,
   "id": "10b963d6-edb8-4253-b0f0-732f61d34d63",
   "metadata": {},
   "outputs": [],
   "source": [
    "from datasets import load_dataset\n",
    "\n",
    "knowledge_base = load_dataset(\"rag-datasets/mini-bioasq\",'text-corpus')\n",
    "test = load_dataset(\"rag-datasets/mini-bioasq\",'question-answer-passages')"
   ]
  },
  {
   "cell_type": "code",
   "execution_count": 8,
   "id": "c883e49f-07d0-429c-8c80-fb7d12e56d49",
   "metadata": {},
   "outputs": [],
   "source": [
    "#os.environ[\"AZURE_OPENAI_API_KEY\"]=\"a17443826ad74e2b89b7b1176db56a7\" \n",
    "#os.environ[\"AZURE_OPENAI_ENDPOINT\"] = \"https://novaimsplayground.openai.azure.com/\" "
   ]
  },
  {
   "cell_type": "code",
   "execution_count": 9,
   "id": "b8b0b936-62f6-409d-9494-f316f2d15b02",
   "metadata": {},
   "outputs": [
    {
     "data": {
      "text/html": [
       "<div>\n",
       "<style scoped>\n",
       "    .dataframe tbody tr th:only-of-type {\n",
       "        vertical-align: middle;\n",
       "    }\n",
       "\n",
       "    .dataframe tbody tr th {\n",
       "        vertical-align: top;\n",
       "    }\n",
       "\n",
       "    .dataframe thead th {\n",
       "        text-align: right;\n",
       "    }\n",
       "</style>\n",
       "<table border=\"1\" class=\"dataframe\">\n",
       "  <thead>\n",
       "    <tr style=\"text-align: right;\">\n",
       "      <th></th>\n",
       "      <th>passages</th>\n",
       "    </tr>\n",
       "  </thead>\n",
       "  <tbody>\n",
       "    <tr>\n",
       "      <th>0</th>\n",
       "      <td>New data on viruses isolated from patients wit...</td>\n",
       "    </tr>\n",
       "    <tr>\n",
       "      <th>1</th>\n",
       "      <td>We describe an improved method for detecting d...</td>\n",
       "    </tr>\n",
       "    <tr>\n",
       "      <th>2</th>\n",
       "      <td>We have studied the effects of curare on respo...</td>\n",
       "    </tr>\n",
       "    <tr>\n",
       "      <th>3</th>\n",
       "      <td>Kinetic and electrophoretic properties of 230-...</td>\n",
       "    </tr>\n",
       "    <tr>\n",
       "      <th>4</th>\n",
       "      <td>Male Wistar specific-pathogen-free rats aged 2...</td>\n",
       "    </tr>\n",
       "  </tbody>\n",
       "</table>\n",
       "</div>"
      ],
      "text/plain": [
       "                                            passages\n",
       "0  New data on viruses isolated from patients wit...\n",
       "1  We describe an improved method for detecting d...\n",
       "2  We have studied the effects of curare on respo...\n",
       "3  Kinetic and electrophoretic properties of 230-...\n",
       "4  Male Wistar specific-pathogen-free rats aged 2..."
      ]
     },
     "execution_count": 9,
     "metadata": {},
     "output_type": "execute_result"
    }
   ],
   "source": [
    "knowledge_base=pd.DataFrame(knowledge_base)\n",
    "knowledge_base['passages']=knowledge_base['passages'].apply(lambda x: x['passage'])\n",
    "knowledge_base.head()"
   ]
  },
  {
   "cell_type": "code",
   "execution_count": 10,
   "id": "34b928c9-ae37-407f-85b0-a610dc2f7444",
   "metadata": {},
   "outputs": [
    {
     "data": {
      "text/html": [
       "<div>\n",
       "<style scoped>\n",
       "    .dataframe tbody tr th:only-of-type {\n",
       "        vertical-align: middle;\n",
       "    }\n",
       "\n",
       "    .dataframe tbody tr th {\n",
       "        vertical-align: top;\n",
       "    }\n",
       "\n",
       "    .dataframe thead th {\n",
       "        text-align: right;\n",
       "    }\n",
       "</style>\n",
       "<table border=\"1\" class=\"dataframe\">\n",
       "  <thead>\n",
       "    <tr style=\"text-align: right;\">\n",
       "      <th></th>\n",
       "      <th>passages</th>\n",
       "    </tr>\n",
       "  </thead>\n",
       "  <tbody>\n",
       "    <tr>\n",
       "      <th>11</th>\n",
       "      <td>nan</td>\n",
       "    </tr>\n",
       "    <tr>\n",
       "      <th>12</th>\n",
       "      <td>nan</td>\n",
       "    </tr>\n",
       "    <tr>\n",
       "      <th>13</th>\n",
       "      <td>nan</td>\n",
       "    </tr>\n",
       "    <tr>\n",
       "      <th>14</th>\n",
       "      <td>nan</td>\n",
       "    </tr>\n",
       "    <tr>\n",
       "      <th>15</th>\n",
       "      <td>nan</td>\n",
       "    </tr>\n",
       "    <tr>\n",
       "      <th>...</th>\n",
       "      <td>...</td>\n",
       "    </tr>\n",
       "    <tr>\n",
       "      <th>40198</th>\n",
       "      <td>nan</td>\n",
       "    </tr>\n",
       "    <tr>\n",
       "      <th>40199</th>\n",
       "      <td>nan</td>\n",
       "    </tr>\n",
       "    <tr>\n",
       "      <th>40200</th>\n",
       "      <td>nan</td>\n",
       "    </tr>\n",
       "    <tr>\n",
       "      <th>40201</th>\n",
       "      <td>nan</td>\n",
       "    </tr>\n",
       "    <tr>\n",
       "      <th>40202</th>\n",
       "      <td>nan</td>\n",
       "    </tr>\n",
       "  </tbody>\n",
       "</table>\n",
       "<p>12220 rows × 1 columns</p>\n",
       "</div>"
      ],
      "text/plain": [
       "      passages\n",
       "11         nan\n",
       "12         nan\n",
       "13         nan\n",
       "14         nan\n",
       "15         nan\n",
       "...        ...\n",
       "40198      nan\n",
       "40199      nan\n",
       "40200      nan\n",
       "40201      nan\n",
       "40202      nan\n",
       "\n",
       "[12220 rows x 1 columns]"
      ]
     },
     "execution_count": 10,
     "metadata": {},
     "output_type": "execute_result"
    }
   ],
   "source": [
    "knowledge_base[knowledge_base[\"passages\"]=='nan']"
   ]
  },
  {
   "cell_type": "code",
   "execution_count": 11,
   "id": "927cf503-7bfb-4acd-b716-33bfd8cd280e",
   "metadata": {},
   "outputs": [],
   "source": [
    "knowledge_base=knowledge_base[knowledge_base[\"passages\"]!='nan']"
   ]
  },
  {
   "cell_type": "code",
   "execution_count": 12,
   "id": "52c60e3f-000b-4038-8f55-f44cc3d61aa5",
   "metadata": {},
   "outputs": [
    {
     "data": {
      "text/html": [
       "<div>\n",
       "<style scoped>\n",
       "    .dataframe tbody tr th:only-of-type {\n",
       "        vertical-align: middle;\n",
       "    }\n",
       "\n",
       "    .dataframe tbody tr th {\n",
       "        vertical-align: top;\n",
       "    }\n",
       "\n",
       "    .dataframe thead th {\n",
       "        text-align: right;\n",
       "    }\n",
       "</style>\n",
       "<table border=\"1\" class=\"dataframe\">\n",
       "  <thead>\n",
       "    <tr style=\"text-align: right;\">\n",
       "      <th></th>\n",
       "      <th>question</th>\n",
       "      <th>answer</th>\n",
       "      <th>relevant_passage_ids</th>\n",
       "    </tr>\n",
       "  </thead>\n",
       "  <tbody>\n",
       "    <tr>\n",
       "      <th>0</th>\n",
       "      <td>Is Hirschsprung disease a mendelian or a multi...</td>\n",
       "      <td>Coding sequence mutations in RET, GDNF, EDNRB,...</td>\n",
       "      <td>[20598273, 6650562, 15829955, 15617541, 230011...</td>\n",
       "    </tr>\n",
       "    <tr>\n",
       "      <th>1</th>\n",
       "      <td>List signaling molecules (ligands) that intera...</td>\n",
       "      <td>The 7 known EGFR ligands  are: epidermal growt...</td>\n",
       "      <td>[23821377, 24323361, 23382875, 22247333, 23787...</td>\n",
       "    </tr>\n",
       "    <tr>\n",
       "      <th>2</th>\n",
       "      <td>Is the protein Papilin secreted?</td>\n",
       "      <td>Yes,  papilin is a secreted protein</td>\n",
       "      <td>[21784067, 19297413, 15094122, 7515725, 332004...</td>\n",
       "    </tr>\n",
       "    <tr>\n",
       "      <th>3</th>\n",
       "      <td>Are long non coding RNAs spliced?</td>\n",
       "      <td>Long non coding RNAs appear to be spliced thro...</td>\n",
       "      <td>[22955974, 21622663, 22707570, 22955988, 24285...</td>\n",
       "    </tr>\n",
       "    <tr>\n",
       "      <th>4</th>\n",
       "      <td>Is RANKL secreted from the cells?</td>\n",
       "      <td>Receptor activator of nuclear factor κB ligand...</td>\n",
       "      <td>[22867712, 23827649, 21618594, 23835909, 24265...</td>\n",
       "    </tr>\n",
       "  </tbody>\n",
       "</table>\n",
       "</div>"
      ],
      "text/plain": [
       "                                            question  \\\n",
       "0  Is Hirschsprung disease a mendelian or a multi...   \n",
       "1  List signaling molecules (ligands) that intera...   \n",
       "2                   Is the protein Papilin secreted?   \n",
       "3                  Are long non coding RNAs spliced?   \n",
       "4                  Is RANKL secreted from the cells?   \n",
       "\n",
       "                                              answer  \\\n",
       "0  Coding sequence mutations in RET, GDNF, EDNRB,...   \n",
       "1  The 7 known EGFR ligands  are: epidermal growt...   \n",
       "2                Yes,  papilin is a secreted protein   \n",
       "3  Long non coding RNAs appear to be spliced thro...   \n",
       "4  Receptor activator of nuclear factor κB ligand...   \n",
       "\n",
       "                                relevant_passage_ids  \n",
       "0  [20598273, 6650562, 15829955, 15617541, 230011...  \n",
       "1  [23821377, 24323361, 23382875, 22247333, 23787...  \n",
       "2  [21784067, 19297413, 15094122, 7515725, 332004...  \n",
       "3  [22955974, 21622663, 22707570, 22955988, 24285...  \n",
       "4  [22867712, 23827649, 21618594, 23835909, 24265...  "
      ]
     },
     "execution_count": 12,
     "metadata": {},
     "output_type": "execute_result"
    }
   ],
   "source": [
    "test=pd.DataFrame(test)\n",
    "test['question']=test['test'].apply(lambda x:x['question'])\n",
    "test['answer']=test['test'].apply(lambda x:x['answer'])\n",
    "test['relevant_passage_ids']=test['test'].apply(lambda x:x['relevant_passage_ids'])\n",
    "test.drop(columns=['test'],inplace=True)\n",
    "test.head()"
   ]
  },
  {
   "cell_type": "markdown",
   "id": "9417ac24-bddc-4b19-a38d-5c800df797f6",
   "metadata": {},
   "source": [
    "## RAG pipeline"
   ]
  },
  {
   "attachments": {
    "16434410-3c5f-4be1-a381-5b8da103fb2d.png": {
     "image/png": "[encoded data removed]"
    }
   },
   "cell_type": "markdown",
   "id": "3a75a16c-64d5-4526-aa33-2e8d7b3f9a8c",
   "metadata": {},
   "source": [
    "Different knowledge sources can also impact the retrieval process. There has been a growing interest in combining LLMs with vector databases. Vector databases are a database which stores data as high-dimensional vectors. LLMs generate these vectors by embedding raw textual data. This type of database provides fast and accurate similarity search and retrieval, support for complex and unstructured data and scalability and performance, with a small trade off on accuracy. <br>\n",
    "For this case, we are going to use a Chroma, a free and open-source vector database.\n",
    "![1_kSkeaXRvRzbJ9SrFZaMoOg.png](attachment:16434410-3c5f-4be1-a381-5b8da103fb2d.png)"
   ]
  },
  {
   "cell_type": "code",
   "execution_count": 15,
   "id": "2848641d-1819-4075-92a6-eff95b1b25cc",
   "metadata": {},
   "outputs": [],
   "source": [
    "#!pip install langchain\n",
    "#!pip install langchain-chroma\n",
    "#!pip install langchain-openai"
   ]
  },
  {
   "cell_type": "markdown",
   "id": "18126cbf-82b7-4aca-a7a8-b344f7574d18",
   "metadata": {},
   "source": [
    "We need to adapt our documents to the Document format of Langchain, so that we can use the integration of Langchain with Chroma."
   ]
  },
  {
   "cell_type": "code",
   "execution_count": 16,
   "id": "311f9ebe-fd4a-4b29-ba7b-d226c03b8139",
   "metadata": {},
   "outputs": [],
   "source": [
    "from langchain.schema.document import Document"
   ]
  },
  {
   "cell_type": "code",
   "execution_count": 17,
   "id": "b6ba2473-78f0-49c4-ba6b-cf274ba530f4",
   "metadata": {},
   "outputs": [],
   "source": [
    "from langchain_openai import AzureOpenAIEmbeddings   \n",
    "embedding_function=AzureOpenAIEmbeddings(\n",
    "    azure_endpoint=os.getenv(\"AZURE_OPENAI_ENDPOINT\"),\n",
    "    azure_deployment=\"TextEmbeddings\",\n",
    "    openai_api_version=\"2024-02-01\",\n",
    "    max_retries=50\n",
    ")"
   ]
  },
  {
   "cell_type": "code",
   "execution_count": 18,
   "id": "6ec33073-42db-4931-b48f-669e21cc3b05",
   "metadata": {},
   "outputs": [],
   "source": [
    "documents=[]\n",
    "for i in range(knowledge_base.shape[0]):\n",
    "    documents.append(Document(page_content=knowledge_base['passages'].iloc[i],metadata={'source':\"https://huggingface.co/datasets/rag-datasets/mini-bioasq\"}))"
   ]
  },
  {
   "cell_type": "markdown",
   "id": "e6ad70c9-2557-4c2c-af79-296ba0ba23d4",
   "metadata": {},
   "source": [
    "By persisting, we do not need to run it again, it saves the data in the folder with the specified directory."
   ]
  },
  {
   "cell_type": "code",
   "execution_count": 19,
   "id": "ed22024c-33bc-4916-8a00-e456dc448893",
   "metadata": {},
   "outputs": [],
   "source": [
    "from langchain_chroma import Chroma\n",
    "db = Chroma.from_documents(documents, embedding_function,persist_directory=\"./chroma_db\")"
   ]
  },
  {
   "cell_type": "code",
   "execution_count": 20,
   "id": "3702f345-0e3b-45d1-b2a6-c763a96c7ca0",
   "metadata": {},
   "outputs": [],
   "source": [
    "# load from disk\n",
    "db = Chroma(persist_directory=\"./chroma_db\", embedding_function=embedding_function)"
   ]
  },
  {
   "cell_type": "markdown",
   "id": "48e9c52a-2a9b-4cd1-9110-89f66345cad8",
   "metadata": {},
   "source": [
    "Let's check the number of tokens in the knowledge base."
   ]
  },
  {
   "cell_type": "code",
   "execution_count": 21,
   "id": "67863b72-9f6c-4341-95a7-9b1280df9aa8",
   "metadata": {},
   "outputs": [],
   "source": [
    "# For our ChatGPT model, use this tokenizer\n",
    "import tiktoken\n",
    "tokenizer=\"cl100k_base\"\n",
    "def num_tokens(text: str, model: str = tokenizer) -> int:\n",
    "    \"\"\"Return the number of tokens in a string.\"\"\"\n",
    "    encoding = tiktoken.get_encoding(tokenizer)\n",
    "    return len(encoding.encode(text))"
   ]
  },
  {
   "cell_type": "code",
   "execution_count": 22,
   "id": "139a6f25-223f-43b8-9a54-71b35071c313",
   "metadata": {},
   "outputs": [],
   "source": [
    "knowledge_base['num_tokens']=knowledge_base['passages'].apply(num_tokens)"
   ]
  },
  {
   "cell_type": "code",
   "execution_count": 23,
   "id": "0a0100ea-5cf4-4667-a2f5-068e8c603016",
   "metadata": {},
   "outputs": [
    {
     "data": {
      "text/html": [
       "<div>\n",
       "<style scoped>\n",
       "    .dataframe tbody tr th:only-of-type {\n",
       "        vertical-align: middle;\n",
       "    }\n",
       "\n",
       "    .dataframe tbody tr th {\n",
       "        vertical-align: top;\n",
       "    }\n",
       "\n",
       "    .dataframe thead th {\n",
       "        text-align: right;\n",
       "    }\n",
       "</style>\n",
       "<table border=\"1\" class=\"dataframe\">\n",
       "  <thead>\n",
       "    <tr style=\"text-align: right;\">\n",
       "      <th></th>\n",
       "      <th>passages</th>\n",
       "      <th>num_tokens</th>\n",
       "    </tr>\n",
       "  </thead>\n",
       "  <tbody>\n",
       "    <tr>\n",
       "      <th>0</th>\n",
       "      <td>New data on viruses isolated from patients wit...</td>\n",
       "      <td>71</td>\n",
       "    </tr>\n",
       "    <tr>\n",
       "      <th>1</th>\n",
       "      <td>We describe an improved method for detecting d...</td>\n",
       "      <td>108</td>\n",
       "    </tr>\n",
       "    <tr>\n",
       "      <th>2</th>\n",
       "      <td>We have studied the effects of curare on respo...</td>\n",
       "      <td>329</td>\n",
       "    </tr>\n",
       "    <tr>\n",
       "      <th>3</th>\n",
       "      <td>Kinetic and electrophoretic properties of 230-...</td>\n",
       "      <td>204</td>\n",
       "    </tr>\n",
       "    <tr>\n",
       "      <th>4</th>\n",
       "      <td>Male Wistar specific-pathogen-free rats aged 2...</td>\n",
       "      <td>360</td>\n",
       "    </tr>\n",
       "  </tbody>\n",
       "</table>\n",
       "</div>"
      ],
      "text/plain": [
       "                                            passages  num_tokens\n",
       "0  New data on viruses isolated from patients wit...          71\n",
       "1  We describe an improved method for detecting d...         108\n",
       "2  We have studied the effects of curare on respo...         329\n",
       "3  Kinetic and electrophoretic properties of 230-...         204\n",
       "4  Male Wistar specific-pathogen-free rats aged 2...         360"
      ]
     },
     "execution_count": 23,
     "metadata": {},
     "output_type": "execute_result"
    }
   ],
   "source": [
    "knowledge_base.head()"
   ]
  },
  {
   "cell_type": "code",
   "execution_count": 24,
   "id": "585d7406-3763-4abd-bcd3-d29732dfb35d",
   "metadata": {},
   "outputs": [
    {
     "data": {
      "text/plain": [
       "29813    8653\n",
       "37871    6272\n",
       "39315    6045\n",
       "39198    5460\n",
       "20982    5285\n",
       "         ... \n",
       "35164       3\n",
       "40154       3\n",
       "36236       3\n",
       "36269       3\n",
       "33327       3\n",
       "Name: num_tokens, Length: 28001, dtype: int64"
      ]
     },
     "execution_count": 24,
     "metadata": {},
     "output_type": "execute_result"
    }
   ],
   "source": [
    "knowledge_base['num_tokens'].sort_values(ascending=False)"
   ]
  },
  {
   "cell_type": "markdown",
   "id": "480cfd18-7749-40cf-944d-4df8b5ef6029",
   "metadata": {},
   "source": [
    "There are strong variations in the number of tokens. We will keep to one document to make sure we do not go over the maximum of tokens for a request. Nevertheless, there could be many other ideas, such as trying to reduce the number of tokens for those passages, dividing those passages in two or adapting the retrieval to limit the number of tokens before going to the prompt. <br>\n",
    "Still, let's create a function to retrieve the most similar document (top_n=1)."
   ]
  },
  {
   "cell_type": "code",
   "execution_count": 25,
   "id": "d5106db5-e92d-4a4b-8cce-18508e10545e",
   "metadata": {},
   "outputs": [],
   "source": [
    "def search_openai_chroma(query: str) -> list[str]:\n",
    "    return db.similarity_search(query,1)[0].page_content"
   ]
  },
  {
   "cell_type": "code",
   "execution_count": 26,
   "id": "41392a37-a64c-4696-9661-603707510f0a",
   "metadata": {},
   "outputs": [
    {
     "data": {
      "text/plain": [
       "'α-taxilin is a binding partner of syntaxins, which are the central coordinators \\nof membrane traffic. Expression of α-taxilin has been implicated in the \\ndevelopment of human glioblastoma, hepatocellular carcinoma and renal cell \\ncarcinoma. In the present study, the clinical significance of α-taxilin \\nexpression in colorectal cancer (CRC) was investigated. A total of 20 cases of \\ncolorectal intramucosal adenocarcinoma (IMA) with adenoma were analyzed using \\nimmunohistochemical analysis. The results demonstrated that α-taxilin expression \\nwas significantly associated with Ki-67 indices in adenoma and IMA. The patients \\nexpressed equally high levels of α-taxilin in the upper third of the \\nintramucosal glands. These results suggest that α-taxilin expression is \\nsignificantly associated with the proliferative activity of CRC, but that its \\noverexpression alone is not a biomarker of malignancy. Next, α-taxilin \\nexpression was investigated in 57 advanced CRCs and its association with \\nprognosis was determined. Well-differentiated and/or moderately differentiated \\nadenocarcinomas in the left-sided colon with anatomic stage II and/or III were \\nanalyzed. α-taxilin expression levels were high on the surface of nearly all \\ntumors, but variable at the deep advancing edge. α-taxilin levels at the \\nadvancing edge were not significantly associated with local invasiveness or \\nprognosis. In conclusion, α-taxilin is a cell proliferation marker in colorectal \\nepithelial neoplasms but cannot be a marker of malignancy or prognosis of CRCs.'"
      ]
     },
     "execution_count": 26,
     "metadata": {},
     "output_type": "execute_result"
    }
   ],
   "source": [
    "search_openai_chroma('papilin')"
   ]
  },
  {
   "cell_type": "markdown",
   "id": "0484fd17-8f27-49b8-bbbf-dd06aa510416",
   "metadata": {},
   "source": [
    "Now, let's start asking questions!"
   ]
  },
  {
   "cell_type": "code",
   "execution_count": 27,
   "id": "80a599c5-4619-48a7-9cd0-248aed7608b7",
   "metadata": {},
   "outputs": [],
   "source": [
    "answer_history=\"\"\n",
    "model=\"ChatGPT16k\""
   ]
  },
  {
   "cell_type": "code",
   "execution_count": 28,
   "id": "761da983-c3f5-4b80-ac0a-c94bbc978a53",
   "metadata": {},
   "outputs": [],
   "source": [
    "client = AzureOpenAI(\n",
    "  azure_endpoint = os.getenv(\"AZURE_OPENAI_ENDPOINT\"), \n",
    "  api_key=os.getenv(\"AZURE_OPENAI_API_KEY\"),  \n",
    "  api_version=\"2024-02-01\"\n",
    ")"
   ]
  },
  {
   "cell_type": "markdown",
   "id": "8d605b5a",
   "metadata": {},
   "source": [
    "Two functions are defined: query_message and ask. query_message returns the user prompt, formed by the previous answers, the additional context and the current query. If there are not enough tokens, then it starts cutting the oldest answers. The function ask wraps up the process of having a conversation with the chatbot and continues until the user writes 'quit'."
   ]
  },
  {
   "cell_type": "code",
   "execution_count": 29,
   "id": "c7c65ae3-44c6-4e22-a382-361cc9a6b23b",
   "metadata": {},
   "outputs": [],
   "source": [
    "def query_message(\n",
    "    query: str,\n",
    "    answer_history: str,\n",
    "    df: pd.DataFrame,\n",
    "    model: str,\n",
    "    token_budget: int\n",
    ") -> str:\n",
    "    \"\"\"Return a message for GPT, with relevant source texts pulled from a dataframe.\"\"\"\n",
    "    string=search_openai_chroma(query)\n",
    "    answer_history = \"# Previous Answers:\" +answer_history\n",
    "    information=\"\\n\\n# Document:\"\n",
    "    information+=string\n",
    "    query = f\"\\n\\n# Current Query: {query}\"\n",
    "    while (\n",
    "            num_tokens(answer_history + information + query, model=model)\n",
    "            > token_budget\n",
    "        ):\n",
    "            answer_history=\"# Previous Answers\"+answer_history[answer_history.find('Query:',answer_history.find('Query:')+1):]\n",
    "    message=answer_history\n",
    "    message+=information\n",
    "    message+= query\n",
    "    return message\n",
    "\n",
    "def ask(\n",
    "    df: pd.DataFrame = knowledge_base,\n",
    "    model: str = model,\n",
    "    token_budget: int = 16000-2112\n",
    "    ) -> str:\n",
    "    \"\"\"Answers a query using GPT and a dataframe of relevant texts and embeddings.\"\"\" \n",
    "    answer_history=\"\"\n",
    "    while True:\n",
    "        query=input()\n",
    "        if query.lower()==\"quit\":\n",
    "            break\n",
    "        message = query_message(query, answer_history, df=df, model=model, token_budget=token_budget)\n",
    "        messages = [\n",
    "        {\"role\": \"system\", \"content\": 'You are a question-answering chatbot specialized in biomedicine. Example of a question and the answer you would give: Question - Is RANKL secreted from the cells?; Response - Receptor activator of nuclear factor κB ligand (RANKL) is a cytokine predominantly secreted by osteoblasts. With each user message, you get access to the previous answers (query given by the user and the answer you have given), a document containing information relevant to the question and the actual question of the user.'},\n",
    "        {\"role\": \"user\", \"content\": message},\n",
    "        ]\n",
    "        response = client.chat.completions.create(\n",
    "        model=model,\n",
    "        messages=messages,\n",
    "        temperature=0.5,\n",
    "        max_tokens=2000\n",
    "        )\n",
    "        response_message = response.choices[0].message.content\n",
    "        answer_history=answer_history+\"\\n\\nQuery: \"+query+\"\\n\\nAnswer: \"+response_message\n",
    "        print(response_message)"
   ]
  },
  {
   "cell_type": "code",
   "execution_count": 30,
   "id": "0907ad12-38a4-4792-a910-10359c4cfdf1",
   "metadata": {},
   "outputs": [
    {
     "data": {
      "text/plain": [
       "112"
      ]
     },
     "execution_count": 30,
     "metadata": {},
     "output_type": "execute_result"
    }
   ],
   "source": [
    "num_tokens('You are a question-answering chatbot specialized in biomedicine. Example of a question and the answer you would give: Question - Is RANKL secreted from the cells?; Response - Receptor activator of nuclear factor κB ligand (RANKL) is a cytokine predominantly secreted by osteoblasts. With each user message, you get access to the previous answers (query given by the user and the answer you have given), a document containing information relevant to the question and the actual question of the user.')"
   ]
  },
  {
   "cell_type": "code",
   "execution_count": 52,
   "id": "c5f23ab9-cc2b-45e1-ae2c-4c4599a5dbb5",
   "metadata": {},
   "outputs": [
    {
     "name": "stdout",
     "output_type": "stream",
     "text": [
      " hello\n"
     ]
    },
    {
     "name": "stdout",
     "output_type": "stream",
     "text": [
      "Hello! How can I assist you today?\n"
     ]
    },
    {
     "name": "stdout",
     "output_type": "stream",
     "text": [
      " do you have information about papilin?\n"
     ]
    },
    {
     "name": "stdout",
     "output_type": "stream",
     "text": [
      "Papilin is a large extracellular matrix glycoprotein that is involved in the development and maintenance of various tissues in the body. It is encoded by the PAPLN gene. Papilin is primarily expressed in the extracellular matrix of connective tissues, such as skin, cartilage, and blood vessels.\n",
      "\n",
      "Studies have shown that papilin plays a role in the regulation of cell adhesion, migration, and tissue organization. It interacts with other extracellular matrix proteins, such as collagen and fibronectin, and is involved in the assembly and stabilization of these structures.\n",
      "\n",
      "In addition to its structural role, papilin has been implicated in various biological processes, including embryonic development, wound healing, and tissue repair. It has also been associated with certain diseases and disorders, such as cancer and connective tissue disorders.\n",
      "\n",
      "Further research is needed to fully understand the functions and mechanisms of papilin in different tissues and physiological processes.\n"
     ]
    },
    {
     "name": "stdout",
     "output_type": "stream",
     "text": [
      " what is the name of the protein I have just asked you about?\n"
     ]
    },
    {
     "name": "stdout",
     "output_type": "stream",
     "text": [
      "The protein you asked about is called papilin. It is a large extracellular matrix glycoprotein that is involved in the development and maintenance of various tissues in the body. It is primarily expressed in the extracellular matrix of connective tissues, such as skin, cartilage, and blood vessels. Papilin plays a role in cell adhesion, migration, and tissue organization, and interacts with other extracellular matrix proteins. It is encoded by the PAPLN gene.\n"
     ]
    },
    {
     "name": "stdout",
     "output_type": "stream",
     "text": [
      " quit\n"
     ]
    }
   ],
   "source": [
    "ask()"
   ]
  },
  {
   "cell_type": "markdown",
   "id": "c9101c4c-078f-4ccd-88f4-3512ce32c191",
   "metadata": {},
   "source": [
    "## Evaluation"
   ]
  },
  {
   "cell_type": "markdown",
   "id": "6491b45b-197e-4157-bfb5-8c4d19746b11",
   "metadata": {},
   "source": [
    "We will use SAS (semantic answer similarity), utilizing a cross-encoder architecture with the language model cross-encoder/stsb-roberta-large, to evaluate how similar the answers of our chatbot are to the human-annoted in the test dataset. The concept involves using a cross-encoder architecture instead of calculating separate embeddings for the input texts (as in the bi-encoder architecture). In the cross-encoder approach, the two texts are concatenated with a special separator token in between them. According to literature, this metric outperformed lexical-based (e.g. BLEU) and semantic-based (e.g. BERTScore trained) similarity of answer pairs​.  \n",
    "Check the original [paper](https://arxiv.org/abs/2108.06130) for more information."
   ]
  },
  {
   "cell_type": "code",
   "execution_count": 38,
   "id": "ee10de03-e906-408b-8119-d7438a2f3f10",
   "metadata": {},
   "outputs": [],
   "source": [
    "#!pip install sentence-transformers"
   ]
  },
  {
   "cell_type": "code",
   "execution_count": 39,
   "id": "2e0daf0e-4054-4448-b6f7-864035b206ca",
   "metadata": {},
   "outputs": [
    {
     "name": "stderr",
     "output_type": "stream",
     "text": [
      "C:\\Users\\migue\\anaconda3\\envs\\chatbot\\Lib\\site-packages\\huggingface_hub\\file_download.py:1132: FutureWarning: `resume_download` is deprecated and will be removed in version 1.0.0. Downloads always resume when possible. If you want to force a new download, use `force_download=True`.\n",
      "  If the revision to download from cannot be found.\n"
     ]
    }
   ],
   "source": [
    "from sentence_transformers import CrossEncoder\n",
    "model_roberta = CrossEncoder('cross-encoder/stsb-roberta-large')\n",
    "def cross_encoder_roberta(expected_answer:str, answer: str):\n",
    "    return model_roberta.predict([expected_answer,answer])"
   ]
  },
  {
   "cell_type": "markdown",
   "id": "e6aa93f9-2ea6-4c78-819d-73d41e2dc891",
   "metadata": {},
   "source": [
    "We need to define new functions as now we do not want to incorporate previous answers and we only want one answer for each question in the test."
   ]
  },
  {
   "cell_type": "code",
   "execution_count": 40,
   "id": "5e768b49-69d3-4b9d-9a76-a713ace38f88",
   "metadata": {},
   "outputs": [],
   "source": [
    "def query_message_eval(\n",
    "    query: str,\n",
    "    df: pd.DataFrame,\n",
    "    model: str\n",
    ") -> str:\n",
    "    \"\"\"Return a message for GPT, with relevant source texts pulled from a dataframe.\"\"\"\n",
    "    string=search_openai_chroma(query)\n",
    "    information=\"\\n\\n# Document:\"\n",
    "    information+=string\n",
    "    message=information\n",
    "    message+= query\n",
    "    return message"
   ]
  },
  {
   "cell_type": "code",
   "execution_count": 41,
   "id": "1128644b-6b2a-4661-8630-6ba6a5e808be",
   "metadata": {},
   "outputs": [],
   "source": [
    "def ask_eval(\n",
    "    query: str,\n",
    "    df: pd.DataFrame = knowledge_base,\n",
    "    model: str = model\n",
    "    ) -> str:\n",
    "    \"\"\"Answers a query using GPT and a dataframe of relevant texts and embeddings.\"\"\" \n",
    "    message = query_message_eval(query, df=df, model=model)\n",
    "    messages = [\n",
    "        {\"role\": \"system\", \"content\": 'You are a question-answering chatbot specialized in biomedicine. Example of a question and the answer you would give: Question - Is RANKL secreted from the cells?; Response - Receptor activator of nuclear factor κB ligand (RANKL) is a cytokine predominantly secreted by osteoblasts. With each user message, you get access toa document containing information relevant to the question and the actual question of the user.'},\n",
    "        {\"role\": \"user\", \"content\": message},\n",
    "        ]\n",
    "    response = client.chat.completions.create(\n",
    "        model=model,\n",
    "        messages=messages,\n",
    "        temperature=0.5,\n",
    "        max_tokens=2000\n",
    "        )\n",
    "    response_message = response.choices[0].message.content\n",
    "    return response_message"
   ]
  },
  {
   "cell_type": "markdown",
   "id": "bf3b48d9-099d-4c9c-8027-581383cc41bd",
   "metadata": {},
   "source": [
    "We need to remove the example we incorporated in the system prompt."
   ]
  },
  {
   "cell_type": "code",
   "execution_count": 36,
   "id": "ec0b5ba4-af07-4938-85ab-ed227ed42216",
   "metadata": {},
   "outputs": [],
   "source": [
    "test.drop(index=4,inplace=True)"
   ]
  },
  {
   "cell_type": "code",
   "execution_count": 37,
   "id": "c9c0829e-904d-403c-8e46-99461bf281ab",
   "metadata": {},
   "outputs": [
    {
     "data": {
      "text/html": [
       "<div>\n",
       "<style scoped>\n",
       "    .dataframe tbody tr th:only-of-type {\n",
       "        vertical-align: middle;\n",
       "    }\n",
       "\n",
       "    .dataframe tbody tr th {\n",
       "        vertical-align: top;\n",
       "    }\n",
       "\n",
       "    .dataframe thead th {\n",
       "        text-align: right;\n",
       "    }\n",
       "</style>\n",
       "<table border=\"1\" class=\"dataframe\">\n",
       "  <thead>\n",
       "    <tr style=\"text-align: right;\">\n",
       "      <th></th>\n",
       "      <th>question</th>\n",
       "      <th>answer</th>\n",
       "      <th>relevant_passage_ids</th>\n",
       "    </tr>\n",
       "  </thead>\n",
       "  <tbody>\n",
       "    <tr>\n",
       "      <th>0</th>\n",
       "      <td>Is Hirschsprung disease a mendelian or a multi...</td>\n",
       "      <td>Coding sequence mutations in RET, GDNF, EDNRB,...</td>\n",
       "      <td>[20598273, 6650562, 15829955, 15617541, 230011...</td>\n",
       "    </tr>\n",
       "    <tr>\n",
       "      <th>1</th>\n",
       "      <td>List signaling molecules (ligands) that intera...</td>\n",
       "      <td>The 7 known EGFR ligands  are: epidermal growt...</td>\n",
       "      <td>[23821377, 24323361, 23382875, 22247333, 23787...</td>\n",
       "    </tr>\n",
       "    <tr>\n",
       "      <th>2</th>\n",
       "      <td>Is the protein Papilin secreted?</td>\n",
       "      <td>Yes,  papilin is a secreted protein</td>\n",
       "      <td>[21784067, 19297413, 15094122, 7515725, 332004...</td>\n",
       "    </tr>\n",
       "    <tr>\n",
       "      <th>3</th>\n",
       "      <td>Are long non coding RNAs spliced?</td>\n",
       "      <td>Long non coding RNAs appear to be spliced thro...</td>\n",
       "      <td>[22955974, 21622663, 22707570, 22955988, 24285...</td>\n",
       "    </tr>\n",
       "    <tr>\n",
       "      <th>5</th>\n",
       "      <td>Does metformin interfere thyroxine absorption?</td>\n",
       "      <td>No. There are not reported data indicating tha...</td>\n",
       "      <td>[26191653]</td>\n",
       "    </tr>\n",
       "  </tbody>\n",
       "</table>\n",
       "</div>"
      ],
      "text/plain": [
       "                                            question  \\\n",
       "0  Is Hirschsprung disease a mendelian or a multi...   \n",
       "1  List signaling molecules (ligands) that intera...   \n",
       "2                   Is the protein Papilin secreted?   \n",
       "3                  Are long non coding RNAs spliced?   \n",
       "5     Does metformin interfere thyroxine absorption?   \n",
       "\n",
       "                                              answer  \\\n",
       "0  Coding sequence mutations in RET, GDNF, EDNRB,...   \n",
       "1  The 7 known EGFR ligands  are: epidermal growt...   \n",
       "2                Yes,  papilin is a secreted protein   \n",
       "3  Long non coding RNAs appear to be spliced thro...   \n",
       "5  No. There are not reported data indicating tha...   \n",
       "\n",
       "                                relevant_passage_ids  \n",
       "0  [20598273, 6650562, 15829955, 15617541, 230011...  \n",
       "1  [23821377, 24323361, 23382875, 22247333, 23787...  \n",
       "2  [21784067, 19297413, 15094122, 7515725, 332004...  \n",
       "3  [22955974, 21622663, 22707570, 22955988, 24285...  \n",
       "5                                         [26191653]  "
      ]
     },
     "execution_count": 37,
     "metadata": {},
     "output_type": "execute_result"
    }
   ],
   "source": [
    "test.head()"
   ]
  },
  {
   "cell_type": "markdown",
   "id": "1cd8db37-58df-4355-adaa-5dfbac1ec195",
   "metadata": {},
   "source": [
    "Now, let's get the answers and the final results.\n",
    "For simplification, let's use only the first 500 questions."
   ]
  },
  {
   "cell_type": "code",
   "execution_count": 43,
   "id": "94e5876f-bb36-44ad-b0bb-b581f0ff7b10",
   "metadata": {},
   "outputs": [],
   "source": [
    "test=test[:500]"
   ]
  },
  {
   "cell_type": "markdown",
   "id": "cd4cf40d",
   "metadata": {},
   "source": [
    "Here, time.sleep() is applied due to rate limit issues."
   ]
  },
  {
   "cell_type": "code",
   "execution_count": 49,
   "id": "f2a724df-f956-4ea3-af96-832826ef70de",
   "metadata": {},
   "outputs": [],
   "source": [
    "import time\n",
    "from openai import RateLimitError\n",
    "\n",
    "def apply_ask_eval_with_retry(x):\n",
    "    try:\n",
    "        return ask_eval(x)\n",
    "    except RateLimitError:\n",
    "        time.sleep(5)\n",
    "        return apply_ask_eval_with_retry(x)"
   ]
  },
  {
   "cell_type": "code",
   "execution_count": 50,
   "id": "4b84ee6d-16cb-4c7b-b0b1-b41800a8743b",
   "metadata": {},
   "outputs": [],
   "source": [
    "test['chat_answer'] = test[\"question\"].apply(lambda x: apply_ask_eval_with_retry(x))"
   ]
  },
  {
   "cell_type": "code",
   "execution_count": 51,
   "id": "8f05190a-8c20-4a97-8600-7c99dd6feb16",
   "metadata": {},
   "outputs": [],
   "source": [
    "test['sas']=test.apply(lambda x:cross_encoder_roberta(x['answer'],x['chat_answer']),axis=1)"
   ]
  },
  {
   "cell_type": "code",
   "execution_count": 60,
   "id": "78fa7393-58e5-43ac-821c-eeb4df03d95a",
   "metadata": {},
   "outputs": [
    {
     "data": {
      "text/html": [
       "<div>\n",
       "<style scoped>\n",
       "    .dataframe tbody tr th:only-of-type {\n",
       "        vertical-align: middle;\n",
       "    }\n",
       "\n",
       "    .dataframe tbody tr th {\n",
       "        vertical-align: top;\n",
       "    }\n",
       "\n",
       "    .dataframe thead th {\n",
       "        text-align: right;\n",
       "    }\n",
       "</style>\n",
       "<table border=\"1\" class=\"dataframe\">\n",
       "  <thead>\n",
       "    <tr style=\"text-align: right;\">\n",
       "      <th></th>\n",
       "      <th>question</th>\n",
       "      <th>answer</th>\n",
       "      <th>relevant_passage_ids</th>\n",
       "      <th>chat_answer</th>\n",
       "      <th>sas</th>\n",
       "    </tr>\n",
       "  </thead>\n",
       "  <tbody>\n",
       "    <tr>\n",
       "      <th>0</th>\n",
       "      <td>Is Hirschsprung disease a mendelian or a multi...</td>\n",
       "      <td>Coding sequence mutations in RET, GDNF, EDNRB,...</td>\n",
       "      <td>[20598273, 6650562, 15829955, 15617541, 230011...</td>\n",
       "      <td>Hirschsprung disease is considered to be a mul...</td>\n",
       "      <td>0.659204</td>\n",
       "    </tr>\n",
       "    <tr>\n",
       "      <th>1</th>\n",
       "      <td>List signaling molecules (ligands) that intera...</td>\n",
       "      <td>The 7 known EGFR ligands  are: epidermal growt...</td>\n",
       "      <td>[23821377, 24323361, 23382875, 22247333, 23787...</td>\n",
       "      <td>The ligands that interact with the receptor EG...</td>\n",
       "      <td>0.810020</td>\n",
       "    </tr>\n",
       "    <tr>\n",
       "      <th>2</th>\n",
       "      <td>Is the protein Papilin secreted?</td>\n",
       "      <td>Yes,  papilin is a secreted protein</td>\n",
       "      <td>[21784067, 19297413, 15094122, 7515725, 332004...</td>\n",
       "      <td>There is no information in the provided docume...</td>\n",
       "      <td>0.539275</td>\n",
       "    </tr>\n",
       "    <tr>\n",
       "      <th>3</th>\n",
       "      <td>Are long non coding RNAs spliced?</td>\n",
       "      <td>Long non coding RNAs appear to be spliced thro...</td>\n",
       "      <td>[22955974, 21622663, 22707570, 22955988, 24285...</td>\n",
       "      <td>Yes, according to the provided document, long ...</td>\n",
       "      <td>0.814545</td>\n",
       "    </tr>\n",
       "    <tr>\n",
       "      <th>5</th>\n",
       "      <td>Does metformin interfere thyroxine absorption?</td>\n",
       "      <td>No. There are not reported data indicating tha...</td>\n",
       "      <td>[26191653]</td>\n",
       "      <td>The document does not provide information abou...</td>\n",
       "      <td>0.898746</td>\n",
       "    </tr>\n",
       "  </tbody>\n",
       "</table>\n",
       "</div>"
      ],
      "text/plain": [
       "                                            question  \\\n",
       "0  Is Hirschsprung disease a mendelian or a multi...   \n",
       "1  List signaling molecules (ligands) that intera...   \n",
       "2                   Is the protein Papilin secreted?   \n",
       "3                  Are long non coding RNAs spliced?   \n",
       "5     Does metformin interfere thyroxine absorption?   \n",
       "\n",
       "                                              answer  \\\n",
       "0  Coding sequence mutations in RET, GDNF, EDNRB,...   \n",
       "1  The 7 known EGFR ligands  are: epidermal growt...   \n",
       "2                Yes,  papilin is a secreted protein   \n",
       "3  Long non coding RNAs appear to be spliced thro...   \n",
       "5  No. There are not reported data indicating tha...   \n",
       "\n",
       "                                relevant_passage_ids  \\\n",
       "0  [20598273, 6650562, 15829955, 15617541, 230011...   \n",
       "1  [23821377, 24323361, 23382875, 22247333, 23787...   \n",
       "2  [21784067, 19297413, 15094122, 7515725, 332004...   \n",
       "3  [22955974, 21622663, 22707570, 22955988, 24285...   \n",
       "5                                         [26191653]   \n",
       "\n",
       "                                         chat_answer       sas  \n",
       "0  Hirschsprung disease is considered to be a mul...  0.659204  \n",
       "1  The ligands that interact with the receptor EG...  0.810020  \n",
       "2  There is no information in the provided docume...  0.539275  \n",
       "3  Yes, according to the provided document, long ...  0.814545  \n",
       "5  The document does not provide information abou...  0.898746  "
      ]
     },
     "execution_count": 60,
     "metadata": {},
     "output_type": "execute_result"
    }
   ],
   "source": [
    "test.head()"
   ]
  },
  {
   "cell_type": "code",
   "execution_count": 62,
   "id": "2220b472-09d1-4c9c-8919-f1b4e864d72c",
   "metadata": {},
   "outputs": [
    {
     "data": {
      "text/plain": [
       "0.9719775"
      ]
     },
     "execution_count": 62,
     "metadata": {},
     "output_type": "execute_result"
    }
   ],
   "source": [
    "test['sas'].max()"
   ]
  },
  {
   "cell_type": "code",
   "execution_count": 63,
   "id": "3fd7d5ee-b617-43cf-a241-398b335426bd",
   "metadata": {},
   "outputs": [
    {
     "data": {
      "text/html": [
       "<div>\n",
       "<style scoped>\n",
       "    .dataframe tbody tr th:only-of-type {\n",
       "        vertical-align: middle;\n",
       "    }\n",
       "\n",
       "    .dataframe tbody tr th {\n",
       "        vertical-align: top;\n",
       "    }\n",
       "\n",
       "    .dataframe thead th {\n",
       "        text-align: right;\n",
       "    }\n",
       "</style>\n",
       "<table border=\"1\" class=\"dataframe\">\n",
       "  <thead>\n",
       "    <tr style=\"text-align: right;\">\n",
       "      <th></th>\n",
       "      <th>question</th>\n",
       "      <th>answer</th>\n",
       "      <th>relevant_passage_ids</th>\n",
       "      <th>chat_answer</th>\n",
       "      <th>sas</th>\n",
       "    </tr>\n",
       "  </thead>\n",
       "  <tbody>\n",
       "    <tr>\n",
       "      <th>280</th>\n",
       "      <td>How many genera comprise the Flaviviridae family?</td>\n",
       "      <td>The family Flaviviridae is comprised of three ...</td>\n",
       "      <td>[22513121, 18991746, 8396675, 16225688, 204702...</td>\n",
       "      <td>The Flaviviridae family comprises three genera...</td>\n",
       "      <td>0.971977</td>\n",
       "    </tr>\n",
       "  </tbody>\n",
       "</table>\n",
       "</div>"
      ],
      "text/plain": [
       "                                              question  \\\n",
       "280  How many genera comprise the Flaviviridae family?   \n",
       "\n",
       "                                                answer  \\\n",
       "280  The family Flaviviridae is comprised of three ...   \n",
       "\n",
       "                                  relevant_passage_ids  \\\n",
       "280  [22513121, 18991746, 8396675, 16225688, 204702...   \n",
       "\n",
       "                                           chat_answer       sas  \n",
       "280  The Flaviviridae family comprises three genera...  0.971977  "
      ]
     },
     "execution_count": 63,
     "metadata": {},
     "output_type": "execute_result"
    }
   ],
   "source": [
    "test[test['sas']==0.9719775]"
   ]
  },
  {
   "cell_type": "code",
   "execution_count": 65,
   "id": "f786bc3f-ea39-4429-a080-f63678f45cf0",
   "metadata": {},
   "outputs": [
    {
     "data": {
      "text/plain": [
       "'The family Flaviviridae is comprised of three genera: Flavivirus, Pestivirus and Hepacivirus.'"
      ]
     },
     "execution_count": 65,
     "metadata": {},
     "output_type": "execute_result"
    }
   ],
   "source": [
    "test['answer'].loc[280]"
   ]
  },
  {
   "cell_type": "code",
   "execution_count": 66,
   "id": "1b15ae8c-c5ea-4026-8a92-4ac3eeba96a1",
   "metadata": {},
   "outputs": [
    {
     "data": {
      "text/plain": [
       "'The Flaviviridae family comprises three genera: Flavivirus, Hepacivirus, and Pestivirus.'"
      ]
     },
     "execution_count": 66,
     "metadata": {},
     "output_type": "execute_result"
    }
   ],
   "source": [
    "test['chat_answer'].loc[280]"
   ]
  },
  {
   "cell_type": "code",
   "execution_count": 61,
   "id": "676a207c-b41b-47e8-8c50-3d2d2ecaa0bb",
   "metadata": {},
   "outputs": [
    {
     "data": {
      "text/plain": [
       "0.012481533"
      ]
     },
     "execution_count": 61,
     "metadata": {},
     "output_type": "execute_result"
    }
   ],
   "source": [
    "test['sas'].min()"
   ]
  },
  {
   "cell_type": "code",
   "execution_count": 68,
   "id": "2060a35b-b4f0-44bd-8c9b-8f04a03011aa",
   "metadata": {},
   "outputs": [
    {
     "data": {
      "text/html": [
       "<div>\n",
       "<style scoped>\n",
       "    .dataframe tbody tr th:only-of-type {\n",
       "        vertical-align: middle;\n",
       "    }\n",
       "\n",
       "    .dataframe tbody tr th {\n",
       "        vertical-align: top;\n",
       "    }\n",
       "\n",
       "    .dataframe thead th {\n",
       "        text-align: right;\n",
       "    }\n",
       "</style>\n",
       "<table border=\"1\" class=\"dataframe\">\n",
       "  <thead>\n",
       "    <tr style=\"text-align: right;\">\n",
       "      <th></th>\n",
       "      <th>question</th>\n",
       "      <th>answer</th>\n",
       "      <th>relevant_passage_ids</th>\n",
       "      <th>chat_answer</th>\n",
       "      <th>sas</th>\n",
       "    </tr>\n",
       "  </thead>\n",
       "  <tbody>\n",
       "    <tr>\n",
       "      <th>193</th>\n",
       "      <td>List human proteins that are subject to a dime...</td>\n",
       "      <td>GAC\\nSHMT2\\nAMPAR\\nOrai1\\nOrai3</td>\n",
       "      <td>[25548170, 23739980, 25619277, 21080238, 21987...</td>\n",
       "      <td>I'm sorry, but the document you provided does ...</td>\n",
       "      <td>0.012482</td>\n",
       "    </tr>\n",
       "  </tbody>\n",
       "</table>\n",
       "</div>"
      ],
      "text/plain": [
       "                                              question  \\\n",
       "193  List human proteins that are subject to a dime...   \n",
       "\n",
       "                              answer  \\\n",
       "193  GAC\\nSHMT2\\nAMPAR\\nOrai1\\nOrai3   \n",
       "\n",
       "                                  relevant_passage_ids  \\\n",
       "193  [25548170, 23739980, 25619277, 21080238, 21987...   \n",
       "\n",
       "                                           chat_answer       sas  \n",
       "193  I'm sorry, but the document you provided does ...  0.012482  "
      ]
     },
     "execution_count": 68,
     "metadata": {},
     "output_type": "execute_result"
    }
   ],
   "source": [
    "test[test['sas']==0.012481533]"
   ]
  },
  {
   "cell_type": "code",
   "execution_count": 69,
   "id": "47240ab8-36ed-4800-96e0-4b2a9aabd2eb",
   "metadata": {},
   "outputs": [
    {
     "data": {
      "text/plain": [
       "'GAC\\nSHMT2\\nAMPAR\\nOrai1\\nOrai3'"
      ]
     },
     "execution_count": 69,
     "metadata": {},
     "output_type": "execute_result"
    }
   ],
   "source": [
    "test['answer'].loc[193]"
   ]
  },
  {
   "cell_type": "code",
   "execution_count": 70,
   "id": "d7b12f90-a7c0-463f-8b51-96009851d460",
   "metadata": {},
   "outputs": [
    {
     "data": {
      "text/plain": [
       "\"I'm sorry, but the document you provided does not contain information about human proteins that undergo a dimer-to-tetramer transition.\""
      ]
     },
     "execution_count": 70,
     "metadata": {},
     "output_type": "execute_result"
    }
   ],
   "source": [
    "test['chat_answer'].loc[193]"
   ]
  },
  {
   "cell_type": "code",
   "execution_count": 67,
   "id": "c4bed2e0-e3ff-42fb-8dd8-55f47a08ea74",
   "metadata": {},
   "outputs": [
    {
     "data": {
      "text/plain": [
       "0.64592826"
      ]
     },
     "execution_count": 67,
     "metadata": {},
     "output_type": "execute_result"
    }
   ],
   "source": [
    "test['sas'].mean()"
   ]
  },
  {
   "cell_type": "markdown",
   "id": "b74cc78c-1628-486c-93d2-c12b4218335f",
   "metadata": {},
   "source": [
    "There are many ways to improve this performance. Like other data science tasks, many experiments should be conducted to optimize the performance level of the model."
   ]
  }
 ],
 "metadata": {
  "kernelspec": {
   "display_name": "Python 3 (ipykernel)",
   "language": "python",
   "name": "python3"
  },
  "language_info": {
   "codemirror_mode": {
    "name": "ipython",
    "version": 3
   },
   "file_extension": ".py",
   "mimetype": "text/x-python",
   "name": "python",
   "nbconvert_exporter": "python",
   "pygments_lexer": "ipython3",
   "version": "3.11.9"
  }
 },
 "nbformat": 4,
 "nbformat_minor": 5
}