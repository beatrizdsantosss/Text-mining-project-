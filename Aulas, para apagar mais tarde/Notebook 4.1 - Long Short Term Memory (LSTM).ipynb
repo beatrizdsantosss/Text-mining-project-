{
 "cells": [
  {
   "cell_type": "markdown",
   "id": "d95ea730",
   "metadata": {},
   "source": [
    "# Long Short Term Memory (LSTM)"
   ]
  },
  {
   "cell_type": "markdown",
   "id": "f76914be-e5a7-4de2-ba92-ddd351318022",
   "metadata": {
    "tags": []
   },
   "source": [
    "## Data import"
   ]
  },
  {
   "cell_type": "code",
   "execution_count": 1,
   "id": "e6a082fa-7ae8-4399-9e73-2debc0a9aabb",
   "metadata": {},
   "outputs": [],
   "source": [
    "from sklearn.model_selection import train_test_split\n",
    "import pandas as pd\n",
    "import re\n",
    "import matplotlib.pyplot as plt\n",
    "from nltk.corpus import stopwords\n",
    "from nltk.stem import SnowballStemmer\n",
    "from nltk.stem.wordnet import WordNetLemmatizer\n",
    "import numpy as np\n",
    "from sklearn.metrics import classification_report\n",
    "from tqdm.notebook import tqdm"
   ]
  },
  {
   "cell_type": "code",
   "execution_count": 2,
   "id": "141dd997-b003-4d1a-b7f6-46f0e1c1f6a9",
   "metadata": {},
   "outputs": [
    {
     "data": {
      "text/html": [
       "<div>\n",
       "<style scoped>\n",
       "    .dataframe tbody tr th:only-of-type {\n",
       "        vertical-align: middle;\n",
       "    }\n",
       "\n",
       "    .dataframe tbody tr th {\n",
       "        vertical-align: top;\n",
       "    }\n",
       "\n",
       "    .dataframe thead th {\n",
       "        text-align: right;\n",
       "    }\n",
       "</style>\n",
       "<table border=\"1\" class=\"dataframe\">\n",
       "  <thead>\n",
       "    <tr style=\"text-align: right;\">\n",
       "      <th></th>\n",
       "      <th>UserName</th>\n",
       "      <th>ScreenName</th>\n",
       "      <th>Location</th>\n",
       "      <th>TweetAt</th>\n",
       "      <th>OriginalTweet</th>\n",
       "      <th>Sentiment</th>\n",
       "    </tr>\n",
       "  </thead>\n",
       "  <tbody>\n",
       "    <tr>\n",
       "      <th>0</th>\n",
       "      <td>3799</td>\n",
       "      <td>48751</td>\n",
       "      <td>London</td>\n",
       "      <td>16-03-2020</td>\n",
       "      <td>@MeNyrbie @Phil_Gahan @Chrisitv https://t.co/iFz9FAn2Pa and https://t.co/xX6ghGFzCC and https://t.co/I2NlzdxNo8</td>\n",
       "      <td>Neutral</td>\n",
       "    </tr>\n",
       "    <tr>\n",
       "      <th>1</th>\n",
       "      <td>3800</td>\n",
       "      <td>48752</td>\n",
       "      <td>UK</td>\n",
       "      <td>16-03-2020</td>\n",
       "      <td>advice Talk to your neighbours family to exchange phone numbers create contact list with phone numbers of neighbours schools employer chemist GP set up online shopping accounts if poss adequate supplies of regular meds but not over order</td>\n",
       "      <td>Positive</td>\n",
       "    </tr>\n",
       "    <tr>\n",
       "      <th>2</th>\n",
       "      <td>3801</td>\n",
       "      <td>48753</td>\n",
       "      <td>Vagabonds</td>\n",
       "      <td>16-03-2020</td>\n",
       "      <td>Coronavirus Australia: Woolworths to give elderly, disabled dedicated shopping hours amid COVID-19 outbreak https://t.co/bInCA9Vp8P</td>\n",
       "      <td>Positive</td>\n",
       "    </tr>\n",
       "    <tr>\n",
       "      <th>3</th>\n",
       "      <td>3802</td>\n",
       "      <td>48754</td>\n",
       "      <td>NaN</td>\n",
       "      <td>16-03-2020</td>\n",
       "      <td>My food stock is not the only one which is empty...\\r\\r\\n\\r\\r\\nPLEASE, don't panic, THERE WILL BE ENOUGH FOOD FOR EVERYONE if you do not take more than you need. \\r\\r\\nStay calm, stay safe.\\r\\r\\n\\r\\r\\n#COVID19france #COVID_19 #COVID19 #coronavirus #confinement #Confinementotal #ConfinementGeneral https://t.co/zrlG0Z520j</td>\n",
       "      <td>Positive</td>\n",
       "    </tr>\n",
       "    <tr>\n",
       "      <th>4</th>\n",
       "      <td>3803</td>\n",
       "      <td>48755</td>\n",
       "      <td>NaN</td>\n",
       "      <td>16-03-2020</td>\n",
       "      <td>Me, ready to go at supermarket during the #COVID19 outbreak.\\r\\r\\n\\r\\r\\nNot because I'm paranoid, but because my food stock is litteraly empty. The #coronavirus is a serious thing, but please, don't panic. It causes shortage...\\r\\r\\n\\r\\r\\n#CoronavirusFrance #restezchezvous #StayAtHome #confinement https://t.co/usmuaLq72n</td>\n",
       "      <td>Extremely Negative</td>\n",
       "    </tr>\n",
       "    <tr>\n",
       "      <th>5</th>\n",
       "      <td>3804</td>\n",
       "      <td>48756</td>\n",
       "      <td>ÃT: 36.319708,-82.363649</td>\n",
       "      <td>16-03-2020</td>\n",
       "      <td>As news of the regionÂs first confirmed COVID-19 case came out of Sullivan County last week, people flocked to area stores to purchase cleaning supplies, hand sanitizer, food, toilet paper and other goods, @Tim_Dodson reports https://t.co/cfXch7a2lU</td>\n",
       "      <td>Positive</td>\n",
       "    </tr>\n",
       "    <tr>\n",
       "      <th>6</th>\n",
       "      <td>3805</td>\n",
       "      <td>48757</td>\n",
       "      <td>35.926541,-78.753267</td>\n",
       "      <td>16-03-2020</td>\n",
       "      <td>Cashier at grocery store was sharing his insights on #Covid_19 To prove his credibility he commented \"I'm in Civics class so I know what I'm talking about\". https://t.co/ieFDNeHgDO</td>\n",
       "      <td>Positive</td>\n",
       "    </tr>\n",
       "    <tr>\n",
       "      <th>7</th>\n",
       "      <td>3806</td>\n",
       "      <td>48758</td>\n",
       "      <td>Austria</td>\n",
       "      <td>16-03-2020</td>\n",
       "      <td>Was at the supermarket today. Didn't buy toilet paper. #Rebel\\r\\r\\n\\r\\r\\n#toiletpapercrisis #covid_19 https://t.co/eVXkQLIdAZ</td>\n",
       "      <td>Neutral</td>\n",
       "    </tr>\n",
       "    <tr>\n",
       "      <th>8</th>\n",
       "      <td>3807</td>\n",
       "      <td>48759</td>\n",
       "      <td>Atlanta, GA USA</td>\n",
       "      <td>16-03-2020</td>\n",
       "      <td>Due to COVID-19 our retail store and classroom in Atlanta will not be open for walk-in business or classes for the next two weeks, beginning Monday, March 16.  We will continue to process online and phone orders as normal! Thank you for your understanding! https://t.co/kw91zJ5O5i</td>\n",
       "      <td>Positive</td>\n",
       "    </tr>\n",
       "    <tr>\n",
       "      <th>9</th>\n",
       "      <td>3808</td>\n",
       "      <td>48760</td>\n",
       "      <td>BHAVNAGAR,GUJRAT</td>\n",
       "      <td>16-03-2020</td>\n",
       "      <td>For corona prevention,we should stop to buy things with the cash and should use online payment methods because corona can spread through the notes. Also we should prefer online shopping from our home. It's time to fight against COVID 19?. #govindia #IndiaFightsCorona</td>\n",
       "      <td>Negative</td>\n",
       "    </tr>\n",
       "  </tbody>\n",
       "</table>\n",
       "</div>"
      ],
      "text/plain": [
       "   UserName  ScreenName                   Location     TweetAt  \\\n",
       "0      3799       48751                     London  16-03-2020   \n",
       "1      3800       48752                         UK  16-03-2020   \n",
       "2      3801       48753                  Vagabonds  16-03-2020   \n",
       "3      3802       48754                        NaN  16-03-2020   \n",
       "4      3803       48755                        NaN  16-03-2020   \n",
       "5      3804       48756  ÃT: 36.319708,-82.363649  16-03-2020   \n",
       "6      3805       48757       35.926541,-78.753267  16-03-2020   \n",
       "7      3806       48758                    Austria  16-03-2020   \n",
       "8      3807       48759            Atlanta, GA USA  16-03-2020   \n",
       "9      3808       48760           BHAVNAGAR,GUJRAT  16-03-2020   \n",
       "\n",
       "                                                                                                                                                                                                                                                                                                                        OriginalTweet  \\\n",
       "0                                                                                                                                                                                                                     @MeNyrbie @Phil_Gahan @Chrisitv https://t.co/iFz9FAn2Pa and https://t.co/xX6ghGFzCC and https://t.co/I2NlzdxNo8   \n",
       "1                                                                                       advice Talk to your neighbours family to exchange phone numbers create contact list with phone numbers of neighbours schools employer chemist GP set up online shopping accounts if poss adequate supplies of regular meds but not over order   \n",
       "2                                                                                                                                                                                                 Coronavirus Australia: Woolworths to give elderly, disabled dedicated shopping hours amid COVID-19 outbreak https://t.co/bInCA9Vp8P   \n",
       "3   My food stock is not the only one which is empty...\\r\\r\\n\\r\\r\\nPLEASE, don't panic, THERE WILL BE ENOUGH FOOD FOR EVERYONE if you do not take more than you need. \\r\\r\\nStay calm, stay safe.\\r\\r\\n\\r\\r\\n#COVID19france #COVID_19 #COVID19 #coronavirus #confinement #Confinementotal #ConfinementGeneral https://t.co/zrlG0Z520j   \n",
       "4  Me, ready to go at supermarket during the #COVID19 outbreak.\\r\\r\\n\\r\\r\\nNot because I'm paranoid, but because my food stock is litteraly empty. The #coronavirus is a serious thing, but please, don't panic. It causes shortage...\\r\\r\\n\\r\\r\\n#CoronavirusFrance #restezchezvous #StayAtHome #confinement https://t.co/usmuaLq72n   \n",
       "5                                                                          As news of the regionÂs first confirmed COVID-19 case came out of Sullivan County last week, people flocked to area stores to purchase cleaning supplies, hand sanitizer, food, toilet paper and other goods, @Tim_Dodson reports https://t.co/cfXch7a2lU   \n",
       "6                                                                                                                                                Cashier at grocery store was sharing his insights on #Covid_19 To prove his credibility he commented \"I'm in Civics class so I know what I'm talking about\". https://t.co/ieFDNeHgDO   \n",
       "7                                                                                                                                                                                                       Was at the supermarket today. Didn't buy toilet paper. #Rebel\\r\\r\\n\\r\\r\\n#toiletpapercrisis #covid_19 https://t.co/eVXkQLIdAZ   \n",
       "8                                            Due to COVID-19 our retail store and classroom in Atlanta will not be open for walk-in business or classes for the next two weeks, beginning Monday, March 16.  We will continue to process online and phone orders as normal! Thank you for your understanding! https://t.co/kw91zJ5O5i   \n",
       "9                                                         For corona prevention,we should stop to buy things with the cash and should use online payment methods because corona can spread through the notes. Also we should prefer online shopping from our home. It's time to fight against COVID 19?. #govindia #IndiaFightsCorona   \n",
       "\n",
       "            Sentiment  \n",
       "0             Neutral  \n",
       "1            Positive  \n",
       "2            Positive  \n",
       "3            Positive  \n",
       "4  Extremely Negative  \n",
       "5            Positive  \n",
       "6            Positive  \n",
       "7             Neutral  \n",
       "8            Positive  \n",
       "9            Negative  "
      ]
     },
     "execution_count": 2,
     "metadata": {},
     "output_type": "execute_result"
    }
   ],
   "source": [
    "df = pd.read_csv(\"Corona_NLP.csv\", encoding='latin-1')\n",
    "pd.options.display.max_colwidth = 500\n",
    "df.head(10)"
   ]
  },
  {
   "cell_type": "code",
   "execution_count": 3,
   "id": "bfe64629-2ab0-455f-9e2d-751e48881ca2",
   "metadata": {},
   "outputs": [],
   "source": [
    "df  = df[['OriginalTweet', 'Sentiment']].head(3000)"
   ]
  },
  {
   "cell_type": "code",
   "execution_count": 4,
   "id": "10a0f5ad-776b-4db8-b8eb-80b94ab32c88",
   "metadata": {},
   "outputs": [
    {
     "data": {
      "text/plain": [
       "{'Extremely Negative', 'Extremely Positive', 'Negative', 'Neutral', 'Positive'}"
      ]
     },
     "execution_count": 4,
     "metadata": {},
     "output_type": "execute_result"
    }
   ],
   "source": [
    "set(df['Sentiment'].values)"
   ]
  },
  {
   "cell_type": "code",
   "execution_count": 5,
   "id": "50c6a57c-b6fa-4596-9006-2e16d8aa659c",
   "metadata": {},
   "outputs": [],
   "source": [
    "df['LabelSentiment'] = df['Sentiment'].apply(lambda x: 2 if x in ['Extremely Positive', 'Positive'] else (1 if x == \"Neutral\" else 0))"
   ]
  },
  {
   "cell_type": "code",
   "execution_count": 6,
   "id": "6525f1de-4bcc-48c5-a3b6-0e1b0bc59653",
   "metadata": {},
   "outputs": [
    {
     "data": {
      "text/html": [
       "<div>\n",
       "<style scoped>\n",
       "    .dataframe tbody tr th:only-of-type {\n",
       "        vertical-align: middle;\n",
       "    }\n",
       "\n",
       "    .dataframe tbody tr th {\n",
       "        vertical-align: top;\n",
       "    }\n",
       "\n",
       "    .dataframe thead th {\n",
       "        text-align: right;\n",
       "    }\n",
       "</style>\n",
       "<table border=\"1\" class=\"dataframe\">\n",
       "  <thead>\n",
       "    <tr style=\"text-align: right;\">\n",
       "      <th></th>\n",
       "      <th>OriginalTweet</th>\n",
       "      <th>Sentiment</th>\n",
       "      <th>LabelSentiment</th>\n",
       "    </tr>\n",
       "  </thead>\n",
       "  <tbody>\n",
       "    <tr>\n",
       "      <th>0</th>\n",
       "      <td>@MeNyrbie @Phil_Gahan @Chrisitv https://t.co/iFz9FAn2Pa and https://t.co/xX6ghGFzCC and https://t.co/I2NlzdxNo8</td>\n",
       "      <td>Neutral</td>\n",
       "      <td>1</td>\n",
       "    </tr>\n",
       "    <tr>\n",
       "      <th>1</th>\n",
       "      <td>advice Talk to your neighbours family to exchange phone numbers create contact list with phone numbers of neighbours schools employer chemist GP set up online shopping accounts if poss adequate supplies of regular meds but not over order</td>\n",
       "      <td>Positive</td>\n",
       "      <td>2</td>\n",
       "    </tr>\n",
       "    <tr>\n",
       "      <th>2</th>\n",
       "      <td>Coronavirus Australia: Woolworths to give elderly, disabled dedicated shopping hours amid COVID-19 outbreak https://t.co/bInCA9Vp8P</td>\n",
       "      <td>Positive</td>\n",
       "      <td>2</td>\n",
       "    </tr>\n",
       "    <tr>\n",
       "      <th>3</th>\n",
       "      <td>My food stock is not the only one which is empty...\\r\\r\\n\\r\\r\\nPLEASE, don't panic, THERE WILL BE ENOUGH FOOD FOR EVERYONE if you do not take more than you need. \\r\\r\\nStay calm, stay safe.\\r\\r\\n\\r\\r\\n#COVID19france #COVID_19 #COVID19 #coronavirus #confinement #Confinementotal #ConfinementGeneral https://t.co/zrlG0Z520j</td>\n",
       "      <td>Positive</td>\n",
       "      <td>2</td>\n",
       "    </tr>\n",
       "    <tr>\n",
       "      <th>4</th>\n",
       "      <td>Me, ready to go at supermarket during the #COVID19 outbreak.\\r\\r\\n\\r\\r\\nNot because I'm paranoid, but because my food stock is litteraly empty. The #coronavirus is a serious thing, but please, don't panic. It causes shortage...\\r\\r\\n\\r\\r\\n#CoronavirusFrance #restezchezvous #StayAtHome #confinement https://t.co/usmuaLq72n</td>\n",
       "      <td>Extremely Negative</td>\n",
       "      <td>0</td>\n",
       "    </tr>\n",
       "  </tbody>\n",
       "</table>\n",
       "</div>"
      ],
      "text/plain": [
       "                                                                                                                                                                                                                                                                                                                        OriginalTweet  \\\n",
       "0                                                                                                                                                                                                                     @MeNyrbie @Phil_Gahan @Chrisitv https://t.co/iFz9FAn2Pa and https://t.co/xX6ghGFzCC and https://t.co/I2NlzdxNo8   \n",
       "1                                                                                       advice Talk to your neighbours family to exchange phone numbers create contact list with phone numbers of neighbours schools employer chemist GP set up online shopping accounts if poss adequate supplies of regular meds but not over order   \n",
       "2                                                                                                                                                                                                 Coronavirus Australia: Woolworths to give elderly, disabled dedicated shopping hours amid COVID-19 outbreak https://t.co/bInCA9Vp8P   \n",
       "3   My food stock is not the only one which is empty...\\r\\r\\n\\r\\r\\nPLEASE, don't panic, THERE WILL BE ENOUGH FOOD FOR EVERYONE if you do not take more than you need. \\r\\r\\nStay calm, stay safe.\\r\\r\\n\\r\\r\\n#COVID19france #COVID_19 #COVID19 #coronavirus #confinement #Confinementotal #ConfinementGeneral https://t.co/zrlG0Z520j   \n",
       "4  Me, ready to go at supermarket during the #COVID19 outbreak.\\r\\r\\n\\r\\r\\nNot because I'm paranoid, but because my food stock is litteraly empty. The #coronavirus is a serious thing, but please, don't panic. It causes shortage...\\r\\r\\n\\r\\r\\n#CoronavirusFrance #restezchezvous #StayAtHome #confinement https://t.co/usmuaLq72n   \n",
       "\n",
       "            Sentiment  LabelSentiment  \n",
       "0             Neutral               1  \n",
       "1            Positive               2  \n",
       "2            Positive               2  \n",
       "3            Positive               2  \n",
       "4  Extremely Negative               0  "
      ]
     },
     "execution_count": 6,
     "metadata": {},
     "output_type": "execute_result"
    }
   ],
   "source": [
    "df.head()"
   ]
  },
  {
   "cell_type": "code",
   "execution_count": 7,
   "id": "4fb0b73a-bc21-43ed-8b52-04cdde206df6",
   "metadata": {},
   "outputs": [
    {
     "data": {
      "image/png": "[encoded data removed]",
      "text/plain": [
       "<Figure size 640x480 with 1 Axes>"
      ]
     },
     "metadata": {},
     "output_type": "display_data"
    }
   ],
   "source": [
    "plt.bar(df['LabelSentiment'].value_counts().index,df['LabelSentiment'].value_counts().values)\n",
    "plt.xticks([0,1,2])\n",
    "plt.grid(False)\n",
    "plt.ylabel('Frequency')\n",
    "plt.title('Sentiment Distribution')\n",
    "plt.gca().spines['top'].set_visible(False)\n",
    "plt.gca().spines['right'].set_visible(False)\n",
    "plt.show()"
   ]
  },
  {
   "cell_type": "markdown",
   "id": "b802fd6d-38b4-40f0-97ff-dd26e27592a2",
   "metadata": {},
   "source": [
    "## Train - Test split"
   ]
  },
  {
   "cell_type": "code",
   "execution_count": 8,
   "id": "2c2a0575-3b6a-466e-a3c1-33017e55cf29",
   "metadata": {},
   "outputs": [],
   "source": [
    "X_train, X_test, Y_train, Y_test = train_test_split(df['OriginalTweet'], df['LabelSentiment'], test_size=0.20, random_state=4)"
   ]
  },
  {
   "cell_type": "code",
   "execution_count": 9,
   "id": "c7e79d0d-9eaf-45bc-b03a-cd216258fe9a",
   "metadata": {},
   "outputs": [
    {
     "data": {
      "text/plain": [
       "(2400, 600, 2400, 600)"
      ]
     },
     "execution_count": 9,
     "metadata": {},
     "output_type": "execute_result"
    }
   ],
   "source": [
    "len(X_train), len(X_test), len(Y_train), len(Y_test)"
   ]
  },
  {
   "cell_type": "markdown",
   "id": "8f141246-507c-4b62-9f16-06386a215750",
   "metadata": {},
   "source": [
    "## Clean Text"
   ]
  },
  {
   "cell_type": "code",
   "execution_count": 10,
   "id": "2cab7730-e937-469d-af69-60e85843805e",
   "metadata": {},
   "outputs": [],
   "source": [
    "stop = set(stopwords.words('english'))\n",
    "stemmer = SnowballStemmer('english')\n",
    "lemma = WordNetLemmatizer()"
   ]
  },
  {
   "cell_type": "code",
   "execution_count": 11,
   "id": "773a19bf-9af5-44d0-ba57-bab7905d1a2c",
   "metadata": {},
   "outputs": [],
   "source": [
    "X_train_ = X_train.copy()"
   ]
  },
  {
   "cell_type": "code",
   "execution_count": 12,
   "id": "b6a81b3e-623b-47e0-bc94-02beda56c4c8",
   "metadata": {},
   "outputs": [],
   "source": [
    "def clean(text_list):\n",
    "    \n",
    "    updates = []\n",
    "    \n",
    "    for j in tqdm(text_list):\n",
    "        \n",
    "        text = j\n",
    "        \n",
    "        #LOWERCASE TEXT\n",
    "        text = text.lower()\n",
    "        \n",
    "        #SUBSTITUTE URL\n",
    "        text = re.sub(r'http\\S+', 'URL', text)\n",
    "        \n",
    "        #REMOVE NUMERICAL DATA and PUNCTUATION\n",
    "        text = re.sub(\"[^a-zA-Z]\",\" \", text )\n",
    "        \n",
    "        #REMOVE STOPWORDS\n",
    "        text = \" \".join([word for word in text.split() if word not in stop])\n",
    "        \n",
    "        #Lemmatize\n",
    "        text = \" \".join(lemma.lemmatize(word) for word in text.split())\n",
    "            \n",
    "        updates.append(text)\n",
    "        \n",
    "    return updates"
   ]
  },
  {
   "cell_type": "code",
   "execution_count": 13,
   "id": "8ff0582b-0e69-43e4-8459-1b315154761b",
   "metadata": {},
   "outputs": [
    {
     "data": {
      "application/vnd.jupyter.widget-view+json": {
       "model_id": "164334c9a9824300827185a0349c9053",
       "version_major": 2,
       "version_minor": 0
      },
      "text/plain": [
       "  0%|          | 0/2400 [00:00<?, ?it/s]"
      ]
     },
     "metadata": {},
     "output_type": "display_data"
    }
   ],
   "source": [
    "x_train = clean(X_train)"
   ]
  },
  {
   "cell_type": "code",
   "execution_count": 14,
   "id": "f28815b6-29d8-4e76-bb20-587310fc5b57",
   "metadata": {},
   "outputs": [
    {
     "data": {
      "application/vnd.jupyter.widget-view+json": {
       "model_id": "b8fd9984c9224a38868ebe986460a7f5",
       "version_major": 2,
       "version_minor": 0
      },
      "text/plain": [
       "  0%|          | 0/600 [00:00<?, ?it/s]"
      ]
     },
     "metadata": {},
     "output_type": "display_data"
    }
   ],
   "source": [
    "x_test = clean(X_test)"
   ]
  },
  {
   "cell_type": "code",
   "execution_count": 15,
   "id": "3562ec54-cbad-46be-b088-4571d791dfc2",
   "metadata": {},
   "outputs": [],
   "source": [
    "y_train = Y_train.to_numpy()"
   ]
  },
  {
   "cell_type": "code",
   "execution_count": 16,
   "id": "f0e987c3-ec03-42ab-980a-7419841e90da",
   "metadata": {},
   "outputs": [],
   "source": [
    "y_test = Y_test.to_numpy()"
   ]
  },
  {
   "cell_type": "code",
   "execution_count": 17,
   "id": "26ee74b8-f0f9-453d-a815-081dcc29d8c1",
   "metadata": {},
   "outputs": [
    {
     "data": {
      "text/plain": [
       "['past week absolute nightmare may ask work grocery store let tell people asshole go grocery store nice people working putting life risk coronavirus',\n",
       " 'california government need control go grocery store day control run supply well control many people one place given time store see packed parking lot coronavirus californiacoronavirus',\n",
       " 'breaking gas price dropping tonight cent putting price litre metro van lowest year reason drop demand people staying home energy sector suffer',\n",
       " 'old school alp wesstreeting hi wes come phone call t said much shop exploiting price handsanitizer unless government set cap chance call borisjohnson cap sto',\n",
       " 'ummmmmmmmmm bout shit need jeanyuses cnn providing rock solid information always ay dios mio fakenews coronavirus URL',\n",
       " 'god damn people jacking stuff grocery store people need ya know coronavirusoutbreak covid',\n",
       " 'u retail sale february yoy indicating consumer spending major driver u economy trending prior covid thinkwhyitmatters',\n",
       " 'pa state police museum closed tourist due covid still office mean online store open ready shopping thank continuing mail membership brick donation well hope see person soon',\n",
       " 'thank store supporting senior need stop panic buying hoarding senior great risk come bashas aj amp food city open every wed please spread love news',\n",
       " 'united supermarket store dedicating time store opening older immune compromised guest vulnerable severe illness covid URL']"
      ]
     },
     "execution_count": 17,
     "metadata": {},
     "output_type": "execute_result"
    }
   ],
   "source": [
    "x_train[0:10]"
   ]
  },
  {
   "cell_type": "markdown",
   "id": "79cebcd4-48ac-460a-8c75-27784bf1b35c",
   "metadata": {},
   "source": [
    "## Feature Engineering (Word Embeddings)"
   ]
  },
  {
   "cell_type": "code",
   "execution_count": 18,
   "id": "fdb2dd80-3041-4276-b716-5cbd127a04d6",
   "metadata": {},
   "outputs": [],
   "source": [
    "import gensim.downloader"
   ]
  },
  {
   "cell_type": "code",
   "execution_count": 19,
   "id": "8a1ce462-1ce0-440e-9750-9ff27a08ab59",
   "metadata": {},
   "outputs": [
    {
     "name": "stdout",
     "output_type": "stream",
     "text": [
      "['fasttext-wiki-news-subwords-300', 'conceptnet-numberbatch-17-06-300', 'word2vec-ruscorpora-300', 'word2vec-google-news-300', 'glove-wiki-gigaword-50', 'glove-wiki-gigaword-100', 'glove-wiki-gigaword-200', 'glove-wiki-gigaword-300', 'glove-twitter-25', 'glove-twitter-50', 'glove-twitter-100', 'glove-twitter-200', '__testing_word2vec-matrix-synopsis']\n"
     ]
    }
   ],
   "source": [
    "print(list(gensim.downloader.info()['models'].keys()))"
   ]
  },
  {
   "cell_type": "code",
   "execution_count": 20,
   "id": "9e022368-7417-4ddd-8fe0-78a8d63fd1c8",
   "metadata": {},
   "outputs": [],
   "source": [
    "#glove-twitter-25 has embeddings size 25, glove-twitter-100 has embeddings size 100, etc.\n",
    "w2v = gensim.downloader.load('glove-twitter-100')"
   ]
  },
  {
   "cell_type": "code",
   "execution_count": 21,
   "id": "cb87e1bb-4c67-48f1-9371-9efabcd6575a",
   "metadata": {},
   "outputs": [],
   "source": [
    "emb_size = 100"
   ]
  },
  {
   "cell_type": "code",
   "execution_count": 22,
   "id": "6ac8759d-43d6-4f1e-a4dd-a1180dfd0fd2",
   "metadata": {},
   "outputs": [],
   "source": [
    "#function to get embeddings for each word based on w2v list\n",
    "def corpus2vec(corpus):\n",
    "    corpus_vec = []\n",
    "    for document in tqdm(corpus):\n",
    "        #get word vectors for each document\n",
    "        doc_vectors = []\n",
    "        for word in document.split():\n",
    "            if word in w2v.index_to_key:\n",
    "                doc_vectors.append(w2v.get_vector(word))         \n",
    "        corpus_vec.append(doc_vectors)\n",
    "    return corpus_vec"
   ]
  },
  {
   "cell_type": "code",
   "execution_count": 23,
   "id": "cb95ac7c-6919-41ec-885e-a59d65f585fb",
   "metadata": {},
   "outputs": [
    {
     "data": {
      "application/vnd.jupyter.widget-view+json": {
       "model_id": "4dd8c14d4e934eee83b6606a1f34bd18",
       "version_major": 2,
       "version_minor": 0
      },
      "text/plain": [
       "  0%|          | 0/2400 [00:00<?, ?it/s]"
      ]
     },
     "metadata": {},
     "output_type": "display_data"
    }
   ],
   "source": [
    "x_train_vec = corpus2vec(x_train)"
   ]
  },
  {
   "cell_type": "code",
   "execution_count": 24,
   "id": "94a46290-5d5a-4a7d-8b01-bead1310ad16",
   "metadata": {},
   "outputs": [
    {
     "data": {
      "application/vnd.jupyter.widget-view+json": {
       "model_id": "78c85fce18f4438ea874cb89a2e9d307",
       "version_major": 2,
       "version_minor": 0
      },
      "text/plain": [
       "  0%|          | 0/600 [00:00<?, ?it/s]"
      ]
     },
     "metadata": {},
     "output_type": "display_data"
    }
   ],
   "source": [
    "x_test_vec = corpus2vec(x_test)"
   ]
  },
  {
   "cell_type": "markdown",
   "id": "9d943bc2-693e-4450-b8f8-740a6dbc05de",
   "metadata": {},
   "source": [
    "## Pad Sequences"
   ]
  },
  {
   "cell_type": "code",
   "execution_count": 25,
   "id": "860cf139-8b81-4f5c-8415-b1937a4c3a8e",
   "metadata": {},
   "outputs": [],
   "source": [
    "#!pip install tensorflow\n",
    "#!pip install Keras-Preprocessing"
   ]
  },
  {
   "cell_type": "code",
   "execution_count": 26,
   "id": "68b25d0d-fa81-460d-9744-076a48433028",
   "metadata": {},
   "outputs": [],
   "source": [
    "import tensorflow as tf\n",
    "import tensorflow.keras as keras"
   ]
  },
  {
   "cell_type": "code",
   "execution_count": 27,
   "id": "7b4bb030-563e-4830-8e73-b522d26e61f1",
   "metadata": {},
   "outputs": [],
   "source": [
    "from keras_preprocessing.sequence import pad_sequences"
   ]
  },
  {
   "cell_type": "code",
   "execution_count": 28,
   "id": "3168bb8c-4edf-4225-8054-5cc1e8fb43b0",
   "metadata": {},
   "outputs": [],
   "source": [
    "#get list with lenghts of sentences\n",
    "train_len = []\n",
    "for i in x_train_vec:\n",
    "    train_len.append(len(i))"
   ]
  },
  {
   "cell_type": "code",
   "execution_count": 29,
   "id": "1e2ec515-a38e-4495-8020-fb34b5aca192",
   "metadata": {},
   "outputs": [
    {
     "data": {
      "text/plain": [
       "36"
      ]
     },
     "execution_count": 29,
     "metadata": {},
     "output_type": "execute_result"
    }
   ],
   "source": [
    "max(train_len)"
   ]
  },
  {
   "cell_type": "code",
   "execution_count": 30,
   "id": "5e0596b8-cc33-4940-9cea-e246a65fbc3a",
   "metadata": {},
   "outputs": [],
   "source": [
    "#make all sentences the same size - model input must be of the same size\n",
    "X_pad = pad_sequences(maxlen=max(train_len),sequences=x_train_vec, padding=\"post\", dtype='float64')"
   ]
  },
  {
   "cell_type": "code",
   "execution_count": 31,
   "id": "03cdb58b-9d69-4b99-9846-b31d198fc3dd",
   "metadata": {},
   "outputs": [
    {
     "data": {
      "text/plain": [
       "array([[ 0.12863   , -0.25442001, -0.14914   , ...,  0.34277001,\n",
       "        -0.22908001, -0.88897002],\n",
       "       [ 0.031579  , -0.25907001,  0.62281001, ...,  0.026399  ,\n",
       "         0.19357   ,  0.1015    ],\n",
       "       [-0.19952001, -1.02680004,  0.14788   , ...,  0.1087    ,\n",
       "         0.11457   , -0.65868998],\n",
       "       ...,\n",
       "       [ 0.        ,  0.        ,  0.        , ...,  0.        ,\n",
       "         0.        ,  0.        ],\n",
       "       [ 0.        ,  0.        ,  0.        , ...,  0.        ,\n",
       "         0.        ,  0.        ],\n",
       "       [ 0.        ,  0.        ,  0.        , ...,  0.        ,\n",
       "         0.        ,  0.        ]])"
      ]
     },
     "execution_count": 31,
     "metadata": {},
     "output_type": "execute_result"
    }
   ],
   "source": [
    "#we added dummy embedding at the end of each sentence so that they all have len 36\n",
    "#let's look at the first sentence, word 18 to 36(end)\n",
    "X_pad[0][18:]"
   ]
  },
  {
   "cell_type": "code",
   "execution_count": 32,
   "id": "381bca41-4cb0-4d96-a0a4-2fac8a2fc407",
   "metadata": {},
   "outputs": [],
   "source": [
    "#turn input into a tensor (another sort of array) for the model\n",
    "X = tf.convert_to_tensor(X_pad, dtype='float32')"
   ]
  },
  {
   "cell_type": "code",
   "execution_count": 33,
   "id": "006467d9-56d3-4290-9786-73818b3aaed9",
   "metadata": {},
   "outputs": [
    {
     "data": {
      "text/plain": [
       "TensorShape([2400, 36, 100])"
      ]
     },
     "execution_count": 33,
     "metadata": {},
     "output_type": "execute_result"
    }
   ],
   "source": [
    "X.shape"
   ]
  },
  {
   "cell_type": "code",
   "execution_count": 34,
   "id": "8e409da5-3d3d-4249-8c20-1b8e66806cda",
   "metadata": {},
   "outputs": [
    {
     "data": {
      "text/plain": [
       "array([0, 2, 0, 0, 0, 0, 1, 2, 2, 0], dtype=int64)"
      ]
     },
     "execution_count": 34,
     "metadata": {},
     "output_type": "execute_result"
    }
   ],
   "source": [
    "y_train[0:10]"
   ]
  },
  {
   "cell_type": "code",
   "execution_count": 35,
   "id": "d5671f10-72e8-43f0-9fe6-8442510f6ed3",
   "metadata": {},
   "outputs": [],
   "source": [
    "#Must turn output into one hot encoded matrix\n",
    "y = tf.one_hot(y_train, depth=3)"
   ]
  },
  {
   "cell_type": "code",
   "execution_count": 36,
   "id": "e9261967-8209-47ab-90cf-c666f6b162e1",
   "metadata": {},
   "outputs": [
    {
     "data": {
      "text/plain": [
       "<tf.Tensor: shape=(10, 3), dtype=float32, numpy=\n",
       "array([[1., 0., 0.],\n",
       "       [0., 0., 1.],\n",
       "       [1., 0., 0.],\n",
       "       [1., 0., 0.],\n",
       "       [1., 0., 0.],\n",
       "       [1., 0., 0.],\n",
       "       [0., 1., 0.],\n",
       "       [0., 0., 1.],\n",
       "       [0., 0., 1.],\n",
       "       [1., 0., 0.]], dtype=float32)>"
      ]
     },
     "execution_count": 36,
     "metadata": {},
     "output_type": "execute_result"
    }
   ],
   "source": [
    "y[0:10]"
   ]
  },
  {
   "cell_type": "markdown",
   "id": "08c89fa8-52e8-48c9-80ab-868b6fd762c2",
   "metadata": {},
   "source": [
    "## Model Initiation and Train (LSTM)"
   ]
  },
  {
   "cell_type": "markdown",
   "id": "cc0962ba-6c5d-4158-ab56-eb64c29618c2",
   "metadata": {},
   "source": [
    "Understanding LSTM Networks: https://colah.github.io/posts/2015-08-Understanding-LSTMs/\n",
    "\n",
    "Illustrated Guide to LSTM’s and GRU’s: A step by step explanation: https://towardsdatascience.com/illustrated-guide-to-lstms-and-gru-s-a-step-by-step-explanation-44e9eb85bf21\n",
    "\n",
    "![LSTM](https://www.researchgate.net/publication/335524542/figure/fig11/AS:798002683842580@1567270074253/Mozilla-DeepSpeech-forward-LSTM-chain-this-should-the-only-used-part-after-mozillas.ppm)"
   ]
  },
  {
   "cell_type": "code",
   "execution_count": 37,
   "id": "82dac0bd-69f4-42dc-a1fc-e1f5a195a059",
   "metadata": {},
   "outputs": [],
   "source": [
    "#make the model start with same weights\n",
    "tf.random.set_seed(221)\n",
    "#import packages\n",
    "from keras.models import Model\n",
    "from keras.layers import Input, LSTM, Dense, TimeDistributed, Bidirectional, Masking\n",
    "from keras import layers"
   ]
  },
  {
   "cell_type": "code",
   "execution_count": 38,
   "id": "e6a03665-8ef0-415c-9dd2-c3e3152a4e65",
   "metadata": {},
   "outputs": [
    {
     "name": "stdout",
     "output_type": "stream",
     "text": [
      "Model: \"model\"\n",
      "_________________________________________________________________\n",
      " Layer (type)                Output Shape              Param #   \n",
      "=================================================================\n",
      " input_1 (InputLayer)        [(None, 36, 100)]         0         \n",
      "                                                                 \n",
      " masking (Masking)           (None, 36, 100)           0         \n",
      "                                                                 \n",
      " bidirectional (Bidirection  (None, 8)                 3360      \n",
      " al)                                                             \n",
      "                                                                 \n",
      " dense (Dense)               (None, 3)                 27        \n",
      "                                                                 \n",
      "=================================================================\n",
      "Total params: 3387 (13.23 KB)\n",
      "Trainable params: 3387 (13.23 KB)\n",
      "Non-trainable params: 0 (0.00 Byte)\n",
      "_________________________________________________________________\n"
     ]
    }
   ],
   "source": [
    "'''model input in the shape(number of words per doc, word embedding size)'''\n",
    "input_ = Input(shape=(max(train_len), emb_size))\n",
    " \n",
    "'''mask layer to avoid model from considering padding vectors'''\n",
    "mask_layer = Masking(mask_value=0)\n",
    "mask = mask_layer(input_)\n",
    "\n",
    "'''BiLSTM layer'''\n",
    "lstm = Bidirectional(LSTM(units=4))(mask)\n",
    "\n",
    "'''activation layer'''\n",
    "act = Dense(3, activation='softmax')(lstm)\n",
    "\n",
    "'''model input and output'''\n",
    "model = Model(input_, act)\n",
    "\n",
    "'''model loss function and evaluation metrics'''\n",
    "model.compile(optimizer=\"adam\", loss=\"categorical_crossentropy\", metrics=[\"accuracy\"])\n",
    "model.summary()"
   ]
  },
  {
   "cell_type": "code",
   "execution_count": 39,
   "id": "3c71ada8-487a-44d8-ab37-9aa7e23a73a2",
   "metadata": {},
   "outputs": [
    {
     "name": "stdout",
     "output_type": "stream",
     "text": [
      "Epoch 1/10\n",
      "60/60 [==============================] - 7s 36ms/step - loss: 1.0729 - accuracy: 0.3953 - val_loss: 1.0132 - val_accuracy: 0.4750\n",
      "Epoch 2/10\n",
      "60/60 [==============================] - 1s 9ms/step - loss: 0.9823 - accuracy: 0.5036 - val_loss: 0.9667 - val_accuracy: 0.5292\n",
      "Epoch 3/10\n",
      "60/60 [==============================] - 1s 8ms/step - loss: 0.9275 - accuracy: 0.5646 - val_loss: 0.9024 - val_accuracy: 0.6021\n",
      "Epoch 4/10\n",
      "60/60 [==============================] - 1s 9ms/step - loss: 0.8705 - accuracy: 0.6042 - val_loss: 0.8571 - val_accuracy: 0.6417\n",
      "Epoch 5/10\n",
      "60/60 [==============================] - 1s 8ms/step - loss: 0.8281 - accuracy: 0.6302 - val_loss: 0.8267 - val_accuracy: 0.6646\n",
      "Epoch 6/10\n",
      "60/60 [==============================] - 1s 8ms/step - loss: 0.7915 - accuracy: 0.6531 - val_loss: 0.8071 - val_accuracy: 0.6708\n",
      "Epoch 7/10\n",
      "60/60 [==============================] - 1s 9ms/step - loss: 0.7585 - accuracy: 0.6729 - val_loss: 0.7928 - val_accuracy: 0.6833\n",
      "Epoch 8/10\n",
      "60/60 [==============================] - 1s 8ms/step - loss: 0.7260 - accuracy: 0.6865 - val_loss: 0.7852 - val_accuracy: 0.6792\n",
      "Epoch 9/10\n",
      "60/60 [==============================] - 1s 8ms/step - loss: 0.6960 - accuracy: 0.7099 - val_loss: 0.7790 - val_accuracy: 0.6708\n",
      "Epoch 10/10\n",
      "60/60 [==============================] - 1s 8ms/step - loss: 0.6719 - accuracy: 0.7240 - val_loss: 0.7785 - val_accuracy: 0.6729\n"
     ]
    }
   ],
   "source": [
    "history = model.fit(X, y, batch_size=32, epochs=10, verbose=1, validation_split=0.20)"
   ]
  },
  {
   "cell_type": "code",
   "execution_count": 40,
   "id": "91542326-3bd6-4767-9a6f-a4ab69c77088",
   "metadata": {},
   "outputs": [
    {
     "data": {
      "image/png": "[encoded data removed]",
      "text/plain": [
       "<Figure size 1000x600 with 1 Axes>"
      ]
     },
     "metadata": {},
     "output_type": "display_data"
    }
   ],
   "source": [
    "import matplotlib.pyplot as plt\n",
    "plt.figure(figsize =(10, 6))\n",
    "plt.plot(history.history['accuracy'])\n",
    "plt.plot(history.history['val_accuracy'])\n",
    "plt.title('Model Accuracy')\n",
    "plt.ylabel('Accuracy')\n",
    "plt.xlabel('Epoch')\n",
    "plt.legend(['train', 'val'], loc='upper left')\n",
    "plt.gca().spines['top'].set_visible(False)\n",
    "plt.gca().spines['right'].set_visible(False)\n",
    "plt.show()"
   ]
  },
  {
   "cell_type": "markdown",
   "id": "45677e1b-239e-45d6-a176-f617d651014a",
   "metadata": {
    "tags": []
   },
   "source": [
    "## Predict"
   ]
  },
  {
   "cell_type": "code",
   "execution_count": 41,
   "id": "b2ed1811-e215-46cd-a428-174c7a1f83a9",
   "metadata": {},
   "outputs": [],
   "source": [
    "X_test_pad = pad_sequences(maxlen=max(train_len),sequences=x_test_vec, padding=\"post\", dtype='float64')"
   ]
  },
  {
   "cell_type": "code",
   "execution_count": 42,
   "id": "0da09bd4-4401-4023-a202-2866ca8db11d",
   "metadata": {},
   "outputs": [],
   "source": [
    "#x_test = np.expand_dims(x_test,-1)\n",
    "x_test = tf.convert_to_tensor(X_test_pad, dtype='float32')"
   ]
  },
  {
   "cell_type": "code",
   "execution_count": 43,
   "id": "4967ea24-2daa-45f5-be5d-395fe0b6bdc8",
   "metadata": {},
   "outputs": [
    {
     "data": {
      "text/plain": [
       "TensorShape([600, 36, 100])"
      ]
     },
     "execution_count": 43,
     "metadata": {},
     "output_type": "execute_result"
    }
   ],
   "source": [
    "x_test.shape"
   ]
  },
  {
   "cell_type": "code",
   "execution_count": 44,
   "id": "b02a74a9-0a65-4ef9-8b77-d4d6a7efd3f9",
   "metadata": {},
   "outputs": [
    {
     "name": "stdout",
     "output_type": "stream",
     "text": [
      "19/19 [==============================] - 2s 4ms/step\n"
     ]
    }
   ],
   "source": [
    "pred_y = model.predict(x_test)"
   ]
  },
  {
   "cell_type": "code",
   "execution_count": 45,
   "id": "34770757-dd48-4bb7-bc3b-cc9ed3f7354f",
   "metadata": {},
   "outputs": [
    {
     "data": {
      "text/plain": [
       "array([[0.15977186, 0.0628108 , 0.7774173 ],\n",
       "       [0.09595531, 0.77423704, 0.12980765],\n",
       "       [0.8826377 , 0.02171526, 0.09564704],\n",
       "       [0.28172824, 0.22572988, 0.49254182],\n",
       "       [0.8860994 , 0.04423737, 0.06966327],\n",
       "       [0.2905053 , 0.09054828, 0.61894643],\n",
       "       [0.44667363, 0.05784426, 0.49548203],\n",
       "       [0.74788904, 0.1109855 , 0.14112535],\n",
       "       [0.26337826, 0.06060161, 0.67602015],\n",
       "       [0.7761368 , 0.03043162, 0.19343148]], dtype=float32)"
      ]
     },
     "execution_count": 45,
     "metadata": {},
     "output_type": "execute_result"
    }
   ],
   "source": [
    "pred_y[0:10]"
   ]
  },
  {
   "cell_type": "code",
   "execution_count": 46,
   "id": "1aebf2d0-ca68-4611-b740-66451eadc03e",
   "metadata": {},
   "outputs": [],
   "source": [
    "y_pred = []\n",
    "for doc in pred_y:\n",
    "    y_pred.append(np.argmax(doc, axis=None, out=None))"
   ]
  },
  {
   "cell_type": "code",
   "execution_count": 47,
   "id": "b8f50f72-4d7c-49c2-81c4-2708157710b8",
   "metadata": {},
   "outputs": [
    {
     "data": {
      "text/plain": [
       "[2, 1, 0, 2, 0, 2, 2, 0, 2, 0]"
      ]
     },
     "execution_count": 47,
     "metadata": {},
     "output_type": "execute_result"
    }
   ],
   "source": [
    "y_pred[0:10]"
   ]
  },
  {
   "cell_type": "code",
   "execution_count": 48,
   "id": "85a2ea3e-1efe-4c30-b137-8dc4e321da91",
   "metadata": {},
   "outputs": [
    {
     "data": {
      "text/plain": [
       "array([2, 1, 0, 2, 0, 0, 0, 2, 2, 0], dtype=int64)"
      ]
     },
     "execution_count": 48,
     "metadata": {},
     "output_type": "execute_result"
    }
   ],
   "source": [
    "y_test[0:10]"
   ]
  },
  {
   "cell_type": "code",
   "execution_count": 49,
   "id": "3af9cb57-43b4-4225-aa46-344c8cb1c9d4",
   "metadata": {},
   "outputs": [
    {
     "name": "stdout",
     "output_type": "stream",
     "text": [
      "              precision    recall  f1-score   support\n",
      "\n",
      "           0       0.64      0.71      0.67       237\n",
      "           1       0.46      0.34      0.39       109\n",
      "           2       0.64      0.65      0.64       254\n",
      "\n",
      "    accuracy                           0.62       600\n",
      "   macro avg       0.58      0.57      0.57       600\n",
      "weighted avg       0.61      0.62      0.61       600\n",
      "\n"
     ]
    }
   ],
   "source": [
    "print(classification_report(y_test, y_pred))"
   ]
  }
 ],
 "metadata": {
  "kernelspec": {
   "display_name": "Python 3 (ipykernel)",
   "language": "python",
   "name": "python3"
  },
  "language_info": {
   "codemirror_mode": {
    "name": "ipython",
    "version": 3
   },
   "file_extension": ".py",
   "mimetype": "text/x-python",
   "name": "python",
   "nbconvert_exporter": "python",
   "pygments_lexer": "ipython3",
   "version": "3.11.9"
  }
 },
 "nbformat": 4,
 "nbformat_minor": 5
}
