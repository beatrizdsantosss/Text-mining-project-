{
 "cells": [
  {
   "cell_type": "markdown",
   "id": "cacf08ca-6902-4c78-a528-8cbce04b846b",
   "metadata": {},
   "source": [
    "# Text Mining Project"
   ]
  },
  {
   "cell_type": "markdown",
   "id": "63d17763-8e20-48d6-8ad9-a3f26fda53ca",
   "metadata": {},
   "source": [
    "Description"
   ]
  },
  {
   "cell_type": "markdown",
   "id": "c0fa0119-6076-4b91-881e-e066e9106ee7",
   "metadata": {},
   "source": [
    "## 1. Installs and Imports"
   ]
  },
  {
   "cell_type": "code",
   "execution_count": 24,
   "id": "4c2fffce-6ced-41bc-a87b-dcdbde784781",
   "metadata": {},
   "outputs": [],
   "source": [
    "#pip install pandas\n",
    "#!pip install langdetect\n",
    "#!pip install matplotlib\n",
    "#!pip install seaborn \n",
    "#!pip install re\n",
    "#!pip install openpyxl\n",
    "#!pip install googletrans==4.0.0-rc1"
   ]
  },
  {
   "cell_type": "code",
   "execution_count": 25,
   "id": "d6f96024-d2c6-4dd6-813b-e9a26e2daa90",
   "metadata": {},
   "outputs": [],
   "source": [
    "import pandas as pd\n",
    "from langdetect import detect\n",
    "import matplotlib.pyplot as plt\n",
    "import seaborn as sns\n",
    "import re\n",
    "from googletrans import Translator\n"
   ]
  },
  {
   "cell_type": "markdown",
   "id": "53bc6a7b-c40f-4f77-a1b8-8e0dde1badf1",
   "metadata": {},
   "source": [
    "## 2. Data Exploration and Analysis"
   ]
  },
  {
   "cell_type": "markdown",
   "id": "58135179-f638-401a-9caf-4a0642e8a61b",
   "metadata": {},
   "source": [
    "**Checking if data was loaded Correctly**"
   ]
  },
  {
   "cell_type": "code",
   "execution_count": 3,
   "id": "32b22f9f-3c77-4e45-b5fa-0914c092af0a",
   "metadata": {},
   "outputs": [],
   "source": [
    "train = pd.read_excel(\"train.xlsx\")\n",
    "train_reviews = pd.read_excel(\"train_reviews.xlsx\")\n",
    "test = pd.read_excel(\"test.xlsx\")\n",
    "test_reviews = pd.read_excel(\"test_reviews.xlsx\")"
   ]
  },
  {
   "cell_type": "code",
   "execution_count": 4,
   "id": "5887eaaa-4a51-4c0e-a18b-3cfcdf2a43c1",
   "metadata": {},
   "outputs": [
    {
     "data": {
      "text/html": [
       "<div>\n",
       "<style scoped>\n",
       "    .dataframe tbody tr th:only-of-type {\n",
       "        vertical-align: middle;\n",
       "    }\n",
       "\n",
       "    .dataframe tbody tr th {\n",
       "        vertical-align: top;\n",
       "    }\n",
       "\n",
       "    .dataframe thead th {\n",
       "        text-align: right;\n",
       "    }\n",
       "</style>\n",
       "<table border=\"1\" class=\"dataframe\">\n",
       "  <thead>\n",
       "    <tr style=\"text-align: right;\">\n",
       "      <th></th>\n",
       "      <th>index</th>\n",
       "      <th>description</th>\n",
       "      <th>host_about</th>\n",
       "      <th>unlisted</th>\n",
       "    </tr>\n",
       "  </thead>\n",
       "  <tbody>\n",
       "    <tr>\n",
       "      <th>0</th>\n",
       "      <td>1</td>\n",
       "      <td>This is a shared mixed room in our hostel, wit...</td>\n",
       "      <td>Alojamento Local Registro: 20835/AL</td>\n",
       "      <td>0</td>\n",
       "    </tr>\n",
       "    <tr>\n",
       "      <th>1</th>\n",
       "      <td>2</td>\n",
       "      <td>O meu espaço fica perto de Parque Eduardo VII,...</td>\n",
       "      <td>I am friendly host, and I will try to always b...</td>\n",
       "      <td>1</td>\n",
       "    </tr>\n",
       "    <tr>\n",
       "      <th>2</th>\n",
       "      <td>3</td>\n",
       "      <td>Trafaria’s House is a cozy and familiar villa ...</td>\n",
       "      <td>I am a social person liking to communicate, re...</td>\n",
       "      <td>1</td>\n",
       "    </tr>\n",
       "    <tr>\n",
       "      <th>3</th>\n",
       "      <td>4</td>\n",
       "      <td>Apartamento Charmoso no Chiado, Entre o Largo ...</td>\n",
       "      <td>Hello!_x000D_\\nI m Portuguese and i love to me...</td>\n",
       "      <td>0</td>\n",
       "    </tr>\n",
       "    <tr>\n",
       "      <th>4</th>\n",
       "      <td>5</td>\n",
       "      <td>Joli appartement  en bordure de mer.&lt;br /&gt; 2 m...</td>\n",
       "      <td>Nous sommes une famille avec deux enfants de 1...</td>\n",
       "      <td>0</td>\n",
       "    </tr>\n",
       "  </tbody>\n",
       "</table>\n",
       "</div>"
      ],
      "text/plain": [
       "   index                                        description  \\\n",
       "0      1  This is a shared mixed room in our hostel, wit...   \n",
       "1      2  O meu espaço fica perto de Parque Eduardo VII,...   \n",
       "2      3  Trafaria’s House is a cozy and familiar villa ...   \n",
       "3      4  Apartamento Charmoso no Chiado, Entre o Largo ...   \n",
       "4      5  Joli appartement  en bordure de mer.<br /> 2 m...   \n",
       "\n",
       "                                          host_about  unlisted  \n",
       "0                Alojamento Local Registro: 20835/AL         0  \n",
       "1  I am friendly host, and I will try to always b...         1  \n",
       "2  I am a social person liking to communicate, re...         1  \n",
       "3  Hello!_x000D_\\nI m Portuguese and i love to me...         0  \n",
       "4  Nous sommes une famille avec deux enfants de 1...         0  "
      ]
     },
     "execution_count": 4,
     "metadata": {},
     "output_type": "execute_result"
    }
   ],
   "source": [
    "train.head(5)"
   ]
  },
  {
   "cell_type": "code",
   "execution_count": 5,
   "id": "b0e2eac8-2081-40e9-acea-315d5fafa745",
   "metadata": {},
   "outputs": [
    {
     "data": {
      "text/html": [
       "<div>\n",
       "<style scoped>\n",
       "    .dataframe tbody tr th:only-of-type {\n",
       "        vertical-align: middle;\n",
       "    }\n",
       "\n",
       "    .dataframe tbody tr th {\n",
       "        vertical-align: top;\n",
       "    }\n",
       "\n",
       "    .dataframe thead th {\n",
       "        text-align: right;\n",
       "    }\n",
       "</style>\n",
       "<table border=\"1\" class=\"dataframe\">\n",
       "  <thead>\n",
       "    <tr style=\"text-align: right;\">\n",
       "      <th></th>\n",
       "      <th>index</th>\n",
       "      <th>comments</th>\n",
       "    </tr>\n",
       "  </thead>\n",
       "  <tbody>\n",
       "    <tr>\n",
       "      <th>0</th>\n",
       "      <td>1</td>\n",
       "      <td>this is a very cozy and comfortable house to s...</td>\n",
       "    </tr>\n",
       "    <tr>\n",
       "      <th>1</th>\n",
       "      <td>1</td>\n",
       "      <td>good&lt;br/&gt;</td>\n",
       "    </tr>\n",
       "    <tr>\n",
       "      <th>2</th>\n",
       "      <td>1</td>\n",
       "      <td>My first hostel experience, and all I have to ...</td>\n",
       "    </tr>\n",
       "    <tr>\n",
       "      <th>3</th>\n",
       "      <td>1</td>\n",
       "      <td>Das Hostel war neu und deshalb funktionierte a...</td>\n",
       "    </tr>\n",
       "    <tr>\n",
       "      <th>4</th>\n",
       "      <td>1</td>\n",
       "      <td>It was fine for a dorm, but I think for the pe...</td>\n",
       "    </tr>\n",
       "  </tbody>\n",
       "</table>\n",
       "</div>"
      ],
      "text/plain": [
       "   index                                           comments\n",
       "0      1  this is a very cozy and comfortable house to s...\n",
       "1      1                                          good<br/>\n",
       "2      1  My first hostel experience, and all I have to ...\n",
       "3      1  Das Hostel war neu und deshalb funktionierte a...\n",
       "4      1  It was fine for a dorm, but I think for the pe..."
      ]
     },
     "execution_count": 5,
     "metadata": {},
     "output_type": "execute_result"
    }
   ],
   "source": [
    "train_reviews.head(5)"
   ]
  },
  {
   "cell_type": "code",
   "execution_count": 6,
   "id": "22bd139d-4d50-42a2-bd5d-5fe9ae6ade41",
   "metadata": {},
   "outputs": [
    {
     "data": {
      "text/html": [
       "<div>\n",
       "<style scoped>\n",
       "    .dataframe tbody tr th:only-of-type {\n",
       "        vertical-align: middle;\n",
       "    }\n",
       "\n",
       "    .dataframe tbody tr th {\n",
       "        vertical-align: top;\n",
       "    }\n",
       "\n",
       "    .dataframe thead th {\n",
       "        text-align: right;\n",
       "    }\n",
       "</style>\n",
       "<table border=\"1\" class=\"dataframe\">\n",
       "  <thead>\n",
       "    <tr style=\"text-align: right;\">\n",
       "      <th></th>\n",
       "      <th>index</th>\n",
       "      <th>description</th>\n",
       "      <th>host_about</th>\n",
       "    </tr>\n",
       "  </thead>\n",
       "  <tbody>\n",
       "    <tr>\n",
       "      <th>0</th>\n",
       "      <td>1</td>\n",
       "      <td>&lt;b&gt;The space&lt;/b&gt;&lt;br /&gt;Apartment located in the...</td>\n",
       "      <td>Gosto de viajar, de conhecer pessoas, gosto de...</td>\n",
       "    </tr>\n",
       "    <tr>\n",
       "      <th>1</th>\n",
       "      <td>2</td>\n",
       "      <td>IMPORTANT: In response to COVID-19, this prope...</td>\n",
       "      <td>We are the be@home Team!\\n\\nYou can count on u...</td>\n",
       "    </tr>\n",
       "    <tr>\n",
       "      <th>2</th>\n",
       "      <td>3</td>\n",
       "      <td>Bright, beautiful, and spacious. This four-bed...</td>\n",
       "      <td>Hi there!\\n\\nWe're GuestReady, a professional ...</td>\n",
       "    </tr>\n",
       "    <tr>\n",
       "      <th>3</th>\n",
       "      <td>4</td>\n",
       "      <td>Charming Apartment Close to the Bay of Cascais...</td>\n",
       "      <td>:)</td>\n",
       "    </tr>\n",
       "    <tr>\n",
       "      <th>4</th>\n",
       "      <td>5</td>\n",
       "      <td>Se procura umas férias perto da praia, casino ...</td>\n",
       "      <td>Bem vindos a Portugal!_x000D_\\nAdoro o meu Paí...</td>\n",
       "    </tr>\n",
       "  </tbody>\n",
       "</table>\n",
       "</div>"
      ],
      "text/plain": [
       "   index                                        description  \\\n",
       "0      1  <b>The space</b><br />Apartment located in the...   \n",
       "1      2  IMPORTANT: In response to COVID-19, this prope...   \n",
       "2      3  Bright, beautiful, and spacious. This four-bed...   \n",
       "3      4  Charming Apartment Close to the Bay of Cascais...   \n",
       "4      5  Se procura umas férias perto da praia, casino ...   \n",
       "\n",
       "                                          host_about  \n",
       "0  Gosto de viajar, de conhecer pessoas, gosto de...  \n",
       "1  We are the be@home Team!\\n\\nYou can count on u...  \n",
       "2  Hi there!\\n\\nWe're GuestReady, a professional ...  \n",
       "3                                                 :)  \n",
       "4  Bem vindos a Portugal!_x000D_\\nAdoro o meu Paí...  "
      ]
     },
     "execution_count": 6,
     "metadata": {},
     "output_type": "execute_result"
    }
   ],
   "source": [
    "test.head(5)"
   ]
  },
  {
   "cell_type": "code",
   "execution_count": 7,
   "id": "f82ac50f-81f7-4a28-b41d-1410b62ebd01",
   "metadata": {},
   "outputs": [
    {
     "data": {
      "text/html": [
       "<div>\n",
       "<style scoped>\n",
       "    .dataframe tbody tr th:only-of-type {\n",
       "        vertical-align: middle;\n",
       "    }\n",
       "\n",
       "    .dataframe tbody tr th {\n",
       "        vertical-align: top;\n",
       "    }\n",
       "\n",
       "    .dataframe thead th {\n",
       "        text-align: right;\n",
       "    }\n",
       "</style>\n",
       "<table border=\"1\" class=\"dataframe\">\n",
       "  <thead>\n",
       "    <tr style=\"text-align: right;\">\n",
       "      <th></th>\n",
       "      <th>index</th>\n",
       "      <th>comments</th>\n",
       "    </tr>\n",
       "  </thead>\n",
       "  <tbody>\n",
       "    <tr>\n",
       "      <th>0</th>\n",
       "      <td>1</td>\n",
       "      <td>Thank you very much Antonio ! All has been per...</td>\n",
       "    </tr>\n",
       "    <tr>\n",
       "      <th>1</th>\n",
       "      <td>1</td>\n",
       "      <td>Very nice appartment in the old town of Lissab...</td>\n",
       "    </tr>\n",
       "    <tr>\n",
       "      <th>2</th>\n",
       "      <td>1</td>\n",
       "      <td>When travelling we're looking for kids friendl...</td>\n",
       "    </tr>\n",
       "    <tr>\n",
       "      <th>3</th>\n",
       "      <td>1</td>\n",
       "      <td>We've been in Lisbon in march 2013 (3 adults a...</td>\n",
       "    </tr>\n",
       "    <tr>\n",
       "      <th>4</th>\n",
       "      <td>1</td>\n",
       "      <td>Our host Antonio was very helpful with informa...</td>\n",
       "    </tr>\n",
       "  </tbody>\n",
       "</table>\n",
       "</div>"
      ],
      "text/plain": [
       "   index                                           comments\n",
       "0      1  Thank you very much Antonio ! All has been per...\n",
       "1      1  Very nice appartment in the old town of Lissab...\n",
       "2      1  When travelling we're looking for kids friendl...\n",
       "3      1  We've been in Lisbon in march 2013 (3 adults a...\n",
       "4      1  Our host Antonio was very helpful with informa..."
      ]
     },
     "execution_count": 7,
     "metadata": {},
     "output_type": "execute_result"
    }
   ],
   "source": [
    "test_reviews.head(5)"
   ]
  },
  {
   "cell_type": "markdown",
   "id": "46be76c3-e2a3-47bf-b673-88e5dbe820a3",
   "metadata": {},
   "source": [
    "**Everything looks fine**"
   ]
  },
  {
   "cell_type": "code",
   "execution_count": 8,
   "id": "0222f72e-9e59-4bba-a7f3-dc8d3587c15c",
   "metadata": {},
   "outputs": [
    {
     "name": "stdout",
     "output_type": "stream",
     "text": [
      "train shape: (6248, 4)\n",
      "train_reviews shape: (361281, 2)\n",
      "test shape: (695, 3)\n",
      "test_reviews shape: (41866, 2)\n"
     ]
    }
   ],
   "source": [
    "print(\"train shape:\", train.shape)\n",
    "print(\"train_reviews shape:\", train_reviews.shape)\n",
    "print(\"test shape:\", test.shape)\n",
    "print(\"test_reviews shape:\", test_reviews.shape)"
   ]
  },
  {
   "cell_type": "markdown",
   "id": "089d544d-66f3-438b-a242-a86f828123ec",
   "metadata": {},
   "source": [
    "### 2.1 Index Fix"
   ]
  },
  {
   "cell_type": "markdown",
   "id": "a4036f99-6451-4106-9f6e-6b30ee646852",
   "metadata": {},
   "source": [
    "**In the dataset, the index column has repeating values, which likely indicate that each value corresponds to a specific house. To enhance clarity, we will rename this column to 'house ID'.**"
   ]
  },
  {
   "cell_type": "code",
   "execution_count": 9,
   "id": "e409d975-273b-4215-afa3-66cefcd00a40",
   "metadata": {},
   "outputs": [],
   "source": [
    "# For train DataFrame\n",
    "train['houseID'] = train.index  # Create 'houseID' column with index values\n",
    "train.set_index('houseID', inplace=True)  # Set 'houseID' as the new index\n",
    "train.drop(columns=['index'], inplace=True)  # Remove the column named 'index'\n",
    "\n",
    "# For train_reviews DataFrame\n",
    "train_reviews['houseID'] = train_reviews.index\n",
    "train_reviews.set_index('houseID', inplace=True)\n",
    "train_reviews.drop(columns=['index'], inplace=True)\n",
    "\n",
    "# For test DataFrame\n",
    "test['houseID'] = test.index\n",
    "test.set_index('houseID', inplace=True)\n",
    "test.drop(columns=['index'], inplace=True)\n",
    "\n",
    "# For test_reviews DataFrame\n",
    "test_reviews['houseID'] = test_reviews.index\n",
    "test_reviews.set_index('houseID', inplace=True)\n",
    "test_reviews.drop(columns=['index'], inplace=True)\n"
   ]
  },
  {
   "cell_type": "code",
   "execution_count": 10,
   "id": "b72cb471-0236-4227-9892-a185c58156ee",
   "metadata": {},
   "outputs": [
    {
     "data": {
      "text/html": [
       "<div>\n",
       "<style scoped>\n",
       "    .dataframe tbody tr th:only-of-type {\n",
       "        vertical-align: middle;\n",
       "    }\n",
       "\n",
       "    .dataframe tbody tr th {\n",
       "        vertical-align: top;\n",
       "    }\n",
       "\n",
       "    .dataframe thead th {\n",
       "        text-align: right;\n",
       "    }\n",
       "</style>\n",
       "<table border=\"1\" class=\"dataframe\">\n",
       "  <thead>\n",
       "    <tr style=\"text-align: right;\">\n",
       "      <th></th>\n",
       "      <th>description</th>\n",
       "      <th>host_about</th>\n",
       "      <th>unlisted</th>\n",
       "    </tr>\n",
       "    <tr>\n",
       "      <th>houseID</th>\n",
       "      <th></th>\n",
       "      <th></th>\n",
       "      <th></th>\n",
       "    </tr>\n",
       "  </thead>\n",
       "  <tbody>\n",
       "    <tr>\n",
       "      <th>0</th>\n",
       "      <td>This is a shared mixed room in our hostel, wit...</td>\n",
       "      <td>Alojamento Local Registro: 20835/AL</td>\n",
       "      <td>0</td>\n",
       "    </tr>\n",
       "    <tr>\n",
       "      <th>1</th>\n",
       "      <td>O meu espaço fica perto de Parque Eduardo VII,...</td>\n",
       "      <td>I am friendly host, and I will try to always b...</td>\n",
       "      <td>1</td>\n",
       "    </tr>\n",
       "    <tr>\n",
       "      <th>2</th>\n",
       "      <td>Trafaria’s House is a cozy and familiar villa ...</td>\n",
       "      <td>I am a social person liking to communicate, re...</td>\n",
       "      <td>1</td>\n",
       "    </tr>\n",
       "    <tr>\n",
       "      <th>3</th>\n",
       "      <td>Apartamento Charmoso no Chiado, Entre o Largo ...</td>\n",
       "      <td>Hello!_x000D_\\nI m Portuguese and i love to me...</td>\n",
       "      <td>0</td>\n",
       "    </tr>\n",
       "    <tr>\n",
       "      <th>4</th>\n",
       "      <td>Joli appartement  en bordure de mer.&lt;br /&gt; 2 m...</td>\n",
       "      <td>Nous sommes une famille avec deux enfants de 1...</td>\n",
       "      <td>0</td>\n",
       "    </tr>\n",
       "  </tbody>\n",
       "</table>\n",
       "</div>"
      ],
      "text/plain": [
       "                                               description  \\\n",
       "houseID                                                      \n",
       "0        This is a shared mixed room in our hostel, wit...   \n",
       "1        O meu espaço fica perto de Parque Eduardo VII,...   \n",
       "2        Trafaria’s House is a cozy and familiar villa ...   \n",
       "3        Apartamento Charmoso no Chiado, Entre o Largo ...   \n",
       "4        Joli appartement  en bordure de mer.<br /> 2 m...   \n",
       "\n",
       "                                                host_about  unlisted  \n",
       "houseID                                                               \n",
       "0                      Alojamento Local Registro: 20835/AL         0  \n",
       "1        I am friendly host, and I will try to always b...         1  \n",
       "2        I am a social person liking to communicate, re...         1  \n",
       "3        Hello!_x000D_\\nI m Portuguese and i love to me...         0  \n",
       "4        Nous sommes une famille avec deux enfants de 1...         0  "
      ]
     },
     "execution_count": 10,
     "metadata": {},
     "output_type": "execute_result"
    }
   ],
   "source": [
    "train.head(5)"
   ]
  },
  {
   "cell_type": "code",
   "execution_count": 11,
   "id": "50da9b95-2764-4218-8cb0-7ad6456f97da",
   "metadata": {},
   "outputs": [
    {
     "data": {
      "text/html": [
       "<div>\n",
       "<style scoped>\n",
       "    .dataframe tbody tr th:only-of-type {\n",
       "        vertical-align: middle;\n",
       "    }\n",
       "\n",
       "    .dataframe tbody tr th {\n",
       "        vertical-align: top;\n",
       "    }\n",
       "\n",
       "    .dataframe thead th {\n",
       "        text-align: right;\n",
       "    }\n",
       "</style>\n",
       "<table border=\"1\" class=\"dataframe\">\n",
       "  <thead>\n",
       "    <tr style=\"text-align: right;\">\n",
       "      <th></th>\n",
       "      <th>comments</th>\n",
       "    </tr>\n",
       "    <tr>\n",
       "      <th>houseID</th>\n",
       "      <th></th>\n",
       "    </tr>\n",
       "  </thead>\n",
       "  <tbody>\n",
       "    <tr>\n",
       "      <th>0</th>\n",
       "      <td>this is a very cozy and comfortable house to s...</td>\n",
       "    </tr>\n",
       "    <tr>\n",
       "      <th>1</th>\n",
       "      <td>good&lt;br/&gt;</td>\n",
       "    </tr>\n",
       "    <tr>\n",
       "      <th>2</th>\n",
       "      <td>My first hostel experience, and all I have to ...</td>\n",
       "    </tr>\n",
       "    <tr>\n",
       "      <th>3</th>\n",
       "      <td>Das Hostel war neu und deshalb funktionierte a...</td>\n",
       "    </tr>\n",
       "    <tr>\n",
       "      <th>4</th>\n",
       "      <td>It was fine for a dorm, but I think for the pe...</td>\n",
       "    </tr>\n",
       "  </tbody>\n",
       "</table>\n",
       "</div>"
      ],
      "text/plain": [
       "                                                  comments\n",
       "houseID                                                   \n",
       "0        this is a very cozy and comfortable house to s...\n",
       "1                                                good<br/>\n",
       "2        My first hostel experience, and all I have to ...\n",
       "3        Das Hostel war neu und deshalb funktionierte a...\n",
       "4        It was fine for a dorm, but I think for the pe..."
      ]
     },
     "execution_count": 11,
     "metadata": {},
     "output_type": "execute_result"
    }
   ],
   "source": [
    "train_reviews.head(5)"
   ]
  },
  {
   "cell_type": "code",
   "execution_count": 12,
   "id": "14bd1832-bf80-46ac-b023-1af7a33fa0c9",
   "metadata": {},
   "outputs": [
    {
     "data": {
      "text/html": [
       "<div>\n",
       "<style scoped>\n",
       "    .dataframe tbody tr th:only-of-type {\n",
       "        vertical-align: middle;\n",
       "    }\n",
       "\n",
       "    .dataframe tbody tr th {\n",
       "        vertical-align: top;\n",
       "    }\n",
       "\n",
       "    .dataframe thead th {\n",
       "        text-align: right;\n",
       "    }\n",
       "</style>\n",
       "<table border=\"1\" class=\"dataframe\">\n",
       "  <thead>\n",
       "    <tr style=\"text-align: right;\">\n",
       "      <th></th>\n",
       "      <th>description</th>\n",
       "      <th>host_about</th>\n",
       "    </tr>\n",
       "    <tr>\n",
       "      <th>houseID</th>\n",
       "      <th></th>\n",
       "      <th></th>\n",
       "    </tr>\n",
       "  </thead>\n",
       "  <tbody>\n",
       "    <tr>\n",
       "      <th>0</th>\n",
       "      <td>&lt;b&gt;The space&lt;/b&gt;&lt;br /&gt;Apartment located in the...</td>\n",
       "      <td>Gosto de viajar, de conhecer pessoas, gosto de...</td>\n",
       "    </tr>\n",
       "    <tr>\n",
       "      <th>1</th>\n",
       "      <td>IMPORTANT: In response to COVID-19, this prope...</td>\n",
       "      <td>We are the be@home Team!\\n\\nYou can count on u...</td>\n",
       "    </tr>\n",
       "    <tr>\n",
       "      <th>2</th>\n",
       "      <td>Bright, beautiful, and spacious. This four-bed...</td>\n",
       "      <td>Hi there!\\n\\nWe're GuestReady, a professional ...</td>\n",
       "    </tr>\n",
       "    <tr>\n",
       "      <th>3</th>\n",
       "      <td>Charming Apartment Close to the Bay of Cascais...</td>\n",
       "      <td>:)</td>\n",
       "    </tr>\n",
       "    <tr>\n",
       "      <th>4</th>\n",
       "      <td>Se procura umas férias perto da praia, casino ...</td>\n",
       "      <td>Bem vindos a Portugal!_x000D_\\nAdoro o meu Paí...</td>\n",
       "    </tr>\n",
       "  </tbody>\n",
       "</table>\n",
       "</div>"
      ],
      "text/plain": [
       "                                               description  \\\n",
       "houseID                                                      \n",
       "0        <b>The space</b><br />Apartment located in the...   \n",
       "1        IMPORTANT: In response to COVID-19, this prope...   \n",
       "2        Bright, beautiful, and spacious. This four-bed...   \n",
       "3        Charming Apartment Close to the Bay of Cascais...   \n",
       "4        Se procura umas férias perto da praia, casino ...   \n",
       "\n",
       "                                                host_about  \n",
       "houseID                                                     \n",
       "0        Gosto de viajar, de conhecer pessoas, gosto de...  \n",
       "1        We are the be@home Team!\\n\\nYou can count on u...  \n",
       "2        Hi there!\\n\\nWe're GuestReady, a professional ...  \n",
       "3                                                       :)  \n",
       "4        Bem vindos a Portugal!_x000D_\\nAdoro o meu Paí...  "
      ]
     },
     "execution_count": 12,
     "metadata": {},
     "output_type": "execute_result"
    }
   ],
   "source": [
    "test.head(5)"
   ]
  },
  {
   "cell_type": "code",
   "execution_count": 13,
   "id": "23c68a95-d5b2-4283-b220-6a3f74eab841",
   "metadata": {},
   "outputs": [
    {
     "data": {
      "text/html": [
       "<div>\n",
       "<style scoped>\n",
       "    .dataframe tbody tr th:only-of-type {\n",
       "        vertical-align: middle;\n",
       "    }\n",
       "\n",
       "    .dataframe tbody tr th {\n",
       "        vertical-align: top;\n",
       "    }\n",
       "\n",
       "    .dataframe thead th {\n",
       "        text-align: right;\n",
       "    }\n",
       "</style>\n",
       "<table border=\"1\" class=\"dataframe\">\n",
       "  <thead>\n",
       "    <tr style=\"text-align: right;\">\n",
       "      <th></th>\n",
       "      <th>comments</th>\n",
       "    </tr>\n",
       "    <tr>\n",
       "      <th>houseID</th>\n",
       "      <th></th>\n",
       "    </tr>\n",
       "  </thead>\n",
       "  <tbody>\n",
       "    <tr>\n",
       "      <th>0</th>\n",
       "      <td>Thank you very much Antonio ! All has been per...</td>\n",
       "    </tr>\n",
       "    <tr>\n",
       "      <th>1</th>\n",
       "      <td>Very nice appartment in the old town of Lissab...</td>\n",
       "    </tr>\n",
       "    <tr>\n",
       "      <th>2</th>\n",
       "      <td>When travelling we're looking for kids friendl...</td>\n",
       "    </tr>\n",
       "    <tr>\n",
       "      <th>3</th>\n",
       "      <td>We've been in Lisbon in march 2013 (3 adults a...</td>\n",
       "    </tr>\n",
       "    <tr>\n",
       "      <th>4</th>\n",
       "      <td>Our host Antonio was very helpful with informa...</td>\n",
       "    </tr>\n",
       "  </tbody>\n",
       "</table>\n",
       "</div>"
      ],
      "text/plain": [
       "                                                  comments\n",
       "houseID                                                   \n",
       "0        Thank you very much Antonio ! All has been per...\n",
       "1        Very nice appartment in the old town of Lissab...\n",
       "2        When travelling we're looking for kids friendl...\n",
       "3        We've been in Lisbon in march 2013 (3 adults a...\n",
       "4        Our host Antonio was very helpful with informa..."
      ]
     },
     "execution_count": 13,
     "metadata": {},
     "output_type": "execute_result"
    }
   ],
   "source": [
    "test_reviews.head(5)"
   ]
  },
  {
   "cell_type": "markdown",
   "id": "8225f46a-bdaa-4282-86e9-50eba2eb1002",
   "metadata": {},
   "source": [
    "### 2.2 Duplicates"
   ]
  },
  {
   "cell_type": "markdown",
   "id": "1bc5de3e-37a4-4776-b169-5cbddb041e19",
   "metadata": {},
   "source": [
    "**Cheacking for Duplicated Rows**"
   ]
  },
  {
   "cell_type": "code",
   "execution_count": 14,
   "id": "d051a51e-afa3-49ee-bdcc-83ca8631868f",
   "metadata": {},
   "outputs": [
    {
     "name": "stdout",
     "output_type": "stream",
     "text": [
      "Number of duplicated rows in train DataFrame: 192\n",
      "Number of duplicated rows in train_reviews DataFrame: 6781\n",
      "Number of duplicated rows in test DataFrame: 4\n",
      "Number of duplicated rows in test_reviews DataFrame: 438\n"
     ]
    }
   ],
   "source": [
    "print(\"Number of duplicated rows in train DataFrame:\", train.duplicated().sum())\n",
    "print(\"Number of duplicated rows in train_reviews DataFrame:\", train_reviews.duplicated().sum())\n",
    "print(\"Number of duplicated rows in test DataFrame:\", test.duplicated().sum())\n",
    "print(\"Number of duplicated rows in test_reviews DataFrame:\", test_reviews.duplicated().sum())"
   ]
  },
  {
   "cell_type": "markdown",
   "id": "d63c69c8-be02-4749-8c78-dc8d118f743a",
   "metadata": {},
   "source": [
    "**Removing Duplicated Rows**"
   ]
  },
  {
   "cell_type": "code",
   "execution_count": 15,
   "id": "1c925fe3-565d-49cf-a38a-a03327ea95f3",
   "metadata": {},
   "outputs": [
    {
     "name": "stdout",
     "output_type": "stream",
     "text": [
      "Number of duplicated rows in train DataFrame after removal: 0\n",
      "Number of duplicated rows in train_reviews DataFrame after removal: 0\n",
      "Number of duplicated rows in test DataFrame after removal: 0\n",
      "Number of duplicated rows in test_reviews DataFrame after removal: 0\n"
     ]
    }
   ],
   "source": [
    "train.drop_duplicates(inplace=True)\n",
    "train_reviews.drop_duplicates(inplace=True)\n",
    "test.drop_duplicates(inplace=True)\n",
    "test_reviews.drop_duplicates(inplace=True)\n",
    "\n",
    "print(\"Number of duplicated rows in train DataFrame after removal:\", train.duplicated().sum())\n",
    "print(\"Number of duplicated rows in train_reviews DataFrame after removal:\", train_reviews.duplicated().sum())\n",
    "print(\"Number of duplicated rows in test DataFrame after removal:\", test.duplicated().sum())\n",
    "print(\"Number of duplicated rows in test_reviews DataFrame after removal:\", test_reviews.duplicated().sum())\n"
   ]
  },
  {
   "cell_type": "markdown",
   "id": "aeda07cb-1b68-42c2-9a0b-6056d0cbc301",
   "metadata": {},
   "source": [
    "### 2.3 Null Values"
   ]
  },
  {
   "cell_type": "code",
   "execution_count": 16,
   "id": "70cc2781-0fcd-4e9b-9696-6cdf5bc83028",
   "metadata": {},
   "outputs": [
    {
     "name": "stdout",
     "output_type": "stream",
     "text": [
      "Number of null values in train DataFrame:\n",
      "description    0\n",
      "host_about     0\n",
      "unlisted       0\n",
      "dtype: int64\n",
      "\n",
      "Number of null values in train_reviews DataFrame:\n",
      "comments    1\n",
      "dtype: int64\n",
      "\n",
      "Number of null values in test DataFrame:\n",
      "description    0\n",
      "host_about     0\n",
      "dtype: int64\n",
      "\n",
      "Number of null values in test_reviews DataFrame:\n",
      "comments    0\n",
      "dtype: int64\n"
     ]
    }
   ],
   "source": [
    "print(\"Number of null values in train DataFrame:\")\n",
    "print(train.isnull().sum())\n",
    "\n",
    "print(\"\\nNumber of null values in train_reviews DataFrame:\")\n",
    "print(train_reviews.isnull().sum())\n",
    "\n",
    "print(\"\\nNumber of null values in test DataFrame:\")\n",
    "print(test.isnull().sum())\n",
    "\n",
    "print(\"\\nNumber of null values in test_reviews DataFrame:\")\n",
    "print(test_reviews.isnull().sum())"
   ]
  },
  {
   "cell_type": "code",
   "execution_count": 18,
   "id": "77458be1-1854-4050-bad7-33a1ae035b68",
   "metadata": {},
   "outputs": [
    {
     "data": {
      "text/html": [
       "<div>\n",
       "<style scoped>\n",
       "    .dataframe tbody tr th:only-of-type {\n",
       "        vertical-align: middle;\n",
       "    }\n",
       "\n",
       "    .dataframe tbody tr th {\n",
       "        vertical-align: top;\n",
       "    }\n",
       "\n",
       "    .dataframe thead th {\n",
       "        text-align: right;\n",
       "    }\n",
       "</style>\n",
       "<table border=\"1\" class=\"dataframe\">\n",
       "  <thead>\n",
       "    <tr style=\"text-align: right;\">\n",
       "      <th></th>\n",
       "      <th>comments</th>\n",
       "    </tr>\n",
       "    <tr>\n",
       "      <th>houseID</th>\n",
       "      <th></th>\n",
       "    </tr>\n",
       "  </thead>\n",
       "  <tbody>\n",
       "    <tr>\n",
       "      <th>97996</th>\n",
       "      <td>NaN</td>\n",
       "    </tr>\n",
       "  </tbody>\n",
       "</table>\n",
       "</div>"
      ],
      "text/plain": [
       "        comments\n",
       "houseID         \n",
       "97996        NaN"
      ]
     },
     "execution_count": 18,
     "metadata": {},
     "output_type": "execute_result"
    }
   ],
   "source": [
    "train_reviews[train_reviews['comments'].isnull()]"
   ]
  },
  {
   "cell_type": "code",
   "execution_count": 20,
   "id": "bda13e10-1810-4f85-b90d-b77b5715dfe6",
   "metadata": {},
   "outputs": [
    {
     "data": {
      "text/html": [
       "<div>\n",
       "<style scoped>\n",
       "    .dataframe tbody tr th:only-of-type {\n",
       "        vertical-align: middle;\n",
       "    }\n",
       "\n",
       "    .dataframe tbody tr th {\n",
       "        vertical-align: top;\n",
       "    }\n",
       "\n",
       "    .dataframe thead th {\n",
       "        text-align: right;\n",
       "    }\n",
       "</style>\n",
       "<table border=\"1\" class=\"dataframe\">\n",
       "  <thead>\n",
       "    <tr style=\"text-align: right;\">\n",
       "      <th></th>\n",
       "      <th>comments</th>\n",
       "    </tr>\n",
       "    <tr>\n",
       "      <th>houseID</th>\n",
       "      <th></th>\n",
       "    </tr>\n",
       "  </thead>\n",
       "  <tbody>\n",
       "  </tbody>\n",
       "</table>\n",
       "</div>"
      ],
      "text/plain": [
       "Empty DataFrame\n",
       "Columns: [comments]\n",
       "Index: []"
      ]
     },
     "execution_count": 20,
     "metadata": {},
     "output_type": "execute_result"
    }
   ],
   "source": [
    "train_reviews.dropna(subset=['comments'], inplace=True)\n",
    "train_reviews[train_reviews['comments'].isnull()]"
   ]
  },
  {
   "cell_type": "code",
   "execution_count": 22,
   "id": "50c973dd-1227-4023-9daa-32215a39b348",
   "metadata": {},
   "outputs": [],
   "source": [
    "train_original = train.copy()\n",
    "train_reviews_original = train_reviews.copy()\n",
    "test_original = test.copy()\n",
    "test_reviews_original = test_reviews.copy()"
   ]
  },
  {
   "cell_type": "markdown",
   "id": "0135bfa0-c06a-40a4-8318-5017578090c3",
   "metadata": {},
   "source": [
    "### 2.4 Merge Datasets"
   ]
  },
  {
   "cell_type": "code",
   "execution_count": 26,
   "id": "4afa39b5-7b5d-4b0c-adfc-eed6670aa4e6",
   "metadata": {},
   "outputs": [],
   "source": [
    "train_merged = train.merge(train_reviews, on='houseID') \n",
    "test_merged = test.merge(test_reviews, on='houseID')"
   ]
  },
  {
   "cell_type": "code",
   "execution_count": 30,
   "id": "b6d89a4b-090f-4b67-9adf-78ed47c4dbae",
   "metadata": {},
   "outputs": [
    {
     "data": {
      "text/html": [
       "<div>\n",
       "<style scoped>\n",
       "    .dataframe tbody tr th:only-of-type {\n",
       "        vertical-align: middle;\n",
       "    }\n",
       "\n",
       "    .dataframe tbody tr th {\n",
       "        vertical-align: top;\n",
       "    }\n",
       "\n",
       "    .dataframe thead th {\n",
       "        text-align: right;\n",
       "    }\n",
       "</style>\n",
       "<table border=\"1\" class=\"dataframe\">\n",
       "  <thead>\n",
       "    <tr style=\"text-align: right;\">\n",
       "      <th></th>\n",
       "      <th>description</th>\n",
       "      <th>host_about</th>\n",
       "      <th>unlisted</th>\n",
       "      <th>comments</th>\n",
       "    </tr>\n",
       "    <tr>\n",
       "      <th>houseID</th>\n",
       "      <th></th>\n",
       "      <th></th>\n",
       "      <th></th>\n",
       "      <th></th>\n",
       "    </tr>\n",
       "  </thead>\n",
       "  <tbody>\n",
       "    <tr>\n",
       "      <th>0</th>\n",
       "      <td>This is a shared mixed room in our hostel, wit...</td>\n",
       "      <td>Alojamento Local Registro: 20835/AL</td>\n",
       "      <td>0</td>\n",
       "      <td>this is a very cozy and comfortable house to s...</td>\n",
       "    </tr>\n",
       "    <tr>\n",
       "      <th>1</th>\n",
       "      <td>O meu espaço fica perto de Parque Eduardo VII,...</td>\n",
       "      <td>I am friendly host, and I will try to always b...</td>\n",
       "      <td>1</td>\n",
       "      <td>good&lt;br/&gt;</td>\n",
       "    </tr>\n",
       "    <tr>\n",
       "      <th>2</th>\n",
       "      <td>Trafaria’s House is a cozy and familiar villa ...</td>\n",
       "      <td>I am a social person liking to communicate, re...</td>\n",
       "      <td>1</td>\n",
       "      <td>My first hostel experience, and all I have to ...</td>\n",
       "    </tr>\n",
       "    <tr>\n",
       "      <th>3</th>\n",
       "      <td>Apartamento Charmoso no Chiado, Entre o Largo ...</td>\n",
       "      <td>Hello!_x000D_\\nI m Portuguese and i love to me...</td>\n",
       "      <td>0</td>\n",
       "      <td>Das Hostel war neu und deshalb funktionierte a...</td>\n",
       "    </tr>\n",
       "    <tr>\n",
       "      <th>4</th>\n",
       "      <td>Joli appartement  en bordure de mer.&lt;br /&gt; 2 m...</td>\n",
       "      <td>Nous sommes une famille avec deux enfants de 1...</td>\n",
       "      <td>0</td>\n",
       "      <td>It was fine for a dorm, but I think for the pe...</td>\n",
       "    </tr>\n",
       "  </tbody>\n",
       "</table>\n",
       "</div>"
      ],
      "text/plain": [
       "                                               description  \\\n",
       "houseID                                                      \n",
       "0        This is a shared mixed room in our hostel, wit...   \n",
       "1        O meu espaço fica perto de Parque Eduardo VII,...   \n",
       "2        Trafaria’s House is a cozy and familiar villa ...   \n",
       "3        Apartamento Charmoso no Chiado, Entre o Largo ...   \n",
       "4        Joli appartement  en bordure de mer.<br /> 2 m...   \n",
       "\n",
       "                                                host_about  unlisted  \\\n",
       "houseID                                                                \n",
       "0                      Alojamento Local Registro: 20835/AL         0   \n",
       "1        I am friendly host, and I will try to always b...         1   \n",
       "2        I am a social person liking to communicate, re...         1   \n",
       "3        Hello!_x000D_\\nI m Portuguese and i love to me...         0   \n",
       "4        Nous sommes une famille avec deux enfants de 1...         0   \n",
       "\n",
       "                                                  comments  \n",
       "houseID                                                     \n",
       "0        this is a very cozy and comfortable house to s...  \n",
       "1                                                good<br/>  \n",
       "2        My first hostel experience, and all I have to ...  \n",
       "3        Das Hostel war neu und deshalb funktionierte a...  \n",
       "4        It was fine for a dorm, but I think for the pe...  "
      ]
     },
     "execution_count": 30,
     "metadata": {},
     "output_type": "execute_result"
    }
   ],
   "source": [
    "train_merged.head(5)"
   ]
  },
  {
   "cell_type": "code",
   "execution_count": 29,
   "id": "0ee13f29-e5b5-4324-8e98-90cbb2e429a6",
   "metadata": {},
   "outputs": [
    {
     "data": {
      "text/html": [
       "<div>\n",
       "<style scoped>\n",
       "    .dataframe tbody tr th:only-of-type {\n",
       "        vertical-align: middle;\n",
       "    }\n",
       "\n",
       "    .dataframe tbody tr th {\n",
       "        vertical-align: top;\n",
       "    }\n",
       "\n",
       "    .dataframe thead th {\n",
       "        text-align: right;\n",
       "    }\n",
       "</style>\n",
       "<table border=\"1\" class=\"dataframe\">\n",
       "  <thead>\n",
       "    <tr style=\"text-align: right;\">\n",
       "      <th></th>\n",
       "      <th>description</th>\n",
       "      <th>host_about</th>\n",
       "      <th>comments</th>\n",
       "    </tr>\n",
       "    <tr>\n",
       "      <th>houseID</th>\n",
       "      <th></th>\n",
       "      <th></th>\n",
       "      <th></th>\n",
       "    </tr>\n",
       "  </thead>\n",
       "  <tbody>\n",
       "    <tr>\n",
       "      <th>0</th>\n",
       "      <td>&lt;b&gt;The space&lt;/b&gt;&lt;br /&gt;Apartment located in the...</td>\n",
       "      <td>Gosto de viajar, de conhecer pessoas, gosto de...</td>\n",
       "      <td>Thank you very much Antonio ! All has been per...</td>\n",
       "    </tr>\n",
       "    <tr>\n",
       "      <th>1</th>\n",
       "      <td>IMPORTANT: In response to COVID-19, this prope...</td>\n",
       "      <td>We are the be@home Team!\\n\\nYou can count on u...</td>\n",
       "      <td>Very nice appartment in the old town of Lissab...</td>\n",
       "    </tr>\n",
       "    <tr>\n",
       "      <th>2</th>\n",
       "      <td>Bright, beautiful, and spacious. This four-bed...</td>\n",
       "      <td>Hi there!\\n\\nWe're GuestReady, a professional ...</td>\n",
       "      <td>When travelling we're looking for kids friendl...</td>\n",
       "    </tr>\n",
       "    <tr>\n",
       "      <th>3</th>\n",
       "      <td>Charming Apartment Close to the Bay of Cascais...</td>\n",
       "      <td>:)</td>\n",
       "      <td>We've been in Lisbon in march 2013 (3 adults a...</td>\n",
       "    </tr>\n",
       "    <tr>\n",
       "      <th>4</th>\n",
       "      <td>Se procura umas férias perto da praia, casino ...</td>\n",
       "      <td>Bem vindos a Portugal!_x000D_\\nAdoro o meu Paí...</td>\n",
       "      <td>Our host Antonio was very helpful with informa...</td>\n",
       "    </tr>\n",
       "  </tbody>\n",
       "</table>\n",
       "</div>"
      ],
      "text/plain": [
       "                                               description  \\\n",
       "houseID                                                      \n",
       "0        <b>The space</b><br />Apartment located in the...   \n",
       "1        IMPORTANT: In response to COVID-19, this prope...   \n",
       "2        Bright, beautiful, and spacious. This four-bed...   \n",
       "3        Charming Apartment Close to the Bay of Cascais...   \n",
       "4        Se procura umas férias perto da praia, casino ...   \n",
       "\n",
       "                                                host_about  \\\n",
       "houseID                                                      \n",
       "0        Gosto de viajar, de conhecer pessoas, gosto de...   \n",
       "1        We are the be@home Team!\\n\\nYou can count on u...   \n",
       "2        Hi there!\\n\\nWe're GuestReady, a professional ...   \n",
       "3                                                       :)   \n",
       "4        Bem vindos a Portugal!_x000D_\\nAdoro o meu Paí...   \n",
       "\n",
       "                                                  comments  \n",
       "houseID                                                     \n",
       "0        Thank you very much Antonio ! All has been per...  \n",
       "1        Very nice appartment in the old town of Lissab...  \n",
       "2        When travelling we're looking for kids friendl...  \n",
       "3        We've been in Lisbon in march 2013 (3 adults a...  \n",
       "4        Our host Antonio was very helpful with informa...  "
      ]
     },
     "execution_count": 29,
     "metadata": {},
     "output_type": "execute_result"
    }
   ],
   "source": [
    "test_merged.head(5)"
   ]
  },
  {
   "cell_type": "markdown",
   "id": "bfc37666-cd31-432e-be75-f826aac796ed",
   "metadata": {},
   "source": [
    "### 2.5 Language Problem"
   ]
  },
  {
   "cell_type": "markdown",
   "id": "95bc8e10-8c2b-42bf-b9ed-868f172735e1",
   "metadata": {},
   "source": [
    "**We realised that not all the reviews were on the same language, so we decided to identify which language it was in**"
   ]
  },
  {
   "cell_type": "code",
   "execution_count": 32,
   "id": "87a66a28-28f7-4ff3-a8ae-d1adaf7a5357",
   "metadata": {},
   "outputs": [],
   "source": [
    "def detect_language(text):\n",
    "    try:\n",
    "        return detect(text)\n",
    "    except:\n",
    "        return \"Unknown\""
   ]
  },
  {
   "cell_type": "code",
   "execution_count": 33,
   "id": "aa1c97d4-827f-406c-bb3c-644cb8d09579",
   "metadata": {},
   "outputs": [],
   "source": [
    "train_merged[\"language\"] = train_merged[\"description\"].apply(detect_language)\n",
    "test_merged[\"language\"] = test_merged[\"description\"].apply(detect_language)"
   ]
  },
  {
   "cell_type": "code",
   "execution_count": null,
   "id": "cb44158d-c1fd-4916-ba16-d81f08bf555d",
   "metadata": {},
   "outputs": [],
   "source": []
  },
  {
   "cell_type": "markdown",
   "id": "eb5089c3-81b1-4f7b-80a4-51fe45778ad1",
   "metadata": {},
   "source": [
    "## 3. Pre-Process"
   ]
  },
  {
   "cell_type": "markdown",
   "id": "cc6df717-8736-48a3-a37f-a8ed340a3187",
   "metadata": {},
   "source": [
    "### 3.1 Cleaning Data"
   ]
  },
  {
   "cell_type": "markdown",
   "id": "dbaa7bb2-3ab9-4c75-9b3e-07420caf17b9",
   "metadata": {},
   "source": [
    "#### 3.1.1 Translating"
   ]
  },
  {
   "cell_type": "code",
   "execution_count": null,
   "id": "3181df1b-d45d-476f-9906-d5f7ed2e6cdc",
   "metadata": {},
   "outputs": [],
   "source": []
  },
  {
   "cell_type": "markdown",
   "id": "ad824e8e-4db6-40b5-894a-2b5e9d837031",
   "metadata": {},
   "source": [
    "### Feature Engineering ?"
   ]
  }
 ],
 "metadata": {
  "kernelspec": {
   "display_name": "Python 3 (ipykernel)",
   "language": "python",
   "name": "python3"
  },
  "language_info": {
   "codemirror_mode": {
    "name": "ipython",
    "version": 3
   },
   "file_extension": ".py",
   "mimetype": "text/x-python",
   "name": "python",
   "nbconvert_exporter": "python",
   "pygments_lexer": "ipython3",
   "version": "3.12.3"
  }
 },
 "nbformat": 4,
 "nbformat_minor": 5
}
