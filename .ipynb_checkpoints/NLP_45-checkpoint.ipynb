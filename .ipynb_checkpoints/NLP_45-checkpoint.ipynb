{
 "cells": [
  {
   "cell_type": "code",
   "execution_count": null,
   "metadata": {},
   "outputs": [],
   "source": []
  },
  {
   "cell_type": "markdown",
   "metadata": {},
   "source": [
    "# Text Mining Project"
   ]
  },
  {
   "cell_type": "markdown",
   "metadata": {},
   "source": [
    "Text Mining project\n"
   ]
  },
  {
   "cell_type": "code",
   "execution_count": 13,
   "metadata": {},
   "outputs": [
    {
     "name": "stdout",
     "output_type": "stream",
     "text": [
      "Requirement already satisfied: langdetect in /opt/anaconda3/lib/python3.11/site-packages (1.0.9)\n",
      "Requirement already satisfied: six in /opt/anaconda3/lib/python3.11/site-packages (from langdetect) (1.16.0)\n",
      "Note: you may need to restart the kernel to use updated packages.\n"
     ]
    }
   ],
   "source": [
    "#pip install langdetect\n"
   ]
  },
  {
   "cell_type": "code",
   "execution_count": 1,
   "metadata": {},
   "outputs": [
    {
     "name": "stderr",
     "output_type": "stream",
     "text": [
      "C:\\Users\\barbara\\anaconda3\\lib\\site-packages\\scipy\\__init__.py:146: UserWarning: A NumPy version >=1.16.5 and <1.23.0 is required for this version of SciPy (detected version 1.26.4\n",
      "  warnings.warn(f\"A NumPy version >={np_minversion} and <{np_maxversion}\"\n"
     ]
    }
   ],
   "source": [
    "import pandas as pd\n",
    "from langdetect import detect\n",
    "import matplotlib.pyplot as plt\n",
    "import seaborn as sns\n",
    "import re"
   ]
  },
  {
   "cell_type": "code",
   "execution_count": 2,
   "metadata": {},
   "outputs": [],
   "source": [
    "\n",
    "\n",
    "train = pd.read_excel(\"train.xlsx\")\n",
    "train_reviews = pd.read_excel(\"train_reviews.xlsx\")\n",
    "test = pd.read_excel(\"test.xlsx\")\n",
    "test_reviews = pd.read_excel(\"test_reviews.xlsx\")\n",
    "\n"
   ]
  },
  {
   "cell_type": "markdown",
   "metadata": {},
   "source": [
    "## Data exploration"
   ]
  },
  {
   "cell_type": "code",
   "execution_count": 3,
   "metadata": {},
   "outputs": [
    {
     "data": {
      "text/html": [
       "<div>\n",
       "<style scoped>\n",
       "    .dataframe tbody tr th:only-of-type {\n",
       "        vertical-align: middle;\n",
       "    }\n",
       "\n",
       "    .dataframe tbody tr th {\n",
       "        vertical-align: top;\n",
       "    }\n",
       "\n",
       "    .dataframe thead th {\n",
       "        text-align: right;\n",
       "    }\n",
       "</style>\n",
       "<table border=\"1\" class=\"dataframe\">\n",
       "  <thead>\n",
       "    <tr style=\"text-align: right;\">\n",
       "      <th></th>\n",
       "      <th>index</th>\n",
       "      <th>description</th>\n",
       "      <th>host_about</th>\n",
       "      <th>unlisted</th>\n",
       "    </tr>\n",
       "  </thead>\n",
       "  <tbody>\n",
       "    <tr>\n",
       "      <th>0</th>\n",
       "      <td>1</td>\n",
       "      <td>This is a shared mixed room in our hostel, wit...</td>\n",
       "      <td>Alojamento Local Registro: 20835/AL</td>\n",
       "      <td>0</td>\n",
       "    </tr>\n",
       "    <tr>\n",
       "      <th>1</th>\n",
       "      <td>2</td>\n",
       "      <td>O meu espaço fica perto de Parque Eduardo VII,...</td>\n",
       "      <td>I am friendly host, and I will try to always b...</td>\n",
       "      <td>1</td>\n",
       "    </tr>\n",
       "    <tr>\n",
       "      <th>2</th>\n",
       "      <td>3</td>\n",
       "      <td>Trafaria’s House is a cozy and familiar villa ...</td>\n",
       "      <td>I am a social person liking to communicate, re...</td>\n",
       "      <td>1</td>\n",
       "    </tr>\n",
       "    <tr>\n",
       "      <th>3</th>\n",
       "      <td>4</td>\n",
       "      <td>Apartamento Charmoso no Chiado, Entre o Largo ...</td>\n",
       "      <td>Hello!_x000D_\\nI m Portuguese and i love to me...</td>\n",
       "      <td>0</td>\n",
       "    </tr>\n",
       "    <tr>\n",
       "      <th>4</th>\n",
       "      <td>5</td>\n",
       "      <td>Joli appartement  en bordure de mer.&lt;br /&gt; 2 m...</td>\n",
       "      <td>Nous sommes une famille avec deux enfants de 1...</td>\n",
       "      <td>0</td>\n",
       "    </tr>\n",
       "  </tbody>\n",
       "</table>\n",
       "</div>"
      ],
      "text/plain": [
       "   index                                        description  \\\n",
       "0      1  This is a shared mixed room in our hostel, wit...   \n",
       "1      2  O meu espaço fica perto de Parque Eduardo VII,...   \n",
       "2      3  Trafaria’s House is a cozy and familiar villa ...   \n",
       "3      4  Apartamento Charmoso no Chiado, Entre o Largo ...   \n",
       "4      5  Joli appartement  en bordure de mer.<br /> 2 m...   \n",
       "\n",
       "                                          host_about  unlisted  \n",
       "0                Alojamento Local Registro: 20835/AL         0  \n",
       "1  I am friendly host, and I will try to always b...         1  \n",
       "2  I am a social person liking to communicate, re...         1  \n",
       "3  Hello!_x000D_\\nI m Portuguese and i love to me...         0  \n",
       "4  Nous sommes une famille avec deux enfants de 1...         0  "
      ]
     },
     "execution_count": 3,
     "metadata": {},
     "output_type": "execute_result"
    }
   ],
   "source": [
    "train.head()"
   ]
  },
  {
   "cell_type": "code",
   "execution_count": 4,
   "metadata": {},
   "outputs": [
    {
     "data": {
      "text/html": [
       "<div>\n",
       "<style scoped>\n",
       "    .dataframe tbody tr th:only-of-type {\n",
       "        vertical-align: middle;\n",
       "    }\n",
       "\n",
       "    .dataframe tbody tr th {\n",
       "        vertical-align: top;\n",
       "    }\n",
       "\n",
       "    .dataframe thead th {\n",
       "        text-align: right;\n",
       "    }\n",
       "</style>\n",
       "<table border=\"1\" class=\"dataframe\">\n",
       "  <thead>\n",
       "    <tr style=\"text-align: right;\">\n",
       "      <th></th>\n",
       "      <th>index</th>\n",
       "      <th>comments</th>\n",
       "    </tr>\n",
       "  </thead>\n",
       "  <tbody>\n",
       "    <tr>\n",
       "      <th>0</th>\n",
       "      <td>1</td>\n",
       "      <td>this is a very cozy and comfortable house to s...</td>\n",
       "    </tr>\n",
       "    <tr>\n",
       "      <th>1</th>\n",
       "      <td>1</td>\n",
       "      <td>good&lt;br/&gt;</td>\n",
       "    </tr>\n",
       "    <tr>\n",
       "      <th>2</th>\n",
       "      <td>1</td>\n",
       "      <td>My first hostel experience, and all I have to ...</td>\n",
       "    </tr>\n",
       "    <tr>\n",
       "      <th>3</th>\n",
       "      <td>1</td>\n",
       "      <td>Das Hostel war neu und deshalb funktionierte a...</td>\n",
       "    </tr>\n",
       "    <tr>\n",
       "      <th>4</th>\n",
       "      <td>1</td>\n",
       "      <td>It was fine for a dorm, but I think for the pe...</td>\n",
       "    </tr>\n",
       "  </tbody>\n",
       "</table>\n",
       "</div>"
      ],
      "text/plain": [
       "   index                                           comments\n",
       "0      1  this is a very cozy and comfortable house to s...\n",
       "1      1                                          good<br/>\n",
       "2      1  My first hostel experience, and all I have to ...\n",
       "3      1  Das Hostel war neu und deshalb funktionierte a...\n",
       "4      1  It was fine for a dorm, but I think for the pe..."
      ]
     },
     "execution_count": 4,
     "metadata": {},
     "output_type": "execute_result"
    }
   ],
   "source": [
    "train_reviews.head()"
   ]
  },
  {
   "cell_type": "code",
   "execution_count": 5,
   "metadata": {},
   "outputs": [
    {
     "data": {
      "text/html": [
       "<div>\n",
       "<style scoped>\n",
       "    .dataframe tbody tr th:only-of-type {\n",
       "        vertical-align: middle;\n",
       "    }\n",
       "\n",
       "    .dataframe tbody tr th {\n",
       "        vertical-align: top;\n",
       "    }\n",
       "\n",
       "    .dataframe thead th {\n",
       "        text-align: right;\n",
       "    }\n",
       "</style>\n",
       "<table border=\"1\" class=\"dataframe\">\n",
       "  <thead>\n",
       "    <tr style=\"text-align: right;\">\n",
       "      <th></th>\n",
       "      <th>index</th>\n",
       "      <th>description</th>\n",
       "      <th>host_about</th>\n",
       "    </tr>\n",
       "  </thead>\n",
       "  <tbody>\n",
       "    <tr>\n",
       "      <th>0</th>\n",
       "      <td>1</td>\n",
       "      <td>&lt;b&gt;The space&lt;/b&gt;&lt;br /&gt;Apartment located in the...</td>\n",
       "      <td>Gosto de viajar, de conhecer pessoas, gosto de...</td>\n",
       "    </tr>\n",
       "    <tr>\n",
       "      <th>1</th>\n",
       "      <td>2</td>\n",
       "      <td>IMPORTANT: In response to COVID-19, this prope...</td>\n",
       "      <td>We are the be@home Team!\\n\\nYou can count on u...</td>\n",
       "    </tr>\n",
       "    <tr>\n",
       "      <th>2</th>\n",
       "      <td>3</td>\n",
       "      <td>Bright, beautiful, and spacious. This four-bed...</td>\n",
       "      <td>Hi there!\\n\\nWe're GuestReady, a professional ...</td>\n",
       "    </tr>\n",
       "    <tr>\n",
       "      <th>3</th>\n",
       "      <td>4</td>\n",
       "      <td>Charming Apartment Close to the Bay of Cascais...</td>\n",
       "      <td>:)</td>\n",
       "    </tr>\n",
       "    <tr>\n",
       "      <th>4</th>\n",
       "      <td>5</td>\n",
       "      <td>Se procura umas férias perto da praia, casino ...</td>\n",
       "      <td>Bem vindos a Portugal!_x000D_\\nAdoro o meu Paí...</td>\n",
       "    </tr>\n",
       "  </tbody>\n",
       "</table>\n",
       "</div>"
      ],
      "text/plain": [
       "   index                                        description  \\\n",
       "0      1  <b>The space</b><br />Apartment located in the...   \n",
       "1      2  IMPORTANT: In response to COVID-19, this prope...   \n",
       "2      3  Bright, beautiful, and spacious. This four-bed...   \n",
       "3      4  Charming Apartment Close to the Bay of Cascais...   \n",
       "4      5  Se procura umas férias perto da praia, casino ...   \n",
       "\n",
       "                                          host_about  \n",
       "0  Gosto de viajar, de conhecer pessoas, gosto de...  \n",
       "1  We are the be@home Team!\\n\\nYou can count on u...  \n",
       "2  Hi there!\\n\\nWe're GuestReady, a professional ...  \n",
       "3                                                 :)  \n",
       "4  Bem vindos a Portugal!_x000D_\\nAdoro o meu Paí...  "
      ]
     },
     "execution_count": 5,
     "metadata": {},
     "output_type": "execute_result"
    }
   ],
   "source": [
    "test.head()"
   ]
  },
  {
   "cell_type": "code",
   "execution_count": 6,
   "metadata": {},
   "outputs": [
    {
     "data": {
      "text/html": [
       "<div>\n",
       "<style scoped>\n",
       "    .dataframe tbody tr th:only-of-type {\n",
       "        vertical-align: middle;\n",
       "    }\n",
       "\n",
       "    .dataframe tbody tr th {\n",
       "        vertical-align: top;\n",
       "    }\n",
       "\n",
       "    .dataframe thead th {\n",
       "        text-align: right;\n",
       "    }\n",
       "</style>\n",
       "<table border=\"1\" class=\"dataframe\">\n",
       "  <thead>\n",
       "    <tr style=\"text-align: right;\">\n",
       "      <th></th>\n",
       "      <th>index</th>\n",
       "      <th>comments</th>\n",
       "    </tr>\n",
       "  </thead>\n",
       "  <tbody>\n",
       "    <tr>\n",
       "      <th>0</th>\n",
       "      <td>1</td>\n",
       "      <td>Thank you very much Antonio ! All has been per...</td>\n",
       "    </tr>\n",
       "    <tr>\n",
       "      <th>1</th>\n",
       "      <td>1</td>\n",
       "      <td>Very nice appartment in the old town of Lissab...</td>\n",
       "    </tr>\n",
       "    <tr>\n",
       "      <th>2</th>\n",
       "      <td>1</td>\n",
       "      <td>When travelling we're looking for kids friendl...</td>\n",
       "    </tr>\n",
       "    <tr>\n",
       "      <th>3</th>\n",
       "      <td>1</td>\n",
       "      <td>We've been in Lisbon in march 2013 (3 adults a...</td>\n",
       "    </tr>\n",
       "    <tr>\n",
       "      <th>4</th>\n",
       "      <td>1</td>\n",
       "      <td>Our host Antonio was very helpful with informa...</td>\n",
       "    </tr>\n",
       "  </tbody>\n",
       "</table>\n",
       "</div>"
      ],
      "text/plain": [
       "   index                                           comments\n",
       "0      1  Thank you very much Antonio ! All has been per...\n",
       "1      1  Very nice appartment in the old town of Lissab...\n",
       "2      1  When travelling we're looking for kids friendl...\n",
       "3      1  We've been in Lisbon in march 2013 (3 adults a...\n",
       "4      1  Our host Antonio was very helpful with informa..."
      ]
     },
     "execution_count": 6,
     "metadata": {},
     "output_type": "execute_result"
    }
   ],
   "source": [
    "test_reviews.head()"
   ]
  },
  {
   "cell_type": "code",
   "execution_count": 7,
   "metadata": {},
   "outputs": [
    {
     "name": "stdout",
     "output_type": "stream",
     "text": [
      "train shape: (6248, 4)\n",
      "train_reviews shape: (361281, 2)\n",
      "test shape: (695, 3)\n",
      "test_reviews shape: (41866, 2)\n"
     ]
    }
   ],
   "source": [
    "print(\"train shape:\", train.shape)\n",
    "print(\"train_reviews shape:\", train_reviews.shape)\n",
    "print(\"test shape:\", test.shape)\n",
    "print(\"test_reviews shape:\", test_reviews.shape)\n"
   ]
  },
  {
   "cell_type": "markdown",
   "metadata": {},
   "source": [
    "in DATASETS the index repeats, which may indicate that refers to a specific house. We'll change this column to house ID\n"
   ]
  },
  {
   "cell_type": "code",
   "execution_count": 8,
   "metadata": {},
   "outputs": [],
   "source": [
    "train.rename(columns={'index': 'houseID'}, inplace=True)\n",
    "train_reviews.rename(columns={'index': 'houseID'}, inplace=True)\n",
    "test.rename(columns={'index': 'houseID'}, inplace=True)\n",
    "test_reviews.rename(columns={'index': 'houseID'}, inplace=True)\n",
    "\n"
   ]
  },
  {
   "cell_type": "code",
   "execution_count": 9,
   "metadata": {},
   "outputs": [
    {
     "data": {
      "text/html": [
       "<div>\n",
       "<style scoped>\n",
       "    .dataframe tbody tr th:only-of-type {\n",
       "        vertical-align: middle;\n",
       "    }\n",
       "\n",
       "    .dataframe tbody tr th {\n",
       "        vertical-align: top;\n",
       "    }\n",
       "\n",
       "    .dataframe thead th {\n",
       "        text-align: right;\n",
       "    }\n",
       "</style>\n",
       "<table border=\"1\" class=\"dataframe\">\n",
       "  <thead>\n",
       "    <tr style=\"text-align: right;\">\n",
       "      <th></th>\n",
       "      <th>houseID</th>\n",
       "      <th>description</th>\n",
       "      <th>host_about</th>\n",
       "      <th>unlisted</th>\n",
       "    </tr>\n",
       "  </thead>\n",
       "  <tbody>\n",
       "    <tr>\n",
       "      <th>0</th>\n",
       "      <td>1</td>\n",
       "      <td>This is a shared mixed room in our hostel, wit...</td>\n",
       "      <td>Alojamento Local Registro: 20835/AL</td>\n",
       "      <td>0</td>\n",
       "    </tr>\n",
       "    <tr>\n",
       "      <th>1</th>\n",
       "      <td>2</td>\n",
       "      <td>O meu espaço fica perto de Parque Eduardo VII,...</td>\n",
       "      <td>I am friendly host, and I will try to always b...</td>\n",
       "      <td>1</td>\n",
       "    </tr>\n",
       "    <tr>\n",
       "      <th>2</th>\n",
       "      <td>3</td>\n",
       "      <td>Trafaria’s House is a cozy and familiar villa ...</td>\n",
       "      <td>I am a social person liking to communicate, re...</td>\n",
       "      <td>1</td>\n",
       "    </tr>\n",
       "    <tr>\n",
       "      <th>3</th>\n",
       "      <td>4</td>\n",
       "      <td>Apartamento Charmoso no Chiado, Entre o Largo ...</td>\n",
       "      <td>Hello!_x000D_\\nI m Portuguese and i love to me...</td>\n",
       "      <td>0</td>\n",
       "    </tr>\n",
       "    <tr>\n",
       "      <th>4</th>\n",
       "      <td>5</td>\n",
       "      <td>Joli appartement  en bordure de mer.&lt;br /&gt; 2 m...</td>\n",
       "      <td>Nous sommes une famille avec deux enfants de 1...</td>\n",
       "      <td>0</td>\n",
       "    </tr>\n",
       "    <tr>\n",
       "      <th>...</th>\n",
       "      <td>...</td>\n",
       "      <td>...</td>\n",
       "      <td>...</td>\n",
       "      <td>...</td>\n",
       "    </tr>\n",
       "    <tr>\n",
       "      <th>6243</th>\n",
       "      <td>6244</td>\n",
       "      <td>Studio 15 is a new, very well decorated and co...</td>\n",
       "      <td>I'm a Brand Manager from Lisbon in Portugal bu...</td>\n",
       "      <td>0</td>\n",
       "    </tr>\n",
       "    <tr>\n",
       "      <th>6244</th>\n",
       "      <td>6245</td>\n",
       "      <td>Lisbon meets a cosmopolitan industrial one-bed...</td>\n",
       "      <td>Home is where feelings are visitors. How do we...</td>\n",
       "      <td>0</td>\n",
       "    </tr>\n",
       "    <tr>\n",
       "      <th>6245</th>\n",
       "      <td>6246</td>\n",
       "      <td>&lt;b&gt;License number&lt;/b&gt;&lt;br /&gt;Exempt</td>\n",
       "      <td>I am a travel agent passionate by cultures. \\n...</td>\n",
       "      <td>1</td>\n",
       "    </tr>\n",
       "    <tr>\n",
       "      <th>6246</th>\n",
       "      <td>6247</td>\n",
       "      <td>Campo Pequeno Prestige is a classy and top qua...</td>\n",
       "      <td>Família_x000D_\\nPortugal_x000D_\\nGavião_x000D_...</td>\n",
       "      <td>0</td>\n",
       "    </tr>\n",
       "    <tr>\n",
       "      <th>6247</th>\n",
       "      <td>6248</td>\n",
       "      <td>These apartments are very well located in a go...</td>\n",
       "      <td>A base da minha vida é a minha família e a min...</td>\n",
       "      <td>0</td>\n",
       "    </tr>\n",
       "  </tbody>\n",
       "</table>\n",
       "<p>6248 rows × 4 columns</p>\n",
       "</div>"
      ],
      "text/plain": [
       "      houseID                                        description  \\\n",
       "0           1  This is a shared mixed room in our hostel, wit...   \n",
       "1           2  O meu espaço fica perto de Parque Eduardo VII,...   \n",
       "2           3  Trafaria’s House is a cozy and familiar villa ...   \n",
       "3           4  Apartamento Charmoso no Chiado, Entre o Largo ...   \n",
       "4           5  Joli appartement  en bordure de mer.<br /> 2 m...   \n",
       "...       ...                                                ...   \n",
       "6243     6244  Studio 15 is a new, very well decorated and co...   \n",
       "6244     6245  Lisbon meets a cosmopolitan industrial one-bed...   \n",
       "6245     6246                  <b>License number</b><br />Exempt   \n",
       "6246     6247  Campo Pequeno Prestige is a classy and top qua...   \n",
       "6247     6248  These apartments are very well located in a go...   \n",
       "\n",
       "                                             host_about  unlisted  \n",
       "0                   Alojamento Local Registro: 20835/AL         0  \n",
       "1     I am friendly host, and I will try to always b...         1  \n",
       "2     I am a social person liking to communicate, re...         1  \n",
       "3     Hello!_x000D_\\nI m Portuguese and i love to me...         0  \n",
       "4     Nous sommes une famille avec deux enfants de 1...         0  \n",
       "...                                                 ...       ...  \n",
       "6243  I'm a Brand Manager from Lisbon in Portugal bu...         0  \n",
       "6244  Home is where feelings are visitors. How do we...         0  \n",
       "6245  I am a travel agent passionate by cultures. \\n...         1  \n",
       "6246  Família_x000D_\\nPortugal_x000D_\\nGavião_x000D_...         0  \n",
       "6247  A base da minha vida é a minha família e a min...         0  \n",
       "\n",
       "[6248 rows x 4 columns]"
      ]
     },
     "execution_count": 9,
     "metadata": {},
     "output_type": "execute_result"
    }
   ],
   "source": [
    "train"
   ]
  },
  {
   "cell_type": "code",
   "execution_count": 10,
   "metadata": {},
   "outputs": [
    {
     "data": {
      "text/html": [
       "<div>\n",
       "<style scoped>\n",
       "    .dataframe tbody tr th:only-of-type {\n",
       "        vertical-align: middle;\n",
       "    }\n",
       "\n",
       "    .dataframe tbody tr th {\n",
       "        vertical-align: top;\n",
       "    }\n",
       "\n",
       "    .dataframe thead th {\n",
       "        text-align: right;\n",
       "    }\n",
       "</style>\n",
       "<table border=\"1\" class=\"dataframe\">\n",
       "  <thead>\n",
       "    <tr style=\"text-align: right;\">\n",
       "      <th></th>\n",
       "      <th>houseID</th>\n",
       "      <th>comments</th>\n",
       "    </tr>\n",
       "  </thead>\n",
       "  <tbody>\n",
       "    <tr>\n",
       "      <th>0</th>\n",
       "      <td>1</td>\n",
       "      <td>this is a very cozy and comfortable house to s...</td>\n",
       "    </tr>\n",
       "    <tr>\n",
       "      <th>1</th>\n",
       "      <td>1</td>\n",
       "      <td>good&lt;br/&gt;</td>\n",
       "    </tr>\n",
       "    <tr>\n",
       "      <th>2</th>\n",
       "      <td>1</td>\n",
       "      <td>My first hostel experience, and all I have to ...</td>\n",
       "    </tr>\n",
       "    <tr>\n",
       "      <th>3</th>\n",
       "      <td>1</td>\n",
       "      <td>Das Hostel war neu und deshalb funktionierte a...</td>\n",
       "    </tr>\n",
       "    <tr>\n",
       "      <th>4</th>\n",
       "      <td>1</td>\n",
       "      <td>It was fine for a dorm, but I think for the pe...</td>\n",
       "    </tr>\n",
       "    <tr>\n",
       "      <th>...</th>\n",
       "      <td>...</td>\n",
       "      <td>...</td>\n",
       "    </tr>\n",
       "    <tr>\n",
       "      <th>361276</th>\n",
       "      <td>6248</td>\n",
       "      <td>The location was perfect. The apartment was ve...</td>\n",
       "    </tr>\n",
       "    <tr>\n",
       "      <th>361277</th>\n",
       "      <td>6248</td>\n",
       "      <td>Ana's place is exactly as described and even b...</td>\n",
       "    </tr>\n",
       "    <tr>\n",
       "      <th>361278</th>\n",
       "      <td>6248</td>\n",
       "      <td>A Ana foi muito atenciosa e preocupou se com o...</td>\n",
       "    </tr>\n",
       "    <tr>\n",
       "      <th>361279</th>\n",
       "      <td>6248</td>\n",
       "      <td>No wifi nor answer. &lt;br/&gt;The wifi can’t be con...</td>\n",
       "    </tr>\n",
       "    <tr>\n",
       "      <th>361280</th>\n",
       "      <td>6248</td>\n",
       "      <td>O espaço é ótimo, a D. Ana foi maravilhosa e f...</td>\n",
       "    </tr>\n",
       "  </tbody>\n",
       "</table>\n",
       "<p>361281 rows × 2 columns</p>\n",
       "</div>"
      ],
      "text/plain": [
       "        houseID                                           comments\n",
       "0             1  this is a very cozy and comfortable house to s...\n",
       "1             1                                          good<br/>\n",
       "2             1  My first hostel experience, and all I have to ...\n",
       "3             1  Das Hostel war neu und deshalb funktionierte a...\n",
       "4             1  It was fine for a dorm, but I think for the pe...\n",
       "...         ...                                                ...\n",
       "361276     6248  The location was perfect. The apartment was ve...\n",
       "361277     6248  Ana's place is exactly as described and even b...\n",
       "361278     6248  A Ana foi muito atenciosa e preocupou se com o...\n",
       "361279     6248  No wifi nor answer. <br/>The wifi can’t be con...\n",
       "361280     6248  O espaço é ótimo, a D. Ana foi maravilhosa e f...\n",
       "\n",
       "[361281 rows x 2 columns]"
      ]
     },
     "execution_count": 10,
     "metadata": {},
     "output_type": "execute_result"
    }
   ],
   "source": [
    "train_reviews"
   ]
  },
  {
   "cell_type": "code",
   "execution_count": 11,
   "metadata": {},
   "outputs": [],
   "source": [
    "train = train.copy()\n",
    "train_reviews = train_reviews.copy()\n",
    "test = test.copy()\n",
    "test_reviews = test_reviews.copy()"
   ]
  },
  {
   "cell_type": "code",
   "execution_count": 12,
   "metadata": {},
   "outputs": [
    {
     "data": {
      "text/plain": [
       "0"
      ]
     },
     "execution_count": 12,
     "metadata": {},
     "output_type": "execute_result"
    }
   ],
   "source": [
    "train.duplicated().sum()"
   ]
  },
  {
   "cell_type": "code",
   "execution_count": 13,
   "metadata": {},
   "outputs": [
    {
     "data": {
      "text/plain": [
       "142"
      ]
     },
     "execution_count": 13,
     "metadata": {},
     "output_type": "execute_result"
    }
   ],
   "source": [
    "train_reviews.duplicated().sum()"
   ]
  },
  {
   "cell_type": "code",
   "execution_count": 14,
   "metadata": {},
   "outputs": [
    {
     "name": "stdout",
     "output_type": "stream",
     "text": [
      "        houseID                                           comments\n",
      "3248         61                                         Excelente!\n",
      "3254         61                                         Excelente!\n",
      "4225         70                              Everything was great!\n",
      "4263         70                              Everything was great!\n",
      "6584        144  Sofia is an incredible host, and made us feel ...\n",
      "...         ...                                                ...\n",
      "353703     6106                                              Super\n",
      "358567     6182                                    Great location!\n",
      "358568     6182                                    Great location!\n",
      "359054     6202                                        Great place\n",
      "359076     6202                                        Great place\n",
      "\n",
      "[273 rows x 2 columns]\n"
     ]
    }
   ],
   "source": [
    "duplicates_train_reviews =train_reviews[train_reviews.duplicated(keep=False)]\n",
    "print(duplicates_train_reviews)\n"
   ]
  },
  {
   "cell_type": "code",
   "execution_count": 15,
   "metadata": {},
   "outputs": [
    {
     "data": {
      "text/plain": [
       "0"
      ]
     },
     "execution_count": 15,
     "metadata": {},
     "output_type": "execute_result"
    }
   ],
   "source": [
    "test.duplicated().sum()"
   ]
  },
  {
   "cell_type": "code",
   "execution_count": 16,
   "metadata": {},
   "outputs": [
    {
     "data": {
      "text/plain": [
       "15"
      ]
     },
     "execution_count": 16,
     "metadata": {},
     "output_type": "execute_result"
    }
   ],
   "source": [
    "test_reviews.duplicated().sum()"
   ]
  },
  {
   "cell_type": "code",
   "execution_count": 17,
   "metadata": {},
   "outputs": [
    {
     "name": "stdout",
     "output_type": "stream",
     "text": [
      "       houseID                                           comments\n",
      "1622        42                                        Great place\n",
      "1645        42                                        Great place\n",
      "8862       155                                               Good\n",
      "8884       155                                               Good\n",
      "11302      178                                       Great place!\n",
      "11416      178                                    Great location!\n",
      "11445      178                                    Great location!\n",
      "11454      178                                       Great place!\n",
      "11631      179                                                  .\n",
      "11829      179                                                  .\n",
      "16030      246  We had a nice stay and friendly contacts. Than...\n",
      "16031      246  We had a nice stay and friendly contacts. Than...\n",
      "16685      255                                                  .\n",
      "16783      255                                                  .\n",
      "18846      304                                                  .\n",
      "18856      304                                                  .\n",
      "23793      393                                    Great location!\n",
      "23799      393                                    Great location!\n",
      "30213      480                                                  .\n",
      "30270      480                                                  .\n",
      "32629      525                                                  .\n",
      "32650      525                                                  .\n",
      "33727      540                                    Great location!\n",
      "33823      540                                    Great location!\n",
      "34072      549                                                  A\n",
      "34116      549                                                  A\n",
      "36946      608                                                  .\n",
      "37051      608                                                  .\n",
      "41664      692                                     Great location\n",
      "41703      692                                     Great location\n"
     ]
    }
   ],
   "source": [
    "duplicates_test_reviews =test_reviews[test_reviews.duplicated(keep=False)]\n",
    "print(duplicates_test_reviews)"
   ]
  },
  {
   "cell_type": "code",
   "execution_count": 18,
   "metadata": {
    "scrolled": true
   },
   "outputs": [
    {
     "data": {
      "text/plain": [
       "houseID        0\n",
       "description    0\n",
       "host_about     0\n",
       "unlisted       0\n",
       "dtype: int64"
      ]
     },
     "execution_count": 18,
     "metadata": {},
     "output_type": "execute_result"
    }
   ],
   "source": [
    "train.isna().sum()\n"
   ]
  },
  {
   "cell_type": "code",
   "execution_count": 19,
   "metadata": {},
   "outputs": [
    {
     "data": {
      "text/plain": [
       "houseID     0\n",
       "comments    0\n",
       "dtype: int64"
      ]
     },
     "execution_count": 19,
     "metadata": {},
     "output_type": "execute_result"
    }
   ],
   "source": [
    "train_reviews.isna().sum()"
   ]
  },
  {
   "cell_type": "code",
   "execution_count": 20,
   "metadata": {},
   "outputs": [],
   "source": [
    "train_reviews.dropna(subset=['comments'], inplace=True)\n",
    "\n"
   ]
  },
  {
   "cell_type": "code",
   "execution_count": 21,
   "metadata": {},
   "outputs": [
    {
     "data": {
      "text/plain": [
       "houseID        0\n",
       "description    0\n",
       "host_about     0\n",
       "dtype: int64"
      ]
     },
     "execution_count": 21,
     "metadata": {},
     "output_type": "execute_result"
    }
   ],
   "source": [
    "test.isna().sum()"
   ]
  },
  {
   "cell_type": "code",
   "execution_count": 22,
   "metadata": {},
   "outputs": [
    {
     "data": {
      "text/plain": [
       "houseID     0\n",
       "comments    0\n",
       "dtype: int64"
      ]
     },
     "execution_count": 22,
     "metadata": {},
     "output_type": "execute_result"
    }
   ],
   "source": [
    "test_reviews.isna().sum()"
   ]
  },
  {
   "cell_type": "code",
   "execution_count": 23,
   "metadata": {},
   "outputs": [
    {
     "data": {
      "text/html": [
       "<div>\n",
       "<style scoped>\n",
       "    .dataframe tbody tr th:only-of-type {\n",
       "        vertical-align: middle;\n",
       "    }\n",
       "\n",
       "    .dataframe tbody tr th {\n",
       "        vertical-align: top;\n",
       "    }\n",
       "\n",
       "    .dataframe thead th {\n",
       "        text-align: right;\n",
       "    }\n",
       "</style>\n",
       "<table border=\"1\" class=\"dataframe\">\n",
       "  <thead>\n",
       "    <tr style=\"text-align: right;\">\n",
       "      <th></th>\n",
       "      <th>count</th>\n",
       "      <th>mean</th>\n",
       "      <th>std</th>\n",
       "      <th>min</th>\n",
       "      <th>25%</th>\n",
       "      <th>50%</th>\n",
       "      <th>75%</th>\n",
       "      <th>max</th>\n",
       "    </tr>\n",
       "  </thead>\n",
       "  <tbody>\n",
       "    <tr>\n",
       "      <th>houseID</th>\n",
       "      <td>6248.0</td>\n",
       "      <td>3124.500000</td>\n",
       "      <td>1803.786573</td>\n",
       "      <td>1.0</td>\n",
       "      <td>1562.75</td>\n",
       "      <td>3124.5</td>\n",
       "      <td>4686.25</td>\n",
       "      <td>6248.0</td>\n",
       "    </tr>\n",
       "    <tr>\n",
       "      <th>unlisted</th>\n",
       "      <td>6248.0</td>\n",
       "      <td>0.273367</td>\n",
       "      <td>0.445724</td>\n",
       "      <td>0.0</td>\n",
       "      <td>0.00</td>\n",
       "      <td>0.0</td>\n",
       "      <td>1.00</td>\n",
       "      <td>1.0</td>\n",
       "    </tr>\n",
       "  </tbody>\n",
       "</table>\n",
       "</div>"
      ],
      "text/plain": [
       "           count         mean          std  min      25%     50%      75%  \\\n",
       "houseID   6248.0  3124.500000  1803.786573  1.0  1562.75  3124.5  4686.25   \n",
       "unlisted  6248.0     0.273367     0.445724  0.0     0.00     0.0     1.00   \n",
       "\n",
       "             max  \n",
       "houseID   6248.0  \n",
       "unlisted     1.0  "
      ]
     },
     "execution_count": 23,
     "metadata": {},
     "output_type": "execute_result"
    }
   ],
   "source": [
    "train.describe().T"
   ]
  },
  {
   "cell_type": "code",
   "execution_count": 24,
   "metadata": {},
   "outputs": [
    {
     "data": {
      "text/html": [
       "<div>\n",
       "<style scoped>\n",
       "    .dataframe tbody tr th:only-of-type {\n",
       "        vertical-align: middle;\n",
       "    }\n",
       "\n",
       "    .dataframe tbody tr th {\n",
       "        vertical-align: top;\n",
       "    }\n",
       "\n",
       "    .dataframe thead th {\n",
       "        text-align: right;\n",
       "    }\n",
       "</style>\n",
       "<table border=\"1\" class=\"dataframe\">\n",
       "  <thead>\n",
       "    <tr style=\"text-align: right;\">\n",
       "      <th></th>\n",
       "      <th>houseID</th>\n",
       "      <th>description</th>\n",
       "      <th>host_about</th>\n",
       "      <th>unlisted</th>\n",
       "      <th>language</th>\n",
       "    </tr>\n",
       "  </thead>\n",
       "  <tbody>\n",
       "    <tr>\n",
       "      <th>0</th>\n",
       "      <td>1</td>\n",
       "      <td>This is a shared mixed room in our hostel, wit...</td>\n",
       "      <td>Alojamento Local Registro: 20835/AL</td>\n",
       "      <td>0</td>\n",
       "      <td>en</td>\n",
       "    </tr>\n",
       "    <tr>\n",
       "      <th>1</th>\n",
       "      <td>2</td>\n",
       "      <td>O meu espaço fica perto de Parque Eduardo VII,...</td>\n",
       "      <td>I am friendly host, and I will try to always b...</td>\n",
       "      <td>1</td>\n",
       "      <td>pt</td>\n",
       "    </tr>\n",
       "    <tr>\n",
       "      <th>2</th>\n",
       "      <td>3</td>\n",
       "      <td>Trafaria’s House is a cozy and familiar villa ...</td>\n",
       "      <td>I am a social person liking to communicate, re...</td>\n",
       "      <td>1</td>\n",
       "      <td>en</td>\n",
       "    </tr>\n",
       "    <tr>\n",
       "      <th>3</th>\n",
       "      <td>4</td>\n",
       "      <td>Apartamento Charmoso no Chiado, Entre o Largo ...</td>\n",
       "      <td>Hello!_x000D_\\nI m Portuguese and i love to me...</td>\n",
       "      <td>0</td>\n",
       "      <td>pt</td>\n",
       "    </tr>\n",
       "    <tr>\n",
       "      <th>4</th>\n",
       "      <td>5</td>\n",
       "      <td>Joli appartement  en bordure de mer.&lt;br /&gt; 2 m...</td>\n",
       "      <td>Nous sommes une famille avec deux enfants de 1...</td>\n",
       "      <td>0</td>\n",
       "      <td>fr</td>\n",
       "    </tr>\n",
       "  </tbody>\n",
       "</table>\n",
       "</div>"
      ],
      "text/plain": [
       "   houseID                                        description  \\\n",
       "0        1  This is a shared mixed room in our hostel, wit...   \n",
       "1        2  O meu espaço fica perto de Parque Eduardo VII,...   \n",
       "2        3  Trafaria’s House is a cozy and familiar villa ...   \n",
       "3        4  Apartamento Charmoso no Chiado, Entre o Largo ...   \n",
       "4        5  Joli appartement  en bordure de mer.<br /> 2 m...   \n",
       "\n",
       "                                          host_about  unlisted language  \n",
       "0                Alojamento Local Registro: 20835/AL         0       en  \n",
       "1  I am friendly host, and I will try to always b...         1       pt  \n",
       "2  I am a social person liking to communicate, re...         1       en  \n",
       "3  Hello!_x000D_\\nI m Portuguese and i love to me...         0       pt  \n",
       "4  Nous sommes une famille avec deux enfants de 1...         0       fr  "
      ]
     },
     "execution_count": 24,
     "metadata": {},
     "output_type": "execute_result"
    }
   ],
   "source": [
    "def detect_language(text):\n",
    "    try:\n",
    "        return detect(text)\n",
    "    except:\n",
    "        return \"Unknown\"\n",
    "\n",
    "train[\"language\"] = train[\"description\"].apply(detect_language)\n",
    "train.head()"
   ]
  },
  {
   "cell_type": "code",
   "execution_count": 25,
   "metadata": {},
   "outputs": [
    {
     "data": {
      "image/png": "[encoded data removed]",
      "text/plain": [
       "<Figure size 720x432 with 1 Axes>"
      ]
     },
     "metadata": {
      "needs_background": "light"
     },
     "output_type": "display_data"
    }
   ],
   "source": [
    "language_counts = train[\"language\"].value_counts()\n",
    "\n",
    "plt.figure(figsize=(10, 6))\n",
    "sns.barplot(x=language_counts.index, y=language_counts.values, palette=\"viridis\")\n",
    "plt.title(\"Language Distribution\")\n",
    "plt.xlabel(\"Language\")\n",
    "plt.ylabel(\"Count\")\n",
    "plt.xticks(rotation=45)\n",
    "plt.show()"
   ]
  },
  {
   "cell_type": "code",
   "execution_count": 26,
   "metadata": {},
   "outputs": [
    {
     "data": {
      "text/plain": [
       "array(['en', 'pt', 'fr', 'es', 'de', 'da', 'no', 'sv', 'it', 'ca',\n",
       "       'zh-cn', 'nl'], dtype=object)"
      ]
     },
     "execution_count": 26,
     "metadata": {},
     "output_type": "execute_result"
    }
   ],
   "source": [
    "train[\"language\"].unique()"
   ]
  },
  {
   "cell_type": "markdown",
   "metadata": {},
   "source": [
    "'en': English \n",
    "'pt': Portuguese\n",
    "'fr': French\n",
    "'es': Spanish\n",
    "'de': German\n",
    "'da': Danish\n",
    "'no': Norwegian\n",
    "'sv': Swedish\n",
    "'it': Italian\n",
    "'ca': Catalan\n",
    "'zh-cn': Chinese (Simplified)\n",
    "'nl': Dutch"
   ]
  },
  {
   "cell_type": "code",
   "execution_count": 27,
   "metadata": {},
   "outputs": [
    {
     "data": {
      "image/png": "[encoded data removed]",
      "text/plain": [
       "<Figure size 576x576 with 1 Axes>"
      ]
     },
     "metadata": {},
     "output_type": "display_data"
    }
   ],
   "source": [
    "unlisted_counts = train['unlisted'].value_counts()\n",
    "\n",
    "# Plotting the pie chart for the 'unlisted' column\n",
    "plt.figure(figsize=(8, 8))\n",
    "plt.pie(unlisted_counts, labels=unlisted_counts.index, autopct='%1.1f%%', startangle=140, colors=['skyblue', 'lightcoral'])\n",
    "plt.title('Distribution of Listed vs. Unlisted')\n",
    "plt.axis('equal')  \n",
    "plt.show()"
   ]
  },
  {
   "cell_type": "code",
   "execution_count": null,
   "metadata": {},
   "outputs": [],
   "source": [
    "from wordcloud import WordCloud\n",
    "\n",
    "# Joining all the reviews into a single string\n",
    "all_reviews = ' '.join(train_reviews['comments'])\n",
    "    \n",
    "# Create WordCloud object\n",
    "wordcloud = WordCloud(width=800, height=400, background_color=\"white\").generate(all_reviews)\n",
    "\n",
    "#Plotting the word cloud\n",
    "plt.figure(figsize=(10, 5))\n",
    "plt.imshow(wordcloud)\n",
    "plt.axis(\"off\")\n",
    "plt.title('Word Cloud')\n",
    "plt.show()\n",
    "\n",
    "# não consegui correr isto - catarina "
   ]
  },
  {
   "cell_type": "code",
   "execution_count": 29,
   "metadata": {
    "scrolled": false
   },
   "outputs": [
    {
     "data": {
      "image/png": "[encoded data removed]",
      "text/plain": [
       "<Figure size 864x432 with 2 Axes>"
      ]
     },
     "metadata": {
      "needs_background": "light"
     },
     "output_type": "display_data"
    }
   ],
   "source": [
    "def count_words(text):\n",
    "    return len(text.split())\n",
    "\n",
    "# Apply word count function to each column\n",
    "train['description_word_count'] = train['description'].apply(count_words)\n",
    "train['host_about_word_count'] = train['host_about'].apply(count_words)\n",
    "\n",
    "# Plot histograms\n",
    "plt.figure(figsize=(12, 6))\n",
    "\n",
    "# Histogram for description word count\n",
    "plt.subplot(1, 2, 1)\n",
    "plt.hist(train['description_word_count'], bins=10, color='skyblue', edgecolor='black')\n",
    "plt.title('Word Count in Description')\n",
    "plt.xlabel('Number of Words')\n",
    "plt.ylabel('Frequency')\n",
    "\n",
    "# Histogram for host_about word count\n",
    "plt.subplot(1, 2, 2)\n",
    "plt.hist(train['host_about_word_count'], bins=10, color='lightgreen', edgecolor='black')\n",
    "plt.title('Word Count in Host About')\n",
    "plt.xlabel('Number of Words')\n",
    "plt.ylabel('Frequency')\n",
    "\n",
    "plt.tight_layout()\n",
    "plt.show()"
   ]
  },
  {
   "cell_type": "code",
   "execution_count": 33,
   "metadata": {},
   "outputs": [
    {
     "data": {
      "image/png": "[encoded data removed]",
      "text/plain": [
       "<Figure size 1152x432 with 2 Axes>"
      ]
     },
     "metadata": {
      "needs_background": "light"
     },
     "output_type": "display_data"
    }
   ],
   "source": [
    "from collections import Counter\n",
    "from wordcloud import STOPWORDS\n",
    "\n",
    "def count_word_frequencies(text_column, num_words=10):\n",
    "    # Join all text from the specified column into a single string\n",
    "    all_text = ' '.join(text_column)\n",
    "\n",
    "    # Convert text to lowercase and split into words\n",
    "    words = all_text.lower().split()\n",
    "\n",
    "    # Filter out common stop words\n",
    "    words = [word for word in words if word not in STOPWORDS]\n",
    "\n",
    "    # Count word frequencies\n",
    "    word_counts = Counter(words)\n",
    "\n",
    "    # Get the most common words and their frequencies\n",
    "    top_words = word_counts.most_common(num_words)\n",
    "\n",
    "    return dict(top_words)\n",
    "\n",
    "# Count word frequencies from the 'description' and 'host_about' columns\n",
    "top_words_description = count_word_frequencies(train['description'])\n",
    "top_words_host_about = count_word_frequencies(train['host_about'])\n",
    "\n",
    "# Plotting the histograms of most frequent words for both columns\n",
    "fig, axes = plt.subplots(1, 2, figsize=(16, 6))\n",
    "\n",
    "# Plot for 'description' column\n",
    "axes[0].bar(top_words_description.keys(), top_words_description.values(), color='skyblue')\n",
    "axes[0].set_title('Top 10 Most Frequent Words in Descriptions')\n",
    "axes[0].set_xlabel('Words')\n",
    "axes[0].set_ylabel('Frequency')\n",
    "axes[0].tick_params(axis='x', rotation=45)  # Rotate x-axis labels for better readability\n",
    "\n",
    "# Plot for 'host_about' column\n",
    "axes[1].bar(top_words_host_about.keys(), top_words_host_about.values(), color='lightgreen')\n",
    "axes[1].set_title('Top 10 Most Frequent Words in host_bout')\n",
    "axes[1].set_xlabel('Words')\n",
    "axes[1].set_ylabel('Frequency')\n",
    "axes[1].tick_params(axis='x', rotation=45)  # Rotate x-axis labels for better readability\n",
    "\n",
    "# Adjust layout and display plots\n",
    "plt.tight_layout()\n",
    "plt.show()"
   ]
  },
  {
   "cell_type": "code",
   "execution_count": 39,
   "metadata": {},
   "outputs": [
    {
     "data": {
      "image/png": "[encoded data removed]",
      "text/plain": [
       "<Figure size 720x432 with 1 Axes>"
      ]
     },
     "metadata": {
      "needs_background": "light"
     },
     "output_type": "display_data"
    }
   ],
   "source": [
    "def count_word_frequencies(text_column, num_words=10):\n",
    "    # Convert text to lowercase and split into words\n",
    "    words = ' '.join(text_column).lower().split()\n",
    "\n",
    "    # Filter out common stop words\n",
    "    words = [word for word in words if word not in STOPWORDS]\n",
    "\n",
    "    # Count word frequencies\n",
    "    word_counts = Counter(words)\n",
    "\n",
    "    # Get the most common words and their frequencies\n",
    "    top_words = word_counts.most_common(num_words)\n",
    "\n",
    "    return dict(top_words)\n",
    "\n",
    "# Count word frequencies from the 'comments' column\n",
    "top_words_comments = count_word_frequencies(train_reviews['comments'])\n",
    "\n",
    "# Plotting the histogram of most frequent words in 'comments' column\n",
    "plt.figure(figsize=(10, 6))\n",
    "plt.bar(top_words_comments.keys(), top_words_comments.values(), color='orange')\n",
    "plt.title('Top 10 Most Frequent Words in Comments')\n",
    "plt.xlabel('Words')\n",
    "plt.ylabel('Frequency')\n",
    "plt.xticks(rotation=45)  # Rotate x-axis labels for better readability\n",
    "plt.show()"
   ]
  },
  {
   "cell_type": "code",
   "execution_count": 38,
   "metadata": {},
   "outputs": [
    {
     "data": {
      "image/png": "[encoded data removed]",
      "text/plain": [
       "<Figure size 864x432 with 1 Axes>"
      ]
     },
     "metadata": {
      "needs_background": "light"
     },
     "output_type": "display_data"
    }
   ],
   "source": [
    "def count_words(text):\n",
    "    return len(text.split())\n",
    "\n",
    "# Apply word count function to the 'comments' column\n",
    "train_reviews['comments_word_count'] = train_reviews['comments'].apply(count_words)\n",
    "\n",
    "# Plot histogram\n",
    "plt.figure(figsize=(12, 6))\n",
    "\n",
    "plt.hist(train_reviews['comments_word_count'], bins=10, color='skyblue', edgecolor='black')\n",
    "plt.title('Word Count in Comments')\n",
    "plt.xlabel('Number of Words')\n",
    "plt.ylabel('Frequency')\n",
    "\n",
    "plt.show()"
   ]
  },
  {
   "cell_type": "code",
   "execution_count": 40,
   "metadata": {},
   "outputs": [
    {
     "name": "stdout",
     "output_type": "stream",
     "text": [
      "Unique small words and punctuation marks:\n",
      "['쫀냐', '저도', 'แต', '도심', 'Ot', 'ow', '지붕', '區內', 'DR', '31', '너머', '26', 'jp', 'Vs', '음식', 'OH', '버뜨', '남음', '13', '27', '지난', 'Τα', '위햔', 'Pi', '한껏', 'На', '48', 'Jo', 'dk', '93', '몹시', '다룸', '받는', 'Ar', '가면', '넒묾', '죽는', '하필', 'bz', '턕띠', '4e', '층은', 'VH', 'Д', '켜서', '못한', 'عن', '깔린', 'Bs', '때가', '간게', 'т', '2h', '엄청', '跟', 'GE', '듬', '집에', '5B', '中超', '크게', '십분', '써도', '짱', 'là', 'ai', '낡은', 'HE', 'Cá', '뭐든', '🚬', '52', '\\U0001faf6', '醋', 'Il', 'NZ', '내외', '💋', '펼쳐', 'pm', '라고', '갔을', '3E', '여긴', '다망', '2월', 'wf', '5g', 'at', 'KR', 'öl', 'az', 'IS', '저의', '4D', 'At', '계획', '노란', '😞', '4o', 'Su', '타는', '묺동', '공간', 'MJ', '교통', 'ín', 'Do', '당일', '2o', '예쁨', '추위', '🙋', 'Bu', '真的', '🌲', 'во', '입고', '옵션', '눈', '℃', 'oD', '91', 'ㄹ', 'RU', '보수', 'ㅅ', 'E1', '곳만', '싫은', '밟을', '식기', '👊', '층과', '층에', '담긴', '요리', '미니', '두개', 'Ie', '동동', '즐길', '따서', '0층', '갖춰', 'Nu', '–', 'Zs', '많음', 'ld', '끌기', 'ir', '^', 'Na', '저녁', '줄', '1D', '1h', 'mv', 'Ще', '주소', '✈', '가긴', '比如', 'én', '옷에', 'Ti', 'าร', '아직', '挺近', 'ZÉ', '침구', 'eT', '꾕짱', '참', '很美', '층이', 'lo', '등', 'Yo', 'Xi', 'så', 'Sè', '地铁', '일은', 'h', '4명', '으자', 'vé', '̴', '47', '3e', '답게', '나서', 'LO', '73', '사서', '💘', '사과', '볼수', '넘넘', '오든', '족금', '👉', '가야', '져녂', 'tl', '등과', 'IN', '마음', '찐짜', '제외', '어느', '51', 'Dé', '묵는', 'nó', '갈거', '홀홀', '절댃', 'Im', 'Hh', 'עם', '소파', 'uy', 'cn', '구지', 'LG', '맨', 'Зв', 'כ5', '갖춘', '상상', '눈에', '펍도', '밖이', '맡길', 'MC', 'HP', '깁께', '담요', 'ua', '지장', 'ud', '장점', '책도', 'קר', 'FX', '推薦', '5층', '팔고', '산타', '차서', 'El', '变', '다한', '김치', '5s', 'Bc', '이전', '잘못', '저희', 'wg', 'ту', 'ช', 'То', 'B3', '早饭', '워낙', 'Rd', 'e', '먼', 'Tt', 'Sd', '2인', '날', '창은', '很好', 'EC', '놔요', '😡', '방식', '역대', 'NI', '비단', 'Df', '끝', '전용', '티도', '씻는', '핸들', '🔑', '❣', '물품', '위생', 'yo', '들려', '부실', 'öt', 'ий', '<', '밟꾜', '입에', '8E', '낮', '整齊', '7A', '타서', 'Us', 'Wr', '9y', '🏻', '제가', '묶을', 'Da', '나의', 'jà', '58', '춥고', '되서', '等', '안심', 'то', '좔', '취해', '感謝', '진짜', '강이', 'É', 'We', '높굥', '짧은', '넘후', '욘락', '것은', '2C', '🇪', '뒤에', '걸을', '빛이', 'AA', 'tp', '돈을', '변기', '묻고', '절대', '쌀', 'パン', '그때', '써야', 'x2', '창밖', '중형', '편에', 'Fa', '커피', '한달', '싶고', '일딴', 'af', 'ww', 'ie', '않는', '다음', 'RB', '무려', '문을', 'Em', '높아', '옛', '생활', '옆이', '묵을', '제꺼', '달리', '평일', 'FM', 'zB', 'バー', '풀고', '4C', '잡고', 'iI', '종종', '각', '넘게', '3D', 'Xx', '19', '앞이', 'כל', '언덕', 'nd', '뒈쉰', 'ph', '便宜', '소형', '另', '´', 'he', '번째', '콸콸', '👻', 'JP', 'wt', '果汁', '생긴', '바로', '나지', 'ку', 'fx', 'CH', '가니', 'vê', '낮에', '탈', '2A', 'eE', 'će', '잠깐', 'Ma', '若有', '든다', '🌅', '횐풍', 'PF', '1일', 'WI', '쓰던', 'nB', '자면', '올릴', 'mì', '올까', 'oa', 'Fl', '많고', '뭣한', '안된', '🍾', 'ù', '饭店', 'pû', 'ΟΙ', '풀', '히팅', '1인', '점심', '끊김', '도마', 'km', 'לי', 'm²', '당연', 'va', '첨엔', '세요', '🕊', '메인', '편할', '한', '같음', '누노', '치신', 'J', '당시', 'Tô', '싶은', 'BT', '여자', 'R', '와서', 'Ju', '2D', '주고', 'Q', '든', '찰나', '🙃', '사항', '°', '혼자', '🎷', 'Hu', '8p', '3개', '첨에', '외', 'OR', '빨래', '벽에', '№', 'fb', '닿지', '3h', '문들', '냠쟈', 'HM', '餐馆', '住所', '89', 'եմ', '겂낭', '하는', 'eh', '탈수', 'E4', '존똑', 'It', 'Ó', '⬛', '거림', '꽤나', '루소', '열기', '1차', '无', '야경', '응답', 'XD', '방도', '데', 'UK', '綠茶', '나올', 'TY', 'は', '완벽', '哦', '廚房', '매우', 'né', '⛰', '이곳', 'ω', '인생', '명동', 'НО', 'M', '긴', '뚀', 'tá', '동눼', 'tä', '찾을', '주심', 'ca', '?', '油', '찾기', '개', '올라', '蛋挞', 'ot', '34', '≥', 'up', '주의', '사악', '상징', 'он', 'Ce', '走5', '뒤', '겁이', 'לצ', 'JC', 'MG', 'VS', '높이', 'wi', '찾던', '광좡', '치울', 'та', '🇩', '가끔', '여튼', '혹', '불편', '받은', '나온', '따륜', '쪽은', '일출', '제거', '하며', 'Tb', '벌레', '퇴실', '🔆', 'Re', '家', 'ıt', '32', 'бы', '만큼', 'Bé', '단연', 'AP', '여러', '35', '걍', 'À', 'br', '☕', '출구', '8C', '감상', 'VI', '29', 'по', 'ó', 'dû', '가든', 'sì', '햄', '7j', 'ZU', '🏰', '맞춰', '잘때', '热情', '그린', 'о', 'ый', '🧽', 'm', 'хв', 'oÄ', '차가', '&', 'í', '들어', 'עד', '잘된', 'BR', '바디', '저두', '81', 'AL', 'ms', 'ST', '🍦', '드는', 'Di', 'II', '에코', '분들', 'zo', '그가', 'xD', '🚉', '밤을', '확인', 'Cd', '밤에', '자쥬', '마신', '쪽을', '갈', '，', '뜨면', '한번', '스윗', '점과', '🔥', '„', 'Ко', 'Qd', 'ha', '\\\\', '🌞', '3х', '돈에', '하', '곳도', 'L3', 'ㅇ', '5h', '우버', '맡아', 'בצ', '밥을', '됡짉', '39', '쪼꼼', '噢', 'Um', '뭔', '하나', '순', '뭔가', '힘들', 'و', '餐饮', 'ae', 'Aa', 'th', 'см', '것도', '🧘', 'ㅕ', '🐟', '졸금', '거라', 'θα', '주변', '97', '남길', '뽜똭', '소리', '물건', 'or', '메고', '숨', '수퍼', 'By', '원할', 'T5', '점에', '🎂', 'sh', '매번', '그', 'ló', '86', 'ㅠ', '2е', 'mm', '코앞', 'ac', 'ns', '장판', '앙투', '아웃', '오짐', '잘땐', 'ár', '여성', 'v', '당장', 'Eu', '3x', 'Ç', 'Ns', '갈뻔', '병', 'XL', '可是', '3ο', 'ᴥ', '🚻', '24', '고빵', 'ON', '💪', 'vr', '💞', '설명', 'мы', 'ys', '갖게', '🤙', '길에', '면과', '출발', 'Vi', '1분', '\\u2060', 'św', '⛱', '최소', '하실', '문잇', 'på', '몸을', '서로', 'è', '예약', 'ты', 'ÁL', '다시', '70', 'BD', '중요', '🤫', '약한', '사진', '🌄', '耐心', '에그', '옆', 'hd', '안씀', 'IH', 'Vc', '👃', '55', '만난', 'NO', 'G', '있어', 'm2', '%', '87', '도라', '‘', '奶酪', 'Op', 'Oi', 'VO', '측은', '💎', 'pP', 'rb', 'um', '개단', 'Οι', 'pl', '\\ufeff', '정', '차지', 'VW', 'ở', 'tm', 'CV', 'RJ', 'mu', '💖', '창문', 'γη', '🏾', '面膜', '你好', '담에', '최대', '9', '🤟', '📞', '열때', ']', '캡슐', '🇭', 'SE', '큰', 'Ds', 'ap', 'c', '😳', 'T4', '68', '계속', '훼요', '드솔', 'hè', '비운', 'AB', '5E', '묶고', 'är', '날뻔', '과', '늦은', '는', '주신', '때와', '이랑', '다락', 'רק', 'bq', 'ro', '可爱', '벨렝', '욕조', '对了', '거기', '다리', 'VE', '딸린', '五星', 'ท', '빌려', '벽을', '분만', '즉각', '그날', '시간', 'Zé', '빰에', '대신', '유럽', '잠시', 'iz', '😚', '때를', '방에', '笑', '악취', '🏴', 'ΣΕ', 'pe', 'ok', 'ti', 'IK', 'ΜΕ', '늘', '5D', 'И', '이후', '무슨', '렌지', 'ή', '🥧', 'cá', '새', 'GH', '⁃', '진심', 'ER', '기분', '끌고', '🔐', 'ff', '🚃', '药店', '함', 'U', '감기', '우측', '화상', '룸', '寬敞', 'й', '분도', '등의', '🕉', 'Dû', 'VR', 'Не', '노점', '정땡', '사갈', '加油', '🐈', '♀', '역사', '🎒', '물도', '𖤐', '0', '의', ',', '수법', '복층', '😺', '拖鞋', 'P', '편한', 'Ya', '길', '요소', 'go', '위취', '않은', '◡', '와인', '술집', '전망', 'на', '오지', '사실', 'ㅈ', '맵에', 'o', '됨안', '¢', '및', '처음', '은', '여서', '74', '머리', 'ו', '법과', '이쁜', 'xo', '😗', '設施', '6p', '😅', '두', 'ED', '優點', 'hi', '🧿', '隨和', '꿀', '먹는', 'DI', '设施', 'ra', '따라', '키가', '놀', '일체', '빵빵', '+', '🔴', '뷰로', '렌트', '푹', '뿔꽃', '美', '씨가', '인데', '맞게', '원래', 'Ww', '7M', 'Zo', '타면', '오르', '멀지', '불은', 'OV', 'Du', 'св', '온', '만두', '쉽지', '코', '🛴', '🤔', '1B', '쉬운', 'ná', 'Jm', '다면', '히히', 'n', '않다', 'gå', 'no', 'la', '💝', '😃', '\\U000e007f', '}', '92', '🧻', 'BQ', '뒈신', '2c', 'Це', 'rá', '빵에', '쾌적', 'VP', '정할', '운전', '비추', '돼서', '맞아', '❌', 'dj', '😮', '💔', 'Td', '식사', '커버', 'Та', '분임', '펍에', '廁所', '짧게', '폼발', '들면', '닭맑', 'ти', '넘는', '钱包', '̈', '듯', '1', '청결', '첫', '넓고', '터라', '내어', 'ni', '비록', '6L', '그를', '날에', '일이', '🇹', 'ㅂ', '옆집', '안애', '정량', 'sy', '광장', 'AU', '🤣', '길은', 'Y', 'fé', '🌈', 'Ο', 'ls', '일반', '1a', '열', 'של', '되어', '찍고', '방', '저와', 'dc', '裝潢', '상가', '오줌', '46', '한참', 'и', '무료', '좋게', 'tê', '명소', 'Br', '̧', '코를', 'як', '한층', '숫자', '엽서', '5박', '엄마', '쫍은', '雨棚', '2', '내내', '橙汁', '잠글', 'Nd', '楼梯', 'D', 'aż', '를', '首先', '无敌', 'また', '뭘', '가지', 'Оч', 'și', '»', '좋아', '종점', '개미', '🉐', '66', 'ㅏ란', '카드', '응대', '말', '영깅', '빙', 'за', '🙂', '답도', '것두', '갓', '훨씬', '매일', 'Af', '별점', '데에', 'is', '취소', 'qd', 'ㅐ', '💨', '.', '很冷', '오른', '🍴', '많지', '이른', 'Az', '반층', '鸡蛋', 'ї', 'Су', '엘베', '👏', '但是', 'JT', 'вы', 'גן', 'än', '저것', '《', '차랑', 'ní', 'IM', '不過', 'צר', '3번', '훔', 'C5', '폭도', '가량', '남짓', '묽이', '44', '盐', 'WG', '满意', 'LD', '그것', '90', '하러', '👎', '보던', '추천', '☺', 'Á', 'αν', 'BS', '열을', '⛵', 'å', '4G', '부엌', '3o', '53', 'sI', '赞', 'Το', 'Mó', '쬲나', '데도', '酒', '😛', '수가', '때', 'ㅠㅠ', 'я', '🙏', '느낌', '8e', '훌륭', '観光', '1l', 'PC', 'bb', '🚎', '끌꾸', '따만', 'Él', 'RI', 'zw', '끈대', 're', 'us', '！', '대화', 'iT', 'F', '생김', 'Jp', 'Ps', '말지', '96', 'må', '빼곤', 'wh', '걱정', '💻', '집을', 'Yu', '火腿', '라는', '碗筷', 'pr', 'ды', '암툰', '等等', '씻고', '집의', '쉬러', 'ı', '외진', '👞', '들고', '🌹', '크고', 'בן', '흑', 'Lx', '밝고', 'Еs', '약속', '구럼', 'Bv', '별도', 'LZ', '글을', 'Ty', 'NS', 'lg', '접시', '¡', 'רב', '줘요', 'gb', '2G', '중심', '부스', 'OJ', '열차', '벽이', 'år', '💚', 'Wé', '뷰가', 'pi', '오고', '자기', '미로', '덕에', '삐걱', '하여', 'ç', '♥', '남은', 'üç', '돼요', '할까', 'AD', '절반', 'Tx', '🥲', '바가', '🤦', '바쁜', 'ст', 'â', 'DT', '優格', '들', '뷰나', '뭃이', 'К', 'ao', '면도', 'JR', '1d', '답은', '친절', 'få', 'Ho', 'kg', '앞', '7u', '받지', '무척', 'Gå', '믿고', '（', '옷이', 'qü', '서고', '놀다', '։', '팁도', 'Ws', '미리', '베임', 'VC', '늣게', 'TB', '커요', '쓰긴', '걸어', '2k', '간', 'gh', 'bv', 'oK', '뱔찐', 'το', '2p', '모토', 'oy', 'of', '차를', '진', '치즈', '앉에', '전차', '미팅', '방2', '딱히', '카페', '휴기', '6', '답만', '받을', '房间', 'PR', '🎤', '파두', '감수', '2⁰', '드린', 'x', '춥춥', '어요', 'งม', 'k', '끼고', '꼭꼭', 'ان', '가본', '購物', '문', '좀', '℅', 'I', '�', '😄', '되게', 'Θα', '톨', '3분', '옛날', 'au', 'ο', 'ih', 'bf', '했음', 'BF', '켜면', '비가', '낄이', 'Zu', 'nä', 'og', '개선', '피는', '복도', '비롯', '现代', 'Ia', 'Lo', '업씀', 'vi', 'DC', '웰컴', '10', 'że', '리타', '소요', 'PA', '꺼', '潮湿', '급한', '😨', '달이', '성당', '4E', '와는', '🍋', '낼', '추울', '전체', '될것', 'ho', '술에', '전에', 'Qf', 'RD', 'Só', '빵을', 'Uw', 'JK', '9H', '준', '늦게', 'Eb', 'jm', 'ty', 'λ', 'π', 'cè', '3y', 'Od', '뭐', 'Mª', '많기', 'Tú', '열면', '강', '−', '저곳', '단지', 'Ov', '캔', 'co', 'Nb', '얻기', 'Où', '늦고', '갈래', '가진', '🍻', 'Tv', 'ez', 'Pa', 'Kl', '우뿨', '좀더', '기대', 'GS', 'nt', '🗺', '춥지', '하면', 'pd', 'dì', 'M6', 'dn', '잼', '15', 'Zè', 'am', '🙈', '점도', '43', '찌끔', '차에', '麵包', '야깐', '무릎', '외출', '새섥', 'La', 'OS', '5분', 'pg', '́', '셀프', '최근', '饼干', '₽', 'WZ', 'Ur', '짤', '흠', '타올', '65', '54', 'kb', '쬬쿪', '스텝', '점을', 'ss', 'PK', 'cf', '4H', '끓구', 'hu', '가', '못감', '1C', '쭉', 'má', '없고', '밤', '외에', 'as', '方便', '보는', '아니', '둘이', 'da', 'No', 'ją', '⭐', 'PQ', '😏', '1O', 'nr', '👆', '방이', 'נח', '🍄', '사다', 'Qs', '점은', '숙쏘', '기억', '】', 'UM', '둘다', '・', '당만', 'De', '남을', 'oh', '4x', 'ею', 'OG', 'Ut', '대힌', '물또', 'lx', '점이', '열뀨', 'דה', '停车', '나는', '갈까', 'τ', '타기', '주로', 'Nn', 'Uk', '물의', '할쑤', '4개', '밥', 'N8', 'CG', '흑흑', '우선', '찾고', '물과', 'ma', '😖', '현재', '원체', '잘한', 'º', '뽱은', '提示', 'др', '축구', 'dr', '위촉', '😆', '🤯', '¨', '평균', '별', 'Ми', 'Pq', '통한', '고정', 'T2', 'vz', '병도', '눈물', 'vá', '엄', '모기', '있다', '들림', '순간', '쥔쨔', 'té', 'ㅓ', '그게', '아침', 'Mt', '주진', '춥긴', '철제', 'HG', '当然', 'oü', '바닥', '💥', 'ía', 'po', '성', '계신', '쪽', 'oq', '보고', '그냥', 'A4', '초큼', '줘뉸', '오게', '중', 'DU', 'be', '🌟', '05', '📢', '집과', '춪움', 'CU', '괜츈', '높다', '🐕', '이나', '적이', '따많', '뚫는', '23', '역은', '그런', '문이', '자주', '싸진', '먼것', '집', '싸면', 'eo', '쓰는', '🍰', '쪼끔', '놀고', '😇', 'jn', '끄꺼', '끊고', '8a', 'ds', '🤸', '높은', '빨', '3주', 'iż', 'ø', 'bl', '구분', 'mt', 'DE', 'SI', 'Cc', '넓은', '목재', '되고', '어딜', '잠들', '4p', '62', '服务', 'ge', '단위', '😝', '전철', '연인', 'Nº', 'RA', 'Mq', '방향', '환불', 'Ed', '유유', '”', '돠', 'yg', 'z', '3F', '따순', '냐욤', '양념', 'ps', 'IC', 'át', 'll', '매직', 'ví', 'ip', '多的', '해도', '열린', '앞에', '하기', '잡힘', 'Wu', '超棒', '집도', 'Ah', '很赞', 'FB', '많은', '공항', '부터', '근처', 'kw', '记住', 'fo', 'По', '😸', '어쩔', '4м', 'tk', 'ั', '팡팡', '우유', 'μά', 'με', '词典', 'jo', '💓', '치기', '뒤쪽', 'Dr', 'եք', '멋진', '눈치', '78', 'é', 'hã', '18', '갔고', '후회', '꽝', '🦜', '😀', 'AS', 'lt', 'se', '됐다', '씬', 'Js', '8n', '이용', 'FI', '아빠', '아차', 'ID', 'CC', '참고', '-', '외엔', 'pc', '계실', '마니', '날끈', '안이', '所以', 'zH', '맞을', '귀에', 'lV', 'TV', 'ㅣ', 'că', '욕을', '눈뜸', '틀면', '끝에', '영어', 'vh', '🥳', '좍은', 'ต', 'op', '다만', 'Ee', '온수', '🦟', '불이', 'งท', '되며', 'Io', '飲食', 'fe', '‑', '전기', '없기', '깔끔', '✊', 'SF', 'Ao', 'fő', '문은', '•', 'Ir', '도로', '6h', '🏡', '잊고', '超赞', '방엔', '단독', '5개', 'D1', '8m', 'hm', 'ás', '닫고', '춥진', '날이', 'є', '잔', '나', '69', '타도', '차량', '🇧', '그는', '酒吧', '줄까', '👐', 'Je', '2B', '忘记', '선에', '감히', '6х', '애를', '화장', '분과', '다신', 'Mo', 'są', '전과', '거듭', '몇장', '슈퍼', '신경', '알기', '제', '일쩡', '숙소', '헤맬', '않음', '🤕', '다', 'Он', '또는', 'LR', '谢谢', '💗', '긍데', '방의', 'CI', 'О', '🤘', '빠름', '쉬고', '깨끗', 'em', '🙄', '✅', 'ej', 'Le', 'C', '비누', '♂', '맡겨', '등이', '5y', 'DS', '없다', '나와', '편은', '～', 'lå', '그닥', '가요', 'жд', '보면', '써서', '잼과', 'åt', '고루', '그점', '절', '만약', 'BH', '🎶', '맨날', 'vd', 'T0', '‼', '까진', 'ut', '大爱', '😷', '그거', 'Tá', '글고', 'EG', 'Pé', 'lu', 'Tl', 'et', '느낀', 'Ok', '짐만', '갈아', 'п', '죠큼', '잇긴', '정돈', '잡은', '뿐', '49', '묵게', 'dé', '⁍', '🏖', 'V', '大连', '채', '으', 'E3', 'ย', '美丽', '예쁜', 'Св', '마실', '便利', '편히', '못해', '눼시', '*', '내색', 'dà', '79', 'TD', 'su', '整洁', '내로', 'ㅎㅎ', '꺝귄', '달린', '쫄라', '🖤', '3m', 'Oh', 'ja', 'що', '@', '꼽을', '문도', '보여', '잡을', '电车', 'n2', '에', '알려', '🎉', 'BB', '공기', '牛奶', '14', '🤎', 'Sb', '총평', '그에', '安全', 'yy', '강력', '들지', '舒适', '나을', 'AH', 'IO', '오니', '하진', 'uw', '막', 'oo', '좋은', 'sC', 'ça', '역과', '알토', 'Sr', '건', '아무', '1H', '수만', 'cç', '줄이', 'MV', 'Om', '꼐쑉', 'bc', 'Sé', 've', '🌴', '마다', '두어', 'sj', '암튼', '큰커', 'Dc', '£', '보실', 'Ló', '겪지', '넒은', 'à', '갃장', '함깨', '모드', '🍳', '맏길', '걸린', '너뮤', 'ou', '5c', 'el', '버스', '\\u200f', '확정', 'же', '집은', 'MI', '64', 'Tu', '아쉽', 'x6', 'dd', '뜍뚀', 'IG', '오갈', '감고', 'j', 'AR', '쓴', '빼고', '🤭', 'Ci', '、', '细心', '4m', '쫠', '1f', '찾은', '🚵', '햬욥', '츕고', 'Pb', '택시', 'lz', 'а', '🤛', '😁', '🤮', '창만', '1r', '😴', '손에', 'du', '살고', '🪨', '낮고', '열림', '쎄개', 'KO', '아주', '먹음', '비해', 'io', '3楼', 'Te', '크지', '06', 'Wc', '치', '약꺈', '交通', 'PS', 'DG', 'Qu', '밖에', '제발', '자리', '而且', '分鐘', '好', '말로', 'ar', '층을', 'ً', '무릐', '쉽게', '그건', '또', '연락', '내려', '맥주', '것만', '앞인', '필', '챙겨', 'di', 'wd', '적긴', '9o', 'do', '있기', '9시', 'ay', 'ли', '만나', '뙤면', 'Św', 'RS', '맞나', 'lá', 'ā', ';', '조븐', '끈떼', '외부', 'ob', '☮', 'dm', '🇰', '여쟈', '❗', '수준', '잡기', '남자', '많아', 'Üç', '🥰', '길도', 'bs', 'zé', 'UN', '이불', '4g', '된다', '동시', '헌집', '귀를', '朝阳', '실은', '첫날', '튀어', 'ЖД', 'ей', '적합', '도보', '🍃', '37', '缺点', '내고', '존재', '과연', '말모', 'Są', '조지', '맛이', 'tę', '욕실', '한국', 'SU', '天哪', '제일', '가능', '청', '녀뮤', '그리', '멀진', '깨긴', '總之', '☹', 'eu', 'yı', 'ок', 'Là', '갔덙', 'LM', 'Ea', '난방', '물려', 'OK', '길이', '🎨', 'PJ', '얼마', 'IE', '역이', '4º', '쯤', '9h', '明亮', '🌳', 'al', '머물', '법도', '⋯', '싸서', 'y', '🧡', 'Да', '만', 'От', '수는', '살기', '짱짱', '말고', '창', 'rh', 'AM', '🥖', '사이', 'BG', '并且', 'να', 'qe', 'Uf', 'אם', '🥂', 'ne', '맘', 'vo', '푸른', '2х', '같아', '毛巾', '봐도', '4y', '芝士', '몇', '다녀', '걸', 'id', '떠날', '锅铲', '잠뀌', '洗衣', '닦고', '저런', '만든', '치면', '경험', 'tr', '찾아', '駅', '측에', '묵다', '기와', '💭', 'LB', 'ä', '방해', '와도', '더욱', '中文', '5일', '않을', '건식', '할것', '옆에', '열고', '״', '가시', '환경', '뜨는', '🚀', '干净', '전날', '분이', '해결', '뒷', '잘', 'ㅡ', '2O', '대', 'Be', '것', 'dI', 'MS', '🦠', 'BA', '더울', 'tb', '다른', '신고', '🦋', '분리', '그옆', 'g', '해요', '들러', '👨', 'ㅋ', '!', 'ME', 'oí', '쫌', '이고', 'My', '隔音', '쇼핑', '놈모', '용이', '중의', 'XX', 'cc', 'Vê', 'om', 'fl', '벌', '😂', 'pt', 's', 'QG', 'ไว', '눈을', '2º', '된', 'JB', '곳', '해', '🚌', '칼', '돈', '4일', '💍', '빰엣', 'Σε', 'ее', '민망', '마리', 'Er', '있을', '집기', '很棒', '不错', '야는', '묵은', '오후', 'L', 'UG', '눠무', '밪도', '조금', '啤酒', '편의', '🙆', 'ㅏ', '🤨', '＋', '葡', '우린', 'Z', '地鉄', '§', 'að', '전혀', '57', '차', '【', '이내', '8u', '음', '없음', '힘든', 'Jb', 'CD', '레알', 'Oz', '법', '힙한', 'WE', '강의', 'Mu', '고급', '2x', 'rr', '넣어', '온갖', 'DL', '뭐가', '지하', 'bu', '얻고', 'my', '오일', '저', '추가', '역', '일행', '99', 'fu', '갈곳', '별로', 'ไม', '🌱', 'rt', '하니', '🤪', 'HS', 'kt', '본', 'wc', '땐', '컵반', '面吧', 'ET', '있던', '버터', '혹시', '12', 'hé', '很累', '방을', '파란', 'Ve', 'MA', 'ㅜㅜ', '乾淨', '싶어', 'es', '만족', 'ri', 'её', 'A8', 'oú', '나옴', 'Lg', 'Ts', '42', 'uz', 'це', '불러', '휴식', '큰거', '×', '세제', 'ще', '때는', 'τη', '알던', 'οι', '🍪', 'Sí', '넝뭉', 'ij', '\\uf04a', '찻길', '금', '며칠', '곧', 'hf', '3k', '최고', '；', 'פה', '죠음', '버정', '__', '💃', '층인', '오를', '7º', '남겨', '동네', 'İ', 'wy', '95', '꼭', '💕', 'Ту', 'CB', 'E6', '이것', '🍿', '줜나', '열릴', 'Já', '싶을', 'fm', '같을', '쯤에', '됨', '읽고', '채광', 'ㅔ가', '🛏', 'IL', '계단', 'mw', '옮길', 'GG', 'Ni', '길만', '🤓', 'PT', '탄', '4d', '나가', '冰箱', '돼고', 'd', '신식', '양호', 'És', 'EM', '75', 'IV', '트램', '💙', 'вв', 'גם', '없는', '한데', '방만', 'SW', '에나', '3A', 'pp', '72', '真好', '1o', '‚', '이번', '빨리', '82', 'MO', '혼좌', '🍽', 'pè', '쪼금', '뜬', 'Hy', '추움', 'ุ', '보지', 'în', '🍀', '1F', '위험', 'oû', 'их', '있음', '다닐', '아님', '2분', '좁아', '차곤', '방은', '눈이', '일찍', '08', 'In', 'aj', '40', '무링', '花园', '새서', '안', 'D2', '살지', '인지', 'JN', '로', 'de', 'OF', '넘나', '관리', '실제', 'чи', '힘듦', 'Up', '5b', '暖气', '보다', 'DO', '뿐만', 'ñ', 'Я', 'ju', '美甲', '📲', 'yö', '젥곩', 'Co', '전', '뷰를', 'ці', 'Jr', '🚶', '위층', '좁고', '쥬고', 'pq', '도착', 'eb', '멀긴', 'fr', '직접', 'pf', 'Os', 'BE', '틀린', '优点', '약해', 'aI', '88', '쬐끔', '차단', '락이', 'So', '两层', '로망', 'PH', '인해', '체크', '뷰는', '🚂', 'cm', 'we', '안부', 'Об', '迅速', 'ÖV', '짐', '하고', '3⁰', '쫆', '哈哈', '금방', 'uh', '설탕', '생각', 'yp', '않자', '🖒', 'EN', '조명', '바', '3', '몇개', 'Ik', '딱임', 'Eg', 'JS', '요', '》', 'sû', 'AC', '할거', '고세', 'TP', '2t', '22', '걸로', '宽敞', '싸고', '보러', '/', '60', '모두', 'Vu', '細心', 'с', '환상', '˜', 'PV', 'tv', '일부', '키는', '줘서', '물만', 'את', '≤', 'bp', '🧗', 'to', 'Fe', 'Li', '💫', 'pb', '저랑', '도구', '부디', '84', '얼른', '뼐류', 'A1', 'NA', 'SO', '😱', 'ㅁ', '근데', '창이', '났고', '🌶', 'Со', '꽤', '🏠', '这', '나긴', '餐厅', 'ом', 'nå', '’', 'км', 'qq', 'na', '환영', '모여', '영상', 'Ее', '되요', 'Ct', 'ea', '돠만', '🇵', 'Uy', '물론', '그룹', 'vb', 'ee', '검색', '절때', 'fã', 'tí', 'Ga', '락', 'Dl', '지낼', 'N', 'wk', '않고', '83', 'pé', 'Ac', '적은', '샤워', 'Às', 'E', 'х', 'pk', '💤', '보낸', '￼', '잉는', 'Zb', '끄고', '약을', '할인', '곳이', 'bi', 'HI', '제게', '곳은', 'あと', '\\U0001faf1', '들른', 'ry', 'Jó', 'f', '티와', 'šo', '히터', 'wr', '有2', '겸', '5a', '불을', '땨른', 'Fé', '옷을', '소스', '½', 'If', 'ed', '마치', 'ми', 'Mb', '요청', '🧼', 'pó', 'VU', '격의', '손님', '위에', 'JJ', '젥갃', '烤箱', '좁은', 'tó', 'td', '줌', 'Με', '·', 'нв', '린스', '지낸', '좋지', '软', 'pu', 'xx', '봐닥', '방롱', '3층', '가기', '받진', '넚뭆', '45', '28', '쉬울', 'aa', '고생', '😬', 'AZ', '집인', '客厅', 'uo', '[', '👍', 'Fr', 'WP', '단순', '위', '했다', '购物', 'في', '糖', 'bt', '약간', 'Qc', '☔', '😍', '이건', '4분', 'od', '🍷', 'TI', '데가', 'uk', '오는', '머', 'an', '돌로', 'jr', 'Av', '|', '完美', 'so', '\\U000e0067', '바다', 'qm', '마트', 'זו', '역시', '잘은', '소란', 'бо', '편을', '언능', 'TM', '라면', 'Ba', '가고', 'YO', 'ОН', 'út', '말을', '비번', 'се', '밑', '갖고', 'èn', '굳이', 'ק', '位置', '5e', '그릇', '모른', '갑', 'há', 'ж', 'PD', '좋음', '50', '대한', 'St', 'ΤΟ', 'SA', '공사', '세상', '평이', 'Ou', '나를', 'εν', 'ch', '골프', 'ただ', '옆방', '쉽고', '새로', 'IP', 'gg', 'İt', '💩', '열어', 'Go', '．', '의향', 'да', '％', '이면', '침대', '팬이', 'им', '하핳', '4h', 'GO', '층', 'Hi', '쓰기', '차다', '물씬', '>', 'ม', '不大', '너', '우', '？', '한복', '소음', '내는', 'T1', 'l', 'xa', 'ㅔ', '1층', '끈덹', '먹은', 'LC', '내가', '처럼', '🤞', '､', 'EV', '아에', 'YU', 'iе', '：', '올해', '주위', '먼저', 'Má', '그걸', '3M', '관해', 'Lá', 'KY', '주차', '41', 'ㄴ', '아페', '구경', '개에', '타고', '9u', '번쩍', 'pa', '몽트', 'Sq', 'ye', '방음', 'Ή', '7세', 'NW', 'Îl', '전화', '가격', 'ks', '꽉찬', '빵들', 'Pd', '옆인', '💦', '짐이', '다들', '답장', '그외', 'Pó', '🗻', '强推', '덥지', '침실', 'Så', 'Ay', '7m', '해가', '소금', '좋고', '여기', '61', '옥상', '통해', '좁긴', '멀리', '🎄', '놓을', '6E', '남', 'Am', '될', 'ну', '가죽', '8월', 'او', '인', '올때', '5L', '티비', '마중', '개를', '🪴', 'ur', 'RC', '넘', 'Ex', 'מה', '很大', '키로', '마계', '삼일', 'AV', '추운', '까지', 'då', '3è', 'Za', '🌍', '성과', '햬또', '경우', '마약', '만한', 'lé', '\\U000e006c', 'Po', 'hr', '3d', '오직', '🤩', 'Cs', '발', '일정', '됐음', 'まず', '에게', '桌子', 'iy', '🥴', 'כ', 'x3', '쉽진', '듯한', 'Té', '긜고', '작은', 'tą', '💟', '뮬론', 'xu', '👫', 'ba', 'mi', 'GT', '整齐', 'BO', '옆엔', '이유', '쉐시', '같이', '맛집', '직전', 'KM', 'Un', '점', 'cd', 'Al', '곳과', '운이', '여느', '😓', '果酱', '답잉', 'Αν', '먼가', '¤', '04', '🏄', 'FA', 'rs', '창도', '고고', '한병', '쬐금', '️', 'Mi', '쉴', '와', 'סי', '🏼', '후', 'L6', '宽厰', 'си', '부족', '쿠쿵', '준비', 'SÅ', '단어', '찾지', '쫙', '😢', 'го', '조식', 'dá', '찾이', '👌', '아츄', '됐고', '단', '멀면', '죨라', 'uf', '9e', '나쁜', '대로', '̀', 'ze', '일단', '🤜', 'Sė', '不錯', '망치', '춰요', 'γι', '장', '방법', '슬슬', 'sF', '맏아', '웅벌', '5G', '못', '(', 'ㅎ', 'N1', '도', '착함', 'zn', '있쒀', 'Nl', '쎄서', 'FR', '먜우', '혹은', '볼', '저고', '샴프', 'Vo', 'ZB', '상시', 'Ô', 'QR', '🌉', '⛔', '잊지', 'Is', '葡文', '약', '➕', '해야', '수', '알찬', '어린', '_', '안내', 'CP', 'Pr', '76', '날짜', 'зв', 'sé', '3º', 'لـ', 'ᴗ', '만의', '感谢', 'С', 'yn', 'rd', 'LE', '물을', '够热', '80', '져', 'Ad', 'tu', '거임', '지도', '언떡', '짧지', 'לא', '💛', '다쳐', 'ч', '📱', '56', '밤새', '날은', '등을', '타실', '집이', 'ã', '군데', 'fa', 'Wi', '€', '✔', '모습', 'Į', '중간', '있긴', '기타', 'JL', '칼도', '벽도', '점만', '짜진', '나간', 'סך', '역을', '짧고', '4시', '서핑', 'ax', '곳을', '🥶', '77', '유용', '땩', 'jó', '했기', '¿', '6o', '단호', '6m', '33', '납븐', '👩', 'ึ', 'BC', '우비', '熱情', '고른', '자칫', '」', '5è', 'тд', 'SP', 'bé', '무난', '장을', '이를', 'NL', '🍺', '5p', '나고', '就是', '알고', '냄새', '나요', 'UL', '아예', '세고', '★', '쩡쩐', '위의', 'RF', '،', '🌷', 'ão', 'őt', 'nè', '총', '71', 'ㄷ', '담빼', '🎥', '잊을', '뮬을', '심', '자꾸', '쏙', '믿음', '타월', '큰짐', '🤌', '🤍', '놀기', '테니', '2일', '🤤', 'כך', '😥', 'vy', '적', '이루', '수왑', '알게', '맺음', '🚋', 'un', '열지', 'LX', '반', '̛', '뮨을', '6e', '5l', '4인', '🌻', '일러', '해서', 'Cu', '00', '잔뜩', 'Ну', '어떤', 'Iv', '가서', '천장', '펍은', '❤', '저흰', '♡', '앞집', 'NY', '있게', '드실', 'Ja', '물이', '17', '马桶', 'Uh', '가구', 'nu', 'je', 'kā', '위로', 'fy', '\"', 'hs', 'D7', '길을', '드릴', '뷰도', 'Ab', 'EU', 'ik', '파티', '쿠키', 'Nr', '😋', '1m', '보호', 'Т', '있구', '신속', 'A2', '주말', 'Mí', 'יש', '때도', '들도', 'До', 'X', '볼때', '신발', '좋을', 'З', '역도', 'gl', 'ни', '엄쳥', '말도', '点赞', '문의', '쉴수', '물은', 'ух', '94', '😻', '핫한', '🧳', '뷰', '두면', 'За', 'LP', 'js', 'er', '5j', '식탁', '예상', '사기', '청소', '노선', '각오', '쓸', '보니', '2개', '항상', '동안', '36', '꼐딴', 'JM', '타야', '뽴희', '위한', '环境', '🌊', '98', '🐬', '음악', 'dB', '9a', '4박', '근방', 'ин', '길게', '거의', '→', 'ª', '🎀', '열쇠', '하지', '9m', 'Ai', 'és', '쑴', '의사', '딸랑', 'ES', 'È', 'Há', '超市', 'DN', '수납', 'אך', '小', '巴士', '팀의', '천년', '간접', 'Се', 'NJ', 'จ', '🚇', '세', 'Gh', '위치', '커서', '5', '厨房', 'RV', '먼지', 'jM', '구운', 'Or', 'ev', 'DK', '났던', '2층', '`', '음료', '분을', '얼음', '동', '성이', '🏆', '밤엔', 'GF', '앉는', '나름', '키', '세탁', 'QB', 'le', '답이', 'Ki', '자도', '🥐', 'S', '😘', '에어', '댜', 'те', '🔊', '̃', '이틀', 'An', '같긴', '근교', '작지', 'Må', 'TL', 'ㅋㅋ', 'En', '9欧', 'añ', 'b', 'ya', 'sè', 'qu', '있는', '수압', '비용', '시설', 'ét', '옷도', '힘듐', '묵어', '할수', '대해', 'ny', '작동', '😉', '밖', '윗층', '오전', 'UP', '07', 'ad', '2y', '싶게', 'ew', '보기', 'Kh', 'η', '과자', '로컬', 'Wo', '제공', 'Bb', 'Их', '갸진', 'لا', '층간', '4층', 'CO', '핸드', '🇦', 'Mc', '✝', 'SR', '빠른', '짐작', '딥이', '🥞', 'EY', 't4', 'гр', 'mr', '위뤈', '쥔짜', 'Se', '👋', 'яв', 'Cz', '빵읺', '도시', '창을', 'Им', 'HD', '책', '和', '쉰내', '자고', '1s', 'bg', 'הצ', '체감', '안고', '안돼', '식당', '=', '유료', 'či', '걷고', 'nº', '11', '얼리', 'dª', '7분', 'Mr', 'ㄱ', '번호', '했던', '포크', '🇺', 'Ev', '8시', '관련', '손을', '성인', '만날', 'ke', '틈이', 'Ae', '부분', '찧긴', '장난', '나니', 'Ne', '포함', 'As', 'B', '후추', 'со', '빵', 'qr', '🐭', '⁎', 'tI', 'kö', '푸드', '5o', 'і', 'JF', '먹을', '이뻐', '새똥', 'ΤΙ', '쿠', '공동', '저는', '요구', '16', '멀고', '휴', 'lp', '옷장', '1x', '🥮', 'OA', 'ΘΑ', 'Th', '발을', '6y', '⚡', 'Bo', 'הם', '2s', '03', '공용', '🇬', 'LL', 'dê', '讚讚', 'Fá', '허위', '쪽씩', 'тв', '饭厅', '\\u200b', 'H3', 'σε', '수도', '멈', '「', '👯', '🌼', '🥣', '85', '싶다', '☼', '것들', '고장', 'WM', '많이', '빵집', '될듯', 'gi', '차로', '팬은', '😩', '을', '走路', 'mn', '주', '推', '개가', '🍮', '景點', 'ki', 'ÀS', '30', '5x', 'де', 'ду', '거리', 'ём', '날씨', 'Id', '추억', '절댕', 'ี', '뛰고', '참을', '🐝', '갖다', '﹏', '보낼', '⚠', 'ce', '그럼', '有厅', '7e', '😔', '트랩', '구글', 'ô', 'tn', '🙁', 'qi', '멋도', 'пл', '못지', '시내', 'Ez', '내에', 'PL', '상태', '벨렘', '🇫', 'Lu', '선택', 'ู', 'до', '유명', '마켓', '✨', 't2', '이어', '착한', 'ê', '일도', '3박', '없이', '연랅', '움직', 'MB', '감동', '🎇', '놓고', '듀변', '행', '房东', '1y', '평졈', 'si', 'LA', '总之', 'cé', 'NC', '해당', '쬭꿈', 'Km', '무', '으로', '바깥', '🚗', '치안', '너무', '화가', '3H', 'He', '🌸', 'SN', 'cu', '2ª', '받죠', '과일', '🤷', '잃게', '쉬던', 'dx', '쓰지', 'øl', '잠만', 'dz', 'Rs', '👠', 'Ca', '09', '이라', 'Σ', '소품', '2E', '대충', '5m', '67', '잊게', 'nn', 'зі', 'To', 'Ф', '2d', '저를', 'tt', 'hv', '주인', 'Dª', '함께', '喜欢', '생겨', '건데', '쟘이', '아슙', 'ga', '팁을', 'už', 'te', 'Fx', '감안', '4ᵉ', '🚊', '퇴근', '쓰고', 'eg', 'זה', '치고', 'Ru', '기본', 'בו', 'ТВ', '🍊', '좁음', 'у', '등등', 'די', '술', 'ml', '뚸', 'ab', '🦫', 'Sh', '25', '딱', 'б', 'sq', '高度', \"'\", '좋다', '학', '4й', '오실', '드', '돌릴', 'sn', '4k', 'za', '\\U0001faf2', '실고', '졂교', '\\u200d', '산', '것과', '입구', '🐱', '💜', '집잉', 'sr', '핑고', '쪽에', '铁轨', '현지', '🎁', '🐐', '조끔', '«', 'уж', 'av', '빼면', '잠은', 'JG', '오심', 'JE', '즉시', '따로', 'ND', '友善', 'xk', '쯩', '살', 'Sá', 'tô', '😊', '떠나', '공개', '탓에', '리에', '일어', '🧁', '3g', '방문', '有红', '1p', 'ii', 'не', '◉', '7', '묵고', '필수', '보임', '4ª', '자정', '춥게', 'mí', 'sa', '아', '할땐', '쪼꿈', '식빵', '●', '가던', '✌', '같은', 'Zi', 'i', 'Me', '온듯', '블랙', '🍒', '있고', '자는', 'τι', '2H', 'jq', '💑', '구진', '餐具', '할', 'HQ', 'тк', '심한', '이쪽', '작성', '치약', '잘수', '2è', 'Pl', '미쳐', '였고', '안은', 'lf', 'xl', '좋진', 'Vh', 'от', '열자', 'ré', '洗漱', '전통', '예를', '2j', '7h', 'US', '또한', 'où', 'sp', '하하', '뷰와', 'cq', '🍞', 'Gx', '이걸', '주는', '조곰', 'a', 'Но', '친구', '앉아', '棒', '8h', '데를', '중에', '바와', '가장', '으늠', '정도', '청경', '각각', '대비', 'ov', '않게', '두고', '해줄', '🏿', '일몰', 'T3', 'BZ', '\\U000e0073', '것을', '있단', 'ㆍ', '🤗', '많을', '其次', '어디', '룸에', '건물', '뺄쁘', '주요', '훨', '。', 'TE', '켜도', '함정', '추첢', '듣고', '습한', '真是', '권고', 'IF', 'Gb', 'Yr', '즉', 'OY', 'vó', 'me', 'в', 'it', '있지', '되는', 'NE', '해준', '좁지', '데뷔', 'HU', '세번', 'Ça', '진쫘', 'В', 'Og', '상', '짐도', '배려', '도달', '명', '負責', '켤', '간이', 'אז', '올만', '목욕', 'il', '붙여', '편리', 'ФК', 'K', '다님', 'MN', '한쪽', '가득', '이게', '끈뎨', '거고', 'H', '지미', 'WC', '펍이', 'jb', '🤢', '거랑', 'ně', '벨을', '나무', '자서', '우리', '각종', '분', 'ts', 'tj', 'WA', 'zb', 'эл', 'Eh', '문제', 'yr', '풍경', '잘해', '쏘리', 'е', 'Ü', 'rv', 't', '길로', '🕺', '느낄', '장기', 'wa', '곳들', '들릴', 'ci', '好像', 'ig', '말한', 'κ', '🇨', '6Y', '하긴', '2명', 'רך', 'bn', '앉게', '대형', 'شي', '謝謝', 'А', 'os', 'AT', '못할', '투어', '💯', 'MY', '가게', 'Hé', '🎻', 'às', '없을', '하구', '힘듬', '\\U000e0077', 'CM', 'gr', '2b', 'Gd', '周到', '🌺', 'Ei', '잠귀', '열쇄', '수건', 'Вы', 'ㅏ격', '6분', '쵸큼', '깊은', '3G', 'Cç', '없어', 'Hs', 'mb', '흑인', '돼야', '넓지', '정리', 'כי', '몫을', '4K', '아닌', '้', 'ír', 'Si', 'im', '모듀', '등은', '방울', '′', '뺄때', '“', '부담', '😌', 'ft', 'мм', '덮고', '로비', 'ly', '할때', 'из', '역에', 'p', 'bè', '）', '최신', '另外', '싫게', 'Во', '야간', '꽃을', 'RE', '3r', '아래', 'Ár', '물', '멋짐', '물잉', '面包', '지나', 'SC', 'kl', '실내', '8H', '내', '몇번', '배수', '고민', '1º', '키면', 'ので', '쪽문', 'sm', '왜', '줠라', '가는', '장소', '香皂', 'mo', '툼이', 'тп', 'Ms', '🔝', 'vu', '싣고', '구해', '사간', '시', 'On', '⁶', '내의', '2m', 'Es', 'ka', '정오', '가족', '가도', '봤음', '주긴', '01', 'cN', '묵기', '챙ㄱ', '없게', '노래', '1개', 'г', '5u', '조', '今後', 'Ha', 'Fè', 'W', '굿', 'T', '쥬볂', '물로', '작고', '앞을', 'C4', 'з', '갈지', 'Ä', '적극', 'çà', '안에', '烟草', '한시', '뜨지', '낯선', '2e', '사는', 'DM', '주지', '좁을', '酸奶', '돌길', 'yu', 'np', 'N0', '같고', '2a', '🍹', '위해', 'ΤΑ', '☀', 'Hè', 'àl', '지구', 'VF', 'if', '에서', '🇷', 'lì', 'BP', 'ิ', '오픈', 'Gr', 'OM', '주방', '🥵', '麥片', '최종', '6x', 'bd', '과거', 'že', 'öV', 'oF', 'į', '굳', '져는', '温馨', 'só', 'Ap', '만남', 'dó', 'w', '답', 'gd', 'lā', '전반', '추정', '8', '—', 'но', 'Öl', '호텔', 'nC', '티켓', '여행', '옷', 'li', 'AO', '취한', '安静', '운', '씻을', '대체', '폭이', '1A', 'Aí', 'in', 'PM', '因此', '집안', '믿을', 'ő', '썩', 'zó', '구비', 'ㅐ비', '결국', '거실', '느께', 'δε', '딸', '심할', '์', 'fi', 'TA', '무지', '숙박', '3일', '가길', 'TC', 'lê', 'pò', '#', '나갈', 'ex', 'BY', 'Pe', 'a5', '친한', '모든', '견뮬', 'Pt', '4', 'až', '😜', 'אש', '🤝', 'YT', 'ia', '😭', '여태', '안나', '것이', '1G', '🛍', '완전', '후기', '감성', 'EL', 'Ни', '윗집', 'lb', '구조', 'På', '잠이', '이쌍', '큼', 'ΝΑ', '사용', '겁나', '갈수', '지상', '20', '빽운', '속에', '특히', '쵸쿰', '쇼파', 'vs', 'או', '쉬다', 'Ő', '🚿', '싱글', '밑에', 'Ze', '인듯', 'ah', '비행', '꼴딱', '새벽', '🏝', '돈이', 'ко', '超好', '잠', '높지', '꽉', '다소', '׳', '일', '63', '입력', '날도', '안되', 'AN', '신축', '水果', 'Î', '클럽', '집들', '맛난', 'MK', 'xq', '하루', '餐廳', '미친', 'nb', 'CE', '나타', '낀', '룸도', '여는', '이집', '선물', '키고', '四楼', 'Wg', '싹', '\\xad', '얕은', '~', 'บ', '머문', 'DJ', '않아', '말할', 'Dá', '갔던', 'м', 'gf', '올', 'XI', 'sí', 'Va', '내부', '😎', 'DW', '🦁', 'פי', 'IR', '후드', '짐을', 'u', 'к', '쬰나', '오래', '밥도', 'gs', '높고', '놉고', 'аж', '쪼매', '아닝', 'O', '2박', '๑', '👀', ')', '😑', '넘어', '5H', '好评', '🍕', '\\U0001fae7', '0r', '🙇', '±', 'NB', '봐서', '38', '이', '종료', '평소', '공원', '기차', '괜히', '코인', 'A5', '벗고', '1도', '쏘', '싱관', 'їх', '것에', 'ei', '一般', '1e', 'Lé', '잤을', 'ta', 'Мы', '6a', 'τα', '🇮', '넘흣', 'YA', '되지', '오기', 'iv', '감이', 'oä', 'ė', '마뉘', 'Fi', 'on', '02', 'GB', '굴뚝', '씻기', '해욤', '껏', 'Sò', 'Tg', 'bó', '징짱', '3a', '̂', '지금', '한적', 'CA', 'Ob', '비키', '소오', '서서', '넊묶', '이상', 'д', '🎈', '끄는', 'צ', '🧐', '픽업', '했을', 'ak', 'ò', '돌수', 'Η', 'dh', '갈때', '골목', 'NH', 'อย', '🏽', '높교', '올수', '쬬찌', 'IT', '술을', '환기', '포국', '漂亮', '궁전', '1k', '싼게', '예', 'LU', 'él', '59', '이동', '쌓인', '주려', 'à4', '…', 'aí', '더블', '했고', '다를', '전부', '둘', '겹칠', '등도', '편도', '바리', 'її', '분은', '샴푸', '할게', '키를', '우편', '관광', '보통', 'Of', 'sl', '다가', '원룸', '3j', '🙌', '먹고', 'ux', '밤이', 'Kg', '잼만', '방과', '한건', '$', '💐', '팁이', 'r', '마저', '舒服', 'by', 'tè', '😕', '그곳', '컷', '😒', '三层', 'en', 'TO', 'F1', '힘이', '세서', '건조', '잠궈', '정말', 'ko', '문에', 'vc', '오면', 'Є', '잠을', 'Au', 'Xo', 'ln', '몸이', '쓰면', 'q', '늣께', '신대', '점점', '개인', '\\U000e0062', '편함', 'DA', '게', '덜', '말이', '나방', '법을', '그의', 'על', '내릴', 'b4', '่', 'bo', '當然', '1박', '거', '☆', '없뀨', '밋진', '🧚', '편이', 'Mø', '번에', 'Sa', '立地', '\\u200c', '시냐', '지역', 'iw', '걷는', 'об', 'A', '이런', '곳에', '🐶', '6층', '뗄', '{', '톤에', '살짝', '팁', '넓어', 'á', 'בה', '볕이', 'tú', '정이', '문화', '휴지', '기계', '단점', '타러', '밥과', 'Â', 'S2', '충분', '두명', 'ol', 'fà', 'č', '때면', '강과', '되면', 'Qq', '吵', 'Et', '수록', '♾', '틀고', 'wo', '더', '4j', '앞의', '오븐', 'Pç', 'ג', '잇어', 'Ta', 'Из', 'σ', 'KG', '7층', 'st', 'LV', '불', '찾는', 'У', '推荐', 'ht', 'HA', '21', '읬는', '번', '후에', 'nl', '겨우', '싫어', 'סה', '냄비', '아마', '고', 'MM', 'ws', '강추', 'zu', 'já', '🪳', '당긴', '5º', '사람', '좋', '집앞', '맘에', 'a2', 'кг', '밝은', ':', '인상']\n"
     ]
    }
   ],
   "source": [
    "def find_unique_matches(data, column):\n",
    "    # Convert column data to string type (handle NaN values gracefully)\n",
    "    column_data = data[column].astype(str)\n",
    "    \n",
    "    # Concatenate all comments into a single string\n",
    "    all_comments = ' '.join(column_data)\n",
    "    \n",
    "    # Define a regular expression pattern to match small words and punctuation marks\n",
    "    pattern = r'\\b\\w{1,2}\\b|[^\\w\\s]'\n",
    "    \n",
    "    # Find all matches of the pattern in the concatenated string\n",
    "    matches = re.findall(pattern, all_comments)\n",
    "    \n",
    "    # Return unique matches using a set comprehension\n",
    "    return set(matches)\n",
    "\n",
    "\n",
    "unique_matches = find_unique_matches(train_reviews, 'comments')\n",
    "\n",
    "# Print the unique small words and punctuation marks\n",
    "print(\"Unique small words and punctuation marks:\")\n",
    "print(list(unique_matches))\n"
   ]
  },
  {
   "cell_type": "code",
   "execution_count": 41,
   "metadata": {},
   "outputs": [],
   "source": [
    "merged_data = pd.merge(train, train_reviews,  on='houseID', how='left')\n",
    "\n"
   ]
  },
  {
   "cell_type": "code",
   "execution_count": 42,
   "metadata": {},
   "outputs": [
    {
     "data": {
      "text/html": [
       "<div>\n",
       "<style scoped>\n",
       "    .dataframe tbody tr th:only-of-type {\n",
       "        vertical-align: middle;\n",
       "    }\n",
       "\n",
       "    .dataframe tbody tr th {\n",
       "        vertical-align: top;\n",
       "    }\n",
       "\n",
       "    .dataframe thead th {\n",
       "        text-align: right;\n",
       "    }\n",
       "</style>\n",
       "<table border=\"1\" class=\"dataframe\">\n",
       "  <thead>\n",
       "    <tr style=\"text-align: right;\">\n",
       "      <th></th>\n",
       "      <th>houseID</th>\n",
       "      <th>description</th>\n",
       "      <th>host_about</th>\n",
       "      <th>unlisted</th>\n",
       "      <th>language</th>\n",
       "      <th>description_word_count</th>\n",
       "      <th>host_about_word_count</th>\n",
       "      <th>comments</th>\n",
       "      <th>comments_word_count</th>\n",
       "    </tr>\n",
       "  </thead>\n",
       "  <tbody>\n",
       "    <tr>\n",
       "      <th>0</th>\n",
       "      <td>1</td>\n",
       "      <td>This is a shared mixed room in our hostel, wit...</td>\n",
       "      <td>Alojamento Local Registro: 20835/AL</td>\n",
       "      <td>0</td>\n",
       "      <td>en</td>\n",
       "      <td>126</td>\n",
       "      <td>4</td>\n",
       "      <td>this is a very cozy and comfortable house to s...</td>\n",
       "      <td>28.0</td>\n",
       "    </tr>\n",
       "    <tr>\n",
       "      <th>1</th>\n",
       "      <td>1</td>\n",
       "      <td>This is a shared mixed room in our hostel, wit...</td>\n",
       "      <td>Alojamento Local Registro: 20835/AL</td>\n",
       "      <td>0</td>\n",
       "      <td>en</td>\n",
       "      <td>126</td>\n",
       "      <td>4</td>\n",
       "      <td>good&lt;br/&gt;</td>\n",
       "      <td>1.0</td>\n",
       "    </tr>\n",
       "    <tr>\n",
       "      <th>2</th>\n",
       "      <td>1</td>\n",
       "      <td>This is a shared mixed room in our hostel, wit...</td>\n",
       "      <td>Alojamento Local Registro: 20835/AL</td>\n",
       "      <td>0</td>\n",
       "      <td>en</td>\n",
       "      <td>126</td>\n",
       "      <td>4</td>\n",
       "      <td>My first hostel experience, and all I have to ...</td>\n",
       "      <td>261.0</td>\n",
       "    </tr>\n",
       "    <tr>\n",
       "      <th>3</th>\n",
       "      <td>1</td>\n",
       "      <td>This is a shared mixed room in our hostel, wit...</td>\n",
       "      <td>Alojamento Local Registro: 20835/AL</td>\n",
       "      <td>0</td>\n",
       "      <td>en</td>\n",
       "      <td>126</td>\n",
       "      <td>4</td>\n",
       "      <td>Das Hostel war neu und deshalb funktionierte a...</td>\n",
       "      <td>81.0</td>\n",
       "    </tr>\n",
       "    <tr>\n",
       "      <th>4</th>\n",
       "      <td>1</td>\n",
       "      <td>This is a shared mixed room in our hostel, wit...</td>\n",
       "      <td>Alojamento Local Registro: 20835/AL</td>\n",
       "      <td>0</td>\n",
       "      <td>en</td>\n",
       "      <td>126</td>\n",
       "      <td>4</td>\n",
       "      <td>It was fine for a dorm, but I think for the pe...</td>\n",
       "      <td>27.0</td>\n",
       "    </tr>\n",
       "    <tr>\n",
       "      <th>...</th>\n",
       "      <td>...</td>\n",
       "      <td>...</td>\n",
       "      <td>...</td>\n",
       "      <td>...</td>\n",
       "      <td>...</td>\n",
       "      <td>...</td>\n",
       "      <td>...</td>\n",
       "      <td>...</td>\n",
       "      <td>...</td>\n",
       "    </tr>\n",
       "    <tr>\n",
       "      <th>363279</th>\n",
       "      <td>6248</td>\n",
       "      <td>These apartments are very well located in a go...</td>\n",
       "      <td>A base da minha vida é a minha família e a min...</td>\n",
       "      <td>0</td>\n",
       "      <td>en</td>\n",
       "      <td>150</td>\n",
       "      <td>16</td>\n",
       "      <td>The location was perfect. The apartment was ve...</td>\n",
       "      <td>131.0</td>\n",
       "    </tr>\n",
       "    <tr>\n",
       "      <th>363280</th>\n",
       "      <td>6248</td>\n",
       "      <td>These apartments are very well located in a go...</td>\n",
       "      <td>A base da minha vida é a minha família e a min...</td>\n",
       "      <td>0</td>\n",
       "      <td>en</td>\n",
       "      <td>150</td>\n",
       "      <td>16</td>\n",
       "      <td>Ana's place is exactly as described and even b...</td>\n",
       "      <td>80.0</td>\n",
       "    </tr>\n",
       "    <tr>\n",
       "      <th>363281</th>\n",
       "      <td>6248</td>\n",
       "      <td>These apartments are very well located in a go...</td>\n",
       "      <td>A base da minha vida é a minha família e a min...</td>\n",
       "      <td>0</td>\n",
       "      <td>en</td>\n",
       "      <td>150</td>\n",
       "      <td>16</td>\n",
       "      <td>A Ana foi muito atenciosa e preocupou se com o...</td>\n",
       "      <td>23.0</td>\n",
       "    </tr>\n",
       "    <tr>\n",
       "      <th>363282</th>\n",
       "      <td>6248</td>\n",
       "      <td>These apartments are very well located in a go...</td>\n",
       "      <td>A base da minha vida é a minha família e a min...</td>\n",
       "      <td>0</td>\n",
       "      <td>en</td>\n",
       "      <td>150</td>\n",
       "      <td>16</td>\n",
       "      <td>No wifi nor answer. &lt;br/&gt;The wifi can’t be con...</td>\n",
       "      <td>20.0</td>\n",
       "    </tr>\n",
       "    <tr>\n",
       "      <th>363283</th>\n",
       "      <td>6248</td>\n",
       "      <td>These apartments are very well located in a go...</td>\n",
       "      <td>A base da minha vida é a minha família e a min...</td>\n",
       "      <td>0</td>\n",
       "      <td>en</td>\n",
       "      <td>150</td>\n",
       "      <td>16</td>\n",
       "      <td>O espaço é ótimo, a D. Ana foi maravilhosa e f...</td>\n",
       "      <td>41.0</td>\n",
       "    </tr>\n",
       "  </tbody>\n",
       "</table>\n",
       "<p>363284 rows × 9 columns</p>\n",
       "</div>"
      ],
      "text/plain": [
       "        houseID                                        description  \\\n",
       "0             1  This is a shared mixed room in our hostel, wit...   \n",
       "1             1  This is a shared mixed room in our hostel, wit...   \n",
       "2             1  This is a shared mixed room in our hostel, wit...   \n",
       "3             1  This is a shared mixed room in our hostel, wit...   \n",
       "4             1  This is a shared mixed room in our hostel, wit...   \n",
       "...         ...                                                ...   \n",
       "363279     6248  These apartments are very well located in a go...   \n",
       "363280     6248  These apartments are very well located in a go...   \n",
       "363281     6248  These apartments are very well located in a go...   \n",
       "363282     6248  These apartments are very well located in a go...   \n",
       "363283     6248  These apartments are very well located in a go...   \n",
       "\n",
       "                                               host_about  unlisted language  \\\n",
       "0                     Alojamento Local Registro: 20835/AL         0       en   \n",
       "1                     Alojamento Local Registro: 20835/AL         0       en   \n",
       "2                     Alojamento Local Registro: 20835/AL         0       en   \n",
       "3                     Alojamento Local Registro: 20835/AL         0       en   \n",
       "4                     Alojamento Local Registro: 20835/AL         0       en   \n",
       "...                                                   ...       ...      ...   \n",
       "363279  A base da minha vida é a minha família e a min...         0       en   \n",
       "363280  A base da minha vida é a minha família e a min...         0       en   \n",
       "363281  A base da minha vida é a minha família e a min...         0       en   \n",
       "363282  A base da minha vida é a minha família e a min...         0       en   \n",
       "363283  A base da minha vida é a minha família e a min...         0       en   \n",
       "\n",
       "        description_word_count  host_about_word_count  \\\n",
       "0                          126                      4   \n",
       "1                          126                      4   \n",
       "2                          126                      4   \n",
       "3                          126                      4   \n",
       "4                          126                      4   \n",
       "...                        ...                    ...   \n",
       "363279                     150                     16   \n",
       "363280                     150                     16   \n",
       "363281                     150                     16   \n",
       "363282                     150                     16   \n",
       "363283                     150                     16   \n",
       "\n",
       "                                                 comments  comments_word_count  \n",
       "0       this is a very cozy and comfortable house to s...                 28.0  \n",
       "1                                               good<br/>                  1.0  \n",
       "2       My first hostel experience, and all I have to ...                261.0  \n",
       "3       Das Hostel war neu und deshalb funktionierte a...                 81.0  \n",
       "4       It was fine for a dorm, but I think for the pe...                 27.0  \n",
       "...                                                   ...                  ...  \n",
       "363279  The location was perfect. The apartment was ve...                131.0  \n",
       "363280  Ana's place is exactly as described and even b...                 80.0  \n",
       "363281  A Ana foi muito atenciosa e preocupou se com o...                 23.0  \n",
       "363282  No wifi nor answer. <br/>The wifi can’t be con...                 20.0  \n",
       "363283  O espaço é ótimo, a D. Ana foi maravilhosa e f...                 41.0  \n",
       "\n",
       "[363284 rows x 9 columns]"
      ]
     },
     "execution_count": 42,
     "metadata": {},
     "output_type": "execute_result"
    }
   ],
   "source": [
    "merged_data"
   ]
  },
  {
   "cell_type": "code",
   "execution_count": 43,
   "metadata": {},
   "outputs": [
    {
     "data": {
      "text/plain": [
       "houseID                      0\n",
       "description                  0\n",
       "host_about                   0\n",
       "unlisted                     0\n",
       "language                     0\n",
       "description_word_count       0\n",
       "host_about_word_count        0\n",
       "comments                  2003\n",
       "comments_word_count       2003\n",
       "dtype: int64"
      ]
     },
     "execution_count": 43,
     "metadata": {},
     "output_type": "execute_result"
    }
   ],
   "source": [
    "merged_data.isna().sum()"
   ]
  },
  {
   "cell_type": "markdown",
   "metadata": {},
   "source": [
    "# Pre-Process"
   ]
  },
  {
   "cell_type": "markdown",
   "metadata": {},
   "source": [
    "### Removing unecessary columns "
   ]
  },
  {
   "cell_type": "code",
   "execution_count": 44,
   "metadata": {},
   "outputs": [],
   "source": [
    "merged_data.drop([\"host_about\", \"description_word_count\", \"host_about_word_count\", \"comments_word_count\" ], axis=1, inplace=True)"
   ]
  },
  {
   "cell_type": "code",
   "execution_count": 46,
   "metadata": {},
   "outputs": [
    {
     "data": {
      "text/html": [
       "<div>\n",
       "<style scoped>\n",
       "    .dataframe tbody tr th:only-of-type {\n",
       "        vertical-align: middle;\n",
       "    }\n",
       "\n",
       "    .dataframe tbody tr th {\n",
       "        vertical-align: top;\n",
       "    }\n",
       "\n",
       "    .dataframe thead th {\n",
       "        text-align: right;\n",
       "    }\n",
       "</style>\n",
       "<table border=\"1\" class=\"dataframe\">\n",
       "  <thead>\n",
       "    <tr style=\"text-align: right;\">\n",
       "      <th></th>\n",
       "      <th>houseID</th>\n",
       "      <th>description</th>\n",
       "      <th>unlisted</th>\n",
       "      <th>language</th>\n",
       "      <th>comments</th>\n",
       "    </tr>\n",
       "  </thead>\n",
       "  <tbody>\n",
       "    <tr>\n",
       "      <th>0</th>\n",
       "      <td>1</td>\n",
       "      <td>This is a shared mixed room in our hostel, wit...</td>\n",
       "      <td>0</td>\n",
       "      <td>en</td>\n",
       "      <td>this is a very cozy and comfortable house to s...</td>\n",
       "    </tr>\n",
       "    <tr>\n",
       "      <th>1</th>\n",
       "      <td>1</td>\n",
       "      <td>This is a shared mixed room in our hostel, wit...</td>\n",
       "      <td>0</td>\n",
       "      <td>en</td>\n",
       "      <td>good&lt;br/&gt;</td>\n",
       "    </tr>\n",
       "    <tr>\n",
       "      <th>2</th>\n",
       "      <td>1</td>\n",
       "      <td>This is a shared mixed room in our hostel, wit...</td>\n",
       "      <td>0</td>\n",
       "      <td>en</td>\n",
       "      <td>My first hostel experience, and all I have to ...</td>\n",
       "    </tr>\n",
       "    <tr>\n",
       "      <th>3</th>\n",
       "      <td>1</td>\n",
       "      <td>This is a shared mixed room in our hostel, wit...</td>\n",
       "      <td>0</td>\n",
       "      <td>en</td>\n",
       "      <td>Das Hostel war neu und deshalb funktionierte a...</td>\n",
       "    </tr>\n",
       "    <tr>\n",
       "      <th>4</th>\n",
       "      <td>1</td>\n",
       "      <td>This is a shared mixed room in our hostel, wit...</td>\n",
       "      <td>0</td>\n",
       "      <td>en</td>\n",
       "      <td>It was fine for a dorm, but I think for the pe...</td>\n",
       "    </tr>\n",
       "    <tr>\n",
       "      <th>...</th>\n",
       "      <td>...</td>\n",
       "      <td>...</td>\n",
       "      <td>...</td>\n",
       "      <td>...</td>\n",
       "      <td>...</td>\n",
       "    </tr>\n",
       "    <tr>\n",
       "      <th>363279</th>\n",
       "      <td>6248</td>\n",
       "      <td>These apartments are very well located in a go...</td>\n",
       "      <td>0</td>\n",
       "      <td>en</td>\n",
       "      <td>The location was perfect. The apartment was ve...</td>\n",
       "    </tr>\n",
       "    <tr>\n",
       "      <th>363280</th>\n",
       "      <td>6248</td>\n",
       "      <td>These apartments are very well located in a go...</td>\n",
       "      <td>0</td>\n",
       "      <td>en</td>\n",
       "      <td>Ana's place is exactly as described and even b...</td>\n",
       "    </tr>\n",
       "    <tr>\n",
       "      <th>363281</th>\n",
       "      <td>6248</td>\n",
       "      <td>These apartments are very well located in a go...</td>\n",
       "      <td>0</td>\n",
       "      <td>en</td>\n",
       "      <td>A Ana foi muito atenciosa e preocupou se com o...</td>\n",
       "    </tr>\n",
       "    <tr>\n",
       "      <th>363282</th>\n",
       "      <td>6248</td>\n",
       "      <td>These apartments are very well located in a go...</td>\n",
       "      <td>0</td>\n",
       "      <td>en</td>\n",
       "      <td>No wifi nor answer. &lt;br/&gt;The wifi can’t be con...</td>\n",
       "    </tr>\n",
       "    <tr>\n",
       "      <th>363283</th>\n",
       "      <td>6248</td>\n",
       "      <td>These apartments are very well located in a go...</td>\n",
       "      <td>0</td>\n",
       "      <td>en</td>\n",
       "      <td>O espaço é ótimo, a D. Ana foi maravilhosa e f...</td>\n",
       "    </tr>\n",
       "  </tbody>\n",
       "</table>\n",
       "<p>363284 rows × 5 columns</p>\n",
       "</div>"
      ],
      "text/plain": [
       "        houseID                                        description  unlisted  \\\n",
       "0             1  This is a shared mixed room in our hostel, wit...         0   \n",
       "1             1  This is a shared mixed room in our hostel, wit...         0   \n",
       "2             1  This is a shared mixed room in our hostel, wit...         0   \n",
       "3             1  This is a shared mixed room in our hostel, wit...         0   \n",
       "4             1  This is a shared mixed room in our hostel, wit...         0   \n",
       "...         ...                                                ...       ...   \n",
       "363279     6248  These apartments are very well located in a go...         0   \n",
       "363280     6248  These apartments are very well located in a go...         0   \n",
       "363281     6248  These apartments are very well located in a go...         0   \n",
       "363282     6248  These apartments are very well located in a go...         0   \n",
       "363283     6248  These apartments are very well located in a go...         0   \n",
       "\n",
       "       language                                           comments  \n",
       "0            en  this is a very cozy and comfortable house to s...  \n",
       "1            en                                          good<br/>  \n",
       "2            en  My first hostel experience, and all I have to ...  \n",
       "3            en  Das Hostel war neu und deshalb funktionierte a...  \n",
       "4            en  It was fine for a dorm, but I think for the pe...  \n",
       "...         ...                                                ...  \n",
       "363279       en  The location was perfect. The apartment was ve...  \n",
       "363280       en  Ana's place is exactly as described and even b...  \n",
       "363281       en  A Ana foi muito atenciosa e preocupou se com o...  \n",
       "363282       en  No wifi nor answer. <br/>The wifi can’t be con...  \n",
       "363283       en  O espaço é ótimo, a D. Ana foi maravilhosa e f...  \n",
       "\n",
       "[363284 rows x 5 columns]"
      ]
     },
     "execution_count": 46,
     "metadata": {},
     "output_type": "execute_result"
    }
   ],
   "source": [
    "merged_data"
   ]
  },
  {
   "cell_type": "markdown",
   "metadata": {},
   "source": [
    "### Translating"
   ]
  },
  {
   "cell_type": "code",
   "execution_count": 51,
   "metadata": {},
   "outputs": [
    {
     "name": "stdout",
     "output_type": "stream",
     "text": [
      "Collecting googletrans==4.0.0-rc1\n",
      "  Downloading googletrans-4.0.0rc1.tar.gz (20 kB)\n",
      "Collecting httpx==0.13.3\n",
      "  Downloading httpx-0.13.3-py3-none-any.whl (55 kB)\n",
      "Collecting rfc3986<2,>=1.3\n",
      "  Downloading rfc3986-1.5.0-py2.py3-none-any.whl (31 kB)\n",
      "Collecting hstspreload\n",
      "  Downloading hstspreload-2024.5.1-py3-none-any.whl (1.1 MB)\n",
      "Collecting httpcore==0.9.*\n",
      "  Downloading httpcore-0.9.1-py3-none-any.whl (42 kB)\n",
      "Requirement already satisfied: certifi in c:\\users\\barbara\\anaconda3\\lib\\site-packages (from httpx==0.13.3->googletrans==4.0.0-rc1) (2021.10.8)\n",
      "Requirement already satisfied: sniffio in c:\\users\\barbara\\anaconda3\\lib\\site-packages (from httpx==0.13.3->googletrans==4.0.0-rc1) (1.2.0)\n",
      "Collecting chardet==3.*\n",
      "  Downloading chardet-3.0.4-py2.py3-none-any.whl (133 kB)\n",
      "Collecting idna==2.*\n",
      "  Downloading idna-2.10-py2.py3-none-any.whl (58 kB)\n",
      "Collecting h2==3.*\n",
      "  Downloading h2-3.2.0-py2.py3-none-any.whl (65 kB)\n",
      "Collecting h11<0.10,>=0.8\n",
      "  Downloading h11-0.9.0-py2.py3-none-any.whl (53 kB)\n",
      "Collecting hpack<4,>=3.0\n",
      "  Downloading hpack-3.0.0-py2.py3-none-any.whl (38 kB)\n",
      "Collecting hyperframe<6,>=5.2.0\n",
      "  Downloading hyperframe-5.2.0-py2.py3-none-any.whl (12 kB)\n",
      "Building wheels for collected packages: googletrans\n",
      "  Building wheel for googletrans (setup.py): started\n",
      "  Building wheel for googletrans (setup.py): finished with status 'done'\n",
      "  Created wheel for googletrans: filename=googletrans-4.0.0rc1-py3-none-any.whl size=17415 sha256=20a1c5be794aa6e7b547026de6e91adc5e7fd43b7bf4113d06e70734d0b31987\n",
      "  Stored in directory: c:\\users\\barbara\\appdata\\local\\pip\\cache\\wheels\\60\\b3\\27\\d8aff3e2d5c2d0d97a117cdf0d5f13cd121e2c2b5fb49b55a0\n",
      "Successfully built googletrans\n",
      "Installing collected packages: hyperframe, hpack, h2, h11, rfc3986, idna, httpcore, hstspreload, chardet, httpx, googletrans\n",
      "  Attempting uninstall: idna\n",
      "    Found existing installation: idna 3.2\n",
      "    Uninstalling idna-3.2:\n",
      "      Successfully uninstalled idna-3.2\n",
      "  Attempting uninstall: chardet\n",
      "    Found existing installation: chardet 4.0.0\n",
      "    Uninstalling chardet-4.0.0:\n",
      "      Successfully uninstalled chardet-4.0.0\n",
      "Successfully installed chardet-3.0.4 googletrans-4.0.0rc1 h11-0.9.0 h2-3.2.0 hpack-3.0.0 hstspreload-2024.5.1 httpcore-0.9.1 httpx-0.13.3 hyperframe-5.2.0 idna-2.10 rfc3986-1.5.0\n",
      "Note: you may need to restart the kernel to use updated packages.\n"
     ]
    },
    {
     "name": "stderr",
     "output_type": "stream",
     "text": [
      "ERROR: pip's dependency resolver does not currently take into account all the packages that are installed. This behaviour is the source of the following dependency conflicts.\n",
      "spyder 5.1.5 requires pyqt5<5.13, which is not installed.\n",
      "spyder 5.1.5 requires pyqtwebengine<5.13, which is not installed.\n",
      "conda-repo-cli 1.0.4 requires pathlib, which is not installed.\n",
      "anaconda-project 0.10.1 requires ruamel-yaml, which is not installed.\n"
     ]
    }
   ],
   "source": [
    "pip install googletrans==4.0.0-rc1"
   ]
  },
  {
   "cell_type": "code",
   "execution_count": null,
   "metadata": {},
   "outputs": [],
   "source": [
    "from googletrans import Translator\n",
    "\n",
    "def translate_text(text, target_language):\n",
    "    translator = Translator()\n",
    "    translated = translator.translate(text, dest=target_language)\n",
    "    return translated.text\n",
    "\n",
    "target_language = 'en'\n",
    "\n",
    "merged_data['description'].apply(lambda row: translate_text(row['description'], target_language) \n",
    "                                         if row['language'] != target_language else row['description'], \n",
    "                                         axis=1)\n",
    "merged_data['comments'].apply(lambda row: translate_text(row['description'], target_language) \n",
    "                                         if row['language'] != target_language else row['description'], \n",
    "                                         axis=1)"
   ]
  },
  {
   "cell_type": "markdown",
   "metadata": {},
   "source": [
    "### Tokenization"
   ]
  },
  {
   "cell_type": "code",
   "execution_count": 48,
   "metadata": {},
   "outputs": [
    {
     "name": "stderr",
     "output_type": "stream",
     "text": [
      "[nltk_data] Downloading package punkt to\n",
      "[nltk_data]     C:\\Users\\barbara\\AppData\\Roaming\\nltk_data...\n",
      "[nltk_data]   Package punkt is already up-to-date!\n",
      "[nltk_data] Downloading package stopwords to\n",
      "[nltk_data]     C:\\Users\\barbara\\AppData\\Roaming\\nltk_data...\n",
      "[nltk_data]   Package stopwords is already up-to-date!\n",
      "[nltk_data] Downloading package wordnet to\n",
      "[nltk_data]     C:\\Users\\barbara\\AppData\\Roaming\\nltk_data...\n"
     ]
    },
    {
     "data": {
      "text/plain": [
       "True"
      ]
     },
     "execution_count": 48,
     "metadata": {},
     "output_type": "execute_result"
    }
   ],
   "source": [
    "import nltk\n",
    "from nltk.tokenize import word_tokenize\n",
    "import nltk\n",
    "nltk.download('punkt')\n",
    "nltk.download('stopwords')  \n",
    "nltk.download('wordnet')"
   ]
  },
  {
   "cell_type": "code",
   "execution_count": 50,
   "metadata": {},
   "outputs": [
    {
     "ename": "KeyboardInterrupt",
     "evalue": "",
     "output_type": "error",
     "traceback": [
      "\u001b[1;31m---------------------------------------------------------------------------\u001b[0m",
      "\u001b[1;31mKeyboardInterrupt\u001b[0m                         Traceback (most recent call last)",
      "\u001b[1;32m~\\AppData\\Local\\Temp/ipykernel_2812/1079795750.py\u001b[0m in \u001b[0;36m<module>\u001b[1;34m\u001b[0m\n\u001b[1;32m----> 1\u001b[1;33m \u001b[0mmerged_data\u001b[0m\u001b[1;33m[\u001b[0m\u001b[1;34m'description_clean'\u001b[0m\u001b[1;33m]\u001b[0m \u001b[1;33m=\u001b[0m \u001b[0mmerged_data\u001b[0m\u001b[1;33m[\u001b[0m\u001b[1;34m'description'\u001b[0m\u001b[1;33m]\u001b[0m\u001b[1;33m.\u001b[0m\u001b[0mapply\u001b[0m\u001b[1;33m(\u001b[0m\u001b[0mword_tokenize\u001b[0m\u001b[1;33m)\u001b[0m\u001b[1;33m\u001b[0m\u001b[1;33m\u001b[0m\u001b[0m\n\u001b[0m\u001b[0;32m      2\u001b[0m \u001b[0mmerged_data\u001b[0m\u001b[1;33m[\u001b[0m\u001b[1;34m'comments_clean'\u001b[0m\u001b[1;33m]\u001b[0m \u001b[1;33m=\u001b[0m \u001b[0mmerged_data\u001b[0m\u001b[1;33m[\u001b[0m\u001b[1;34m'comments'\u001b[0m\u001b[1;33m]\u001b[0m\u001b[1;33m.\u001b[0m\u001b[0mapply\u001b[0m\u001b[1;33m(\u001b[0m\u001b[0mword_tokenize\u001b[0m\u001b[1;33m)\u001b[0m\u001b[1;33m\u001b[0m\u001b[1;33m\u001b[0m\u001b[0m\n\u001b[0;32m      3\u001b[0m \u001b[1;33m\u001b[0m\u001b[0m\n\u001b[0;32m      4\u001b[0m \u001b[0mmerged_data\u001b[0m\u001b[1;33m.\u001b[0m\u001b[0mhead\u001b[0m\u001b[1;33m(\u001b[0m\u001b[1;33m)\u001b[0m\u001b[1;33m\u001b[0m\u001b[1;33m\u001b[0m\u001b[0m\n",
      "\u001b[1;32m~\\anaconda3\\lib\\site-packages\\pandas\\core\\series.py\u001b[0m in \u001b[0;36mapply\u001b[1;34m(self, func, convert_dtype, args, **kwargs)\u001b[0m\n\u001b[0;32m   4355\u001b[0m         \u001b[0mdtype\u001b[0m\u001b[1;33m:\u001b[0m \u001b[0mfloat64\u001b[0m\u001b[1;33m\u001b[0m\u001b[1;33m\u001b[0m\u001b[0m\n\u001b[0;32m   4356\u001b[0m         \"\"\"\n\u001b[1;32m-> 4357\u001b[1;33m         \u001b[1;32mreturn\u001b[0m \u001b[0mSeriesApply\u001b[0m\u001b[1;33m(\u001b[0m\u001b[0mself\u001b[0m\u001b[1;33m,\u001b[0m \u001b[0mfunc\u001b[0m\u001b[1;33m,\u001b[0m \u001b[0mconvert_dtype\u001b[0m\u001b[1;33m,\u001b[0m \u001b[0margs\u001b[0m\u001b[1;33m,\u001b[0m \u001b[0mkwargs\u001b[0m\u001b[1;33m)\u001b[0m\u001b[1;33m.\u001b[0m\u001b[0mapply\u001b[0m\u001b[1;33m(\u001b[0m\u001b[1;33m)\u001b[0m\u001b[1;33m\u001b[0m\u001b[1;33m\u001b[0m\u001b[0m\n\u001b[0m\u001b[0;32m   4358\u001b[0m \u001b[1;33m\u001b[0m\u001b[0m\n\u001b[0;32m   4359\u001b[0m     def _reduce(\n",
      "\u001b[1;32m~\\anaconda3\\lib\\site-packages\\pandas\\core\\apply.py\u001b[0m in \u001b[0;36mapply\u001b[1;34m(self)\u001b[0m\n\u001b[0;32m   1041\u001b[0m             \u001b[1;32mreturn\u001b[0m \u001b[0mself\u001b[0m\u001b[1;33m.\u001b[0m\u001b[0mapply_str\u001b[0m\u001b[1;33m(\u001b[0m\u001b[1;33m)\u001b[0m\u001b[1;33m\u001b[0m\u001b[1;33m\u001b[0m\u001b[0m\n\u001b[0;32m   1042\u001b[0m \u001b[1;33m\u001b[0m\u001b[0m\n\u001b[1;32m-> 1043\u001b[1;33m         \u001b[1;32mreturn\u001b[0m \u001b[0mself\u001b[0m\u001b[1;33m.\u001b[0m\u001b[0mapply_standard\u001b[0m\u001b[1;33m(\u001b[0m\u001b[1;33m)\u001b[0m\u001b[1;33m\u001b[0m\u001b[1;33m\u001b[0m\u001b[0m\n\u001b[0m\u001b[0;32m   1044\u001b[0m \u001b[1;33m\u001b[0m\u001b[0m\n\u001b[0;32m   1045\u001b[0m     \u001b[1;32mdef\u001b[0m \u001b[0magg\u001b[0m\u001b[1;33m(\u001b[0m\u001b[0mself\u001b[0m\u001b[1;33m)\u001b[0m\u001b[1;33m:\u001b[0m\u001b[1;33m\u001b[0m\u001b[1;33m\u001b[0m\u001b[0m\n",
      "\u001b[1;32m~\\anaconda3\\lib\\site-packages\\pandas\\core\\apply.py\u001b[0m in \u001b[0;36mapply_standard\u001b[1;34m(self)\u001b[0m\n\u001b[0;32m   1096\u001b[0m                 \u001b[1;31m# List[Union[Callable[..., Any], str]]]]]\"; expected\u001b[0m\u001b[1;33m\u001b[0m\u001b[1;33m\u001b[0m\u001b[0m\n\u001b[0;32m   1097\u001b[0m                 \u001b[1;31m# \"Callable[[Any], Any]\"\u001b[0m\u001b[1;33m\u001b[0m\u001b[1;33m\u001b[0m\u001b[0m\n\u001b[1;32m-> 1098\u001b[1;33m                 mapped = lib.map_infer(\n\u001b[0m\u001b[0;32m   1099\u001b[0m                     \u001b[0mvalues\u001b[0m\u001b[1;33m,\u001b[0m\u001b[1;33m\u001b[0m\u001b[1;33m\u001b[0m\u001b[0m\n\u001b[0;32m   1100\u001b[0m                     \u001b[0mf\u001b[0m\u001b[1;33m,\u001b[0m  \u001b[1;31m# type: ignore[arg-type]\u001b[0m\u001b[1;33m\u001b[0m\u001b[1;33m\u001b[0m\u001b[0m\n",
      "\u001b[1;32m~\\anaconda3\\lib\\site-packages\\pandas\\_libs\\lib.pyx\u001b[0m in \u001b[0;36mpandas._libs.lib.map_infer\u001b[1;34m()\u001b[0m\n",
      "\u001b[1;32m~\\anaconda3\\lib\\site-packages\\nltk\\tokenize\\__init__.py\u001b[0m in \u001b[0;36mword_tokenize\u001b[1;34m(text, language, preserve_line)\u001b[0m\n\u001b[0;32m    128\u001b[0m     \"\"\"\n\u001b[0;32m    129\u001b[0m     \u001b[0msentences\u001b[0m \u001b[1;33m=\u001b[0m \u001b[1;33m[\u001b[0m\u001b[0mtext\u001b[0m\u001b[1;33m]\u001b[0m \u001b[1;32mif\u001b[0m \u001b[0mpreserve_line\u001b[0m \u001b[1;32melse\u001b[0m \u001b[0msent_tokenize\u001b[0m\u001b[1;33m(\u001b[0m\u001b[0mtext\u001b[0m\u001b[1;33m,\u001b[0m \u001b[0mlanguage\u001b[0m\u001b[1;33m)\u001b[0m\u001b[1;33m\u001b[0m\u001b[1;33m\u001b[0m\u001b[0m\n\u001b[1;32m--> 130\u001b[1;33m     return [\n\u001b[0m\u001b[0;32m    131\u001b[0m         \u001b[0mtoken\u001b[0m \u001b[1;32mfor\u001b[0m \u001b[0msent\u001b[0m \u001b[1;32min\u001b[0m \u001b[0msentences\u001b[0m \u001b[1;32mfor\u001b[0m \u001b[0mtoken\u001b[0m \u001b[1;32min\u001b[0m \u001b[0m_treebank_word_tokenizer\u001b[0m\u001b[1;33m.\u001b[0m\u001b[0mtokenize\u001b[0m\u001b[1;33m(\u001b[0m\u001b[0msent\u001b[0m\u001b[1;33m)\u001b[0m\u001b[1;33m\u001b[0m\u001b[1;33m\u001b[0m\u001b[0m\n\u001b[0;32m    132\u001b[0m     ]\n",
      "\u001b[1;32m~\\anaconda3\\lib\\site-packages\\nltk\\tokenize\\__init__.py\u001b[0m in \u001b[0;36m<listcomp>\u001b[1;34m(.0)\u001b[0m\n\u001b[0;32m    129\u001b[0m     \u001b[0msentences\u001b[0m \u001b[1;33m=\u001b[0m \u001b[1;33m[\u001b[0m\u001b[0mtext\u001b[0m\u001b[1;33m]\u001b[0m \u001b[1;32mif\u001b[0m \u001b[0mpreserve_line\u001b[0m \u001b[1;32melse\u001b[0m \u001b[0msent_tokenize\u001b[0m\u001b[1;33m(\u001b[0m\u001b[0mtext\u001b[0m\u001b[1;33m,\u001b[0m \u001b[0mlanguage\u001b[0m\u001b[1;33m)\u001b[0m\u001b[1;33m\u001b[0m\u001b[1;33m\u001b[0m\u001b[0m\n\u001b[0;32m    130\u001b[0m     return [\n\u001b[1;32m--> 131\u001b[1;33m         \u001b[0mtoken\u001b[0m \u001b[1;32mfor\u001b[0m \u001b[0msent\u001b[0m \u001b[1;32min\u001b[0m \u001b[0msentences\u001b[0m \u001b[1;32mfor\u001b[0m \u001b[0mtoken\u001b[0m \u001b[1;32min\u001b[0m \u001b[0m_treebank_word_tokenizer\u001b[0m\u001b[1;33m.\u001b[0m\u001b[0mtokenize\u001b[0m\u001b[1;33m(\u001b[0m\u001b[0msent\u001b[0m\u001b[1;33m)\u001b[0m\u001b[1;33m\u001b[0m\u001b[1;33m\u001b[0m\u001b[0m\n\u001b[0m\u001b[0;32m    132\u001b[0m     ]\n",
      "\u001b[1;32m~\\anaconda3\\lib\\site-packages\\nltk\\tokenize\\destructive.py\u001b[0m in \u001b[0;36mtokenize\u001b[1;34m(self, text, convert_parentheses, return_str)\u001b[0m\n\u001b[0;32m    113\u001b[0m     \u001b[1;32mdef\u001b[0m \u001b[0mtokenize\u001b[0m\u001b[1;33m(\u001b[0m\u001b[0mself\u001b[0m\u001b[1;33m,\u001b[0m \u001b[0mtext\u001b[0m\u001b[1;33m,\u001b[0m \u001b[0mconvert_parentheses\u001b[0m\u001b[1;33m=\u001b[0m\u001b[1;32mFalse\u001b[0m\u001b[1;33m,\u001b[0m \u001b[0mreturn_str\u001b[0m\u001b[1;33m=\u001b[0m\u001b[1;32mFalse\u001b[0m\u001b[1;33m)\u001b[0m\u001b[1;33m:\u001b[0m\u001b[1;33m\u001b[0m\u001b[1;33m\u001b[0m\u001b[0m\n\u001b[0;32m    114\u001b[0m         \u001b[1;32mfor\u001b[0m \u001b[0mregexp\u001b[0m\u001b[1;33m,\u001b[0m \u001b[0msubstitution\u001b[0m \u001b[1;32min\u001b[0m \u001b[0mself\u001b[0m\u001b[1;33m.\u001b[0m\u001b[0mSTARTING_QUOTES\u001b[0m\u001b[1;33m:\u001b[0m\u001b[1;33m\u001b[0m\u001b[1;33m\u001b[0m\u001b[0m\n\u001b[1;32m--> 115\u001b[1;33m             \u001b[0mtext\u001b[0m \u001b[1;33m=\u001b[0m \u001b[0mregexp\u001b[0m\u001b[1;33m.\u001b[0m\u001b[0msub\u001b[0m\u001b[1;33m(\u001b[0m\u001b[0msubstitution\u001b[0m\u001b[1;33m,\u001b[0m \u001b[0mtext\u001b[0m\u001b[1;33m)\u001b[0m\u001b[1;33m\u001b[0m\u001b[1;33m\u001b[0m\u001b[0m\n\u001b[0m\u001b[0;32m    116\u001b[0m \u001b[1;33m\u001b[0m\u001b[0m\n\u001b[0;32m    117\u001b[0m         \u001b[1;32mfor\u001b[0m \u001b[0mregexp\u001b[0m\u001b[1;33m,\u001b[0m \u001b[0msubstitution\u001b[0m \u001b[1;32min\u001b[0m \u001b[0mself\u001b[0m\u001b[1;33m.\u001b[0m\u001b[0mPUNCTUATION\u001b[0m\u001b[1;33m:\u001b[0m\u001b[1;33m\u001b[0m\u001b[1;33m\u001b[0m\u001b[0m\n",
      "\u001b[1;31mKeyboardInterrupt\u001b[0m: "
     ]
    }
   ],
   "source": [
    "merged_data['description_clean'] = merged_data['description'].apply(word_tokenize)\n",
    "merged_data['comments_clean'] = merged_data['comments'].apply(word_tokenize)\n",
    "\n",
    "merged_data.head()"
   ]
  },
  {
   "cell_type": "markdown",
   "metadata": {},
   "source": [
    "### Punctuation"
   ]
  },
  {
   "cell_type": "code",
   "execution_count": null,
   "metadata": {},
   "outputs": [],
   "source": [
    "exclude = set(string.punctuation)\n",
    "\n",
    "# Function to remove punctuation from a list of tokens\n",
    "def remove_punctuation(tokens):\n",
    "    return [token for token in tokens if token not in exclude]\n",
    "\n",
    "# Apply remove_punctuation function to 'description_clean' and 'comments_clean' columns\n",
    "merged_data['description_clean'].apply(remove_punctuation)\n",
    "merged_data['comments_clean'].apply(remove_punctuation)\n"
   ]
  },
  {
   "cell_type": "markdown",
   "metadata": {},
   "source": [
    "### Lowercasing "
   ]
  },
  {
   "cell_type": "code",
   "execution_count": null,
   "metadata": {},
   "outputs": [],
   "source": [
    "merged_data['description_clean'].lower()\n",
    "merged_data['comments_clean'].lower()"
   ]
  },
  {
   "cell_type": "markdown",
   "metadata": {},
   "source": [
    "### Stemming and lemmatization"
   ]
  },
  {
   "cell_type": "code",
   "execution_count": null,
   "metadata": {},
   "outputs": [],
   "source": []
  }
 ],
 "metadata": {
  "kernelspec": {
   "display_name": "Python 3 (ipykernel)",
   "language": "python",
   "name": "python3"
  },
  "language_info": {
   "codemirror_mode": {
    "name": "ipython",
    "version": 3
   },
   "file_extension": ".py",
   "mimetype": "text/x-python",
   "name": "python",
   "nbconvert_exporter": "python",
   "pygments_lexer": "ipython3",
   "version": "3.9.7"
  }
 },
 "nbformat": 4,
 "nbformat_minor": 2
}
