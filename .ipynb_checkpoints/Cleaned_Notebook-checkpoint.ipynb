{
 "cells": [
  {
   "cell_type": "markdown",
   "id": "cacf08ca-6902-4c78-a528-8cbce04b846b",
   "metadata": {},
   "source": [
    "# Text Mining Project"
   ]
  },
  {
   "cell_type": "markdown",
   "id": "63d17763-8e20-48d6-8ad9-a3f26fda53ca",
   "metadata": {},
   "source": [
    "Description"
   ]
  },
  {
   "cell_type": "markdown",
   "id": "c0fa0119-6076-4b91-881e-e066e9106ee7",
   "metadata": {},
   "source": [
    "## 1. Installs and Imports"
   ]
  },
  {
   "cell_type": "code",
   "execution_count": 1,
   "id": "4c2fffce-6ced-41bc-a87b-dcdbde784781",
   "metadata": {},
   "outputs": [],
   "source": [
    "#pip install pandas\n",
    "#!pip install langdetect\n",
    "#!pip install matplotlib\n",
    "#!pip install seaborn \n",
    "#!pip install re\n",
    "#!pip install openpyxl"
   ]
  },
  {
   "cell_type": "code",
   "execution_count": 2,
   "id": "d6f96024-d2c6-4dd6-813b-e9a26e2daa90",
   "metadata": {},
   "outputs": [],
   "source": [
    "import pandas as pd\n",
    "from langdetect import detect\n",
    "import matplotlib.pyplot as plt\n",
    "import seaborn as sns\n",
    "import re"
   ]
  },
  {
   "cell_type": "markdown",
   "id": "53bc6a7b-c40f-4f77-a1b8-8e0dde1badf1",
   "metadata": {},
   "source": [
    "## 2. Data Exploration"
   ]
  },
  {
   "cell_type": "markdown",
   "id": "58135179-f638-401a-9caf-4a0642e8a61b",
   "metadata": {},
   "source": [
    "**Checking if data was loaded Correctly**"
   ]
  },
  {
   "cell_type": "code",
   "execution_count": 3,
   "id": "32b22f9f-3c77-4e45-b5fa-0914c092af0a",
   "metadata": {},
   "outputs": [],
   "source": [
    "train = pd.read_excel(\"train.xlsx\")\n",
    "train_reviews = pd.read_excel(\"train_reviews.xlsx\")\n",
    "test = pd.read_excel(\"test.xlsx\")\n",
    "test_reviews = pd.read_excel(\"test_reviews.xlsx\")"
   ]
  },
  {
   "cell_type": "code",
   "execution_count": 4,
   "id": "5887eaaa-4a51-4c0e-a18b-3cfcdf2a43c1",
   "metadata": {},
   "outputs": [
    {
     "data": {
      "text/html": [
       "<div>\n",
       "<style scoped>\n",
       "    .dataframe tbody tr th:only-of-type {\n",
       "        vertical-align: middle;\n",
       "    }\n",
       "\n",
       "    .dataframe tbody tr th {\n",
       "        vertical-align: top;\n",
       "    }\n",
       "\n",
       "    .dataframe thead th {\n",
       "        text-align: right;\n",
       "    }\n",
       "</style>\n",
       "<table border=\"1\" class=\"dataframe\">\n",
       "  <thead>\n",
       "    <tr style=\"text-align: right;\">\n",
       "      <th></th>\n",
       "      <th>index</th>\n",
       "      <th>description</th>\n",
       "      <th>host_about</th>\n",
       "      <th>unlisted</th>\n",
       "    </tr>\n",
       "  </thead>\n",
       "  <tbody>\n",
       "    <tr>\n",
       "      <th>0</th>\n",
       "      <td>1</td>\n",
       "      <td>This is a shared mixed room in our hostel, wit...</td>\n",
       "      <td>Alojamento Local Registro: 20835/AL</td>\n",
       "      <td>0</td>\n",
       "    </tr>\n",
       "    <tr>\n",
       "      <th>1</th>\n",
       "      <td>2</td>\n",
       "      <td>O meu espaço fica perto de Parque Eduardo VII,...</td>\n",
       "      <td>I am friendly host, and I will try to always b...</td>\n",
       "      <td>1</td>\n",
       "    </tr>\n",
       "    <tr>\n",
       "      <th>2</th>\n",
       "      <td>3</td>\n",
       "      <td>Trafaria’s House is a cozy and familiar villa ...</td>\n",
       "      <td>I am a social person liking to communicate, re...</td>\n",
       "      <td>1</td>\n",
       "    </tr>\n",
       "    <tr>\n",
       "      <th>3</th>\n",
       "      <td>4</td>\n",
       "      <td>Apartamento Charmoso no Chiado, Entre o Largo ...</td>\n",
       "      <td>Hello!_x000D_\\nI m Portuguese and i love to me...</td>\n",
       "      <td>0</td>\n",
       "    </tr>\n",
       "    <tr>\n",
       "      <th>4</th>\n",
       "      <td>5</td>\n",
       "      <td>Joli appartement  en bordure de mer.&lt;br /&gt; 2 m...</td>\n",
       "      <td>Nous sommes une famille avec deux enfants de 1...</td>\n",
       "      <td>0</td>\n",
       "    </tr>\n",
       "  </tbody>\n",
       "</table>\n",
       "</div>"
      ],
      "text/plain": [
       "   index                                        description  \\\n",
       "0      1  This is a shared mixed room in our hostel, wit...   \n",
       "1      2  O meu espaço fica perto de Parque Eduardo VII,...   \n",
       "2      3  Trafaria’s House is a cozy and familiar villa ...   \n",
       "3      4  Apartamento Charmoso no Chiado, Entre o Largo ...   \n",
       "4      5  Joli appartement  en bordure de mer.<br /> 2 m...   \n",
       "\n",
       "                                          host_about  unlisted  \n",
       "0                Alojamento Local Registro: 20835/AL         0  \n",
       "1  I am friendly host, and I will try to always b...         1  \n",
       "2  I am a social person liking to communicate, re...         1  \n",
       "3  Hello!_x000D_\\nI m Portuguese and i love to me...         0  \n",
       "4  Nous sommes une famille avec deux enfants de 1...         0  "
      ]
     },
     "execution_count": 4,
     "metadata": {},
     "output_type": "execute_result"
    }
   ],
   "source": [
    "train.head(5)"
   ]
  },
  {
   "cell_type": "code",
   "execution_count": 5,
   "id": "b0e2eac8-2081-40e9-acea-315d5fafa745",
   "metadata": {},
   "outputs": [
    {
     "data": {
      "text/html": [
       "<div>\n",
       "<style scoped>\n",
       "    .dataframe tbody tr th:only-of-type {\n",
       "        vertical-align: middle;\n",
       "    }\n",
       "\n",
       "    .dataframe tbody tr th {\n",
       "        vertical-align: top;\n",
       "    }\n",
       "\n",
       "    .dataframe thead th {\n",
       "        text-align: right;\n",
       "    }\n",
       "</style>\n",
       "<table border=\"1\" class=\"dataframe\">\n",
       "  <thead>\n",
       "    <tr style=\"text-align: right;\">\n",
       "      <th></th>\n",
       "      <th>index</th>\n",
       "      <th>comments</th>\n",
       "    </tr>\n",
       "  </thead>\n",
       "  <tbody>\n",
       "    <tr>\n",
       "      <th>0</th>\n",
       "      <td>1</td>\n",
       "      <td>this is a very cozy and comfortable house to s...</td>\n",
       "    </tr>\n",
       "    <tr>\n",
       "      <th>1</th>\n",
       "      <td>1</td>\n",
       "      <td>good&lt;br/&gt;</td>\n",
       "    </tr>\n",
       "    <tr>\n",
       "      <th>2</th>\n",
       "      <td>1</td>\n",
       "      <td>My first hostel experience, and all I have to ...</td>\n",
       "    </tr>\n",
       "    <tr>\n",
       "      <th>3</th>\n",
       "      <td>1</td>\n",
       "      <td>Das Hostel war neu und deshalb funktionierte a...</td>\n",
       "    </tr>\n",
       "    <tr>\n",
       "      <th>4</th>\n",
       "      <td>1</td>\n",
       "      <td>It was fine for a dorm, but I think for the pe...</td>\n",
       "    </tr>\n",
       "  </tbody>\n",
       "</table>\n",
       "</div>"
      ],
      "text/plain": [
       "   index                                           comments\n",
       "0      1  this is a very cozy and comfortable house to s...\n",
       "1      1                                          good<br/>\n",
       "2      1  My first hostel experience, and all I have to ...\n",
       "3      1  Das Hostel war neu und deshalb funktionierte a...\n",
       "4      1  It was fine for a dorm, but I think for the pe..."
      ]
     },
     "execution_count": 5,
     "metadata": {},
     "output_type": "execute_result"
    }
   ],
   "source": [
    "train_reviews.head(5)"
   ]
  },
  {
   "cell_type": "code",
   "execution_count": 6,
   "id": "22bd139d-4d50-42a2-bd5d-5fe9ae6ade41",
   "metadata": {},
   "outputs": [
    {
     "data": {
      "text/html": [
       "<div>\n",
       "<style scoped>\n",
       "    .dataframe tbody tr th:only-of-type {\n",
       "        vertical-align: middle;\n",
       "    }\n",
       "\n",
       "    .dataframe tbody tr th {\n",
       "        vertical-align: top;\n",
       "    }\n",
       "\n",
       "    .dataframe thead th {\n",
       "        text-align: right;\n",
       "    }\n",
       "</style>\n",
       "<table border=\"1\" class=\"dataframe\">\n",
       "  <thead>\n",
       "    <tr style=\"text-align: right;\">\n",
       "      <th></th>\n",
       "      <th>index</th>\n",
       "      <th>description</th>\n",
       "      <th>host_about</th>\n",
       "    </tr>\n",
       "  </thead>\n",
       "  <tbody>\n",
       "    <tr>\n",
       "      <th>0</th>\n",
       "      <td>1</td>\n",
       "      <td>&lt;b&gt;The space&lt;/b&gt;&lt;br /&gt;Apartment located in the...</td>\n",
       "      <td>Gosto de viajar, de conhecer pessoas, gosto de...</td>\n",
       "    </tr>\n",
       "    <tr>\n",
       "      <th>1</th>\n",
       "      <td>2</td>\n",
       "      <td>IMPORTANT: In response to COVID-19, this prope...</td>\n",
       "      <td>We are the be@home Team!\\n\\nYou can count on u...</td>\n",
       "    </tr>\n",
       "    <tr>\n",
       "      <th>2</th>\n",
       "      <td>3</td>\n",
       "      <td>Bright, beautiful, and spacious. This four-bed...</td>\n",
       "      <td>Hi there!\\n\\nWe're GuestReady, a professional ...</td>\n",
       "    </tr>\n",
       "    <tr>\n",
       "      <th>3</th>\n",
       "      <td>4</td>\n",
       "      <td>Charming Apartment Close to the Bay of Cascais...</td>\n",
       "      <td>:)</td>\n",
       "    </tr>\n",
       "    <tr>\n",
       "      <th>4</th>\n",
       "      <td>5</td>\n",
       "      <td>Se procura umas férias perto da praia, casino ...</td>\n",
       "      <td>Bem vindos a Portugal!_x000D_\\nAdoro o meu Paí...</td>\n",
       "    </tr>\n",
       "  </tbody>\n",
       "</table>\n",
       "</div>"
      ],
      "text/plain": [
       "   index                                        description  \\\n",
       "0      1  <b>The space</b><br />Apartment located in the...   \n",
       "1      2  IMPORTANT: In response to COVID-19, this prope...   \n",
       "2      3  Bright, beautiful, and spacious. This four-bed...   \n",
       "3      4  Charming Apartment Close to the Bay of Cascais...   \n",
       "4      5  Se procura umas férias perto da praia, casino ...   \n",
       "\n",
       "                                          host_about  \n",
       "0  Gosto de viajar, de conhecer pessoas, gosto de...  \n",
       "1  We are the be@home Team!\\n\\nYou can count on u...  \n",
       "2  Hi there!\\n\\nWe're GuestReady, a professional ...  \n",
       "3                                                 :)  \n",
       "4  Bem vindos a Portugal!_x000D_\\nAdoro o meu Paí...  "
      ]
     },
     "execution_count": 6,
     "metadata": {},
     "output_type": "execute_result"
    }
   ],
   "source": [
    "test.head(5)"
   ]
  },
  {
   "cell_type": "code",
   "execution_count": 7,
   "id": "f82ac50f-81f7-4a28-b41d-1410b62ebd01",
   "metadata": {},
   "outputs": [
    {
     "data": {
      "text/html": [
       "<div>\n",
       "<style scoped>\n",
       "    .dataframe tbody tr th:only-of-type {\n",
       "        vertical-align: middle;\n",
       "    }\n",
       "\n",
       "    .dataframe tbody tr th {\n",
       "        vertical-align: top;\n",
       "    }\n",
       "\n",
       "    .dataframe thead th {\n",
       "        text-align: right;\n",
       "    }\n",
       "</style>\n",
       "<table border=\"1\" class=\"dataframe\">\n",
       "  <thead>\n",
       "    <tr style=\"text-align: right;\">\n",
       "      <th></th>\n",
       "      <th>index</th>\n",
       "      <th>comments</th>\n",
       "    </tr>\n",
       "  </thead>\n",
       "  <tbody>\n",
       "    <tr>\n",
       "      <th>0</th>\n",
       "      <td>1</td>\n",
       "      <td>Thank you very much Antonio ! All has been per...</td>\n",
       "    </tr>\n",
       "    <tr>\n",
       "      <th>1</th>\n",
       "      <td>1</td>\n",
       "      <td>Very nice appartment in the old town of Lissab...</td>\n",
       "    </tr>\n",
       "    <tr>\n",
       "      <th>2</th>\n",
       "      <td>1</td>\n",
       "      <td>When travelling we're looking for kids friendl...</td>\n",
       "    </tr>\n",
       "    <tr>\n",
       "      <th>3</th>\n",
       "      <td>1</td>\n",
       "      <td>We've been in Lisbon in march 2013 (3 adults a...</td>\n",
       "    </tr>\n",
       "    <tr>\n",
       "      <th>4</th>\n",
       "      <td>1</td>\n",
       "      <td>Our host Antonio was very helpful with informa...</td>\n",
       "    </tr>\n",
       "  </tbody>\n",
       "</table>\n",
       "</div>"
      ],
      "text/plain": [
       "   index                                           comments\n",
       "0      1  Thank you very much Antonio ! All has been per...\n",
       "1      1  Very nice appartment in the old town of Lissab...\n",
       "2      1  When travelling we're looking for kids friendl...\n",
       "3      1  We've been in Lisbon in march 2013 (3 adults a...\n",
       "4      1  Our host Antonio was very helpful with informa..."
      ]
     },
     "execution_count": 7,
     "metadata": {},
     "output_type": "execute_result"
    }
   ],
   "source": [
    "test_reviews.head(5)"
   ]
  },
  {
   "cell_type": "markdown",
   "id": "46be76c3-e2a3-47bf-b673-88e5dbe820a3",
   "metadata": {},
   "source": [
    "**Everything looks fine**"
   ]
  },
  {
   "cell_type": "code",
   "execution_count": 8,
   "id": "0222f72e-9e59-4bba-a7f3-dc8d3587c15c",
   "metadata": {},
   "outputs": [
    {
     "name": "stdout",
     "output_type": "stream",
     "text": [
      "train shape: (6248, 4)\n",
      "train_reviews shape: (361281, 2)\n",
      "test shape: (695, 3)\n",
      "test_reviews shape: (41866, 2)\n"
     ]
    }
   ],
   "source": [
    "print(\"train shape:\", train.shape)\n",
    "print(\"train_reviews shape:\", train_reviews.shape)\n",
    "print(\"test shape:\", test.shape)\n",
    "print(\"test_reviews shape:\", test_reviews.shape)"
   ]
  },
  {
   "cell_type": "markdown",
   "id": "089d544d-66f3-438b-a242-a86f828123ec",
   "metadata": {},
   "source": [
    "### 2.1 Index Fix"
   ]
  },
  {
   "cell_type": "markdown",
   "id": "a4036f99-6451-4106-9f6e-6b30ee646852",
   "metadata": {},
   "source": [
    "**In the dataset, the index column has repeating values, which likely indicate that each value corresponds to a specific house. To enhance clarity, we will rename this column to 'house ID'.**"
   ]
  },
  {
   "cell_type": "code",
   "execution_count": 18,
   "id": "e409d975-273b-4215-afa3-66cefcd00a40",
   "metadata": {},
   "outputs": [
    {
     "ename": "KeyError",
     "evalue": "\"['index'] not found in axis\"",
     "output_type": "error",
     "traceback": [
      "\u001b[1;31m---------------------------------------------------------------------------\u001b[0m",
      "\u001b[1;31mKeyError\u001b[0m                                  Traceback (most recent call last)",
      "Cell \u001b[1;32mIn[18], line 4\u001b[0m\n\u001b[0;32m      2\u001b[0m train[\u001b[38;5;124m'\u001b[39m\u001b[38;5;124mhouseID\u001b[39m\u001b[38;5;124m'\u001b[39m] \u001b[38;5;241m=\u001b[39m train\u001b[38;5;241m.\u001b[39mindex  \u001b[38;5;66;03m# Create 'houseID' column with index values\u001b[39;00m\n\u001b[0;32m      3\u001b[0m train\u001b[38;5;241m.\u001b[39mset_index(\u001b[38;5;124m'\u001b[39m\u001b[38;5;124mhouseID\u001b[39m\u001b[38;5;124m'\u001b[39m, inplace\u001b[38;5;241m=\u001b[39m\u001b[38;5;28;01mTrue\u001b[39;00m)  \u001b[38;5;66;03m# Set 'houseID' as the new index\u001b[39;00m\n\u001b[1;32m----> 4\u001b[0m train\u001b[38;5;241m.\u001b[39mdrop(columns\u001b[38;5;241m=\u001b[39m[\u001b[38;5;124m'\u001b[39m\u001b[38;5;124mindex\u001b[39m\u001b[38;5;124m'\u001b[39m], inplace\u001b[38;5;241m=\u001b[39m\u001b[38;5;28;01mTrue\u001b[39;00m)  \u001b[38;5;66;03m# Remove the column named 'index'\u001b[39;00m\n\u001b[0;32m      6\u001b[0m \u001b[38;5;66;03m# For train_reviews DataFrame\u001b[39;00m\n\u001b[0;32m      7\u001b[0m train_reviews[\u001b[38;5;124m'\u001b[39m\u001b[38;5;124mhouseID\u001b[39m\u001b[38;5;124m'\u001b[39m] \u001b[38;5;241m=\u001b[39m train_reviews\u001b[38;5;241m.\u001b[39mindex\n",
      "File \u001b[1;32m~\\anaconda3\\envs\\TextMining\\Lib\\site-packages\\pandas\\core\\frame.py:5581\u001b[0m, in \u001b[0;36mDataFrame.drop\u001b[1;34m(self, labels, axis, index, columns, level, inplace, errors)\u001b[0m\n\u001b[0;32m   5433\u001b[0m \u001b[38;5;28;01mdef\u001b[39;00m \u001b[38;5;21mdrop\u001b[39m(\n\u001b[0;32m   5434\u001b[0m     \u001b[38;5;28mself\u001b[39m,\n\u001b[0;32m   5435\u001b[0m     labels: IndexLabel \u001b[38;5;241m|\u001b[39m \u001b[38;5;28;01mNone\u001b[39;00m \u001b[38;5;241m=\u001b[39m \u001b[38;5;28;01mNone\u001b[39;00m,\n\u001b[1;32m   (...)\u001b[0m\n\u001b[0;32m   5442\u001b[0m     errors: IgnoreRaise \u001b[38;5;241m=\u001b[39m \u001b[38;5;124m\"\u001b[39m\u001b[38;5;124mraise\u001b[39m\u001b[38;5;124m\"\u001b[39m,\n\u001b[0;32m   5443\u001b[0m ) \u001b[38;5;241m-\u001b[39m\u001b[38;5;241m>\u001b[39m DataFrame \u001b[38;5;241m|\u001b[39m \u001b[38;5;28;01mNone\u001b[39;00m:\n\u001b[0;32m   5444\u001b[0m \u001b[38;5;250m    \u001b[39m\u001b[38;5;124;03m\"\"\"\u001b[39;00m\n\u001b[0;32m   5445\u001b[0m \u001b[38;5;124;03m    Drop specified labels from rows or columns.\u001b[39;00m\n\u001b[0;32m   5446\u001b[0m \n\u001b[1;32m   (...)\u001b[0m\n\u001b[0;32m   5579\u001b[0m \u001b[38;5;124;03m            weight  1.0     0.8\u001b[39;00m\n\u001b[0;32m   5580\u001b[0m \u001b[38;5;124;03m    \"\"\"\u001b[39;00m\n\u001b[1;32m-> 5581\u001b[0m     \u001b[38;5;28;01mreturn\u001b[39;00m \u001b[38;5;28msuper\u001b[39m()\u001b[38;5;241m.\u001b[39mdrop(\n\u001b[0;32m   5582\u001b[0m         labels\u001b[38;5;241m=\u001b[39mlabels,\n\u001b[0;32m   5583\u001b[0m         axis\u001b[38;5;241m=\u001b[39maxis,\n\u001b[0;32m   5584\u001b[0m         index\u001b[38;5;241m=\u001b[39mindex,\n\u001b[0;32m   5585\u001b[0m         columns\u001b[38;5;241m=\u001b[39mcolumns,\n\u001b[0;32m   5586\u001b[0m         level\u001b[38;5;241m=\u001b[39mlevel,\n\u001b[0;32m   5587\u001b[0m         inplace\u001b[38;5;241m=\u001b[39minplace,\n\u001b[0;32m   5588\u001b[0m         errors\u001b[38;5;241m=\u001b[39merrors,\n\u001b[0;32m   5589\u001b[0m     )\n",
      "File \u001b[1;32m~\\anaconda3\\envs\\TextMining\\Lib\\site-packages\\pandas\\core\\generic.py:4788\u001b[0m, in \u001b[0;36mNDFrame.drop\u001b[1;34m(self, labels, axis, index, columns, level, inplace, errors)\u001b[0m\n\u001b[0;32m   4786\u001b[0m \u001b[38;5;28;01mfor\u001b[39;00m axis, labels \u001b[38;5;129;01min\u001b[39;00m axes\u001b[38;5;241m.\u001b[39mitems():\n\u001b[0;32m   4787\u001b[0m     \u001b[38;5;28;01mif\u001b[39;00m labels \u001b[38;5;129;01mis\u001b[39;00m \u001b[38;5;129;01mnot\u001b[39;00m \u001b[38;5;28;01mNone\u001b[39;00m:\n\u001b[1;32m-> 4788\u001b[0m         obj \u001b[38;5;241m=\u001b[39m obj\u001b[38;5;241m.\u001b[39m_drop_axis(labels, axis, level\u001b[38;5;241m=\u001b[39mlevel, errors\u001b[38;5;241m=\u001b[39merrors)\n\u001b[0;32m   4790\u001b[0m \u001b[38;5;28;01mif\u001b[39;00m inplace:\n\u001b[0;32m   4791\u001b[0m     \u001b[38;5;28mself\u001b[39m\u001b[38;5;241m.\u001b[39m_update_inplace(obj)\n",
      "File \u001b[1;32m~\\anaconda3\\envs\\TextMining\\Lib\\site-packages\\pandas\\core\\generic.py:4830\u001b[0m, in \u001b[0;36mNDFrame._drop_axis\u001b[1;34m(self, labels, axis, level, errors, only_slice)\u001b[0m\n\u001b[0;32m   4828\u001b[0m         new_axis \u001b[38;5;241m=\u001b[39m axis\u001b[38;5;241m.\u001b[39mdrop(labels, level\u001b[38;5;241m=\u001b[39mlevel, errors\u001b[38;5;241m=\u001b[39merrors)\n\u001b[0;32m   4829\u001b[0m     \u001b[38;5;28;01melse\u001b[39;00m:\n\u001b[1;32m-> 4830\u001b[0m         new_axis \u001b[38;5;241m=\u001b[39m axis\u001b[38;5;241m.\u001b[39mdrop(labels, errors\u001b[38;5;241m=\u001b[39merrors)\n\u001b[0;32m   4831\u001b[0m     indexer \u001b[38;5;241m=\u001b[39m axis\u001b[38;5;241m.\u001b[39mget_indexer(new_axis)\n\u001b[0;32m   4833\u001b[0m \u001b[38;5;66;03m# Case for non-unique axis\u001b[39;00m\n\u001b[0;32m   4834\u001b[0m \u001b[38;5;28;01melse\u001b[39;00m:\n",
      "File \u001b[1;32m~\\anaconda3\\envs\\TextMining\\Lib\\site-packages\\pandas\\core\\indexes\\base.py:7070\u001b[0m, in \u001b[0;36mIndex.drop\u001b[1;34m(self, labels, errors)\u001b[0m\n\u001b[0;32m   7068\u001b[0m \u001b[38;5;28;01mif\u001b[39;00m mask\u001b[38;5;241m.\u001b[39many():\n\u001b[0;32m   7069\u001b[0m     \u001b[38;5;28;01mif\u001b[39;00m errors \u001b[38;5;241m!=\u001b[39m \u001b[38;5;124m\"\u001b[39m\u001b[38;5;124mignore\u001b[39m\u001b[38;5;124m\"\u001b[39m:\n\u001b[1;32m-> 7070\u001b[0m         \u001b[38;5;28;01mraise\u001b[39;00m \u001b[38;5;167;01mKeyError\u001b[39;00m(\u001b[38;5;124mf\u001b[39m\u001b[38;5;124m\"\u001b[39m\u001b[38;5;132;01m{\u001b[39;00mlabels[mask]\u001b[38;5;241m.\u001b[39mtolist()\u001b[38;5;132;01m}\u001b[39;00m\u001b[38;5;124m not found in axis\u001b[39m\u001b[38;5;124m\"\u001b[39m)\n\u001b[0;32m   7071\u001b[0m     indexer \u001b[38;5;241m=\u001b[39m indexer[\u001b[38;5;241m~\u001b[39mmask]\n\u001b[0;32m   7072\u001b[0m \u001b[38;5;28;01mreturn\u001b[39;00m \u001b[38;5;28mself\u001b[39m\u001b[38;5;241m.\u001b[39mdelete(indexer)\n",
      "\u001b[1;31mKeyError\u001b[0m: \"['index'] not found in axis\""
     ]
    }
   ],
   "source": [
    "# For train DataFrame\n",
    "train['houseID'] = train.index  # Create 'houseID' column with index values\n",
    "train.set_index('houseID', inplace=True)  # Set 'houseID' as the new index\n",
    "train.drop(columns=['index'], inplace=True)  # Remove the column named 'index'\n",
    "\n",
    "# For train_reviews DataFrame\n",
    "train_reviews['houseID'] = train_reviews.index\n",
    "train_reviews.set_index('houseID', inplace=True)\n",
    "train_reviews.drop(columns=['index'], inplace=True)\n",
    "\n",
    "# For test DataFrame\n",
    "test['houseID'] = test.index\n",
    "test.set_index('houseID', inplace=True)\n",
    "test.drop(columns=['index'], inplace=True)\n",
    "\n",
    "# For test_reviews DataFrame\n",
    "test_reviews['houseID'] = test_reviews.index\n",
    "test_reviews.set_index('houseID', inplace=True)\n",
    "test_reviews.drop(columns=['index'], inplace=True)\n"
   ]
  },
  {
   "cell_type": "code",
   "execution_count": 10,
   "id": "b72cb471-0236-4227-9892-a185c58156ee",
   "metadata": {},
   "outputs": [
    {
     "data": {
      "text/html": [
       "<div>\n",
       "<style scoped>\n",
       "    .dataframe tbody tr th:only-of-type {\n",
       "        vertical-align: middle;\n",
       "    }\n",
       "\n",
       "    .dataframe tbody tr th {\n",
       "        vertical-align: top;\n",
       "    }\n",
       "\n",
       "    .dataframe thead th {\n",
       "        text-align: right;\n",
       "    }\n",
       "</style>\n",
       "<table border=\"1\" class=\"dataframe\">\n",
       "  <thead>\n",
       "    <tr style=\"text-align: right;\">\n",
       "      <th></th>\n",
       "      <th>level_0</th>\n",
       "      <th>description</th>\n",
       "      <th>host_about</th>\n",
       "      <th>unlisted</th>\n",
       "      <th>houseID</th>\n",
       "    </tr>\n",
       "  </thead>\n",
       "  <tbody>\n",
       "    <tr>\n",
       "      <th>0</th>\n",
       "      <td>0</td>\n",
       "      <td>This is a shared mixed room in our hostel, wit...</td>\n",
       "      <td>Alojamento Local Registro: 20835/AL</td>\n",
       "      <td>0</td>\n",
       "      <td>1</td>\n",
       "    </tr>\n",
       "    <tr>\n",
       "      <th>1</th>\n",
       "      <td>1</td>\n",
       "      <td>O meu espaço fica perto de Parque Eduardo VII,...</td>\n",
       "      <td>I am friendly host, and I will try to always b...</td>\n",
       "      <td>1</td>\n",
       "      <td>2</td>\n",
       "    </tr>\n",
       "    <tr>\n",
       "      <th>2</th>\n",
       "      <td>2</td>\n",
       "      <td>Trafaria’s House is a cozy and familiar villa ...</td>\n",
       "      <td>I am a social person liking to communicate, re...</td>\n",
       "      <td>1</td>\n",
       "      <td>3</td>\n",
       "    </tr>\n",
       "    <tr>\n",
       "      <th>3</th>\n",
       "      <td>3</td>\n",
       "      <td>Apartamento Charmoso no Chiado, Entre o Largo ...</td>\n",
       "      <td>Hello!_x000D_\\nI m Portuguese and i love to me...</td>\n",
       "      <td>0</td>\n",
       "      <td>4</td>\n",
       "    </tr>\n",
       "    <tr>\n",
       "      <th>4</th>\n",
       "      <td>4</td>\n",
       "      <td>Joli appartement  en bordure de mer.&lt;br /&gt; 2 m...</td>\n",
       "      <td>Nous sommes une famille avec deux enfants de 1...</td>\n",
       "      <td>0</td>\n",
       "      <td>5</td>\n",
       "    </tr>\n",
       "  </tbody>\n",
       "</table>\n",
       "</div>"
      ],
      "text/plain": [
       "   level_0                                        description  \\\n",
       "0        0  This is a shared mixed room in our hostel, wit...   \n",
       "1        1  O meu espaço fica perto de Parque Eduardo VII,...   \n",
       "2        2  Trafaria’s House is a cozy and familiar villa ...   \n",
       "3        3  Apartamento Charmoso no Chiado, Entre o Largo ...   \n",
       "4        4  Joli appartement  en bordure de mer.<br /> 2 m...   \n",
       "\n",
       "                                          host_about  unlisted  houseID  \n",
       "0                Alojamento Local Registro: 20835/AL         0        1  \n",
       "1  I am friendly host, and I will try to always b...         1        2  \n",
       "2  I am a social person liking to communicate, re...         1        3  \n",
       "3  Hello!_x000D_\\nI m Portuguese and i love to me...         0        4  \n",
       "4  Nous sommes une famille avec deux enfants de 1...         0        5  "
      ]
     },
     "execution_count": 10,
     "metadata": {},
     "output_type": "execute_result"
    }
   ],
   "source": [
    "train.head(5)"
   ]
  },
  {
   "cell_type": "code",
   "execution_count": 11,
   "id": "50da9b95-2764-4218-8cb0-7ad6456f97da",
   "metadata": {},
   "outputs": [
    {
     "data": {
      "text/html": [
       "<div>\n",
       "<style scoped>\n",
       "    .dataframe tbody tr th:only-of-type {\n",
       "        vertical-align: middle;\n",
       "    }\n",
       "\n",
       "    .dataframe tbody tr th {\n",
       "        vertical-align: top;\n",
       "    }\n",
       "\n",
       "    .dataframe thead th {\n",
       "        text-align: right;\n",
       "    }\n",
       "</style>\n",
       "<table border=\"1\" class=\"dataframe\">\n",
       "  <thead>\n",
       "    <tr style=\"text-align: right;\">\n",
       "      <th></th>\n",
       "      <th>level_0</th>\n",
       "      <th>comments</th>\n",
       "      <th>houseID</th>\n",
       "    </tr>\n",
       "  </thead>\n",
       "  <tbody>\n",
       "    <tr>\n",
       "      <th>0</th>\n",
       "      <td>0</td>\n",
       "      <td>this is a very cozy and comfortable house to s...</td>\n",
       "      <td>1</td>\n",
       "    </tr>\n",
       "    <tr>\n",
       "      <th>1</th>\n",
       "      <td>1</td>\n",
       "      <td>good&lt;br/&gt;</td>\n",
       "      <td>1</td>\n",
       "    </tr>\n",
       "    <tr>\n",
       "      <th>2</th>\n",
       "      <td>2</td>\n",
       "      <td>My first hostel experience, and all I have to ...</td>\n",
       "      <td>1</td>\n",
       "    </tr>\n",
       "    <tr>\n",
       "      <th>3</th>\n",
       "      <td>3</td>\n",
       "      <td>Das Hostel war neu und deshalb funktionierte a...</td>\n",
       "      <td>1</td>\n",
       "    </tr>\n",
       "    <tr>\n",
       "      <th>4</th>\n",
       "      <td>4</td>\n",
       "      <td>It was fine for a dorm, but I think for the pe...</td>\n",
       "      <td>1</td>\n",
       "    </tr>\n",
       "  </tbody>\n",
       "</table>\n",
       "</div>"
      ],
      "text/plain": [
       "   level_0                                           comments  houseID\n",
       "0        0  this is a very cozy and comfortable house to s...        1\n",
       "1        1                                          good<br/>        1\n",
       "2        2  My first hostel experience, and all I have to ...        1\n",
       "3        3  Das Hostel war neu und deshalb funktionierte a...        1\n",
       "4        4  It was fine for a dorm, but I think for the pe...        1"
      ]
     },
     "execution_count": 11,
     "metadata": {},
     "output_type": "execute_result"
    }
   ],
   "source": [
    "train_reviews.head(5)"
   ]
  },
  {
   "cell_type": "code",
   "execution_count": 12,
   "id": "14bd1832-bf80-46ac-b023-1af7a33fa0c9",
   "metadata": {},
   "outputs": [
    {
     "data": {
      "text/html": [
       "<div>\n",
       "<style scoped>\n",
       "    .dataframe tbody tr th:only-of-type {\n",
       "        vertical-align: middle;\n",
       "    }\n",
       "\n",
       "    .dataframe tbody tr th {\n",
       "        vertical-align: top;\n",
       "    }\n",
       "\n",
       "    .dataframe thead th {\n",
       "        text-align: right;\n",
       "    }\n",
       "</style>\n",
       "<table border=\"1\" class=\"dataframe\">\n",
       "  <thead>\n",
       "    <tr style=\"text-align: right;\">\n",
       "      <th></th>\n",
       "      <th>level_0</th>\n",
       "      <th>description</th>\n",
       "      <th>host_about</th>\n",
       "      <th>houseID</th>\n",
       "    </tr>\n",
       "  </thead>\n",
       "  <tbody>\n",
       "    <tr>\n",
       "      <th>0</th>\n",
       "      <td>0</td>\n",
       "      <td>&lt;b&gt;The space&lt;/b&gt;&lt;br /&gt;Apartment located in the...</td>\n",
       "      <td>Gosto de viajar, de conhecer pessoas, gosto de...</td>\n",
       "      <td>1</td>\n",
       "    </tr>\n",
       "    <tr>\n",
       "      <th>1</th>\n",
       "      <td>1</td>\n",
       "      <td>IMPORTANT: In response to COVID-19, this prope...</td>\n",
       "      <td>We are the be@home Team!\\n\\nYou can count on u...</td>\n",
       "      <td>2</td>\n",
       "    </tr>\n",
       "    <tr>\n",
       "      <th>2</th>\n",
       "      <td>2</td>\n",
       "      <td>Bright, beautiful, and spacious. This four-bed...</td>\n",
       "      <td>Hi there!\\n\\nWe're GuestReady, a professional ...</td>\n",
       "      <td>3</td>\n",
       "    </tr>\n",
       "    <tr>\n",
       "      <th>3</th>\n",
       "      <td>3</td>\n",
       "      <td>Charming Apartment Close to the Bay of Cascais...</td>\n",
       "      <td>:)</td>\n",
       "      <td>4</td>\n",
       "    </tr>\n",
       "    <tr>\n",
       "      <th>4</th>\n",
       "      <td>4</td>\n",
       "      <td>Se procura umas férias perto da praia, casino ...</td>\n",
       "      <td>Bem vindos a Portugal!_x000D_\\nAdoro o meu Paí...</td>\n",
       "      <td>5</td>\n",
       "    </tr>\n",
       "  </tbody>\n",
       "</table>\n",
       "</div>"
      ],
      "text/plain": [
       "   level_0                                        description  \\\n",
       "0        0  <b>The space</b><br />Apartment located in the...   \n",
       "1        1  IMPORTANT: In response to COVID-19, this prope...   \n",
       "2        2  Bright, beautiful, and spacious. This four-bed...   \n",
       "3        3  Charming Apartment Close to the Bay of Cascais...   \n",
       "4        4  Se procura umas férias perto da praia, casino ...   \n",
       "\n",
       "                                          host_about  houseID  \n",
       "0  Gosto de viajar, de conhecer pessoas, gosto de...        1  \n",
       "1  We are the be@home Team!\\n\\nYou can count on u...        2  \n",
       "2  Hi there!\\n\\nWe're GuestReady, a professional ...        3  \n",
       "3                                                 :)        4  \n",
       "4  Bem vindos a Portugal!_x000D_\\nAdoro o meu Paí...        5  "
      ]
     },
     "execution_count": 12,
     "metadata": {},
     "output_type": "execute_result"
    }
   ],
   "source": [
    "test.head(5)"
   ]
  },
  {
   "cell_type": "code",
   "execution_count": 13,
   "id": "23c68a95-d5b2-4283-b220-6a3f74eab841",
   "metadata": {},
   "outputs": [
    {
     "data": {
      "text/html": [
       "<div>\n",
       "<style scoped>\n",
       "    .dataframe tbody tr th:only-of-type {\n",
       "        vertical-align: middle;\n",
       "    }\n",
       "\n",
       "    .dataframe tbody tr th {\n",
       "        vertical-align: top;\n",
       "    }\n",
       "\n",
       "    .dataframe thead th {\n",
       "        text-align: right;\n",
       "    }\n",
       "</style>\n",
       "<table border=\"1\" class=\"dataframe\">\n",
       "  <thead>\n",
       "    <tr style=\"text-align: right;\">\n",
       "      <th></th>\n",
       "      <th>level_0</th>\n",
       "      <th>comments</th>\n",
       "      <th>houseID</th>\n",
       "    </tr>\n",
       "  </thead>\n",
       "  <tbody>\n",
       "    <tr>\n",
       "      <th>0</th>\n",
       "      <td>0</td>\n",
       "      <td>Thank you very much Antonio ! All has been per...</td>\n",
       "      <td>1</td>\n",
       "    </tr>\n",
       "    <tr>\n",
       "      <th>1</th>\n",
       "      <td>1</td>\n",
       "      <td>Very nice appartment in the old town of Lissab...</td>\n",
       "      <td>1</td>\n",
       "    </tr>\n",
       "    <tr>\n",
       "      <th>2</th>\n",
       "      <td>2</td>\n",
       "      <td>When travelling we're looking for kids friendl...</td>\n",
       "      <td>1</td>\n",
       "    </tr>\n",
       "    <tr>\n",
       "      <th>3</th>\n",
       "      <td>3</td>\n",
       "      <td>We've been in Lisbon in march 2013 (3 adults a...</td>\n",
       "      <td>1</td>\n",
       "    </tr>\n",
       "    <tr>\n",
       "      <th>4</th>\n",
       "      <td>4</td>\n",
       "      <td>Our host Antonio was very helpful with informa...</td>\n",
       "      <td>1</td>\n",
       "    </tr>\n",
       "  </tbody>\n",
       "</table>\n",
       "</div>"
      ],
      "text/plain": [
       "   level_0                                           comments  houseID\n",
       "0        0  Thank you very much Antonio ! All has been per...        1\n",
       "1        1  Very nice appartment in the old town of Lissab...        1\n",
       "2        2  When travelling we're looking for kids friendl...        1\n",
       "3        3  We've been in Lisbon in march 2013 (3 adults a...        1\n",
       "4        4  Our host Antonio was very helpful with informa...        1"
      ]
     },
     "execution_count": 13,
     "metadata": {},
     "output_type": "execute_result"
    }
   ],
   "source": [
    "test_reviews.head(5)"
   ]
  },
  {
   "cell_type": "markdown",
   "id": "8225f46a-bdaa-4282-86e9-50eba2eb1002",
   "metadata": {},
   "source": [
    "### 2.2 Duplicates"
   ]
  },
  {
   "cell_type": "markdown",
   "id": "1bc5de3e-37a4-4776-b169-5cbddb041e19",
   "metadata": {},
   "source": [
    "**Cheacking for Duplicated Rows**"
   ]
  },
  {
   "cell_type": "code",
   "execution_count": 14,
   "id": "d051a51e-afa3-49ee-bdcc-83ca8631868f",
   "metadata": {},
   "outputs": [
    {
     "name": "stdout",
     "output_type": "stream",
     "text": [
      "Number of duplicated rows in train DataFrame: 0\n",
      "Number of duplicated rows in train_reviews DataFrame: 0\n",
      "Number of duplicated rows in test DataFrame: 0\n",
      "Number of duplicated rows in test_reviews DataFrame: 0\n"
     ]
    }
   ],
   "source": [
    "print(\"Number of duplicated rows in train DataFrame:\", train.duplicated().sum())\n",
    "print(\"Number of duplicated rows in train_reviews DataFrame:\", train_reviews.duplicated().sum())\n",
    "print(\"Number of duplicated rows in test DataFrame:\", test.duplicated().sum())\n",
    "print(\"Number of duplicated rows in test_reviews DataFrame:\", test_reviews.duplicated().sum())"
   ]
  },
  {
   "cell_type": "markdown",
   "id": "d63c69c8-be02-4749-8c78-dc8d118f743a",
   "metadata": {},
   "source": [
    "**Removing Duplicated Rows**"
   ]
  },
  {
   "cell_type": "code",
   "execution_count": 15,
   "id": "1c925fe3-565d-49cf-a38a-a03327ea95f3",
   "metadata": {},
   "outputs": [
    {
     "name": "stdout",
     "output_type": "stream",
     "text": [
      "Number of duplicated rows in train DataFrame after removal: 0\n",
      "Number of duplicated rows in train_reviews DataFrame after removal: 0\n",
      "Number of duplicated rows in test DataFrame after removal: 0\n",
      "Number of duplicated rows in test_reviews DataFrame after removal: 0\n"
     ]
    }
   ],
   "source": [
    "train.drop_duplicates(inplace=True)\n",
    "train_reviews.drop_duplicates(inplace=True)\n",
    "test.drop_duplicates(inplace=True)\n",
    "test_reviews.drop_duplicates(inplace=True)\n",
    "\n",
    "print(\"Number of duplicated rows in train DataFrame after removal:\", train.duplicated().sum())\n",
    "print(\"Number of duplicated rows in train_reviews DataFrame after removal:\", train_reviews.duplicated().sum())\n",
    "print(\"Number of duplicated rows in test DataFrame after removal:\", test.duplicated().sum())\n",
    "print(\"Number of duplicated rows in test_reviews DataFrame after removal:\", test_reviews.duplicated().sum())\n"
   ]
  },
  {
   "cell_type": "markdown",
   "id": "aeda07cb-1b68-42c2-9a0b-6056d0cbc301",
   "metadata": {},
   "source": [
    "### 2.3 Null Values"
   ]
  },
  {
   "cell_type": "code",
   "execution_count": 16,
   "id": "70cc2781-0fcd-4e9b-9696-6cdf5bc83028",
   "metadata": {},
   "outputs": [
    {
     "name": "stdout",
     "output_type": "stream",
     "text": [
      "Number of null values in train DataFrame:\n",
      "level_0        0\n",
      "description    0\n",
      "host_about     0\n",
      "unlisted       0\n",
      "houseID        0\n",
      "dtype: int64\n",
      "\n",
      "Number of null values in train_reviews DataFrame:\n",
      "level_0     0\n",
      "comments    2\n",
      "houseID     0\n",
      "dtype: int64\n",
      "\n",
      "Number of null values in test DataFrame:\n",
      "level_0        0\n",
      "description    0\n",
      "host_about     0\n",
      "houseID        0\n",
      "dtype: int64\n",
      "\n",
      "Number of null values in test_reviews DataFrame:\n",
      "level_0     0\n",
      "comments    0\n",
      "houseID     0\n",
      "dtype: int64\n"
     ]
    }
   ],
   "source": [
    "print(\"Number of null values in train DataFrame:\")\n",
    "print(train.isnull().sum())\n",
    "\n",
    "print(\"\\nNumber of null values in train_reviews DataFrame:\")\n",
    "print(train_reviews.isnull().sum())\n",
    "\n",
    "print(\"\\nNumber of null values in test DataFrame:\")\n",
    "print(test.isnull().sum())\n",
    "\n",
    "print(\"\\nNumber of null values in test_reviews DataFrame:\")\n",
    "print(test_reviews.isnull().sum())"
   ]
  },
  {
   "cell_type": "code",
   "execution_count": 17,
   "id": "48d34102-a102-47b4-9d2b-6f2689c8ec5d",
   "metadata": {},
   "outputs": [
    {
     "data": {
      "text/html": [
       "<div>\n",
       "<style scoped>\n",
       "    .dataframe tbody tr th:only-of-type {\n",
       "        vertical-align: middle;\n",
       "    }\n",
       "\n",
       "    .dataframe tbody tr th {\n",
       "        vertical-align: top;\n",
       "    }\n",
       "\n",
       "    .dataframe thead th {\n",
       "        text-align: right;\n",
       "    }\n",
       "</style>\n",
       "<table border=\"1\" class=\"dataframe\">\n",
       "  <thead>\n",
       "    <tr style=\"text-align: right;\">\n",
       "      <th></th>\n",
       "      <th>count</th>\n",
       "      <th>mean</th>\n",
       "      <th>std</th>\n",
       "      <th>min</th>\n",
       "      <th>25%</th>\n",
       "      <th>50%</th>\n",
       "      <th>75%</th>\n",
       "      <th>max</th>\n",
       "    </tr>\n",
       "  </thead>\n",
       "  <tbody>\n",
       "    <tr>\n",
       "      <th>level_0</th>\n",
       "      <td>6248.0</td>\n",
       "      <td>3123.500000</td>\n",
       "      <td>1803.786573</td>\n",
       "      <td>0.0</td>\n",
       "      <td>1561.75</td>\n",
       "      <td>3123.5</td>\n",
       "      <td>4685.25</td>\n",
       "      <td>6247.0</td>\n",
       "    </tr>\n",
       "    <tr>\n",
       "      <th>unlisted</th>\n",
       "      <td>6248.0</td>\n",
       "      <td>0.273367</td>\n",
       "      <td>0.445724</td>\n",
       "      <td>0.0</td>\n",
       "      <td>0.00</td>\n",
       "      <td>0.0</td>\n",
       "      <td>1.00</td>\n",
       "      <td>1.0</td>\n",
       "    </tr>\n",
       "    <tr>\n",
       "      <th>houseID</th>\n",
       "      <td>6248.0</td>\n",
       "      <td>3124.500000</td>\n",
       "      <td>1803.786573</td>\n",
       "      <td>1.0</td>\n",
       "      <td>1562.75</td>\n",
       "      <td>3124.5</td>\n",
       "      <td>4686.25</td>\n",
       "      <td>6248.0</td>\n",
       "    </tr>\n",
       "  </tbody>\n",
       "</table>\n",
       "</div>"
      ],
      "text/plain": [
       "           count         mean          std  min      25%     50%      75%  \\\n",
       "level_0   6248.0  3123.500000  1803.786573  0.0  1561.75  3123.5  4685.25   \n",
       "unlisted  6248.0     0.273367     0.445724  0.0     0.00     0.0     1.00   \n",
       "houseID   6248.0  3124.500000  1803.786573  1.0  1562.75  3124.5  4686.25   \n",
       "\n",
       "             max  \n",
       "level_0   6247.0  \n",
       "unlisted     1.0  \n",
       "houseID   6248.0  "
      ]
     },
     "execution_count": 17,
     "metadata": {},
     "output_type": "execute_result"
    }
   ],
   "source": [
    "train.describe().T"
   ]
  }
 ],
 "metadata": {
  "kernelspec": {
   "display_name": "Python 3 (ipykernel)",
   "language": "python",
   "name": "python3"
  },
  "language_info": {
   "codemirror_mode": {
    "name": "ipython",
    "version": 3
   },
   "file_extension": ".py",
   "mimetype": "text/x-python",
   "name": "python",
   "nbconvert_exporter": "python",
   "pygments_lexer": "ipython3",
   "version": "3.12.3"
  }
 },
 "nbformat": 4,
 "nbformat_minor": 5
}
