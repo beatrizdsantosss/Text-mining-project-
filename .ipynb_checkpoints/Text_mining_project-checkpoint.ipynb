{
 "cells": [
  {
   "cell_type": "code",
   "execution_count": 1,
   "metadata": {},
   "outputs": [
    {
     "name": "stdout",
     "output_type": "stream",
     "text": [
      "ola\n"
     ]
    }
   ],
   "source": [
    "print(\"ola eu sou a bea\")"
   ]
  },
  {
   "cell_type": "code",
   "execution_count": 1,
   "metadata": {},
   "outputs": [
    {
     "name": "stdout",
     "output_type": "stream",
     "text": [
      "tou me a passar\n"
     ]
    }
   ],
   "source": [
    "print(\"tou me a passar\")"
   ]
  },
  {
   "cell_type": "markdown",
   "metadata": {},
   "source": [
    "Text Mining project\n"
   ]
  },
  {
   "cell_type": "code",
   "execution_count": 23,
   "metadata": {},
   "outputs": [],
   "source": [
    "#!pip install langdetect\n",
    "\n",
    "import pandas as pd\n",
    "from langdetect import detect\n",
    "import matplotlib.pyplot as plt\n",
    "import seaborn as sns\n",
    "import re"
   ]
  },
  {
   "cell_type": "code",
   "execution_count": 2,
   "metadata": {},
   "outputs": [],
   "source": [
    "train_path = r'C:\\Users\\barbara\\Desktop\\Catarina NOVA\\Text Mining\\Project\\Project Corpora\\train.xlsx'\n",
    "train_reviews_path = r'C:\\Users\\barbara\\Desktop\\Catarina NOVA\\Text Mining\\Project\\Project Corpora\\train_reviews.xlsx'\n",
    "test_path = r'C:\\Users\\barbara\\Desktop\\Catarina NOVA\\Text Mining\\Project\\Project Corpora\\test.xlsx'\n",
    "test_reviews_path = r'C:\\Users\\barbara\\Desktop\\Catarina NOVA\\Text Mining\\Project\\Project Corpora\\test_reviews.xlsx'\n",
    "\n",
    "train = pd.read_excel(train_path)\n",
    "train_reviews = pd.read_excel(train_reviews_path)\n",
    "test = pd.read_excel(test_path)\n",
    "test_reviews = pd.read_excel(test_reviews_path)\n",
    "\n",
    "# sou noob e nunca sei fazer isto de maneira melhor desculpem "
   ]
  },
  {
   "cell_type": "code",
   "execution_count": 3,
   "metadata": {},
   "outputs": [
    {
     "data": {
      "text/html": [
       "<div>\n",
       "<style scoped>\n",
       "    .dataframe tbody tr th:only-of-type {\n",
       "        vertical-align: middle;\n",
       "    }\n",
       "\n",
       "    .dataframe tbody tr th {\n",
       "        vertical-align: top;\n",
       "    }\n",
       "\n",
       "    .dataframe thead th {\n",
       "        text-align: right;\n",
       "    }\n",
       "</style>\n",
       "<table border=\"1\" class=\"dataframe\">\n",
       "  <thead>\n",
       "    <tr style=\"text-align: right;\">\n",
       "      <th></th>\n",
       "      <th>index</th>\n",
       "      <th>description</th>\n",
       "      <th>host_about</th>\n",
       "      <th>unlisted</th>\n",
       "    </tr>\n",
       "  </thead>\n",
       "  <tbody>\n",
       "    <tr>\n",
       "      <th>0</th>\n",
       "      <td>1</td>\n",
       "      <td>This is a shared mixed room in our hostel, wit...</td>\n",
       "      <td>Alojamento Local Registro: 20835/AL</td>\n",
       "      <td>0</td>\n",
       "    </tr>\n",
       "    <tr>\n",
       "      <th>1</th>\n",
       "      <td>2</td>\n",
       "      <td>O meu espaço fica perto de Parque Eduardo VII,...</td>\n",
       "      <td>I am friendly host, and I will try to always b...</td>\n",
       "      <td>1</td>\n",
       "    </tr>\n",
       "    <tr>\n",
       "      <th>2</th>\n",
       "      <td>3</td>\n",
       "      <td>Trafaria’s House is a cozy and familiar villa ...</td>\n",
       "      <td>I am a social person liking to communicate, re...</td>\n",
       "      <td>1</td>\n",
       "    </tr>\n",
       "    <tr>\n",
       "      <th>3</th>\n",
       "      <td>4</td>\n",
       "      <td>Apartamento Charmoso no Chiado, Entre o Largo ...</td>\n",
       "      <td>Hello!_x000D_\\nI m Portuguese and i love to me...</td>\n",
       "      <td>0</td>\n",
       "    </tr>\n",
       "    <tr>\n",
       "      <th>4</th>\n",
       "      <td>5</td>\n",
       "      <td>Joli appartement  en bordure de mer.&lt;br /&gt; 2 m...</td>\n",
       "      <td>Nous sommes une famille avec deux enfants de 1...</td>\n",
       "      <td>0</td>\n",
       "    </tr>\n",
       "  </tbody>\n",
       "</table>\n",
       "</div>"
      ],
      "text/plain": [
       "   index                                        description  \\\n",
       "0      1  This is a shared mixed room in our hostel, wit...   \n",
       "1      2  O meu espaço fica perto de Parque Eduardo VII,...   \n",
       "2      3  Trafaria’s House is a cozy and familiar villa ...   \n",
       "3      4  Apartamento Charmoso no Chiado, Entre o Largo ...   \n",
       "4      5  Joli appartement  en bordure de mer.<br /> 2 m...   \n",
       "\n",
       "                                          host_about  unlisted  \n",
       "0                Alojamento Local Registro: 20835/AL         0  \n",
       "1  I am friendly host, and I will try to always b...         1  \n",
       "2  I am a social person liking to communicate, re...         1  \n",
       "3  Hello!_x000D_\\nI m Portuguese and i love to me...         0  \n",
       "4  Nous sommes une famille avec deux enfants de 1...         0  "
      ]
     },
     "execution_count": 3,
     "metadata": {},
     "output_type": "execute_result"
    }
   ],
   "source": [
    "train.head()"
   ]
  },
  {
   "cell_type": "code",
   "execution_count": 4,
   "metadata": {},
   "outputs": [],
   "source": [
    "train.set_index('index', inplace=True)\n",
    "train_reviews.set_index('index', inplace=True)\n",
    "test.set_index('index', inplace=True)\n",
    "test_reviews.set_index('index', inplace=True)"
   ]
  },
  {
   "cell_type": "code",
   "execution_count": 5,
   "metadata": {},
   "outputs": [
    {
     "data": {
      "text/html": [
       "<div>\n",
       "<style scoped>\n",
       "    .dataframe tbody tr th:only-of-type {\n",
       "        vertical-align: middle;\n",
       "    }\n",
       "\n",
       "    .dataframe tbody tr th {\n",
       "        vertical-align: top;\n",
       "    }\n",
       "\n",
       "    .dataframe thead th {\n",
       "        text-align: right;\n",
       "    }\n",
       "</style>\n",
       "<table border=\"1\" class=\"dataframe\">\n",
       "  <thead>\n",
       "    <tr style=\"text-align: right;\">\n",
       "      <th></th>\n",
       "      <th>description</th>\n",
       "      <th>host_about</th>\n",
       "      <th>unlisted</th>\n",
       "    </tr>\n",
       "    <tr>\n",
       "      <th>index</th>\n",
       "      <th></th>\n",
       "      <th></th>\n",
       "      <th></th>\n",
       "    </tr>\n",
       "  </thead>\n",
       "  <tbody>\n",
       "    <tr>\n",
       "      <th>1</th>\n",
       "      <td>This is a shared mixed room in our hostel, wit...</td>\n",
       "      <td>Alojamento Local Registro: 20835/AL</td>\n",
       "      <td>0</td>\n",
       "    </tr>\n",
       "    <tr>\n",
       "      <th>2</th>\n",
       "      <td>O meu espaço fica perto de Parque Eduardo VII,...</td>\n",
       "      <td>I am friendly host, and I will try to always b...</td>\n",
       "      <td>1</td>\n",
       "    </tr>\n",
       "    <tr>\n",
       "      <th>3</th>\n",
       "      <td>Trafaria’s House is a cozy and familiar villa ...</td>\n",
       "      <td>I am a social person liking to communicate, re...</td>\n",
       "      <td>1</td>\n",
       "    </tr>\n",
       "    <tr>\n",
       "      <th>4</th>\n",
       "      <td>Apartamento Charmoso no Chiado, Entre o Largo ...</td>\n",
       "      <td>Hello!_x000D_\\nI m Portuguese and i love to me...</td>\n",
       "      <td>0</td>\n",
       "    </tr>\n",
       "    <tr>\n",
       "      <th>5</th>\n",
       "      <td>Joli appartement  en bordure de mer.&lt;br /&gt; 2 m...</td>\n",
       "      <td>Nous sommes une famille avec deux enfants de 1...</td>\n",
       "      <td>0</td>\n",
       "    </tr>\n",
       "  </tbody>\n",
       "</table>\n",
       "</div>"
      ],
      "text/plain": [
       "                                             description  \\\n",
       "index                                                      \n",
       "1      This is a shared mixed room in our hostel, wit...   \n",
       "2      O meu espaço fica perto de Parque Eduardo VII,...   \n",
       "3      Trafaria’s House is a cozy and familiar villa ...   \n",
       "4      Apartamento Charmoso no Chiado, Entre o Largo ...   \n",
       "5      Joli appartement  en bordure de mer.<br /> 2 m...   \n",
       "\n",
       "                                              host_about  unlisted  \n",
       "index                                                               \n",
       "1                    Alojamento Local Registro: 20835/AL         0  \n",
       "2      I am friendly host, and I will try to always b...         1  \n",
       "3      I am a social person liking to communicate, re...         1  \n",
       "4      Hello!_x000D_\\nI m Portuguese and i love to me...         0  \n",
       "5      Nous sommes une famille avec deux enfants de 1...         0  "
      ]
     },
     "execution_count": 5,
     "metadata": {},
     "output_type": "execute_result"
    }
   ],
   "source": [
    "train.head()"
   ]
  },
  {
   "cell_type": "code",
   "execution_count": 6,
   "metadata": {},
   "outputs": [],
   "source": [
    "train = train.copy()\n",
    "train_reviews = train_reviews.copy()\n",
    "test = test.copy()\n",
    "test_reviews = test_reviews.copy()"
   ]
  },
  {
   "cell_type": "code",
   "execution_count": 7,
   "metadata": {},
   "outputs": [
    {
     "name": "stdout",
     "output_type": "stream",
     "text": [
      "(6248, 3)\n",
      "(695, 2)\n"
     ]
    }
   ],
   "source": [
    "print(train.shape)\n",
    "print(test.shape)"
   ]
  },
  {
   "cell_type": "code",
   "execution_count": 8,
   "metadata": {},
   "outputs": [
    {
     "data": {
      "text/plain": [
       "192"
      ]
     },
     "execution_count": 8,
     "metadata": {},
     "output_type": "execute_result"
    }
   ],
   "source": [
    "train.duplicated().sum()"
   ]
  },
  {
   "cell_type": "code",
   "execution_count": 9,
   "metadata": {},
   "outputs": [
    {
     "data": {
      "text/plain": [
       "6781"
      ]
     },
     "execution_count": 9,
     "metadata": {},
     "output_type": "execute_result"
    }
   ],
   "source": [
    "train_reviews.duplicated().sum()"
   ]
  },
  {
   "cell_type": "code",
   "execution_count": 10,
   "metadata": {},
   "outputs": [
    {
     "data": {
      "text/plain": [
       "4"
      ]
     },
     "execution_count": 10,
     "metadata": {},
     "output_type": "execute_result"
    }
   ],
   "source": [
    "test.duplicated().sum()"
   ]
  },
  {
   "cell_type": "code",
   "execution_count": 11,
   "metadata": {},
   "outputs": [
    {
     "data": {
      "text/plain": [
       "438"
      ]
     },
     "execution_count": 11,
     "metadata": {},
     "output_type": "execute_result"
    }
   ],
   "source": [
    "test_reviews.duplicated().sum()"
   ]
  },
  {
   "cell_type": "markdown",
   "metadata": {},
   "source": [
    "i guess que apagamos todos os duplicados? "
   ]
  },
  {
   "cell_type": "code",
   "execution_count": 12,
   "metadata": {
    "scrolled": true
   },
   "outputs": [
    {
     "data": {
      "text/plain": [
       "description    0\n",
       "host_about     0\n",
       "unlisted       0\n",
       "dtype: int64"
      ]
     },
     "execution_count": 12,
     "metadata": {},
     "output_type": "execute_result"
    }
   ],
   "source": [
    "train.isna().sum()"
   ]
  },
  {
   "cell_type": "code",
   "execution_count": 13,
   "metadata": {},
   "outputs": [
    {
     "data": {
      "text/plain": [
       "comments    0\n",
       "dtype: int64"
      ]
     },
     "execution_count": 13,
     "metadata": {},
     "output_type": "execute_result"
    }
   ],
   "source": [
    "train_reviews.isna().sum()"
   ]
  },
  {
   "cell_type": "code",
   "execution_count": 14,
   "metadata": {},
   "outputs": [
    {
     "data": {
      "text/plain": [
       "description    0\n",
       "host_about     0\n",
       "dtype: int64"
      ]
     },
     "execution_count": 14,
     "metadata": {},
     "output_type": "execute_result"
    }
   ],
   "source": [
    "test.isna().sum()"
   ]
  },
  {
   "cell_type": "code",
   "execution_count": 15,
   "metadata": {},
   "outputs": [
    {
     "data": {
      "text/plain": [
       "comments    0\n",
       "dtype: int64"
      ]
     },
     "execution_count": 15,
     "metadata": {},
     "output_type": "execute_result"
    }
   ],
   "source": [
    "test_reviews.isna().sum()"
   ]
  },
  {
   "cell_type": "code",
   "execution_count": 16,
   "metadata": {},
   "outputs": [
    {
     "data": {
      "text/html": [
       "<div>\n",
       "<style scoped>\n",
       "    .dataframe tbody tr th:only-of-type {\n",
       "        vertical-align: middle;\n",
       "    }\n",
       "\n",
       "    .dataframe tbody tr th {\n",
       "        vertical-align: top;\n",
       "    }\n",
       "\n",
       "    .dataframe thead th {\n",
       "        text-align: right;\n",
       "    }\n",
       "</style>\n",
       "<table border=\"1\" class=\"dataframe\">\n",
       "  <thead>\n",
       "    <tr style=\"text-align: right;\">\n",
       "      <th></th>\n",
       "      <th>count</th>\n",
       "      <th>mean</th>\n",
       "      <th>std</th>\n",
       "      <th>min</th>\n",
       "      <th>25%</th>\n",
       "      <th>50%</th>\n",
       "      <th>75%</th>\n",
       "      <th>max</th>\n",
       "    </tr>\n",
       "  </thead>\n",
       "  <tbody>\n",
       "    <tr>\n",
       "      <th>unlisted</th>\n",
       "      <td>6248.0</td>\n",
       "      <td>0.273367</td>\n",
       "      <td>0.445724</td>\n",
       "      <td>0.0</td>\n",
       "      <td>0.0</td>\n",
       "      <td>0.0</td>\n",
       "      <td>1.0</td>\n",
       "      <td>1.0</td>\n",
       "    </tr>\n",
       "  </tbody>\n",
       "</table>\n",
       "</div>"
      ],
      "text/plain": [
       "           count      mean       std  min  25%  50%  75%  max\n",
       "unlisted  6248.0  0.273367  0.445724  0.0  0.0  0.0  1.0  1.0"
      ]
     },
     "execution_count": 16,
     "metadata": {},
     "output_type": "execute_result"
    }
   ],
   "source": [
    "train.describe().T"
   ]
  },
  {
   "cell_type": "code",
   "execution_count": 17,
   "metadata": {},
   "outputs": [
    {
     "data": {
      "text/html": [
       "<div>\n",
       "<style scoped>\n",
       "    .dataframe tbody tr th:only-of-type {\n",
       "        vertical-align: middle;\n",
       "    }\n",
       "\n",
       "    .dataframe tbody tr th {\n",
       "        vertical-align: top;\n",
       "    }\n",
       "\n",
       "    .dataframe thead th {\n",
       "        text-align: right;\n",
       "    }\n",
       "</style>\n",
       "<table border=\"1\" class=\"dataframe\">\n",
       "  <thead>\n",
       "    <tr style=\"text-align: right;\">\n",
       "      <th></th>\n",
       "      <th>description</th>\n",
       "      <th>host_about</th>\n",
       "      <th>unlisted</th>\n",
       "      <th>language</th>\n",
       "    </tr>\n",
       "    <tr>\n",
       "      <th>index</th>\n",
       "      <th></th>\n",
       "      <th></th>\n",
       "      <th></th>\n",
       "      <th></th>\n",
       "    </tr>\n",
       "  </thead>\n",
       "  <tbody>\n",
       "    <tr>\n",
       "      <th>1</th>\n",
       "      <td>This is a shared mixed room in our hostel, wit...</td>\n",
       "      <td>Alojamento Local Registro: 20835/AL</td>\n",
       "      <td>0</td>\n",
       "      <td>en</td>\n",
       "    </tr>\n",
       "    <tr>\n",
       "      <th>2</th>\n",
       "      <td>O meu espaço fica perto de Parque Eduardo VII,...</td>\n",
       "      <td>I am friendly host, and I will try to always b...</td>\n",
       "      <td>1</td>\n",
       "      <td>pt</td>\n",
       "    </tr>\n",
       "    <tr>\n",
       "      <th>3</th>\n",
       "      <td>Trafaria’s House is a cozy and familiar villa ...</td>\n",
       "      <td>I am a social person liking to communicate, re...</td>\n",
       "      <td>1</td>\n",
       "      <td>en</td>\n",
       "    </tr>\n",
       "    <tr>\n",
       "      <th>4</th>\n",
       "      <td>Apartamento Charmoso no Chiado, Entre o Largo ...</td>\n",
       "      <td>Hello!_x000D_\\nI m Portuguese and i love to me...</td>\n",
       "      <td>0</td>\n",
       "      <td>pt</td>\n",
       "    </tr>\n",
       "    <tr>\n",
       "      <th>5</th>\n",
       "      <td>Joli appartement  en bordure de mer.&lt;br /&gt; 2 m...</td>\n",
       "      <td>Nous sommes une famille avec deux enfants de 1...</td>\n",
       "      <td>0</td>\n",
       "      <td>fr</td>\n",
       "    </tr>\n",
       "  </tbody>\n",
       "</table>\n",
       "</div>"
      ],
      "text/plain": [
       "                                             description  \\\n",
       "index                                                      \n",
       "1      This is a shared mixed room in our hostel, wit...   \n",
       "2      O meu espaço fica perto de Parque Eduardo VII,...   \n",
       "3      Trafaria’s House is a cozy and familiar villa ...   \n",
       "4      Apartamento Charmoso no Chiado, Entre o Largo ...   \n",
       "5      Joli appartement  en bordure de mer.<br /> 2 m...   \n",
       "\n",
       "                                              host_about  unlisted language  \n",
       "index                                                                        \n",
       "1                    Alojamento Local Registro: 20835/AL         0       en  \n",
       "2      I am friendly host, and I will try to always b...         1       pt  \n",
       "3      I am a social person liking to communicate, re...         1       en  \n",
       "4      Hello!_x000D_\\nI m Portuguese and i love to me...         0       pt  \n",
       "5      Nous sommes une famille avec deux enfants de 1...         0       fr  "
      ]
     },
     "execution_count": 17,
     "metadata": {},
     "output_type": "execute_result"
    }
   ],
   "source": [
    "def detect_language(text):\n",
    "    try:\n",
    "        return detect(text)\n",
    "    except:\n",
    "        return \"Unknown\"\n",
    "\n",
    "train[\"language\"] = train[\"description\"].apply(detect_language)\n",
    "train.head()"
   ]
  },
  {
   "cell_type": "code",
   "execution_count": 18,
   "metadata": {},
   "outputs": [
    {
     "data": {
      "image/png": "[encoded data removed]",
      "text/plain": [
       "<Figure size 720x432 with 1 Axes>"
      ]
     },
     "metadata": {
      "needs_background": "light"
     },
     "output_type": "display_data"
    }
   ],
   "source": [
    "language_counts = train[\"language\"].value_counts()\n",
    "\n",
    "plt.figure(figsize=(10, 6))\n",
    "sns.barplot(x=language_counts.index, y=language_counts.values, palette=\"viridis\")\n",
    "plt.title(\"Language Distribution\")\n",
    "plt.xlabel(\"Language\")\n",
    "plt.ylabel(\"Count\")\n",
    "plt.xticks(rotation=45)\n",
    "plt.show()"
   ]
  },
  {
   "cell_type": "code",
   "execution_count": 19,
   "metadata": {},
   "outputs": [
    {
     "data": {
      "text/plain": [
       "array(['en', 'pt', 'fr', 'es', 'de', 'no', 'da', 'sv', 'it', 'ca',\n",
       "       'zh-cn', 'nl'], dtype=object)"
      ]
     },
     "execution_count": 19,
     "metadata": {},
     "output_type": "execute_result"
    }
   ],
   "source": [
    "train[\"language\"].unique()"
   ]
  },
  {
   "cell_type": "markdown",
   "metadata": {},
   "source": [
    "'en': English \n",
    "'pt': Portuguese\n",
    "'fr': French\n",
    "'es': Spanish\n",
    "'de': German\n",
    "'da': Danish\n",
    "'no': Norwegian\n",
    "'sv': Swedish\n",
    "'it': Italian\n",
    "'ca': Catalan\n",
    "'zh-cn': Chinese (Simplified)\n",
    "'nl': Dutch"
   ]
  },
  {
   "cell_type": "code",
   "execution_count": 20,
   "metadata": {},
   "outputs": [
    {
     "data": {
      "image/png": "[encoded data removed]",
      "text/plain": [
       "<Figure size 576x576 with 1 Axes>"
      ]
     },
     "metadata": {},
     "output_type": "display_data"
    }
   ],
   "source": [
    "unlisted_counts = train['unlisted'].value_counts()\n",
    "\n",
    "# Plotting the pie chart for the 'unlisted' column\n",
    "plt.figure(figsize=(8, 8))\n",
    "plt.pie(unlisted_counts, labels=unlisted_counts.index, autopct='%1.1f%%', startangle=140, colors=['skyblue', 'lightcoral'])\n",
    "plt.title('Distribution of Listed vs. Unlisted')\n",
    "plt.axis('equal')  \n",
    "plt.show()"
   ]
  },
  {
   "cell_type": "code",
   "execution_count": 25,
   "metadata": {},
   "outputs": [
    {
     "name": "stdout",
     "output_type": "stream",
     "text": [
      "Unique small words and punctuation marks:\n",
      "['고', 'И', '7h', 'yn', '분임', 'k', '치고', 'Ah', '글을', 'cc', 'sì', 'ㅜㅜ', 'Sė', '五星', 'Là', '热情', '4d', 'SO', '넘어', '소형', '찾던', 'ne', 'D', 'x', 'io', '맛이', '복층', '钱包', 'Ai', '위의', '2c', 'Av', '외부', 'lé', 'Ju', 'kw', '벽도', '짧지', '四楼', 'й', '词典', '조곰', '공간', 'LM', '겁나', 'øl', 'Is', '에어', '핸들', '》', 'ㅐ비', 'M', '한참', '¡', '평졈', '묵고', '🛏', '잠이', '창은', '전체', '够热', 'tp', 'MA', '집들', '남을', 'ΣΕ', '🤔', '🧐', '창도', '갔덙', 'ㅏ란', '�', 'Fe', '첫', '작고', '쥬고', 'Et', 'ㅓ', '낯선', '비용', '💍', '潮湿', '쫍은', '멋짐', '뷰를', 'er', '들지', '油', '有2', '구분', '3h', '탈수', '4시', '오일', 'CH', '👐', '跟', '😭', 'το', '풀', '購物', '不錯', '고루', '방식', '법과', '만두', '등도', '‼', '칼', '20', '77', 'cç', '😖', '整齊', '얻기', '82', '끈뎨', '묵는', 'zo', '없기', '과거', 'oF', 'בו', 'ír', '꼐딴', 'jn', 'ma', '야간', '몸을', 'Pt', 'ES', '목욕', '쉽지', '细心', '묵다', 'rd', '짐도', 'yı', '«', '남', '됨안', '단', '好', '어쩔', '쥔쨔', 'A5', '🇩', '́', '납븐', 'os', '쬬쿪', 'JK', '채광', '대해', '출발', '67', '빵읺', '🍪', 'на', '이불', '1H', '키를', 'nB', 'SÅ', 'Ça', '．', '온갖', 'Zi', '계획', 'EY', '좁지', '그옆', '22', 'LV', 'Mø', '🌟', '원룸', '🌱', '진쫘', 'DJ', '뷰도', '쇼핑', '״', '댜', 'AD', 'iw', '다시', '묵어', '잊고', '💑', 'RD', '여자', 'We', '원할', 'að', 'Pb', '점도', '넒묾', '타기', '죽는', '도달', '물잉', '미리', 'ty', '走路', 'me', '넘후', '提示', '힘든', '🏡', '좋지', '엄마', '✔', '55', '나고', 'эл', '88', '쬲나', '봤음', '투어', '뒤', 'Sd', 'PA', 'Es', '马桶', '내로', '땨른', '방만', '덥지', '오는', 'ur', 'BQ', 'L', 'AM', '잘때', '많을', '멀리', 'öV', '갈뻔', '购物', '듣고', '불이', '났고', '1o', '서서', 'He', 'Sè', '햄', '각오', 'Cz', 'ø', '들고', '마저', '😑', '없는', '묵을', '앞에', '찾아', '만남', '해요', '별로', 'Un', '층', '손님', '오심', '하실', 'In', '＋', 'og', '85', 'За', 'у', '🚻', 'll', '할수', '℅', 'vu', '7', '🤯', 'мы', '주소', '남겨', 'ça', 'т', '윗집', '관리', '술집', 'Js', '제게', '28', '포함', '방울', 'UL', '짱짱', 'D7', '공원', 'Fá', 'IG', '아닌', 'JM', '내색', '쪼금', '<', '휴기', '마중', '알게', '여긴', 'fu', 'dì', '👋', 'DW', 'ม', '것도', '4k', '입에', '작은', 'pu', '망치', '🧼', '야깐', '싱글', '꽤나', '최근', '无', '져는', '7세', 'b', '🎶', '위촉', 'tt', 'Ó', '뷰와', '거듭', 'Îl', '직접', '분들', 'tê', '서핑', '맞을', '4박', '봐서', '쪽을', '😇', '🙌', '🎁', '若有', '일부', '위취', 'ый', '거임', '🍷', '내가', '청경', '룸도', 'IK', '나간', '2k', '☔', '해도', '나지', 'Já', 'Uh', '🎒', '시설', '가길', '感谢', '데', 'GG', 'Т', '어린', '식기', '🌴', 'xD', 'GF', '區內', '에코', '별도', 'να', '예쁨', 'må', 'D1', '사기', 'Zu', '드', 'jM', 'HQ', '법', '급한', '김치', '갓', '없을', '무난', 'PS', '3D', '◡', '🐭', '생활', '냠쟈', '다', '함깨', 'm', 'sC', 'MK', ']', '내내', 'bq', '고생', '94', '😳', 'що', '🚿', '뷰는', '\\uf04a', '깨끗', 'VI', '턕띠', '😋', '4H', 'О', '횐풍', 'pP', 'Er', '되요', 'Of', 'NH', '말할', '씻을', 'ิ', '안나', '1차', '치약', '뷰로', 'dª', '💜', '곳도', '점심', '전차', '겂낭', '👎', '정이', 'd', '🥣', '😘', '을', '감기', 'ู', '2개', '다한', '렌트', '흠', 'w', 'AT', '철제', '5h', '저', '큰거', 'vo', 'ST', '설탕', '물건', '요청', 'oü', 'nC', '좋을', 'En', '부터', '금', 'LG', '없고', '춥춥', 'EL', '접시', '고세', 'ld', '번쩍', 'xo', '거라', '€', 'ry', 'ak', '쵸큼', 'Um', '소요', '63', 'åt', '쫀냐', '짐을', 'Во', 'δε', '】', 'ok', 'NJ', '되며', '다리', '줌', '스윗', '겁이', 'vc', '„', '많고', '모여', 'Ta', '욕을', '냄새', 'Αν', '오전', '싶고', '이랑', '언떡', 'il', 'jà', '움직', '2x', '31', 'ㅡ', 'çà', 'Dl', '놓고', '펍에', '바깥', '분리', 'T5', '존재', '이곳', 'לא', '☕', 'oh', '밤', 'uz', '2분', '🙋', '갈곳', 'ZÉ', '방이', '열지', '얼리', '보면', 'JR', '추첢', '뭐', '3E', \"'\", 'JB', '절반', '예상', 'nè', 'הצ', 'cn', 'lê', '89', '가시', '맏길', '3F', 'ли', 'la', 'nt', '5s', '평균', '일러', 'UM', '《', '모든', '운전', '2a', '좋게', '️', '팁을', 'Ia', '한적', '_', '쉽진', '😸', '따륜', 'Hè', '냐욤', '따많', '됐음', '딱', '거고', 'MM', '💪', '\\u200c', '문이', '真是', 'po', '9e', '쓴', 'bó', 'в', '감수', '마다', '친한', '휴지', '열릴', '끄고', '❗', 'Ze', '6L', '외', '문에', 'οι', '팬이', '받을', '쉬러', '약속', '6분', 'ud', '잡기', '04', '반층', '\\u200b', '가긴', '🍃', '들어', 'li', 'lo', 'A', '보수', '방문', '옷을', '오르', 'ึ', 'ux', 'Ob', '멀긴', 'yp', '*', '층은', '적합', '일행', 'qü', '👏', '헤맬', '📱', '🤨', '나와', 'KY', '물로', '1B', '대형', '사간', '💥', '바', '고고', '알기', '비가', 'Ns', 'l', '5e', 'oq', 'тв', '🧘', '방과', '😅', '아침', '일몰', 'Pi', '기차', '옛날', '아주', '역사', '긴', 'XI', '알고', '아직', '💃', '끝', '낄이', '나온', '>', '잤을', 'ㅔ가', 'oí', '乾淨', '7m', '7j', '⛰', '1F', 'Ad', 'kt', '일단', '당장', 'ão', 'öt', 'hé', '제거', 'sí', 'RS', '현지', 'tr', 'NY', '즉', '저흰', 'ā', 'σε', 'ov', '두명', '같긴', '차랑', '锅铲', 'ti', 'TC', '츕고', '갔을', 'ıt', 'EC', '很棒', '전부', '|', '하루', '🙆', '측은', '단위', 'Iv', '🏾', '83', '两层', '넘나', 'Ф', 'à4', 'μά', 'Eh', '7u', '때는', '깔끔', 'Uw', '공항', '술에', '남짓', '쓸', '麥片', 'бы', 'T', '另外', '머물', '개를', '；', '아래', '굴뚝', '냄비', 'Á', '겨우', 'ג', '거기', 'ij', '차가', 'né', '\\U000e007f', 'VF', 'Kh', 'à', 'זה', 'K', '저는', 'là', '히히', 'ri', '不過', '약간', '졸금', '다닐', 'х', 'Qq', '구진', '광좡', '정돈', '우유', '잇어', 'Zb', '🤪', 'ww', '연인', 'dé', '47', 'B3', '팔고', '謝謝', 'з', '잊게', '단호', 'им', '새벽', '1s', '견뮬', '쓰지', '겸', 'тп', 'Ti', '뚸', '̈', 'JE', 'Pa', '缺点', 'sl', '구럼', '\"', '했던', 'ED', '蛋挞', '톤에', '🥴', '장기', '잡은', '파티', 'LU', 'зі', 'Ma', '춥고', '겪지', 'lg', '2월', '흑인', '3х', 'nd', 'na', 'fy', '35', 'nn', 'Bs', '포크', '🙇', 'dû', '바가', '내', 'Zé', '좋음', '💭', '슈퍼', '단지', 'wh', 'To', '쥔짜', '변기', 'π', '48', 'NL', '상가', 'Fé', '살기', '위', '갖춘', '밖', '낮고', '이걸', '더블', 'ни', 'мм', '큰짐', '바로', 'X', '결국', '이고', 'Pl', 'Vi', 'Ms', '빨', '수준', '분은', '없어', 'y', '🤮', '\\u2060', '加油', '휴', '됐다', '취소', '멈', '살', '켤', '아차', 'de', '욘락', 'cè', '5b', 'בצ', '3r', '좍은', 'JS', 'Qc', '일은', '공동', '줄까', '조지', '최대', 'ОН', '써서', 'é', '그린', '3G', '전반', '창만', '자꾸', 'ho', 'Ну', '하', '餐饮', '자면', '식사', '않아', 'PD', 'PQ', '3개', 'sq', '하진', '됐고', '감상', '때도', 'Up', 'v', '비추', 'da', '를', 'Ее', '舒服', '격의', '💻', '일딴', '픽업', '술', '일반', '家', '쉴수', '뿐', 'Į', '열뀨', '햬또', '열', '과연', '중에', '필', '1d', '이전', '감히', '방2', 'YO', '멋진', 'zn', 'נח', '않고', '오를', '4m', '싶은', '자주', '멀진', '4C', 'ft', '고른', '외진', 'ㅎㅎ', '세', 'IF', 'OY', '돌수', '有厅', 'Hi', '옵션', 'An', '위층', 'F', '98', 'Hs', '환불', '엘베', '볼수', '4x', 'bd', 'he', '내부', '눈이', 'OG', '0', 'aż', 'св', 'он', '18', 'Ü', '역도', '지붕', 'b4', '이상', 'go', '🌷', '이쁜', '길에', '쫠', 'wt', '소스', '놈모', 'OK', '찾은', 'ФК', '전날', '5º', '面吧', '낮', '⬛', '앞을', 'iT', '1C', '방법', '날이', 'Lo', '해욤', 'já', '문도', 'τα', 'KM', '입고', '소리', '🦜', '׳', '요리', '음', 'ke', '기본', 'xu', 'pe', 'pó', '무릐', 'lá', '소란', '넝뭉', '소금', '벨렝', '나옴', '된다', 'ch', '상징', '두개', '무료', 'pq', 'Dª', '2E', '딸랑', '👩', 'А', '술을', '차를', 'vb', '잉는', 'nå', 'FR', '장', '후회', '신속', '所以', '몫을', '记住', '뚫는', '거실', '하고', '제발', 'Мы', '자기', '걸을', '봐닥', '속에', '바리', '🌹', '지도', '크지', '여태', '의향', '등의', '새섥', 'ba', '쯩', '옷이', 'Mu', 'к', 'at', 'та', '因此', '쫙', 'hv', '번에', '올때', '숙소', '오갈', '🤤', 'OM', '머문', '뮬론', '짐', '곳은', '때가', '미쳐', 'ua', '절때', 'RJ', 'HS', 'cm', '싶을', '허위', '끈대', '시냐', 'ᴥ', '크게', 'eg', 'op', '🇫', 'До', '동안', 'UN', '高度', 'דה', '즐길', 'AA', '종점', '쪼꼼', '넓고', 'WP', '💚', '､', '더', '환상', '몇번', '便宜', 'uw', '1p', '혹', '當然', '건', '중의', '않은', '4º', 'Ps', '항상', '1h', '😏', '駅', '와는', '👠', '타올', '절댕', '이루', '😆', '보는', '선물', '소오', 'NW', 'H3', 'צ', '화상', '편한', 'uy', '늣게', 'Na', 'yu', '醋', '97', 'Lé', '들면', 'OJ', '펍도', '🚂', 'hi', 'нв', '믿고', 'ТВ', '3ο', '훨씬', '맛난', '의사', '줘서', '」', '저랑', '，', '빼곤', 'På', '一般', 'Jó', 'än', '높아', '히팅', '직전', '🗻', '놀고', '쯤', '같아', 'Zo', 'TE', 'xa', '은', '위해', 'QR', '쪼매', 'ω', '만족', '可是', '엄청', '08', '꼭', '없음', 'qq', '져녂', '답도', '답만', '🤸', '코앞', '법을', 'ot', '쪼꿈', '그닥', '쟘이', '넓지', '으', ';', ':', '불은', '린스', '벨을', '것만', '개미', '답게', '어느', 'fl', '역시', '눈', '쉬고', 'ki', '갈래', '물려', '餐厅', '아빠', 'Nl', '주말', '트랩', '했다', 'İt', 'ár', 'MV', 'zw', '거리', '전기', '그때', '🦁', '％', 'ΤΑ', '성당', 'A2', '수건', 'まず', '큰커', '근처', '72', '🌲', '其次', '타러', 'oú', 'це', '1G', '8월', '이동', 'gl', '7º', 'If', '49', 'it', '–', 'PJ', 'Qu', 'ph', '알찬', '안이', '자는', '돼야', '존똑', 'hs', '햬욥', '🙈', '말지', 'Jb', '39', '🇪', '🙃', '쥬볂', '요', '녀뮤', '제가', '安全', '저의', '점점', '쬬찌', '광장', '들', 'T3', 't4', '열어', 'Fl', '🤩', 'Об', '정할', '😀', '\\U0001faf6', 'af', 'be', '주고', '청', 'ha', '와', 'fé', '할땐', 'ㅠㅠ', '99', '8u', '5è', '싼게', '便利', '\\U000e0073', '캔', '며칠', '앙투', '점이', '挺近', 'á', '받죠', '1D', '54', '않게', 'Bé', '이번', '훼요', '샴프', 'Да', '굳이', '방도', 'oy', '꽤', '물은', '쪽씩', 'č', 'Mb', '메고', '🚵', '될듯', '할게', '🥐', '가끔', 'Nu', '이집', '빰엣', '🥧', 'n', '줄이', '!', '뷰가', '=', 'Hy', '30', '가지', '5L', '짧게', 'כ5', '집', '⁍', '답장', '읽고', 'se', 'AL', '우선', '성과', 'wd', '찐짜', '구해', '그는', '75', '베임', 'Re', 'jm', 'ª', '잠만', 'Uy', '얕은', 'եմ', '보낸', 'Św', 'F1', '很好', '짐만', '핸드', '客厅', '탄', 'Sh', '로', 'dx', 'jo', '말', 'Va', 'On', 'o', '뒤쪽', 'aa', '신식', '꺝귄', '뜨는', '퇴근', '完美', '다락', '끌기', '笑', '쑴', 'má', '1a', '층과', '역이', '보다', '자리', '후드', 'Há', '옛', '🤘', '다음', '9m', 'vy', 'tv', 'AU', '저를', '되어', '9a', 'LP', '3a', '편리', '팁이', '참을', 'so', 'Hé', '고정', 'sh', 'N8', '쫄라', '몽트', '27', '아츄', '8p', 'Xx', 'Üç', '인데', '넘게', '넣어', '역은', '펍이', 'או', '팁도', 'mn', '찾는', 'MG', '폭도', '데를', '추억', 'un', '🌳', 'ї', '60', '😩', '않는', '멀지', '되서', 'WE', 'zH', '오직', '동네', '여쟈', 'ㅔ', '🤗', '있지', '🇵', '주긴', '잔', 'a', 'C5', '✝', '💔', '타도', '6o', '얼음', '🤟', 'KG', '미팅', '길도', '물이', '위에', 'с', 'Sq', '있는', 'ом', '묶을', '달린', '이것', '방롱', '수왑', 'CM', '찾고', 'Nn', 'ca', '확인', '빌려', '8E', '배수', '明亮', 'if', 'cd', '놉고', '마치', '火腿', '한달', 'OA', '웅벌', '➕', 'Aí', 'Zè', 'je', '인지', '다들', '긜고', '외출', '🐕', '만든', '갑', '雨棚', '💤', '편에', '房东', '地铁', '🎄', 'et', '뿔꽃', '방', 'Ce', '제일', '벌레', '라면', '싱관', '95', '안부', '툼이', '먼지', 'ns', 'dB', 'tI', '整齐', '中文', 'ob', '계단', '주려', '등등', '얼마', 'ci', '타서', '점', '착함', 'Ez', 'IR', '오면', '😺', '洗衣', '3m', '저희', 'ต', '싫은', 'C', '안은', 'я', 'ET', '닫고', 'τ', 'パン', '铁轨', '찾지', '기대', '낡은', '응대', '짧은', 'פי', '90', '🍽', '❤', '습한', '날도', '전에', '천장', '🔴', '廚房', '冰箱', '마신', '마니', '😎', 'бо', '시', '쩡쩐', '살고', 'Io', '커요', '1O', '영어', '내는', '타고', '층인', '☼', '보기', 'SN', '45', 'да', 'ín', 'Jo', '【', '둘다', '无敌', 'WM', '干净', 'sp', '담긴', '편의', '❣', '한데', 'gr', '̴', '好像', '😬', '걷는', '받은', '틀고', 'في', '펍은', '답잉', 'θα', 'DT', 'YA', 'dz', 'Cu', '🚎', 'Ay', 'вы', '5층', 'CD', '쏙', '天哪', '7M', '높다', 'ı', '성이', 'Df', '你好', 'Bv', '🧡', '다룸', '순간', '별점', '왜', '♀', '2⁰', '보여', '방에', '내외', 'о', '요구', '만한', '리에', '다망', '타면', 'SC', '대힌', '8e', '있구', '수만', '있다', '5x', '편히', '알토', '잘못', 'Ea', '감고', 'ท', '1개', '12', '게', '갈거', '43', '아웃', '높교', '우리', 'Ie', '너머', '😡', 'HI', 'du', '설명', 'în', '전화', '곳만', '😴', 'Us', 'во', 'bp', 'DC', '외에', 'eb', '😃', '很累', '🙂', '🏠', 'LB', '땩', '마실', '올까', '타는', '졂교', 'mu', 'bf', '운이', '05', 'як', '🇰', '่', '2O', '건식', '삼일', '5E', 'TI', '유유', '유용', 'eh', 'NE', '09', '넓은', '92', 'CA', '잘해', '뼐류', '그냥', '인', 'ra', '닦고', 'És', '🌸', '치', '만나', 'O', '밖이', '꽝', '춪움', '과일', '전철', '暖气', '23', 'MY', 'גן', '잼', '“', 'او', '세요', '호텔', '🍿', '隔音', '뒈신', 'ws', '로컬', '대신', '😌', '힘들', '손을', '근방', '첨엔', '분도', '총', '우뿨', '도보', '다녀', '잼과', 'Dû', 'Eb', '타야', '지금', 'rh', 'EG', '기분', '같을', '공기', 'el', 'lā', 'Vu', '매번', '🛍', '3A', 'ㅇ', 'JJ', '💗', '제', 'bè', '谢谢', 'ah', 'ow', '군데', '6m', '์', '확정', 'bz', '점과', 'ew', '산', 'ô', 'LL', 'xx', '걸린', '🏿', '후기', 'oÄ', '덕에', '장점', 'Ci', '사이', '좋', 'же', '잠깐', '힘이', 'iż', '끌고', '—', '개인', '🌼', '괜츈', 'ので', 'งท', '캡슐', '못한', 'Z', '또한', '2х', 'no', '티도', 'ND', '씻고', '깊은', '🇭', '남자', 'té', '모두', '신경', '나가', '2명', 'Ki', '공사', '美甲', 'AP', '책도', '酒吧', 'DG', '틈이', 'gh', 'ih', '방을', '버터', '다소', 'вв', '찾을', '🎂', 'UK', 'vê', 'Eg', 'dh', '단점', '✅', '№', '和', 'yy', 'hm', '우편', '맡아', '강', 'GS', '미로', '밤에', '앉게', '끄는', 'is', 'MJ', '늦은', '그럼', '와인', '❌', '드는', 'tó', '따만', 'IE', '옆엔', '짜진', '好评', '찾기', '🥖', 'VR', '개선', 'יש', '팁', '🚉', '웰컴', 'על', 'ya', 'SR', '행', '잘수', '칼도', 'Ok', '여행', '줘요', '벨렘', 'Os', 'wc', 'BP', '모른', '🌅', '묶고', '모토', 'By', 'из', '되면', '쯤에', '드린', '🌞', '매일', '예약', 'zé', '밋진', '단어', 'Dá', 'με', '들도', 'و', '빼고', '저두', 'öl', '히터', '상시', '톨', '일쩡', '놀', '내릴', '족금', '보임', '巴士', '交通', 'by', 'HM', '아니', 'VP', '이건', '맞춰', '🚊', '눈에', 'е', 'Pd', '奶酪', 'SW', '주인', '優點', '암툰', '$', '밑', '물도', '06', '된', '문', '성', '평소', 'ER', '병도', '6Y', '가죽', 'sn', 'ny', '大连', 'BT', '에', '전망', '5u', '풍경', 'AH', 'γη', '써야', '設施', '🥰', 'It', 'AS', '지구', 'La', '(', '먹는', '정', '큼', '2일', '可爱', '꺼', '치기', '하필', '짧고', '그외', 'od', '59', '높고', '현재', '面膜', 'że', 'xq', '좁고', '아마', '씬', '분을', '2j', '̛', '§', 'Tv', 'dá', '역', '침구', '9y', '근교', 'AV', 'شي', '치울', '매우', '餐廳', '심', '😔', '생겨', '熱情', '보호', '최종', '💦', 'ht', '86', '함정', 'רק', '68', '三层', '그게', '트램', '계신', '🖤', '쉬운', '중심', 'Bc', 'зв', '\\U0001faf2', '힘듬', '3o', '탈', 'Uf', '숫자', 'η', 'Or', '넘흣', '침대', '整洁', 'bg', 'Ap', '01', '9h', '분', '07', 'gs', '맨날', 'ía', '저도', '지나', 'tn', '기억', '퇴실', 'LX', '큰', '41', 'ㄴ', 'но', 'sr', 'ще', 'tá', '차에', '나름', '0층', '놀기', '날뻔', 'Ко', 'ol', '훌륭', 'mv', '🌻', '놓을', 'ts', '심한', '여성', '야는', 'i', '괜히', '오픈', '마계', '🙁', '수록', '☀', '超赞', 'pd', '미친', '빵들', '차량', '워낙', '도시', '🗺', '먜우', '-', 'Cc', '😮', 'ia', '날끈', '📢', '물을', 'Vê', '81', '그', 'VW', '🚌', '엄쳥', '가능', '가요', '구글', '现代', '것을', '。', '택시', '좁긴', 'E4', '부스', '烤箱', 'dó', '25', 'Qd', 'dn', '머리', '신축', 'Lu', '먹은', 'JG', '烟草', 'lì', 'Li', 'vr', '&', '😝', '🔝', '후에', 'bi', '나의', '立地', '𖤐', 'ně', 'SP', '좁은', '들릴', '🤣', 'Wo', 'pf', 'vd', '위생', '최소', 'OV', 'B', 'vs', '아슙', '혼자', 'pi', '핑고', '숙박', '넓어', '산타', 'BR', 'bs', '뭐든', '조명', '영상', '리타', '끝에', '😜', 'nó', '낮에', '주', '마켓', '☆', 'Tl', '분과', '컵반', '그걸', '티와', '사진', 'Td', '而且', 'ax', '💐', '4e', '아예', '찻길', 'V', 'fő', '같이', 'CE', 'XD', '볼', '키가', '도', '8m', '끈떼', 'ㅏ격', 'lV', '곳을', '🍀', '위한', '짐작', 'жд', '청결', '집을', '4K', '일어', 'Це', '早饭', 'KO', 'ㅠ', '뛰고', '빨리', '보통', 'sè', '도라', 'סה', '걸어', 'º', '﹏', '쉐시', 'wi', 'iv', '못해', '대로', '안되', 'Wr', '바쁜', '알려', 'HA', '암튼', '등은', '대비', 'zb', '창을', '루소', '노선', '좋고', '참고', '측에', '및', '치즈', '많이', 'Се', 'PL', '없이', 'we', 'С', 'Ut', '걷고', '날은', 'Te', '해야', 'c', 'ً', '软', '2º', '따라', '됡짉', '40', 'не', '층에', '🚋', '00', 'GE', '종료', 'Mt', '실고', '싶어', '🎥', '빵을', 'DR', '뭐가', '올라', '갖다', 'aj', '1m', 'PF', 'TB', 'őt', '🦟', '🦠', '6', '느낌', '홀홀', '։', '3g', '데에', '✈', '쓰던', '저것', '对了', 'tí', 'Od', '😊', '줘뉸', 'dr', '소파', 'ds', '5o', '묽이', '5m', '住所', '등이', '것두', '빠름', '지장', 'xl', 'bo', 'Ru', '🪳', 'ai', '그것', 'ga', '6x', 'N0', '답이', 'Af', '푸드', '점에', 'wo', '우버', 'عن', '/', '🇬', '잔뜩', 'WA', '관해', '돈을', '춰요', '자도', '酸奶', '3e', '차서', '¢', 'Fa', '#', '1박', '물', '빵빵', 'mr', 'Vh', 'הם', '좁아', '주방', 'om', '무링', '락이', '집잉', 'ii', '열쇠', '밪도', '뽱은', 'Их', '64', '처음', '나올', '싸서', '발을', 'så', '끄꺼', '사용', '돼서', '등과', '😻', '돌릴', '춥지', '귀에', '돈에', 'DL', 'Ws', '열을', '花园', '보니', 'Cç', '친구', 'NZ', '🪴', '`', '으자', '간', '不错', '에게', '좋은', '밝은', '가구', '흑', '4G', '정량', '가게', 'vz', '들려', 'CC', 'Må', '8a', '전혀', '비해', '감이', '지역', '취해', '真的', 'あと', '장소', '궁전', 'No', '한복', 'lb', '−', '🥶', '5일', '84', 'sF', 'Jm', 'Cs', 'ee', '😂', 'aí', '적극', '오니', 'RU', 'yö', 'עם', '🐱', '💙', '풀고', '70', '싫어', 'fo', '🧻', 'oû', '틀면', '지낸', 'yo', '⋯', 'ze', '일', '이어', '수법', 'PK', 'Σ', '优点', '设施', '통해', '일찍', '2е', 'ná', '상태', 'rr', '에나', '나서', '（', '💫', '만큼', '不大', '볼때', 'Pé', '볕이', '초큼', 'cu', '스텝', '안된', 'ap', 'Tb', '할', '테니', '참', '3k', '果酱', '켜면', 'NI', '오지', 'Ä', 'nl', 'Ту', 'ev', '주의', '…', '29', 'Vc', '나는', 'vi', 'br', 'עד', '빛이', '힙한', '청소', 'ID', '간게', 'lf', 'は', '?', '힘듦', '•', '딥이', '\\u200f', '😗', '🎨', '分鐘', '・', 'По', 'T2', '위로', '74', '줄', '65', 'A1', '2ª', '💟', 'ㅁ', '이내', '공개', '면도', '้', 'Yr', '8시', 'Jp', '모드', '정오', 'Fi', '👯', '漂亮', 'Rs', '3분', 'GB', '🇦', 'г', '관련', '올만', 'εν', '🏰', '🐟', '4명', '소품', '옷에', 'pk', 'и', 'В', '3d', '1일', 'NS', '티켓', 'SU', '세상', '연랅', '커버', 'Ja', '🉐', '^', '짱', 'כי', 'VE', '9H', 'Q', 'Им', '인해', '96', 'Lá', '2인', 'kb', 'ΜΕ', 'jr', 'Ou', 'dê', '줜나', 'eE', '满意', '경우', '그리', '여기', 'Τα', 'ás', '완전', '小', 'eu', '음료', '🕉', 'cf', 'ro', 'за', '꽉', '잠을', '밥을', 'aI', '사는', '酒', 'Xi', '2è', '⛵', 'ㅅ', '🤓', '온', 'Ot', '🧳', '가기', '창', 'wg', '할거', 'E1', '같음', 'sy', '부실', '골목', '87', 'wk', 'ja', '무슨', 'fe', '문잇', 'Id', '갈때', '도착', 'п', '죨라', '춥게', '밤을', 'AZ', 'Ur', 'As', '나', '？', 'Ov', 'Fx', 'Ba', 'ló', '힘듐', '발', '「', '맏아', '해결', 'σ', 'Tt', 'rv', '어요', 'em', 'TA', '코를', 'ей', 'Au', '원래', 'γι', 'ㅈ', 'a2', '服务', '명소', 'NB', '02', '橙汁', 'RA', '7분', 'vh', 'Ds', 'Té', '밥도', 'L6', '맨', '6h', '📲', '🏻', '🏖', '나무', 'ex', '돈', '가든', 'ä', '🏆', '3번', '룸', 'Ed', 'ею', '별', '배려', '饭店', 'pl', 'до', '일이', '아무', '38', 'ls', 'sa', '편도', '정도', '잊지', '♥', '듯', '잘한', '@', 'YU', 'pg', '동시', '뭣한', '사갈', '후추', '불', '함', '楼梯', 'VC', '🚶', '厨房', '여서', 'Οι', '원체', '수퍼', '2H', 'Ç', 've', 'OF', 'ce', '해준', '부디', '세번', 'Ac', '비번', 'TV', '윗층', 'â', 'ã', '달이', 'RI', 'pc', 'Só', '최고', '담빼', 'Ми', 'CB', '🧁', '\\U000e006c', '°', '전', '높굥', 'st', 'Xo', '앞이', '\\\\', 'Ik', '약한', '3x', 'es', '느낀', '거랑', '13', '달리', 'PT', '바와', '층간', 'ём', 'Я', '그에', 'RC', '누노', '🥲', 'ní', '무척', 'Be', '91', '51', 'ㄹ', 'BS', '답은', '도심', 'dj', '🚃', '🤫', 'ni', '단순', '일체', '갔고', '비행', 'A4', '할것', '파란', '⚠', 'sm', '강과', '숨', '并且', 'αν', '주심', '5l', 'Pó', 'DN', '그런', '뒤에', 'èn', '묵은', '봐도', '옆방', 'r', '😱', 'Ló', '믿음', 'CI', 'Tú', '앞집', '🪨', 'км', '오고', 'ย', 'EN', 'כך', 'tô', '💎', '9o', '밟꾜', 'és', 'ms', '먼저', '눈물', '물론', '라고', '4м', '키는', '불러', '꼽을', 'mb', '사서', '잠글', '19', 'ий', '검색', 'gå', 'צר', 'BA', '개가', 'є', '糖', '💯', 'I', '했을', '2o', 'DK', '마뉘', '哦', '🙏', '🤍', '진', '헌집', 'où', 'VU', '맵에', '좋진', 'ir', 'і', '그건', '버정', 'ay', '4일', '이뻐', 'Wé', '뭔가', 'Он', '높이', '2D', '牛奶', 'З', '올수', '🖒', '욕실', '很美', 'of', '약해', '推', '이쪽', '집앞', 'gi', '̂', '걍', '높지', '˜', '쬐끔', 'út', 'Î', 'gb', '很冷', '마리', 'ух', '숙쏘', 'wa', '밖에', '교통', 'Pr', '식탁', 'WC', '신발', '대한', '것은', '여는', 'FI', 'ст', '취한', '천년', '간접', 'AR', '특히', '로비', '🤷', 'Sò', '열차', '예쁜', '3º', '等', '밥과', '1인', '관광', 'FX', '경험', '점만', '써도', '싶게', '약꺈', 'Ha', 'DM', '데뷔', '무', '6층', '这', '🐝', '朝阳', 'ik', 'EM', '😛', '迅速', '시간', '🍾', '안씀', 'об', '😞', '영깅', '總之', '절댃', 'ae', 'kā', 'AO', '동동', '엽서', 'då', '돠만', '싸면', 'VH', '딱임', '좀', 'де', 'Nº', 'แต', 'jb', '샤워', '맞나', '73', '해가', 'ко', '둘이', '58', '늦고', '말도', '과', 'Si', '꽃을', '작지', 'Mí', 'eT', '3H', 'IC', '깁께', 'Су', '3M', 'pè', 'Sí', 'x3', '몇', 'ez', '🍞', 'ù', '않자', 'Ct', '쿠', '여튼', '이를', 'се', '1f', '알던', '와도', '🔊', '높은', '씨가', '옥상', '드솔', '물씬', '🤌', '많지', '치신', '파두', 'ㅐ', '평일', 'și', '잇긴', '씻는', '눠무', 'λ', 'mo', '£', '차지', '😓', 'ั', 'as', '락', '果汁', 'pb', 'ЖД', 'JP', 'Rd', '宽敞', '\\ufeff', '구조', '나타', 'Má', '잠뀌', 'ти', '景點', '变', '🍊', '차', '없다', 'Em', '즉시', '동눼', '쎄개', '머', '안', '차다', '4층', 'К', '👞', '잠궈', '뽴희', '중요', '芝士', 'Еs', '팀의', 'ei', '한시', '체크', '💓', 'Ya', '뜍뚀', 'qm', '饼干', '올해', 'CO', '권고', 'už', 'Am', '가본', '통한', 'uh', 'Ex', '해당', '끼고', '단연', '고빵', '부엌', '한', '푹', 'ed', '방의', 'hu', 'ды', 'по', 'Sr', '点赞', 'z', '옆에', '편이', 'to', 'д', '내려', 'G', '단독', '̀', '너무', '닭맑', 'km', '3', '추가', '廁所', '가서', '1e', '날에', 'oK', 'Gx', '뽜똭', 'WI', '일도', '삐걱', 'אם', '벗고', 'TO', '잘', '餐馆', '외엔', '올', '지난', '葡文', '목재', '̃', '👍', 'ją', '먹고', '1º', '´', 'hf', 'Та', '물또', '옆인', '멀고', '몇장', '아에', '갸진', '32', '首先', '감성', '집기', '옮길', 'dd', '열고', 'jq', '좔', '香皂', 'Ni', '₽', 'MO', '2m', '얻고', 'on', 'Fr', 'MC', '사과', 'ี', '쾌적', '환경', 'м', '함께', 'ช', '꼐쑉', '📞', 'пл', '1A', '갈아', '없뀨', '🚗', 'că', '👨', '~', '하하', '가고', '🧗', '같고', '⭐', 'wr', '环境', 'ő', 'Il', '젥곩', '우측', '🕊', 'ye', '優格', 'sI', '☹', '🇺', 'Uk', '말고', '잡힘', '잊을', 'tä', '7층', '넘넘', 'ㅕ', 'tę', '해', '읬는', '있긴', 'BO', '였고', 'av', 'Så', '쪼끔', 'RE', '넒은', '2y', 'El', '않다', 'Jr', '쭉', 'uo', '늣께', '毛巾', '비단', 'BC', '편은', 'EV', '맛집', '중', 'PV', '선택', '그날', '주신', '음식', 'סי', '약', '열면', '어딜', 'My', '가장', '작성', '순', '무릎', '5y', 'iy', '층을', '今後', '6a', 'pp', '🎤', 'Ty', 'TM', 'Hu', '씻기', 'vé', 'WZ', 'ge', '아페', '먼', '4E', 'fi', '앞', '한번', '🎈', '낀', '이게', 'Wu', '환기', 'Qf', '洗漱', '잃게', '의', '2b', '😨', '는', '6y', '餐具', 'TY', '때와', 'Aa', '💞', '💨', '🐈', '🐐', '어디', 'x2', '03', '나을', '펼쳐', '할까', 're', '금방', '말이', 'ㆍ', '레알', '상', 'Є', 'тд', 'Da', '그룹', '자정', '안애', '但是', 'T4', 'lx', '뜬', '손에', '어떤', '바다', '있던', 'ただ', 'oä', '컷', '그거', 'Yu', 'PC', 'oo', '나쁜', 'dI', 'Wg', '추위', 'ок', '문화', '면과', 'NC', '만난', 'Oi', 'Ή', '양호', '편함', 'À', '忘记', '1l', '있게', 'si', '5D', '운', 'a5', '살짝', 'уж', '빽운', '安静', 'GT', '很大', '날', '⁎', '들림', '갈지', 'SF', '8H', '美丽', '집안', '🌍', '저곳', '🚬', '조븐', '감안', '더울', '또는', '쉬다', '간이', '닿지', '끊김', '̧', '우린', '1k', '듯한', '낼', '하기', '식빵', 'pm', 'си', '🍦', 'Öl', '🧚', '소음', 'Mi', '자고', '하니', 'ao', '♾', '건조', 'סך', '끈덹', '앉는', 'Za', 'Ir', '쿠쿵', '4D', '약을', '이후', 'ο', 'T1', 'ΟΙ', '舒适', 'Ar', '오븐', 'её', 'ZU', '친절', 'Gh', '진짜', '한쪽', 'q', 'די', '따로', '몸이', '틀린', '빨래', 'Ő', '잼만', '🤕', '온듯', '،', '✌', '☮', '떠날', '%', '우', 'งม', '👀', 'Sa', '줠라', '못할', '맘에', '도구', '적은', '날짜', 'ไม', 'pa', 'św', 'RF', 'ไว', '분만', '61', 'rt', 'È', '담에', '🥞', 'ie', '기와', 'Ww', 'år', '새똥', '건물', 'js', '가던', 'Th', 'IT', '막', '주로', '다를', 'ΤΟ', 'BZ', '🍹', 'ק', '🎻', '환영', '34', '쵸쿰', 'BE', 'fã', '～', 'TD', 'ᴗ', 'Om', '징짱', '갖게', 'Gr', 'CV', '먼가', '등', '😕', 'Ee', '꼭꼭', '🦫', '⛱', 'id', '방해', '되게', '：', '불을', 'nr', 'rá', '4й', '药店', 'PH', '진심', '수도', '3일', '버스', '떠나', 'Ve', '벽에', 'en', '십분', '隨和', '분이', 'le', '길게', '또', '본', '빼면', '나를', '멀면', '57', '⁃', '부분', '하지', '겹칠', 'gd', 'אז', 'bb', 'אש', '것이', '시내', '문제', '깔린', 'ин', 'Dr', '번', '작동', 'בן', '답', '🤭', '조', 'tj', '26', '빵집', '온수', '뭘', 'ar', 'Gb', '5G', 'ré', '착한', '드릴', '딱히', '예를', '쉽고', 'זו', 'Ще', '푸른', '남음', '마트', '한껏', 'Ei', '덜', '문은', 'Mc', 'e', '💝', '»', '\\U0001fae7', '쓰면', '만약', '啤酒', '갈수', 'So', '房间', '돠', '3楼', 'Gå', '走5', '할인', '쇼파', 'L3', '골프', '입구', '끌꾸', 'IN', '되는', 'wy', '드실', '2d', '”', '말을', '지하', '부담', '난방', '얼른', 'BD', 'см', '묻고', '될것', '7A', '식당', '좁음', '평이', '16', '새서', '제공', '가는', '많은', 'כל', '탓에', '주요', '아닝', '훔', 'yr', '가득', 'WG', '기계', '빵에', '수는', '☺', '중형', '애를', '温馨', 'ты', '￼', '6p', '꽉찬', 'f', 'ss', '뮨을', '구경', '옆', 'zB', '좋아', '제외', 'på', '열림', '細心', '있어', '콸콸', '쌓인', '😉', '쓰고', 'Às', 'Με', 'τη', '🙄', '뷰', '쫆', 'mm', '4ᵉ', 'J', '🏴', 'rs', 'í', 'wf', '4o', 'hd', 'or', '🧽', 'ну', '뗄', '사다', 'cé', '벽이', '있음', '🎇', '혹시', '할때', '곳들', '셀프', '물의', '때', 'IH', '💋', '오후', 'én', '땐', 'Η', '갈', 'hr', '당일', '고급', '쉰내', 'bé', '♡', '😁', '불편', 'IS', 'US', 'їх', '했기', '전과', '키', '코', '🤜', '계속', 'al', 'ее', 'us', 'BG', '추운', '내에', 't2', '位置', '싸진', '보실', '‚', '죠큼', 'DO', '桌子', 'ñ', '주변', '있쒀', 'tą', '멋도', '업씀', '첨에', '잡을', '🍰', '5g', '다쳐', '앉에', '내의', '대충', '🌊', 'cá', '그가', 'in', '메인', '😄', 'xk', '하나', 'ip', '무려', 'qi', 'qe', '이나', 'Το', 'Wc', '용이', '안내', 'ví', '유료', '넘는', 'oD', '찾이', '훨', '💖', '터라', 'Ts', '벽을', 'mw', '[', 'PM', '방음', '생김', '세고', 'UG', 'Tu', '맡겨', '물품', 'чи', '🐬', '키면', 'եք', 'At', '치면', '✨', '조끔', 'šo', '폭이', '🤞', 'Du', '역과', 'тк', 'DA', '超好', '44', '0r', '4y', '너뮤', '뒈쉰', 'mì', 'б', '😍', '잘된', '동', '올릴', '👌', 'KR', '\\U000e0062', '耐心', '잠들', '이쌍', '棒', 'do', 'C4', '잡고', '점을', '¿', '面包', 'Ga', '37', 'ч', '有红', '않음', 'RB', '악취', 'E6', '🇨', 'jó', '한병', '5j', '거의', '복도', '해줄', '할쑤', 'É', '8n', '창이', '3박', '주위', '빙', 'MI', '구지', '잠은', 'Nr', 'バー', '자서', '룸에', '개', 'גם', 'EU', '7e', '처럼', 'dk', '일정', 'IV', '당긴', '가면', '🤎', '8C', '양념', '두면', '아님', '总之', '33', 'è', '맥주', '옷장', 'со', 'mí', '쓰긴', 'ko', '그점', '물과', '찰나', 'Nd', 'cq', '만', 'GO', 'nb', '위치', '데도', 'sé', '쉴', 'NO', '야경', '화장', '열린', 'ml', '36', '2p', '很赞', 'tb', '다신', 'ุ', '😥', 'fr', 'Θα', '위뤈', 'DI', 'u', '깨긴', 'bn', '葡', '와서', '3⁰', '방은', 'nä', '혼좌', '넚뭆', '으로', 'ks', 'Dé', 'าร', '창문', 'tl', '하면', 'Pe', 'Bu', 'ㅋㅋ', 'Me', 'my', 'FA', '먹을', '5개', '80', '另', 'İ', '보러', 'iI', '흑흑', 'mt', 'Yo', 'ці', 'th', '가야', 'np', '생긴', 'td', '1분', '해서', 'ו', '먼것', '병', '1도', 'zó', '4g', 'ou', 'HP', 'W', '든다', '👊', '다가', '끓구', '4인', '때면', 'só', '3층', 'Cd', '갖고', 'OR', 'gf', 'hè', '역을', '옷', '⛔', '2박', '벌', '쏘리', 'ở', '등을', '되고', '잠시', 'Az', 'zu', '50', '구운', '주차', '갔던', '밥', 'cN', '과자', '매직', '就是', '뜨면', 'añ', '돌길', '각종', '심할', '신대', '도마', '요소', '사악', 'ZB', '핫한', '실내', 'fx', '4h', 'bl', 'MS', '채', 'él', '👉', 'Mª', '🌄', 'яв', '11', 'ㄱ', '춥진', 'את', '까지', '저런', '두고', '8', '건데', '못지', '5p', '따순', 'ej', '붙여', '집도', 'lp', '×', '오줌', '\\U000e0077', '4분', 'DU', 'ly', '가', '대체', '껏', '샴푸', '추울', '맞아', '9', 'Tx', 'Mó', 'CG', 'XL', '듀변', 'AB', '21', '적이', '비록', '2A', '돼고', 'У', '≤', '🍳', 'Oz', '돈이', '友善', '음악', '62', '2G', '썩', 'Ae', 'XX', 'M6', '없게', '앉아', '카페', '한건', '오게', 'от', '차곤', '사항', '거림', '쌀', 'n2', 'va', 'TP', 'Â', '정리', '2t', '周到', '못', '역대', '2h', '축구', 'tè', 'Св', '느낄', '역에', 'ó', 'BH', '💘', '¨', '딸', 'få', 'Go', '·', '저고', '타실', '{', '남은', '±', '자쥬', '🍺', 'Kg', '15', 'HG', '🏼', 'Mq', '¤', 'Mo', 'לי', 'PR', '절대', '총평', '미니', 'Le', '져', '하긴', '.', '학', '쿠키', '\\xad', '두어', '추정', 'ac', '못감', '강이', '비키', '유명', '찍고', '강의', '둘', 'Og', '길을', 'Po', 'rb', '🔑', 'iz', '負責', 'อย', 'fà', '½', '鸡蛋', '밑에', 'IL', '눼시', '밤새', '다만', '노래', 'ad', '먹음', '수압', 'ê', '10', '싶다', '갖춰', '신고', '길만', 'НО', 'YT', '종종', '보낼', '좀더', 'Y', '몹시', '🔐', 'Со', 'MN', '켜도', '🏽', '중간', 'LC', '각', '도로', 'dm', '열때', 'N', 'tk', 'FB', 'VO', '눈뜸', '위햔', '인생', 'Из', '🍋', '아쉽', '그곳', '싫게', 'また', '中超', 'BY', '집에', 'j', '길은', '🥳', '크고', 'TL', 'Оч', '地鉄', '🍄', 'их', 'S', 'Op', '2e', '길로', '명', '빰에', '感謝', '宽厰', '赞', '≥', 'za', 'oa', 'H', '주진', '필수', '즉각', 'го', '이용', '3j', '싸고', 'lz', '😚', 'į', '방엔', '多的', 'ΘΑ', '쪽', '저녁', '번호', '쬐금', '쉬던', '집은', '⁶', '묵게', '밝고', '9u', 'te', 'її', 'פה', 'dà', '춥긴', '24', 'ff', '2s', '8h', 'Σε', '까진', 'בה', '이른', '46', '强推', '기타', '电车', '유럽', 'של', '짐이', 'ㅂ', '‘', '켜서', '다른', 'gg', '9欧', 'LZ', 'uk', '넘', 'гр', '뮬을', '꾕짱', '개에', '마약', '보고', '👃', 'um', '🚀', '갈까', '점은', '체감', 'Km', 'fm', '停车', '이', 'fa', 'UP', '곳이', 'а', '뭃이', '🇮', 'Do', '길', 'ON', '하는', '타월', 'BB', '옆이', 'sj', '감동', '앞의', 'Al', '남길', '것', '돌로', 'p', '집인', '블랙', '근데', '碗筷', 'τι', 'su', '더욱', '๑', 'lt', '비누', '코인', 'ét', 'ㅣ', '준', 'nu', '+', '세탁', '推薦', 'ή', '♂', '맺음', 'ÁL', '책', 'pò', '새로', '2B', 'Ab', 'dc', 'Tá', 'D2', 'pé', '쪽에', '말로', '걸로', '방향', '잘은', 'ln', '超棒', '→', '3y', 'CP', 'ми', '5분', '‑', 'Mr', '각각', '들른', '에그', '지미', '딸린', 'ju', '밤이', 'jp', 'Vo', 'há', 'Br', '다님', '번째', 'ΤΙ', '💕', 'AC', '않을', '키로', '56', '들러', '가격', 'am', '최신', '말모', '눈치', 'Vs', '저와', '꼴딱', '지낼', '굿', '🤢', '가니', 'Bo', 'kl', '수가', '열쇄', 'ду', '인듯', 'ку', 'tú', '좁을', '준비', '뿐만', '살지', '추천', 'm2', '곳', '구비', '가량', '내어', '사실', '편을', '예', '것에', 'Ô', '층이', 'pr', '吵', 'Où', '뱔찐', 'ΝΑ', 'IP', '보던', 'Cá', '언덕', '같은', 'ea', 'ㅎ', 'N1', '、', 'vá', '안돼', '날씨', '선에', 'Sb', '나방', ')', '피는', '침실', '튀어', 'qu', '죠음', 'Не', '🏝', '공용', '🌈', '1r', '집과', '噢', 'Ни', 'qr', 'аж', '🛴', '전용', '열기', 'Sá', '이유', '챙ㄱ', '5c', '팬은', '카드', 'Fè', 'bc', '했고', '민망', 'A8', '빵', '잠', '수', 'IM', '👫', '6х', '4개', 'Hh', '観光', 'ان', 'ÀS', '두', '장을', '🕺', '🌺', '받지', '지상', 'že', 'ж', '오든', 'ps', '3주', '반', '뺄쁘', 'JN', 'üç', '때를', '이틀', '여느', '5a', 'Но', '🇷', '52', 'κ', '2', '났던', '첫날', 'Gd', '하구', '모듀', '모습', '℃', 'au', 'kg', 'FM', '클럽', 'R', '커서', '오기', '모기', '나긴', '당시', '🍻', '}', '눈을', '긍데', 'E3', '곳에', '寬敞', '대', ',', '키고', '哈哈', '몇개', '뜨지', '혹은', '盐', '바닥', '69', 'NA', 'ç', '고장', '무지', '쉬울', 'כ', '버뜨', 'tm', '티비', 'fb', 'Tô', '美', '묺동', '뒷', 'אך', '🦋', 'x6', 'لـ', 'מה', '다면', '받진', '4j', '고민', '가족', 'bv', 'Je', 'От', '늘', 'sû', '\\U0001faf1', '😢', '전통', '하러', 'LD', '챙겨', '⚡', '싣고', 'E', '열자', '오른', '오실', '🤦', 'то', '’', '걸', '78', '집의', '노점', '●', '따서', '🔆', '당연', '！', 'ÖV', '폼발', '집이', '🍕', '아', 'ė', '싹', '1y', '맞게', 'hã', '연락', 'Są', 'RV', '추움', '讚讚', '후', '자칫', '앞인', 'บ', '거', '로망', 'T0', '놔요', '부족', '🤙', '쎄서', '当然', '새', 'Qs', '여러', '◉', '1x', 'HD', '😒', 'GH', '계실', '🇧', '나요', 'Zs', '돼요', '됨', '한층', '2층', 'Kl', 'át', '9시', '엄', 'St', '덮고', '推荐', '말한', 'Nb', '강력', '세제', 'pû', 'لا', '그의', '👻', '조금', '쓰는', '데가', 'רך', '받는', '언능', '뙤면', '🧿', '밤엔', '3è', '6e', 'Ο', 'S2', 'OH', 'JT', '가도', '大爱', 'Д', '안고', '욕조', '차로', '쪽문', 'Ao', '될', '많음', '찧긴', 'di', '🏄', '많기', '🥮', '개단', '6E', '🎀', '커피', 'BF', '맘', '水果', 'Im', 'är', 'Tg', '이라', '편할', '장판', 'קר', '좋다', 'לצ', '되지', 'ò', '′', '휴식', '비롯', '주는', 'iе', 'Bb', 'Вы', '하며', '일출', 'Lg', '42', '4ª', '강추', '너', '것과', '렌지', 'će', 'są', '👆', '입력', '생각', '꿀', '오래', '이면', 'QG', '정말', '슬슬', '곧', 'Lx', '위험', 'bt', 'Oh', '세서', '쪽은', 'VS', '실제', '하여', '화가', 'až', '🤛', '💩', '서로', '적', 'kö', '超市', '많아', 'lu', '뚀', '바디', 'či', '굳', 'ka', 'às', 'h', '66', '빠른', 'LO', '🔥', '것들', 'Ho', '있단', 'lå', 'На', 'ㅋ', 'ys', '글고', '5B', '쬭꿈', '그릇', '2C', '젥갃', '비운', '1', 'qd', 'Se', '있을', 'nº', '법도', '🥂', 'LA', '갃장', '주지', '나니', '4p', 'SE', '🤝', 'LR', '🐶', '완벽', '묵기', 'az', 'eo', '等等', '한국', '제꺼', '서고', '✊', 'OS', '든', '이런', 'То', 'JF', 'å', '듬', '짤', 's', '출구', 'mi', '4', 'SI', '했음', '팡팡', '적긴', '사람', '차단', '裝潢', '장난', 'JC', '🌉', 'Co', '麵包', 'Di', 'רב', '🇹', '있기', 'tu', '느께', 'ME', '76', '끊고', '그를', 'vó', '★', '에서', 'Ne', '놀다', '걱정', '오짐', '곳과', '綠茶', '수납', '문의', 't', 'HE', 'DE', '늦게', 'др', 'Eu', 'im', 'MB', '79', 'Ár', '안에', 'ㅏ', '절', '넊묶', '마음', '우비', '상상', '뷰나', 'Dc', '당만', '성인', '믿을', '真好', 'Ca', 'Pq', '5H', '응답', '5', '쓰기', 'ig', '보지', '창밖', '饭厅', '명동', 'Él', '쫌', '옷도', 'uf', '안심', '뭔', '쉽게', '飲食', '만날', '문을', 'ab', 'up', '🎷', 'JL', '문들', '🍒', '나갈', '하핳', '__', '맡길', '🎉', '5박', '🍴', '잠귀', 'II', '내고', 'Sé', '🍮', '14', 'yg', '😷', '\\U000e0067', '💛', '밟을', '만의', 'SA', '🥵', '귀를', '가진', 'จ', 'ту', 'IO', 'm²', '93', '\\u200d', '53', '치안', '대화', 'Wi', 'g', '담요', 'QB', 'àl', '찌끔', 'pt', 'bu', 'AN', '喜欢', '）', 'хв', 'HU', '실은', '인상', '71', '물만', '있고', 'ㄷ', 'an', 'co', 'Su', '쏘', '정땡', 'ta', '🌶', '조식', '比如', 'DS', 'CU', '으늠', '노란', '라는', '포국', 'Зв', 'De', '拖鞋', '잘땐', '方便', 'P', '1층', 'LE', '17', 'ut', 'U', '🚇', '옆집', 'Pç', '쬰나', '길이', '뺄때', '충분', 'кг', 'Ev', 'те']\n"
     ]
    }
   ],
   "source": [
    "def find_unique_matches(data, column):\n",
    "    # Convert column data to string type (handle NaN values gracefully)\n",
    "    column_data = data[column].astype(str)\n",
    "    \n",
    "    # Concatenate all comments into a single string\n",
    "    all_comments = ' '.join(column_data)\n",
    "    \n",
    "    # Define a regular expression pattern to match small words and punctuation marks\n",
    "    pattern = r'\\b\\w{1,2}\\b|[^\\w\\s]'\n",
    "    \n",
    "    # Find all matches of the pattern in the concatenated string\n",
    "    matches = re.findall(pattern, all_comments)\n",
    "    \n",
    "    # Return unique matches using a set comprehension\n",
    "    return set(matches)\n",
    "\n",
    "\n",
    "unique_matches = find_unique_matches(train_reviews, 'comments')\n",
    "\n",
    "# Print the unique small words and punctuation marks\n",
    "print(\"Unique small words and punctuation marks:\")\n",
    "print(list(unique_matches))\n"
   ]
  },
  {
   "cell_type": "code",
   "execution_count": null,
   "metadata": {},
   "outputs": [],
   "source": []
  }
 ],
 "metadata": {
  "kernelspec": {
   "display_name": "Python 3 (ipykernel)",
   "language": "python",
   "name": "python3"
  },
  "language_info": {
   "codemirror_mode": {
    "name": "ipython",
    "version": 3
   },
   "file_extension": ".py",
   "mimetype": "text/x-python",
   "name": "python",
   "nbconvert_exporter": "python",
   "pygments_lexer": "ipython3",
   "version": "3.9.7"
  }
 },
 "nbformat": 4,
 "nbformat_minor": 2
}
